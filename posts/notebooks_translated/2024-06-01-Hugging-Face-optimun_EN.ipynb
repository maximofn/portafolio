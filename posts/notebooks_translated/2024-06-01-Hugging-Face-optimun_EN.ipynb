{
      "cells": [
            {
                  "cell_type": "markdown",
                  "metadata": {},
                  "source": [
                        "# Hugging Face Optimun"
                  ]
            },
            {
                  "cell_type": "markdown",
                  "metadata": {},
                  "source": [
                        "Optimum is an extension of the [Transformers] library (https://maximofn.com/hugging-face-transformers/) that provides a set of performance optimization tools for training and inference models on specific hardware with maximum efficiency.\n",
                        "\n",
                        "The AI ecosystem is evolving rapidly and more specialized hardware is emerging every day along with its own optimizations. Therefore, `Optimum` allows users to efficiently utilize any of this HW with the same ease as [Transformers](https://maximofn.com/hugging-face-transformers/)."
                  ]
            },
            {
                  "cell_type": "markdown",
                  "metadata": {},
                  "source": [
                        "This notebook has been automatically translated to make it accessible to more people, please let me know if you see any typos.\n",
                        "\n",
                        "Optimmun` allows optimization for the following HW platforms:\n",
                        "\n",
                        " * Nvidia\n",
                        " * AMD\n",
                        " * Intel\n",
                        " * AWS\n",
                        " * TPU\n",
                        " * Havana\n",
                        " * FuriosaAI\n",
                        "\n",
                        "It also offers acceleration for the following open source integrations\n",
                        "\n",
                        " * ONNX runtime\n",
                        " * Exporters: Export Pytorch or TensorFlow data to different formats such as ONNX or TFLite\n",
                        " * BetterTransformer\n",
                        " * Torch FX"
                  ]
            },
            {
                  "cell_type": "markdown",
                  "metadata": {},
                  "source": [
                        "## Installation"
                  ]
            },
            {
                  "cell_type": "markdown",
                  "metadata": {},
                  "source": [
                        "To install `Optimum` simply run:\n",
                        "\n",
                        "``` bash\n",
                        "pip install optimum\n",
                        "```\n",
                        "\n",
                        "But if you want to install it with support for all HW platforms, you can do it like this\n",
                        "\n",
                        "|Accelerator |Installation|\n",
                        "|---|---|\n",
                        "|ONNX Runtime |`pip install --upgrade --upgrade-strategy eager optimum[onnxruntime]`|\n",
                        "|Intel Neural Compressor |`pip install --upgrade --upgrade-strategy eager optimum[neural-compressor]`|\n",
                        "|OpenVINO |`pip install --upgrade --upgrade-strategy eager optimum[openvino]`|\n",
                        "|NVIDIA TensorRT-LLM |`docker run -it --gpus all --ipc host huggingface/optimum-nvidia`|\n",
                        "|AMD Instinct GPUs and Ryzen AI NPU |`pip install --upgrade --upgrade-strategy eager optimum[amd]`|\n",
                        "|AWS Trainum & Inferentia |`pip install --upgrade --upgrade-strategy eager optimum[neuronx]`|\n",
                        "|Havana Gaudi Processor (HPU) |`pip install --upgrade --upgrade-strategy eager optimum [habana]`|\n",
                        "|FuriosaAI |`pip install --upgrade --upgrade-strategy eager optimum[furiosa]`|\n",
                        "\n",
                        "the `--upgrade --upgrade-strategy eager` flags are needed to ensure that the different packages are upgraded to the latest possible version."
                  ]
            },
            {
                  "cell_type": "markdown",
                  "metadata": {},
                  "source": [
                        "Since most people use Pytorch on Nvidia GPUs, and especially since Nvidia is what I have, this post is going to talk only about the use of `Optimun` with Nvidia GPUs and Pytorch."
                  ]
            },
            {
                  "cell_type": "markdown",
                  "metadata": {},
                  "source": [
                        "## BeterTransformer"
                  ]
            },
            {
                  "cell_type": "markdown",
                  "metadata": {},
                  "source": [
                        "BetterTransformer is a native PyTorch optimization for x1.25 to x4 speedup in Transformer-based model inference."
                  ]
            },
            {
                  "cell_type": "markdown",
                  "metadata": {},
                  "source": [
                        "BetterTransformer is an API that allows you to take advantage of modern hardware features to accelerate the training and inference of transformer models in PyTorch, using more efficient and `fast path` attention implementations of the native `nn.TransformerEncoderLayer` version of `nn.TransformerEncoderLayer`.\n",
                        "\n",
                        "BetterTransformer uses two types of accelerations:\n",
                        "\n",
                        " 1. `Flash Attention`: This is an implementation of `attention` that uses `sparse` to reduce computational complexity. Attention is one of the most expensive operations in transformer models, and `Flash Attention` makes it more efficient.\n",
                        " 2. `Memory-Efficient Attention`: This is another implementation of attention that uses the `scaled_dot_product_attention` function of PyTorch. This function is more memory-efficient than the standard PyTorch implementation of attention.\n",
                        "\n",
                        "In addition, PyTorch version 2.0 includes a native scaled point product attention operator (SDPA) as part of `torch.nn.functional`.\n",
                        "\n",
                        "Optimmun provides this functionality with the `Transformers` library."
                  ]
            },
            {
                  "cell_type": "markdown",
                  "metadata": {},
                  "source": [
                        "### Inference with Automodel"
                  ]
            },
            {
                  "cell_type": "markdown",
                  "metadata": {},
                  "source": [
                        "First let's see how the normal inference would be with `Transformers` and `Automodel`."
                  ]
            },
            {
                  "cell_type": "code",
                  "execution_count": 1,
                  "metadata": {},
                  "outputs": [
                        {
                              "name": "stderr",
                              "output_type": "stream",
                              "text": [
                                    "Setting `pad_token_id` to `eos_token_id`:50256 for open-end generation.\n"
                              ]
                        },
                        {
                              "data": {
                                    "text/plain": [
                                          "'Me encanta aprender de la vie de la vie de la vie de la vie de la vie de la vie de la vie de la vie de la vie de la vie de la vie de'"
                                    ]
                              },
                              "execution_count": 1,
                              "metadata": {},
                              "output_type": "execute_result"
                        }
                  ],
                  "source": [
                        "from transformers import AutoTokenizer, AutoModelForCausalLM\n",
                        "\n",
                        "checkpoint = \"openai-community/gpt2\"\n",
                        "tokenizer = AutoTokenizer.from_pretrained(checkpoint)\n",
                        "model = AutoModelForCausalLM.from_pretrained(checkpoint, device_map=\"auto\")\n",
                        "\n",
                        "tokenizer.pad_token = tokenizer.eos_token\n",
                        "\n",
                        "input_tokens = tokenizer([\"Me encanta aprender de\"], return_tensors=\"pt\", padding=True).to(\"cuda\")\n",
                        "output_tokens = model.generate(**input_tokens, max_length=50)\n",
                        "\n",
                        "sentence_output = tokenizer.decode(output_tokens[0], skip_special_tokens=True)\n",
                        "sentence_output"
                  ]
            },
            {
                  "cell_type": "markdown",
                  "metadata": {},
                  "source": [
                        "Now we see how it would be optimized with `BetterTransformer` and `Optimun`.\n",
                        "\n",
                        "What we have to do is to convert the model using the `transform` method of `BeterTransformer`."
                  ]
            },
            {
                  "cell_type": "code",
                  "execution_count": 2,
                  "metadata": {},
                  "outputs": [
                        {
                              "name": "stderr",
                              "output_type": "stream",
                              "text": [
                                    "The BetterTransformer implementation does not support padding during training, as the fused kernels do not support attention masks. Beware that passing padded batched data during training may result in unexpected outputs. Please refer to https://huggingface.co/docs/optimum/bettertransformer/overview for more details.\n",
                                    "Setting `pad_token_id` to `eos_token_id`:50256 for open-end generation.\n"
                              ]
                        },
                        {
                              "data": {
                                    "text/plain": [
                                          "'Me encanta aprender de la vie de la vie de la vie de la vie de la vie de la vie de la vie de la vie de la vie de la vie de la vie de'"
                                    ]
                              },
                              "execution_count": 2,
                              "metadata": {},
                              "output_type": "execute_result"
                        }
                  ],
                  "source": [
                        "from transformers import AutoTokenizer, AutoModelForCausalLM\n",
                        "from optimum.bettertransformer import BetterTransformer\n",
                        "\n",
                        "checkpoint = \"openai-community/gpt2\"\n",
                        "tokenizer = AutoTokenizer.from_pretrained(checkpoint)\n",
                        "model_hf = AutoModelForCausalLM.from_pretrained(checkpoint, device_map=\"auto\")\n",
                        "\n",
                        "# Convert the model to a BetterTransformer model\n",
                        "model = BetterTransformer.transform(model_hf, keep_original_model=True)\n",
                        "\n",
                        "tokenizer.pad_token = tokenizer.eos_token\n",
                        "\n",
                        "input_tokens = tokenizer([\"Me encanta aprender de\"], return_tensors=\"pt\", padding=True).to(\"cuda\")\n",
                        "output_tokens = model.generate(**input_tokens, max_length=50)\n",
                        "\n",
                        "sentence_output = tokenizer.decode(output_tokens[0], skip_special_tokens=True)\n",
                        "sentence_output"
                  ]
            },
            {
                  "cell_type": "markdown",
                  "metadata": {},
                  "source": [
                        "### Inferecncy with Pipeline"
                  ]
            },
            {
                  "cell_type": "markdown",
                  "metadata": {},
                  "source": [
                        "As before, we first see how the normal inference would be with `Transformers` and `Pipeline`."
                  ]
            },
            {
                  "cell_type": "code",
                  "execution_count": 3,
                  "metadata": {},
                  "outputs": [
                        {
                              "data": {
                                    "text/plain": [
                                          "[{'score': 0.05116177722811699,\n",
                                          "  'token': 8422,\n",
                                          "  'token_str': 'stanford',\n",
                                          "  'sequence': 'i am a student at stanford university.'},\n",
                                          " {'score': 0.04033993184566498,\n",
                                          "  'token': 5765,\n",
                                          "  'token_str': 'harvard',\n",
                                          "  'sequence': 'i am a student at harvard university.'},\n",
                                          " {'score': 0.03990468755364418,\n",
                                          "  'token': 7996,\n",
                                          "  'token_str': 'yale',\n",
                                          "  'sequence': 'i am a student at yale university.'},\n",
                                          " {'score': 0.0361952930688858,\n",
                                          "  'token': 10921,\n",
                                          "  'token_str': 'cornell',\n",
                                          "  'sequence': 'i am a student at cornell university.'},\n",
                                          " {'score': 0.03303057327866554,\n",
                                          "  'token': 9173,\n",
                                          "  'token_str': 'princeton',\n",
                                          "  'sequence': 'i am a student at princeton university.'}]"
                                    ]
                              },
                              "execution_count": 3,
                              "metadata": {},
                              "output_type": "execute_result"
                        }
                  ],
                  "source": [
                        "from transformers import pipeline\n",
                        "\n",
                        "pipe = pipeline(task=\"fill-mask\", model=\"distilbert-base-uncased\")\n",
                        "pipe(\"I am a student at [MASK] University.\")"
                  ]
            },
            {
                  "cell_type": "markdown",
                  "metadata": {},
                  "source": [
                        "Now we see how to optimize it, for this we use `pipeline` of `Optimun`, instead of `Transformers`. In addition we must indicate that we want to use `bettertransformer` as accelerator."
                  ]
            },
            {
                  "cell_type": "code",
                  "execution_count": 4,
                  "metadata": {},
                  "outputs": [
                        {
                              "name": "stderr",
                              "output_type": "stream",
                              "text": [
                                    "The BetterTransformer implementation does not support padding during training, as the fused kernels do not support attention masks. Beware that passing padded batched data during training may result in unexpected outputs. Please refer to https://huggingface.co/docs/optimum/bettertransformer/overview for more details.\n",
                                    "/home/wallabot/miniconda3/envs/nlp/lib/python3.11/site-packages/optimum/bettertransformer/models/encoder_models.py:868: UserWarning: The PyTorch API of nested tensors is in prototype stage and will change in the near future. (Triggered internally at /opt/conda/conda-bld/pytorch_1708025845868/work/aten/src/ATen/NestedTensorImpl.cpp:177.)\n",
                                    "  hidden_states = torch._nested_tensor_from_mask(hidden_states, attn_mask)\n"
                              ]
                        },
                        {
                              "data": {
                                    "text/plain": [
                                          "[{'score': 0.05116180703043938,\n",
                                          "  'token': 8422,\n",
                                          "  'token_str': 'stanford',\n",
                                          "  'sequence': 'i am a student at stanford university.'},\n",
                                          " {'score': 0.040340032428503036,\n",
                                          "  'token': 5765,\n",
                                          "  'token_str': 'harvard',\n",
                                          "  'sequence': 'i am a student at harvard university.'},\n",
                                          " {'score': 0.039904672652482986,\n",
                                          "  'token': 7996,\n",
                                          "  'token_str': 'yale',\n",
                                          "  'sequence': 'i am a student at yale university.'},\n",
                                          " {'score': 0.036195311695337296,\n",
                                          "  'token': 10921,\n",
                                          "  'token_str': 'cornell',\n",
                                          "  'sequence': 'i am a student at cornell university.'},\n",
                                          " {'score': 0.03303062543272972,\n",
                                          "  'token': 9173,\n",
                                          "  'token_str': 'princeton',\n",
                                          "  'sequence': 'i am a student at princeton university.'}]"
                                    ]
                              },
                              "execution_count": 4,
                              "metadata": {},
                              "output_type": "execute_result"
                        }
                  ],
                  "source": [
                        "from optimum.pipelines import pipeline\n",
                        "\n",
                        "# Use the BetterTransformer pipeline\n",
                        "pipe = pipeline(task=\"fill-mask\", model=\"distilbert-base-uncased\", accelerator=\"bettertransformer\")\n",
                        "pipe(\"I am a student at [MASK] University.\")"
                  ]
            },
            {
                  "cell_type": "markdown",
                  "metadata": {},
                  "source": [
                        "### Training"
                  ]
            },
            {
                  "cell_type": "markdown",
                  "metadata": {},
                  "source": [
                        "For training with `Optimun` we do the same as with Automodel inference, we convert the model using the `transform` method of `BeterTransformer`.\n",
                        "\n",
                        "When we finish the training, we convert the model back using the `reverse` method of `BeterTransformer` to get the original model back so we can save it and upload it to the Hugging Face hub."
                  ]
            },
            {
                  "cell_type": "code",
                  "execution_count": 100,
                  "metadata": {},
                  "outputs": [],
                  "source": [
                        "from transformers import AutoTokenizer, AutoModelForCausalLM\n",
                        "from optimum.bettertransformer import BetterTransformer\n",
                        "\n",
                        "checkpoint = \"openai-community/gpt2\"\n",
                        "tokenizer = AutoTokenizer.from_pretrained(checkpoint)\n",
                        "model_hf = AutoModelForCausalLM.from_pretrained(checkpoint, device_map=\"auto\")\n",
                        "\n",
                        "# Convert the model to a BetterTransformer model\n",
                        "model = BetterTransformer.transform(model_hf, keep_original_model=True)\n",
                        "\n",
                        "##############################################################################\n",
                        "# do your training here\n",
                        "##############################################################################\n",
                        "\n",
                        "# Convert the model back to a Hugging Face model\n",
                        "model_hf = BetterTransformer.reverse(model)\n",
                        "\n",
                        "model_hf.save_pretrained(\"fine_tuned_model\")\n",
                        "model_hf.push_to_hub(\"fine_tuned_model\")"
                  ]
            }
      ],
      "metadata": {
            "kernelspec": {
                  "display_name": "base",
                  "language": "python",
                  "name": "python3"
            },
            "language_info": {
                  "codemirror_mode": {
                        "name": "ipython",
                        "version": 3
                  },
                  "file_extension": ".py",
                  "mimetype": "text/x-python",
                  "name": "python",
                  "nbconvert_exporter": "python",
                  "pygments_lexer": "ipython3",
                  "version": "3.10.12"
            }
      },
      "nbformat": 4,
      "nbformat_minor": 2
}
