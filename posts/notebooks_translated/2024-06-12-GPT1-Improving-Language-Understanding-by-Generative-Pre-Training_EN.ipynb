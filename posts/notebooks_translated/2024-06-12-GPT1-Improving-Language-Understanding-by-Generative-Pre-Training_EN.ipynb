{
      "cells": [
            {
                  "cell_type": "markdown",
                  "metadata": {},
                  "source": [
                        "# GPT1 - Improving Language Understanding by Generative Pre-Training"
                  ]
            },
            {
                  "cell_type": "markdown",
                  "metadata": {},
                  "source": [
                        "## Paper"
                  ]
            },
            {
                  "cell_type": "markdown",
                  "metadata": {},
                  "source": [
                        "This notebook has been automatically translated to make it accessible to more people, please let me know if you see any typos.\n",
                        "\n",
                        "[Improving Language Understanding by Generative Pre-Training](https://s3-us-west-2.amazonaws.com/openai-assets/research-covers/language-unsupervised/language_understanding_paper.pdf) is the GPT1 paper. Before reading the post you need to put yourself in situation, before GPT language models were based on recurrent networks (RNN), which were networks that worked relatively well for specific tasks, but with which you could not reuse the pre-training to make them a fine tuning for other tasks. In addition, they did not have much memory, so if you put very long sentences in them, they did not remember the beginning of the sentence very well."
                  ]
            },
            {
                  "cell_type": "markdown",
                  "metadata": {},
                  "source": [
                        "## Architecture"
                  ]
            },
            {
                  "cell_type": "markdown",
                  "metadata": {},
                  "source": [
                        "Before we talk about the architecture of GPT1, let's remember what the architecture of the Transformers was like.\n",
                        "\n",
                        "![transformer architecture](https://maximofn.com/wp-content/uploads/2023/12/transformer-scaled.webp)"
                  ]
            },
            {
                  "cell_type": "markdown",
                  "metadata": {},
                  "source": [
                        "GPT1 is a model based on the transformer decoders, so as we do not have an encoder, the architecture of a single decoder is as follows\n",
                        "\n",
                        "![decoder architecture](https://maximofn.com/wp-content/uploads/2024/06/transformer_decoder_only-scaled.webp)\n",
                        "\n",
                        "The attention mechanism between the encoder and decoder sentence is eliminated."
                  ]
            },
            {
                  "cell_type": "markdown",
                  "metadata": {},
                  "source": [
                        "In the GPT1 paper they propose the following architecture\n",
                        "\n",
                        "![gpt1 architecture](https://maximofn.com/wp-content/uploads/2024/06/GPT1_architecture.webp)\n",
                        "\n",
                        "Which corresponds to the decoder of a transformer as we have seen before, executed 12 times"
                  ]
            },
            {
                  "cell_type": "markdown",
                  "metadata": {},
                  "source": [
                        "## Paper abstract"
                  ]
            },
            {
                  "cell_type": "markdown",
                  "metadata": {},
                  "source": [
                        "The most interesting ideas in the paper are:\n",
                        "\n",
                        " * The model is trained on a large corpus of unsupervised text. This is used to create a language model. A high-capacity language model is created on a large corpus of text.\n",
                        " * Fine-tuning is then performed on supervised NLP tasks with labeled datasets. Fine-tuning is performed on a supervised target task. In addition, when the model is evaluated on the supervised task, it is not only evaluated on that task, but on how well it predicts the next token, this helps to improve the generalization of the supervised model and makes the model converge faster.\n",
                        " * Although we have already mentioned it, the paper says that the transformer architecture is used, since up to that time RNNs were used for the language models. This resulted in an improvement in that what was learned in the first training (training on the unsupervised text corpus) is easier to transfer to supervised tasks. That is, thanks to the use of transformers, it was possible to train on a whole corpus of text and then fine-tune it in supervised tasks.\n",
                        " * They evaluated the model in four types of language comprehension tasks:\n",
                        "    * Natural language inference\n",
                        "    * Answer to questions\n",
                        "    * Semantic similarity\n",
                        "    * Classification of texts.\n",
                        " * The general model (the one trained on the entire unsupervised text corpus) outperforms discriminatively trained RNN models that employ task-specific designed architectures, significantly improving the state of the art in 9 of the 12 tasks studied. They also analyze the \"zero-shot\" behaviors of the pre-trained model in four different environments and showed that it acquires useful linguistic knowledge for subsequent tasks.\n",
                        " * In recent years, researchers had demonstrated the benefits of using embeddings, which are trained on unlabeled corpora, to improve performance on a variety of tasks. However, these approaches primarily transfer information at the word level, whereas the use of transformers trained on large unsupervised text corpora captures higher-level, sentence-level semantics."
                  ]
            },
            {
                  "cell_type": "markdown",
                  "metadata": {},
                  "source": [
                        "## Text generation"
                  ]
            },
            {
                  "cell_type": "markdown",
                  "metadata": {},
                  "source": [
                        "Let's see how to generate text with a pre-trained GPT1"
                  ]
            },
            {
                  "cell_type": "markdown",
                  "metadata": {},
                  "source": [
                        "First you have to install `ftfy` and `spacy` via\n",
                        "\n",
                        "````bash\n",
                        "pip install ftfy spacy\n",
                        "```"
                  ]
            },
            {
                  "cell_type": "markdown",
                  "metadata": {},
                  "source": [
                        "Once installed, you must download the spacy language model you wish to use. For example, to download the English model, you can run:\n",
                        "\n",
                        "````bash\n",
                        "python -m spacy download en_core_web_sm\n",
                        "```"
                  ]
            },
            {
                  "cell_type": "markdown",
                  "metadata": {},
                  "source": [
                        "To generate text we will use the model from the [GPT1](https://huggingface.co/openai-community/openai-gpt) repository of Hugging Face."
                  ]
            },
            {
                  "cell_type": "markdown",
                  "metadata": {},
                  "source": [
                        "We import the libraries"
                  ]
            },
            {
                  "cell_type": "code",
                  "execution_count": 1,
                  "metadata": {},
                  "outputs": [],
                  "source": [
                        "import torch\n",
                        "from transformers import OpenAIGPTTokenizer, OpenAIGPTLMHeadModel, AutoTokenizer"
                  ]
            },
            {
                  "cell_type": "markdown",
                  "metadata": {},
                  "source": [
                        "If you notice we have imported `OpenAIGPTTokenizer` and `AutoTokenizer`. This is because in the [model card](https://huggingface.co/openai-community/openai-gpt) of GPT1 it says to use `OpenAIGPTTokenizer`, but in the [transformers](https://maximofn.com/hugging-face-transformers/) library post we explain that you should use `AutoTokenizer` to load the tokenizer. So let's try both"
                  ]
            },
            {
                  "cell_type": "code",
                  "execution_count": 2,
                  "metadata": {},
                  "outputs": [
                        {
                              "name": "stdout",
                              "output_type": "stream",
                              "text": [
                                    "input tokens: \n",
                                    "{'input_ids': tensor([[3570,  240,  547, 2585,  544, 4957,  488]]), 'attention_mask': tensor([[1, 1, 1, 1, 1, 1, 1]])}\n",
                                    "input auto tokens: \n",
                                    "{'input_ids': tensor([[3570,  240,  547, 2585,  544, 4957,  488]]), 'attention_mask': tensor([[1, 1, 1, 1, 1, 1, 1]])}\n"
                              ]
                        }
                  ],
                  "source": [
                        "ckeckpoints = \"openai-community/openai-gpt\"\n",
                        "tokenizer = OpenAIGPTTokenizer.from_pretrained(ckeckpoints)\n",
                        "auto_tokenizer = AutoTokenizer.from_pretrained(ckeckpoints)\n",
                        "\n",
                        "input_tokens = tokenizer(\"Hello, my dog is cute and\", return_tensors=\"pt\")\n",
                        "input_auto_tokens = auto_tokenizer(\"Hello, my dog is cute and\", return_tensors=\"pt\")\n",
                        "\n",
                        "print(f\"input tokens: \\n{input_tokens}\")\n",
                        "print(f\"input auto tokens: \\n{input_auto_tokens}\")"
                  ]
            },
            {
                  "cell_type": "markdown",
                  "metadata": {},
                  "source": [
                        "As you can see with the two tokenizers you get the same tokens. So to make the code more general, so that if you change the ckeckpoints, you don't have to change the code, let's use `AutoTokenizer`."
                  ]
            },
            {
                  "cell_type": "markdown",
                  "metadata": {},
                  "source": [
                        "We then create the device, the tokenizer and the model"
                  ]
            },
            {
                  "cell_type": "code",
                  "execution_count": 3,
                  "metadata": {},
                  "outputs": [],
                  "source": [
                        "device = torch.device(\"cuda\" if torch.cuda.is_available() else \"cpu\")\n",
                        "\n",
                        "tokenizer = AutoTokenizer.from_pretrained(ckeckpoints)\n",
                        "model = OpenAIGPTLMHeadModel.from_pretrained(ckeckpoints).to(device)"
                  ]
            },
            {
                  "cell_type": "markdown",
                  "metadata": {},
                  "source": [
                        "As we have instantiated the model let's see how many parameters it has"
                  ]
            },
            {
                  "cell_type": "code",
                  "execution_count": null,
                  "metadata": {},
                  "outputs": [
                        {
                              "name": "stdout",
                              "output_type": "stream",
                              "text": [
                                    "Number of parameters: 117M\n"
                              ]
                        }
                  ],
                  "source": [
                        "params = sum(p.numel() for p in model.parameters())\n",
                        "print(f\"Number of parameters: {round(params/1e6)}M\")"
                  ]
            },
            {
                  "cell_type": "markdown",
                  "metadata": {},
                  "source": [
                        "At the time of billions of parameters, we can see that GPT1 only had 117 million parameters."
                  ]
            },
            {
                  "cell_type": "markdown",
                  "metadata": {},
                  "source": [
                        "We create the input tokens for the model"
                  ]
            },
            {
                  "cell_type": "code",
                  "execution_count": 4,
                  "metadata": {},
                  "outputs": [
                        {
                              "data": {
                                    "text/plain": [
                                          "{'input_ids': tensor([[3570,  240,  547, 2585,  544, 4957,  488]], device='cuda:0'), 'attention_mask': tensor([[1, 1, 1, 1, 1, 1, 1]], device='cuda:0')}"
                                    ]
                              },
                              "execution_count": 4,
                              "metadata": {},
                              "output_type": "execute_result"
                        }
                  ],
                  "source": [
                        "input_sentence = \"Hello, my dog is cute and\"\n",
                        "input_tokens = tokenizer(input_sentence, return_tensors=\"pt\").to(device)\n",
                        "\n",
                        "input_tokens"
                  ]
            },
            {
                  "cell_type": "markdown",
                  "metadata": {},
                  "source": [
                        "We pass them to the model to generate the output tokens."
                  ]
            },
            {
                  "cell_type": "code",
                  "execution_count": 5,
                  "metadata": {},
                  "outputs": [
                        {
                              "name": "stdout",
                              "output_type": "stream",
                              "text": [
                                    "output tokens: \n",
                                    "tensor([[ 3570,   240,   547,  2585,   544,  4957,   488,   249,   719,   797,\n",
                                    "           485,   921,   575,   562,   246,  1671,   239,   244, 40477,   244]],\n",
                                    "       device='cuda:0')\n"
                              ]
                        },
                        {
                              "name": "stderr",
                              "output_type": "stream",
                              "text": [
                                    "/home/wallabot/miniconda3/envs/nlp/lib/python3.11/site-packages/transformers/generation/utils.py:1178: UserWarning: Using the model-agnostic default `max_length` (=20) to control the generation length. We recommend setting `max_new_tokens` to control the maximum length of the generation.\n",
                                    "  warnings.warn(\n"
                              ]
                        }
                  ],
                  "source": [
                        "output_tokens = model.generate(**input_tokens)\n",
                        "\n",
                        "print(f\"output tokens: \\n{output_tokens}\")"
                  ]
            },
            {
                  "cell_type": "markdown",
                  "metadata": {},
                  "source": [
                        "We decode the tokens to obtain the output statement"
                  ]
            },
            {
                  "cell_type": "code",
                  "execution_count": 6,
                  "metadata": {},
                  "outputs": [
                        {
                              "name": "stdout",
                              "output_type": "stream",
                              "text": [
                                    "decoded output: \n",
                                    "hello, my dog is cute and i'm going to take him for a walk. \" \n",
                                    " \"\n"
                              ]
                        }
                  ],
                  "source": [
                        "decoded_output = tokenizer.decode(output_tokens[0], skip_special_tokens=True)\n",
                        "\n",
                        "print(f\"decoded output: \\n{decoded_output}\")"
                  ]
            },
            {
                  "cell_type": "markdown",
                  "metadata": {},
                  "source": [
                        "We have already succeeded in generating text with GPT1"
                  ]
            },
            {
                  "cell_type": "markdown",
                  "metadata": {},
                  "source": [
                        "### Generate text token to token"
                  ]
            },
            {
                  "cell_type": "markdown",
                  "metadata": {},
                  "source": [
                        "#### Greedy search"
                  ]
            },
            {
                  "cell_type": "markdown",
                  "metadata": {},
                  "source": [
                        "We have used `model.generate` to generate the output tokens all at once, but let's see how to generate them one by one. To do this, instead of using `model.generate` we are going to use `model`, which actually calls the `model.forward` method."
                  ]
            },
            {
                  "cell_type": "code",
                  "execution_count": 7,
                  "metadata": {},
                  "outputs": [
                        {
                              "data": {
                                    "text/plain": [
                                          "CausalLMOutput(loss=None, logits=tensor([[[ -5.9486,  -5.8697, -18.4258,  ...,  -9.7371, -10.4495,   0.8814],\n",
                                          "         [ -6.1212,  -4.8031, -14.3970,  ...,  -6.5411,  -9.5051,  -1.2015],\n",
                                          "         [ -7.4231,  -6.3615, -14.7297,  ..., -10.4575,  -8.4600,  -1.5183],\n",
                                          "         ...,\n",
                                          "         [ -5.4751,  -5.8803, -13.7767,  ..., -10.5048, -12.4167,  -6.1584],\n",
                                          "         [ -7.2052,  -6.0198, -21.5040,  ..., -16.2941, -14.0494,  -1.2416],\n",
                                          "         [ -7.7240,  -7.3631, -17.3174,  ..., -12.1546, -12.3327,  -1.7169]]],\n",
                                          "       device='cuda:0', grad_fn=<UnsafeViewBackward0>), hidden_states=None, attentions=None)"
                                    ]
                              },
                              "execution_count": 7,
                              "metadata": {},
                              "output_type": "execute_result"
                        }
                  ],
                  "source": [
                        "outputs = model(**input_tokens)\n",
                        "\n",
                        "outputs"
                  ]
            },
            {
                  "cell_type": "markdown",
                  "metadata": {},
                  "source": [
                        "We see that it pulls a lot of data, first let's look at the output keys"
                  ]
            },
            {
                  "cell_type": "code",
                  "execution_count": 8,
                  "metadata": {},
                  "outputs": [
                        {
                              "data": {
                                    "text/plain": [
                                          "odict_keys(['logits'])"
                                    ]
                              },
                              "execution_count": 8,
                              "metadata": {},
                              "output_type": "execute_result"
                        }
                  ],
                  "source": [
                        "outputs.keys()"
                  ]
            },
            {
                  "cell_type": "markdown",
                  "metadata": {},
                  "source": [
                        "In this case we only have the logits of the model, let's see their size"
                  ]
            },
            {
                  "cell_type": "code",
                  "execution_count": 9,
                  "metadata": {},
                  "outputs": [
                        {
                              "data": {
                                    "text/plain": [
                                          "torch.Size([1, 7, 40478])"
                                    ]
                              },
                              "execution_count": 9,
                              "metadata": {},
                              "output_type": "execute_result"
                        }
                  ],
                  "source": [
                        "logits = outputs.logits\n",
                        "\n",
                        "logits.shape"
                  ]
            },
            {
                  "cell_type": "markdown",
                  "metadata": {},
                  "source": [
                        "Let's see how many tokens we had at the entrance."
                  ]
            },
            {
                  "cell_type": "code",
                  "execution_count": 10,
                  "metadata": {},
                  "outputs": [
                        {
                              "data": {
                                    "text/plain": [
                                          "torch.Size([1, 7])"
                                    ]
                              },
                              "execution_count": 10,
                              "metadata": {},
                              "output_type": "execute_result"
                        }
                  ],
                  "source": [
                        "input_tokens.input_ids.shape"
                  ]
            },
            {
                  "cell_type": "markdown",
                  "metadata": {},
                  "source": [
                        "Wow, at the output we have the same number of logits as at the input. This is normal"
                  ]
            },
            {
                  "cell_type": "markdown",
                  "metadata": {},
                  "source": [
                        "We obtain the logits of the last position of the exit"
                  ]
            },
            {
                  "cell_type": "code",
                  "execution_count": 11,
                  "metadata": {},
                  "outputs": [
                        {
                              "data": {
                                    "text/plain": [
                                          "torch.Size([40478])"
                                    ]
                              },
                              "execution_count": 11,
                              "metadata": {},
                              "output_type": "execute_result"
                        }
                  ],
                  "source": [
                        "nex_token_logits = logits[0,-1]\n",
                        "\n",
                        "nex_token_logits.shape"
                  ]
            },
            {
                  "cell_type": "markdown",
                  "metadata": {},
                  "source": [
                        "There are a total of 40478 logits, i.e. there is a vocabulary of 40478 tokens and we have to see which token has the highest probability, to do this we first calculate the softmax"
                  ]
            },
            {
                  "cell_type": "code",
                  "execution_count": 12,
                  "metadata": {},
                  "outputs": [
                        {
                              "data": {
                                    "text/plain": [
                                          "torch.Size([40478])"
                                    ]
                              },
                              "execution_count": 12,
                              "metadata": {},
                              "output_type": "execute_result"
                        }
                  ],
                  "source": [
                        "softmax_logits = torch.softmax(nex_token_logits, dim=0)\n",
                        "\n",
                        "softmax_logits.shape"
                  ]
            },
            {
                  "cell_type": "code",
                  "execution_count": 13,
                  "metadata": {},
                  "outputs": [
                        {
                              "data": {
                                    "text/plain": [
                                          "(tensor(0.1898, device='cuda:0', grad_fn=<MaxBackward0>),\n",
                                          " tensor(249, device='cuda:0'))"
                                    ]
                              },
                              "execution_count": 13,
                              "metadata": {},
                              "output_type": "execute_result"
                        }
                  ],
                  "source": [
                        "next_token_prob, next_token_id = torch.max(softmax_logits, dim=0)\n",
                        "\n",
                        "next_token_prob, next_token_id"
                  ]
            },
            {
                  "cell_type": "markdown",
                  "metadata": {},
                  "source": [
                        "We have obtained the following token, now we decode it"
                  ]
            },
            {
                  "cell_type": "code",
                  "execution_count": 14,
                  "metadata": {},
                  "outputs": [
                        {
                              "data": {
                                    "text/plain": [
                                          "'i'"
                                    ]
                              },
                              "execution_count": 14,
                              "metadata": {},
                              "output_type": "execute_result"
                        }
                  ],
                  "source": [
                        "tokenizer.decode(next_token_id.item())"
                  ]
            },
            {
                  "cell_type": "markdown",
                  "metadata": {},
                  "source": [
                        "We have obtained the following token using the greedy method, i.e. the token with the highest probability. But we already saw in the transformers library post, the [ways to generate texts](https://maximofn.com/hugging-face-transformers/#Formas-de-generaci%C3%B3n-de-texto) that sampling, top-k, top-p, etc. can be done."
                  ]
            },
            {
                  "cell_type": "markdown",
                  "metadata": {},
                  "source": [
                        "Let's put everything into a function and see what comes out if we generate a few tokens"
                  ]
            },
            {
                  "cell_type": "code",
                  "execution_count": 15,
                  "metadata": {},
                  "outputs": [],
                  "source": [
                        "def generate_next_greedy_token(input_sentence, tokenizer, model, device):\n",
                        "    input_tokens = tokenizer(input_sentence, return_tensors=\"pt\").to(device)\n",
                        "    outputs = model(**input_tokens)\n",
                        "    logits = outputs.logits\n",
                        "    nex_token_logits = logits[0,-1]\n",
                        "    softmax_logits = torch.softmax(nex_token_logits, dim=0)\n",
                        "    next_token_prob, next_token_id = torch.max(softmax_logits, dim=0)\n",
                        "    return next_token_prob, next_token_id"
                  ]
            },
            {
                  "cell_type": "code",
                  "execution_count": 16,
                  "metadata": {},
                  "outputs": [],
                  "source": [
                        "def generate_greedy_text(input_sentence, tokenizer, model, device, max_length=20):\n",
                        "    generated_text = input_sentence\n",
                        "    for _ in range(max_length):\n",
                        "        next_token_prob, next_token_id = generate_next_greedy_token(generated_text, tokenizer, model, device)\n",
                        "        generated_text += tokenizer.decode(next_token_id.item())\n",
                        "    return generated_text"
                  ]
            },
            {
                  "cell_type": "markdown",
                  "metadata": {},
                  "source": [
                        "Now we generate text"
                  ]
            },
            {
                  "cell_type": "code",
                  "execution_count": 17,
                  "metadata": {},
                  "outputs": [
                        {
                              "data": {
                                    "text/plain": [
                                          "'Hello, my dog is cute andi.\"\\n\\n\\n\\n\\n\\n\\n\\n\\n\\n\\n\\n\\n\\n\\n\\n\\n'"
                                    ]
                              },
                              "execution_count": 17,
                              "metadata": {},
                              "output_type": "execute_result"
                        }
                  ],
                  "source": [
                        "generate_greedy_text(\"Hello, my dog is cute and\", tokenizer, model, device)"
                  ]
            },
            {
                  "cell_type": "markdown",
                  "metadata": {},
                  "source": [
                        "The output is quite repetitive as already seen in the [ways to generate text](https://maximofn.com/hugging-face-transformers/#Formas-de-generaci%C3%B3n-de-texto)"
                  ]
            },
            {
                  "cell_type": "markdown",
                  "metadata": {},
                  "source": [
                        "## Fine tuning GPT"
                  ]
            },
            {
                  "cell_type": "markdown",
                  "metadata": {},
                  "source": [
                        "### Loss calculation"
                  ]
            },
            {
                  "cell_type": "markdown",
                  "metadata": {},
                  "source": [
                        "Before we start doing the fine tuning of GPT1 let's see one thing. Before when we used to get the output of the model we did this"
                  ]
            },
            {
                  "cell_type": "code",
                  "execution_count": 19,
                  "metadata": {},
                  "outputs": [
                        {
                              "data": {
                                    "text/plain": [
                                          "CausalLMOutput(loss=None, logits=tensor([[[ -5.9486,  -5.8697, -18.4258,  ...,  -9.7371, -10.4495,   0.8814],\n",
                                          "         [ -6.1212,  -4.8031, -14.3970,  ...,  -6.5411,  -9.5051,  -1.2015],\n",
                                          "         [ -7.4231,  -6.3615, -14.7297,  ..., -10.4575,  -8.4600,  -1.5183],\n",
                                          "         ...,\n",
                                          "         [ -5.4751,  -5.8803, -13.7767,  ..., -10.5048, -12.4167,  -6.1584],\n",
                                          "         [ -7.2052,  -6.0198, -21.5040,  ..., -16.2941, -14.0494,  -1.2416],\n",
                                          "         [ -7.7240,  -7.3631, -17.3174,  ..., -12.1546, -12.3327,  -1.7169]]],\n",
                                          "       device='cuda:0', grad_fn=<UnsafeViewBackward0>), hidden_states=None, attentions=None)"
                                    ]
                              },
                              "execution_count": 19,
                              "metadata": {},
                              "output_type": "execute_result"
                        }
                  ],
                  "source": [
                        "outputs = model(**input_tokens)\n",
                        "\n",
                        "outputs"
                  ]
            },
            {
                  "cell_type": "markdown",
                  "metadata": {},
                  "source": [
                        "You can see that we get `loss=None`."
                  ]
            },
            {
                  "cell_type": "code",
                  "execution_count": 20,
                  "metadata": {},
                  "outputs": [
                        {
                              "name": "stdout",
                              "output_type": "stream",
                              "text": [
                                    "None\n"
                              ]
                        }
                  ],
                  "source": [
                        "print(outputs.loss)"
                  ]
            },
            {
                  "cell_type": "markdown",
                  "metadata": {},
                  "source": [
                        "As we are going to need the loss to do the fine tuning, let's see how to obtain it.\n",
                        "\n",
                        "If we go to the documentation of the method [forward](https://huggingface.co/docs/transformers/model_doc/openai-gpt#transformers.OpenAIGPTLMHeadModel.forward) of `OpenAIGPTLMHeadModel`, we can see that it says that at the output it returns an object of type `transformers.modeling_outputs.CausalLMOutput`, so if we go to the documentation of [transformers.modeling_outputs.CausalLMOutput](https://huggingface.co/docs/transformers/v4.41.3/en/main_classes/output#transformers.modeling_outputs.CausalLMOutput), we can see that it says that it returns `loss` if `labels` is passed to the `forward` method.\n",
                        "\n",
                        "If we go to the source code of the [forward](https://github.com/huggingface/transformers/blob/main/src/transformers/models/openai/modeling_openai.py#L544) method, we see this code block\n",
                        "\n",
                        "````python\n",
                        "        loss = None\n",
                        "        if labels is not None:\n",
                        "            # Shift so that tokens < n predict n\n",
                        "            shift_logits = lm_logits[..., :-1, :].contiguous()\n",
                        "            shift_labels = labels[..., 1:].contiguous()\n",
                        "            # Flatten the tokens\n",
                        "            loss_fct = CrossEntropyLoss()\n",
                        "            loss = loss_fct(shift_logits.view(-1, shift_logits.size(-1)), shift_labels.view(-1))\n",
                        "```\n",
                        "\n",
                        "In other words, the `loss` is calculated as follows\n",
                        "\n",
                        " * Shift of logits and labels: The first part is to shift the logits (`lm_logits`) and labels (`labels`) so that `tokens < n` predict `n`, i.e., from a position `n` the next token is predicted from the previous ones.\n",
                        " * CrossEntropyLoss: An instance of the `CrossEntropyLoss()` function is created.\n",
                        " * Flatten tokens: Logits and labels are then flattened using `view(-1, shift_logits.size(-1))` and `view(-1)`, respectively. This is done so that the logits and labels have the same shape for the loss function.\n",
                        " * Loss calculation: Finally, the loss is calculated using the `CrossEntropyLoss()` function with the flattened logits and flattened labels as inputs.\n",
                        "\n",
                        "In summary, `loss` is calculated as the cross-entropy loss between shifted and flattened logits and shifted and flattened labels.\n",
                        "\n",
                        "Therefore, if we pass the labels to the `forward` method, it will return the `loss`."
                  ]
            },
            {
                  "cell_type": "code",
                  "execution_count": 21,
                  "metadata": {},
                  "outputs": [
                        {
                              "data": {
                                    "text/plain": [
                                          "tensor(4.2607, device='cuda:0', grad_fn=<NllLossBackward0>)"
                                    ]
                              },
                              "execution_count": 21,
                              "metadata": {},
                              "output_type": "execute_result"
                        }
                  ],
                  "source": [
                        "outputs = model(**input_tokens, labels=input_tokens.input_ids)\n",
                        "\n",
                        "outputs.loss"
                  ]
            },
            {
                  "cell_type": "markdown",
                  "metadata": {},
                  "source": [
                        "### Dataset"
                  ]
            },
            {
                  "cell_type": "markdown",
                  "metadata": {},
                  "source": [
                        "For the training we are going to use a dataset of English jokes [short-jokes-dataset](https://huggingface.co/datasets/Maximofn/short-jokes-dataset), which is a dataset with 231 thousand English jokes."
                  ]
            },
            {
                  "cell_type": "markdown",
                  "metadata": {},
                  "source": [
                        "Download the dataset"
                  ]
            },
            {
                  "cell_type": "code",
                  "execution_count": 22,
                  "metadata": {},
                  "outputs": [
                        {
                              "data": {
                                    "text/plain": [
                                          "DatasetDict({\n",
                                          "    train: Dataset({\n",
                                          "        features: ['ID', 'Joke'],\n",
                                          "        num_rows: 231657\n",
                                          "    })\n",
                                          "})"
                                    ]
                              },
                              "execution_count": 22,
                              "metadata": {},
                              "output_type": "execute_result"
                        }
                  ],
                  "source": [
                        "from datasets import load_dataset\n",
                        "\n",
                        "jokes = load_dataset(\"Maximofn/short-jokes-dataset\")\n",
                        "jokes"
                  ]
            },
            {
                  "cell_type": "markdown",
                  "metadata": {},
                  "source": [
                        "Let's take a look at it"
                  ]
            },
            {
                  "cell_type": "code",
                  "execution_count": 23,
                  "metadata": {},
                  "outputs": [
                        {
                              "data": {
                                    "text/plain": [
                                          "{'ID': 1,\n",
                                          " 'Joke': '[me narrating a documentary about narrators] \"I can\\'t hear what they\\'re saying cuz I\\'m talking\"'}"
                                    ]
                              },
                              "execution_count": 23,
                              "metadata": {},
                              "output_type": "execute_result"
                        }
                  ],
                  "source": [
                        "jokes[\"train\"][0]"
                  ]
            },
            {
                  "cell_type": "markdown",
                  "metadata": {},
                  "source": [
                        "### Pytorch training"
                  ]
            },
            {
                  "cell_type": "markdown",
                  "metadata": {},
                  "source": [
                        "First let's see how the pure Pytorch training would be done.\n",
                        "\n",
                        "> Restart the notebook to avoid problems with the GPU memory."
                  ]
            },
            {
                  "cell_type": "code",
                  "execution_count": 24,
                  "metadata": {},
                  "outputs": [],
                  "source": [
                        "import torch\n",
                        "from transformers import OpenAIGPTLMHeadModel, AutoTokenizer\n",
                        "\n",
                        "device = torch.device(\"cuda\" if torch.cuda.is_available() else \"cpu\")\n",
                        "\n",
                        "ckeckpoints = \"openai-community/openai-gpt\"\n",
                        "tokenizer = AutoTokenizer.from_pretrained(ckeckpoints)\n",
                        "model = OpenAIGPTLMHeadModel.from_pretrained(ckeckpoints)\n",
                        "\n",
                        "model = model.to(device)"
                  ]
            },
            {
                  "cell_type": "markdown",
                  "metadata": {},
                  "source": [
                        "#### Pytorch dataset"
                  ]
            },
            {
                  "cell_type": "markdown",
                  "metadata": {},
                  "source": [
                        "We create a Pytorch dataset class"
                  ]
            },
            {
                  "cell_type": "code",
                  "execution_count": 25,
                  "metadata": {},
                  "outputs": [],
                  "source": [
                        "from torch.utils.data import Dataset\n",
                        "\n",
                        "class JokesDataset(Dataset):\n",
                        "    def __init__(self, dataset, tokenizer):\n",
                        "        self.dataset = dataset\n",
                        "        self.joke = \"JOKE: \"\n",
                        "        self.end_of_text_token = \"<|endoftext|>\"\n",
                        "        self.tokenizer = tokenizer\n",
                        "        \n",
                        "    def __len__(self):\n",
                        "        return len(self.dataset[\"train\"])\n",
                        "\n",
                        "    def __getitem__(self, item):\n",
                        "        sentence = self.joke + self.dataset[\"train\"][item][\"Joke\"] + self.end_of_text_token\n",
                        "        tokens = self.tokenizer(sentence, return_tensors=\"pt\")\n",
                        "        return sentence, tokens"
                  ]
            },
            {
                  "cell_type": "markdown",
                  "metadata": {},
                  "source": [
                        "We instantiate it"
                  ]
            },
            {
                  "cell_type": "code",
                  "execution_count": 26,
                  "metadata": {},
                  "outputs": [],
                  "source": [
                        "dataset = JokesDataset(jokes, tokenizer=tokenizer)"
                  ]
            },
            {
                  "cell_type": "markdown",
                  "metadata": {},
                  "source": [
                        "Here is an example"
                  ]
            },
            {
                  "cell_type": "code",
                  "execution_count": 27,
                  "metadata": {},
                  "outputs": [
                        {
                              "name": "stdout",
                              "output_type": "stream",
                              "text": [
                                    "JOKE: Why can't Barbie get pregnant? Because Ken comes in a different box. Heyooooooo<|endoftext|>\n"
                              ]
                        },
                        {
                              "data": {
                                    "text/plain": [
                                          "(torch.Size([1, 30]), torch.Size([1, 30]))"
                                    ]
                              },
                              "execution_count": 27,
                              "metadata": {},
                              "output_type": "execute_result"
                        }
                  ],
                  "source": [
                        "sentence, tokens = dataset[5]\n",
                        "print(sentence)\n",
                        "tokens.input_ids.shape, tokens.attention_mask.shape"
                  ]
            },
            {
                  "cell_type": "markdown",
                  "metadata": {},
                  "source": [
                        "#### Dataloader"
                  ]
            },
            {
                  "cell_type": "markdown",
                  "metadata": {},
                  "source": [
                        "We now create a Pytorch dataloader"
                  ]
            },
            {
                  "cell_type": "code",
                  "execution_count": 28,
                  "metadata": {},
                  "outputs": [],
                  "source": [
                        "from torch.utils.data import DataLoader\n",
                        "\n",
                        "BS = 1\n",
                        "joke_dataloader = DataLoader(dataset, batch_size=BS, shuffle=True)"
                  ]
            },
            {
                  "cell_type": "markdown",
                  "metadata": {},
                  "source": [
                        "We see a batch"
                  ]
            },
            {
                  "cell_type": "code",
                  "execution_count": 29,
                  "metadata": {},
                  "outputs": [
                        {
                              "data": {
                                    "text/plain": [
                                          "(1, torch.Size([1, 1, 29]), torch.Size([1, 1, 29]))"
                                    ]
                              },
                              "execution_count": 29,
                              "metadata": {},
                              "output_type": "execute_result"
                        }
                  ],
                  "source": [
                        "sentences, tokens = next(iter(joke_dataloader))\n",
                        "len(sentences), tokens.input_ids.shape, tokens.attention_mask.shape"
                  ]
            },
            {
                  "cell_type": "markdown",
                  "metadata": {},
                  "source": [
                        "#### Training"
                  ]
            },
            {
                  "cell_type": "code",
                  "execution_count": 30,
                  "metadata": {},
                  "outputs": [
                        {
                              "name": "stderr",
                              "output_type": "stream",
                              "text": [
                                    "/home/wallabot/miniconda3/envs/nlp/lib/python3.11/site-packages/transformers/optimization.py:429: FutureWarning: This implementation of AdamW is deprecated and will be removed in a future version. Use the PyTorch implementation torch.optim.AdamW instead, or set `no_deprecation_warning=True` to disable this warning\n",
                                    "  warnings.warn(\n"
                              ]
                        },
                        {
                              "name": "stdout",
                              "output_type": "stream",
                              "text": [
                                    "EPOCH 0 started==============================\n"
                              ]
                        },
                        {
                              "name": "stderr",
                              "output_type": "stream",
                              "text": [
                                    "Training: 100%|██████████| 231657/231657 [11:31<00:00, 334.88it/s, loss=2.88, lr=2.93e-6]\n"
                              ]
                        },
                        {
                              "name": "stdout",
                              "output_type": "stream",
                              "text": [
                                    "EPOCH 1 started==============================\n"
                              ]
                        },
                        {
                              "name": "stderr",
                              "output_type": "stream",
                              "text": [
                                    "Training: 100%|██████████| 231657/231657 [11:30<00:00, 335.27it/s, loss=2.49, lr=5.87e-6]\n"
                              ]
                        },
                        {
                              "name": "stdout",
                              "output_type": "stream",
                              "text": [
                                    "EPOCH 2 started==============================\n"
                              ]
                        },
                        {
                              "name": "stderr",
                              "output_type": "stream",
                              "text": [
                                    "Training: 100%|██████████| 231657/231657 [11:17<00:00, 341.75it/s, loss=2.57, lr=8.81e-6]\n"
                              ]
                        },
                        {
                              "name": "stdout",
                              "output_type": "stream",
                              "text": [
                                    "EPOCH 3 started==============================\n"
                              ]
                        },
                        {
                              "name": "stderr",
                              "output_type": "stream",
                              "text": [
                                    "Training: 100%|██████████| 231657/231657 [11:18<00:00, 341.27it/s, loss=2.41, lr=1.18e-5]\n"
                              ]
                        },
                        {
                              "name": "stdout",
                              "output_type": "stream",
                              "text": [
                                    "EPOCH 4 started==============================\n"
                              ]
                        },
                        {
                              "name": "stderr",
                              "output_type": "stream",
                              "text": [
                                    "Training: 100%|██████████| 231657/231657 [11:19<00:00, 341.04it/s, loss=2.49, lr=1.47e-5]\n"
                              ]
                        }
                  ],
                  "source": [
                        "from transformers import AdamW, get_linear_schedule_with_warmup\n",
                        "import tqdm\n",
                        "\n",
                        "BATCH_SIZE = 32\n",
                        "EPOCHS = 5\n",
                        "LEARNING_RATE = 3e-5\n",
                        "WARMUP_STEPS = 5000\n",
                        "MAX_SEQ_LEN = 500\n",
                        "\n",
                        "model.train()\n",
                        "optimizer = AdamW(model.parameters(), lr=LEARNING_RATE)\n",
                        "scheduler = get_linear_schedule_with_warmup(optimizer, num_warmup_steps=WARMUP_STEPS, num_training_steps=-1)\n",
                        "proc_seq_count = 0\n",
                        "batch_count = 0\n",
                        "\n",
                        "tmp_jokes_tens = None\n",
                        "\n",
                        "for epoch in range(EPOCHS):\n",
                        "    \n",
                        "    print(f\"EPOCH {epoch} started\" + '=' * 30)\n",
                        "    progress_bar = tqdm.tqdm(joke_dataloader, desc=\"Training\")\n",
                        "    \n",
                        "    for sample in progress_bar:\n",
                        "\n",
                        "        sentence, tokens = sample\n",
                        "        \n",
                        "        #################### \"Fit as many joke sequences into MAX_SEQ_LEN sequence as possible\" logic start ####\n",
                        "        joke_tens = tokens.input_ids[0].to(device)\n",
                        "\n",
                        "        # Skip sample from dataset if it is longer than MAX_SEQ_LEN\n",
                        "        if joke_tens.size()[1] > MAX_SEQ_LEN:\n",
                        "            continue\n",
                        "        \n",
                        "        # The first joke sequence in the sequence\n",
                        "        if not torch.is_tensor(tmp_jokes_tens):\n",
                        "            tmp_jokes_tens = joke_tens\n",
                        "            continue\n",
                        "        else:\n",
                        "            # The next joke does not fit in so we process the sequence and leave the last joke \n",
                        "            # as the start for next sequence \n",
                        "            if tmp_jokes_tens.size()[1] + joke_tens.size()[1] > MAX_SEQ_LEN:\n",
                        "                work_jokes_tens = tmp_jokes_tens\n",
                        "                tmp_jokes_tens = joke_tens\n",
                        "            else:\n",
                        "                #Add the joke to sequence, continue and try to add more\n",
                        "                tmp_jokes_tens = torch.cat([tmp_jokes_tens, joke_tens[:,1:]], dim=1)\n",
                        "                continue\n",
                        "        ################## Sequence ready, process it trough the model ##################\n",
                        "            \n",
                        "        outputs = model(work_jokes_tens, labels=work_jokes_tens)\n",
                        "        loss = outputs.loss\n",
                        "        loss.backward()\n",
                        "                       \n",
                        "        proc_seq_count = proc_seq_count + 1\n",
                        "        if proc_seq_count == BATCH_SIZE:\n",
                        "            proc_seq_count = 0    \n",
                        "            batch_count += 1\n",
                        "            optimizer.step()\n",
                        "            scheduler.step() \n",
                        "            optimizer.zero_grad()\n",
                        "            model.zero_grad()\n",
                        "\n",
                        "        progress_bar.set_postfix({'loss': loss.item(), 'lr': scheduler.get_last_lr()[0]})\n",
                        "        if batch_count == 10:\n",
                        "            batch_count = 0"
                  ]
            },
            {
                  "cell_type": "markdown",
                  "metadata": {},
                  "source": [
                        "#### Inference"
                  ]
            },
            {
                  "cell_type": "markdown",
                  "metadata": {},
                  "source": [
                        "Let's see how well the model makes jokes."
                  ]
            },
            {
                  "cell_type": "code",
                  "execution_count": 35,
                  "metadata": {},
                  "outputs": [
                        {
                              "name": "stdout",
                              "output_type": "stream",
                              "text": [
                                    "decoded joke: \n",
                                    "joke : what do you call a group of people who are not afraid of the dark? a group\n"
                              ]
                        }
                  ],
                  "source": [
                        "sentence_joke = \"JOKE:\"\n",
                        "input_tokens_joke = tokenizer(sentence_joke, return_tensors=\"pt\").to(device)\n",
                        "output_tokens_joke = model.generate(**input_tokens_joke)\n",
                        "decoded_output_joke = tokenizer.decode(output_tokens_joke[0], skip_special_tokens=True)\n",
                        "\n",
                        "print(f\"decoded joke: \\n{decoded_output_joke}\")"
                  ]
            },
            {
                  "cell_type": "markdown",
                  "metadata": {},
                  "source": [
                        "You can see that you pass it a sequence with the word `joke` and it returns a joke. But if you return another sequence it does not"
                  ]
            },
            {
                  "cell_type": "code",
                  "execution_count": 39,
                  "metadata": {},
                  "outputs": [
                        {
                              "name": "stdout",
                              "output_type": "stream",
                              "text": [
                                    "decoded joke: \n",
                                    "my dog is cute and i'm not sure if i should be offended or not. \" \n",
                                    "\n"
                              ]
                        }
                  ],
                  "source": [
                        "sentence_joke = \"My dog is cute and\"\n",
                        "input_tokens_joke = tokenizer(sentence_joke, return_tensors=\"pt\").to(device)\n",
                        "output_tokens_joke = model.generate(**input_tokens_joke)\n",
                        "decoded_output_joke = tokenizer.decode(output_tokens_joke[0], skip_special_tokens=True)\n",
                        "\n",
                        "print(f\"decoded joke: \\n{decoded_output_joke}\")"
                  ]
            }
      ],
      "metadata": {
            "kernelspec": {
                  "display_name": "base",
                  "language": "python",
                  "name": "python3"
            },
            "language_info": {
                  "codemirror_mode": {
                        "name": "ipython",
                        "version": 3
                  },
                  "file_extension": ".py",
                  "mimetype": "text/x-python",
                  "name": "python",
                  "nbconvert_exporter": "python",
                  "pygments_lexer": "ipython3",
                  "version": "3.11.7"
            }
      },
      "nbformat": 4,
      "nbformat_minor": 2
}
