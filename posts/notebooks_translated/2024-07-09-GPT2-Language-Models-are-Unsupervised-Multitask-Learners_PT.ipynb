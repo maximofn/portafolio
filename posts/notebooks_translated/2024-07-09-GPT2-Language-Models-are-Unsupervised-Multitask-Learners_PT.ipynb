{
  "cells": [
    {
      "cell_type": "markdown",
      "metadata": {},
      "source": [
        "# GPT-2 - Modelos de Linguagem s\u00e3o Aprendizes Multitarefa N\u00e3o Supervisionados"
      ]
    },
    {
      "cell_type": "markdown",
      "metadata": {},
      "source": [
        " > Aviso: Este post foi traduzido para o portugu\u00eas usando um modelo de tradu\u00e7\u00e3o autom\u00e1tica. Por favor, me avise se encontrar algum erro."
      ]
    },
    {
      "cell_type": "markdown",
      "metadata": {},
      "source": [
        "## Artigo"
      ]
    },
    {
      "cell_type": "markdown",
      "metadata": {},
      "source": [
        "[Language Models are Unsupervised Multitask Learners](https://d4mucfpksywv.cloudfront.net/better-language-models/language-models.pdf) \u00e9 o paper do GPT-2. Esta \u00e9 a segunda vers\u00e3o do modelo [GPT-1](https://maximofn.com/gpt1/) que j\u00e1 vimos."
      ]
    },
    {
      "cell_type": "markdown",
      "metadata": {},
      "source": [
        "## Arquitetura"
      ]
    },
    {
      "cell_type": "markdown",
      "metadata": {},
      "source": [
        "Antes de falar sobre a arquitetura do GPT-2, vamos lembrar como era a arquitetura do GPT-1.",
        "\n",
        "![arquitetura do gpt1](https://pub-fb664c455eca46a2ba762a065ac900f7.r2.dev/GPT1_architecture.webp)"
      ]
    },
    {
      "cell_type": "markdown",
      "metadata": {},
      "source": [
        "Em GPT-2 \u00e9 utilizada uma arquitetura baseada em transformers, assim como [GPT-1](https://maximofn.com/gpt1/), com os seguintes tamanhos",
        "\n",
        "|Par\u00e2metros|Camadas|d_model|",
        "|---|---|---|",
        "|117M| 12| 768|",
        "| 345M| 24| 1024|",
        "| 762M| 36| 1280|",
        "| 1542M| 48| 1600|",
        "\n",
        "O modelo mais pequeno \u00e9 equivalente ao GPT original, e o segundo mais pequeno \u00e9 equivalente ao modelo maior do BERT. O modelo maior tem mais de uma ordem de magnitude mais par\u00e2metros que o GPT."
      ]
    },
    {
      "cell_type": "markdown",
      "metadata": {},
      "source": [
        "Al\u00e9m disso, foram realizadas as seguintes modifica\u00e7\u00f5es na arquitetura",
        "\n",
        "* Adiciona-se uma camada de normaliza\u00e7\u00e3o antes do bloco de aten\u00e7\u00e3o. Isso pode ajudar a estabilizar o treinamento do modelo e melhorar sua capacidade de aprender representa\u00e7\u00f5es mais profundas. Ao normalizar as entradas de cada bloco, reduz-se a variabilidade nas sa\u00eddas e facilita-se o treinamento do modelo",
        "* Foi adicionada uma normaliza\u00e7\u00e3o adicional ap\u00f3s o bloco de auto-aten\u00e7\u00e3o final. Isso pode ajudar a reduzir a variabilidade nas sa\u00eddas do modelo e melhorar sua estabilidade.",
        "* Na maioria dos modelos, os pesos das camadas s\u00e3o inicializados aleatoriamente, seguindo uma distribui\u00e7\u00e3o normal ou uniforme. No entanto, no caso do GPT-2, os autores decidiram utilizar uma inicializa\u00e7\u00e3o modificada que leva em conta a profundidade do modelo. A ideia por tr\u00e1s dessa inicializa\u00e7\u00e3o modificada \u00e9 que, \u00e0 medida que o modelo se torna mais profundo, o sinal que flui atrav\u00e9s das camadas residuais vai enfraquecendo. Isso ocorre porque cada camada residual \u00e9 somada \u00e0 entrada original, o que pode fazer com que o sinal v\u00e1 atenuando com a profundidade do modelo. Para contrariar esse efeito, decidiram escalar os pesos das camadas residuais na inicializa\u00e7\u00e3o por um fator de 1/\u221aN, onde N \u00e9 o n\u00famero de camadas residuais. Isso significa que, \u00e0 medida que o modelo se torna mais profundo, os pesos das camadas residuais ficam menores. Este truque de inicializa\u00e7\u00e3o pode ajudar a estabilizar o treinamento do modelo e a melhorar sua capacidade de aprender representa\u00e7\u00f5es mais profundas. Ao escalar os pesos das camadas residuais, reduz-se a variabilidade nas sa\u00eddas de cada camada e facilita-se o fluxo do sinal atrav\u00e9s do modelo. Em resumo, a inicializa\u00e7\u00e3o modificada no GPT-2 \u00e9 utilizada para contrariar o efeito de atenua\u00e7\u00e3o do sinal nas camadas residuais, o que ajuda a estabilizar o treinamento do modelo e a melhorar sua capacidade de aprender representa\u00e7\u00f5es mais profundas.",
        "* O tamanho do vocabul\u00e1rio expandiu-se para 50.257. Isso significa que o modelo pode aprender a representar um conjunto mais amplo de palavras e tokens.",
        "* O tamanho do contexto foi aumentado de 512 para 1024 tokens. Isso permite que o modelo leve em conta um contexto mais amplo ao gerar texto.",
        "\n",
        "![GPT1 vs GPT-2 architecture](https://pub-fb664c455eca46a2ba762a065ac900f7.r2.dev/GPT1_vs_GPT2_architecture.webp)"
      ]
    },
    {
      "cell_type": "markdown",
      "metadata": {},
      "source": [
        "## Resumo do artigo"
      ]
    },
    {
      "cell_type": "markdown",
      "metadata": {},
      "source": [
        "As ideias mais interessantes do paper s\u00e3o:",
        "\n",
        "* Para o pr\u00e9-treinamento do modelo, pensaram em usar uma fonte de texto diversa e quase ilimitada, como web scraping de Common Crawl. No entanto, descobriram que havia texto de qualidade muito baixa. Ent\u00e3o, usaram o dataset WebText, que tamb\u00e9m provinha de web scraping, mas com um filtro de qualidade, como a quantidade de links de sa\u00edda do Reddit, etc. Al\u00e9m disso, removeram o texto proveniente da Wikipedia, pois poderia estar repetido em outras p\u00e1ginas.",
        "* Utilizaram um tokenizador BPE que j\u00e1 explicamos em um [post](https://maximofn.com/bpe/) anterior"
      ]
    },
    {
      "cell_type": "markdown",
      "metadata": {},
      "source": [
        "## Gera\u00e7\u00e3o de texto"
      ]
    },
    {
      "cell_type": "markdown",
      "metadata": {},
      "source": [
        "Vamos a ver como gerar texto com um GPT-2 pr\u00e9-treinado"
      ]
    },
    {
      "cell_type": "markdown",
      "metadata": {},
      "source": [
        "Para gerar texto vamos utilizar o modelo do reposit\u00f3rio [GPT-2](https://huggingface.co/openai-community/gpt2) da Hugging Face."
      ]
    },
    {
      "cell_type": "markdown",
      "metadata": {},
      "source": [
        "### Gera\u00e7\u00e3o de texto com pipeline"
      ]
    },
    {
      "cell_type": "markdown",
      "metadata": {},
      "source": [
        "Com esse modelo j\u00e1 podemos usar o pipeline de transformers"
      ]
    },
    {
      "cell_type": "code",
      "execution_count": 3,
      "metadata": {},
      "outputs": [
        {
          "name": "stderr",
          "output_type": "stream",
          "text": [
            "Truncation was not explicitly activated but `max_length` is provided a specific value, please use `truncation=True` to explicitly truncate examples to max length. Defaulting to 'longest_first' truncation strategy. If you encode pairs of sequences (GLUE-style) with the tokenizer you can select this strategy more precisely by providing a specific strategy to `truncation`.\n",
            "Setting `pad_token_id` to `eos_token_id`:50256 for open-end generation.\n"
          ]
        },
        {
          "name": "stdout",
          "output_type": "stream",
          "text": [
            "Output 1: Hello, I'm a language model, and I want to change the way you read\n",
            "\n",
            "A little in today's post I want to talk about\n",
            "Output 2: Hello, I'm a language model, with two roles: the language model and the lexicographer-semantics expert. The language models are going\n",
            "Output 3: Hello, I'm a language model, and this is your brain. Here is your brain, and all this data that's stored in there, that\n",
            "Output 4: Hello, I'm a language model, and I like to talk... I want to help you talk to your customers\n",
            "\n",
            "Are you using language model\n",
            "Output 5: Hello, I'm a language model, I'm gonna tell you about what type of language you're using. We all know a language like this,\n"
          ]
        }
      ],
      "source": [
        "from transformers import pipeline\n",
        "\n",
        "checkpoints = \"openai-community/gpt2-xl\"\n",
        "generator = pipeline('text-generation', model=checkpoints)\n",
        "output = generator(\"Hello, I'm a language model,\", max_length=30, num_return_sequences=5)\n",
        "for i, o in enumerate(output):\n",
        "    print(f\"Output {i+1}: {o['generated_text']}\")"
      ]
    },
    {
      "cell_type": "markdown",
      "metadata": {},
      "source": [
        "### Gera\u00e7\u00e3o de texto com automodel"
      ]
    },
    {
      "cell_type": "markdown",
      "metadata": {},
      "source": [
        "Mas se quisermos utilizar `Automodel`, podemos fazer o seguinte"
      ]
    },
    {
      "cell_type": "code",
      "execution_count": 2,
      "metadata": {},
      "outputs": [],
      "source": [
        "import torch\n",
        "from transformers import GPT2Tokenizer, AutoTokenizer\n",
        "\n",
        "checkpoints = \"openai-community/gpt2-xl\"\n",
        "tokenizer = GPT2Tokenizer.from_pretrained(checkpoints)\n",
        "auto_tokenizer = AutoTokenizer.from_pretrained(checkpoints)"
      ]
    },
    {
      "cell_type": "markdown",
      "metadata": {},
      "source": [
        "Assim como com [GPT-1](https://maximofn.com/gpt1/#Generaci%C3%B3n-de-texto) podemos importar `GPT2Tokenizer` e `AutoTokenizer`. Isso \u00e9 porque na [model card](https://huggingface.co/openai-community/gpt2) do GPT-2 indica-se que se use `GPT2Tokenizer`, mas no post da biblioteca [transformers](https://maximofn.com/hugging-face-transformers/) explicamos que deve-se usar `AutoTokenizer` para carregar o tokenizador. Ent\u00e3o vamos testar os dois."
      ]
    },
    {
      "cell_type": "code",
      "execution_count": 3,
      "metadata": {},
      "outputs": [
        {
          "name": "stdout",
          "output_type": "stream",
          "text": [
            "input tokens: \n",
            "{'input_ids': tensor([[15496,    11,   314,  1101,   257,  3303,  2746,    11]]), 'attention_mask': tensor([[1, 1, 1, 1, 1, 1, 1, 1]])}\n",
            "input auto tokens: \n",
            "{'input_ids': tensor([[15496,    11,   314,  1101,   257,  3303,  2746,    11]]), 'attention_mask': tensor([[1, 1, 1, 1, 1, 1, 1, 1]])}\n"
          ]
        }
      ],
      "source": [
        "checkpoints = \"openai-community/gpt2-xl\"\n",
        "tokenizer = GPT2Tokenizer.from_pretrained(checkpoints)\n",
        "auto_tokenizer = AutoTokenizer.from_pretrained(checkpoints)\n",
        "\n",
        "input_tokens = tokenizer(\"Hello, I'm a language model,\", return_tensors=\"pt\")\n",
        "input_auto_tokens = auto_tokenizer(\"Hello, I'm a language model,\", return_tensors=\"pt\")\n",
        "\n",
        "print(f\"input tokens: \\n{input_tokens}\")\n",
        "print(f\"input auto tokens: \\n{input_auto_tokens}\")"
      ]
    },
    {
      "cell_type": "markdown",
      "metadata": {},
      "source": [
        "Como pode ser visto com os dois tokenizadores, s\u00e3o obtidos os mesmos tokens. Assim, para que o c\u00f3digo seja mais geral, de maneira que, se forem alterados os checkpoints, n\u00e3o seja necess\u00e1rio alterar o c\u00f3digo, vamos utilizar `AutoTokenizer`."
      ]
    },
    {
      "cell_type": "markdown",
      "metadata": {},
      "source": [
        "Criamos ent\u00e3o o dispositivo, o tokenizador e o modelo"
      ]
    },
    {
      "cell_type": "code",
      "execution_count": 2,
      "metadata": {},
      "outputs": [],
      "source": [
        "import torch\n",
        "from transformers import AutoTokenizer, GPT2LMHeadModel\n",
        "\n",
        "device = torch.device(\"cuda\" if torch.cuda.is_available() else \"cpu\")\n",
        "\n",
        "checkpoints = \"openai-community/gpt2-xl\"\n",
        "tokenizer = AutoTokenizer.from_pretrained(checkpoints)\n",
        "model = GPT2LMHeadModel.from_pretrained(checkpoints).to(device)"
      ]
    },
    {
      "cell_type": "markdown",
      "metadata": {},
      "source": [
        "Como instanciamos o modelo, vamos a ver quantos par\u00e2metros ele tem."
      ]
    },
    {
      "cell_type": "code",
      "execution_count": 3,
      "metadata": {},
      "outputs": [
        {
          "name": "stdout",
          "output_type": "stream",
          "text": [
            "Number of parameters: 1558M\n"
          ]
        }
      ],
      "source": [
        "params = sum(p.numel() for p in model.parameters())\n",
        "print(f\"Number of parameters: {round(params/1e6)}M\")"
      ]
    },
    {
      "cell_type": "markdown",
      "metadata": {},
      "source": [
        "Como vemos, carregamos o modelo com 1,5B de par\u00e2metros, mas se quis\u00e9ssemos carregar os outros modelos ter\u00edamos que fazer"
      ]
    },
    {
      "cell_type": "code",
      "execution_count": 5,
      "metadata": {},
      "outputs": [
        {
          "name": "stdout",
          "output_type": "stream",
          "text": [
            "Number of parameters of small model: 124M\n",
            "Number of parameters of medium model: 355M\n",
            "Number of parameters of large model: 774M\n",
            "Number of parameters of xl model: 1558M\n"
          ]
        }
      ],
      "source": [
        "checkpoints_small = \"openai-community/gpt2\"\n",
        "model_small = GPT2LMHeadModel.from_pretrained(checkpoints_small)\n",
        "print(f\"Number of parameters of small model: {round(sum(p.numel() for p in model_small.parameters())/1e6)}M\")\n",
        "\n",
        "checkpoints_medium = \"openai-community/gpt2-medium\"\n",
        "model_medium = GPT2LMHeadModel.from_pretrained(checkpoints_medium)\n",
        "print(f\"Number of parameters of medium model: {round(sum(p.numel() for p in model_medium.parameters())/1e6)}M\")\n",
        "\n",
        "checkpoints_large = \"openai-community/gpt2-large\"\n",
        "model_large = GPT2LMHeadModel.from_pretrained(checkpoints_large)\n",
        "print(f\"Number of parameters of large model: {round(sum(p.numel() for p in model_large.parameters())/1e6)}M\")\n",
        "\n",
        "checkpoints_xl = \"openai-community/gpt2-xl\"\n",
        "model_xl = GPT2LMHeadModel.from_pretrained(checkpoints_xl)\n",
        "print(f\"Number of parameters of xl model: {round(sum(p.numel() for p in model_xl.parameters())/1e6)}M\")"
      ]
    },
    {
      "cell_type": "markdown",
      "metadata": {},
      "source": [
        "Criamos os tokens de entrada para o modelo"
      ]
    },
    {
      "cell_type": "code",
      "execution_count": 6,
      "metadata": {},
      "outputs": [
        {
          "data": {
            "text/plain": [
              "{'input_ids': tensor([[15496,    11,   314,  1101,   257,  3303,  2746,    11]],\n",
              "       device='cuda:0'), 'attention_mask': tensor([[1, 1, 1, 1, 1, 1, 1, 1]], device='cuda:0')}"
            ]
          },
          "execution_count": 6,
          "metadata": {},
          "output_type": "execute_result"
        }
      ],
      "source": [
        "input_sentence = \"Hello, I'm a language model,\"\n",
        "input_tokens = tokenizer(input_sentence, return_tensors=\"pt\").to(device)\n",
        "\n",
        "input_tokens"
      ]
    },
    {
      "cell_type": "markdown",
      "metadata": {},
      "source": [
        "Passamos isso ao modelo para gerar os tokens de sa\u00edda"
      ]
    },
    {
      "cell_type": "code",
      "execution_count": 7,
      "metadata": {},
      "outputs": [
        {
          "name": "stderr",
          "output_type": "stream",
          "text": [
            "Setting `pad_token_id` to `eos_token_id`:50256 for open-end generation.\n",
            "/home/wallabot/miniconda3/envs/nlp/lib/python3.11/site-packages/transformers/generation/utils.py:1178: UserWarning: Using the model-agnostic default `max_length` (=20) to control the generation length. We recommend setting `max_new_tokens` to control the maximum length of the generation.\n",
            "  warnings.warn(\n"
          ]
        },
        {
          "name": "stdout",
          "output_type": "stream",
          "text": [
            "output tokens: \n",
            "tensor([[15496,    11,   314,  1101,   257,  3303,  2746,    11,   290,   314,\n",
            "          1101,  1016,   284,  1037,   345,   351,   534,  1917,    13,   198]],\n",
            "       device='cuda:0')\n"
          ]
        }
      ],
      "source": [
        "output_tokens = model.generate(**input_tokens)\n",
        "\n",
        "print(f\"output tokens: \\n{output_tokens}\")"
      ]
    },
    {
      "cell_type": "markdown",
      "metadata": {},
      "source": [
        "Decodificamos os tokens para obter a frase de sa\u00edda"
      ]
    },
    {
      "cell_type": "code",
      "execution_count": 9,
      "metadata": {},
      "outputs": [
        {
          "name": "stdout",
          "output_type": "stream",
          "text": [
            "decoded output: \n",
            "Hello, I'm a language model, and I'm going to help you with your problem.\n",
            "\n"
          ]
        }
      ],
      "source": [
        "decoded_output = tokenizer.decode(output_tokens[0], skip_special_tokens=True)\n",
        "\n",
        "print(f\"decoded output: \\n{decoded_output}\")"
      ]
    },
    {
      "cell_type": "markdown",
      "metadata": {},
      "source": [
        "J\u00e1 conseguimos gerar texto com o GPT-2"
      ]
    },
    {
      "cell_type": "markdown",
      "metadata": {},
      "source": [
        "### Gerar texto token a token"
      ]
    },
    {
      "cell_type": "markdown",
      "metadata": {},
      "source": [
        "#### Busca gulosa"
      ]
    },
    {
      "cell_type": "markdown",
      "metadata": {},
      "source": [
        "N\u00f3s usamos `model.generate` para gerar os tokens de sa\u00edda de uma s\u00f3 vez, mas vamos ver como ger\u00e1-los um a um. Para isso, em vez de usar `model.generate` vamos usar `model`, que na verdade chama o m\u00e9todo `model.forward`"
      ]
    },
    {
      "cell_type": "code",
      "execution_count": 10,
      "metadata": {},
      "outputs": [
        {
          "data": {
            "text/plain": [
              "CausalLMOutputWithCrossAttentions(loss=None, logits=tensor([[[ 6.6288,  5.1421, -0.8002,  ..., -6.3998, -4.4113,  1.8240],\n",
              "         [ 2.7250,  1.9371, -1.2293,  ..., -5.0979, -5.1617,  2.2694],\n",
              "         [ 2.6891,  4.3089, -1.6074,  ..., -7.6321, -2.0448,  0.4042],\n",
              "         ...,\n",
              "         [ 6.0513,  3.8020, -2.8080,  ..., -6.7754, -8.3176,  1.1541],\n",
              "         [ 6.8402,  5.6952,  0.2002,  ..., -9.1281, -6.7818,  2.7576],\n",
              "         [ 1.0255, -0.2201, -2.5484,  ..., -6.2137, -7.2322,  0.1665]]],\n",
              "       device='cuda:0', grad_fn=<UnsafeViewBackward0>), past_key_values=((tensor([[[[ 0.4779,  0.7671, -0.7532,  ..., -0.3551,  0.4590,  0.3073],\n",
              "          [ 0.2034, -0.6033,  0.2484,  ...,  0.7760, -0.3546,  0.0198],\n",
              "          [-0.1968, -0.9029,  0.5570,  ...,  0.9985, -0.5028, -0.3508],\n",
              "          ...,\n",
              "          [-0.5007, -0.4009,  0.1604,  ..., -0.3693, -0.1158,  0.1320],\n",
              "          [-0.4854, -0.1369,  0.7377,  ..., -0.8043, -0.1054,  0.0871],\n",
              "          [ 0.1610, -0.8358, -0.5534,  ...,  0.9951, -0.3085,  0.4574]],\n",
              "\n",
              "         [[ 0.6288, -0.1374, -0.3467,  ..., -1.0003, -1.1518,  0.3114],\n",
              "          [-1.7269,  1.2920, -0.0734,  ...,  1.0572,  1.4698, -2.0412],\n",
              "          [ 0.2714, -0.0670, -0.4769,  ...,  0.6305,  0.6890, -0.8158],\n",
              "          ...,\n",
              "          [-0.0499, -0.0721,  0.4580,  ...,  0.6797,  0.2331,  0.0210],\n",
              "          [-0.1894,  0.2077,  0.6722,  ...,  0.6938,  0.2104, -0.0574],\n",
              "          [ 0.3661, -0.0218,  0.2618,  ...,  0.8750,  1.2205, -0.6103]],\n",
              "\n",
              "         [[ 0.5964,  1.1178,  0.3604,  ...,  0.8426,  0.4881, -0.4094],\n",
              "          [ 0.3186, -0.3953,  0.2687,  ..., -0.1110, -0.5640,  0.5900],\n",
              "          ...,\n",
              "          [ 0.2092,  0.3898, -0.6061,  ..., -0.2859, -0.3136, -0.1002],\n",
              "          [ 0.0539,  0.8941,  0.3423,  ..., -0.6326, -0.1053, -0.6679],\n",
              "          [ 0.5628,  0.6687, -0.2720,  ..., -0.1073, -0.9792, -0.0302]]]],\n",
              "       device='cuda:0', grad_fn=<PermuteBackward0>))), hidden_states=None, attentions=None, cross_attentions=None)"
            ]
          },
          "execution_count": 10,
          "metadata": {},
          "output_type": "execute_result"
        }
      ],
      "source": [
        "outputs = model(**input_tokens)\n",
        "\n",
        "outputs"
      ]
    },
    {
      "cell_type": "markdown",
      "metadata": {},
      "source": [
        "Vemos que sa\u00ed muitos dados, primeiro vamos ver as chaves da sa\u00edda"
      ]
    },
    {
      "cell_type": "code",
      "execution_count": 11,
      "metadata": {},
      "outputs": [
        {
          "data": {
            "text/plain": [
              "odict_keys(['logits', 'past_key_values'])"
            ]
          },
          "execution_count": 11,
          "metadata": {},
          "output_type": "execute_result"
        }
      ],
      "source": [
        "outputs.keys()"
      ]
    },
    {
      "cell_type": "markdown",
      "metadata": {},
      "source": [
        "Neste caso, temos apenas os logits do modelo, vamos verificar seu tamanho."
      ]
    },
    {
      "cell_type": "code",
      "execution_count": 12,
      "metadata": {},
      "outputs": [
        {
          "data": {
            "text/plain": [
              "torch.Size([1, 8, 50257])"
            ]
          },
          "execution_count": 12,
          "metadata": {},
          "output_type": "execute_result"
        }
      ],
      "source": [
        "logits = outputs.logits\n",
        "\n",
        "logits.shape"
      ]
    },
    {
      "cell_type": "markdown",
      "metadata": {},
      "source": [
        "Vamos ver quantos tokens t\u00ednhamos na entrada"
      ]
    },
    {
      "cell_type": "code",
      "execution_count": 13,
      "metadata": {},
      "outputs": [
        {
          "data": {
            "text/plain": [
              "torch.Size([1, 8])"
            ]
          },
          "execution_count": 13,
          "metadata": {},
          "output_type": "execute_result"
        }
      ],
      "source": [
        "input_tokens.input_ids.shape"
      ]
    },
    {
      "cell_type": "markdown",
      "metadata": {},
      "source": [
        "Bem, na sa\u00edda temos o mesmo n\u00famero de logits que na entrada. Isso \u00e9 normal."
      ]
    },
    {
      "cell_type": "markdown",
      "metadata": {},
      "source": [
        "Obtemos os logits da \u00faltima posi\u00e7\u00e3o da sa\u00edda"
      ]
    },
    {
      "cell_type": "code",
      "execution_count": 14,
      "metadata": {},
      "outputs": [
        {
          "data": {
            "text/plain": [
              "torch.Size([50257])"
            ]
          },
          "execution_count": 14,
          "metadata": {},
          "output_type": "execute_result"
        }
      ],
      "source": [
        "nex_token_logits = logits[0,-1]\n",
        "\n",
        "nex_token_logits.shape"
      ]
    },
    {
      "cell_type": "markdown",
      "metadata": {},
      "source": [
        "H\u00e1 um total de 50257 logits, ou seja, h\u00e1 um vocabul\u00e1rio de 50257 tokens e temos que ver qual \u00e9 o token com a maior probabilidade, para isso primeiro calculamos a softmax"
      ]
    },
    {
      "cell_type": "code",
      "execution_count": 15,
      "metadata": {},
      "outputs": [
        {
          "data": {
            "text/plain": [
              "torch.Size([50257])"
            ]
          },
          "execution_count": 15,
          "metadata": {},
          "output_type": "execute_result"
        }
      ],
      "source": [
        "softmax_logits = torch.softmax(nex_token_logits, dim=0)\n",
        "\n",
        "softmax_logits.shape"
      ]
    },
    {
      "cell_type": "markdown",
      "metadata": {},
      "source": [
        "Uma vez que calculamos a softmax, obtemos o token mais prov\u00e1vel procurando aquele que tenha a maior probabilidade, ou seja, aquele que tenha o maior valor ap\u00f3s a softmax."
      ]
    },
    {
      "cell_type": "code",
      "execution_count": 16,
      "metadata": {},
      "outputs": [
        {
          "data": {
            "text/plain": [
              "(tensor(0.1732, device='cuda:0', grad_fn=<MaxBackward0>),\n",
              " tensor(290, device='cuda:0'))"
            ]
          },
          "execution_count": 16,
          "metadata": {},
          "output_type": "execute_result"
        }
      ],
      "source": [
        "next_token_prob, next_token_id = torch.max(softmax_logits, dim=0)\n",
        "\n",
        "next_token_prob, next_token_id"
      ]
    },
    {
      "cell_type": "markdown",
      "metadata": {},
      "source": [
        "Obtivemos o seguinte token, agora vamos decodific\u00e1-lo."
      ]
    },
    {
      "cell_type": "code",
      "execution_count": 17,
      "metadata": {},
      "outputs": [
        {
          "data": {
            "text/plain": [
              "' and'"
            ]
          },
          "execution_count": 17,
          "metadata": {},
          "output_type": "execute_result"
        }
      ],
      "source": [
        "tokenizer.decode(next_token_id.item())"
      ]
    },
    {
      "cell_type": "markdown",
      "metadata": {},
      "source": [
        "Obtivemos o seguinte token atrav\u00e9s do m\u00e9todo greedy, ou seja, o token com a maior probabilidade. Mas j\u00e1 vimos no post da biblioteca transformers as [formas de gerar textos](https://maximofn.com/hugging-face-transformers/#Formas-de-genera\u00e7\u00e3o-de-texto) que podem ser feitas `sampling`, `top-k`, `top-p`, etc."
      ]
    },
    {
      "cell_type": "markdown",
      "metadata": {},
      "source": [
        "Vamos a colocar tudo dentro de uma fun\u00e7\u00e3o e ver o que sai se gerarmos alguns tokens"
      ]
    },
    {
      "cell_type": "code",
      "execution_count": 18,
      "metadata": {},
      "outputs": [],
      "source": [
        "def generate_next_greedy_token(input_sentence, tokenizer, model, device):\n",
        "    input_tokens = tokenizer(input_sentence, return_tensors=\"pt\").to(device)\n",
        "    outputs = model(**input_tokens)\n",
        "    logits = outputs.logits\n",
        "    nex_token_logits = logits[0,-1]\n",
        "    softmax_logits = torch.softmax(nex_token_logits, dim=0)\n",
        "    next_token_prob, next_token_id = torch.max(softmax_logits, dim=0)\n",
        "    return next_token_prob, next_token_id"
      ]
    },
    {
      "cell_type": "code",
      "execution_count": 19,
      "metadata": {},
      "outputs": [],
      "source": [
        "def generate_greedy_text(input_sentence, tokenizer, model, device, max_length=20):\n",
        "    generated_text = input_sentence\n",
        "    for _ in range(max_length):\n",
        "        next_token_prob, next_token_id = generate_next_greedy_token(generated_text, tokenizer, model, device)\n",
        "        generated_text += tokenizer.decode(next_token_id.item())\n",
        "    return generated_text"
      ]
    },
    {
      "cell_type": "markdown",
      "metadata": {},
      "source": [
        "Agora geramos texto"
      ]
    },
    {
      "cell_type": "code",
      "execution_count": 22,
      "metadata": {},
      "outputs": [
        {
          "data": {
            "text/plain": [
              "\"Hello, I'm a language model, and I'm going to help you with your problem.\\n\\n\\nI'm going to help you\""
            ]
          },
          "execution_count": 22,
          "metadata": {},
          "output_type": "execute_result"
        }
      ],
      "source": [
        "generate_greedy_text(\"Hello, I'm a language model,\", tokenizer, model, device)"
      ]
    },
    {
      "cell_type": "markdown",
      "metadata": {},
      "source": [
        "A sa\u00edda \u00e9 bastante repetitiva, como j\u00e1 foi visto nas [formas de gerar textos](https://maximofn.com/hugging-face-transformers/#Formas-de-gera\u00e7\u00e3o-de-texto). Mas ainda assim, \u00e9 uma sa\u00edda melhor do que a obtida com [GPT-1](https://maximofn.com/gpt1/#Gera\u00e7\u00e3o-de-texto)"
      ]
    },
    {
      "cell_type": "markdown",
      "metadata": {},
      "source": [
        "## Arquitetura dos modelos dispon\u00edveis na Hugging Face"
      ]
    },
    {
      "cell_type": "markdown",
      "metadata": {},
      "source": [
        "Se formos \u00e0 documenta\u00e7\u00e3o do Hugging Face de [GPT2](https://huggingface.co/docs/transformers/en/model_doc/gpt2) podemos ver que temos as op\u00e7\u00f5es `GPT2Model`, `GPT2LMHeadModel`, `GPT2ForSequenceClassification`, `GPT2ForQuestionAnswering`, `GPT2ForTokenClassification`. Vamos v\u00ea-los"
      ]
    },
    {
      "cell_type": "code",
      "execution_count": 3,
      "metadata": {},
      "outputs": [],
      "source": [
        "import torch\n",
        "\n",
        "ckeckpoints = \"openai-community/gpt2\""
      ]
    },
    {
      "cell_type": "markdown",
      "metadata": {},
      "source": [
        "### GPT2Model"
      ]
    },
    {
      "cell_type": "markdown",
      "metadata": {},
      "source": [
        "Este \u00e9 o modelo base, ou seja, o decodificador do transformer"
      ]
    },
    {
      "cell_type": "code",
      "execution_count": 4,
      "metadata": {},
      "outputs": [
        {
          "data": {
            "text/plain": [
              "GPT2Model(\n",
              "  (wte): Embedding(50257, 768)\n",
              "  (wpe): Embedding(1024, 768)\n",
              "  (drop): Dropout(p=0.1, inplace=False)\n",
              "  (h): ModuleList(\n",
              "    (0-11): 12 x GPT2Block(\n",
              "      (ln_1): LayerNorm((768,), eps=1e-05, elementwise_affine=True)\n",
              "      (attn): GPT2Attention(\n",
              "        (c_attn): Conv1D()\n",
              "        (c_proj): Conv1D()\n",
              "        (attn_dropout): Dropout(p=0.1, inplace=False)\n",
              "        (resid_dropout): Dropout(p=0.1, inplace=False)\n",
              "      )\n",
              "      (ln_2): LayerNorm((768,), eps=1e-05, elementwise_affine=True)\n",
              "      (mlp): GPT2MLP(\n",
              "        (c_fc): Conv1D()\n",
              "        (c_proj): Conv1D()\n",
              "        (act): NewGELUActivation()\n",
              "        (dropout): Dropout(p=0.1, inplace=False)\n",
              "      )\n",
              "    )\n",
              "  )\n",
              "  (ln_f): LayerNorm((768,), eps=1e-05, elementwise_affine=True)\n",
              ")"
            ]
          },
          "execution_count": 4,
          "metadata": {},
          "output_type": "execute_result"
        }
      ],
      "source": [
        "from transformers import GPT2Model\n",
        "model = GPT2Model.from_pretrained(ckeckpoints)\n",
        "model"
      ]
    },
    {
      "cell_type": "markdown",
      "metadata": {},
      "source": [
        "Como se pode ver na sa\u00edda um tensor de dimens\u00e3o 768, que \u00e9 a dimens\u00e3o dos embeddings do modelo pequeno. Se tiv\u00e9ssemos usado o modelo `openai-community/gpt2-xl`, ter\u00edamos obtido uma sa\u00edda de 1600.",
        "\n",
        "De acordo com a tarefa que se deseja realizar, agora seria necess\u00e1rio adicionar mais camadas.",
        "\n",
        "Podemos adicion\u00e1-las manualmente, mas os pesos dessas camadas ser\u00e3o inicializados aleatoriamente. Enquanto isso, se usarmos os modelos da Hugging Face com essas camadas, os pesos est\u00e3o pr\u00e9-treinados."
      ]
    },
    {
      "cell_type": "markdown",
      "metadata": {},
      "source": [
        "### GPT2LMHeadModel"
      ]
    },
    {
      "cell_type": "markdown",
      "metadata": {},
      "source": [
        "\u00c9 o que usamos anteriormente para gerar texto"
      ]
    },
    {
      "cell_type": "code",
      "execution_count": 5,
      "metadata": {},
      "outputs": [
        {
          "data": {
            "text/plain": [
              "GPT2LMHeadModel(\n",
              "  (transformer): GPT2Model(\n",
              "    (wte): Embedding(50257, 768)\n",
              "    (wpe): Embedding(1024, 768)\n",
              "    (drop): Dropout(p=0.1, inplace=False)\n",
              "    (h): ModuleList(\n",
              "      (0-11): 12 x GPT2Block(\n",
              "        (ln_1): LayerNorm((768,), eps=1e-05, elementwise_affine=True)\n",
              "        (attn): GPT2Attention(\n",
              "          (c_attn): Conv1D()\n",
              "          (c_proj): Conv1D()\n",
              "          (attn_dropout): Dropout(p=0.1, inplace=False)\n",
              "          (resid_dropout): Dropout(p=0.1, inplace=False)\n",
              "        )\n",
              "        (ln_2): LayerNorm((768,), eps=1e-05, elementwise_affine=True)\n",
              "        (mlp): GPT2MLP(\n",
              "          (c_fc): Conv1D()\n",
              "          (c_proj): Conv1D()\n",
              "          (act): NewGELUActivation()\n",
              "          (dropout): Dropout(p=0.1, inplace=False)\n",
              "        )\n",
              "      )\n",
              "    )\n",
              "    (ln_f): LayerNorm((768,), eps=1e-05, elementwise_affine=True)\n",
              "  )\n",
              "  (lm_head): Linear(in_features=768, out_features=50257, bias=False)\n",
              ")"
            ]
          },
          "execution_count": 5,
          "metadata": {},
          "output_type": "execute_result"
        }
      ],
      "source": [
        "from transformers import GPT2LMHeadModel\n",
        "model = GPT2LMHeadModel.from_pretrained(ckeckpoints)\n",
        "model"
      ]
    },
    {
      "cell_type": "markdown",
      "metadata": {},
      "source": [
        "Como pode ser visto, \u00e9 o mesmo modelo que antes, apenas com uma camada linear adicionada no final, com uma entrada de 768 (os embeddings) e uma sa\u00edda de 50257, que corresponde ao tamanho do vocabul\u00e1rio."
      ]
    },
    {
      "cell_type": "markdown",
      "metadata": {},
      "source": [
        "### GPT2ForSequenceClassification"
      ]
    },
    {
      "cell_type": "markdown",
      "metadata": {},
      "source": [
        "Esta op\u00e7\u00e3o \u00e9 para classificar sequ\u00eancias de texto, neste caso temos que especificar com `num_labels` o n\u00famero de classes que queremos classificar."
      ]
    },
    {
      "cell_type": "code",
      "execution_count": 10,
      "metadata": {},
      "outputs": [
        {
          "name": "stderr",
          "output_type": "stream",
          "text": [
            "Some weights of GPT2ForSequenceClassification were not initialized from the model checkpoint at openai-community/gpt2 and are newly initialized: ['score.weight']\n",
            "You should probably TRAIN this model on a down-stream task to be able to use it for predictions and inference.\n"
          ]
        },
        {
          "data": {
            "text/plain": [
              "GPT2ForSequenceClassification(\n",
              "  (transformer): GPT2Model(\n",
              "    (wte): Embedding(50257, 768)\n",
              "    (wpe): Embedding(1024, 768)\n",
              "    (drop): Dropout(p=0.1, inplace=False)\n",
              "    (h): ModuleList(\n",
              "      (0-11): 12 x GPT2Block(\n",
              "        (ln_1): LayerNorm((768,), eps=1e-05, elementwise_affine=True)\n",
              "        (attn): GPT2Attention(\n",
              "          (c_attn): Conv1D()\n",
              "          (c_proj): Conv1D()\n",
              "          (attn_dropout): Dropout(p=0.1, inplace=False)\n",
              "          (resid_dropout): Dropout(p=0.1, inplace=False)\n",
              "        )\n",
              "        (ln_2): LayerNorm((768,), eps=1e-05, elementwise_affine=True)\n",
              "        (mlp): GPT2MLP(\n",
              "          (c_fc): Conv1D()\n",
              "          (c_proj): Conv1D()\n",
              "          (act): NewGELUActivation()\n",
              "          (dropout): Dropout(p=0.1, inplace=False)\n",
              "        )\n",
              "      )\n",
              "    )\n",
              "    (ln_f): LayerNorm((768,), eps=1e-05, elementwise_affine=True)\n",
              "  )\n",
              "  (score): Linear(in_features=768, out_features=5, bias=False)\n",
              ")"
            ]
          },
          "execution_count": 10,
          "metadata": {},
          "output_type": "execute_result"
        }
      ],
      "source": [
        "from transformers import GPT2ForSequenceClassification\n",
        "model = GPT2ForSequenceClassification.from_pretrained(ckeckpoints, num_labels=5)\n",
        "model"
      ]
    },
    {
      "cell_type": "markdown",
      "metadata": {},
      "source": [
        "Agora, em vez de ter uma sa\u00edda de 50257, temos uma sa\u00edda de 5, que \u00e9 o n\u00famero que introduzimos em `num_labels` e \u00e9 o n\u00famero de classes que queremos classificar."
      ]
    },
    {
      "cell_type": "markdown",
      "metadata": {},
      "source": [
        "### GPT2ParaRespostaDePerguntas"
      ]
    },
    {
      "cell_type": "markdown",
      "metadata": {},
      "source": [
        "No post de [transformers](https://maximofn.com/hugging-face-transformers/) explicamos que, neste modo, passa-se um contexto ao modelo e uma pergunta sobre o contexto e ele retorna a resposta."
      ]
    },
    {
      "cell_type": "code",
      "execution_count": 13,
      "metadata": {},
      "outputs": [
        {
          "name": "stderr",
          "output_type": "stream",
          "text": [
            "Some weights of GPT2ForQuestionAnswering were not initialized from the model checkpoint at openai-community/gpt2 and are newly initialized: ['qa_outputs.bias', 'qa_outputs.weight']\n",
            "You should probably TRAIN this model on a down-stream task to be able to use it for predictions and inference.\n"
          ]
        },
        {
          "data": {
            "text/plain": [
              "GPT2ForQuestionAnswering(\n",
              "  (transformer): GPT2Model(\n",
              "    (wte): Embedding(50257, 768)\n",
              "    (wpe): Embedding(1024, 768)\n",
              "    (drop): Dropout(p=0.1, inplace=False)\n",
              "    (h): ModuleList(\n",
              "      (0-11): 12 x GPT2Block(\n",
              "        (ln_1): LayerNorm((768,), eps=1e-05, elementwise_affine=True)\n",
              "        (attn): GPT2Attention(\n",
              "          (c_attn): Conv1D()\n",
              "          (c_proj): Conv1D()\n",
              "          (attn_dropout): Dropout(p=0.1, inplace=False)\n",
              "          (resid_dropout): Dropout(p=0.1, inplace=False)\n",
              "        )\n",
              "        (ln_2): LayerNorm((768,), eps=1e-05, elementwise_affine=True)\n",
              "        (mlp): GPT2MLP(\n",
              "          (c_fc): Conv1D()\n",
              "          (c_proj): Conv1D()\n",
              "          (act): NewGELUActivation()\n",
              "          (dropout): Dropout(p=0.1, inplace=False)\n",
              "        )\n",
              "      )\n",
              "    )\n",
              "    (ln_f): LayerNorm((768,), eps=1e-05, elementwise_affine=True)\n",
              "  )\n",
              "  (qa_outputs): Linear(in_features=768, out_features=2, bias=True)\n",
              ")"
            ]
          },
          "execution_count": 13,
          "metadata": {},
          "output_type": "execute_result"
        }
      ],
      "source": [
        "from transformers import GPT2ForQuestionAnswering\n",
        "model = GPT2ForQuestionAnswering.from_pretrained(ckeckpoints)\n",
        "model"
      ]
    },
    {
      "cell_type": "markdown",
      "metadata": {},
      "source": [
        "Vemos que na sa\u00edda nos d\u00e1 um tensor de duas dimens\u00f5es"
      ]
    },
    {
      "cell_type": "markdown",
      "metadata": {},
      "source": [
        "### GPT2ForTokenClassification"
      ]
    },
    {
      "cell_type": "markdown",
      "metadata": {},
      "source": [
        "Tamb\u00e9m no post de [transformers](https://maximofn.com/hugging-face-transformers/) contamos o que era token classification, explicamos que classificava a qual categoria correspondia cada token. Temos que passar o n\u00famero de classes que queremos classificar com `num_labels`"
      ]
    },
    {
      "cell_type": "code",
      "execution_count": 2,
      "metadata": {},
      "outputs": [
        {
          "name": "stderr",
          "output_type": "stream",
          "text": [
            "Some weights of GPT2ForTokenClassification were not initialized from the model checkpoint at openai-community/gpt2 and are newly initialized: ['classifier.bias', 'classifier.weight']\n",
            "You should probably TRAIN this model on a down-stream task to be able to use it for predictions and inference.\n"
          ]
        },
        {
          "data": {
            "text/plain": [
              "GPT2ForTokenClassification(\n",
              "  (transformer): GPT2Model(\n",
              "    (wte): Embedding(50257, 768)\n",
              "    (wpe): Embedding(1024, 768)\n",
              "    (drop): Dropout(p=0.1, inplace=False)\n",
              "    (h): ModuleList(\n",
              "      (0-11): 12 x GPT2Block(\n",
              "        (ln_1): LayerNorm((768,), eps=1e-05, elementwise_affine=True)\n",
              "        (attn): GPT2Attention(\n",
              "          (c_attn): Conv1D()\n",
              "          (c_proj): Conv1D()\n",
              "          (attn_dropout): Dropout(p=0.1, inplace=False)\n",
              "          (resid_dropout): Dropout(p=0.1, inplace=False)\n",
              "        )\n",
              "        (ln_2): LayerNorm((768,), eps=1e-05, elementwise_affine=True)\n",
              "        (mlp): GPT2MLP(\n",
              "          (c_fc): Conv1D()\n",
              "          (c_proj): Conv1D()\n",
              "          (act): NewGELUActivation()\n",
              "          (dropout): Dropout(p=0.1, inplace=False)\n",
              "        )\n",
              "      )\n",
              "    )\n",
              "    (ln_f): LayerNorm((768,), eps=1e-05, elementwise_affine=True)\n",
              "  )\n",
              "  (dropout): Dropout(p=0.1, inplace=False)\n",
              "  (classifier): Linear(in_features=768, out_features=5, bias=True)\n",
              ")"
            ]
          },
          "execution_count": 2,
          "metadata": {},
          "output_type": "execute_result"
        }
      ],
      "source": [
        "from transformers import GPT2ForTokenClassification\n",
        "model = GPT2ForTokenClassification.from_pretrained(ckeckpoints, num_labels=5)\n",
        "model"
      ]
    },
    {
      "cell_type": "markdown",
      "metadata": {},
      "source": [
        "Na sa\u00edda obtemos as cinco classes que especificamos com `num_labels`"
      ]
    },
    {
      "cell_type": "markdown",
      "metadata": {},
      "source": [
        "## Ajuste fino do GPT-2"
      ]
    },
    {
      "cell_type": "markdown",
      "metadata": {},
      "source": [
        "### Ajuste fino para gera\u00e7\u00e3o de texto"
      ]
    },
    {
      "cell_type": "markdown",
      "metadata": {},
      "source": [
        "Primeiro vamos ver como seria o treinamento com puro Pytorch"
      ]
    },
    {
      "cell_type": "markdown",
      "metadata": {},
      "source": [
        "#### C\u00e1lculo da perda"
      ]
    },
    {
      "cell_type": "markdown",
      "metadata": {},
      "source": [
        "Antes de come\u00e7ar a fazer o fine tuning do GPT-2, vamos ver uma coisa. Antes, quando obt\u00ednhamos a sa\u00edda do modelo, faz\u00edamos isso"
      ]
    },
    {
      "cell_type": "code",
      "execution_count": 23,
      "metadata": {},
      "outputs": [
        {
          "data": {
            "text/plain": [
              "CausalLMOutputWithCrossAttentions(loss=None, logits=tensor([[[ 6.6288,  5.1421, -0.8002,  ..., -6.3998, -4.4113,  1.8240],\n",
              "         [ 2.7250,  1.9371, -1.2293,  ..., -5.0979, -5.1617,  2.2694],\n",
              "         [ 2.6891,  4.3089, -1.6074,  ..., -7.6321, -2.0448,  0.4042],\n",
              "         ...,\n",
              "         [ 6.0513,  3.8020, -2.8080,  ..., -6.7754, -8.3176,  1.1541],\n",
              "         [ 6.8402,  5.6952,  0.2002,  ..., -9.1281, -6.7818,  2.7576],\n",
              "         [ 1.0255, -0.2201, -2.5484,  ..., -6.2137, -7.2322,  0.1665]]],\n",
              "       device='cuda:0', grad_fn=<UnsafeViewBackward0>), past_key_values=((tensor([[[[ 0.4779,  0.7671, -0.7532,  ..., -0.3551,  0.4590,  0.3073],\n",
              "          [ 0.2034, -0.6033,  0.2484,  ...,  0.7760, -0.3546,  0.0198],\n",
              "          [-0.1968, -0.9029,  0.5570,  ...,  0.9985, -0.5028, -0.3508],\n",
              "          ...,\n",
              "          [-0.5007, -0.4009,  0.1604,  ..., -0.3693, -0.1158,  0.1320],\n",
              "          [-0.4854, -0.1369,  0.7377,  ..., -0.8043, -0.1054,  0.0871],\n",
              "          [ 0.1610, -0.8358, -0.5534,  ...,  0.9951, -0.3085,  0.4574]],\n",
              "\n",
              "         [[ 0.6288, -0.1374, -0.3467,  ..., -1.0003, -1.1518,  0.3114],\n",
              "          [-1.7269,  1.2920, -0.0734,  ...,  1.0572,  1.4698, -2.0412],\n",
              "          [ 0.2714, -0.0670, -0.4769,  ...,  0.6305,  0.6890, -0.8158],\n",
              "          ...,\n",
              "          [-0.0499, -0.0721,  0.4580,  ...,  0.6797,  0.2331,  0.0210],\n",
              "          [-0.1894,  0.2077,  0.6722,  ...,  0.6938,  0.2104, -0.0574],\n",
              "          [ 0.3661, -0.0218,  0.2618,  ...,  0.8750,  1.2205, -0.6103]],\n",
              "\n",
              "         [[ 0.5964,  1.1178,  0.3604,  ...,  0.8426,  0.4881, -0.4094],\n",
              "          [ 0.3186, -0.3953,  0.2687,  ..., -0.1110, -0.5640,  0.5900],\n",
              "          ...,\n",
              "          [ 0.2092,  0.3898, -0.6061,  ..., -0.2859, -0.3136, -0.1002],\n",
              "          [ 0.0539,  0.8941,  0.3423,  ..., -0.6326, -0.1053, -0.6679],\n",
              "          [ 0.5628,  0.6687, -0.2720,  ..., -0.1073, -0.9792, -0.0302]]]],\n",
              "       device='cuda:0', grad_fn=<PermuteBackward0>))), hidden_states=None, attentions=None, cross_attentions=None)"
            ]
          },
          "execution_count": 23,
          "metadata": {},
          "output_type": "execute_result"
        }
      ],
      "source": [
        "outputs = model(**input_tokens)\n",
        "\n",
        "outputs"
      ]
    },
    {
      "cell_type": "markdown",
      "metadata": {},
      "source": [
        "Pode-se ver que obtemos `loss=None`"
      ]
    },
    {
      "cell_type": "code",
      "execution_count": 24,
      "metadata": {},
      "outputs": [
        {
          "name": "stdout",
          "output_type": "stream",
          "text": [
            "None\n"
          ]
        }
      ],
      "source": [
        "print(outputs.loss)"
      ]
    },
    {
      "cell_type": "markdown",
      "metadata": {},
      "source": [
        "Como vamos a precisar da loss para fazer o fine tuning, vamos a ver como obt\u00ea-la.",
        "\n",
        "Se n\u00f3s formos \u00e0 documenta\u00e7\u00e3o do m\u00e9todo [forward](https://huggingface.co/docs/transformers/model_doc/gpt2#transformers.GPT2LMHeadModel.forward) de `GPT2LMHeadModel`, podemos ver que diz que na sa\u00edda retorna um objeto do tipo `transformers.modeling_outputs.CausalLMOutputWithCrossAttentions`, ent\u00e3o se formos \u00e0 documenta\u00e7\u00e3o de [transformers.modeling_outputs.CausalLMOutputWithCrossAttentions](https://huggingface.co/docs/transformers/v4.41.3/en/main_classes/output#transformers.modeling_outputs.CausalLMOutputWithCrossAttentions), podemos ver que diz que retorna `loss` se for passado `labels` para o m\u00e9todo `forward`.",
        "\n",
        "Se n\u00f3s f\u00f4ssemos \u00e0 fonte do c\u00f3digo do m\u00e9todo [forward](https://github.com/huggingface/transformers/blob/main/src/transformers/models/gpt2/modeling_gpt2.py#L1277), ver\u00edamos este bloco de c\u00f3digo",
        "\n",
        "```python\n",
        "perda = None",
        "se labels n\u00e3o for None:",
        "# mover r\u00f3tulos para o dispositivo correto para habilitar o paralelismo do modelo",
        "labels = labels.to(lm_logits.device)",
        "# Desloque para que os tokens < n prevejam n",
        "shift_logits = lm_logits[..., :-1, :].contiguous()",
        "shift_labels = labels[..., 1:].contiguous()",
        "# Aplanar os tokens",
        "loss_fct = CrossEntropyLoss()",
        "loss = loss_fct(shift_logits.view(-1, shift_logits.size(-1)), shift_labels.view(-1))",
        "```\n",
        "\n",
        "Isso significa que a `loss` \u00e9 calculada da seguinte maneira",
        "\n",
        "* Shift de logits e labels: A primeira parte \u00e9 deslocar os logits (`lm_logits`) e as etiquetas (`labels`) para que os `tokens < n` prevejam `n`, ou seja, a partir de uma posi\u00e7\u00e3o `n` se prev\u00ea o pr\u00f3ximo token com base nos anteriores.",
        "* CrossEntropyLoss: Cria-se uma inst\u00e2ncia da fun\u00e7\u00e3o de perda `CrossEntropyLoss()`.",
        "* Aplanar tokens: A seguir, os logits e as etiquetas s\u00e3o aplainados utilizando `view(-1, shift_logits.size(-1))` e `view(-1)`, respectivamente. Isso \u00e9 feito para que os logits e as etiquetas tenham a mesma forma para a fun\u00e7\u00e3o de perda.",
        "* C\u00e1lculo da perda: Finalmente, calcula-se a perda utilizando a fun\u00e7\u00e3o de perda `CrossEntropyLoss()` com os logits achatados e as etiquetas achatadas como entradas.",
        "\n",
        "Em resumo, a `loss` \u00e9 calculada como a perda de entropia cruzada entre os logits deslocados e achatados e as labels deslocadas e achatadas.",
        "\n",
        "Portanto, se passarmos os labels para o m\u00e9todo `forward`, ele retornar\u00e1 a `loss`."
      ]
    },
    {
      "cell_type": "code",
      "execution_count": 25,
      "metadata": {},
      "outputs": [
        {
          "data": {
            "text/plain": [
              "tensor(3.8028, device='cuda:0', grad_fn=<NllLossBackward0>)"
            ]
          },
          "execution_count": 25,
          "metadata": {},
          "output_type": "execute_result"
        }
      ],
      "source": [
        "outputs = model(**input_tokens, labels=input_tokens.input_ids)\n",
        "\n",
        "outputs.loss"
      ]
    },
    {
      "cell_type": "markdown",
      "metadata": {},
      "source": [
        "#### Conjunto de Dados"
      ]
    },
    {
      "cell_type": "markdown",
      "metadata": {},
      "source": [
        "Para o treinamento vamos usar um dataset de piadas em ingl\u00eas [short-jokes-dataset](https://huggingface.co/datasets/Maximofn/short-jokes-dataset), que \u00e9 um dataset com 231 mil piadas em ingl\u00eas.",
        "\n",
        "> Reiniciamos o notebook para que n\u00e3o haja problemas com a mem\u00f3ria da GPU"
      ]
    },
    {
      "cell_type": "markdown",
      "metadata": {},
      "source": [
        "Baixamos o dataset"
      ]
    },
    {
      "cell_type": "code",
      "execution_count": 1,
      "metadata": {},
      "outputs": [
        {
          "data": {
            "text/plain": [
              "DatasetDict({\n",
              "    train: Dataset({\n",
              "        features: ['ID', 'Joke'],\n",
              "        num_rows: 231657\n",
              "    })\n",
              "})"
            ]
          },
          "execution_count": 1,
          "metadata": {},
          "output_type": "execute_result"
        }
      ],
      "source": [
        "from datasets import load_dataset\n",
        "\n",
        "jokes = load_dataset(\"Maximofn/short-jokes-dataset\")\n",
        "jokes"
      ]
    },
    {
      "cell_type": "markdown",
      "metadata": {},
      "source": [
        "Vamos v\u00ea-lo um pouco"
      ]
    },
    {
      "cell_type": "code",
      "execution_count": 2,
      "metadata": {},
      "outputs": [
        {
          "data": {
            "text/plain": [
              "{'ID': 1,\n",
              " 'Joke': '[me narrating a documentary about narrators] \"I can\\'t hear what they\\'re saying cuz I\\'m talking\"'}"
            ]
          },
          "execution_count": 2,
          "metadata": {},
          "output_type": "execute_result"
        }
      ],
      "source": [
        "jokes[\"train\"][0]"
      ]
    },
    {
      "cell_type": "markdown",
      "metadata": {},
      "source": [
        "#### Inst\u00e2ncia do modelo"
      ]
    },
    {
      "cell_type": "markdown",
      "metadata": {},
      "source": [
        "Para poder usar o modelo `xl`, ou seja, o de 1,5B de par\u00e2metros, eu o passo para FP16 para n\u00e3o ficar sem mem\u00f3ria."
      ]
    },
    {
      "cell_type": "code",
      "execution_count": 2,
      "metadata": {},
      "outputs": [],
      "source": [
        "import torch\n",
        "from transformers import AutoTokenizer, GPT2LMHeadModel\n",
        "\n",
        "device = torch.device(\"cuda\" if torch.cuda.is_available() else \"cpu\")\n",
        "\n",
        "ckeckpoints = \"openai-community/gpt2-xl\"\n",
        "tokenizer = AutoTokenizer.from_pretrained(ckeckpoints)\n",
        "model = GPT2LMHeadModel.from_pretrained(ckeckpoints)\n",
        "\n",
        "model = model.half().to(device)"
      ]
    },
    {
      "cell_type": "markdown",
      "metadata": {},
      "source": [
        "#### Conjunto de dados do Pytorch"
      ]
    },
    {
      "cell_type": "markdown",
      "metadata": {},
      "source": [
        "Criamos uma classe Dataset do Pytorch"
      ]
    },
    {
      "cell_type": "code",
      "execution_count": 3,
      "metadata": {},
      "outputs": [],
      "source": [
        "from torch.utils.data import Dataset\n",
        "\n",
        "class JokesDataset(Dataset):\n",
        "    def __init__(self, dataset, tokenizer):\n",
        "        self.dataset = dataset\n",
        "        self.joke = \"JOKE: \"\n",
        "        self.end_of_text_token = \"<|endoftext|>\"\n",
        "        self.tokenizer = tokenizer\n",
        "        \n",
        "    def __len__(self):\n",
        "        return len(self.dataset[\"train\"])\n",
        "\n",
        "    def __getitem__(self, item):\n",
        "        sentence = self.joke + self.dataset[\"train\"][item][\"Joke\"] + self.end_of_text_token\n",
        "        tokens = self.tokenizer(sentence, return_tensors=\"pt\")\n",
        "        return sentence, tokens"
      ]
    },
    {
      "cell_type": "markdown",
      "metadata": {},
      "source": [
        "A instanciamos"
      ]
    },
    {
      "cell_type": "code",
      "execution_count": 4,
      "metadata": {},
      "outputs": [],
      "source": [
        "dataset = JokesDataset(jokes, tokenizer=tokenizer)"
      ]
    },
    {
      "cell_type": "markdown",
      "metadata": {},
      "source": [
        "Vemos um exemplo"
      ]
    },
    {
      "cell_type": "code",
      "execution_count": 5,
      "metadata": {},
      "outputs": [
        {
          "name": "stdout",
          "output_type": "stream",
          "text": [
            "JOKE: Why can't Barbie get pregnant? Because Ken comes in a different box. Heyooooooo<|endoftext|>\n"
          ]
        },
        {
          "data": {
            "text/plain": [
              "(torch.Size([1, 22]), torch.Size([1, 22]))"
            ]
          },
          "execution_count": 5,
          "metadata": {},
          "output_type": "execute_result"
        }
      ],
      "source": [
        "sentence, tokens = dataset[5]\n",
        "print(sentence)\n",
        "tokens.input_ids.shape, tokens.attention_mask.shape"
      ]
    },
    {
      "cell_type": "markdown",
      "metadata": {},
      "source": [
        "#### Dataloader"
      ]
    },
    {
      "cell_type": "markdown",
      "metadata": {},
      "source": [
        "Criamos agora um DataLoader do Pytorch"
      ]
    },
    {
      "cell_type": "code",
      "execution_count": 6,
      "metadata": {},
      "outputs": [],
      "source": [
        "from torch.utils.data import DataLoader\n",
        "\n",
        "BS = 1\n",
        "joke_dataloader = DataLoader(dataset, batch_size=BS, shuffle=True)"
      ]
    },
    {
      "cell_type": "markdown",
      "metadata": {},
      "source": [
        "Vemos um lote"
      ]
    },
    {
      "cell_type": "code",
      "execution_count": 7,
      "metadata": {},
      "outputs": [
        {
          "data": {
            "text/plain": [
              "(1, torch.Size([1, 1, 36]), torch.Size([1, 1, 36]))"
            ]
          },
          "execution_count": 7,
          "metadata": {},
          "output_type": "execute_result"
        }
      ],
      "source": [
        "sentences, tokens = next(iter(joke_dataloader))\n",
        "len(sentences), tokens.input_ids.shape, tokens.attention_mask.shape"
      ]
    },
    {
      "cell_type": "markdown",
      "metadata": {},
      "source": [
        "#### Treinamento"
      ]
    },
    {
      "cell_type": "code",
      "execution_count": 8,
      "metadata": {},
      "outputs": [
        {
          "name": "stderr",
          "output_type": "stream",
          "text": [
            "/home/wallabot/miniconda3/envs/nlp/lib/python3.11/site-packages/transformers/optimization.py:429: FutureWarning: This implementation of AdamW is deprecated and will be removed in a future version. Use the PyTorch implementation torch.optim.AdamW instead, or set `no_deprecation_warning=True` to disable this warning\n",
            "  warnings.warn(\n"
          ]
        },
        {
          "name": "stdout",
          "output_type": "stream",
          "text": [
            "EPOCH 0 started==============================\n"
          ]
        },
        {
          "name": "stderr",
          "output_type": "stream",
          "text": [
            "Training:   0%|          | 0/231657 [00:00<?, ?it/s]"
          ]
        },
        {
          "name": "stderr",
          "output_type": "stream",
          "text": [
            "Training: 100%|\u2588\u2588\u2588\u2588\u2588\u2588\u2588\u2588\u2588\u2588| 231657/231657 [32:29<00:00, 118.83it/s, loss=3.1, lr=2.31e-7] \n"
          ]
        },
        {
          "name": "stdout",
          "output_type": "stream",
          "text": [
            "EPOCH 1 started==============================\n"
          ]
        },
        {
          "name": "stderr",
          "output_type": "stream",
          "text": [
            "Training: 100%|\u2588\u2588\u2588\u2588\u2588\u2588\u2588\u2588\u2588\u2588| 231657/231657 [32:34<00:00, 118.55it/s, loss=2.19, lr=4.62e-7]\n"
          ]
        },
        {
          "name": "stdout",
          "output_type": "stream",
          "text": [
            "EPOCH 2 started==============================\n"
          ]
        },
        {
          "name": "stderr",
          "output_type": "stream",
          "text": [
            "Training: 100%|\u2588\u2588\u2588\u2588\u2588\u2588\u2588\u2588\u2588\u2588| 231657/231657 [32:36<00:00, 118.42it/s, loss=2.42, lr=6.93e-7]\n"
          ]
        },
        {
          "name": "stdout",
          "output_type": "stream",
          "text": [
            "EPOCH 3 started==============================\n"
          ]
        },
        {
          "name": "stderr",
          "output_type": "stream",
          "text": [
            "Training: 100%|\u2588\u2588\u2588\u2588\u2588\u2588\u2588\u2588\u2588\u2588| 231657/231657 [32:23<00:00, 119.18it/s, loss=2.16, lr=9.25e-7]\n"
          ]
        },
        {
          "name": "stdout",
          "output_type": "stream",
          "text": [
            "EPOCH 4 started==============================\n"
          ]
        },
        {
          "name": "stderr",
          "output_type": "stream",
          "text": [
            "Training: 100%|\u2588\u2588\u2588\u2588\u2588\u2588\u2588\u2588\u2588\u2588| 231657/231657 [32:22<00:00, 119.25it/s, loss=2.1, lr=1.16e-6] \n"
          ]
        }
      ],
      "source": [
        "from transformers import AdamW, get_linear_schedule_with_warmup\n",
        "import tqdm\n",
        "\n",
        "BATCH_SIZE = 32\n",
        "EPOCHS = 5\n",
        "LEARNING_RATE = 3e-6\n",
        "WARMUP_STEPS = 5000\n",
        "MAX_SEQ_LEN = 500\n",
        "\n",
        "optimizer = AdamW(model.parameters(), lr=LEARNING_RATE)\n",
        "scheduler = get_linear_schedule_with_warmup(optimizer, num_warmup_steps=WARMUP_STEPS, num_training_steps=-1)\n",
        "proc_seq_count = 0\n",
        "batch_count = 0\n",
        "\n",
        "tmp_jokes_tens = None\n",
        "\n",
        "losses = []\n",
        "lrs = []\n",
        "\n",
        "for epoch in range(EPOCHS):\n",
        "    \n",
        "    print(f\"EPOCH {epoch} started\" + '=' * 30)\n",
        "    progress_bar = tqdm.tqdm(joke_dataloader, desc=\"Training\")\n",
        "    \n",
        "    for sample in progress_bar:\n",
        "\n",
        "        sentence, tokens = sample\n",
        "        \n",
        "        #################### \"Fit as many joke sequences into MAX_SEQ_LEN sequence as possible\" logic start ####\n",
        "        joke_tens = tokens.input_ids[0].to(device)\n",
        "\n",
        "        # Skip sample from dataset if it is longer than MAX_SEQ_LEN\n",
        "        if joke_tens.size()[1] > MAX_SEQ_LEN:\n",
        "            continue\n",
        "        \n",
        "        # The first joke sequence in the sequence\n",
        "        if not torch.is_tensor(tmp_jokes_tens):\n",
        "            tmp_jokes_tens = joke_tens\n",
        "            continue\n",
        "        else:\n",
        "            # The next joke does not fit in so we process the sequence and leave the last joke \n",
        "            # as the start for next sequence \n",
        "            if tmp_jokes_tens.size()[1] + joke_tens.size()[1] > MAX_SEQ_LEN:\n",
        "                work_jokes_tens = tmp_jokes_tens\n",
        "                tmp_jokes_tens = joke_tens\n",
        "            else:\n",
        "                #Add the joke to sequence, continue and try to add more\n",
        "                tmp_jokes_tens = torch.cat([tmp_jokes_tens, joke_tens[:,1:]], dim=1)\n",
        "                continue\n",
        "        ################## Sequence ready, process it trough the model ##################\n",
        "            \n",
        "        outputs = model(work_jokes_tens, labels=work_jokes_tens)\n",
        "        loss = outputs.loss\n",
        "        loss.backward()\n",
        "                    \n",
        "        proc_seq_count = proc_seq_count + 1\n",
        "        if proc_seq_count == BATCH_SIZE:\n",
        "            proc_seq_count = 0    \n",
        "            batch_count += 1\n",
        "            optimizer.step()\n",
        "            scheduler.step() \n",
        "            optimizer.zero_grad()\n",
        "            model.zero_grad()\n",
        "\n",
        "        progress_bar.set_postfix({'loss': loss.item(), 'lr': scheduler.get_last_lr()[0]})\n",
        "        losses.append(loss.item())\n",
        "        lrs.append(scheduler.get_last_lr()[0])\n",
        "        if batch_count == 10:\n",
        "            batch_count = 0"
      ]
    },
    {
      "cell_type": "code",
      "execution_count": 9,
      "metadata": {},
      "outputs": [
        {
          "data": {
            "image/png": "[encoded data removed]",
            "text/plain": [
              "<Figure size 1200x600 with 1 Axes>"
            ]
          },
          "metadata": {},
          "output_type": "display_data"
        }
      ],
      "source": [
        "import numpy as np\n",
        "import matplotlib.pyplot as plt\n",
        "\n",
        "losses_np = np.array(losses)\n",
        "lrs_np = np.array(lrs)\n",
        "\n",
        "plt.figure(figsize=(12,6))\n",
        "plt.plot(losses_np, label='loss')\n",
        "plt.plot(lrs_np, label='learning rate')\n",
        "plt.yscale('log')\n",
        "plt.legend()\n",
        "plt.show()"
      ]
    },
    {
      "cell_type": "markdown",
      "metadata": {},
      "source": [
        "#### Infer\u00eancia"
      ]
    },
    {
      "cell_type": "markdown",
      "metadata": {},
      "source": [
        "Vamos a ver como o modelo faz piadas"
      ]
    },
    {
      "cell_type": "code",
      "execution_count": 100,
      "metadata": {},
      "outputs": [
        {
          "name": "stderr",
          "output_type": "stream",
          "text": [
            "Setting `pad_token_id` to `eos_token_id`:50256 for open-end generation.\n",
            "/home/wallabot/miniconda3/envs/nlp/lib/python3.11/site-packages/transformers/generation/utils.py:1178: UserWarning: Using the model-agnostic default `max_length` (=20) to control the generation length. We recommend setting `max_new_tokens` to control the maximum length of the generation.\n",
            "  warnings.warn(\n"
          ]
        },
        {
          "name": "stdout",
          "output_type": "stream",
          "text": [
            "decoded joke: \n",
            "JOKE:!!!!!!!!!!!!!!!!!\n"
          ]
        }
      ],
      "source": [
        "sentence_joke = \"JOKE:\"\n",
        "input_tokens_joke = tokenizer(sentence_joke, return_tensors=\"pt\").to(device)\n",
        "output_tokens_joke = model.generate(**input_tokens_joke)\n",
        "decoded_output_joke = tokenizer.decode(output_tokens_joke[0], skip_special_tokens=True)\n",
        "\n",
        "print(f\"decoded joke: \\n{decoded_output_joke}\")"
      ]
    },
    {
      "cell_type": "markdown",
      "metadata": {},
      "source": [
        "Pode-se ver que voc\u00ea passa uma sequ\u00eancia com a palavra `joke` e ele retorna uma piada. Mas se voc\u00ea retornar outra sequ\u00eancia n\u00e3o"
      ]
    },
    {
      "cell_type": "code",
      "execution_count": 100,
      "metadata": {},
      "outputs": [
        {
          "name": "stderr",
          "output_type": "stream",
          "text": [
            "Setting `pad_token_id` to `eos_token_id`:50256 for open-end generation.\n"
          ]
        },
        {
          "name": "stdout",
          "output_type": "stream",
          "text": [
            "decoded joke: \n",
            "My dog is cute and!!!!!!!!!!!!!!!\n"
          ]
        }
      ],
      "source": [
        "sentence_joke = \"My dog is cute and\"\n",
        "input_tokens_joke = tokenizer(sentence_joke, return_tensors=\"pt\").to(device)\n",
        "output_tokens_joke = model.generate(**input_tokens_joke)\n",
        "decoded_output_joke = tokenizer.decode(output_tokens_joke[0], skip_special_tokens=True)\n",
        "\n",
        "print(f\"decoded joke: \\n{decoded_output_joke}\")"
      ]
    },
    {
      "cell_type": "markdown",
      "metadata": {},
      "source": [
        "### Ajuste fino do GPT-2 para classifica\u00e7\u00e3o de senten\u00e7as"
      ]
    },
    {
      "cell_type": "markdown",
      "metadata": {},
      "source": [
        "Agora vamos fazer um treinamento com as bibliotecas do Hugging Face"
      ]
    },
    {
      "cell_type": "markdown",
      "metadata": {},
      "source": [
        "#### Conjunto de Dados"
      ]
    },
    {
      "cell_type": "markdown",
      "metadata": {},
      "source": [
        "Vamos a usar o conjunto de dados `imdb` de classifica\u00e7\u00e3o de senten\u00e7as em positivas e negativas"
      ]
    },
    {
      "cell_type": "code",
      "execution_count": 1,
      "metadata": {},
      "outputs": [
        {
          "data": {
            "text/plain": [
              "DatasetDict({\n",
              "    train: Dataset({\n",
              "        features: ['text', 'label'],\n",
              "        num_rows: 25000\n",
              "    })\n",
              "    test: Dataset({\n",
              "        features: ['text', 'label'],\n",
              "        num_rows: 25000\n",
              "    })\n",
              "    unsupervised: Dataset({\n",
              "        features: ['text', 'label'],\n",
              "        num_rows: 50000\n",
              "    })\n",
              "})"
            ]
          },
          "execution_count": 1,
          "metadata": {},
          "output_type": "execute_result"
        }
      ],
      "source": [
        "from datasets import load_dataset\n",
        "\n",
        "dataset = load_dataset(\"imdb\")\n",
        "dataset"
      ]
    },
    {
      "cell_type": "markdown",
      "metadata": {},
      "source": [
        "Vamos v\u00ea-lo um pouco"
      ]
    },
    {
      "cell_type": "code",
      "execution_count": 2,
      "metadata": {},
      "outputs": [
        {
          "data": {
            "text/plain": [
              "DatasetInfo(description='', citation='', homepage='', license='', features={'text': Value(dtype='string', id=None), 'label': ClassLabel(names=['neg', 'pos'], id=None)}, post_processed=None, supervised_keys=None, task_templates=None, builder_name='parquet', dataset_name='imdb', config_name='plain_text', version=0.0.0, splits={'train': SplitInfo(name='train', num_bytes=33435948, num_examples=25000, shard_lengths=None, dataset_name='imdb'), 'test': SplitInfo(name='test', num_bytes=32653810, num_examples=25000, shard_lengths=None, dataset_name='imdb'), 'unsupervised': SplitInfo(name='unsupervised', num_bytes=67113044, num_examples=50000, shard_lengths=None, dataset_name='imdb')}, download_checksums={'hf://datasets/imdb@e6281661ce1c48d982bc483cf8a173c1bbeb5d31/plain_text/train-00000-of-00001.parquet': {'num_bytes': 20979968, 'checksum': None}, 'hf://datasets/imdb@e6281661ce1c48d982bc483cf8a173c1bbeb5d31/plain_text/test-00000-of-00001.parquet': {'num_bytes': 20470363, 'checksum': None}, 'hf://datasets/imdb@e6281661ce1c48d982bc483cf8a173c1bbeb5d31/plain_text/unsupervised-00000-of-00001.parquet': {'num_bytes': 41996509, 'checksum': None}}, download_size=83446840, post_processing_size=None, dataset_size=133202802, size_in_bytes=216649642)"
            ]
          },
          "execution_count": 2,
          "metadata": {},
          "output_type": "execute_result"
        }
      ],
      "source": [
        "dataset[\"train\"].info"
      ]
    },
    {
      "cell_type": "markdown",
      "metadata": {},
      "source": [
        "Vamos ver as funcionalidades que este conjunto de dados possui."
      ]
    },
    {
      "cell_type": "code",
      "execution_count": 3,
      "metadata": {},
      "outputs": [
        {
          "data": {
            "text/plain": [
              "{'text': Value(dtype='string', id=None),\n",
              " 'label': ClassLabel(names=['neg', 'pos'], id=None)}"
            ]
          },
          "execution_count": 3,
          "metadata": {},
          "output_type": "execute_result"
        }
      ],
      "source": [
        "dataset[\"train\"].info.features"
      ]
    },
    {
      "cell_type": "markdown",
      "metadata": {},
      "source": [
        "O conjunto de dados cont\u00e9m strings e classes. Al\u00e9m disso, existem dois tipos de classes, `pos` e `neg`. Vamos criar uma vari\u00e1vel com o n\u00famero de classes."
      ]
    },
    {
      "cell_type": "code",
      "execution_count": 4,
      "metadata": {},
      "outputs": [
        {
          "data": {
            "text/plain": [
              "2"
            ]
          },
          "execution_count": 4,
          "metadata": {},
          "output_type": "execute_result"
        }
      ],
      "source": [
        "num_clases = len(dataset[\"train\"].unique(\"label\"))\n",
        "num_clases"
      ]
    },
    {
      "cell_type": "markdown",
      "metadata": {},
      "source": [
        "#### Tokenizador"
      ]
    },
    {
      "cell_type": "markdown",
      "metadata": {},
      "source": [
        "Criamos o tokenizador"
      ]
    },
    {
      "cell_type": "code",
      "execution_count": 5,
      "metadata": {},
      "outputs": [],
      "source": [
        "from transformers import GPT2Tokenizer\n",
        "\n",
        "checkpoints = \"openai-community/gpt2\"\n",
        "tokenizer = GPT2Tokenizer.from_pretrained(checkpoints, bos_token='<|startoftext|>', eos_token='<|endoftext|>', pad_token='<|pad|>')\n",
        "tokenizer.pad_token = tokenizer.eos_token"
      ]
    },
    {
      "cell_type": "markdown",
      "metadata": {},
      "source": [
        "Agora que temos um tokenizador, podemos tokenizar o conjunto de dados, pois o modelo s\u00f3 entende tokens."
      ]
    },
    {
      "cell_type": "code",
      "execution_count": 6,
      "metadata": {},
      "outputs": [],
      "source": [
        "def tokenize_function(examples):\n",
        "    return tokenizer(examples[\"text\"], padding=\"max_length\", truncation=True)\n",
        "\n",
        "tokenized_datasets = dataset.map(tokenize_function, batched=True)"
      ]
    },
    {
      "cell_type": "markdown",
      "metadata": {},
      "source": [
        "#### Modelo"
      ]
    },
    {
      "cell_type": "markdown",
      "metadata": {},
      "source": [
        "Instanciamos o modelo"
      ]
    },
    {
      "cell_type": "code",
      "execution_count": 7,
      "metadata": {},
      "outputs": [
        {
          "name": "stderr",
          "output_type": "stream",
          "text": [
            "Some weights of GPT2ForSequenceClassification were not initialized from the model checkpoint at openai-community/gpt2 and are newly initialized: ['score.weight']\n",
            "You should probably TRAIN this model on a down-stream task to be able to use it for predictions and inference.\n"
          ]
        }
      ],
      "source": [
        "from transformers import GPT2ForSequenceClassification\n",
        "\n",
        "model = GPT2ForSequenceClassification.from_pretrained(checkpoints, num_labels=num_clases).half()\n",
        "model.config.pad_token_id = model.config.eos_token_id"
      ]
    },
    {
      "cell_type": "markdown",
      "metadata": {},
      "source": [
        "#### Avalia\u00e7\u00e3o"
      ]
    },
    {
      "cell_type": "markdown",
      "metadata": {},
      "source": [
        "Criamos uma m\u00e9trica de avalia\u00e7\u00e3o"
      ]
    },
    {
      "cell_type": "code",
      "execution_count": 100,
      "metadata": {},
      "outputs": [],
      "source": [
        "import numpy as np\n",
        "import evaluate\n",
        "\n",
        "metric = evaluate.load(\"accuracy\")\n",
        "\n",
        "def compute_metrics(eval_pred):\n",
        "    logits, labels = eval_pred\n",
        "    predictions = np.argmax(logits, axis=-1)\n",
        "    return metric.compute(predictions=predictions, references=labels)"
      ]
    },
    {
      "cell_type": "markdown",
      "metadata": {},
      "source": [
        "#### Treinador"
      ]
    },
    {
      "cell_type": "markdown",
      "metadata": {},
      "source": [
        "Criamos o treinador"
      ]
    },
    {
      "cell_type": "code",
      "execution_count": 8,
      "metadata": {},
      "outputs": [],
      "source": [
        "from transformers import Trainer, TrainingArguments\n",
        "\n",
        "training_args = TrainingArguments(\n",
        "    output_dir=\"./results\",\n",
        "    learning_rate=2e-5,\n",
        "    per_device_train_batch_size=16,\n",
        "    per_device_eval_batch_size=64,\n",
        "    num_train_epochs=3,\n",
        "    weight_decay=0.01,\n",
        ")\n",
        "\n",
        "trainer = Trainer(\n",
        "    model=model,\n",
        "    args=training_args,\n",
        "    train_dataset=tokenized_datasets[\"train\"],\n",
        "    eval_dataset=tokenized_datasets[\"test\"],\n",
        "    compute_metrics=compute_metrics,\n",
        ")"
      ]
    },
    {
      "cell_type": "markdown",
      "metadata": {},
      "source": [
        "#### Treinamento"
      ]
    },
    {
      "cell_type": "markdown",
      "metadata": {},
      "source": [
        "Treinamos"
      ]
    },
    {
      "cell_type": "code",
      "execution_count": 25,
      "metadata": {
        "colab": {
          "base_uri": "https://localhost:8080/",
          "height": 392
        },
        "id": "xMx9AyTZxsrf",
        "outputId": "4665ef22-52f7-48ab-aa1a-9ae02f282850"
      },
      "outputs": [
        {
          "data": {
            "text/html": [
              "\n",
              "    <div>\n",
              "      \n",
              "      <progress value='4689' max='4689' style='width:300px; height:20px; vertical-align: middle;'></progress>\n",
              "      [4689/4689 1:27:50, Epoch 3/3]\n",
              "    </div>\n",
              "    <table border=\"1\" class=\"dataframe\">\n",
              "  <thead>\n",
              " <tr style=\"text-align: left;\">\n",
              "      <th>Step</th>\n",
              "      <th>Training Loss</th>\n",
              "    </tr>\n",
              "  </thead>\n",
              "  <tbody>\n",
              "    <tr>\n",
              "      <td>500</td>\n",
              "      <td>0.379400</td>\n",
              "    </tr>\n",
              "    <tr>\n",
              "      <td>1000</td>\n",
              "      <td>0.000000</td>\n",
              "    </tr>\n",
              "    <tr>\n",
              "      <td>1500</td>\n",
              "      <td>0.000000</td>\n",
              "    </tr>\n",
              "    <tr>\n",
              "      <td>2000</td>\n",
              "      <td>0.000000</td>\n",
              "    </tr>\n",
              "    <tr>\n",
              "      <td>2500</td>\n",
              "      <td>0.000000</td>\n",
              "    </tr>\n",
              "    <tr>\n",
              "      <td>3000</td>\n",
              "      <td>0.000000</td>\n",
              "    </tr>\n",
              "    <tr>\n",
              "      <td>3500</td>\n",
              "      <td>0.000000</td>\n",
              "    </tr>\n",
              "    <tr>\n",
              "      <td>4000</td>\n",
              "      <td>0.000000</td>\n",
              "    </tr>\n",
              "    <tr>\n",
              "      <td>4500</td>\n",
              "      <td>0.000000</td>\n",
              "    </tr>\n",
              "  </tbody>\n",
              "</table><p>"
            ],
            "text/plain": [
              "<IPython.core.display.HTML object>"
            ]
          },
          "metadata": {},
          "output_type": "display_data"
        },
        {
          "data": {
            "text/plain": [
              "TrainOutput(global_step=4689, training_loss=0.04045845954294626, metrics={'train_runtime': 5271.3532, 'train_samples_per_second': 14.228, 'train_steps_per_second': 0.89, 'total_flos': 3.91945125888e+16, 'train_loss': 0.04045845954294626, 'epoch': 3.0})"
            ]
          },
          "execution_count": 25,
          "metadata": {},
          "output_type": "execute_result"
        }
      ],
      "source": [
        "trainer.train()"
      ]
    },
    {
      "cell_type": "markdown",
      "metadata": {},
      "source": [
        "#### Infer\u00eancia"
      ]
    },
    {
      "cell_type": "markdown",
      "metadata": {},
      "source": [
        "Testamos o modelo ap\u00f3s trein\u00e1-lo"
      ]
    },
    {
      "cell_type": "code",
      "execution_count": 19,
      "metadata": {},
      "outputs": [],
      "source": [
        "import torch\n",
        "\n",
        "device = torch.device(\"cuda\" if torch.cuda.is_available() else \"cpu\")\n",
        "\n",
        "def get_sentiment(sentence):\n",
        "    inputs = tokenizer(sentence, return_tensors=\"pt\").to(device)\n",
        "    outputs = model(**inputs)\n",
        "    prediction = outputs.logits.argmax(-1).item()\n",
        "    return \"positive\" if prediction == 1 else \"negative\""
      ]
    },
    {
      "cell_type": "code",
      "execution_count": 20,
      "metadata": {},
      "outputs": [
        {
          "name": "stdout",
          "output_type": "stream",
          "text": [
            "negative\n"
          ]
        }
      ],
      "source": [
        "sentence = \"I hate this movie!\"\n",
        "print(get_sentiment(sentence))"
      ]
    }
  ],
  "metadata": {
    "kernelspec": {
      "display_name": "base",
      "language": "python",
      "name": "python3"
    },
    "language_info": {
      "codemirror_mode": {
        "name": "ipython",
        "version": 3
      },
      "file_extension": ".py",
      "mimetype": "text/x-python",
      "name": "python",
      "nbconvert_exporter": "python",
      "pygments_lexer": "ipython3",
      "version": "3.11.9"
    },
    "maximofn": {
      "date": "2024-07-09",
      "description_en": "Unlock the power of text generation with GPT-2, the latest open model from OpenAI \ud83d\udcb8! \ud83d\ude80 In this post, I take you by the hand through the architecture behind this model, and show you how to fine-tune it \ud83d\ude1c, code included. Read more and find out how GPT-2 can make your words more interesting than a human's \ud83d\udcac (or at least, than a bored human's) \ud83d\ude09",
      "description_es": "\u00a1Desbloquea el poder de la generaci\u00f3n de texto con GPT-2, el \u00faltimo modelo open de OpenAI \ud83d\udcb8! \ud83d\ude80 En este post, te llevo de la mano a trav\u00e9s de la arquitectura detr\u00e1s de este modelo, y te muestro c\u00f3mo fine-tunearlo \ud83d\ude1c, con c\u00f3digo incluido. \u00a1Lee m\u00e1s y descubre c\u00f3mo GPT-2 puede hacer que tus palabras sean m\u00e1s interesantes que las de un humano \ud83d\udcac (o al menos, que las de un humano aburrido) \ud83d\ude09",
      "description_pt": "Libere o poder da gera\u00e7\u00e3o de texto com o GPT-2, o mais recente modelo aberto da OpenAI \ud83d\udcb8! \ud83d\ude80 Nesta postagem, eu o conduzo pela arquitetura por tr\u00e1s desse modelo e mostro como ajust\u00e1-lo \ud83d\ude1c, incluindo o c\u00f3digo. Leia mais e descubra como o GPT-2 pode tornar suas palavras mais interessantes do que as de um ser humano \ud83d\udcac (ou, pelo menos, de um ser humano entediado) \ud83d\ude09",
      "end_url": "gpt2",
      "image": "https://pub-fb664c455eca46a2ba762a065ac900f7.r2.dev/GPT2.webp",
      "image_hover_path": "https://pub-fb664c455eca46a2ba762a065ac900f7.r2.dev/GPT2.webp",
      "keywords_en": "gpt2, openai, text generation, fine-tuning, nlp, natural language processing",
      "keywords_es": "gpt2, openai, generaci\u00f3n de texto, fine-tuning, nlp, procesamiento de lenguaje natural",
      "keywords_pt": "gpt2, openai, gera\u00e7\u00e3o de texto, ajuste fino, nlp, processamento de linguagem natural",
      "title_en": "GPT-2 \u2013 Language Models are Unsupervised Multitask Learners",
      "title_es": "GPT-2 \u2013 Language Models are Unsupervised Multitask Learners",
      "title_pt": "GPT-2 \u2013 Language Models are Unsupervised Multitask Learners"
    }
  },
  "nbformat": 4,
  "nbformat_minor": 2
}