{
  "cells": [
    {
      "cell_type": "markdown",
      "metadata": {},
      "source": [
        "# LoRA - low rank adaptation of large language models"
      ]
    },
    {
      "cell_type": "markdown",
      "metadata": {},
      "source": [
        " > Disclaimer: This post has been translated to English using a machine translation model. Please, let me know if you find any mistakes."
      ]
    },
    {
      "cell_type": "markdown",
      "metadata": {},
      "source": [
        "The increase in the size of language models makes them increasingly expensive to train due to the fact that more and more VRAM is required to store all their parameters and the gradients derived from training.",
        "\n",
        "In the paper [LoRA - Low rank adaption of large language models](https://arxiv.org/abs/2106.09685) they propose to freeze the model weights and train two matrices called A and B, significantly reducing the number of parameters that need to be trained.",
        "\n",
        "![LoRA](https://pub-fb664c455eca46a2ba762a065ac900f7.r2.dev/LoRA_adapat.webp)",
        "\n",
        "Let's see how this is done"
      ]
    },
    {
      "cell_type": "markdown",
      "metadata": {},
      "source": [
        "## Explanation of LoRA"
      ]
    },
    {
      "cell_type": "markdown",
      "metadata": {},
      "source": [
        "### Weight Update in a Neural Network"
      ]
    },
    {
      "cell_type": "markdown",
      "metadata": {},
      "source": [
        "To understand how LoRA works, we first need to recall what happens when we train a model. Let's go back to the most basic part of deep learning; we have a dense layer of a neural network defined as:",
        "\n",
        "$$",
        "y = Wx + b",
        "$$",
        "\n",
        "Where $W$ is the weight matrix and $b$ is the bias vector.",
        "\n",
        "To simplify, let's assume there is no bias, so it would be like this",
        "\n",
        "$$",
        "y = Wx",
        "$$",
        "\n",
        "Suppose for an input $x$ we want it to have an output $\u0177$",
        "\n",
        "* First, what we do is calculate the output we get with our current weight value $W$, that is, we obtain the value $y$",
        "* Next, we calculate the error that exists between the value of $y$ that we have obtained and the value that we wanted to obtain $\u0177$. We call this error $loss$, and we calculate it with some mathematical function, which does not matter now.",
        "* We calculate the gradient (the derivative) of the loss with respect to the weight matrix $W$, that is $\\Delta W = \\frac{dloss}{dW}$",
        "* We update the weights $W$ by subtracting from each of their values the gradient value multiplied by a learning rate $\\alpha$, that is $W = W - \\alpha \\Delta W$"
      ]
    },
    {
      "cell_type": "markdown",
      "metadata": {},
      "source": [
        "### LoRA"
      ]
    },
    {
      "cell_type": "markdown",
      "metadata": {},
      "source": [
        "The authors of LoRA propose that the weight matrix $W$ can be decomposed into",
        "\n",
        "$$",
        "W \\sim W + \\Delta W",
        "$$",
        "\n",
        "So by freezing the matrix $W$ and training only the matrix $\\Delta W$, one can obtain a model that adapts to new data without having to retrain the entire model.",
        "\n",
        "But you might think that $\\Delta W$ is a matrix of the same size as $W$, so nothing has been gained, but here the authors draw on `Aghajanyan et al. (2020)`, a paper in which they demonstrated that although language models are large and their parameters are matrices with very high dimensions, to adapt them to new tasks it is not necessary to change all the values of the matrices; changing just a few values is sufficient, which technically is called low-rank adaptation. Hence the name LoRA (Low Rank Adaptation)."
      ]
    },
    {
      "cell_type": "markdown",
      "metadata": {},
      "source": [
        "We have frozen the model and now we want to train the matrix $\\Delta W$. Let's assume that both $W$ and $\\Delta W$ are matrices of size $20 \\times 10$, so we have 200 trainable parameters.",
        "\n",
        "Now suppose that the matrix $\\Delta W$ can be decomposed into the product of two matrices $A$ and $B$, that is",
        "\n",
        "$$",
        "\\Delta W = A \\cdot B",
        "$$",
        "\n",
        "For this multiplication to occur, the sizes of matrices $A$ and $B$ must be $20 \\times n$ and $n \\times 10$, respectively. Suppose that $n = 5$, so $A$ would be of size $20 \\times 5$, which is 100 parameters, and $B$ of size $5 \\times 10$, which is 50 parameters, resulting in 100+50=150 trainable parameters. We now have fewer trainable parameters than before.",
        "\n",
        "Now suppose that $W$ is actually a matrix of size $10.000 \\times 10.000$, so we would have 100.000.000 trainable parameters, but if we decompose $\\Delta W$ into $A$ and $B$ with $n = 5$, we would have a matrix of size $10.000 \\times 5$ and another of size $5 \\times 10.000$, so we would have 50.000 parameters from one and 50.000 parameters from the other, in total 100.000 trainable parameters, that is, we have reduced the number of parameters 1000 times.",
        "\n",
        "You can already see the power of LoRA, when dealing with very large models, the number of trainable parameters can be drastically reduced.",
        "\n",
        "If we look back at the image of the LoRA architecture, we will understand it better",
        "\n",
        "![LoRA adapt](https://pub-fb664c455eca46a2ba762a065ac900f7.r2.dev/LoRA_adapat.webp)",
        "\n",
        "But it looks even better, the savings in the number of trainable parameters with this image",
        "\n",
        "![LoRA matmul](https://pub-fb664c455eca46a2ba762a065ac900f7.r2.dev/Lora_matmul.webp)"
      ]
    },
    {
      "cell_type": "markdown",
      "metadata": {},
      "source": [
        "### Implementation of LoRA in transformers"
      ]
    },
    {
      "cell_type": "markdown",
      "metadata": {},
      "source": [
        "Since language models are implementations of transformers, we will see how LoRA is implemented in transformers. In the transformer architecture, there are linear layers in the attention matrices $Q$, $K$, and $V$, and in the feedforward layers, so LoRA can be applied to all these linear layers. The paper mentions that for simplicity, they apply it only to the linear layers of the attention matrices $Q$, $K$, and $V$.",
        "\n",
        "These layers have a size of $d_{model} \\times d_{model}$, where $d_{model}$ is the model's embedding dimension."
      ]
    },
    {
      "cell_type": "markdown",
      "metadata": {},
      "source": [
        "### Size of range r"
      ]
    },
    {
      "cell_type": "markdown",
      "metadata": {},
      "source": [
        "To be able to have these benefits, the size of the range $r$ has to be smaller than the size of the linear layers. As we mentioned that they only implemented it in the attention linear layers, which have a size of $d_{model} \\times d_{model}$, the size of the range $r$ has to be smaller than $d_{model}$."
      ]
    },
    {
      "cell_type": "markdown",
      "metadata": {},
      "source": [
        "### Initialization of matrices A and B"
      ]
    },
    {
      "cell_type": "markdown",
      "metadata": {},
      "source": [
        "The matrices $A$ and $B$ are initialized with a random Gaussian distribution for $A$ and zero for $B$, so the product of both matrices will be zero at the beginning, that is",
        "\n",
        "$$",
        "\\Delta W = A \\cdot B = 0",
        "$$"
      ]
    },
    {
      "cell_type": "markdown",
      "metadata": {},
      "source": [
        "### Influence of LoRA through the parameter $\\alpha$"
      ]
    },
    {
      "cell_type": "markdown",
      "metadata": {},
      "source": [
        "Finally, in the implementation of LoRA, a parameter $\\alpha$ is added to set the degree of influence of LoRA in the training. It is similar to the learning rate in normal fine-tuning, but in this case it is used to set the influence of LoRA in the training. In this way, the LoRA formula would be as follows",
        "\n",
        "$$",
        "W = W + \\alpha \\Delta W = W + \\alpha A \\cdot B",
        "$$"
      ]
    },
    {
      "cell_type": "markdown",
      "metadata": {},
      "source": [
        "## Advantages of LoRA",
        "\n",
        "Now that we have understood how it works, let's look at the advantages of this method",
        "\n",
        "* Reduction of trainable parameters. As we have seen, the number of trainable parameters is drastically reduced, which makes training much faster and requires less VRAM, thus saving many costs.",
        "* Adapters in production. We can have a single language model in production and several adapters, each for a different task, instead of having multiple models trained for each task, thus saving storage and computation costs. Additionally, this method does not necessarily add latency to inference because the original weight matrix can be fused with the adapter, as we have seen that $W \\sim W + \\Delta W = W + A \\cdot B$, so the inference time would be the same as using the original language model.",
        "* Share adapters. If we train an adapter, we can share only the adapter. That is, in production, everyone can have the original model and every time we train an adapter, we can share only the adapter, so as smaller matrices would be shared, the size of the files that are shared would be much smaller"
      ]
    },
    {
      "cell_type": "markdown",
      "metadata": {},
      "source": [
        "## Implementation of LoRA in an LLM"
      ]
    },
    {
      "cell_type": "markdown",
      "metadata": {},
      "source": [
        "We are going to repeat the training code from the post [Fine tuning SLMs](https://maximofn.com/fine-tuning-sml/), specifically the text classification training with Hugging Face libraries, but this time we will do it with LoRA. In the previous post, we used a batch size of 28 for the training loop and 40 for the evaluation loop. However, since we are not going to train all the model's weights this time, but only the LoRA matrices, we will be able to use a larger batch size."
      ]
    },
    {
      "cell_type": "markdown",
      "metadata": {},
      "source": [
        "### Login in the Hub"
      ]
    },
    {
      "cell_type": "markdown",
      "metadata": {},
      "source": [
        "We log in to upload the model to the Hub"
      ]
    },
    {
      "cell_type": "code",
      "execution_count": 1,
      "metadata": {},
      "outputs": [],
      "source": [
        "from huggingface_hub import notebook_login\n",
        "notebook_login()"
      ]
    },
    {
      "cell_type": "markdown",
      "metadata": {},
      "source": [
        "### Dataset"
      ]
    },
    {
      "cell_type": "markdown",
      "metadata": {},
      "source": [
        "We download the dataset we are going to use, which is a review dataset from [Amazon](https://huggingface.co/datasets/mteb/amazon_reviews_multi)"
      ]
    },
    {
      "cell_type": "code",
      "execution_count": 1,
      "metadata": {},
      "outputs": [
        {
          "data": {
            "text/plain": [
              "DatasetDict({\n",
              "    train: Dataset({\n",
              "        features: ['id', 'text', 'label', 'label_text'],\n",
              "        num_rows: 200000\n",
              "    })\n",
              "    validation: Dataset({\n",
              "        features: ['id', 'text', 'label', 'label_text'],\n",
              "        num_rows: 5000\n",
              "    })\n",
              "    test: Dataset({\n",
              "        features: ['id', 'text', 'label', 'label_text'],\n",
              "        num_rows: 5000\n",
              "    })\n",
              "})"
            ]
          },
          "execution_count": 1,
          "metadata": {},
          "output_type": "execute_result"
        }
      ],
      "source": [
        "from datasets import load_dataset\n",
        "\n",
        "dataset = load_dataset(\"mteb/amazon_reviews_multi\", \"en\")\n",
        "dataset"
      ]
    },
    {
      "cell_type": "markdown",
      "metadata": {},
      "source": [
        "We create a subset in case you want to test the code with a smaller dataset. In my case, I will use 100% of the dataset."
      ]
    },
    {
      "cell_type": "code",
      "execution_count": 2,
      "metadata": {},
      "outputs": [
        {
          "data": {
            "text/plain": [
              "(Dataset({\n",
              "     features: ['id', 'text', 'label', 'label_text'],\n",
              "     num_rows: 200000\n",
              " }),\n",
              " Dataset({\n",
              "     features: ['id', 'text', 'label', 'label_text'],\n",
              "     num_rows: 5000\n",
              " }),\n",
              " Dataset({\n",
              "     features: ['id', 'text', 'label', 'label_text'],\n",
              "     num_rows: 5000\n",
              " }))"
            ]
          },
          "execution_count": 2,
          "metadata": {},
          "output_type": "execute_result"
        }
      ],
      "source": [
        "percentage = 1\n",
        "\n",
        "subset_dataset_train = dataset['train'].select(range(int(len(dataset['train']) * percentage)))\n",
        "subset_dataset_validation = dataset['validation'].select(range(int(len(dataset['validation']) * percentage)))\n",
        "subset_dataset_test = dataset['test'].select(range(int(len(dataset['test']) * percentage)))\n",
        "\n",
        "subset_dataset_train, subset_dataset_validation, subset_dataset_test"
      ]
    },
    {
      "cell_type": "markdown",
      "metadata": {},
      "source": [
        "We see a sample"
      ]
    },
    {
      "cell_type": "code",
      "execution_count": 3,
      "metadata": {},
      "outputs": [
        {
          "data": {
            "text/plain": [
              "{'id': 'en_0388304',\n",
              " 'text': 'The N was missing from on\\n\\nThe N was missing from on',\n",
              " 'label': 0,\n",
              " 'label_text': '0'}"
            ]
          },
          "execution_count": 3,
          "metadata": {},
          "output_type": "execute_result"
        }
      ],
      "source": [
        "from random import randint\n",
        "\n",
        "idx = randint(0, len(subset_dataset_train))\n",
        "subset_dataset_train[idx]"
      ]
    },
    {
      "cell_type": "markdown",
      "metadata": {},
      "source": [
        "We get the number of classes. To obtain the number of classes, we use `dataset['train']` and not `subset_dataset_train` because if the subset is made too small, it's possible that there won't be examples with all the possible classes from the original dataset."
      ]
    },
    {
      "cell_type": "code",
      "execution_count": 5,
      "metadata": {},
      "outputs": [
        {
          "data": {
            "text/plain": [
              "5"
            ]
          },
          "execution_count": 5,
          "metadata": {},
          "output_type": "execute_result"
        }
      ],
      "source": [
        "num_classes = len(dataset['train'].unique('label'))\n",
        "num_classes"
      ]
    },
    {
      "cell_type": "markdown",
      "metadata": {},
      "source": [
        "We create a function to create the `label` field in the dataset. The downloaded dataset has the field `labels`, but the `transformers` library requires that the field be called `label` and not `labels`."
      ]
    },
    {
      "cell_type": "code",
      "execution_count": 6,
      "metadata": {},
      "outputs": [],
      "source": [
        "def set_labels(example):\n",
        "    example['labels'] = example['label']\n",
        "    return example"
      ]
    },
    {
      "cell_type": "markdown",
      "metadata": {},
      "source": [
        "We apply the function to the dataset"
      ]
    },
    {
      "cell_type": "code",
      "execution_count": 7,
      "metadata": {},
      "outputs": [
        {
          "data": {
            "text/plain": [
              "(Dataset({\n",
              "     features: ['id', 'text', 'label', 'label_text', 'labels'],\n",
              "     num_rows: 200000\n",
              " }),\n",
              " Dataset({\n",
              "     features: ['id', 'text', 'label', 'label_text', 'labels'],\n",
              "     num_rows: 5000\n",
              " }),\n",
              " Dataset({\n",
              "     features: ['id', 'text', 'label', 'label_text', 'labels'],\n",
              "     num_rows: 5000\n",
              " }))"
            ]
          },
          "execution_count": 7,
          "metadata": {},
          "output_type": "execute_result"
        }
      ],
      "source": [
        "subset_dataset_train = subset_dataset_train.map(set_labels)\n",
        "subset_dataset_validation = subset_dataset_validation.map(set_labels)\n",
        "subset_dataset_test = subset_dataset_test.map(set_labels)\n",
        "\n",
        "subset_dataset_train, subset_dataset_validation, subset_dataset_test"
      ]
    },
    {
      "cell_type": "markdown",
      "metadata": {},
      "source": [
        "We see a sample again"
      ]
    },
    {
      "cell_type": "code",
      "execution_count": 8,
      "metadata": {},
      "outputs": [
        {
          "data": {
            "text/plain": [
              "{'id': 'en_0388304',\n",
              " 'text': 'The N was missing from on\\n\\nThe N was missing from on',\n",
              " 'label': 0,\n",
              " 'label_text': '0',\n",
              " 'labels': 0}"
            ]
          },
          "execution_count": 8,
          "metadata": {},
          "output_type": "execute_result"
        }
      ],
      "source": [
        "subset_dataset_train[idx]"
      ]
    },
    {
      "cell_type": "markdown",
      "metadata": {},
      "source": [
        "### Tokenizer"
      ]
    },
    {
      "cell_type": "markdown",
      "metadata": {},
      "source": [
        "We implement the tokenizer. To avoid errors, we assign the end of string token to the padding token."
      ]
    },
    {
      "cell_type": "code",
      "execution_count": 9,
      "metadata": {},
      "outputs": [],
      "source": [
        "from transformers import AutoTokenizer\n",
        "\n",
        "checkpoint = \"openai-community/gpt2\"\n",
        "tokenizer = AutoTokenizer.from_pretrained(checkpoint)\n",
        "tokenizer.pad_token = tokenizer.eos_token"
      ]
    },
    {
      "cell_type": "markdown",
      "metadata": {},
      "source": [
        "We create a function to tokenize the dataset"
      ]
    },
    {
      "cell_type": "code",
      "execution_count": 10,
      "metadata": {},
      "outputs": [],
      "source": [
        "def tokenize_function(examples):\n",
        "    return tokenizer(examples[\"text\"], padding=\"max_length\", truncation=True, max_length=768, return_tensors=\"pt\")"
      ]
    },
    {
      "cell_type": "markdown",
      "metadata": {},
      "source": [
        "We apply the function to the dataset and, at the same time, remove the columns we don't need."
      ]
    },
    {
      "cell_type": "code",
      "execution_count": 12,
      "metadata": {},
      "outputs": [
        {
          "data": {
            "text/plain": [
              "(Dataset({\n",
              "     features: ['labels', 'input_ids', 'attention_mask'],\n",
              "     num_rows: 200000\n",
              " }),\n",
              " Dataset({\n",
              "     features: ['labels', 'input_ids', 'attention_mask'],\n",
              "     num_rows: 5000\n",
              " }),\n",
              " Dataset({\n",
              "     features: ['labels', 'input_ids', 'attention_mask'],\n",
              "     num_rows: 5000\n",
              " }))"
            ]
          },
          "execution_count": 12,
          "metadata": {},
          "output_type": "execute_result"
        }
      ],
      "source": [
        "subset_dataset_train = subset_dataset_train.map(tokenize_function, batched=True, remove_columns=['text', 'label', 'id', 'label_text'])\n",
        "subset_dataset_validation = subset_dataset_validation.map(tokenize_function, batched=True, remove_columns=['text', 'label', 'id', 'label_text'])\n",
        "subset_dataset_test = subset_dataset_test.map(tokenize_function, batched=True, remove_columns=['text', 'label', 'id', 'label_text'])\n",
        "\n",
        "subset_dataset_train, subset_dataset_validation, subset_dataset_test"
      ]
    },
    {
      "cell_type": "markdown",
      "metadata": {},
      "source": [
        "We see a sample again, but in this case we only see the `keys`"
      ]
    },
    {
      "cell_type": "code",
      "execution_count": 13,
      "metadata": {},
      "outputs": [
        {
          "data": {
            "text/plain": [
              "dict_keys(['labels', 'input_ids', 'attention_mask'])"
            ]
          },
          "execution_count": 13,
          "metadata": {},
          "output_type": "execute_result"
        }
      ],
      "source": [
        "subset_dataset_train[idx].keys()"
      ]
    },
    {
      "cell_type": "markdown",
      "metadata": {},
      "source": [
        "### Model"
      ]
    },
    {
      "cell_type": "markdown",
      "metadata": {},
      "source": [
        "We instantiate the model. Also, to avoid errors, we assign the end of string token to the padding token."
      ]
    },
    {
      "cell_type": "code",
      "execution_count": 13,
      "metadata": {},
      "outputs": [
        {
          "name": "stderr",
          "output_type": "stream",
          "text": [
            "Some weights of GPT2ForSequenceClassification were not initialized from the model checkpoint at openai-community/gpt2 and are newly initialized: ['score.weight']\n",
            "You should probably TRAIN this model on a down-stream task to be able to use it for predictions and inference.\n"
          ]
        }
      ],
      "source": [
        "from transformers import AutoModelForSequenceClassification\n",
        "\n",
        "model = AutoModelForSequenceClassification.from_pretrained(checkpoint, num_labels=num_classes)\n",
        "model.config.pad_token_id = model.config.eos_token_id"
      ]
    },
    {
      "cell_type": "markdown",
      "metadata": {},
      "source": [
        "As we saw in the post [Fine tuning SLMs](https://maximofn.com/fine-tuning-sml/) we get a warning that says some layers have not been initialized. This is because, in this case, as it is a classification problem and when we instantiated the model we specified that we want it to be a classification model with 5 classes, the library has removed the last layer and replaced it with one that has 5 neurons at the output. If you don't fully understand this, check out the post I cited for a better explanation."
      ]
    },
    {
      "cell_type": "markdown",
      "metadata": {},
      "source": [
        "### LoRA"
      ]
    },
    {
      "cell_type": "markdown",
      "metadata": {},
      "source": [
        "Before implementing LoRA, we check the number of trainable parameters that the model has"
      ]
    },
    {
      "cell_type": "code",
      "execution_count": 14,
      "metadata": {},
      "outputs": [
        {
          "name": "stdout",
          "output_type": "stream",
          "text": [
            "Total trainable parameters before: 124,443,648\n"
          ]
        }
      ],
      "source": [
        "total_params = sum(p.numel() for p in model.parameters() if p.requires_grad)\n",
        "print(f\"Total trainable parameters before: {total_params:,}\")"
      ]
    },
    {
      "cell_type": "markdown",
      "metadata": {},
      "source": [
        "We see that it has 124M trainable parameters. Now we are going to freeze them."
      ]
    },
    {
      "cell_type": "code",
      "execution_count": 15,
      "metadata": {},
      "outputs": [
        {
          "name": "stdout",
          "output_type": "stream",
          "text": [
            "Total trainable parameters after: 0\n"
          ]
        }
      ],
      "source": [
        "for param in model.parameters():\n",
        "    param.requires_grad = False\n",
        "\n",
        "total_params = sum(p.numel() for p in model.parameters() if p.requires_grad)\n",
        "print(f\"Total trainable parameters after: {total_params:,}\")"
      ]
    },
    {
      "cell_type": "markdown",
      "metadata": {},
      "source": [
        "After freezing, there are no trainable parameters left."
      ]
    },
    {
      "cell_type": "markdown",
      "metadata": {},
      "source": [
        "Let's see how the model looks before applying LoRA"
      ]
    },
    {
      "cell_type": "code",
      "execution_count": 16,
      "metadata": {},
      "outputs": [
        {
          "data": {
            "text/plain": [
              "GPT2ForSequenceClassification(\n",
              "  (transformer): GPT2Model(\n",
              "    (wte): Embedding(50257, 768)\n",
              "    (wpe): Embedding(1024, 768)\n",
              "    (drop): Dropout(p=0.1, inplace=False)\n",
              "    (h): ModuleList(\n",
              "      (0-11): 12 x GPT2Block(\n",
              "        (ln_1): LayerNorm((768,), eps=1e-05, elementwise_affine=True)\n",
              "        (attn): GPT2Attention(\n",
              "          (c_attn): Conv1D()\n",
              "          (c_proj): Conv1D()\n",
              "          (attn_dropout): Dropout(p=0.1, inplace=False)\n",
              "          (resid_dropout): Dropout(p=0.1, inplace=False)\n",
              "        )\n",
              "        (ln_2): LayerNorm((768,), eps=1e-05, elementwise_affine=True)\n",
              "        (mlp): GPT2MLP(\n",
              "          (c_fc): Conv1D()\n",
              "          (c_proj): Conv1D()\n",
              "          (act): NewGELUActivation()\n",
              "          (dropout): Dropout(p=0.1, inplace=False)\n",
              "        )\n",
              "      )\n",
              "    )\n",
              "    (ln_f): LayerNorm((768,), eps=1e-05, elementwise_affine=True)\n",
              "  )\n",
              "  (score): Linear(in_features=768, out_features=5, bias=False)\n",
              ")"
            ]
          },
          "execution_count": 16,
          "metadata": {},
          "output_type": "execute_result"
        }
      ],
      "source": [
        "model"
      ]
    },
    {
      "cell_type": "markdown",
      "metadata": {},
      "source": [
        "First we create the LoRA layer.",
        "\n",
        "It has to inherit from `torch.nn.Module` so that it can act as a layer of a neural network",
        "\n",
        "In the `_init_` method we create the matrices `A` and `B` initialized as explained before, matrix `A` with a random Gaussian distribution and matrix `B` with zeros. We also create the parameters `rank` and `alpha`.",
        "\n",
        "In the `forward` method we calculate LoRA as explained."
      ]
    },
    {
      "cell_type": "code",
      "execution_count": 17,
      "metadata": {},
      "outputs": [],
      "source": [
        "import torch\n",
        "\n",
        "class LoRALayer(torch.nn.Module):\n",
        "    def __init__(self, in_dim, out_dim, rank, alpha):\n",
        "        super().__init__()\n",
        "        self.A = torch.nn.Parameter(torch.empty(in_dim, rank))\n",
        "        torch.nn.init.kaiming_uniform_(self.A, a=torch.sqrt(torch.tensor(5.)).item())  # similar to standard weight initialization\n",
        "        self.B = torch.nn.Parameter(torch.zeros(rank, out_dim))\n",
        "        self.alpha = alpha\n",
        "\n",
        "    def forward(self, x):\n",
        "        x = self.alpha * (x @ self.A @ self.B)\n",
        "        return x"
      ]
    },
    {
      "cell_type": "markdown",
      "metadata": {},
      "source": [
        "Now we create a linear class with LoRA.",
        "\n",
        "Just like before, inherit from `torch.nn.Module` so it can act as a layer of a neural network.",
        "\n",
        "In the `init` method, we create a variable with the original linear layer of the network and another variable with the new LoRA layer that we had implemented earlier.",
        "\n",
        "In the `forward` method, we add the outputs of the original linear layer and the LoRA layer."
      ]
    },
    {
      "cell_type": "code",
      "execution_count": 18,
      "metadata": {},
      "outputs": [],
      "source": [
        "class LoRALinear(torch.nn.Module):\n",
        "    def __init__(self, linear, rank, alpha):\n",
        "        super().__init__()\n",
        "        self.linear = linear\n",
        "        self.lora = LoRALayer(\n",
        "            linear.in_features, linear.out_features, rank, alpha\n",
        "        )\n",
        "\n",
        "    def forward(self, x):\n",
        "        return self.linear(x) + self.lora(x)"
      ]
    },
    {
      "cell_type": "markdown",
      "metadata": {},
      "source": [
        "Finally, we create a function that replaces the linear layers with the new linear layer with LoRA that we have created. What it does is if it finds a linear layer in the model, it replaces it with the linear layer with LoRA; otherwise, it applies the function within the sublayers of the layer."
      ]
    },
    {
      "cell_type": "code",
      "execution_count": 19,
      "metadata": {},
      "outputs": [],
      "source": [
        "def replace_linear_with_lora(model, rank, alpha):\n",
        "    for name, module in model.named_children():\n",
        "        if isinstance(module, torch.nn.Linear):\n",
        "            # Replace the Linear layer with LinearWithLoRA\n",
        "            setattr(model, name, LoRALinear(module, rank, alpha))\n",
        "        else:\n",
        "            # Recursively apply the same function to child modules\n",
        "            replace_linear_with_lora(module, rank, alpha)"
      ]
    },
    {
      "cell_type": "markdown",
      "metadata": {},
      "source": [
        "We apply the function to the model to replace the linear layers of the model with the new linear layer using LoRA"
      ]
    },
    {
      "cell_type": "code",
      "execution_count": 20,
      "metadata": {},
      "outputs": [],
      "source": [
        "rank = 16\n",
        "alpha = 16\n",
        "\n",
        "replace_linear_with_lora(model, rank=rank, alpha=alpha)"
      ]
    },
    {
      "cell_type": "markdown",
      "metadata": {},
      "source": [
        "We now see the number of trainable parameters"
      ]
    },
    {
      "cell_type": "code",
      "execution_count": 21,
      "metadata": {},
      "outputs": [
        {
          "name": "stdout",
          "output_type": "stream",
          "text": [
            "Total trainable LoRA parameters: 12,368\n"
          ]
        }
      ],
      "source": [
        "total_params = sum(p.numel() for p in model.parameters() if p.requires_grad)\n",
        "print(f\"Total trainable LoRA parameters: {total_params:,}\")"
      ]
    },
    {
      "cell_type": "markdown",
      "metadata": {},
      "source": [
        "We have gone from 124M trainable parameters to 12k trainable parameters, that is, we have reduced the number of trainable parameters by 10,000 times!"
      ]
    },
    {
      "cell_type": "markdown",
      "metadata": {},
      "source": [
        "We revisit the model"
      ]
    },
    {
      "cell_type": "code",
      "execution_count": 22,
      "metadata": {},
      "outputs": [
        {
          "data": {
            "text/plain": [
              "GPT2ForSequenceClassification(\n",
              "  (transformer): GPT2Model(\n",
              "    (wte): Embedding(50257, 768)\n",
              "    (wpe): Embedding(1024, 768)\n",
              "    (drop): Dropout(p=0.1, inplace=False)\n",
              "    (h): ModuleList(\n",
              "      (0-11): 12 x GPT2Block(\n",
              "        (ln_1): LayerNorm((768,), eps=1e-05, elementwise_affine=True)\n",
              "        (attn): GPT2Attention(\n",
              "          (c_attn): Conv1D()\n",
              "          (c_proj): Conv1D()\n",
              "          (attn_dropout): Dropout(p=0.1, inplace=False)\n",
              "          (resid_dropout): Dropout(p=0.1, inplace=False)\n",
              "        )\n",
              "        (ln_2): LayerNorm((768,), eps=1e-05, elementwise_affine=True)\n",
              "        (mlp): GPT2MLP(\n",
              "          (c_fc): Conv1D()\n",
              "          (c_proj): Conv1D()\n",
              "          (act): NewGELUActivation()\n",
              "          (dropout): Dropout(p=0.1, inplace=False)\n",
              "        )\n",
              "      )\n",
              "    )\n",
              "    (ln_f): LayerNorm((768,), eps=1e-05, elementwise_affine=True)\n",
              "  )\n",
              "  (score): LoRALinear(\n",
              "    (linear): Linear(in_features=768, out_features=5, bias=False)\n",
              "    (lora): LoRALayer()\n",
              "  )\n",
              ")"
            ]
          },
          "execution_count": 22,
          "metadata": {},
          "output_type": "execute_result"
        }
      ],
      "source": [
        "model"
      ]
    },
    {
      "cell_type": "markdown",
      "metadata": {},
      "source": [
        "Let's compare them layer by layer",
        "\n",
        "|Original Model|Model with LoRA|",
        "|-|-|",
        "|GPT2ForSequenceClassification(|GPT2ForSequenceClassification(|",
        "|  (transformer): GPT2Model(|  (transformer): GPT2Model(|",
        "|    (wte): Embedding(50257, 768)|    (wte): Embedding(50257, 768)|",
        "|    (wpe): Embedding(1024, 768)|    (wpe): Embedding(1024, 768)|",
        "|    (drop): Dropout(p=0.1, inplace=False)|    (drop): Dropout(p=0.1, inplace=False)|",
        "|    (h): ModuleList(|    (h): ModuleList(|",
        "|      (0-11): 12 x GPT2Block(|      (0-11): 12 x GPT2Block(|",
        "|        (ln_1): LayerNorm((768,), eps=1e-05, elementwise_affine=True)|        (ln_1): LayerNorm((768,), eps=1e-05, elementwise_affine=True)|",
        "|        (attn): GPT2Attention(|        (attn): GPT2Attention(|",
        "|          (c_attn): Conv1D()|          (c_attn): Conv1D()|",
        "|          (c_proj): Conv1D()|          (c_proj): Conv1D()|",
        "|          (attn_dropout): Dropout(p=0.1, inplace=False)|          (attn_dropout): Dropout(p=0.1, inplace=False)|",
        "|          (resid_dropout): Dropout(p=0.1, inplace=False)|          (resid_dropout): Dropout(p=0.1, inplace=False)|",
        "|        )|        )|",
        "|        (ln_2): LayerNorm((768,), eps=1e-05, elementwise_affine=True)|        (ln_2): LayerNorm((768,), eps=1e-05, elementwise_affine=True)|",
        "|        (mlp): GPT2MLP(|        (mlp): GPT2MLP(|",
        "|          (c_fc): Conv1D()|          (c_fc): Conv1D()|",
        "|          (c_proj): Conv1D()|          (c_proj): Conv1D()|",
        "|          (act): NewGELUActivation()|          (act): NewGELUActivation()|",
        "|          (dropout): Dropout(p=0.1, inplace=False)|          (dropout): Dropout(p=0.1, inplace=False)|",
        "|        )|        )|",
        "|      )|      )|",
        "|    )|    )|",
        "|    (ln_f): LayerNorm((768,), eps=1e-05, elementwise_affine=True)|    (ln_f): LayerNorm((768,), eps=1e-05, elementwise_affine=True)|",
        "|  )|  )|",
        "||  (score): LoRALinear()|",
        "|  (score): Linear(in_features=768, out_features=5, bias=False)|    (linear): Linear(in_features=768, out_features=5, bias=False)|",
        "||    (lora): LoRALayer()|",
        "||  )|",
        "|)|)|",
        "\n",
        "We see that they are the same except at the end, where in the original model there was a normal linear layer and in the model with LoRA there is a `LoRALinear` layer which inside has the original model's linear layer and a `LoRALayer`."
      ]
    },
    {
      "cell_type": "markdown",
      "metadata": {},
      "source": [
        "### Training"
      ]
    },
    {
      "cell_type": "markdown",
      "metadata": {},
      "source": [
        "Once the model has been instantiated with LoRA, we are going to train it as usual"
      ]
    },
    {
      "cell_type": "markdown",
      "metadata": {},
      "source": [
        "As we mentioned, in the post [Fine tuning SLMs](https://maximofn.com/fine-tuning-sml/) we used a batch size of 28 for the training loop and 40 for the evaluation loop, while now that there are fewer trainable parameters we can use a larger batch size.",
        "\n",
        "Why does this happen? When training a model, you need to store the model and its gradients in the GPU memory. Therefore, whether using LoRA or not, the model itself still needs to be stored. However, with LoRA, only the gradients of 12k parameters are stored, whereas without LoRA, the gradients of 128M parameters are stored. This means that with LoRA, less GPU memory is required, allowing for a larger batch size."
      ]
    },
    {
      "cell_type": "code",
      "execution_count": 23,
      "metadata": {},
      "outputs": [],
      "source": [
        "from transformers import TrainingArguments\n",
        "\n",
        "metric_name = \"accuracy\"\n",
        "model_name = \"GPT2-small-LoRA-finetuned-amazon-reviews-en-classification\"\n",
        "LR = 2e-5\n",
        "BS_TRAIN = 400\n",
        "BS_EVAL = 400\n",
        "EPOCHS = 3\n",
        "WEIGHT_DECAY = 0.01\n",
        "\n",
        "training_args = TrainingArguments(\n",
        "    model_name,\n",
        "    eval_strategy=\"epoch\",\n",
        "    save_strategy=\"epoch\",\n",
        "    learning_rate=LR,\n",
        "    per_device_train_batch_size=BS_TRAIN,\n",
        "    per_device_eval_batch_size=BS_EVAL,\n",
        "    num_train_epochs=EPOCHS,\n",
        "    weight_decay=WEIGHT_DECAY,\n",
        "    lr_scheduler_type=\"cosine\",\n",
        "    warmup_ratio = 0.1,\n",
        "    fp16=True,\n",
        "    load_best_model_at_end=True,\n",
        "    metric_for_best_model=metric_name,\n",
        "    push_to_hub=True,\n",
        "    logging_dir=\"./runs\",\n",
        ")"
      ]
    },
    {
      "cell_type": "code",
      "execution_count": 24,
      "metadata": {},
      "outputs": [],
      "source": [
        "import numpy as np\n",
        "from evaluate import load\n",
        "\n",
        "metric = load(\"accuracy\")\n",
        "\n",
        "def compute_metrics(eval_pred):\n",
        "    print(eval_pred)\n",
        "    predictions, labels = eval_pred\n",
        "    predictions = np.argmax(predictions, axis=1)\n",
        "    return metric.compute(predictions=predictions, references=labels)"
      ]
    },
    {
      "cell_type": "code",
      "execution_count": 25,
      "metadata": {},
      "outputs": [],
      "source": [
        "from transformers import Trainer\n",
        "\n",
        "trainer = Trainer(\n",
        "    model,\n",
        "    training_args,\n",
        "    train_dataset=subset_dataset_train,\n",
        "    eval_dataset=subset_dataset_validation,\n",
        "    tokenizer=tokenizer,\n",
        "    compute_metrics=compute_metrics,\n",
        ")"
      ]
    },
    {
      "cell_type": "code",
      "execution_count": 27,
      "metadata": {
        "colab": {
          "base_uri": "https://localhost:8080/",
          "height": 256
        },
        "id": "AZL4wIFKlC6x",
        "outputId": "9f6a314c-65f0-46a5-fadf-61f832c1ca73"
      },
      "outputs": [
        {
          "data": {
            "text/html": [
              "\n",
              "    <div>\n",
              "      \n",
              "      <progress value='1500' max='1500' style='width:300px; height:20px; vertical-align: middle;'></progress>\n",
              "      [1500/1500 42:41, Epoch 3/3]\n",
              "    </div>\n",
              "    <table border=\"1\" class=\"dataframe\">\n",
              "  <thead>\n",
              " <tr style=\"text-align: left;\">\n",
              "      <th>Epoch</th>\n",
              "      <th>Training Loss</th>\n",
              "      <th>Validation Loss</th>\n",
              "      <th>Accuracy</th>\n",
              "    </tr>\n",
              "  </thead>\n",
              "  <tbody>\n",
              "    <tr>\n",
              "      <td>1</td>\n",
              "      <td>2.396400</td>\n",
              "      <td>1.602937</td>\n",
              "      <td>0.269400</td>\n",
              "    </tr>\n",
              "    <tr>\n",
              "      <td>2</td>\n",
              "      <td>1.572700</td>\n",
              "      <td>1.531719</td>\n",
              "      <td>0.320800</td>\n",
              "    </tr>\n",
              "    <tr>\n",
              "      <td>3</td>\n",
              "      <td>1.534400</td>\n",
              "      <td>1.511815</td>\n",
              "      <td>0.335800</td>\n",
              "    </tr>\n",
              "  </tbody>\n",
              "</table><p>"
            ],
            "text/plain": [
              "<IPython.core.display.HTML object>"
            ]
          },
          "metadata": {},
          "output_type": "display_data"
        },
        {
          "name": "stdout",
          "output_type": "stream",
          "text": [
            "<transformers.trainer_utils.EvalPrediction object at 0x7cd07be46440>\n",
            "<transformers.trainer_utils.EvalPrediction object at 0x7cd07be45c30>\n",
            "<transformers.trainer_utils.EvalPrediction object at 0x7cd07be8b970>\n"
          ]
        },
        {
          "data": {
            "text/plain": [
              "TrainOutput(global_step=1500, training_loss=1.8345018310546874, metrics={'train_runtime': 2565.4667, 'train_samples_per_second': 233.876, 'train_steps_per_second': 0.585, 'total_flos': 2.352076406784e+17, 'train_loss': 1.8345018310546874, 'epoch': 3.0})"
            ]
          },
          "execution_count": 27,
          "metadata": {},
          "output_type": "execute_result"
        }
      ],
      "source": [
        "trainer.train()"
      ]
    },
    {
      "cell_type": "markdown",
      "metadata": {},
      "source": [
        "### Evaluation"
      ]
    },
    {
      "cell_type": "markdown",
      "metadata": {},
      "source": [
        "Once trained, we evaluate on the test dataset"
      ]
    },
    {
      "cell_type": "code",
      "execution_count": 28,
      "metadata": {
        "colab": {
          "base_uri": "https://localhost:8080/",
          "height": 159
        },
        "id": "Xcxmbo-3Uz1G",
        "outputId": "a6ce9a05-22a1-40ce-a32a-b149ed8e6dd4"
      },
      "outputs": [
        {
          "data": {
            "text/html": [
              "\n",
              "    <div>\n",
              "      \n",
              "      <progress value='13' max='13' style='width:300px; height:20px; vertical-align: middle;'></progress>\n",
              "      [13/13 00:17]\n",
              "    </div>\n",
              "    "
            ],
            "text/plain": [
              "<IPython.core.display.HTML object>"
            ]
          },
          "metadata": {},
          "output_type": "display_data"
        },
        {
          "name": "stdout",
          "output_type": "stream",
          "text": [
            "<transformers.trainer_utils.EvalPrediction object at 0x7cd07be8bbe0>\n"
          ]
        },
        {
          "data": {
            "text/plain": [
              "{'eval_loss': 1.5203168392181396,\n",
              " 'eval_accuracy': 0.3374,\n",
              " 'eval_runtime': 19.3843,\n",
              " 'eval_samples_per_second': 257.94,\n",
              " 'eval_steps_per_second': 0.671,\n",
              " 'epoch': 3.0}"
            ]
          },
          "execution_count": 28,
          "metadata": {},
          "output_type": "execute_result"
        }
      ],
      "source": [
        "trainer.evaluate(eval_dataset=subset_dataset_test)"
      ]
    },
    {
      "cell_type": "markdown",
      "metadata": {},
      "source": [
        "### Publish the model"
      ]
    },
    {
      "cell_type": "markdown",
      "metadata": {},
      "source": [
        "We already have our model trained, so we can share it with the world. First, we create a **model card**."
      ]
    },
    {
      "cell_type": "code",
      "execution_count": 100,
      "metadata": {},
      "outputs": [],
      "source": [
        "trainer.create_model_card()"
      ]
    },
    {
      "cell_type": "markdown",
      "metadata": {},
      "source": [
        "And now we can publish it. Since the first thing we did was log in to the Hugging Face hub, we can upload it to our hub without any issues."
      ]
    },
    {
      "cell_type": "code",
      "execution_count": 100,
      "metadata": {},
      "outputs": [],
      "source": [
        "trainer.push_to_hub()"
      ]
    },
    {
      "cell_type": "markdown",
      "metadata": {},
      "source": [
        "## Test of the model"
      ]
    },
    {
      "cell_type": "markdown",
      "metadata": {},
      "source": [
        "We clean everything as much as possible"
      ]
    },
    {
      "cell_type": "code",
      "execution_count": 1,
      "metadata": {},
      "outputs": [],
      "source": [
        "import torch\n",
        "import gc\n",
        "\n",
        "\n",
        "def clear_hardwares():\n",
        "    torch.clear_autocast_cache()\n",
        "    torch.cuda.ipc_collect()\n",
        "    torch.cuda.empty_cache()\n",
        "    gc.collect()\n",
        "\n",
        "\n",
        "clear_hardwares()\n",
        "clear_hardwares()"
      ]
    },
    {
      "cell_type": "markdown",
      "metadata": {},
      "source": [
        "Since we have uploaded the model to our hub, we can download and use it"
      ]
    },
    {
      "cell_type": "code",
      "execution_count": 100,
      "metadata": {},
      "outputs": [],
      "source": [
        "from transformers import pipeline\n",
        "\n",
        "user = \"maximofn\"\n",
        "checkpoints = f\"{user}/{model_name}\"\n",
        "task = \"text-classification\"\n",
        "classifier = pipeline(task, model=checkpoints, tokenizer=checkpoints)"
      ]
    },
    {
      "cell_type": "markdown",
      "metadata": {},
      "source": [
        "Now if we want it to return the probability of all classes, we simply use the classifier we just instantiated, with the parameter `top_k=None`"
      ]
    },
    {
      "cell_type": "code",
      "execution_count": 33,
      "metadata": {
        "colab": {
          "base_uri": "https://localhost:8080/"
        },
        "id": "pqy8oMPuUz1I",
        "outputId": "78501f30-2983-481a-e908-d5139bbce0e7"
      },
      "outputs": [
        {
          "data": {
            "text/plain": [
              "[{'label': 'LABEL_0', 'score': 0.8419149518013},\n",
              " {'label': 'LABEL_1', 'score': 0.09386005252599716},\n",
              " {'label': 'LABEL_3', 'score': 0.03624210134148598},\n",
              " {'label': 'LABEL_2', 'score': 0.02049318142235279},\n",
              " {'label': 'LABEL_4', 'score': 0.0074898069724440575}]"
            ]
          },
          "execution_count": 33,
          "metadata": {},
          "output_type": "execute_result"
        }
      ],
      "source": [
        "labels = classifier(\"I love this product\", top_k=None)\n",
        "labels"
      ]
    },
    {
      "cell_type": "markdown",
      "metadata": {},
      "source": [
        "If we only want the class with the highest probability, we do the same but with the parameter `top_k=1`"
      ]
    },
    {
      "cell_type": "code",
      "execution_count": 34,
      "metadata": {
        "colab": {
          "base_uri": "https://localhost:8080/"
        },
        "id": "qpcw3pN0Uz1J",
        "outputId": "2667da0e-743c-4300-ac46-b8ff4d43270d"
      },
      "outputs": [
        {
          "data": {
            "text/plain": [
              "[{'label': 'LABEL_0', 'score': 0.8419149518013}]"
            ]
          },
          "execution_count": 34,
          "metadata": {},
          "output_type": "execute_result"
        }
      ],
      "source": [
        "label = classifier(\"I love this product\", top_k=1)\n",
        "label"
      ]
    },
    {
      "cell_type": "markdown",
      "metadata": {},
      "source": [
        "And if we want n classes, we do the same but with the parameter `top_k=n`"
      ]
    },
    {
      "cell_type": "code",
      "execution_count": 35,
      "metadata": {
        "colab": {
          "base_uri": "https://localhost:8080/"
        },
        "id": "pRQvB3tTUz1J",
        "outputId": "0eb134fa-4633-4394-d795-b1563cad1d37"
      },
      "outputs": [
        {
          "data": {
            "text/plain": [
              "[{'label': 'LABEL_0', 'score': 0.8419149518013},\n",
              " {'label': 'LABEL_1', 'score': 0.09386005252599716}]"
            ]
          },
          "execution_count": 35,
          "metadata": {},
          "output_type": "execute_result"
        }
      ],
      "source": [
        "two_labels = classifier(\"I love this product\", top_k=2)\n",
        "two_labels"
      ]
    },
    {
      "cell_type": "markdown",
      "metadata": {},
      "source": [
        "We can also test the model with Automodel and AutoTokenizer"
      ]
    },
    {
      "cell_type": "code",
      "execution_count": 100,
      "metadata": {},
      "outputs": [],
      "source": [
        "from transformers import AutoTokenizer, AutoModelForSequenceClassification\n",
        "import torch\n",
        "\n",
        "model_name = \"GPT2-small-finetuned-amazon-reviews-en-classification\"\n",
        "user = \"maximofn\"\n",
        "checkpoint = f\"{user}/{model_name}\"\n",
        "num_classes = num_classes\n",
        "\n",
        "tokenizer = AutoTokenizer.from_pretrained(checkpoint)\n",
        "model = AutoModelForSequenceClassification.from_pretrained(checkpoint, num_labels=num_classes).half().eval().to(\"cuda\")"
      ]
    },
    {
      "cell_type": "code",
      "execution_count": 37,
      "metadata": {
        "colab": {
          "base_uri": "https://localhost:8080/"
        },
        "id": "9goQMfcLUz1K",
        "outputId": "7d6dc70b-88a4-4f06-83f4-81457994de3b"
      },
      "outputs": [
        {
          "data": {
            "text/plain": [
              "[0.003940582275390625,\n",
              " 0.00266265869140625,\n",
              " 0.013946533203125,\n",
              " 0.1544189453125,\n",
              " 0.8251953125]"
            ]
          },
          "execution_count": 37,
          "metadata": {},
          "output_type": "execute_result"
        }
      ],
      "source": [
        "tokens = tokenizer.encode(\"I love this product\", return_tensors=\"pt\").to(model.device)\n",
        "with torch.no_grad():\n",
        "    output = model(tokens)\n",
        "logits = output.logits\n",
        "lables = torch.softmax(logits, dim=1).cpu().numpy().tolist()\n",
        "lables[0]"
      ]
    },
    {
      "cell_type": "markdown",
      "metadata": {},
      "source": [
        "If you want to try the model further, you can see it at [Maximofn/GPT2-small-LoRA-finetuned-amazon-reviews-en-classification](https://huggingface.co/Maximofn/GPT2-small-LoRA-finetuned-amazon-reviews-en-classification)"
      ]
    },
    {
      "cell_type": "markdown",
      "metadata": {},
      "source": [
        "## Implementation of LoRA in a LLM with PEFT from Hugging Face"
      ]
    },
    {
      "cell_type": "markdown",
      "metadata": {},
      "source": [
        "We can do the same with the `PEFT` library from Hugging Face. Let's see it."
      ]
    },
    {
      "cell_type": "markdown",
      "metadata": {},
      "source": [
        "### Login to the Hub"
      ]
    },
    {
      "cell_type": "markdown",
      "metadata": {},
      "source": [
        "We log in to upload the model to the Hub"
      ]
    },
    {
      "cell_type": "code",
      "execution_count": 100,
      "metadata": {},
      "outputs": [],
      "source": [
        "from huggingface_hub import notebook_login\n",
        "notebook_login()"
      ]
    },
    {
      "cell_type": "markdown",
      "metadata": {},
      "source": [
        "### Dataset"
      ]
    },
    {
      "cell_type": "markdown",
      "metadata": {},
      "source": [
        "We download the dataset again"
      ]
    },
    {
      "cell_type": "code",
      "execution_count": 1,
      "metadata": {},
      "outputs": [
        {
          "data": {
            "text/plain": [
              "DatasetDict({\n",
              "    train: Dataset({\n",
              "        features: ['id', 'text', 'label', 'label_text'],\n",
              "        num_rows: 200000\n",
              "    })\n",
              "    validation: Dataset({\n",
              "        features: ['id', 'text', 'label', 'label_text'],\n",
              "        num_rows: 5000\n",
              "    })\n",
              "    test: Dataset({\n",
              "        features: ['id', 'text', 'label', 'label_text'],\n",
              "        num_rows: 5000\n",
              "    })\n",
              "})"
            ]
          },
          "execution_count": 1,
          "metadata": {},
          "output_type": "execute_result"
        }
      ],
      "source": [
        "from datasets import load_dataset\n",
        "\n",
        "dataset = load_dataset(\"mteb/amazon_reviews_multi\", \"en\")\n",
        "dataset"
      ]
    },
    {
      "cell_type": "markdown",
      "metadata": {},
      "source": [
        "We create a subset in case you want to test the code with a smaller dataset. In my case, I will use 100% of the dataset."
      ]
    },
    {
      "cell_type": "code",
      "execution_count": 2,
      "metadata": {},
      "outputs": [
        {
          "data": {
            "text/plain": [
              "(Dataset({\n",
              "     features: ['id', 'text', 'label', 'label_text'],\n",
              "     num_rows: 200000\n",
              " }),\n",
              " Dataset({\n",
              "     features: ['id', 'text', 'label', 'label_text'],\n",
              "     num_rows: 5000\n",
              " }),\n",
              " Dataset({\n",
              "     features: ['id', 'text', 'label', 'label_text'],\n",
              "     num_rows: 5000\n",
              " }))"
            ]
          },
          "execution_count": 2,
          "metadata": {},
          "output_type": "execute_result"
        }
      ],
      "source": [
        "percentage = 1\n",
        "\n",
        "subset_dataset_train = dataset['train'].select(range(int(len(dataset['train']) * percentage)))\n",
        "subset_dataset_validation = dataset['validation'].select(range(int(len(dataset['validation']) * percentage)))\n",
        "subset_dataset_test = dataset['test'].select(range(int(len(dataset['test']) * percentage)))\n",
        "\n",
        "subset_dataset_train, subset_dataset_validation, subset_dataset_test"
      ]
    },
    {
      "cell_type": "markdown",
      "metadata": {},
      "source": [
        "We get the number of classes. To obtain the number of classes, we use `dataset['train']` and not `subset_dataset_train` because if the subset is very small, it's possible that there are no examples with all the possible classes from the original dataset."
      ]
    },
    {
      "cell_type": "code",
      "execution_count": 3,
      "metadata": {},
      "outputs": [
        {
          "data": {
            "text/plain": [
              "5"
            ]
          },
          "execution_count": 3,
          "metadata": {},
          "output_type": "execute_result"
        }
      ],
      "source": [
        "num_classes = len(dataset['train'].unique('label'))\n",
        "num_classes"
      ]
    },
    {
      "cell_type": "markdown",
      "metadata": {},
      "source": [
        "We create a function to create the `label` field in the dataset. The downloaded dataset has the `labels` field, but the `transformers` library requires that the field be named `label` and not `labels`."
      ]
    },
    {
      "cell_type": "code",
      "execution_count": 4,
      "metadata": {},
      "outputs": [],
      "source": [
        "def set_labels(example):\n",
        "    example['labels'] = example['label']\n",
        "    return example"
      ]
    },
    {
      "cell_type": "markdown",
      "metadata": {},
      "source": [
        "We apply the function to the dataset"
      ]
    },
    {
      "cell_type": "code",
      "execution_count": 5,
      "metadata": {},
      "outputs": [
        {
          "data": {
            "text/plain": [
              "(Dataset({\n",
              "     features: ['id', 'text', 'label', 'label_text', 'labels'],\n",
              "     num_rows: 200000\n",
              " }),\n",
              " Dataset({\n",
              "     features: ['id', 'text', 'label', 'label_text', 'labels'],\n",
              "     num_rows: 5000\n",
              " }),\n",
              " Dataset({\n",
              "     features: ['id', 'text', 'label', 'label_text', 'labels'],\n",
              "     num_rows: 5000\n",
              " }))"
            ]
          },
          "execution_count": 5,
          "metadata": {},
          "output_type": "execute_result"
        }
      ],
      "source": [
        "subset_dataset_train = subset_dataset_train.map(set_labels)\n",
        "subset_dataset_validation = subset_dataset_validation.map(set_labels)\n",
        "subset_dataset_test = subset_dataset_test.map(set_labels)\n",
        "\n",
        "subset_dataset_train, subset_dataset_validation, subset_dataset_test"
      ]
    },
    {
      "cell_type": "markdown",
      "metadata": {},
      "source": [
        "### Tokenizer"
      ]
    },
    {
      "cell_type": "markdown",
      "metadata": {},
      "source": [
        "We instantiate the tokenizer. To avoid errors, we assign the end of string token to the padding token."
      ]
    },
    {
      "cell_type": "code",
      "execution_count": 6,
      "metadata": {},
      "outputs": [],
      "source": [
        "from transformers import AutoTokenizer\n",
        "\n",
        "checkpoint = \"openai-community/gpt2\"\n",
        "tokenizer = AutoTokenizer.from_pretrained(checkpoint)\n",
        "tokenizer.pad_token = tokenizer.eos_token"
      ]
    },
    {
      "cell_type": "markdown",
      "metadata": {},
      "source": [
        "We create a function to tokenize the dataset"
      ]
    },
    {
      "cell_type": "code",
      "execution_count": 7,
      "metadata": {},
      "outputs": [],
      "source": [
        "def tokenize_function(examples):\n",
        "    return tokenizer(examples[\"text\"], padding=\"max_length\", truncation=True, max_length=768, return_tensors=\"pt\")"
      ]
    },
    {
      "cell_type": "markdown",
      "metadata": {},
      "source": [
        "We apply the function to the dataset and at the same time remove the columns we don't need."
      ]
    },
    {
      "cell_type": "code",
      "execution_count": 8,
      "metadata": {},
      "outputs": [
        {
          "data": {
            "text/plain": [
              "(Dataset({\n",
              "     features: ['labels', 'input_ids', 'attention_mask'],\n",
              "     num_rows: 200000\n",
              " }),\n",
              " Dataset({\n",
              "     features: ['labels', 'input_ids', 'attention_mask'],\n",
              "     num_rows: 5000\n",
              " }),\n",
              " Dataset({\n",
              "     features: ['labels', 'input_ids', 'attention_mask'],\n",
              "     num_rows: 5000\n",
              " }))"
            ]
          },
          "execution_count": 8,
          "metadata": {},
          "output_type": "execute_result"
        }
      ],
      "source": [
        "subset_dataset_train = subset_dataset_train.map(tokenize_function, batched=True, remove_columns=['text', 'label', 'id', 'label_text'])\n",
        "subset_dataset_validation = subset_dataset_validation.map(tokenize_function, batched=True, remove_columns=['text', 'label', 'id', 'label_text'])\n",
        "subset_dataset_test = subset_dataset_test.map(tokenize_function, batched=True, remove_columns=['text', 'label', 'id', 'label_text'])\n",
        "\n",
        "subset_dataset_train, subset_dataset_validation, subset_dataset_test"
      ]
    },
    {
      "cell_type": "markdown",
      "metadata": {},
      "source": [
        "### Model"
      ]
    },
    {
      "cell_type": "markdown",
      "metadata": {},
      "source": [
        "We instantiate the model. Also, to avoid errors, we assign the end-of-string token to the padding token."
      ]
    },
    {
      "cell_type": "code",
      "execution_count": 9,
      "metadata": {},
      "outputs": [
        {
          "name": "stderr",
          "output_type": "stream",
          "text": [
            "Some weights of GPT2ForSequenceClassification were not initialized from the model checkpoint at openai-community/gpt2 and are newly initialized: ['score.weight']\n",
            "You should probably TRAIN this model on a down-stream task to be able to use it for predictions and inference.\n"
          ]
        }
      ],
      "source": [
        "from transformers import AutoModelForSequenceClassification\n",
        "\n",
        "model = AutoModelForSequenceClassification.from_pretrained(checkpoint, num_labels=num_classes)\n",
        "model.config.pad_token_id = model.config.eos_token_id"
      ]
    },
    {
      "cell_type": "markdown",
      "metadata": {},
      "source": [
        "### LoRA with PEFT"
      ]
    },
    {
      "cell_type": "markdown",
      "metadata": {},
      "source": [
        "Before creating the model with LoRA, let's take a look at its layers"
      ]
    },
    {
      "cell_type": "code",
      "execution_count": 10,
      "metadata": {},
      "outputs": [
        {
          "data": {
            "text/plain": [
              "GPT2ForSequenceClassification(\n",
              "  (transformer): GPT2Model(\n",
              "    (wte): Embedding(50257, 768)\n",
              "    (wpe): Embedding(1024, 768)\n",
              "    (drop): Dropout(p=0.1, inplace=False)\n",
              "    (h): ModuleList(\n",
              "      (0-11): 12 x GPT2Block(\n",
              "        (ln_1): LayerNorm((768,), eps=1e-05, elementwise_affine=True)\n",
              "        (attn): GPT2Attention(\n",
              "          (c_attn): Conv1D()\n",
              "          (c_proj): Conv1D()\n",
              "          (attn_dropout): Dropout(p=0.1, inplace=False)\n",
              "          (resid_dropout): Dropout(p=0.1, inplace=False)\n",
              "        )\n",
              "        (ln_2): LayerNorm((768,), eps=1e-05, elementwise_affine=True)\n",
              "        (mlp): GPT2MLP(\n",
              "          (c_fc): Conv1D()\n",
              "          (c_proj): Conv1D()\n",
              "          (act): NewGELUActivation()\n",
              "          (dropout): Dropout(p=0.1, inplace=False)\n",
              "        )\n",
              "      )\n",
              "    )\n",
              "    (ln_f): LayerNorm((768,), eps=1e-05, elementwise_affine=True)\n",
              "  )\n",
              "  (score): Linear(in_features=768, out_features=5, bias=False)\n",
              ")"
            ]
          },
          "execution_count": 10,
          "metadata": {},
          "output_type": "execute_result"
        }
      ],
      "source": [
        "model"
      ]
    },
    {
      "cell_type": "markdown",
      "metadata": {},
      "source": [
        "As we can see, there is only one `Linear` layer, which is `score` and that is the one we are going to replace."
      ]
    },
    {
      "cell_type": "markdown",
      "metadata": {},
      "source": [
        "We can create a LoRA configuration with the PEFT library and then apply LoRA to the mo"
      ]
    },
    {
      "cell_type": "code",
      "execution_count": 11,
      "metadata": {},
      "outputs": [],
      "source": [
        "from peft import LoraConfig, TaskType\n",
        "\n",
        "peft_config = LoraConfig(\n",
        "    r=16,\n",
        "    lora_alpha=32,\n",
        "    lora_dropout=0.1,\n",
        "    task_type=TaskType.SEQ_CLS,\n",
        "    target_modules=[\"score\"],\n",
        ")"
      ]
    },
    {
      "cell_type": "markdown",
      "metadata": {},
      "source": [
        "With this configuration, we have set a rank of 16 and an alpha of 32. Additionally, we have added a dropout to the LoRA layers of 0.1. We need to specify the task for the LoRA configuration, in this case it is a sequence classification task. Finally, we indicate which layers we want to replace, in this case the `score` layer."
      ]
    },
    {
      "cell_type": "markdown",
      "metadata": {},
      "source": [
        "Now we apply LoRA to the model"
      ]
    },
    {
      "cell_type": "code",
      "execution_count": 12,
      "metadata": {},
      "outputs": [],
      "source": [
        "from peft import get_peft_model\n",
        "\n",
        "model = get_peft_model(model, peft_config)"
      ]
    },
    {
      "cell_type": "markdown",
      "metadata": {},
      "source": [
        "Let's see how many trainable parameters the model has now."
      ]
    },
    {
      "cell_type": "code",
      "execution_count": 13,
      "metadata": {},
      "outputs": [
        {
          "name": "stdout",
          "output_type": "stream",
          "text": [
            "trainable params: 12,368 || all params: 124,456,016 || trainable%: 0.0099\n"
          ]
        }
      ],
      "source": [
        "model.print_trainable_parameters()"
      ]
    },
    {
      "cell_type": "markdown",
      "metadata": {},
      "source": [
        "We obtain the same trainable parameters as before"
      ]
    },
    {
      "cell_type": "markdown",
      "metadata": {},
      "source": [
        "### Training"
      ]
    },
    {
      "cell_type": "markdown",
      "metadata": {},
      "source": [
        "Once the model has been instantiated with LoRA, we are going to train it as usual"
      ]
    },
    {
      "cell_type": "code",
      "execution_count": 17,
      "metadata": {},
      "outputs": [],
      "source": [
        "from transformers import TrainingArguments\n",
        "\n",
        "metric_name = \"accuracy\"\n",
        "model_name = \"GPT2-small-PEFT-LoRA-finetuned-amazon-reviews-en-classification\"\n",
        "LR = 2e-5\n",
        "BS_TRAIN = 400\n",
        "BS_EVAL = 400\n",
        "EPOCHS = 3\n",
        "WEIGHT_DECAY = 0.01\n",
        "\n",
        "training_args = TrainingArguments(\n",
        "    model_name,\n",
        "    eval_strategy=\"epoch\",\n",
        "    save_strategy=\"epoch\",\n",
        "    learning_rate=LR,\n",
        "    per_device_train_batch_size=BS_TRAIN,\n",
        "    per_device_eval_batch_size=BS_EVAL,\n",
        "    num_train_epochs=EPOCHS,\n",
        "    weight_decay=WEIGHT_DECAY,\n",
        "    lr_scheduler_type=\"cosine\",\n",
        "    warmup_ratio = 0.1,\n",
        "    fp16=True,\n",
        "    load_best_model_at_end=True,\n",
        "    metric_for_best_model=metric_name,\n",
        "    push_to_hub=True,\n",
        "    logging_dir=\"./runs\",\n",
        ")"
      ]
    },
    {
      "cell_type": "code",
      "execution_count": 18,
      "metadata": {},
      "outputs": [],
      "source": [
        "import numpy as np\n",
        "from evaluate import load\n",
        "\n",
        "metric = load(\"accuracy\")\n",
        "\n",
        "def compute_metrics(eval_pred):\n",
        "    print(eval_pred)\n",
        "    predictions, labels = eval_pred\n",
        "    predictions = np.argmax(predictions, axis=1)\n",
        "    return metric.compute(predictions=predictions, references=labels)"
      ]
    },
    {
      "cell_type": "code",
      "execution_count": 20,
      "metadata": {},
      "outputs": [],
      "source": [
        "from transformers import Trainer\n",
        "\n",
        "trainer = Trainer(\n",
        "    model,\n",
        "    training_args,\n",
        "    train_dataset=subset_dataset_train,\n",
        "    eval_dataset=subset_dataset_validation,\n",
        "    tokenizer=tokenizer,\n",
        "    compute_metrics=compute_metrics,\n",
        ")"
      ]
    },
    {
      "cell_type": "code",
      "execution_count": 100,
      "metadata": {},
      "outputs": [
        {
          "data": {
            "text/html": [
              "\n",
              "    <div>\n",
              "      \n",
              "      <progress value='811' max='1500' style='width:300px; height:20px; vertical-align: middle;'></progress>\n",
              "      [ 811/1500 22:43 < 19:20, 0.59 it/s, Epoch 1.62/3]\n",
              "    </div>\n",
              "    <table border=\"1\" class=\"dataframe\">\n",
              "  <thead>\n",
              " <tr style=\"text-align: left;\">\n",
              "      <th>Epoch</th>\n",
              "      <th>Training Loss</th>\n",
              "      <th>Validation Loss</th>\n",
              "      <th>Accuracy</th>\n",
              "    </tr>\n",
              "  </thead>\n",
              "  <tbody>\n",
              "    <tr>\n",
              "      <td>1</td>\n",
              "      <td>2.275100</td>\n",
              "      <td>1.512476</td>\n",
              "      <td>0.318200</td>\n",
              "    </tr>\n",
              "  </tbody>\n",
              "</table><p>"
            ],
            "text/plain": [
              "<IPython.core.display.HTML object>"
            ]
          },
          "metadata": {},
          "output_type": "display_data"
        },
        {
          "name": "stdout",
          "output_type": "stream",
          "text": [
            "<transformers.trainer_utils.EvalPrediction object at 0x7f774a50bbe0>\n"
          ]
        },
        {
          "data": {
            "text/html": [
              "\n",
              "    <div>\n",
              "      \n",
              "      <progress value='1500' max='1500' style='width:300px; height:20px; vertical-align: middle;'></progress>\n",
              "      [1500/1500 42:28, Epoch 3/3]\n",
              "    </div>\n",
              "    <table border=\"1\" class=\"dataframe\">\n",
              "  <thead>\n",
              " <tr style=\"text-align: left;\">\n",
              "      <th>Epoch</th>\n",
              "      <th>Training Loss</th>\n",
              "      <th>Validation Loss</th>\n",
              "      <th>Accuracy</th>\n",
              "    </tr>\n",
              "  </thead>\n",
              "  <tbody>\n",
              "    <tr>\n",
              "      <td>1</td>\n",
              "      <td>2.275100</td>\n",
              "      <td>1.512476</td>\n",
              "      <td>0.318200</td>\n",
              "    </tr>\n",
              "    <tr>\n",
              "      <td>2</td>\n",
              "      <td>1.515900</td>\n",
              "      <td>1.417553</td>\n",
              "      <td>0.373800</td>\n",
              "    </tr>\n",
              "    <tr>\n",
              "      <td>3</td>\n",
              "      <td>1.463500</td>\n",
              "      <td>1.405058</td>\n",
              "      <td>0.381400</td>\n",
              "    </tr>\n",
              "  </tbody>\n",
              "</table><p>"
            ],
            "text/plain": [
              "<IPython.core.display.HTML object>"
            ]
          },
          "metadata": {},
          "output_type": "display_data"
        },
        {
          "name": "stdout",
          "output_type": "stream",
          "text": [
            "<transformers.trainer_utils.EvalPrediction object at 0x7f77486a7c40>\n",
            "<transformers.trainer_utils.EvalPrediction object at 0x7f7749eb5690>\n"
          ]
        },
        {
          "data": {
            "text/plain": [
              "TrainOutput(global_step=1500, training_loss=1.751504597981771, metrics={'train_runtime': 2551.7753, 'train_samples_per_second': 235.13, 'train_steps_per_second': 0.588, 'total_flos': 2.352524525568e+17, 'train_loss': 1.751504597981771, 'epoch': 3.0})"
            ]
          },
          "metadata": {},
          "output_type": "display_data"
        }
      ],
      "source": [
        "trainer.train()"
      ]
    },
    {
      "cell_type": "markdown",
      "metadata": {},
      "source": [
        "### Evaluation"
      ]
    },
    {
      "cell_type": "markdown",
      "metadata": {},
      "source": [
        "Once trained, we evaluate on the test dataset"
      ]
    },
    {
      "cell_type": "code",
      "execution_count": 100,
      "metadata": {},
      "outputs": [
        {
          "data": {
            "text/html": [
              "\n",
              "    <div>\n",
              "      \n",
              "      <progress value='13' max='13' style='width:300px; height:20px; vertical-align: middle;'></progress>\n",
              "      [13/13 00:17]\n",
              "    </div>\n",
              "    "
            ],
            "text/plain": [
              "<IPython.core.display.HTML object>"
            ]
          },
          "metadata": {},
          "output_type": "display_data"
        },
        {
          "name": "stdout",
          "output_type": "stream",
          "text": [
            "<transformers.trainer_utils.EvalPrediction object at 0x7f77a1d1f7c0>\n"
          ]
        },
        {
          "data": {
            "text/plain": [
              "{'eval_loss': 1.4127237796783447,\n",
              " 'eval_accuracy': 0.3862,\n",
              " 'eval_runtime': 19.3275,\n",
              " 'eval_samples_per_second': 258.699,\n",
              " 'eval_steps_per_second': 0.673,\n",
              " 'epoch': 3.0}"
            ]
          },
          "metadata": {},
          "output_type": "display_data"
        }
      ],
      "source": [
        "trainer.evaluate(eval_dataset=subset_dataset_test)"
      ]
    },
    {
      "cell_type": "markdown",
      "metadata": {},
      "source": [
        "### Publish the model"
      ]
    },
    {
      "cell_type": "markdown",
      "metadata": {},
      "source": [
        "We create a model card"
      ]
    },
    {
      "cell_type": "code",
      "execution_count": 100,
      "metadata": {},
      "outputs": [],
      "source": [
        "trainer.create_model_card()"
      ]
    },
    {
      "cell_type": "markdown",
      "metadata": {},
      "source": [
        "We publish it"
      ]
    },
    {
      "cell_type": "code",
      "execution_count": 100,
      "metadata": {},
      "outputs": [
        {
          "data": {
            "application/vnd.google.colaboratory.intrinsic+json": {
              "type": "string"
            },
            "text/plain": [
              "CommitInfo(commit_url='https://huggingface.co/Maximofn/GPT2-small-PEFT-LoRA-finetuned-amazon-reviews-en-classification/commit/839066c2bde02689a6b3f5624ac25f89c4de217d', commit_message='End of training', commit_description='', oid='839066c2bde02689a6b3f5624ac25f89c4de217d', pr_url=None, pr_revision=None, pr_num=None)"
            ]
          },
          "metadata": {},
          "output_type": "display_data"
        }
      ],
      "source": [
        "trainer.push_to_hub()"
      ]
    },
    {
      "cell_type": "markdown",
      "metadata": {},
      "source": [
        "## Test of the model trained with PEFT"
      ]
    },
    {
      "cell_type": "markdown",
      "metadata": {},
      "source": [
        "We clean everything as much as possible"
      ]
    },
    {
      "cell_type": "code",
      "execution_count": 100,
      "metadata": {},
      "outputs": [],
      "source": [
        "import torch\n",
        "import gc\n",
        "\n",
        "\n",
        "def clear_hardwares():\n",
        "    torch.clear_autocast_cache()\n",
        "    torch.cuda.ipc_collect()\n",
        "    torch.cuda.empty_cache()\n",
        "    gc.collect()\n",
        "\n",
        "\n",
        "clear_hardwares()\n",
        "clear_hardwares()"
      ]
    },
    {
      "cell_type": "markdown",
      "metadata": {},
      "source": [
        "Since we have uploaded the model to our hub, we can download and use it"
      ]
    },
    {
      "cell_type": "code",
      "execution_count": 2,
      "metadata": {},
      "outputs": [
        {
          "name": "stderr",
          "output_type": "stream",
          "text": [
            "Some weights of GPT2ForSequenceClassification were not initialized from the model checkpoint at openai-community/gpt2 and are newly initialized: ['score.weight']\n",
            "You should probably TRAIN this model on a down-stream task to be able to use it for predictions and inference.\n"
          ]
        }
      ],
      "source": [
        "from transformers import pipeline\n",
        "\n",
        "user = \"maximofn\"\n",
        "checkpoints = f\"{user}/{model_name}\"\n",
        "task = \"text-classification\"\n",
        "classifier = pipeline(task, model=checkpoints, tokenizer=checkpoints)"
      ]
    },
    {
      "cell_type": "markdown",
      "metadata": {},
      "source": [
        "If we want to get the probability of all classes, we simply use the classifier we just instantiated, with the parameter `top_k=None`"
      ]
    },
    {
      "cell_type": "code",
      "execution_count": 3,
      "metadata": {},
      "outputs": [
        {
          "data": {
            "text/plain": [
              "[{'label': 'LABEL_1', 'score': 0.9979197382926941},\n",
              " {'label': 'LABEL_0', 'score': 0.002080311067402363}]"
            ]
          },
          "execution_count": 3,
          "metadata": {},
          "output_type": "execute_result"
        }
      ],
      "source": [
        "labels = classifier(\"I love this product\", top_k=None)\n",
        "labels"
      ]
    },
    {
      "cell_type": "markdown",
      "metadata": {},
      "source": [
        "If we only want the class with the highest probability, we do the same but with the parameter `top_k=1`"
      ]
    },
    {
      "cell_type": "code",
      "execution_count": 4,
      "metadata": {},
      "outputs": [
        {
          "data": {
            "text/plain": [
              "[{'label': 'LABEL_1', 'score': 0.9979197382926941}]"
            ]
          },
          "execution_count": 4,
          "metadata": {},
          "output_type": "execute_result"
        }
      ],
      "source": [
        "label = classifier(\"I love this product\", top_k=1)\n",
        "label"
      ]
    },
    {
      "cell_type": "markdown",
      "metadata": {},
      "source": [
        "And if we want n classes, we do the same but with the parameter `top_k=n`"
      ]
    },
    {
      "cell_type": "code",
      "execution_count": 5,
      "metadata": {},
      "outputs": [
        {
          "data": {
            "text/plain": [
              "[{'label': 'LABEL_1', 'score': 0.9979197382926941},\n",
              " {'label': 'LABEL_0', 'score': 0.002080311067402363}]"
            ]
          },
          "execution_count": 5,
          "metadata": {},
          "output_type": "execute_result"
        }
      ],
      "source": [
        "two_labels = classifier(\"I love this product\", top_k=2)\n",
        "two_labels"
      ]
    },
    {
      "cell_type": "markdown",
      "metadata": {},
      "source": [
        "If you want to try the model further, you can check it out at [Maximofn/GPT2-small-PEFT-LoRA-finetuned-amazon-reviews-en-classification](https://huggingface.co/Maximofn/GPT2-small-PEFT-LoRA-finetuned-amazon-reviews-en-classification)"
      ]
    }
  ],
  "metadata": {
    "kernelspec": {
      "display_name": "base",
      "language": "python",
      "name": "python3"
    },
    "language_info": {
      "codemirror_mode": {
        "name": "ipython",
        "version": 3
      },
      "file_extension": ".py",
      "mimetype": "text/x-python",
      "name": "python",
      "nbconvert_exporter": "python",
      "pygments_lexer": "ipython3",
      "version": "3.11.9"
    },
    "maximofn": {
      "date": "2024-07-20",
      "description_en": "Get ready to take your model adaptation to the next level with LoRA! \ud83d\ude80 This low-rank adaptation technique is like a superhero cape for your neural networks - it helps them learn new tricks without forgetting old ones \ud83e\udd2f. And the best thing about it? You can implement it in just a few lines of PyTorch code \ud83d\udcbb And if you're like me, a poor GPU guy struggling with limited resources \ud83d\udcb8, LoRA is like a godsend: it lets you adapt your models without training them from scratch or spending a fortune on hardware \ud83d\ude4f Check out the post for a step-by-step guide and a practical example!",
      "description_es": "\u00a1Prep\u00e1rate para llevar la adaptaci\u00f3n de tus modelos al siguiente nivel con LoRA! \ud83d\ude80 Esta t\u00e9cnica de adaptaci\u00f3n de baja rango es como una capa de superh\u00e9roe para tus redes neuronales - les ayuda a aprender nuevos trucos sin olvidar los antiguos \ud83e\udd2f. Y lo mejor de todo? Puedes implementarla en solo unas pocas l\u00edneas de c\u00f3digo PyTorch \ud83d\udcbb. \u00a1Y si eres como yo, un pobre de GPU que lucha con recursos limitados \ud83d\udcb8, LoRA es como un regalo del cielo: te permite adaptar tus modelos sin necesidad de entrenarlos desde cero ni gastar una fortuna en hardware \ud83d\ude4f. \u00a1Revisa el post para obtener una gu\u00eda paso a paso y un ejemplo pr\u00e1ctico!",
      "description_pt": "Prepare-se para levar a adapta\u00e7\u00e3o de modelos para o pr\u00f3ximo n\u00edvel com o LoRA! \ud83d\ude80 Essa t\u00e9cnica de adapta\u00e7\u00e3o de baixa classifica\u00e7\u00e3o \u00e9 como uma capa de super-her\u00f3i para suas redes neurais - ela as ajuda a aprender novos truques sem esquecer os antigos \ud83e\udd2f. E o melhor de tudo? Voc\u00ea pode implement\u00e1-la em apenas algumas linhas de c\u00f3digo PyTorch \ud83d\udcbb E se voc\u00ea for como eu, um pobre cara da GPU lutando com recursos limitados \ud83d\udcb8, o LoRA \u00e9 como uma d\u00e1diva de Deus: ele permite que voc\u00ea adapte seus modelos sem trein\u00e1-los do zero ou gastar uma fortuna em hardware \ud83d\ude4f Confira a postagem para obter um guia passo a passo e um exemplo pr\u00e1tico!",
      "end_url": "lora",
      "image": "https://pub-fb664c455eca46a2ba762a065ac900f7.r2.dev/LoRA_thumbnail_ES.webp",
      "image_hover_path": "https://pub-fb664c455eca46a2ba762a065ac900f7.r2.dev/LoRA_thumbnail_ES.webp",
      "keywords_en": "lora, low rank adaptation, neural networks, pytorch, gpu, hardware",
      "keywords_es": "lora, adaptaci\u00f3n de baja clasificaci\u00f3n, redes neuronales, pytorch, gpu, hardware",
      "keywords_pt": "lora, adapta\u00e7\u00e3o de baixa classifica\u00e7\u00e3o, redes neurais, pytorch, gpu, hardware",
      "title_en": "LoRA \u2013 low rank adaptation of large language models",
      "title_es": "LoRA \u2013 low rank adaptation of large language models",
      "title_pt": "LoRA \u2013 low rank adaptation of large language models"
    }
  },
  "nbformat": 4,
  "nbformat_minor": 2
}