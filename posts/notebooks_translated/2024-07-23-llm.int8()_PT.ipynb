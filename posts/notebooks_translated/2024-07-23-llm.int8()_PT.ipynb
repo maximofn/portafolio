{
      "cells": [
            {
                  "cell_type": "markdown",
                  "metadata": {},
                  "source": [
                        "# llm.int8() - 8-bit Matrix Multiplication for Transformers at Scale"
                  ]
            },
            {
                  "cell_type": "markdown",
                  "metadata": {},
                  "source": [
                        "Este caderno foi traduzido automaticamente para torná-lo acessível a mais pessoas, por favor me avise se você vir algum erro de digitação.."
                  ]
            },
            {
                  "cell_type": "markdown",
                  "metadata": {},
                  "source": [
                        "Na postagem [LLMs quantization](https://maximofn.com/llms-quantization/), explicamos a importância da quantização dos LLMs para economizar memória. Também explicamos que há uma forma de quantização que é a [quantização de ponto zero](https://maximofn.com/llms-quantization/#Cuantizaci%C3%B3n-de-punto-cero), que consiste em transformar os valores dos parâmetros dos pesos linearmente, mas isso tem o problema da degradação dos modelos de linguagem a partir do momento em que eles ultrapassam 2,7 bilhões de parâmetros.\n",
                        "\n",
                        "![llm.int8()-degradação](https://maximofn.com/wp-content/uploads/2024/07/llm.int8-degradation.webp)"
                  ]
            },
            {
                  "cell_type": "markdown",
                  "metadata": {},
                  "source": [
                        "## Quantização de vetores"
                  ]
            },
            {
                  "cell_type": "markdown",
                  "metadata": {},
                  "source": [
                        "Como a quantização de todos os parâmetros dos modelos produz erros nos modelos de idiomas grandes, o que eles propõem no artigo [llm.int8()](https://arxiv.org/abs/2208.07339) é realizar a quantização de vetores, ou seja, separar as matrizes dos pesos em vetores, de modo que alguns desses vetores possam ser quantizados em 8 bits, enquanto outros não. Assim, aqueles que podem ser quantizados em 8 bits são quantizados e as multiplicações de matriz são realizadas no formato INT8, enquanto os vetores que não podem ser quantizados são mantidos no formato FP16 e as multiplicações são realizadas no formato FP16."
                  ]
            },
            {
                  "cell_type": "markdown",
                  "metadata": {},
                  "source": [
                        "Vamos dar uma olhada em um exemplo\n",
                        "\n",
                        "Suponha que tenhamos a matriz\n",
                        "\n",
                        "![llm.int8()-A](https://maximofn.com/wp-content/uploads/2024/07/llm.int8-A.webp)\n",
                        "\n",
                        "e queremos multiplicá-lo pela matriz\n",
                        "\n",
                        "![llm.int8()-B](https://maximofn.com/wp-content/uploads/2024/07/llm.int8-B.webp)\n",
                        "\n",
                        "Definimos um valor limite e todas as colunas da primeira matriz que têm um valor maior do que esse limite são deixadas no formato FP16; as linhas equivalentes às linhas da primeira matriz na segunda matriz também são deixadas no formato FP16.\n",
                        "\n",
                        "Explicando melhor, como a segunda e a quarta colunas da primeira matriz (colunas amarelas) têm valores maiores que um determinado limite, a segunda e a quarta linhas da segunda matriz (linhas amarelas) são deixadas no formato FP16.\n",
                        "\n",
                        "No caso de haver valores limiares na segunda matriz, o mesmo seria feito, por exemplo, se na segunda matriz uma linha tivesse um valor maior que um limiar, ela seria deixada no formato FP16, e essa coluna na primeira matriz seria deixada no formato FP16.\n",
                        "\n",
                        "As linhas e colunas restantes que não são deixadas no formato FP16 são quantizadas em 8 bits e as multiplicações são realizadas no formato INT8.\n",
                        "\n",
                        "Portanto, dividimos a primeira matriz em duas matrizes\n",
                        "\n",
                        "![llm.int8()-A_separated](https://maximofn.com/wp-content/uploads/2024/07/llm.int8-A_separated_.webp)\n",
                        "\n",
                        "E a segunda matriz nas duas matrizes\n",
                        "\n",
                        "![llm.int8()-B_separated](https://maximofn.com/wp-content/uploads/2024/07/llm.int8-B_separated_.webp)"
                  ]
            },
            {
                  "cell_type": "markdown",
                  "metadata": {},
                  "source": [
                        "Multiplicamos as matrizes em INT8 em um lado\n",
                        "\n",
                        "![llm.int8()-AxB-int8](https://maximofn.com/wp-content/uploads/2024/07/llm.int8-AxB-int8_.webp)\n",
                        "\n",
                        "e aqueles no formato FP16, por outro lado\n",
                        "\n",
                        "![llm.int8()-AxB-fp16](https://maximofn.com/wp-content/uploads/2024/07/llm.int8-AxB-fp16_.webp)\n",
                        "\n",
                        "Como pode ser visto, a multiplicação das matrizes no formato INT8 nos dá uma matriz de tamanho 3x2, e a multiplicação das matrizes no formato FP16 nos dá outra matriz de tamanho 3x2, de modo que, se as somarmos\n",
                        "\n",
                        "![llm.int8()-fp16+int8](https://maximofn.com/wp-content/uploads/2024/07/llm.int8-fp16int8_.webp)\n",
                        "\n",
                        "É interessante notar que ele apresenta o mesmo resultado como se tivéssemos multiplicado as matrizes originais.\n",
                        "\n",
                        "![llm.int8()-AxB](https://maximofn.com/wp-content/uploads/2024/07/llm.int8-AxB_.webp)"
                  ]
            },
            {
                  "cell_type": "markdown",
                  "metadata": {},
                  "source": [
                        "Para ver por que isso acontece, se desenvolvermos o produto vetorial das duas matrizes originais\n",
                        "\n",
                        "![llm.int8()-AxB-explained](https://maximofn.com/wp-content/uploads/2024/07/llm.int8-AxB-explained.webp)\n",
                        "\n",
                        "Vemos que a separação que fizemos não traz problemas."
                  ]
            },
            {
                  "cell_type": "markdown",
                  "metadata": {},
                  "source": [
                        "Portanto, podemos concluir que é possível separar linhas e colunas de matrizes para realizar multiplicações de matrizes. Essa separação será feita quando qualquer elemento da linha ou coluna for maior que um valor limite, de modo que as linhas ou colunas que não tiverem um valor maior que esse limite serão codificadas em INT8, ocupando apenas um byte, e as linhas ou colunas que tiverem um elemento maior que esse limite serão passadas para FP16, ocupando 2 bytes. Dessa forma, não teremos problemas de arredondamento, pois os cálculos que fizermos em INT8 serão feitos com valores que não ultrapassem o intervalo de 8 bits."
                  ]
            },
            {
                  "cell_type": "markdown",
                  "metadata": {},
                  "source": [
                        "## Valor limiar α"
                  ]
            },
            {
                  "cell_type": "markdown",
                  "metadata": {},
                  "source": [
                        "Como dissemos, vamos separar em linhas e colunas que tenham algum elemento maior que um valor limite, mas qual valor limite devemos escolher? Os autores do artigo fizeram experimentos com vários valores e determinaram que o valor limite deveria ser α=6. Acima desse valor, eles começaram a obter degradações nos modelos de linguagem."
                  ]
            },
            {
                  "cell_type": "markdown",
                  "metadata": {},
                  "source": [
                        "## Uso de llm.int8()"
                  ]
            },
            {
                  "cell_type": "markdown",
                  "metadata": {},
                  "source": [
                        "Vamos ver como quantificar um modelo com llm.int8() com a biblioteca de transformadores. Para fazer isso, você precisa ter o `bitsandbytes` instalado.\n",
                        "\n",
                        "````bash\n",
                        "pip install bitsandbytes\n",
                        "```"
                  ]
            },
            {
                  "cell_type": "markdown",
                  "metadata": {},
                  "source": [
                        "Carregamos um modelo de parâmetro 1B duas vezes, uma vez da maneira normal e a segunda vez quantificando-o com llm.int8()."
                  ]
            },
            {
                  "cell_type": "code",
                  "execution_count": 1,
                  "metadata": {},
                  "outputs": [
                        {
                              "name": "stderr",
                              "output_type": "stream",
                              "text": [
                                    "The `load_in_4bit` and `load_in_8bit` arguments are deprecated and will be removed in the future versions. Please, pass a `BitsAndBytesConfig` object in `quantization_config` argument instead.\n"
                              ]
                        }
                  ],
                  "source": [
                        "from transformers import AutoModelForCausalLM, AutoTokenizer\n",
                        "import torch\n",
                        "\n",
                        "device = torch.device(\"cuda\" if torch.cuda.is_available() else \"cpu\")\n",
                        "checkpoint = \"TinyLlama/TinyLlama-1.1B-Chat-v1.0\"\n",
                        "\n",
                        "tokenizer = AutoTokenizer.from_pretrained(checkpoint)\n",
                        "model = AutoModelForCausalLM.from_pretrained(checkpoint).to(device)\n",
                        "model_8bit = AutoModelForCausalLM.from_pretrained(checkpoint, device_map=\"auto\", load_in_8bit=True)"
                  ]
            },
            {
                  "cell_type": "markdown",
                  "metadata": {},
                  "source": [
                        "Vemos a quantidade de memória que cada um dos modelos ocupa"
                  ]
            },
            {
                  "cell_type": "code",
                  "execution_count": 6,
                  "metadata": {
                        "colab": {
                              "base_uri": "https://localhost:8080/"
                        },
                        "id": "KhT4atcp9f3O",
                        "outputId": "c8b8aa56-efb9-4084-b603-bf9b15e687a1"
                  },
                  "outputs": [
                        {
                              "data": {
                                    "text/plain": [
                                          "(4.098002195358276, 1.1466586589813232)"
                                    ]
                              },
                              "execution_count": 6,
                              "metadata": {},
                              "output_type": "execute_result"
                        }
                  ],
                  "source": [
                        "model.get_memory_footprint()/(1024**3), model_8bit.get_memory_footprint()/(1024**3)"
                  ]
            },
            {
                  "cell_type": "markdown",
                  "metadata": {},
                  "source": [
                        "Como pode ser visto, o modelo quantizado ocupa muito menos memória."
                  ]
            },
            {
                  "cell_type": "markdown",
                  "metadata": {},
                  "source": [
                        "Vamos agora fazer um teste de geração de texto com os dois modelos."
                  ]
            },
            {
                  "cell_type": "code",
                  "execution_count": 5,
                  "metadata": {
                        "colab": {
                              "base_uri": "https://localhost:8080/"
                        },
                        "id": "7aIZHa6p9f3O",
                        "outputId": "3fc4007f-b96d-4734-f0d2-7d46638845e5"
                  },
                  "outputs": [
                        {
                              "data": {
                                    "text/plain": [
                                          "tensor([[    1, 15043,   590,  1024,   338,  5918,  4200,   322,   306,   626,\n",
                                          "           263,  6189, 29257, 10863,   261]], device='cuda:0')"
                                    ]
                              },
                              "execution_count": 5,
                              "metadata": {},
                              "output_type": "execute_result"
                        }
                  ],
                  "source": [
                        "input_tokens = tokenizer(\"Hello my name is Maximo and I am a Machine Learning Engineer\", return_tensors=\"pt\").to(device)\n",
                        "input_tokens.input_ids"
                  ]
            },
            {
                  "cell_type": "markdown",
                  "metadata": {},
                  "source": [
                        "Vemos o resultado com o modelo normal"
                  ]
            },
            {
                  "cell_type": "code",
                  "execution_count": 16,
                  "metadata": {
                        "colab": {
                              "base_uri": "https://localhost:8080/"
                        },
                        "id": "jHGSazU0BvpN",
                        "outputId": "0b57850a-9864-4c7f-884b-4610412b6abe"
                  },
                  "outputs": [
                        {
                              "name": "stdout",
                              "output_type": "stream",
                              "text": [
                                    "Hello my name is Maximo and I am a Machine Learning Engineer. I am currently working at [Company Name] as a Machine Learning Engineer. I have a Bachelor's degree in Computer Science from [University Name] and a Master's degree in Computer Science from [University Name]. I\n",
                                    "1.7616662979125977\n"
                              ]
                        }
                  ],
                  "source": [
                        "import time\n",
                        "\n",
                        "t0 = time.time()\n",
                        "max_new_tokens = 50\n",
                        "outputs = model.generate(\n",
                        "    input_ids=input_tokens.input_ids,\n",
                        "    attention_mask=input_tokens.attention_mask,\n",
                        "    max_length=input_tokens.input_ids.shape[1] + max_new_tokens,\n",
                        ")\n",
                        "print(tokenizer.decode(outputs[0], skip_special_tokens=True))\n",
                        "print(time.time() - t0)"
                  ]
            },
            {
                  "cell_type": "markdown",
                  "metadata": {},
                  "source": [
                        "E agora com o modelo quantizado"
                  ]
            },
            {
                  "cell_type": "code",
                  "execution_count": 17,
                  "metadata": {
                        "colab": {
                              "base_uri": "https://localhost:8080/"
                        },
                        "id": "wTc6pG-NBvpO",
                        "outputId": "79f205f8-44c3-463c-956b-3945cb1edc8b"
                  },
                  "outputs": [
                        {
                              "name": "stdout",
                              "output_type": "stream",
                              "text": [
                                    "Hello my name is Maximo and I am a Machine Learning Engineer. I am currently working at [Company Name] as a Machine Learning Engineer. I have a Bachelor's degree in Computer Science from [University Name] and a Master's degree in Computer Science from [University Name]. I\n",
                                    "9.100712776184082\n"
                              ]
                        }
                  ],
                  "source": [
                        "t0 = time.time()\n",
                        "max_new_tokens = 50\n",
                        "outputs = model_8bit.generate(\n",
                        "    input_ids=input_tokens.input_ids,\n",
                        "    attention_mask=input_tokens.attention_mask,\n",
                        "    max_length=input_tokens.input_ids.shape[1] + max_new_tokens,\n",
                        ")\n",
                        "print(tokenizer.decode(outputs[0], skip_special_tokens=True))\n",
                        "print(time.time() - t0)"
                  ]
            },
            {
                  "cell_type": "markdown",
                  "metadata": {},
                  "source": [
                        "Vemos duas coisas: por um lado, obtemos o mesmo texto na saída, portanto, com um modelo muito menor, podemos obter a mesma saída; no entanto, o modelo quantizado leva muito mais tempo para ser executado, portanto, se você precisar usar esse modelo em tempo real, isso não seria aconselhável.\n",
                        "\n",
                        "Isso é contraditório, porque poderíamos pensar que um modelo menor teria que ser executado mais rapidamente, mas temos que pensar que, na realidade, os dois modelos, o normal e o quantizado, executam as mesmas operações, apenas um executa todas as operações em FP32 e o outro as executa em INT8 e FP16, mas o modelo quantizado tem que procurar linhas e colunas com valores maiores que o valor limite, separá-las, executar as operações em INT8 e FP16 e, em seguida, juntar os resultados novamente, de modo que o modelo quantizado leva mais tempo para ser executado."
                  ]
            }
      ],
      "metadata": {
            "kernelspec": {
                  "display_name": "nlp_",
                  "language": "python",
                  "name": "python3"
            },
            "language_info": {
                  "codemirror_mode": {
                        "name": "ipython",
                        "version": 3
                  },
                  "file_extension": ".py",
                  "mimetype": "text/x-python",
                  "name": "python",
                  "nbconvert_exporter": "python",
                  "pygments_lexer": "ipython3",
                  "version": "3.11.9"
            }
      },
      "nbformat": 4,
      "nbformat_minor": 2
}
