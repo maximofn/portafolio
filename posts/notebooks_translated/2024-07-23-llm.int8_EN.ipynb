{
  "cells": [
    {
      "cell_type": "markdown",
      "metadata": {},
      "source": [
        "# llm.int8() - 8-bit Matrix Multiplication for Transformers at Scale"
      ]
    },
    {
      "cell_type": "markdown",
      "metadata": {},
      "source": [
        " > Disclaimer: This post has been translated to English using a machine translation model. Please, let me know if you find any mistakes."
      ]
    },
    {
      "cell_type": "markdown",
      "metadata": {},
      "source": [
        "In the post [LLMs quantization](https://maximofn.com/llms-quantization/) we explain the importance of LLMs quantization to save memory. Additionally, we explain that there is a type of quantization called [zero-point quantization](https://maximofn.com/llms-quantization/#Cuantizaci%C3%B3n-de-punto-cero) which involves transforming the values of the parameters linearly, but this has the problem of language model degradation once they exceed 2.7B parameters.",
        "\n",
        "![llm.int8()-degradation](https://pub-fb664c455eca46a2ba762a065ac900f7.r2.dev/llm.int8-degradation.webp)"
      ]
    },
    {
      "cell_type": "markdown",
      "metadata": {},
      "source": [
        "## Vector Quantization"
      ]
    },
    {
      "cell_type": "markdown",
      "metadata": {},
      "source": [
        "Since the quantization of all parameters in models introduces errors in large language models, what is proposed in the paper [llm.int8()](https://arxiv.org/abs/2208.07339) is to perform vector quantization, which means separating weight matrices into vectors so that some of these vectors can be quantized to 8 bits, while others cannot. Therefore, those that can be quantized to 8 bits are quantized and matrix multiplications are performed in INT8 format, while the vectors that cannot be quantized remain in FP16 format and multiplications are performed in FP16 format."
      ]
    },
    {
      "cell_type": "markdown",
      "metadata": {},
      "source": [
        "Let's see it with an example",
        "\n",
        "Suppose we have the matrix",
        "\n",
        "![llm.int8()-A](https://pub-fb664c455eca46a2ba762a065ac900f7.r2.dev/llm.int8-A.webp)",
        "\n",
        "and we want to multiply it by the matrix",
        "\n",
        "![llm.int8()-B](https://pub-fb664c455eca46a2ba762a065ac900f7.r2.dev/llm.int8-B.webp)",
        "\n",
        "We set a threshold value and all columns of the first matrix that have a value greater than this threshold are kept in FP16 format. The corresponding rows in the second matrix, equivalent to the rows of the first matrix, are also kept in FP16 format.",
        "\n",
        "To make it clearer, since the second and fourth columns of the first matrix (yellow columns) have values greater than a certain threshold, then the second and fourth rows of the second matrix (yellow rows) are kept in FP16 format.",
        "\n",
        "If there are threshold values in the second matrix, the same would be done, for example, if a row in the second matrix had a value greater than a threshold it would be kept in FP16 format, and that column in the first matrix would be kept in FP16 format.",
        "\n",
        "The rest of the rows and columns that are not kept in FP16 format are quantized to 8 bits, and the multiplications are performed in INT8 format.",
        "\n",
        "So we separate the first matrix into the two submatrices",
        "\n",
        "![llm.int8()-A_separated](https://pub-fb664c455eca46a2ba762a065ac900f7.r2.dev/llm.int8-A_separated_.webp)",
        "\n",
        "And the second matrix in the two matrices",
        "\n",
        "![llm.int8()-B_separated](https://pub-fb664c455eca46a2ba762a065ac900f7.r2.dev/llm.int8-B_separated_.webp)"
      ]
    },
    {
      "cell_type": "markdown",
      "metadata": {},
      "source": [
        "We multiply the matrices in INT8 on one side",
        "\n",
        "![llm.int8()-AxB-int8](https://pub-fb664c455eca46a2ba762a065ac900f7.r2.dev/llm.int8-AxB-int8_.webp)",
        "\n",
        "And those that are in FP16 format on the other hand",
        "\n",
        "![llm.int8()-AxB-fp16](https://pub-fb664c455eca46a2ba762a065ac900f7.r2.dev/llm.int8-AxB-fp16_.webp)",
        "\n",
        "As can be seen, multiplying the matrices in INT8 format gives us a result of a 3x2 matrix, and multiplying the matrices in FP16 format also gives us another 3x2 matrix, so if we add them together",
        "\n",
        "![llm.int8()-fp16+int8](https://pub-fb664c455eca46a2ba762a065ac900f7.r2.dev/llm.int8-fp16int8_.webp)",
        "\n",
        "Interestingly, it gives us the same result as if we had multiplied the original matrices",
        "\n",
        "![llm.int8()-AxB](https://pub-fb664c455eca46a2ba762a065ac900f7.r2.dev/llm.int8-AxB_.webp)"
      ]
    },
    {
      "cell_type": "markdown",
      "metadata": {},
      "source": [
        "To understand why this happens, if we develop the cross product of the two original matrices",
        "\n",
        "![llm.int8()-AxB-explained](https://pub-fb664c455eca46a2ba762a065ac900f7.r2.dev/llm.int8-AxB-explained.webp)",
        "\n",
        "We see that the separation we have made does not cause any problems"
      ]
    },
    {
      "cell_type": "markdown",
      "metadata": {},
      "source": [
        "Therefore, we can conclude that we can separate rows and columns of matrices to perform matrix multiplications. This separation will occur when some element of the row or column is greater than a threshold value, so that rows or columns that do not have a value greater than this threshold will be encoded in INT8 occupying only one byte, and rows or columns that have an element greater than this threshold will be converted to FP16 occupying 2 bytes. This way, we won't have rounding issues, as the calculations we perform in INT8 will be with values that ensure the multiplications do not exceed the range of 8 bits."
      ]
    },
    {
      "cell_type": "markdown",
      "metadata": {},
      "source": [
        "## Threshold value \u03b1"
      ]
    },
    {
      "cell_type": "markdown",
      "metadata": {},
      "source": [
        "As we have said, we are going to split into rows and columns that have some element greater than a threshold value, but what threshold value should we choose? The authors of the paper conducted experiments with several values and determined that this threshold value should be \u03b1=6. Above this value, they started to observe degradations in the language models."
      ]
    },
    {
      "cell_type": "markdown",
      "metadata": {},
      "source": [
        "## Use of llm.int8()"
      ]
    },
    {
      "cell_type": "markdown",
      "metadata": {},
      "source": [
        "Let's see how to quantize a model with llm.int8() using the transformers library. For this, you need to have `bitsandbytes` installed.",
        "\n",
        "```bash\n",
        "pip install bitsandbytes",
        "```"
      ]
    },
    {
      "cell_type": "markdown",
      "metadata": {},
      "source": [
        "We load a 1B parameter model twice, once in the usual way and the second time quantizing it with llm.int8()"
      ]
    },
    {
      "cell_type": "code",
      "execution_count": 1,
      "metadata": {},
      "outputs": [
        {
          "name": "stderr",
          "output_type": "stream",
          "text": [
            "The `load_in_4bit` and `load_in_8bit` arguments are deprecated and will be removed in the future versions. Please, pass a `BitsAndBytesConfig` object in `quantization_config` argument instead.\n"
          ]
        }
      ],
      "source": [
        "from transformers import AutoModelForCausalLM, AutoTokenizer\n",
        "import torch\n",
        "\n",
        "device = torch.device(\"cuda\" if torch.cuda.is_available() else \"cpu\")\n",
        "checkpoint = \"TinyLlama/TinyLlama-1.1B-Chat-v1.0\"\n",
        "\n",
        "tokenizer = AutoTokenizer.from_pretrained(checkpoint)\n",
        "model = AutoModelForCausalLM.from_pretrained(checkpoint).to(device)\n",
        "model_8bit = AutoModelForCausalLM.from_pretrained(checkpoint, device_map=\"auto\", load_in_8bit=True)"
      ]
    },
    {
      "cell_type": "markdown",
      "metadata": {},
      "source": [
        "We see how much memory each of the models occupies"
      ]
    },
    {
      "cell_type": "code",
      "execution_count": 6,
      "metadata": {
        "colab": {
          "base_uri": "https://localhost:8080/"
        },
        "id": "KhT4atcp9f3O",
        "outputId": "c8b8aa56-efb9-4084-b603-bf9b15e687a1"
      },
      "outputs": [
        {
          "data": {
            "text/plain": [
              "(4.098002195358276, 1.1466586589813232)"
            ]
          },
          "execution_count": 6,
          "metadata": {},
          "output_type": "execute_result"
        }
      ],
      "source": [
        "model.get_memory_footprint()/(1024**3), model_8bit.get_memory_footprint()/(1024**3)"
      ]
    },
    {
      "cell_type": "markdown",
      "metadata": {},
      "source": [
        "As can be seen, the quantized model takes up much less memory"
      ]
    },
    {
      "cell_type": "markdown",
      "metadata": {},
      "source": [
        "Let's now do a text generation test with the two models"
      ]
    },
    {
      "cell_type": "code",
      "execution_count": 5,
      "metadata": {
        "colab": {
          "base_uri": "https://localhost:8080/"
        },
        "id": "7aIZHa6p9f3O",
        "outputId": "3fc4007f-b96d-4734-f0d2-7d46638845e5"
      },
      "outputs": [
        {
          "data": {
            "text/plain": [
              "tensor([[    1, 15043,   590,  1024,   338,  5918,  4200,   322,   306,   626,\n",
              "           263,  6189, 29257, 10863,   261]], device='cuda:0')"
            ]
          },
          "execution_count": 5,
          "metadata": {},
          "output_type": "execute_result"
        }
      ],
      "source": [
        "input_tokens = tokenizer(\"Hello my name is Maximo and I am a Machine Learning Engineer\", return_tensors=\"pt\").to(device)\n",
        "input_tokens.input_ids"
      ]
    },
    {
      "cell_type": "markdown",
      "metadata": {},
      "source": [
        "We see the output with the normal model"
      ]
    },
    {
      "cell_type": "code",
      "execution_count": 16,
      "metadata": {
        "colab": {
          "base_uri": "https://localhost:8080/"
        },
        "id": "jHGSazU0BvpN",
        "outputId": "0b57850a-9864-4c7f-884b-4610412b6abe"
      },
      "outputs": [
        {
          "name": "stdout",
          "output_type": "stream",
          "text": [
            "Hello my name is Maximo and I am a Machine Learning Engineer. I am currently working at [Company Name] as a Machine Learning Engineer. I have a Bachelor's degree in Computer Science from [University Name] and a Master's degree in Computer Science from [University Name]. I\n",
            "1.7616662979125977\n"
          ]
        }
      ],
      "source": [
        "import time\n",
        "\n",
        "t0 = time.time()\n",
        "max_new_tokens = 50\n",
        "outputs = model.generate(\n",
        "    input_ids=input_tokens.input_ids,\n",
        "    attention_mask=input_tokens.attention_mask,\n",
        "    max_length=input_tokens.input_ids.shape[1] + max_new_tokens,\n",
        ")\n",
        "print(tokenizer.decode(outputs[0], skip_special_tokens=True))\n",
        "print(time.time() - t0)"
      ]
    },
    {
      "cell_type": "markdown",
      "metadata": {},
      "source": [
        "And now with the quantized model"
      ]
    },
    {
      "cell_type": "code",
      "execution_count": 17,
      "metadata": {
        "colab": {
          "base_uri": "https://localhost:8080/"
        },
        "id": "wTc6pG-NBvpO",
        "outputId": "79f205f8-44c3-463c-956b-3945cb1edc8b"
      },
      "outputs": [
        {
          "name": "stdout",
          "output_type": "stream",
          "text": [
            "Hello my name is Maximo and I am a Machine Learning Engineer. I am currently working at [Company Name] as a Machine Learning Engineer. I have a Bachelor's degree in Computer Science from [University Name] and a Master's degree in Computer Science from [University Name]. I\n",
            "9.100712776184082\n"
          ]
        }
      ],
      "source": [
        "t0 = time.time()\n",
        "max_new_tokens = 50\n",
        "outputs = model_8bit.generate(\n",
        "    input_ids=input_tokens.input_ids,\n",
        "    attention_mask=input_tokens.attention_mask,\n",
        "    max_length=input_tokens.input_ids.shape[1] + max_new_tokens,\n",
        ")\n",
        "print(tokenizer.decode(outputs[0], skip_special_tokens=True))\n",
        "print(time.time() - t0)"
      ]
    },
    {
      "cell_type": "markdown",
      "metadata": {},
      "source": [
        "We see two things: on the one hand, that the output we get is the same text; so with a much smaller model we can obtain the same output. However, the quantized model takes much longer to run, so if it needs to be used in real time, it would not be advisable.",
        "\n",
        "This is contradictory, because we might think that a smaller model would run faster, but we have to consider that in reality both models, the normal and the quantized one, perform the same operations; it's just that one performs all operations in FP32 while the other does them in INT8 and FP16. However, the quantized model has to find rows and columns with values greater than the threshold value, separate them, perform the operations in INT8 and FP16, and then recombine the results, which is why the quantized model takes longer to run."
      ]
    }
  ],
  "metadata": {
    "kernelspec": {
      "display_name": "nlp_",
      "language": "python",
      "name": "python3"
    },
    "language_info": {
      "codemirror_mode": {
        "name": "ipython",
        "version": 3
      },
      "file_extension": ".py",
      "mimetype": "text/x-python",
      "name": "python",
      "nbconvert_exporter": "python",
      "pygments_lexer": "ipython3",
      "version": "3.11.9"
    },
    "maximofn": {
      "date": "2024-07-23",
      "description_en": "Get ready to save space and speed up your models! \ud83d\udca5 In this post, I'm going to explore the llm.int8() method, a quantization technique that allows you to reduce the size of your machine learning models without sacrificing too much accuracy. \ud83d\udcca That means you'll be able to train and deploy larger and more complex models in less space and with lower resource consumption! \ud83d\udcbb Let's see how to use llm.int8() with transformers to quantize a model and make it more efficient, without losing the essence of its artificial intelligence. \ud83e\udd16",
      "description_es": "\u00a1Prep\u00e1rate para ahorrar espacio y acelerar tus modelos! \ud83d\udca5 En este post, voy a explorar el m\u00e9todo llm.int8(), una t\u00e9cnica de cuantizaci\u00f3n que te permite reducir el tama\u00f1o de tus modelos de aprendizaje autom\u00e1tico sin sacrificar demasiada precisi\u00f3n. \ud83d\udcca \u00a1Eso significa que podr\u00e1s entrenar y desplegar modelos m\u00e1s grandes y complejos en menos espacio y con menor consumo de recursos! \ud83d\udcbb Vamos a ver c\u00f3mo utilizar llm.int8() con transformers para cuantizar un modelo y hacer que sea m\u00e1s eficiente, sin perder la esencia de su inteligencia artificial. \ud83e\udd16",
      "description_pt": "Prepare-se para economizar espa\u00e7o e acelerar seus modelos! \ud83d\udca5 Nesta postagem, vou explorar o m\u00e9todo llm.int8(), uma t\u00e9cnica de quantiza\u00e7\u00e3o que permite reduzir o tamanho dos seus modelos de aprendizado de m\u00e1quina sem sacrificar muito a precis\u00e3o. \ud83d\udcca Isso significa que voc\u00ea poder\u00e1 treinar e implantar modelos maiores e mais complexos em menos espa\u00e7o e com menos consumo de recursos! \ud83d\udcbb Vamos ver como usar llm.int8() com transformadores para quantizar um modelo e torn\u00e1-lo mais eficiente, sem perder a ess\u00eancia de sua intelig\u00eancia artificial. \ud83e\udd16",
      "end_url": "llm-int8",
      "image": "https://pub-fb664c455eca46a2ba762a065ac900f7.r2.dev/llm.int8()-thumbnail.webp",
      "image_hover_path": "https://pub-fb664c455eca46a2ba762a065ac900f7.r2.dev/llm.int8()-thumbnail.webp",
      "keywords_en": "llm.int8(), transformers, quantization, machine learning, artificial intelligence, INT8, FP16",
      "keywords_es": "llm.int8(), transformers, cuantizaci\u00f3n, aprendizaje autom\u00e1tico, inteligencia artificial, INT8, FP16",
      "keywords_pt": "llm.int8(), transformers, quantiza\u00e7\u00e3o, aprendizado de m\u00e1quina, intelig\u00eancia artificial, INT8, FP16",
      "title_en": "llm.int8() \u2013 8-bit Matrix Multiplication for Transformers at Scale",
      "title_es": "llm.int8() \u2013 8-bit Matrix Multiplication for Transformers at Scale",
      "title_pt": "llm.int8() \u2013 8-bit Matrix Multiplication for Transformers at Scale"
    }
  },
  "nbformat": 4,
  "nbformat_minor": 2
}