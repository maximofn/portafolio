{
      "cells": [
            {
                  "cell_type": "markdown",
                  "metadata": {},
                  "source": [
                        "# llm.int8() - 8-bit Matrix Multiplication for Transformers at Scale"
                  ]
            },
            {
                  "cell_type": "markdown",
                  "metadata": {},
                  "source": [
                        "This notebook has been automatically translated to make it accessible to more people, please let me know if you see any typos."
                  ]
            },
            {
                  "cell_type": "markdown",
                  "metadata": {},
                  "source": [
                        "In the post [LLMs quantization](https://maximofn.com/llms-quantization/) we explained the importance of quantization of LLMs to save memory. We also explained that there is a way of quantization which is [zero-point quantization](https://maximofn.com/llms-quantization/#Cuantizaci%C3%B3n-de-punto-cero) that consists in transforming the parameter values of the weights linearly, but this has the problem of the degradation of the language models from the moment they exceed 2.7B parameters.\n",
                        "\n",
                        "![llm.int8()-degradation](https://pub-fb664c455eca46a2ba762a065ac900f7.r2.dev/llm.int8-degradation.webp)"
                  ]
            },
            {
                  "cell_type": "markdown",
                  "metadata": {},
                  "source": [
                        "## Vector quantization"
                  ]
            },
            {
                  "cell_type": "markdown",
                  "metadata": {},
                  "source": [
                        "Since the quantization of all the parameters of the models produces errors in the large language models, what they propose in the paper [llm.int8()](https://arxiv.org/abs/2208.07339) is to perform vector quantization, that is, to separate the matrices of the weights into vectors, so that some of these vectors can be quantized in 8 bits, while others cannot. So those that can be quantized in 8 bits are quantized and matrix multiplications are performed in INT8 format, while those vectors that cannot be quantized are kept in FP16 format and multiplications are performed in FP16 format."
                  ]
            },
            {
                  "cell_type": "markdown",
                  "metadata": {},
                  "source": [
                        "Let's see it with an example\n",
                        "\n",
                        "Suppose we have the matrix\n",
                        "\n",
                        "![llm.int8()-A](https://pub-fb664c455eca46a2ba762a065ac900f7.r2.dev/llm.int8-A.webp)\n",
                        "\n",
                        "and we want to multiply it by the matrix\n",
                        "\n",
                        "![llm.int8()-B](https://pub-fb664c455eca46a2ba762a065ac900f7.r2.dev/llm.int8-B.webp)\n",
                        "\n",
                        "We set a threshold value and all the columns of the first matrix that have a value greater than that threshold are left in FP16 format, the rows equivalent to the rows of the first matrix, in the second matrix are also left in FP16 format.\n",
                        "\n",
                        "Let me explain it more clearly, as the second and fourth columns of the first matrix (yellow columns) have values greater than a certain threshold, then the second and fourth rows of the second matrix (yellow rows) are left in FP16 format.\n",
                        "\n",
                        "In case of having threshold values in the second matrix the same would be done, for example, if in the second matrix a row had a value greater than a threshold, it would be left in FP16 format, and that column in the first matrix would be left in FP16 format.\n",
                        "\n",
                        "The remaining rows and columns that are not left in FP16 format are quantized in 8 bits and multiplications are performed in INT8 format.\n",
                        "\n",
                        "So we separate the first matrix into the two matrices\n",
                        "\n",
                        "![llm.int8()-A_separated](https://pub-fb664c455eca46a2ba762a065ac900f7.r2.dev/llm.int8-A_separated_.webp)\n",
                        "\n",
                        "And the second matrix in the two matrices\n",
                        "\n",
                        "![llm.int8()-B_separated](https://pub-fb664c455eca46a2ba762a065ac900f7.r2.dev/llm.int8-B_separated_.webp)"
                  ]
            },
            {
                  "cell_type": "markdown",
                  "metadata": {},
                  "source": [
                        "We multiply the matrices in INT8 on one side\n",
                        "\n",
                        "![llm.int8()-AxB-int8](https://pub-fb664c455eca46a2ba762a065ac900f7.r2.dev/llm.int8-AxB-int8_.webp)\n",
                        "\n",
                        "and those in FP16 format on the other hand\n",
                        "\n",
                        "![llm.int8()-AxB-fp16](https://pub-fb664c455eca46a2ba762a065ac900f7.r2.dev/llm.int8-AxB-fp16_.webp)\n",
                        "\n",
                        "As you can see, multiplying the matrices in INT8 format gives us a matrix of size 3x2, and multiplying the matrices in FP16 format gives us another matrix of size 3x2, so if we add them together\n",
                        "\n",
                        "![llm.int8()-fp16+int8](https://pub-fb664c455eca46a2ba762a065ac900f7.r2.dev/llm.int8-fp16int8_.webp)\n",
                        "\n",
                        "Interestingly, it gives us the same result as if we had multiplied the original matrices\n",
                        "\n",
                        "![llm.int8()-AxB](https://pub-fb664c455eca46a2ba762a065ac900f7.r2.dev/llm.int8-AxB_.webp)"
                  ]
            },
            {
                  "cell_type": "markdown",
                  "metadata": {},
                  "source": [
                        "In order to see why this happens, if we develop the vector product of the two original matrices\n",
                        "\n",
                        "![llm.int8()-AxB-explained](https://pub-fb664c455eca46a2ba762a065ac900f7.r2.dev/llm.int8-AxB-explained.webp)\n",
                        "\n",
                        "We see that the separation we have made does not cause problems."
                  ]
            },
            {
                  "cell_type": "markdown",
                  "metadata": {},
                  "source": [
                        "Therefore, we can conclude that we can separate rows and columns of matrices to perform matrix multiplications. This separation will be done when any element of the row or column is greater than a threshold value, so that the rows or columns that do not have a value greater than that threshold will be coded in INT8 occupying only one byte and the rows or columns that have an element greater than that threshold will be passed to FP16 occupying 2 bytes. In this way we will not have rounding problems, since the calculations we do in INT8 will be done with values that do not exceed the range of 8 bits."
                  ]
            },
            {
                  "cell_type": "markdown",
                  "metadata": {},
                  "source": [
                        "## Threshold value α"
                  ]
            },
            {
                  "cell_type": "markdown",
                  "metadata": {},
                  "source": [
                        "As we have said we are going to separate into rows and columns that have some element greater than a threshold value, but what threshold value should we choose? The authors of the paper did experiments with several values and determined that this threshold value should be α=6. Above that value they started to get degradations in the language models."
                  ]
            },
            {
                  "cell_type": "markdown",
                  "metadata": {},
                  "source": [
                        "## Use of llm.int8()"
                  ]
            },
            {
                  "cell_type": "markdown",
                  "metadata": {},
                  "source": [
                        "Let's see how to quantize a model with llm.int8() with the transformers library. To do this you must have `bitsandbytes` installed.\n",
                        "\n",
                        "````bash\n",
                        "pip install bitsandbytes\n",
                        "```"
                  ]
            },
            {
                  "cell_type": "markdown",
                  "metadata": {},
                  "source": [
                        "We load a 1B parameter model twice, once normally and the second time quantizing it with llm.int8()."
                  ]
            },
            {
                  "cell_type": "code",
                  "execution_count": 1,
                  "metadata": {},
                  "outputs": [
                        {
                              "name": "stderr",
                              "output_type": "stream",
                              "text": [
                                    "The `load_in_4bit` and `load_in_8bit` arguments are deprecated and will be removed in the future versions. Please, pass a `BitsAndBytesConfig` object in `quantization_config` argument instead.\n"
                              ]
                        }
                  ],
                  "source": [
                        "from transformers import AutoModelForCausalLM, AutoTokenizer\n",
                        "import torch\n",
                        "\n",
                        "device = torch.device(\"cuda\" if torch.cuda.is_available() else \"cpu\")\n",
                        "checkpoint = \"TinyLlama/TinyLlama-1.1B-Chat-v1.0\"\n",
                        "\n",
                        "tokenizer = AutoTokenizer.from_pretrained(checkpoint)\n",
                        "model = AutoModelForCausalLM.from_pretrained(checkpoint).to(device)\n",
                        "model_8bit = AutoModelForCausalLM.from_pretrained(checkpoint, device_map=\"auto\", load_in_8bit=True)"
                  ]
            },
            {
                  "cell_type": "markdown",
                  "metadata": {},
                  "source": [
                        "Let's see how much memory each model takes up"
                  ]
            },
            {
                  "cell_type": "code",
                  "execution_count": 6,
                  "metadata": {
                        "colab": {
                              "base_uri": "https://localhost:8080/"
                        },
                        "id": "KhT4atcp9f3O",
                        "outputId": "c8b8aa56-efb9-4084-b603-bf9b15e687a1"
                  },
                  "outputs": [
                        {
                              "data": {
                                    "text/plain": [
                                          "(4.098002195358276, 1.1466586589813232)"
                                    ]
                              },
                              "execution_count": 6,
                              "metadata": {},
                              "output_type": "execute_result"
                        }
                  ],
                  "source": [
                        "model.get_memory_footprint()/(1024**3), model_8bit.get_memory_footprint()/(1024**3)"
                  ]
            },
            {
                  "cell_type": "markdown",
                  "metadata": {},
                  "source": [
                        "As can be seen, the quantized model occupies much less memory."
                  ]
            },
            {
                  "cell_type": "markdown",
                  "metadata": {},
                  "source": [
                        "Let's now do a text generation test with the two models"
                  ]
            },
            {
                  "cell_type": "code",
                  "execution_count": 5,
                  "metadata": {
                        "colab": {
                              "base_uri": "https://localhost:8080/"
                        },
                        "id": "7aIZHa6p9f3O",
                        "outputId": "3fc4007f-b96d-4734-f0d2-7d46638845e5"
                  },
                  "outputs": [
                        {
                              "data": {
                                    "text/plain": [
                                          "tensor([[    1, 15043,   590,  1024,   338,  5918,  4200,   322,   306,   626,\n",
                                          "           263,  6189, 29257, 10863,   261]], device='cuda:0')"
                                    ]
                              },
                              "execution_count": 5,
                              "metadata": {},
                              "output_type": "execute_result"
                        }
                  ],
                  "source": [
                        "input_tokens = tokenizer(\"Hello my name is Maximo and I am a Machine Learning Engineer\", return_tensors=\"pt\").to(device)\n",
                        "input_tokens.input_ids"
                  ]
            },
            {
                  "cell_type": "markdown",
                  "metadata": {},
                  "source": [
                        "We see the output with the normal model"
                  ]
            },
            {
                  "cell_type": "code",
                  "execution_count": 16,
                  "metadata": {
                        "colab": {
                              "base_uri": "https://localhost:8080/"
                        },
                        "id": "jHGSazU0BvpN",
                        "outputId": "0b57850a-9864-4c7f-884b-4610412b6abe"
                  },
                  "outputs": [
                        {
                              "name": "stdout",
                              "output_type": "stream",
                              "text": [
                                    "Hello my name is Maximo and I am a Machine Learning Engineer. I am currently working at [Company Name] as a Machine Learning Engineer. I have a Bachelor's degree in Computer Science from [University Name] and a Master's degree in Computer Science from [University Name]. I\n",
                                    "1.7616662979125977\n"
                              ]
                        }
                  ],
                  "source": [
                        "import time\n",
                        "\n",
                        "t0 = time.time()\n",
                        "max_new_tokens = 50\n",
                        "outputs = model.generate(\n",
                        "    input_ids=input_tokens.input_ids,\n",
                        "    attention_mask=input_tokens.attention_mask,\n",
                        "    max_length=input_tokens.input_ids.shape[1] + max_new_tokens,\n",
                        ")\n",
                        "print(tokenizer.decode(outputs[0], skip_special_tokens=True))\n",
                        "print(time.time() - t0)"
                  ]
            },
            {
                  "cell_type": "markdown",
                  "metadata": {},
                  "source": [
                        "And now with the quantized model"
                  ]
            },
            {
                  "cell_type": "code",
                  "execution_count": 17,
                  "metadata": {
                        "colab": {
                              "base_uri": "https://localhost:8080/"
                        },
                        "id": "wTc6pG-NBvpO",
                        "outputId": "79f205f8-44c3-463c-956b-3945cb1edc8b"
                  },
                  "outputs": [
                        {
                              "name": "stdout",
                              "output_type": "stream",
                              "text": [
                                    "Hello my name is Maximo and I am a Machine Learning Engineer. I am currently working at [Company Name] as a Machine Learning Engineer. I have a Bachelor's degree in Computer Science from [University Name] and a Master's degree in Computer Science from [University Name]. I\n",
                                    "9.100712776184082\n"
                              ]
                        }
                  ],
                  "source": [
                        "t0 = time.time()\n",
                        "max_new_tokens = 50\n",
                        "outputs = model_8bit.generate(\n",
                        "    input_ids=input_tokens.input_ids,\n",
                        "    attention_mask=input_tokens.attention_mask,\n",
                        "    max_length=input_tokens.input_ids.shape[1] + max_new_tokens,\n",
                        ")\n",
                        "print(tokenizer.decode(outputs[0], skip_special_tokens=True))\n",
                        "print(time.time() - t0)"
                  ]
            },
            {
                  "cell_type": "markdown",
                  "metadata": {},
                  "source": [
                        "We see two things, on the one hand we get the same text at the output, so with a much smaller model we can get the same output, however the quantized model takes much longer to run, so if you need to use this model in real time it would not be advisable.\n",
                        "\n",
                        "This is contradictory, because we might think that a smaller model would have to run faster, but we have to think that in reality the two models, the normal and the quantized, perform the same operations, only that one performs all the operations in FP32 and the other does them in INT8 and FP16, however the quantized model has to search for rows and columns with values greater than the threshold value, separate them, perform the operations in INT8 and FP16 and then put the results back together, so the quantized model takes longer to run."
                  ]
            }
      ],
      "metadata": {
            "kernelspec": {
                  "display_name": "nlp_",
                  "language": "python",
                  "name": "python3"
            },
            "language_info": {
                  "codemirror_mode": {
                        "name": "ipython",
                        "version": 3
                  },
                  "file_extension": ".py",
                  "mimetype": "text/x-python",
                  "name": "python",
                  "nbconvert_exporter": "python",
                  "pygments_lexer": "ipython3",
                  "version": "3.11.9"
            }
      },
      "nbformat": 4,
      "nbformat_minor": 2
}
