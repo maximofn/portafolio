{
      "cells": [
            {
                  "cell_type": "markdown",
                  "metadata": {},
                  "source": [
                        "# QLoRA: Efficient Finetuning of Quantized LLMs"
                  ]
            },
            {
                  "cell_type": "markdown",
                  "metadata": {},
                  "source": [
                        "This notebook has been automatically translated to make it accessible to more people, please let me know if you see any typos."
                  ]
            },
            {
                  "cell_type": "markdown",
                  "metadata": {},
                  "source": [
                        "While [LoRA](https://maximofn.com/lora/) provides a way to do fine tuning of language models without the need for GPUs with large VRAMs, in the [QLoRA](https://arxiv.org/abs/2305.14314) paper they go further and propose a way to do quantized model fine tuning, making even less memory needed to do fine tuning of language models."
                  ]
            },
            {
                  "cell_type": "markdown",
                  "metadata": {},
                  "source": [
                        "## LoRA"
                  ]
            },
            {
                  "cell_type": "markdown",
                  "metadata": {},
                  "source": [
                        "### Updating of weights in a neural network"
                  ]
            },
            {
                  "cell_type": "markdown",
                  "metadata": {},
                  "source": [
                        "To understand how LoRA works, we first have to remember what happens when we train a model. Let's go back to the most basic part of deep learning, we have a dense layer of a neural network that is defined as:\n",
                        "\n",
                        "$$\n",
                        "y = Wx + b\n",
                        "$$\n",
                        "\n",
                        "Where $W$ is the weights matrix and $b$ is the bias vector.\n",
                        "\n",
                        "For the sake of simplicity we will assume that there is no bias, so it would look like this\n",
                        "\n",
                        "$$\n",
                        "y = Wx\n",
                        "$$\n",
                        "\n",
                        "Suppose that for an input $x$ we want it to have an output $ŷ$.\n",
                        "\n",
                        " * First what we do is to calculate the output we get with our current value of pesos $W$, i.e. we get the value $y$.\n",
                        " * Next we calculate the error that exists between the value of $y$ that we have obtained and the value that we wanted to obtain $ŷ$. We call this error $loss$, and we calculate it with some mathematical function, now it does not matter which one.\n",
                        " * We compute the gardient (the derivative) of the error $loss$ with respect to the weights matrix $W$, i.e. $$Delta W = \\frac{dloss}{dW}$.\n",
                        " * We update the weights $W$ by subtracting from each of their values the value of the gradient multiplied by a learning factor $alpha$, i.e. $W = W - \\alpha \\Delta W$."
                  ]
            },
            {
                  "cell_type": "markdown",
                  "metadata": {},
                  "source": [
                        "### LoRA"
                  ]
            },
            {
                  "cell_type": "markdown",
                  "metadata": {},
                  "source": [
                        "The authors of LoRA propose that the weights matrix $W$ can be decomposed into\n",
                        "\n",
                        "$$\n",
                        "W \\sim W + Delta W\n",
                        "$$\n",
                        "\n",
                        "So, by freezing the $W$ matrix and training only the $\"Delta W$ matrix, it is possible to obtain a model that fits new data without having to retrain the whole model.\n",
                        "\n",
                        "But you may think that $$Delta W$ is a matrix of size equal to $W$ so nothing has been gained, but here the authors rely on `Aghajanyan et al. (2020)`, a paper in which they showed that although the language models are large and their parameters are matrices with very large dimensions, to adapt them to new tasks it is not necessary to change all the values of the matrices, but changing a few values is enough, which in technical terms, is called Low Rank Adaptation. Hence the name LoRA (Low Rank Adaptation)."
                  ]
            },
            {
                  "cell_type": "markdown",
                  "metadata": {},
                  "source": [
                        "We have frozen the model and now we want to train the $$Delta W$ matrix, let's assume that both $W$ and $$Delta W$ are matrices of size $20$, so we have 200 trainable parameters\n",
                        "\n",
                        "Now suppose that the matrix $$Delta W$ can be decomposed into the product of two matrices $A$ and $B$, i.e.\n",
                        "\n",
                        "$$\n",
                        "\\Delta W = A \\cdot B\n",
                        "$$\n",
                        "\n",
                        "For this multiplication to occur the sizes of the matrices $A$ and $B$ have to be $20 times n$ and $n times 10$ respectively. Suppose $n = 5$, so $A$ would be of size $20 \\times 5$, i.e. 100 parameters, and $B$ of size $5 \\times 10$, i.e. 50 parameters, so we would have 100+50=150 trainable parameters. We already have less trainable parameters than before\n",
                        "\n",
                        "Now let's suppose that $W$ is actually a matrix of size $10.000 \\times 10.000$, so we would have 100.000.000 trainable parameters, but if we decompose $$Delta W$ in $A$ and $B$ with $n = 5$, we would have a matrix of size $10.000 \\times 5$ and another one of size $5 \\times 10.000$, so we would have 50.000 parameters of one and another 50.000 parameters of the other, in total 100.000 trainable parameters, that is to say we have reduced the number of parameters 1000 times.\n",
                        "\n",
                        "You can already see the power of LoRA, when you have very large models, the number of trainable parameters can be greatly reduced.\n",
                        "\n",
                        "If we look again at the image of the LoRA architecture, we will understand it better.\n",
                        "\n",
                        "![LoRA adapt](https://maximofn.com/wp-content/uploads/2024/07/LoRA_adapat.webp)\n",
                        "\n",
                        "But it looks even better, the savings in number of trainable parameters with this image\n",
                        "\n",
                        "![LoRA matmul](https://maximofn.com/wp-content/uploads/2024/07/Lora_matmul.webp)"
                  ]
            },
            {
                  "cell_type": "markdown",
                  "metadata": {},
                  "source": [
                        "## QLoRA"
                  ]
            },
            {
                  "cell_type": "markdown",
                  "metadata": {},
                  "source": [
                        "QLoRA is performed in two steps, the first consists of quantizing the model and the second of applying LoRA to the quantized model."
                  ]
            },
            {
                  "cell_type": "markdown",
                  "metadata": {},
                  "source": [
                        "### QLoRA Quantization"
                  ]
            },
            {
                  "cell_type": "markdown",
                  "metadata": {},
                  "source": [
                        "QLoRA quantization is based on three concepts, 4-bit model quantization with the normal float 4 (NF4) format, double quantization and paged optimizers. All this together makes it possible to save a lot of memory when fine tuning the language models, so let's see what each one consists of"
                  ]
            },
            {
                  "cell_type": "markdown",
                  "metadata": {},
                  "source": [
                        "#### Quantification of language models in normal float 4 (NF4)"
                  ]
            },
            {
                  "cell_type": "markdown",
                  "metadata": {},
                  "source": [
                        "In QLoRA, to quantize, what is done is to quantize in normal float 4 (NF4) format, which is a type of 4-bit quantization so that its data have a normal distribution, i.e. they follow a Gaussian bell. To get them to follow this distribution, what is done is to divide the values of the weights in FP16 into quantiles, so that in each quantile there is the same number of values. Once we have the quantiles, a value in 4 bits is assigned to each quantile.\n",
                        "\n",
                        "![QLoRA-normal-float-quantization](https://maximofn.com/wp-content/uploads/2024/07/QLoRA-normal-float-quantization.webp)"
                  ]
            },
            {
                  "cell_type": "markdown",
                  "metadata": {},
                  "source": [
                        "To perform this quantization it uses the SRAM quantization algorithm, which is a very fast quantization algorithm by quantiles, but it has a lot of error with values that are very far away in the distribution of the Gaussian bell, outliers."
                  ]
            },
            {
                  "cell_type": "markdown",
                  "metadata": {},
                  "source": [
                        "As the parameters of the weights of a neural network usually follow a normal distribution (i.e. they follow a Gaussian bell), centered at zero and with a standard deviation σ. What is done is to normalize them to have a standard deviation between -1 and 1, and then quantize them in NF4 format."
                  ]
            },
            {
                  "cell_type": "markdown",
                  "metadata": {},
                  "source": [
                        "#### Double quantization"
                  ]
            },
            {
                  "cell_type": "markdown",
                  "metadata": {},
                  "source": [
                        "As we have mentioned, when quantizing the network parameters, we have to normalize them to have a standard deviation between -1 and 1, and then quantize them in NF4 format. So we have to store some parameters as the values to normalize the parameters, that is, the value by which the data is divided to have a deviation between -1 and 1. These values are stored in FP32 format, so the authors of the paper propose to quantize these parameters to FP8 format."
                  ]
            },
            {
                  "cell_type": "markdown",
                  "metadata": {},
                  "source": [
                        "Although this may not seem to save much memory, the authors estimate that this can save about 0.373 bits per parameter, but if for example we have a model of 8B parameters, which is not an excessively large model today, we would save about 3 GB of memory, which is not bad. In the case of a 70B parameter model, we would save about 26 GB of memory."
                  ]
            },
            {
                  "cell_type": "markdown",
                  "metadata": {},
                  "source": [
                        "#### Paginated optimizers"
                  ]
            },
            {
                  "cell_type": "markdown",
                  "metadata": {},
                  "source": [
                        "Nvidia GPUs have the option to share GPU and CPU RAM, so what they do is store optimizer states in CPU RAM and access them when needed. So they don't have to be stored in GPU RAM and we can save GPU memory."
                  ]
            },
            {
                  "cell_type": "markdown",
                  "metadata": {},
                  "source": [
                        "### Fine tuning with LoRA"
                  ]
            },
            {
                  "cell_type": "markdown",
                  "metadata": {},
                  "source": [
                        "Once we have quantized the model we can do fine tuning of the quantized model as in [LoRA](https://maximofn.com/lora/)"
                  ]
            },
            {
                  "cell_type": "markdown",
                  "metadata": {},
                  "source": [
                        "## How to do fine tuning of a quantized model with QLoRA"
                  ]
            },
            {
                  "cell_type": "markdown",
                  "metadata": {},
                  "source": [
                        "Now that we have explained QLoRA, let's see an example of how to fine tune a model using QLoRA."
                  ]
            },
            {
                  "cell_type": "markdown",
                  "metadata": {},
                  "source": [
                        "### Login to Hugging Face Hub"
                  ]
            },
            {
                  "cell_type": "markdown",
                  "metadata": {},
                  "source": [
                        "First we log in to upload the trained model to the Hub."
                  ]
            },
            {
                  "cell_type": "code",
                  "execution_count": null,
                  "metadata": {},
                  "outputs": [],
                  "source": [
                        "from huggingface_hub import notebook_login\n",
                        "notebook_login()"
                  ]
            },
            {
                  "cell_type": "markdown",
                  "metadata": {},
                  "source": [
                        "### Dataset"
                  ]
            },
            {
                  "cell_type": "markdown",
                  "metadata": {},
                  "source": [
                        "We download the dataset we are going to use, which is a dataset of reviews from [Amazon](https://huggingface.co/datasets/mteb/amazon_reviews_multi)"
                  ]
            },
            {
                  "cell_type": "code",
                  "execution_count": 1,
                  "metadata": {},
                  "outputs": [
                        {
                              "data": {
                                    "text/plain": [
                                          "DatasetDict({\n",
                                          "    train: Dataset({\n",
                                          "        features: ['id', 'text', 'label', 'label_text'],\n",
                                          "        num_rows: 200000\n",
                                          "    })\n",
                                          "    validation: Dataset({\n",
                                          "        features: ['id', 'text', 'label', 'label_text'],\n",
                                          "        num_rows: 5000\n",
                                          "    })\n",
                                          "    test: Dataset({\n",
                                          "        features: ['id', 'text', 'label', 'label_text'],\n",
                                          "        num_rows: 5000\n",
                                          "    })\n",
                                          "})"
                                    ]
                              },
                              "execution_count": 1,
                              "metadata": {},
                              "output_type": "execute_result"
                        }
                  ],
                  "source": [
                        "from datasets import load_dataset\n",
                        "\n",
                        "dataset = load_dataset(\"mteb/amazon_reviews_multi\", \"en\")\n",
                        "dataset"
                  ]
            },
            {
                  "cell_type": "markdown",
                  "metadata": {},
                  "source": [
                        "We create a subset in case you want to test the code with a smaller dataset. In my case I will use 100% of the dataset"
                  ]
            },
            {
                  "cell_type": "code",
                  "execution_count": 2,
                  "metadata": {},
                  "outputs": [
                        {
                              "data": {
                                    "text/plain": [
                                          "(Dataset({\n",
                                          "     features: ['id', 'text', 'label', 'label_text'],\n",
                                          "     num_rows: 200000\n",
                                          " }),\n",
                                          " Dataset({\n",
                                          "     features: ['id', 'text', 'label', 'label_text'],\n",
                                          "     num_rows: 5000\n",
                                          " }),\n",
                                          " Dataset({\n",
                                          "     features: ['id', 'text', 'label', 'label_text'],\n",
                                          "     num_rows: 5000\n",
                                          " }))"
                                    ]
                              },
                              "execution_count": 2,
                              "metadata": {},
                              "output_type": "execute_result"
                        }
                  ],
                  "source": [
                        "percentage = 1\n",
                        "\n",
                        "subset_dataset_train = dataset['train'].select(range(int(len(dataset['train']) * percentage)))\n",
                        "subset_dataset_validation = dataset['validation'].select(range(int(len(dataset['validation']) * percentage)))\n",
                        "subset_dataset_test = dataset['test'].select(range(int(len(dataset['test']) * percentage)))\n",
                        "\n",
                        "subset_dataset_train, subset_dataset_validation, subset_dataset_test"
                  ]
            },
            {
                  "cell_type": "markdown",
                  "metadata": {},
                  "source": [
                        "We see a sample"
                  ]
            },
            {
                  "cell_type": "code",
                  "execution_count": 3,
                  "metadata": {},
                  "outputs": [
                        {
                              "data": {
                                    "text/plain": [
                                          "{'id': 'en_0297000',\n",
                                          " 'text': 'Not waterproof at all\\n\\nBought this after reading good reviews. But it’s not water proof at all. If my son has even a little accident in bed, it goes straight to mattress. I don’t see a point in having this. So I have to purchase another one.',\n",
                                          " 'label': 0,\n",
                                          " 'label_text': '0'}"
                                    ]
                              },
                              "execution_count": 3,
                              "metadata": {},
                              "output_type": "execute_result"
                        }
                  ],
                  "source": [
                        "from random import randint\n",
                        "\n",
                        "idx = randint(0, len(subset_dataset_train))\n",
                        "subset_dataset_train[idx]"
                  ]
            },
            {
                  "cell_type": "markdown",
                  "metadata": {},
                  "source": [
                        "We obtain the number of classes, to obtain the number of classes we use `dataset['train']` and not `subset_dataset_train` because if the subset is too small it is possible that there are no examples with all the possible classes of the original dataset."
                  ]
            },
            {
                  "cell_type": "code",
                  "execution_count": 4,
                  "metadata": {},
                  "outputs": [
                        {
                              "data": {
                                    "text/plain": [
                                          "5"
                                    ]
                              },
                              "execution_count": 4,
                              "metadata": {},
                              "output_type": "execute_result"
                        }
                  ],
                  "source": [
                        "num_classes = len(dataset['train'].unique('label'))\n",
                        "num_classes"
                  ]
            },
            {
                  "cell_type": "markdown",
                  "metadata": {},
                  "source": [
                        "We create a function to create the `label` field in the dataset. The downloaded dataset has the `labels` field but the `transformers` library needs the field to be called `label` and not `labels`."
                  ]
            },
            {
                  "cell_type": "code",
                  "execution_count": 5,
                  "metadata": {},
                  "outputs": [],
                  "source": [
                        "def set_labels(example):\n",
                        "    example['labels'] = example['label']\n",
                        "    return example"
                  ]
            },
            {
                  "cell_type": "markdown",
                  "metadata": {},
                  "source": [
                        "We apply the function to the dataset"
                  ]
            },
            {
                  "cell_type": "code",
                  "execution_count": 6,
                  "metadata": {},
                  "outputs": [
                        {
                              "data": {
                                    "text/plain": [
                                          "(Dataset({\n",
                                          "     features: ['id', 'text', 'label', 'label_text', 'labels'],\n",
                                          "     num_rows: 200000\n",
                                          " }),\n",
                                          " Dataset({\n",
                                          "     features: ['id', 'text', 'label', 'label_text', 'labels'],\n",
                                          "     num_rows: 5000\n",
                                          " }),\n",
                                          " Dataset({\n",
                                          "     features: ['id', 'text', 'label', 'label_text', 'labels'],\n",
                                          "     num_rows: 5000\n",
                                          " }))"
                                    ]
                              },
                              "execution_count": 6,
                              "metadata": {},
                              "output_type": "execute_result"
                        }
                  ],
                  "source": [
                        "subset_dataset_train = subset_dataset_train.map(set_labels)\n",
                        "subset_dataset_validation = subset_dataset_validation.map(set_labels)\n",
                        "subset_dataset_test = subset_dataset_test.map(set_labels)\n",
                        "\n",
                        "subset_dataset_train, subset_dataset_validation, subset_dataset_test"
                  ]
            },
            {
                  "cell_type": "markdown",
                  "metadata": {},
                  "source": [
                        "Here is a sample again"
                  ]
            },
            {
                  "cell_type": "code",
                  "execution_count": 7,
                  "metadata": {},
                  "outputs": [
                        {
                              "data": {
                                    "text/plain": [
                                          "{'id': 'en_0297000',\n",
                                          " 'text': 'Not waterproof at all\\n\\nBought this after reading good reviews. But it’s not water proof at all. If my son has even a little accident in bed, it goes straight to mattress. I don’t see a point in having this. So I have to purchase another one.',\n",
                                          " 'label': 0,\n",
                                          " 'label_text': '0',\n",
                                          " 'labels': 0}"
                                    ]
                              },
                              "execution_count": 7,
                              "metadata": {},
                              "output_type": "execute_result"
                        }
                  ],
                  "source": [
                        "subset_dataset_train[idx]"
                  ]
            },
            {
                  "cell_type": "markdown",
                  "metadata": {},
                  "source": [
                        "### Tokenizer"
                  ]
            },
            {
                  "cell_type": "markdown",
                  "metadata": {},
                  "source": [
                        "We implement the tokenizer. To avoid errors, we assign the end of string token to the padding token."
                  ]
            },
            {
                  "cell_type": "code",
                  "execution_count": 8,
                  "metadata": {},
                  "outputs": [],
                  "source": [
                        "from transformers import AutoTokenizer\n",
                        "\n",
                        "checkpoint = \"openai-community/gpt2\"\n",
                        "tokenizer = AutoTokenizer.from_pretrained(checkpoint)\n",
                        "tokenizer.pad_token = tokenizer.eos_token"
                  ]
            },
            {
                  "cell_type": "markdown",
                  "metadata": {},
                  "source": [
                        "We create a function for tokenizing the dataset"
                  ]
            },
            {
                  "cell_type": "code",
                  "execution_count": 9,
                  "metadata": {},
                  "outputs": [],
                  "source": [
                        "def tokenize_function(examples):\n",
                        "    return tokenizer(examples[\"text\"], padding=\"max_length\", truncation=True, max_length=768, return_tensors=\"pt\")"
                  ]
            },
            {
                  "cell_type": "markdown",
                  "metadata": {},
                  "source": [
                        "We apply the function to the dataset and remove the columns that we do not need"
                  ]
            },
            {
                  "cell_type": "code",
                  "execution_count": 10,
                  "metadata": {},
                  "outputs": [
                        {
                              "data": {
                                    "text/plain": [
                                          "(Dataset({\n",
                                          "     features: ['labels', 'input_ids', 'attention_mask'],\n",
                                          "     num_rows: 200000\n",
                                          " }),\n",
                                          " Dataset({\n",
                                          "     features: ['labels', 'input_ids', 'attention_mask'],\n",
                                          "     num_rows: 5000\n",
                                          " }),\n",
                                          " Dataset({\n",
                                          "     features: ['labels', 'input_ids', 'attention_mask'],\n",
                                          "     num_rows: 5000\n",
                                          " }))"
                                    ]
                              },
                              "execution_count": 10,
                              "metadata": {},
                              "output_type": "execute_result"
                        }
                  ],
                  "source": [
                        "subset_dataset_train = subset_dataset_train.map(tokenize_function, batched=True, remove_columns=['text', 'label', 'id', 'label_text'])\n",
                        "subset_dataset_validation = subset_dataset_validation.map(tokenize_function, batched=True, remove_columns=['text', 'label', 'id', 'label_text'])\n",
                        "subset_dataset_test = subset_dataset_test.map(tokenize_function, batched=True, remove_columns=['text', 'label', 'id', 'label_text'])\n",
                        "\n",
                        "subset_dataset_train, subset_dataset_validation, subset_dataset_test"
                  ]
            },
            {
                  "cell_type": "markdown",
                  "metadata": {},
                  "source": [
                        "We see again a sample, but in this case we only see the `keys`."
                  ]
            },
            {
                  "cell_type": "code",
                  "execution_count": 11,
                  "metadata": {},
                  "outputs": [
                        {
                              "data": {
                                    "text/plain": [
                                          "dict_keys(['labels', 'input_ids', 'attention_mask'])"
                                    ]
                              },
                              "execution_count": 11,
                              "metadata": {},
                              "output_type": "execute_result"
                        }
                  ],
                  "source": [
                        "subset_dataset_train[idx].keys()"
                  ]
            },
            {
                  "cell_type": "markdown",
                  "metadata": {},
                  "source": [
                        "### Model"
                  ]
            },
            {
                  "cell_type": "markdown",
                  "metadata": {},
                  "source": [
                        "We first download the unquantized model"
                  ]
            },
            {
                  "cell_type": "code",
                  "execution_count": 1,
                  "metadata": {},
                  "outputs": [
                        {
                              "name": "stderr",
                              "output_type": "stream",
                              "text": [
                                    "Some weights of GPT2ForSequenceClassification were not initialized from the model checkpoint at openai-community/gpt2 and are newly initialized: ['score.weight']\n",
                                    "You should probably TRAIN this model on a down-stream task to be able to use it for predictions and inference.\n"
                              ]
                        }
                  ],
                  "source": [
                        "from transformers import AutoModelForSequenceClassification\n",
                        "\n",
                        "model = AutoModelForSequenceClassification.from_pretrained(checkpoint, num_labels=num_classes)\n",
                        "model.config.pad_token_id = model.config.eos_token_id"
                  ]
            },
            {
                  "cell_type": "markdown",
                  "metadata": {},
                  "source": [
                        "We see the memory occupied by"
                  ]
            },
            {
                  "cell_type": "code",
                  "execution_count": 2,
                  "metadata": {},
                  "outputs": [
                        {
                              "name": "stdout",
                              "output_type": "stream",
                              "text": [
                                    "Model memory: 0.48 GB\n"
                              ]
                        }
                  ],
                  "source": [
                        "model_memory = model.get_memory_footprint()/(1024**3)\n",
                        "print(f\"Model memory: {model_memory:.2f} GB\")"
                  ]
            },
            {
                  "cell_type": "markdown",
                  "metadata": {},
                  "source": [
                        "We pass the model to FP16 and look again at the memory occupied by the model."
                  ]
            },
            {
                  "cell_type": "code",
                  "execution_count": 14,
                  "metadata": {},
                  "outputs": [],
                  "source": [
                        "model = model.half()"
                  ]
            },
            {
                  "cell_type": "code",
                  "execution_count": 15,
                  "metadata": {},
                  "outputs": [
                        {
                              "name": "stdout",
                              "output_type": "stream",
                              "text": [
                                    "Model memory: 0.24 GB\n"
                              ]
                        }
                  ],
                  "source": [
                        "model_memory = model.get_memory_footprint()/(1024**3)\n",
                        "print(f\"Model memory: {model_memory:.2f} GB\")"
                  ]
            },
            {
                  "cell_type": "markdown",
                  "metadata": {},
                  "source": [
                        "We see the architecture of the model before quantization"
                  ]
            },
            {
                  "cell_type": "code",
                  "execution_count": 16,
                  "metadata": {},
                  "outputs": [
                        {
                              "data": {
                                    "text/plain": [
                                          "GPT2ForSequenceClassification(\n",
                                          "  (transformer): GPT2Model(\n",
                                          "    (wte): Embedding(50257, 768)\n",
                                          "    (wpe): Embedding(1024, 768)\n",
                                          "    (drop): Dropout(p=0.1, inplace=False)\n",
                                          "    (h): ModuleList(\n",
                                          "      (0-11): 12 x GPT2Block(\n",
                                          "        (ln_1): LayerNorm((768,), eps=1e-05, elementwise_affine=True)\n",
                                          "        (attn): GPT2Attention(\n",
                                          "          (c_attn): Conv1D()\n",
                                          "          (c_proj): Conv1D()\n",
                                          "          (attn_dropout): Dropout(p=0.1, inplace=False)\n",
                                          "          (resid_dropout): Dropout(p=0.1, inplace=False)\n",
                                          "        )\n",
                                          "        (ln_2): LayerNorm((768,), eps=1e-05, elementwise_affine=True)\n",
                                          "        (mlp): GPT2MLP(\n",
                                          "          (c_fc): Conv1D()\n",
                                          "          (c_proj): Conv1D()\n",
                                          "          (act): NewGELUActivation()\n",
                                          "          (dropout): Dropout(p=0.1, inplace=False)\n",
                                          "        )\n",
                                          "      )\n",
                                          "    )\n",
                                          "    (ln_f): LayerNorm((768,), eps=1e-05, elementwise_affine=True)\n",
                                          "  )\n",
                                          "  (score): Linear(in_features=768, out_features=5, bias=False)\n",
                                          ")"
                                    ]
                              },
                              "execution_count": 16,
                              "metadata": {},
                              "output_type": "execute_result"
                        }
                  ],
                  "source": [
                        "model"
                  ]
            },
            {
                  "cell_type": "markdown",
                  "metadata": {},
                  "source": [
                        "### Model quantification"
                  ]
            },
            {
                  "cell_type": "markdown",
                  "metadata": {},
                  "source": [
                        "To quantize the model first we have to create the quantization configuration, for this we use the `bitsandbytes` library, if you don't have it installed you can install it with\n",
                        "\n",
                        "````bash\n",
                        "pip install bitsandbytes\n",
                        "```"
                  ]
            },
            {
                  "cell_type": "markdown",
                  "metadata": {},
                  "source": [
                        "First we check if our GPU architecture allows the BF16 format, if not we will use FP16.\n",
                        "\n",
                        "Then we create the quantization configuration, with `load_in_4bits=True` we indicate that it quantizes to 4 bits, with `bnb_4bit_quant_type=\"nf4\"` we indicate that it does it in NF4 format, with `bnb_4bit_use_double_quant=True` we tell it to double quantize and with `bnb_4bit_compute_dtype=compute_dtype` we tell it which data format to use when quantizing, which can be FP16 or BF16. "
                  ]
            },
            {
                  "cell_type": "code",
                  "execution_count": 17,
                  "metadata": {},
                  "outputs": [],
                  "source": [
                        "from transformers import BitsAndBytesConfig\n",
                        "import torch\n",
                        "\n",
                        "compute_dtype = torch.bfloat16 if torch.cuda.is_bf16_supported() else torch.float16\n",
                        "\n",
                        "bnb_config = BitsAndBytesConfig(\n",
                        "    load_in_4bit=True,\n",
                        "    bnb_4bit_quant_type=\"nf4\",\n",
                        "    bnb_4bit_use_double_quant=True,\n",
                        "    bnb_4bit_compute_dtype=compute_dtype,\n",
                        ")"
                  ]
            },
            {
                  "cell_type": "markdown",
                  "metadata": {},
                  "source": [
                        "And now we quantize the model"
                  ]
            },
            {
                  "cell_type": "code",
                  "execution_count": 21,
                  "metadata": {},
                  "outputs": [
                        {
                              "name": "stderr",
                              "output_type": "stream",
                              "text": [
                                    "`low_cpu_mem_usage` was None, now set to True since model is quantized.\n",
                                    "Some weights of GPT2ForSequenceClassification were not initialized from the model checkpoint at openai-community/gpt2 and are newly initialized: ['score.weight']\n",
                                    "You should probably TRAIN this model on a down-stream task to be able to use it for predictions and inference.\n"
                              ]
                        }
                  ],
                  "source": [
                        "from transformers import AutoModelForSequenceClassification\n",
                        "\n",
                        "model = AutoModelForSequenceClassification.from_pretrained(checkpoint, num_labels=num_classes, quantization_config=bnb_config)"
                  ]
            },
            {
                  "cell_type": "markdown",
                  "metadata": {},
                  "source": [
                        "Let's look again at the memory it occupies now that we have quantized it"
                  ]
            },
            {
                  "cell_type": "code",
                  "execution_count": 22,
                  "metadata": {},
                  "outputs": [
                        {
                              "name": "stdout",
                              "output_type": "stream",
                              "text": [
                                    "Model memory: 0.12 GB\n"
                              ]
                        }
                  ],
                  "source": [
                        "model_memory = model.get_memory_footprint()/(1024**3)\n",
                        "print(f\"Model memory: {model_memory:.2f} GB\")"
                  ]
            },
            {
                  "cell_type": "markdown",
                  "metadata": {},
                  "source": [
                        "We see that the size of the model has been reduced."
                  ]
            },
            {
                  "cell_type": "markdown",
                  "metadata": {},
                  "source": [
                        "We return to the architecture of the model once it has been quantized"
                  ]
            },
            {
                  "cell_type": "code",
                  "execution_count": 23,
                  "metadata": {},
                  "outputs": [
                        {
                              "data": {
                                    "text/plain": [
                                          "GPT2ForSequenceClassification(\n",
                                          "  (transformer): GPT2Model(\n",
                                          "    (wte): Embedding(50257, 768)\n",
                                          "    (wpe): Embedding(1024, 768)\n",
                                          "    (drop): Dropout(p=0.1, inplace=False)\n",
                                          "    (h): ModuleList(\n",
                                          "      (0-11): 12 x GPT2Block(\n",
                                          "        (ln_1): LayerNorm((768,), eps=1e-05, elementwise_affine=True)\n",
                                          "        (attn): GPT2Attention(\n",
                                          "          (c_attn): Linear4bit(in_features=768, out_features=2304, bias=True)\n",
                                          "          (c_proj): Linear4bit(in_features=768, out_features=768, bias=True)\n",
                                          "          (attn_dropout): Dropout(p=0.1, inplace=False)\n",
                                          "          (resid_dropout): Dropout(p=0.1, inplace=False)\n",
                                          "        )\n",
                                          "        (ln_2): LayerNorm((768,), eps=1e-05, elementwise_affine=True)\n",
                                          "        (mlp): GPT2MLP(\n",
                                          "          (c_fc): Linear4bit(in_features=768, out_features=3072, bias=True)\n",
                                          "          (c_proj): Linear4bit(in_features=3072, out_features=768, bias=True)\n",
                                          "          (act): NewGELUActivation()\n",
                                          "          (dropout): Dropout(p=0.1, inplace=False)\n",
                                          "        )\n",
                                          "      )\n",
                                          "    )\n",
                                          "    (ln_f): LayerNorm((768,), eps=1e-05, elementwise_affine=True)\n",
                                          "  )\n",
                                          "  (score): Linear(in_features=768, out_features=5, bias=False)\n",
                                          ")"
                                    ]
                              },
                              "execution_count": 23,
                              "metadata": {},
                              "output_type": "execute_result"
                        }
                  ],
                  "source": [
                        "model"
                  ]
            },
            {
                  "cell_type": "markdown",
                  "metadata": {},
                  "source": [
                        "We see that the architecture has changed\n",
                        "\n",
                        "![QLoRA-model-vs-quantized-model](https://maximofn.com/wp-content/uploads/2024/07/QLoRA-model-vs-quantized-model_-scaled.webp)\n",
                        "\n",
                        "Modified `Conv1D` layers to `Linear4bits` layers."
                  ]
            },
            {
                  "cell_type": "markdown",
                  "metadata": {},
                  "source": [
                        "### LoRA"
                  ]
            },
            {
                  "cell_type": "markdown",
                  "metadata": {},
                  "source": [
                        "Before implementing LoRA, we have to set up the model to train on 4 bits"
                  ]
            },
            {
                  "cell_type": "code",
                  "execution_count": 24,
                  "metadata": {},
                  "outputs": [],
                  "source": [
                        "from peft import prepare_model_for_kbit_training\n",
                        "\n",
                        "model = prepare_model_for_kbit_training(model)"
                  ]
            },
            {
                  "cell_type": "markdown",
                  "metadata": {},
                  "source": [
                        "Let's see if the size of the model has changed."
                  ]
            },
            {
                  "cell_type": "code",
                  "execution_count": 26,
                  "metadata": {},
                  "outputs": [
                        {
                              "name": "stdout",
                              "output_type": "stream",
                              "text": [
                                    "Model memory: 0.20 GB\n"
                              ]
                        }
                  ],
                  "source": [
                        "model_memory = model.get_memory_footprint()/(1024**3)\n",
                        "print(f\"Model memory: {model_memory:.2f} GB\")"
                  ]
            },
            {
                  "cell_type": "markdown",
                  "metadata": {},
                  "source": [
                        "Memory has been increased, so we look at the model architecture again."
                  ]
            },
            {
                  "cell_type": "code",
                  "execution_count": 27,
                  "metadata": {},
                  "outputs": [
                        {
                              "data": {
                                    "text/plain": [
                                          "GPT2ForSequenceClassification(\n",
                                          "  (transformer): GPT2Model(\n",
                                          "    (wte): Embedding(50257, 768)\n",
                                          "    (wpe): Embedding(1024, 768)\n",
                                          "    (drop): Dropout(p=0.1, inplace=False)\n",
                                          "    (h): ModuleList(\n",
                                          "      (0-11): 12 x GPT2Block(\n",
                                          "        (ln_1): LayerNorm((768,), eps=1e-05, elementwise_affine=True)\n",
                                          "        (attn): GPT2Attention(\n",
                                          "          (c_attn): Linear4bit(in_features=768, out_features=2304, bias=True)\n",
                                          "          (c_proj): Linear4bit(in_features=768, out_features=768, bias=True)\n",
                                          "          (attn_dropout): Dropout(p=0.1, inplace=False)\n",
                                          "          (resid_dropout): Dropout(p=0.1, inplace=False)\n",
                                          "        )\n",
                                          "        (ln_2): LayerNorm((768,), eps=1e-05, elementwise_affine=True)\n",
                                          "        (mlp): GPT2MLP(\n",
                                          "          (c_fc): Linear4bit(in_features=768, out_features=3072, bias=True)\n",
                                          "          (c_proj): Linear4bit(in_features=3072, out_features=768, bias=True)\n",
                                          "          (act): NewGELUActivation()\n",
                                          "          (dropout): Dropout(p=0.1, inplace=False)\n",
                                          "        )\n",
                                          "      )\n",
                                          "    )\n",
                                          "    (ln_f): LayerNorm((768,), eps=1e-05, elementwise_affine=True)\n",
                                          "  )\n",
                                          "  (score): Linear(in_features=768, out_features=5, bias=False)\n",
                                          ")"
                                    ]
                              },
                              "execution_count": 27,
                              "metadata": {},
                              "output_type": "execute_result"
                        }
                  ],
                  "source": [
                        "model"
                  ]
            },
            {
                  "cell_type": "markdown",
                  "metadata": {},
                  "source": [
                        "The architecture remains the same, so we assume that the memory increase is due to some extra configuration to be able to apply LoRA in 4 bits."
                  ]
            },
            {
                  "cell_type": "markdown",
                  "metadata": {},
                  "source": [
                        "We create a LoRA configuration, but unlike the [LoRA](https://maximofn.com/lora/) post in which we only configured in `target_modeules` the `scores` layer, now we are going to add also the `c_attn`, `c_proj` and `c_fc` layers since they are now of type `Linear4bits` and not `Conv1D`."
                  ]
            },
            {
                  "cell_type": "code",
                  "execution_count": 28,
                  "metadata": {},
                  "outputs": [],
                  "source": [
                        "from peft import LoraConfig, TaskType\n",
                        "\n",
                        "config = LoraConfig(\n",
                        "    r=16,\n",
                        "    lora_alpha=32,\n",
                        "    lora_dropout=0.1,\n",
                        "    task_type=TaskType.SEQ_CLS,\n",
                        "    target_modules=['c_attn', 'c_fc', 'c_proj', 'score'],\n",
                        "    bias=\"none\",\n",
                        ")"
                  ]
            },
            {
                  "cell_type": "code",
                  "execution_count": 29,
                  "metadata": {},
                  "outputs": [],
                  "source": [
                        "from peft import get_peft_model\n",
                        "\n",
                        "model = get_peft_model(model, config)"
                  ]
            },
            {
                  "cell_type": "code",
                  "execution_count": 31,
                  "metadata": {},
                  "outputs": [
                        {
                              "name": "stdout",
                              "output_type": "stream",
                              "text": [
                                    "trainable params: 2,375,504 || all params: 126,831,520 || trainable%: 1.8730\n"
                              ]
                        }
                  ],
                  "source": [
                        "model.print_trainable_parameters()"
                  ]
            },
            {
                  "cell_type": "markdown",
                  "metadata": {},
                  "source": [
                        "While in the [LoRA](https://maximofn.com/lora/) post we had about 12,000 trainable parameters, we now have about 2 million, as we have now added the `c_attn`, `c_proj` and `c_fc` layers."
                  ]
            },
            {
                  "cell_type": "markdown",
                  "metadata": {},
                  "source": [
                        "### Training"
                  ]
            },
            {
                  "cell_type": "markdown",
                  "metadata": {},
                  "source": [
                        "Once the quantized model has been instantiated and LoRA has been applied, i.e., once we have done QLoRA, we are going to train it as usual"
                  ]
            },
            {
                  "cell_type": "code",
                  "execution_count": 32,
                  "metadata": {},
                  "outputs": [],
                  "source": [
                        "from transformers import TrainingArguments\n",
                        "\n",
                        "metric_name = \"accuracy\"\n",
                        "model_name = \"GPT2-small-QLoRA-finetuned-amazon-reviews-en-classification\"\n",
                        "LR = 2e-5\n",
                        "BS_TRAIN = 224\n",
                        "BS_EVAL = 224\n",
                        "EPOCHS = 3\n",
                        "WEIGHT_DECAY = 0.01\n",
                        "\n",
                        "training_args = TrainingArguments(\n",
                        "    model_name,\n",
                        "    eval_strategy=\"epoch\",\n",
                        "    save_strategy=\"epoch\",\n",
                        "    learning_rate=LR,\n",
                        "    per_device_train_batch_size=BS_TRAIN,\n",
                        "    per_device_eval_batch_size=BS_EVAL,\n",
                        "    num_train_epochs=EPOCHS,\n",
                        "    weight_decay=WEIGHT_DECAY,\n",
                        "    lr_scheduler_type=\"cosine\",\n",
                        "    warmup_ratio = 0.1,\n",
                        "    fp16=True,\n",
                        "    load_best_model_at_end=True,\n",
                        "    metric_for_best_model=metric_name,\n",
                        "    push_to_hub=True,\n",
                        "    logging_dir=\"./runs\",\n",
                        ")"
                  ]
            },
            {
                  "cell_type": "markdown",
                  "metadata": {},
                  "source": [
                        "In the post [Fine tuning SMLs](https://maximofn.com/fine-tuning-sml/) we had to set a BS train size of 28, in the post [LoRA](https://maximofn.com/lora/) by setting the low rank matrices in the linear layers we were able to set a batch size of 400. Now, as when quantizing the model, the PEFT library has converted some more layers to `Linear` we cannot set such a big batch size and we have to set it to 224."
                  ]
            },
            {
                  "cell_type": "code",
                  "execution_count": 33,
                  "metadata": {},
                  "outputs": [],
                  "source": [
                        "import numpy as np\n",
                        "from evaluate import load\n",
                        "\n",
                        "metric = load(\"accuracy\")\n",
                        "\n",
                        "def compute_metrics(eval_pred):\n",
                        "    print(eval_pred)\n",
                        "    predictions, labels = eval_pred\n",
                        "    predictions = np.argmax(predictions, axis=1)\n",
                        "    return metric.compute(predictions=predictions, references=labels)"
                  ]
            },
            {
                  "cell_type": "code",
                  "execution_count": null,
                  "metadata": {},
                  "outputs": [],
                  "source": [
                        "from transformers import Trainer\n",
                        "\n",
                        "trainer = Trainer(\n",
                        "    model,\n",
                        "    training_args,\n",
                        "    train_dataset=subset_dataset_train,\n",
                        "    eval_dataset=subset_dataset_validation,\n",
                        "    tokenizer=tokenizer,\n",
                        "    compute_metrics=compute_metrics,\n",
                        ")"
                  ]
            },
            {
                  "cell_type": "code",
                  "execution_count": null,
                  "metadata": {},
                  "outputs": [
                        {
                              "name": "stderr",
                              "output_type": "stream",
                              "text": [
                                    "`use_cache=True` is incompatible with gradient checkpointing. Setting `use_cache=False`...\n",
                                    "/usr/local/lib/python3.10/dist-packages/torch/utils/checkpoint.py:464: UserWarning: torch.utils.checkpoint: the use_reentrant parameter should be passed explicitly. In version 2.4 we will raise an exception if use_reentrant is not passed. use_reentrant=False is recommended, but if you need to preserve the current default behavior, you can pass use_reentrant=True. Refer to docs for more details on the differences between the two variants.\n",
                                    "  warnings.warn(\n"
                              ]
                        },
                        {
                              "data": {
                                    "text/html": [
                                          "\n",
                                          "    <div>\n",
                                          "      \n",
                                          "      <progress value='1859' max='2679' style='width:300px; height:20px; vertical-align: middle;'></progress>\n",
                                          "      [1859/2679 2:10:29 < 57:37, 0.24 it/s, Epoch 2.08/3]\n",
                                          "    </div>\n",
                                          "    <table border=\"1\" class=\"dataframe\">\n",
                                          "  <thead>\n",
                                          " <tr style=\"text-align: left;\">\n",
                                          "      <th>Epoch</th>\n",
                                          "      <th>Training Loss</th>\n",
                                          "      <th>Validation Loss</th>\n",
                                          "      <th>Accuracy</th>\n",
                                          "    </tr>\n",
                                          "  </thead>\n",
                                          "  <tbody>\n",
                                          "    <tr>\n",
                                          "      <td>1</td>\n",
                                          "      <td>2.088000</td>\n",
                                          "      <td>0.978048</td>\n",
                                          "      <td>0.584800</td>\n",
                                          "    </tr>\n",
                                          "    <tr>\n",
                                          "      <td>2</td>\n",
                                          "      <td>0.958800</td>\n",
                                          "      <td>0.894022</td>\n",
                                          "      <td>0.615600</td>\n",
                                          "    </tr>\n",
                                          "  </tbody>\n",
                                          "</table><p>"
                                    ],
                                    "text/plain": [
                                          "<IPython.core.display.HTML object>"
                                    ]
                              },
                              "metadata": {},
                              "output_type": "display_data"
                        },
                        {
                              "name": "stdout",
                              "output_type": "stream",
                              "text": [
                                    "<transformers.trainer_utils.EvalPrediction object at 0x7acac436c3d0>\n"
                              ]
                        },
                        {
                              "name": "stderr",
                              "output_type": "stream",
                              "text": [
                                    "/usr/local/lib/python3.10/dist-packages/torch/utils/checkpoint.py:464: UserWarning: torch.utils.checkpoint: the use_reentrant parameter should be passed explicitly. In version 2.4 we will raise an exception if use_reentrant is not passed. use_reentrant=False is recommended, but if you need to preserve the current default behavior, you can pass use_reentrant=True. Refer to docs for more details on the differences between the two variants.\n",
                                    "  warnings.warn(\n"
                              ]
                        },
                        {
                              "name": "stdout",
                              "output_type": "stream",
                              "text": [
                                    "<transformers.trainer_utils.EvalPrediction object at 0x7acac32580d0>\n"
                              ]
                        },
                        {
                              "name": "stderr",
                              "output_type": "stream",
                              "text": [
                                    "/usr/local/lib/python3.10/dist-packages/torch/utils/checkpoint.py:464: UserWarning: torch.utils.checkpoint: the use_reentrant parameter should be passed explicitly. In version 2.4 we will raise an exception if use_reentrant is not passed. use_reentrant=False is recommended, but if you need to preserve the current default behavior, you can pass use_reentrant=True. Refer to docs for more details on the differences between the two variants.\n",
                                    "  warnings.warn(\n"
                              ]
                        },
                        {
                              "data": {
                                    "text/html": [
                                          "\n",
                                          "    <div>\n",
                                          "      \n",
                                          "      <progress value='2679' max='2679' style='width:300px; height:20px; vertical-align: middle;'></progress>\n",
                                          "      [2679/2679 3:08:13, Epoch 3/3]\n",
                                          "    </div>\n",
                                          "    <table border=\"1\" class=\"dataframe\">\n",
                                          "  <thead>\n",
                                          " <tr style=\"text-align: left;\">\n",
                                          "      <th>Epoch</th>\n",
                                          "      <th>Training Loss</th>\n",
                                          "      <th>Validation Loss</th>\n",
                                          "      <th>Accuracy</th>\n",
                                          "    </tr>\n",
                                          "  </thead>\n",
                                          "  <tbody>\n",
                                          "    <tr>\n",
                                          "      <td>1</td>\n",
                                          "      <td>2.088000</td>\n",
                                          "      <td>0.978048</td>\n",
                                          "      <td>0.584800</td>\n",
                                          "    </tr>\n",
                                          "    <tr>\n",
                                          "      <td>2</td>\n",
                                          "      <td>0.958800</td>\n",
                                          "      <td>0.894022</td>\n",
                                          "      <td>0.615600</td>\n",
                                          "    </tr>\n",
                                          "    <tr>\n",
                                          "      <td>3</td>\n",
                                          "      <td>0.914700</td>\n",
                                          "      <td>0.891830</td>\n",
                                          "      <td>0.616800</td>\n",
                                          "    </tr>\n",
                                          "  </tbody>\n",
                                          "</table><p>"
                                    ],
                                    "text/plain": [
                                          "<IPython.core.display.HTML object>"
                                    ]
                              },
                              "metadata": {},
                              "output_type": "display_data"
                        },
                        {
                              "name": "stdout",
                              "output_type": "stream",
                              "text": [
                                    "<transformers.trainer_utils.EvalPrediction object at 0x7acac2f43c10>\n"
                              ]
                        },
                        {
                              "data": {
                                    "text/plain": [
                                          "TrainOutput(global_step=2679, training_loss=1.1650676093647934, metrics={'train_runtime': 11299.1288, 'train_samples_per_second': 53.101, 'train_steps_per_second': 0.237, 'total_flos': 2.417754341376e+17, 'train_loss': 1.1650676093647934, 'epoch': 3.0})"
                                    ]
                              },
                              "metadata": {},
                              "output_type": "display_data"
                        }
                  ],
                  "source": [
                        "trainer.train()"
                  ]
            },
            {
                  "cell_type": "markdown",
                  "metadata": {},
                  "source": [
                        "### Evaluation"
                  ]
            },
            {
                  "cell_type": "markdown",
                  "metadata": {},
                  "source": [
                        "Once trained we evaluate on the test dataset"
                  ]
            },
            {
                  "cell_type": "code",
                  "execution_count": null,
                  "metadata": {},
                  "outputs": [
                        {
                              "data": {
                                    "text/html": [
                                          "\n",
                                          "    <div>\n",
                                          "      \n",
                                          "      <progress value='23' max='23' style='width:300px; height:20px; vertical-align: middle;'></progress>\n",
                                          "      [23/23 00:27]\n",
                                          "    </div>\n",
                                          "    "
                                    ],
                                    "text/plain": [
                                          "<IPython.core.display.HTML object>"
                                    ]
                              },
                              "metadata": {},
                              "output_type": "display_data"
                        },
                        {
                              "name": "stdout",
                              "output_type": "stream",
                              "text": [
                                    "<transformers.trainer_utils.EvalPrediction object at 0x7acb316fe5c0>\n"
                              ]
                        },
                        {
                              "data": {
                                    "text/plain": [
                                          "{'eval_loss': 0.8883273601531982,\n",
                                          " 'eval_accuracy': 0.615,\n",
                                          " 'eval_runtime': 28.5566,\n",
                                          " 'eval_samples_per_second': 175.091,\n",
                                          " 'eval_steps_per_second': 0.805,\n",
                                          " 'epoch': 3.0}"
                                    ]
                              },
                              "metadata": {},
                              "output_type": "display_data"
                        }
                  ],
                  "source": [
                        "trainer.evaluate(eval_dataset=subset_dataset_test)"
                  ]
            },
            {
                  "cell_type": "markdown",
                  "metadata": {},
                  "source": [
                        "### Publish the model"
                  ]
            },
            {
                  "cell_type": "markdown",
                  "metadata": {},
                  "source": [
                        "We create a model card"
                  ]
            },
            {
                  "cell_type": "code",
                  "execution_count": null,
                  "metadata": {},
                  "outputs": [],
                  "source": [
                        "trainer.create_model_card()"
                  ]
            },
            {
                  "cell_type": "markdown",
                  "metadata": {},
                  "source": [
                        "We publish it"
                  ]
            },
            {
                  "cell_type": "code",
                  "execution_count": null,
                  "metadata": {},
                  "outputs": [],
                  "source": [
                        "trainer.push_to_hub()"
                  ]
            },
            {
                  "cell_type": "markdown",
                  "metadata": {},
                  "source": [
                        "### Test the model"
                  ]
            },
            {
                  "cell_type": "markdown",
                  "metadata": {},
                  "source": [
                        "Let's approve the model"
                  ]
            },
            {
                  "cell_type": "code",
                  "execution_count": 9,
                  "metadata": {},
                  "outputs": [
                        {
                              "name": "stderr",
                              "output_type": "stream",
                              "text": [
                                    "/home/sae00531/miniconda3/envs/nlp_/lib/python3.11/site-packages/huggingface_hub/file_download.py:1132: FutureWarning: `resume_download` is deprecated and will be removed in version 1.0.0. Downloads always resume when possible. If you want to force a new download, use `force_download=True`.\n",
                                    "  warnings.warn(\n",
                                    "Some weights of GPT2ForSequenceClassification were not initialized from the model checkpoint at openai-community/gpt2 and are newly initialized: ['score.weight']\n",
                                    "You should probably TRAIN this model on a down-stream task to be able to use it for predictions and inference.\n",
                                    "/home/sae00531/miniconda3/envs/nlp_/lib/python3.11/site-packages/peft/tuners/lora/layer.py:1119: UserWarning: fan_in_fan_out is set to False but the target module is `Conv1D`. Setting fan_in_fan_out to True.\n",
                                    "  warnings.warn(\n",
                                    "Loading adapter weights from maximofn/GPT2-small-QLoRA-finetuned-amazon-reviews-en-classification led to unexpected keys not found in the model:  ['score.modules_to_save.default.base_layer.weight', 'score.modules_to_save.default.lora_A.default.weight', 'score.modules_to_save.default.lora_B.default.weight', 'score.modules_to_save.default.modules_to_save.lora_A.default.weight', 'score.modules_to_save.default.modules_to_save.lora_B.default.weight', 'score.modules_to_save.default.original_module.lora_A.default.weight', 'score.modules_to_save.default.original_module.lora_B.default.weight']. \n"
                              ]
                        }
                  ],
                  "source": [
                        "from transformers import AutoTokenizer, AutoModelForSequenceClassification\n",
                        "import torch\n",
                        "\n",
                        "model_name = \"GPT2-small-QLoRA-finetuned-amazon-reviews-en-classification\"\n",
                        "user = \"maximofn\"\n",
                        "checkpoint = f\"{user}/{model_name}\"\n",
                        "num_classes = 5\n",
                        "\n",
                        "tokenizer = AutoTokenizer.from_pretrained(checkpoint)\n",
                        "model = AutoModelForSequenceClassification.from_pretrained(checkpoint, num_labels=num_classes).half().eval().to(\"cuda\")"
                  ]
            },
            {
                  "cell_type": "code",
                  "execution_count": 7,
                  "metadata": {},
                  "outputs": [
                        {
                              "data": {
                                    "text/plain": [
                                          "[0.0186614990234375,\n",
                                          " 0.483642578125,\n",
                                          " 0.048187255859375,\n",
                                          " 0.415283203125,\n",
                                          " 0.03399658203125]"
                                    ]
                              },
                              "execution_count": 7,
                              "metadata": {},
                              "output_type": "execute_result"
                        }
                  ],
                  "source": [
                        "tokens = tokenizer.encode(\"I love this product\", return_tensors=\"pt\").to(model.device)\n",
                        "with torch.no_grad():\n",
                        "    output = model(tokens)\n",
                        "logits = output.logits\n",
                        "lables = torch.softmax(logits, dim=1).cpu().numpy().tolist()\n",
                        "lables[0]"
                  ]
            }
      ],
      "metadata": {
            "kernelspec": {
                  "display_name": "nlp_",
                  "language": "python",
                  "name": "python3"
            },
            "language_info": {
                  "codemirror_mode": {
                        "name": "ipython",
                        "version": 3
                  },
                  "file_extension": ".py",
                  "mimetype": "text/x-python",
                  "name": "python",
                  "nbconvert_exporter": "python",
                  "pygments_lexer": "ipython3",
                  "version": "3.11.9"
            }
      },
      "nbformat": 4,
      "nbformat_minor": 2
}
