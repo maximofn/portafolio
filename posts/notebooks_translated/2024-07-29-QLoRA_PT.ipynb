{
      "cells": [
            {
                  "cell_type": "markdown",
                  "metadata": {},
                  "source": [
                        "# QLoRA: ajuste fino eficiente de LLMs quantizados"
                  ]
            },
            {
                  "cell_type": "markdown",
                  "metadata": {},
                  "source": [
                        "Este caderno foi traduzido automaticamente para torná-lo acessível a mais pessoas, por favor me avise se você vir algum erro de digitação.."
                  ]
            },
            {
                  "cell_type": "markdown",
                  "metadata": {},
                  "source": [
                        "Embora [LoRA](https://maximofn.com/lora/) ofereça uma maneira de ajustar os modelos de linguagem sem a necessidade de GPUs com grandes VRAMs, no artigo [QLoRA](https://arxiv.org/abs/2305.14314) eles vão além e propõem uma maneira de ajustar os modelos quantizados, tornando ainda menos necessária a memória para o ajuste fino dos modelos de linguagem."
                  ]
            },
            {
                  "cell_type": "markdown",
                  "metadata": {},
                  "source": [
                        "## LoRA"
                  ]
            },
            {
                  "cell_type": "markdown",
                  "metadata": {},
                  "source": [
                        "### Atualização de pesos em uma rede neural"
                  ]
            },
            {
                  "cell_type": "markdown",
                  "metadata": {},
                  "source": [
                        "Para entender como o LoRA funciona, primeiro precisamos lembrar o que acontece quando treinamos um modelo. Vamos voltar à parte mais básica da aprendizagem profunda: temos uma camada densa de uma rede neural que é definida como:\n",
                        "\n",
                        "$$\n",
                        "y = Wx + b\n",
                        "$$\n",
                        "\n",
                        "Onde $W$ é a matriz de pesos e $b$ é o vetor de polarização.\n",
                        "\n",
                        "Para simplificar, vamos supor que não haja viés, de modo que ficaria assim\n",
                        "\n",
                        "$$\n",
                        "y = Wx\n",
                        "$$\n",
                        "\n",
                        "Suponha que, para uma entrada $x$, queremos que ela tenha uma saída $ŷ$.\n",
                        "\n",
                        " * Primeiro, calculamos o resultado que obtemos com nosso valor atual de pesos $W$, ou seja, obtemos o valor $y$.\n",
                        " * Em seguida, calculamos o erro que existe entre o valor de $y$ que obtivemos e o valor que queríamos obter $ŷ$. Chamamos esse erro de $loss$ e o calculamos com alguma função matemática, não importa qual.\n",
                        " * Calculamos a derivada do erro $loss$ com relação à matriz de peso $W$, ou seja, $$Delta W = \\frac{dloss}{dW}$.\n",
                        " * Atualizamos os pesos $W$ subtraindo de cada um de seus valores o valor do gradiente multiplicado por um fator de aprendizado $alpha$, ou seja, $W = W - \\alpha \\Delta W$."
                  ]
            },
            {
                  "cell_type": "markdown",
                  "metadata": {},
                  "source": [
                        "### LoRA"
                  ]
            },
            {
                  "cell_type": "markdown",
                  "metadata": {},
                  "source": [
                        "O que os autores do LoRA propõem é que a matriz de peso $W$ possa ser decomposta em\n",
                        "\n",
                        "$$\n",
                        "W \\sim W + Delta W\n",
                        "$$\n",
                        "\n",
                        "Portanto, ao congelar a matriz $W$ e treinar somente a matriz $\"Delta W$, é possível obter um modelo que se ajusta aos novos dados sem precisar treinar novamente o modelo inteiro.\n",
                        "\n",
                        "Mas você pode pensar que $$Delta W$ é uma matriz de tamanho igual a $W$ e, portanto, nada foi ganho, mas aqui os autores se baseiam em `Aghajanyan et al. (2020)`, um artigo no qual eles mostraram que, embora os modelos de linguagem sejam grandes e seus parâmetros sejam matrizes com dimensões muito grandes, para adaptá-los a novas tarefas não é necessário alterar todos os valores das matrizes, mas alterar alguns valores é suficiente, o que, em termos técnicos, é chamado de Low Rank Adaptation (LoRA). Daí o nome LoRA (Low Rank Adaptation)."
                  ]
            },
            {
                  "cell_type": "markdown",
                  "metadata": {},
                  "source": [
                        "Congelamos o modelo e agora queremos treinar a matriz $$Delta W$. Vamos supor que tanto $W$ quanto $$Delta W$ sejam matrizes de tamanho $20$, portanto, temos 200 parâmetros treináveis.\n",
                        "\n",
                        "Agora, vamos supor que a matriz $$Delta W$ possa ser decomposta no produto de duas matrizes $A$ e $B$, ou seja\n",
                        "\n",
                        "$$\n",
                        "\\Delta W = A \\cdot B\n",
                        "$$\n",
                        "\n",
                        "Para que essa multiplicação ocorra, os tamanhos das matrizes $A$ e $B$ devem ser $20 \\times n$ e $n \\times 10$, respectivamente. Suponha que $n = 5$, então $A$ teria o tamanho de $20 \\times 5$, ou seja, 100 parâmetros, e $B$ o tamanho de $5 \\times 10$, ou seja, 50 parâmetros, de modo que teríamos 100+50=150 parâmetros treináveis. Já temos menos parâmetros treináveis do que antes\n",
                        "\n",
                        "Agora vamos supor que $W$ seja, na verdade, uma matriz de tamanho $10.000 \\times 10.000$, de modo que teríamos 100.000.000 parâmetros treináveis, mas se decompusermos $Delta W$ em $A$ e $B$ com $n = 5$, teríamos uma matriz de tamanho $10.000 \\times 5$ e outra de tamanho $5 \\times 10.000$, de modo que teríamos 50.000 parâmetros de uma e outros 50.000 parâmetros da outra, em um total de 100.000 parâmetros treináveis, ou seja, reduzimos o número de parâmetros 1.000 vezes.\n",
                        "\n",
                        "Você já pode ver o poder do LoRA: quando você tem modelos muito grandes, o número de parâmetros treináveis pode ser bastante reduzido.\n",
                        "\n",
                        "Se olharmos novamente para a imagem da arquitetura do LoRA, entenderemos melhor.\n",
                        "\n",
                        "![LoRA adapt](https://pub-fb664c455eca46a2ba762a065ac900f7.r2.dev/LoRA_adapat.webp)\n",
                        "\n",
                        "Mas a economia no número de parâmetros treináveis com essa imagem parece ainda melhor.\n",
                        "\n",
                        "LoRA matmul](https://pub-fb664c455eca46a2ba762a065ac900f7.r2.dev/Lora_matmul.webp)"
                  ]
            },
            {
                  "cell_type": "markdown",
                  "metadata": {},
                  "source": [
                        "## QLoRA"
                  ]
            },
            {
                  "cell_type": "markdown",
                  "metadata": {},
                  "source": [
                        "O QLoRA é realizado em duas etapas: a primeira é quantificar o modelo e a segunda é aplicar o LoRA ao modelo quantificado."
                  ]
            },
            {
                  "cell_type": "markdown",
                  "metadata": {},
                  "source": [
                        "### Quantificação de QLoRA"
                  ]
            },
            {
                  "cell_type": "markdown",
                  "metadata": {},
                  "source": [
                        "A quantização do QLoRA baseia-se em três conceitos: quantização do modelo de 4 bits com o formato normal float 4 (NF4), quantização dupla e otimizadores paginados. Tudo isso junto permite economizar muita memória ao fazer o ajuste fino dos modelos de linguagem, portanto, vamos ver em que consiste cada um deles."
                  ]
            },
            {
                  "cell_type": "markdown",
                  "metadata": {},
                  "source": [
                        "#### Quantificação de modelos de linguagem em normal float 4 (NF4)"
                  ]
            },
            {
                  "cell_type": "markdown",
                  "metadata": {},
                  "source": [
                        "No QLoRA, para quantificar, o que se faz é quantificar no formato normal float 4 (NF4), que é um tipo de quantização de 4 bits para que seus dados tenham uma distribuição normal, ou seja, sigam um sino gaussiano. Para que eles sigam essa distribuição, o que se faz é dividir os valores dos pesos no FP16 em quantis, de modo que em cada quantil haja o mesmo número de valores. Quando tivermos os quantis, cada quantil receberá um valor em 4 bits\n",
                        "\n",
                        "QLoRA-normal-float-quantization](https://pub-fb664c455eca46a2ba762a065ac900f7.r2.dev/QLoRA-normal-float-quantization.webp)"
                  ]
            },
            {
                  "cell_type": "markdown",
                  "metadata": {},
                  "source": [
                        "Para realizar essa quantização, ele usa o algoritmo de quantização SRAM, que é um algoritmo de quantização de quantis muito rápido por quantis, mas apresenta muitos erros com valores que estão muito distantes na distribuição de sino gaussiana, outliers."
                  ]
            },
            {
                  "cell_type": "markdown",
                  "metadata": {},
                  "source": [
                        "Como os parâmetros dos pesos de uma rede neural geralmente seguem uma distribuição normal (ou seja, seguem um sino gaussiano), centrados em zero e com um desvio padrão σ. Eles são normalizados para ter um desvio padrão entre -1 e 1 e, em seguida, quantizados no formato NF4."
                  ]
            },
            {
                  "cell_type": "markdown",
                  "metadata": {},
                  "source": [
                        "#### Quantização dupla"
                  ]
            },
            {
                  "cell_type": "markdown",
                  "metadata": {},
                  "source": [
                        "Conforme mencionado acima, ao quantificar os parâmetros de rede, precisamos normalizá-los para que tenham um desvio padrão entre -1 e 1 e, em seguida, quantificá-los no formato NF4. Portanto, precisamos armazenar alguns parâmetros como os valores para normalizar os parâmetros, ou seja, o valor pelo qual os dados são divididos para ter um desvio entre -1 e 1. Esses valores são armazenados no formato FP32, portanto, os autores do artigo propõem quantificar esses parâmetros no formato FP8."
                  ]
            },
            {
                  "cell_type": "markdown",
                  "metadata": {},
                  "source": [
                        "Embora isso possa parecer não economizar muita memória, os autores estimam que isso pode economizar cerca de 0,373 bits por parâmetro, mas se, por exemplo, tivermos um modelo de 8B parâmetros, que não é um modelo excessivamente grande para os padrões atuais, economizaríamos cerca de 3 GB de memória, o que não é ruim. No caso de um modelo de 70B parâmetros, economizaríamos cerca de 26 GB de memória."
                  ]
            },
            {
                  "cell_type": "markdown",
                  "metadata": {},
                  "source": [
                        "#### Otimizadores paginados"
                  ]
            },
            {
                  "cell_type": "markdown",
                  "metadata": {},
                  "source": [
                        "As GPUs da Nvidia têm a opção de compartilhar a RAM da GPU e da CPU, portanto, o que elas fazem é armazenar os estados do otimizador na RAM da CPU e acessá-los quando necessário. Assim, eles não precisam ser armazenados na RAM da GPU e podemos economizar memória da GPU."
                  ]
            },
            {
                  "cell_type": "markdown",
                  "metadata": {},
                  "source": [
                        "### Ajuste fino com LoRA"
                  ]
            },
            {
                  "cell_type": "markdown",
                  "metadata": {},
                  "source": [
                        "Depois de quantizar o modelo, podemos fazer o ajuste fino do modelo quantizado, como em [LoRA] (https://maximofn.com/lora/)."
                  ]
            },
            {
                  "cell_type": "markdown",
                  "metadata": {},
                  "source": [
                        "## Como fazer o ajuste fino de um modelo quantizado com QLoRA"
                  ]
            },
            {
                  "cell_type": "markdown",
                  "metadata": {},
                  "source": [
                        "Agora que já explicamos o QLoRA, vamos ver um exemplo de como ajustar um modelo usando o QLoRA."
                  ]
            },
            {
                  "cell_type": "markdown",
                  "metadata": {},
                  "source": [
                        "### Faça login no hub do Hugging Face"
                  ]
            },
            {
                  "cell_type": "markdown",
                  "metadata": {},
                  "source": [
                        "Primeiro, fazemos login para carregar o modelo treinado no Hub."
                  ]
            },
            {
                  "cell_type": "code",
                  "execution_count": 100,
                  "metadata": {},
                  "outputs": [],
                  "source": [
                        "from huggingface_hub import notebook_login\n",
                        "notebook_login()"
                  ]
            },
            {
                  "cell_type": "markdown",
                  "metadata": {},
                  "source": [
                        "### Conjunto de dados"
                  ]
            },
            {
                  "cell_type": "markdown",
                  "metadata": {},
                  "source": [
                        "Baixamos o conjunto de dados que usaremos, que é um conjunto de dados de avaliações da [Amazon](https://huggingface.co/datasets/mteb/amazon_reviews_multi)"
                  ]
            },
            {
                  "cell_type": "code",
                  "execution_count": 1,
                  "metadata": {},
                  "outputs": [
                        {
                              "data": {
                                    "text/plain": [
                                          "DatasetDict({\n",
                                          "    train: Dataset({\n",
                                          "        features: ['id', 'text', 'label', 'label_text'],\n",
                                          "        num_rows: 200000\n",
                                          "    })\n",
                                          "    validation: Dataset({\n",
                                          "        features: ['id', 'text', 'label', 'label_text'],\n",
                                          "        num_rows: 5000\n",
                                          "    })\n",
                                          "    test: Dataset({\n",
                                          "        features: ['id', 'text', 'label', 'label_text'],\n",
                                          "        num_rows: 5000\n",
                                          "    })\n",
                                          "})"
                                    ]
                              },
                              "execution_count": 1,
                              "metadata": {},
                              "output_type": "execute_result"
                        }
                  ],
                  "source": [
                        "from datasets import load_dataset\n",
                        "\n",
                        "dataset = load_dataset(\"mteb/amazon_reviews_multi\", \"en\")\n",
                        "dataset"
                  ]
            },
            {
                  "cell_type": "markdown",
                  "metadata": {},
                  "source": [
                        "Criamos um subconjunto para o caso de você querer testar o código com um conjunto de dados menor. No meu caso, usarei 100% do conjunto de dados."
                  ]
            },
            {
                  "cell_type": "code",
                  "execution_count": 2,
                  "metadata": {},
                  "outputs": [
                        {
                              "data": {
                                    "text/plain": [
                                          "(Dataset({\n",
                                          "     features: ['id', 'text', 'label', 'label_text'],\n",
                                          "     num_rows: 200000\n",
                                          " }),\n",
                                          " Dataset({\n",
                                          "     features: ['id', 'text', 'label', 'label_text'],\n",
                                          "     num_rows: 5000\n",
                                          " }),\n",
                                          " Dataset({\n",
                                          "     features: ['id', 'text', 'label', 'label_text'],\n",
                                          "     num_rows: 5000\n",
                                          " }))"
                                    ]
                              },
                              "execution_count": 2,
                              "metadata": {},
                              "output_type": "execute_result"
                        }
                  ],
                  "source": [
                        "percentage = 1\n",
                        "\n",
                        "subset_dataset_train = dataset['train'].select(range(int(len(dataset['train']) * percentage)))\n",
                        "subset_dataset_validation = dataset['validation'].select(range(int(len(dataset['validation']) * percentage)))\n",
                        "subset_dataset_test = dataset['test'].select(range(int(len(dataset['test']) * percentage)))\n",
                        "\n",
                        "subset_dataset_train, subset_dataset_validation, subset_dataset_test"
                  ]
            },
            {
                  "cell_type": "markdown",
                  "metadata": {},
                  "source": [
                        "Vemos uma amostra"
                  ]
            },
            {
                  "cell_type": "code",
                  "execution_count": 3,
                  "metadata": {},
                  "outputs": [
                        {
                              "data": {
                                    "text/plain": [
                                          "{'id': 'en_0297000',\n",
                                          " 'text': 'Not waterproof at all\\n\\nBought this after reading good reviews. But it’s not water proof at all. If my son has even a little accident in bed, it goes straight to mattress. I don’t see a point in having this. So I have to purchase another one.',\n",
                                          " 'label': 0,\n",
                                          " 'label_text': '0'}"
                                    ]
                              },
                              "execution_count": 3,
                              "metadata": {},
                              "output_type": "execute_result"
                        }
                  ],
                  "source": [
                        "from random import randint\n",
                        "\n",
                        "idx = randint(0, len(subset_dataset_train))\n",
                        "subset_dataset_train[idx]"
                  ]
            },
            {
                  "cell_type": "markdown",
                  "metadata": {},
                  "source": [
                        "Para obter o número de classes, usamos `dataset['train']` e não `subset_dataset_train` porque, se o subconjunto for muito pequeno, talvez não haja exemplos com todas as classes possíveis do conjunto de dados original."
                  ]
            },
            {
                  "cell_type": "code",
                  "execution_count": 4,
                  "metadata": {},
                  "outputs": [
                        {
                              "data": {
                                    "text/plain": [
                                          "5"
                                    ]
                              },
                              "execution_count": 4,
                              "metadata": {},
                              "output_type": "execute_result"
                        }
                  ],
                  "source": [
                        "num_classes = len(dataset['train'].unique('label'))\n",
                        "num_classes"
                  ]
            },
            {
                  "cell_type": "markdown",
                  "metadata": {},
                  "source": [
                        "Criamos uma função para criar o campo `label` no conjunto de dados. O conjunto de dados baixado tem o campo `labels`, mas a biblioteca `transformers` precisa que o campo seja chamado `label` e não `labels`."
                  ]
            },
            {
                  "cell_type": "code",
                  "execution_count": 5,
                  "metadata": {},
                  "outputs": [],
                  "source": [
                        "def set_labels(example):\n",
                        "    example['labels'] = example['label']\n",
                        "    return example"
                  ]
            },
            {
                  "cell_type": "markdown",
                  "metadata": {},
                  "source": [
                        "Aplicamos a função ao conjunto de dados"
                  ]
            },
            {
                  "cell_type": "code",
                  "execution_count": 6,
                  "metadata": {},
                  "outputs": [
                        {
                              "data": {
                                    "text/plain": [
                                          "(Dataset({\n",
                                          "     features: ['id', 'text', 'label', 'label_text', 'labels'],\n",
                                          "     num_rows: 200000\n",
                                          " }),\n",
                                          " Dataset({\n",
                                          "     features: ['id', 'text', 'label', 'label_text', 'labels'],\n",
                                          "     num_rows: 5000\n",
                                          " }),\n",
                                          " Dataset({\n",
                                          "     features: ['id', 'text', 'label', 'label_text', 'labels'],\n",
                                          "     num_rows: 5000\n",
                                          " }))"
                                    ]
                              },
                              "execution_count": 6,
                              "metadata": {},
                              "output_type": "execute_result"
                        }
                  ],
                  "source": [
                        "subset_dataset_train = subset_dataset_train.map(set_labels)\n",
                        "subset_dataset_validation = subset_dataset_validation.map(set_labels)\n",
                        "subset_dataset_test = subset_dataset_test.map(set_labels)\n",
                        "\n",
                        "subset_dataset_train, subset_dataset_validation, subset_dataset_test"
                  ]
            },
            {
                  "cell_type": "markdown",
                  "metadata": {},
                  "source": [
                        "Aqui está um exemplo novamente"
                  ]
            },
            {
                  "cell_type": "code",
                  "execution_count": 7,
                  "metadata": {},
                  "outputs": [
                        {
                              "data": {
                                    "text/plain": [
                                          "{'id': 'en_0297000',\n",
                                          " 'text': 'Not waterproof at all\\n\\nBought this after reading good reviews. But it’s not water proof at all. If my son has even a little accident in bed, it goes straight to mattress. I don’t see a point in having this. So I have to purchase another one.',\n",
                                          " 'label': 0,\n",
                                          " 'label_text': '0',\n",
                                          " 'labels': 0}"
                                    ]
                              },
                              "execution_count": 7,
                              "metadata": {},
                              "output_type": "execute_result"
                        }
                  ],
                  "source": [
                        "subset_dataset_train[idx]"
                  ]
            },
            {
                  "cell_type": "markdown",
                  "metadata": {},
                  "source": [
                        "### Tokenizer"
                  ]
            },
            {
                  "cell_type": "markdown",
                  "metadata": {},
                  "source": [
                        "Implementamos o tokenizador. Para evitar erros, atribuímos o token de fim de cadeia ao token de preenchimento."
                  ]
            },
            {
                  "cell_type": "code",
                  "execution_count": 8,
                  "metadata": {},
                  "outputs": [],
                  "source": [
                        "from transformers import AutoTokenizer\n",
                        "\n",
                        "checkpoint = \"openai-community/gpt2\"\n",
                        "tokenizer = AutoTokenizer.from_pretrained(checkpoint)\n",
                        "tokenizer.pad_token = tokenizer.eos_token"
                  ]
            },
            {
                  "cell_type": "markdown",
                  "metadata": {},
                  "source": [
                        "Criamos uma função para tokenizar o conjunto de dados"
                  ]
            },
            {
                  "cell_type": "code",
                  "execution_count": 9,
                  "metadata": {},
                  "outputs": [],
                  "source": [
                        "def tokenize_function(examples):\n",
                        "    return tokenizer(examples[\"text\"], padding=\"max_length\", truncation=True, max_length=768, return_tensors=\"pt\")"
                  ]
            },
            {
                  "cell_type": "markdown",
                  "metadata": {},
                  "source": [
                        "Aplicamos a função ao conjunto de dados e removemos as colunas de que não precisamos."
                  ]
            },
            {
                  "cell_type": "code",
                  "execution_count": 10,
                  "metadata": {},
                  "outputs": [
                        {
                              "data": {
                                    "text/plain": [
                                          "(Dataset({\n",
                                          "     features: ['labels', 'input_ids', 'attention_mask'],\n",
                                          "     num_rows: 200000\n",
                                          " }),\n",
                                          " Dataset({\n",
                                          "     features: ['labels', 'input_ids', 'attention_mask'],\n",
                                          "     num_rows: 5000\n",
                                          " }),\n",
                                          " Dataset({\n",
                                          "     features: ['labels', 'input_ids', 'attention_mask'],\n",
                                          "     num_rows: 5000\n",
                                          " }))"
                                    ]
                              },
                              "execution_count": 10,
                              "metadata": {},
                              "output_type": "execute_result"
                        }
                  ],
                  "source": [
                        "subset_dataset_train = subset_dataset_train.map(tokenize_function, batched=True, remove_columns=['text', 'label', 'id', 'label_text'])\n",
                        "subset_dataset_validation = subset_dataset_validation.map(tokenize_function, batched=True, remove_columns=['text', 'label', 'id', 'label_text'])\n",
                        "subset_dataset_test = subset_dataset_test.map(tokenize_function, batched=True, remove_columns=['text', 'label', 'id', 'label_text'])\n",
                        "\n",
                        "subset_dataset_train, subset_dataset_validation, subset_dataset_test"
                  ]
            },
            {
                  "cell_type": "markdown",
                  "metadata": {},
                  "source": [
                        "Vemos uma amostra novamente, mas, nesse caso, vemos apenas as `chaves`."
                  ]
            },
            {
                  "cell_type": "code",
                  "execution_count": 11,
                  "metadata": {},
                  "outputs": [
                        {
                              "data": {
                                    "text/plain": [
                                          "dict_keys(['labels', 'input_ids', 'attention_mask'])"
                                    ]
                              },
                              "execution_count": 11,
                              "metadata": {},
                              "output_type": "execute_result"
                        }
                  ],
                  "source": [
                        "subset_dataset_train[idx].keys()"
                  ]
            },
            {
                  "cell_type": "markdown",
                  "metadata": {},
                  "source": [
                        "### Modelo"
                  ]
            },
            {
                  "cell_type": "markdown",
                  "metadata": {},
                  "source": [
                        "Primeiro, baixamos o modelo não quantizado"
                  ]
            },
            {
                  "cell_type": "code",
                  "execution_count": 1,
                  "metadata": {},
                  "outputs": [
                        {
                              "name": "stderr",
                              "output_type": "stream",
                              "text": [
                                    "Some weights of GPT2ForSequenceClassification were not initialized from the model checkpoint at openai-community/gpt2 and are newly initialized: ['score.weight']\n",
                                    "You should probably TRAIN this model on a down-stream task to be able to use it for predictions and inference.\n"
                              ]
                        }
                  ],
                  "source": [
                        "from transformers import AutoModelForSequenceClassification\n",
                        "\n",
                        "model = AutoModelForSequenceClassification.from_pretrained(checkpoint, num_labels=num_classes)\n",
                        "model.config.pad_token_id = model.config.eos_token_id"
                  ]
            },
            {
                  "cell_type": "markdown",
                  "metadata": {},
                  "source": [
                        "Vemos a memória que ele ocupa"
                  ]
            },
            {
                  "cell_type": "code",
                  "execution_count": 2,
                  "metadata": {},
                  "outputs": [
                        {
                              "name": "stdout",
                              "output_type": "stream",
                              "text": [
                                    "Model memory: 0.48 GB\n"
                              ]
                        }
                  ],
                  "source": [
                        "model_memory = model.get_memory_footprint()/(1024**3)\n",
                        "print(f\"Model memory: {model_memory:.2f} GB\")"
                  ]
            },
            {
                  "cell_type": "markdown",
                  "metadata": {},
                  "source": [
                        "Passamos o modelo para o FP16 e verificamos novamente a memória que ele ocupa."
                  ]
            },
            {
                  "cell_type": "code",
                  "execution_count": 14,
                  "metadata": {},
                  "outputs": [],
                  "source": [
                        "model = model.half()"
                  ]
            },
            {
                  "cell_type": "code",
                  "execution_count": 15,
                  "metadata": {},
                  "outputs": [
                        {
                              "name": "stdout",
                              "output_type": "stream",
                              "text": [
                                    "Model memory: 0.24 GB\n"
                              ]
                        }
                  ],
                  "source": [
                        "model_memory = model.get_memory_footprint()/(1024**3)\n",
                        "print(f\"Model memory: {model_memory:.2f} GB\")"
                  ]
            },
            {
                  "cell_type": "markdown",
                  "metadata": {},
                  "source": [
                        "Analisamos a arquitetura do modelo antes de quantificar."
                  ]
            },
            {
                  "cell_type": "code",
                  "execution_count": 16,
                  "metadata": {},
                  "outputs": [
                        {
                              "data": {
                                    "text/plain": [
                                          "GPT2ForSequenceClassification(\n",
                                          "  (transformer): GPT2Model(\n",
                                          "    (wte): Embedding(50257, 768)\n",
                                          "    (wpe): Embedding(1024, 768)\n",
                                          "    (drop): Dropout(p=0.1, inplace=False)\n",
                                          "    (h): ModuleList(\n",
                                          "      (0-11): 12 x GPT2Block(\n",
                                          "        (ln_1): LayerNorm((768,), eps=1e-05, elementwise_affine=True)\n",
                                          "        (attn): GPT2Attention(\n",
                                          "          (c_attn): Conv1D()\n",
                                          "          (c_proj): Conv1D()\n",
                                          "          (attn_dropout): Dropout(p=0.1, inplace=False)\n",
                                          "          (resid_dropout): Dropout(p=0.1, inplace=False)\n",
                                          "        )\n",
                                          "        (ln_2): LayerNorm((768,), eps=1e-05, elementwise_affine=True)\n",
                                          "        (mlp): GPT2MLP(\n",
                                          "          (c_fc): Conv1D()\n",
                                          "          (c_proj): Conv1D()\n",
                                          "          (act): NewGELUActivation()\n",
                                          "          (dropout): Dropout(p=0.1, inplace=False)\n",
                                          "        )\n",
                                          "      )\n",
                                          "    )\n",
                                          "    (ln_f): LayerNorm((768,), eps=1e-05, elementwise_affine=True)\n",
                                          "  )\n",
                                          "  (score): Linear(in_features=768, out_features=5, bias=False)\n",
                                          ")"
                                    ]
                              },
                              "execution_count": 16,
                              "metadata": {},
                              "output_type": "execute_result"
                        }
                  ],
                  "source": [
                        "model"
                  ]
            },
            {
                  "cell_type": "markdown",
                  "metadata": {},
                  "source": [
                        "### Quantificação do modelo"
                  ]
            },
            {
                  "cell_type": "markdown",
                  "metadata": {},
                  "source": [
                        "Para quantificar o modelo, primeiro precisamos criar a configuração de quantização. Para isso, usamos a biblioteca `bitsandbytes`; se você não a tiver instalada, poderá fazê-lo com\n",
                        "\n",
                        "```bash\n",
                        "pip install bitsandbytes\n",
                        "```"
                  ]
            },
            {
                  "cell_type": "markdown",
                  "metadata": {},
                  "source": [
                        "Primeiro, verificamos se nossa arquitetura de GPU permite o formato BF16; se não permitir, usaremos o FP16.\n",
                        "\n",
                        "Em seguida, criamos a configuração de quantização, com `load_in_4bits=True` indicamos que ele quantiza em 4 bits, com `bnb_4bit_quant_type=\"nf4\"` indicamos que ele faz isso no formato NF4, com `bnb_4bit_use_double_quant=True` dizemos a ele para fazer a quantização dupla e com `bnb_4bit_compute_dtype=compute_dtype` dizemos a ele qual formato de dados usar ao quantificar, que pode ser FP16 ou BF16. "
                  ]
            },
            {
                  "cell_type": "code",
                  "execution_count": 17,
                  "metadata": {},
                  "outputs": [],
                  "source": [
                        "from transformers import BitsAndBytesConfig\n",
                        "import torch\n",
                        "\n",
                        "compute_dtype = torch.bfloat16 if torch.cuda.is_bf16_supported() else torch.float16\n",
                        "\n",
                        "bnb_config = BitsAndBytesConfig(\n",
                        "    load_in_4bit=True,\n",
                        "    bnb_4bit_quant_type=\"nf4\",\n",
                        "    bnb_4bit_use_double_quant=True,\n",
                        "    bnb_4bit_compute_dtype=compute_dtype,\n",
                        ")"
                  ]
            },
            {
                  "cell_type": "markdown",
                  "metadata": {},
                  "source": [
                        "E agora quantificamos o modelo"
                  ]
            },
            {
                  "cell_type": "code",
                  "execution_count": 21,
                  "metadata": {},
                  "outputs": [
                        {
                              "name": "stderr",
                              "output_type": "stream",
                              "text": [
                                    "`low_cpu_mem_usage` was None, now set to True since model is quantized.\n",
                                    "Some weights of GPT2ForSequenceClassification were not initialized from the model checkpoint at openai-community/gpt2 and are newly initialized: ['score.weight']\n",
                                    "You should probably TRAIN this model on a down-stream task to be able to use it for predictions and inference.\n"
                              ]
                        }
                  ],
                  "source": [
                        "from transformers import AutoModelForSequenceClassification\n",
                        "\n",
                        "model = AutoModelForSequenceClassification.from_pretrained(checkpoint, num_labels=num_classes, quantization_config=bnb_config)"
                  ]
            },
            {
                  "cell_type": "markdown",
                  "metadata": {},
                  "source": [
                        "Vamos examinar novamente o espaço ocupado pela memória, agora que já o quantificamos."
                  ]
            },
            {
                  "cell_type": "code",
                  "execution_count": 22,
                  "metadata": {},
                  "outputs": [
                        {
                              "name": "stdout",
                              "output_type": "stream",
                              "text": [
                                    "Model memory: 0.12 GB\n"
                              ]
                        }
                  ],
                  "source": [
                        "model_memory = model.get_memory_footprint()/(1024**3)\n",
                        "print(f\"Model memory: {model_memory:.2f} GB\")"
                  ]
            },
            {
                  "cell_type": "markdown",
                  "metadata": {},
                  "source": [
                        "Vemos que o tamanho do modelo foi reduzido."
                  ]
            },
            {
                  "cell_type": "markdown",
                  "metadata": {},
                  "source": [
                        "Vamos examinar novamente a arquitetura do modelo depois que ele tiver sido quantificado."
                  ]
            },
            {
                  "cell_type": "code",
                  "execution_count": 23,
                  "metadata": {},
                  "outputs": [
                        {
                              "data": {
                                    "text/plain": [
                                          "GPT2ForSequenceClassification(\n",
                                          "  (transformer): GPT2Model(\n",
                                          "    (wte): Embedding(50257, 768)\n",
                                          "    (wpe): Embedding(1024, 768)\n",
                                          "    (drop): Dropout(p=0.1, inplace=False)\n",
                                          "    (h): ModuleList(\n",
                                          "      (0-11): 12 x GPT2Block(\n",
                                          "        (ln_1): LayerNorm((768,), eps=1e-05, elementwise_affine=True)\n",
                                          "        (attn): GPT2Attention(\n",
                                          "          (c_attn): Linear4bit(in_features=768, out_features=2304, bias=True)\n",
                                          "          (c_proj): Linear4bit(in_features=768, out_features=768, bias=True)\n",
                                          "          (attn_dropout): Dropout(p=0.1, inplace=False)\n",
                                          "          (resid_dropout): Dropout(p=0.1, inplace=False)\n",
                                          "        )\n",
                                          "        (ln_2): LayerNorm((768,), eps=1e-05, elementwise_affine=True)\n",
                                          "        (mlp): GPT2MLP(\n",
                                          "          (c_fc): Linear4bit(in_features=768, out_features=3072, bias=True)\n",
                                          "          (c_proj): Linear4bit(in_features=3072, out_features=768, bias=True)\n",
                                          "          (act): NewGELUActivation()\n",
                                          "          (dropout): Dropout(p=0.1, inplace=False)\n",
                                          "        )\n",
                                          "      )\n",
                                          "    )\n",
                                          "    (ln_f): LayerNorm((768,), eps=1e-05, elementwise_affine=True)\n",
                                          "  )\n",
                                          "  (score): Linear(in_features=768, out_features=5, bias=False)\n",
                                          ")"
                                    ]
                              },
                              "execution_count": 23,
                              "metadata": {},
                              "output_type": "execute_result"
                        }
                  ],
                  "source": [
                        "model"
                  ]
            },
            {
                  "cell_type": "markdown",
                  "metadata": {},
                  "source": [
                        "Vemos que a arquitetura mudou\n",
                        "\n",
                        "QLoRA-model-vs-quantized-model](https://pub-fb664c455eca46a2ba762a065ac900f7.r2.dev/QLoRA-model-vs-quantized-model_.webp)\n",
                        "\n",
                        "Alterou as camadas `Conv1D` para camadas `Linear4bits`."
                  ]
            },
            {
                  "cell_type": "markdown",
                  "metadata": {},
                  "source": [
                        "### LoRA"
                  ]
            },
            {
                  "cell_type": "markdown",
                  "metadata": {},
                  "source": [
                        "Antes de implementar o LoRA, temos que configurar o modelo para treinar em 4 bits."
                  ]
            },
            {
                  "cell_type": "code",
                  "execution_count": 24,
                  "metadata": {},
                  "outputs": [],
                  "source": [
                        "from peft import prepare_model_for_kbit_training\n",
                        "\n",
                        "model = prepare_model_for_kbit_training(model)"
                  ]
            },
            {
                  "cell_type": "markdown",
                  "metadata": {},
                  "source": [
                        "Vamos ver se o tamanho do modelo foi alterado."
                  ]
            },
            {
                  "cell_type": "code",
                  "execution_count": 26,
                  "metadata": {},
                  "outputs": [
                        {
                              "name": "stdout",
                              "output_type": "stream",
                              "text": [
                                    "Model memory: 0.20 GB\n"
                              ]
                        }
                  ],
                  "source": [
                        "model_memory = model.get_memory_footprint()/(1024**3)\n",
                        "print(f\"Model memory: {model_memory:.2f} GB\")"
                  ]
            },
            {
                  "cell_type": "markdown",
                  "metadata": {},
                  "source": [
                        "A memória aumentou, portanto, examinamos novamente a arquitetura do modelo."
                  ]
            },
            {
                  "cell_type": "code",
                  "execution_count": 27,
                  "metadata": {},
                  "outputs": [
                        {
                              "data": {
                                    "text/plain": [
                                          "GPT2ForSequenceClassification(\n",
                                          "  (transformer): GPT2Model(\n",
                                          "    (wte): Embedding(50257, 768)\n",
                                          "    (wpe): Embedding(1024, 768)\n",
                                          "    (drop): Dropout(p=0.1, inplace=False)\n",
                                          "    (h): ModuleList(\n",
                                          "      (0-11): 12 x GPT2Block(\n",
                                          "        (ln_1): LayerNorm((768,), eps=1e-05, elementwise_affine=True)\n",
                                          "        (attn): GPT2Attention(\n",
                                          "          (c_attn): Linear4bit(in_features=768, out_features=2304, bias=True)\n",
                                          "          (c_proj): Linear4bit(in_features=768, out_features=768, bias=True)\n",
                                          "          (attn_dropout): Dropout(p=0.1, inplace=False)\n",
                                          "          (resid_dropout): Dropout(p=0.1, inplace=False)\n",
                                          "        )\n",
                                          "        (ln_2): LayerNorm((768,), eps=1e-05, elementwise_affine=True)\n",
                                          "        (mlp): GPT2MLP(\n",
                                          "          (c_fc): Linear4bit(in_features=768, out_features=3072, bias=True)\n",
                                          "          (c_proj): Linear4bit(in_features=3072, out_features=768, bias=True)\n",
                                          "          (act): NewGELUActivation()\n",
                                          "          (dropout): Dropout(p=0.1, inplace=False)\n",
                                          "        )\n",
                                          "      )\n",
                                          "    )\n",
                                          "    (ln_f): LayerNorm((768,), eps=1e-05, elementwise_affine=True)\n",
                                          "  )\n",
                                          "  (score): Linear(in_features=768, out_features=5, bias=False)\n",
                                          ")"
                                    ]
                              },
                              "execution_count": 27,
                              "metadata": {},
                              "output_type": "execute_result"
                        }
                  ],
                  "source": [
                        "model"
                  ]
            },
            {
                  "cell_type": "markdown",
                  "metadata": {},
                  "source": [
                        "A arquitetura permanece a mesma, portanto, presumimos que o aumento na memória é para alguma configuração extra para poder aplicar o LoRA em 4 bits"
                  ]
            },
            {
                  "cell_type": "markdown",
                  "metadata": {},
                  "source": [
                        "Criamos uma configuração do LoRA, mas, diferentemente da postagem [LoRA](https://maximofn.com/lora/), em que configuramos em `target_modeules` apenas a camada `scores`, agora também adicionaremos as camadas `c_attn`, `c_proj` e `c_fc`, pois agora elas são do tipo `Linear4bits` e não `Conv1D`."
                  ]
            },
            {
                  "cell_type": "code",
                  "execution_count": 28,
                  "metadata": {},
                  "outputs": [],
                  "source": [
                        "from peft import LoraConfig, TaskType\n",
                        "\n",
                        "config = LoraConfig(\n",
                        "    r=16,\n",
                        "    lora_alpha=32,\n",
                        "    lora_dropout=0.1,\n",
                        "    task_type=TaskType.SEQ_CLS,\n",
                        "    target_modules=['c_attn', 'c_fc', 'c_proj', 'score'],\n",
                        "    bias=\"none\",\n",
                        ")"
                  ]
            },
            {
                  "cell_type": "code",
                  "execution_count": 29,
                  "metadata": {},
                  "outputs": [],
                  "source": [
                        "from peft import get_peft_model\n",
                        "\n",
                        "model = get_peft_model(model, config)"
                  ]
            },
            {
                  "cell_type": "code",
                  "execution_count": 31,
                  "metadata": {},
                  "outputs": [
                        {
                              "name": "stdout",
                              "output_type": "stream",
                              "text": [
                                    "trainable params: 2,375,504 || all params: 126,831,520 || trainable%: 1.8730\n"
                              ]
                        }
                  ],
                  "source": [
                        "model.print_trainable_parameters()"
                  ]
            },
            {
                  "cell_type": "markdown",
                  "metadata": {},
                  "source": [
                        "Enquanto na postagem [LoRA](https://maximofn.com/lora/) tínhamos cerca de 12.000 parâmetros treináveis, agora temos cerca de 2 milhões, pois adicionamos as camadas `c_attn`, `c_proj` e `c_fc`."
                  ]
            },
            {
                  "cell_type": "markdown",
                  "metadata": {},
                  "source": [
                        "### Treinamento"
                  ]
            },
            {
                  "cell_type": "markdown",
                  "metadata": {},
                  "source": [
                        "Depois de instanciar o modelo quantizado e aplicar o LoRA, ou seja, depois de fazer o QLoRA, vamos treiná-lo como de costume."
                  ]
            },
            {
                  "cell_type": "code",
                  "execution_count": 32,
                  "metadata": {},
                  "outputs": [],
                  "source": [
                        "from transformers import TrainingArguments\n",
                        "\n",
                        "metric_name = \"accuracy\"\n",
                        "model_name = \"GPT2-small-QLoRA-finetuned-amazon-reviews-en-classification\"\n",
                        "LR = 2e-5\n",
                        "BS_TRAIN = 224\n",
                        "BS_EVAL = 224\n",
                        "EPOCHS = 3\n",
                        "WEIGHT_DECAY = 0.01\n",
                        "\n",
                        "training_args = TrainingArguments(\n",
                        "    model_name,\n",
                        "    eval_strategy=\"epoch\",\n",
                        "    save_strategy=\"epoch\",\n",
                        "    learning_rate=LR,\n",
                        "    per_device_train_batch_size=BS_TRAIN,\n",
                        "    per_device_eval_batch_size=BS_EVAL,\n",
                        "    num_train_epochs=EPOCHS,\n",
                        "    weight_decay=WEIGHT_DECAY,\n",
                        "    lr_scheduler_type=\"cosine\",\n",
                        "    warmup_ratio = 0.1,\n",
                        "    fp16=True,\n",
                        "    load_best_model_at_end=True,\n",
                        "    metric_for_best_model=metric_name,\n",
                        "    push_to_hub=True,\n",
                        "    logging_dir=\"./runs\",\n",
                        ")"
                  ]
            },
            {
                  "cell_type": "markdown",
                  "metadata": {},
                  "source": [
                        "Na postagem [Fine tuning SMLs] (https://maximofn.com/fine-tuning-sml/), tivemos que colocar um tamanho de trem BS de 28; na postagem [LoRA] (https://maximofn.com/lora/), ao colocar as matrizes de baixa classificação nas camadas lineares, foi possível colocar um tamanho de lote de 400. Agora, como ao quantizar o modelo, a biblioteca PEFT converteu mais algumas camadas em `Linear`, não podemos colocar um tamanho de lote tão grande e temos que colocá-lo em 224."
                  ]
            },
            {
                  "cell_type": "code",
                  "execution_count": 33,
                  "metadata": {},
                  "outputs": [],
                  "source": [
                        "import numpy as np\n",
                        "from evaluate import load\n",
                        "\n",
                        "metric = load(\"accuracy\")\n",
                        "\n",
                        "def compute_metrics(eval_pred):\n",
                        "    print(eval_pred)\n",
                        "    predictions, labels = eval_pred\n",
                        "    predictions = np.argmax(predictions, axis=1)\n",
                        "    return metric.compute(predictions=predictions, references=labels)"
                  ]
            },
            {
                  "cell_type": "code",
                  "execution_count": 100,
                  "metadata": {},
                  "outputs": [],
                  "source": [
                        "from transformers import Trainer\n",
                        "\n",
                        "trainer = Trainer(\n",
                        "    model,\n",
                        "    training_args,\n",
                        "    train_dataset=subset_dataset_train,\n",
                        "    eval_dataset=subset_dataset_validation,\n",
                        "    tokenizer=tokenizer,\n",
                        "    compute_metrics=compute_metrics,\n",
                        ")"
                  ]
            },
            {
                  "cell_type": "code",
                  "execution_count": 100,
                  "metadata": {},
                  "outputs": [
                        {
                              "name": "stderr",
                              "output_type": "stream",
                              "text": [
                                    "`use_cache=True` is incompatible with gradient checkpointing. Setting `use_cache=False`...\n",
                                    "/usr/local/lib/python3.10/dist-packages/torch/utils/checkpoint.py:464: UserWarning: torch.utils.checkpoint: the use_reentrant parameter should be passed explicitly. In version 2.4 we will raise an exception if use_reentrant is not passed. use_reentrant=False is recommended, but if you need to preserve the current default behavior, you can pass use_reentrant=True. Refer to docs for more details on the differences between the two variants.\n",
                                    "  warnings.warn(\n"
                              ]
                        },
                        {
                              "data": {
                                    "text/html": [
                                          "\n",
                                          "    <div>\n",
                                          "      \n",
                                          "      <progress value='1859' max='2679' style='width:300px; height:20px; vertical-align: middle;'></progress>\n",
                                          "      [1859/2679 2:10:29 < 57:37, 0.24 it/s, Epoch 2.08/3]\n",
                                          "    </div>\n",
                                          "    <table border=\"1\" class=\"dataframe\">\n",
                                          "  <thead>\n",
                                          " <tr style=\"text-align: left;\">\n",
                                          "      <th>Epoch</th>\n",
                                          "      <th>Training Loss</th>\n",
                                          "      <th>Validation Loss</th>\n",
                                          "      <th>Accuracy</th>\n",
                                          "    </tr>\n",
                                          "  </thead>\n",
                                          "  <tbody>\n",
                                          "    <tr>\n",
                                          "      <td>1</td>\n",
                                          "      <td>2.088000</td>\n",
                                          "      <td>0.978048</td>\n",
                                          "      <td>0.584800</td>\n",
                                          "    </tr>\n",
                                          "    <tr>\n",
                                          "      <td>2</td>\n",
                                          "      <td>0.958800</td>\n",
                                          "      <td>0.894022</td>\n",
                                          "      <td>0.615600</td>\n",
                                          "    </tr>\n",
                                          "  </tbody>\n",
                                          "</table><p>"
                                    ],
                                    "text/plain": [
                                          "<IPython.core.display.HTML object>"
                                    ]
                              },
                              "metadata": {},
                              "output_type": "display_data"
                        },
                        {
                              "name": "stdout",
                              "output_type": "stream",
                              "text": [
                                    "<transformers.trainer_utils.EvalPrediction object at 0x7acac436c3d0>\n"
                              ]
                        },
                        {
                              "name": "stderr",
                              "output_type": "stream",
                              "text": [
                                    "/usr/local/lib/python3.10/dist-packages/torch/utils/checkpoint.py:464: UserWarning: torch.utils.checkpoint: the use_reentrant parameter should be passed explicitly. In version 2.4 we will raise an exception if use_reentrant is not passed. use_reentrant=False is recommended, but if you need to preserve the current default behavior, you can pass use_reentrant=True. Refer to docs for more details on the differences between the two variants.\n",
                                    "  warnings.warn(\n"
                              ]
                        },
                        {
                              "name": "stdout",
                              "output_type": "stream",
                              "text": [
                                    "<transformers.trainer_utils.EvalPrediction object at 0x7acac32580d0>\n"
                              ]
                        },
                        {
                              "name": "stderr",
                              "output_type": "stream",
                              "text": [
                                    "/usr/local/lib/python3.10/dist-packages/torch/utils/checkpoint.py:464: UserWarning: torch.utils.checkpoint: the use_reentrant parameter should be passed explicitly. In version 2.4 we will raise an exception if use_reentrant is not passed. use_reentrant=False is recommended, but if you need to preserve the current default behavior, you can pass use_reentrant=True. Refer to docs for more details on the differences between the two variants.\n",
                                    "  warnings.warn(\n"
                              ]
                        },
                        {
                              "data": {
                                    "text/html": [
                                          "\n",
                                          "    <div>\n",
                                          "      \n",
                                          "      <progress value='2679' max='2679' style='width:300px; height:20px; vertical-align: middle;'></progress>\n",
                                          "      [2679/2679 3:08:13, Epoch 3/3]\n",
                                          "    </div>\n",
                                          "    <table border=\"1\" class=\"dataframe\">\n",
                                          "  <thead>\n",
                                          " <tr style=\"text-align: left;\">\n",
                                          "      <th>Epoch</th>\n",
                                          "      <th>Training Loss</th>\n",
                                          "      <th>Validation Loss</th>\n",
                                          "      <th>Accuracy</th>\n",
                                          "    </tr>\n",
                                          "  </thead>\n",
                                          "  <tbody>\n",
                                          "    <tr>\n",
                                          "      <td>1</td>\n",
                                          "      <td>2.088000</td>\n",
                                          "      <td>0.978048</td>\n",
                                          "      <td>0.584800</td>\n",
                                          "    </tr>\n",
                                          "    <tr>\n",
                                          "      <td>2</td>\n",
                                          "      <td>0.958800</td>\n",
                                          "      <td>0.894022</td>\n",
                                          "      <td>0.615600</td>\n",
                                          "    </tr>\n",
                                          "    <tr>\n",
                                          "      <td>3</td>\n",
                                          "      <td>0.914700</td>\n",
                                          "      <td>0.891830</td>\n",
                                          "      <td>0.616800</td>\n",
                                          "    </tr>\n",
                                          "  </tbody>\n",
                                          "</table><p>"
                                    ],
                                    "text/plain": [
                                          "<IPython.core.display.HTML object>"
                                    ]
                              },
                              "metadata": {},
                              "output_type": "display_data"
                        },
                        {
                              "name": "stdout",
                              "output_type": "stream",
                              "text": [
                                    "<transformers.trainer_utils.EvalPrediction object at 0x7acac2f43c10>\n"
                              ]
                        },
                        {
                              "data": {
                                    "text/plain": [
                                          "TrainOutput(global_step=2679, training_loss=1.1650676093647934, metrics={'train_runtime': 11299.1288, 'train_samples_per_second': 53.101, 'train_steps_per_second': 0.237, 'total_flos': 2.417754341376e+17, 'train_loss': 1.1650676093647934, 'epoch': 3.0})"
                                    ]
                              },
                              "metadata": {},
                              "output_type": "display_data"
                        }
                  ],
                  "source": [
                        "trainer.train()"
                  ]
            },
            {
                  "cell_type": "markdown",
                  "metadata": {},
                  "source": [
                        "### Avaliação"
                  ]
            },
            {
                  "cell_type": "markdown",
                  "metadata": {},
                  "source": [
                        "Depois de treinados, avaliamos o conjunto de dados de teste"
                  ]
            },
            {
                  "cell_type": "code",
                  "execution_count": 100,
                  "metadata": {},
                  "outputs": [
                        {
                              "data": {
                                    "text/html": [
                                          "\n",
                                          "    <div>\n",
                                          "      \n",
                                          "      <progress value='23' max='23' style='width:300px; height:20px; vertical-align: middle;'></progress>\n",
                                          "      [23/23 00:27]\n",
                                          "    </div>\n",
                                          "    "
                                    ],
                                    "text/plain": [
                                          "<IPython.core.display.HTML object>"
                                    ]
                              },
                              "metadata": {},
                              "output_type": "display_data"
                        },
                        {
                              "name": "stdout",
                              "output_type": "stream",
                              "text": [
                                    "<transformers.trainer_utils.EvalPrediction object at 0x7acb316fe5c0>\n"
                              ]
                        },
                        {
                              "data": {
                                    "text/plain": [
                                          "{'eval_loss': 0.8883273601531982,\n",
                                          " 'eval_accuracy': 0.615,\n",
                                          " 'eval_runtime': 28.5566,\n",
                                          " 'eval_samples_per_second': 175.091,\n",
                                          " 'eval_steps_per_second': 0.805,\n",
                                          " 'epoch': 3.0}"
                                    ]
                              },
                              "metadata": {},
                              "output_type": "display_data"
                        }
                  ],
                  "source": [
                        "trainer.evaluate(eval_dataset=subset_dataset_test)"
                  ]
            },
            {
                  "cell_type": "markdown",
                  "metadata": {},
                  "source": [
                        "### Publicar o modelo"
                  ]
            },
            {
                  "cell_type": "markdown",
                  "metadata": {},
                  "source": [
                        "Criamos um cartão modelo"
                  ]
            },
            {
                  "cell_type": "code",
                  "execution_count": 100,
                  "metadata": {},
                  "outputs": [],
                  "source": [
                        "trainer.create_model_card()"
                  ]
            },
            {
                  "cell_type": "markdown",
                  "metadata": {},
                  "source": [
                        "Nós o publicamos"
                  ]
            },
            {
                  "cell_type": "code",
                  "execution_count": 100,
                  "metadata": {},
                  "outputs": [],
                  "source": [
                        "trainer.push_to_hub()"
                  ]
            },
            {
                  "cell_type": "markdown",
                  "metadata": {},
                  "source": [
                        "### Teste o modelo"
                  ]
            },
            {
                  "cell_type": "markdown",
                  "metadata": {},
                  "source": [
                        "Vamos aprovar o modelo"
                  ]
            },
            {
                  "cell_type": "code",
                  "execution_count": 9,
                  "metadata": {},
                  "outputs": [
                        {
                              "name": "stderr",
                              "output_type": "stream",
                              "text": [
                                    "/home/sae00531/miniconda3/envs/nlp_/lib/python3.11/site-packages/huggingface_hub/file_download.py:1132: FutureWarning: `resume_download` is deprecated and will be removed in version 1.0.0. Downloads always resume when possible. If you want to force a new download, use `force_download=True`.\n",
                                    "  warnings.warn(\n",
                                    "Some weights of GPT2ForSequenceClassification were not initialized from the model checkpoint at openai-community/gpt2 and are newly initialized: ['score.weight']\n",
                                    "You should probably TRAIN this model on a down-stream task to be able to use it for predictions and inference.\n",
                                    "/home/sae00531/miniconda3/envs/nlp_/lib/python3.11/site-packages/peft/tuners/lora/layer.py:1119: UserWarning: fan_in_fan_out is set to False but the target module is `Conv1D`. Setting fan_in_fan_out to True.\n",
                                    "  warnings.warn(\n",
                                    "Loading adapter weights from maximofn/GPT2-small-QLoRA-finetuned-amazon-reviews-en-classification led to unexpected keys not found in the model:  ['score.modules_to_save.default.base_layer.weight', 'score.modules_to_save.default.lora_A.default.weight', 'score.modules_to_save.default.lora_B.default.weight', 'score.modules_to_save.default.modules_to_save.lora_A.default.weight', 'score.modules_to_save.default.modules_to_save.lora_B.default.weight', 'score.modules_to_save.default.original_module.lora_A.default.weight', 'score.modules_to_save.default.original_module.lora_B.default.weight']. \n"
                              ]
                        }
                  ],
                  "source": [
                        "from transformers import AutoTokenizer, AutoModelForSequenceClassification\n",
                        "import torch\n",
                        "\n",
                        "model_name = \"GPT2-small-QLoRA-finetuned-amazon-reviews-en-classification\"\n",
                        "user = \"maximofn\"\n",
                        "checkpoint = f\"{user}/{model_name}\"\n",
                        "num_classes = 5\n",
                        "\n",
                        "tokenizer = AutoTokenizer.from_pretrained(checkpoint)\n",
                        "model = AutoModelForSequenceClassification.from_pretrained(checkpoint, num_labels=num_classes).half().eval().to(\"cuda\")"
                  ]
            },
            {
                  "cell_type": "code",
                  "execution_count": 7,
                  "metadata": {},
                  "outputs": [
                        {
                              "data": {
                                    "text/plain": [
                                          "[0.0186614990234375,\n",
                                          " 0.483642578125,\n",
                                          " 0.048187255859375,\n",
                                          " 0.415283203125,\n",
                                          " 0.03399658203125]"
                                    ]
                              },
                              "execution_count": 7,
                              "metadata": {},
                              "output_type": "execute_result"
                        }
                  ],
                  "source": [
                        "tokens = tokenizer.encode(\"I love this product\", return_tensors=\"pt\").to(model.device)\n",
                        "with torch.no_grad():\n",
                        "    output = model(tokens)\n",
                        "logits = output.logits\n",
                        "lables = torch.softmax(logits, dim=1).cpu().numpy().tolist()\n",
                        "lables[0]"
                  ]
            }
      ],
      "metadata": {
            "kernelspec": {
                  "display_name": "nlp_",
                  "language": "python",
                  "name": "python3"
            },
            "maximofn": {
      "date": "2024-07-29",
      "description_es": "¡Hola a todos! 🤗 Hoy vamos a hablar de QLoRA, la técnica que te permitirá hacer que tus modelos de lenguaje sean más eficientes y rápidos ⏱️. Pero, ¿cómo lo hace? 🤔 Bueno, primero utiliza la cuantización para reducir el tamaño de los pesos del modelo, lo que ahorra memoria y velocidad 📈. Luego, aplica LoRA (Low-Rank Adaptation), que es como un superpoder que permite al modelo adaptarse a nuevos datos sin necesidad de volver a entrenar desde cero 💪. Y, para que veas cómo funciona en la práctica, te dejo un ejemplo de código que te hará decir '¡Eureka!' 🎉. ¡Vamos a sumergirnos en el mundo de QLoRA y descubrir cómo podemos hacer que nuestros modelos sean más inteligentes y eficientes! 🤓",
      "description_en": "Hello everyone! 🤗 Today we are going to talk about QLoRA, the technique that will allow you to make your language models more efficient and faster ⏱️. But how does it do it? 🤔 Well, first it uses quantization to reduce the size of the model weights, which saves memory and speed 📈. Then, it applies LoRA (Low-Rank Adaptation), which is like a superpower that allows the model to adapt to new data without retraining from scratch 💪. And, for you to see how it works in practice, I leave you with a code example that will make you say 'Eureka!' 🎉 Let's dive into the world of QLoRA and discover how we can make our models smarter and more efficient! 🤓",
      "description_pt": "Olá a todos! 🤗 Hoje vamos falar sobre QLoRA, a técnica que permitirá que você torne seus modelos de linguagem mais eficientes e mais rápidos ⏱️. Mas como ela faz isso? 🤔 Bem, primeiro ele usa a quantização para reduzir o tamanho dos pesos do modelo, o que economiza memória e velocidade 📈. Em seguida, ele aplica LoRA (Low-Rank Adaptation), que é como uma superpotência que permite que o modelo se adapte a novos dados sem precisar treinar novamente do zero 💪. E, para mostrar como isso funciona na prática, deixo um exemplo de código que fará você dizer “Eureka!” 🎉 Vamos mergulhar no mundo do QLoRA e descobrir como podemos tornar nossos modelos mais inteligentes e eficientes! 🤓",
      "end_url": "qlora",
      "image": "https://pub-fb664c455eca46a2ba762a065ac900f7.r2.dev/QLoRA_thumbnail_PT.webp",
      "keywords_en": "qlora, quantization, lora, low-rank adaptation, transformers, hugging face, nlp, natural language processing, machine learning, artificial intelligence",
      "keywords_es": "qlora, cuantización, lora, adaptación de rango bajo, transformers, hugging face, nlp, procesamiento de lenguaje natural, aprendizaje automático, inteligencia artificial",
      "keywords_pt": "qlora, quantização, lora, adaptação de baixo rank, transformers, hugging face, nlp, processamento de linguagem natural, aprendizado de máquina, inteligência artificial",
      "title_en": "QLoRA: Efficient Finetuning of Quantized LLMs",
      "title_es": "QLoRA: Efficient Finetuning of Quantized LLMs",
      "title_pt": "QLoRA: Efficient Finetuning of Quantized LLMs"
    },
    "language_info": {
                  "codemirror_mode": {
                        "name": "ipython",
                        "version": 3
                  },
                  "file_extension": ".py",
                  "mimetype": "text/x-python",
                  "name": "python",
                  "nbconvert_exporter": "python",
                  "pygments_lexer": "ipython3",
                  "version": "3.11.9"
            }
      },
      "nbformat": 4,
      "nbformat_minor": 2
}
