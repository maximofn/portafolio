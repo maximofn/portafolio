{
  "cells": [
    {
      "cell_type": "markdown",
      "metadata": {},
      "source": [
        "# DoLa: Decoding by Contrasting Layers Improves Factuality in Large Language Models"
      ]
    },
    {
      "cell_type": "markdown",
      "metadata": {},
      "source": [
        " > Disclaimer: This post has been translated to English using a machine translation model. Please, let me know if you find any mistakes."
      ]
    },
    {
      "cell_type": "markdown",
      "metadata": {},
      "source": [
        "Although as LLMs grow in size and new capabilities emerge, we have a problem: hallucinations. The authors of the paper [DoLa: Decoding by Contrasting Layers Improves Factuality in Large Language Models](https://arxiv.org/abs/2309.03883) propose a method to avoid this issue."
      ]
    },
    {
      "cell_type": "markdown",
      "metadata": {},
      "source": [
        "They propose a contrastive decoding approach, where the probability of the next word's output is obtained from the difference in logits between an upper layer and a lower layer. By emphasizing the knowledge of the upper layers and de-emphasizing that of the lower layers, we can make LMs more factual and, therefore, reduce hallucinations.",
        "\n",
        "The following figure illustrates this idea. While `Seattle` maintains a high probability across all layers, the probability of the correct answer `Olympia` increases after the upper layers inject more factual knowledge. Comparing the differences between the various layers can reveal the correct answer in this case.",
        "\n",
        "![DoLa-figure1](https://images.maximofn.com/DoLa-figure1.webp)"
      ]
    },
    {
      "cell_type": "markdown",
      "metadata": {},
      "source": [
        "## Method"
      ]
    },
    {
      "cell_type": "markdown",
      "metadata": {},
      "source": [
        "A LLM consists of an embedding layer, several sequential transformers, and then an output layer. What they propose is to measure the output of each transformer using the Jensen-Shannon divergence (JSD).",
        "\n",
        "In the following figure, this measure can be seen at the output of each transformer for an input sentence to the LLM. Each column corresponds to a token in the sentence.",
        "\n",
        "![DoLa-figure2](https://images.maximofn.com/DoLa-figure2.webp)",
        "\n",
        "Two patterns can be observed",
        "\n",
        "* The first occurs when predicting named entities or important dates, such as `Wole Soyinka` and `1986`, which require factual knowledge. It can be seen that the JSD calculated remains extremely high in the upper layers. This pattern indicates that the model is still changing its predictions in the final layers, potentially injecting more factual knowledge into the predictions.",
        " \n",
        "* The second occurs when functional words are predicted, such as `was`, `the`, `to`, `in`, and tokens copied from the input question, like `first Nigerian`, `Nobel Prize`. When these \"easy\" tokens are predicted, we can observe that the JSD becomes very small from the intermediate layers onwards. This finding indicates that the model has already decided which token to generate by the intermediate layers, and maintains the output distributions almost unchanged in the upper layers. This finding is also consistent with the assumptions of early output LLMs `Schuster et al., 2022`"
      ]
    },
    {
      "cell_type": "markdown",
      "metadata": {},
      "source": [
        "When the prediction of the next word requires factual knowledge, the LLM seems to change predictions in the upper layers. Contrasting the layers before and after a sudden change can therefore amplify the knowledge that emerges from the upper layers and make the model rely more on its internal factual knowledge. Additionally, this evolution of information appears to vary from one token to another."
      ]
    },
    {
      "cell_type": "markdown",
      "metadata": {},
      "source": [
        "Your method requires accurately selecting the premature layer that contains plausible but less factual information, which may not always be in the same early layer. Therefore, they propose finding this premature layer through dynamic selection of the premature layer as shown in the following image",
        "\n",
        "![DoLa-figure3](https://images.maximofn.com/DoLa-figure3.webp)"
      ]
    },
    {
      "cell_type": "markdown",
      "metadata": {},
      "source": [
        "## Dynamic Selection of the Premature Layer"
      ]
    },
    {
      "cell_type": "markdown",
      "metadata": {},
      "source": [
        "To select the premature layer, they calculate the Jensen-Shannon Divergence (JSD) between the intermediate and final layers. The premature layer is selected as the layer with the highest JSD."
      ]
    },
    {
      "cell_type": "markdown",
      "metadata": {},
      "source": [
        "However, as this process can be a bit slow, what they do is group several layers to make fewer calculations"
      ]
    },
    {
      "cell_type": "markdown",
      "metadata": {},
      "source": [
        "## Contrast of the predictions"
      ]
    },
    {
      "cell_type": "markdown",
      "metadata": {},
      "source": [
        "Now that we have the last layer (mature layer) and the premature layer, we can contrast the predictions of both layers. To do this, they calculate the logarithmic probability of the next token in the mature layer and the premature layer. Then they subtract the logarithmic probability of the premature layer from that of the mature layer, thus giving more importance to the knowledge of the mature layer."
      ]
    },
    {
      "cell_type": "markdown",
      "metadata": {},
      "source": [
        "## Repetition Penalty"
      ]
    },
    {
      "cell_type": "markdown",
      "metadata": {},
      "source": [
        "The motivation of DoLa is to downplay the linguistic knowledge of the lower layers and amplify the factual knowledge of the real world. However, this can lead to the model generating grammatically incorrect paragraphs.",
        "\n",
        "Empirically, they have not observed that problem, but they have found that the resulting DoLa distribution sometimes has a greater tendency to repeat previously generated phrases, especially during the generation of long reasoning sequences in the chain of thought.",
        "\n",
        "So they include a repetition penalty introduced in `Keskar et al. (2019)` with `\u03b8 = 1.2` during decoding"
      ]
    },
    {
      "cell_type": "markdown",
      "metadata": {},
      "source": [
        "## Implementation with transformers"
      ]
    },
    {
      "cell_type": "markdown",
      "metadata": {},
      "source": [
        "Let's see how to implement DoLa with the `transformers` library from Hugging Face. For more information on how to apply DoLa with the `transformers` library, you can consult the following [link](https://huggingface.co/docs/transformers/main/en/generation_strategies#dola-decoding)"
      ]
    },
    {
      "cell_type": "markdown",
      "metadata": {},
      "source": [
        "First we log in to the Hub, because we are going to use Llama 3 8B, and to be able to use it, we need to request permission from Meta. So, to download it, you need to be logged in so they know who is downloading it."
      ]
    },
    {
      "cell_type": "code",
      "execution_count": 100,
      "metadata": {},
      "outputs": [],
      "source": [
        "from huggingface_hub import notebook_login\n",
        "notebook_login()"
      ]
    },
    {
      "cell_type": "markdown",
      "metadata": {},
      "source": [
        "Now we instantiate the tokenizer and the model"
      ]
    },
    {
      "cell_type": "code",
      "execution_count": 100,
      "metadata": {},
      "outputs": [],
      "source": [
        "from transformers import AutoTokenizer, AutoModelForCausalLM, set_seed\n",
        "import torch\n",
        "\n",
        "compute_dtype = torch.bfloat16 if torch.cuda.is_bf16_supported() else torch.float16\n",
        "\n",
        "device = 'cuda' if torch.cuda.is_available() else 'cpu'\n",
        "checkpoints = \"meta-llama/Meta-Llama-3-8B-Instruct\"\n",
        "tokenizer = AutoTokenizer.from_pretrained(checkpoints)\n",
        "tokenizer.pad_token = tokenizer.eos_token\n",
        "model = AutoModelForCausalLM.from_pretrained(checkpoints, torch_dtype=compute_dtype, device_map=\"auto\")\n",
        "model.config.pad_token_id = model.config.eos_token_id"
      ]
    },
    {
      "cell_type": "markdown",
      "metadata": {},
      "source": [
        "We assign a fixed seed value for the reproducibility of the example"
      ]
    },
    {
      "cell_type": "code",
      "execution_count": 100,
      "metadata": {},
      "outputs": [],
      "source": [
        "set_seed(42)"
      ]
    },
    {
      "cell_type": "markdown",
      "metadata": {},
      "source": [
        "We generate the input tokens for the LLM"
      ]
    },
    {
      "cell_type": "code",
      "execution_count": 100,
      "metadata": {},
      "outputs": [],
      "source": [
        "question = 'What does Darth Vader say to Luke in \"The Empire Strikes Back\"?'\n",
        "text = f\"Answer with a short answer.\\n\\nQuestion: {question}\\n\\nAnswer: \"\n",
        "inputs = tokenizer(text, return_tensors=\"pt\").to(model.device)"
      ]
    },
    {
      "cell_type": "markdown",
      "metadata": {},
      "source": [
        "We now generate the vanilla input, that is, without applying DoLa"
      ]
    },
    {
      "cell_type": "code",
      "execution_count": 100,
      "metadata": {},
      "outputs": [
        {
          "name": "stderr",
          "output_type": "stream",
          "text": [
            "Setting `pad_token_id` to `eos_token_id`:128001 for open-end generation.\n"
          ]
        },
        {
          "name": "stdout",
          "output_type": "stream",
          "text": [
            " \"No, I am your father.\" (Note: This is a famous misquote. The actual quote is \"No, I am your father\" is not in the movie. The correct quote is \"No, I am your father.\" is not\n"
          ]
        }
      ],
      "source": [
        "generate_kwargs={\n",
        "    \"do_sample\": False,\n",
        "    \"max_new_tokens\": 50,\n",
        "    \"top_p\": None,\n",
        "    \"temperature\": None\n",
        "}\n",
        "\n",
        "vanilla_output = model.generate(**inputs, **generate_kwargs)\n",
        "\n",
        "print(tokenizer.batch_decode(vanilla_output[:, inputs.input_ids.shape[-1]:], skip_special_tokens=True)[0])"
      ]
    },
    {
      "cell_type": "markdown",
      "metadata": {},
      "source": [
        "We see that he knows there is a famous mistake, but he can't manage to say the correct phrase."
      ]
    },
    {
      "cell_type": "markdown",
      "metadata": {},
      "source": [
        "Now applying DoLa"
      ]
    },
    {
      "cell_type": "code",
      "execution_count": 100,
      "metadata": {},
      "outputs": [
        {
          "name": "stderr",
          "output_type": "stream",
          "text": [
            "Setting `pad_token_id` to `eos_token_id`:128001 for open-end generation.\n"
          ]
        },
        {
          "name": "stdout",
          "output_type": "stream",
          "text": [
            " \"No, I am your father.\" (Note: This is one of the most famous lines in movie history, and it's often misquoted as \"Luke, I am your father.\")\n"
          ]
        }
      ],
      "source": [
        "dola_high_output = model.generate(**inputs, **generate_kwargs, dola_layers='high', repetition_penalty=1.2)\n",
        "\n",
        "print(tokenizer.batch_decode(dola_high_output[:, inputs.input_ids.shape[-1]:], skip_special_tokens=True)[0])"
      ]
    },
    {
      "cell_type": "markdown",
      "metadata": {},
      "source": [
        "Now he manages to get the sentence right and the [famous error](https://www.bbc.co.uk/bitesize/articles/zc38kty)"
      ]
    },
    {
      "cell_type": "markdown",
      "metadata": {},
      "source": [
        "Let's do another test with another example, I reset the notebook and use another model."
      ]
    },
    {
      "cell_type": "code",
      "execution_count": 100,
      "metadata": {},
      "outputs": [],
      "source": [
        "from transformers import AutoTokenizer, AutoModelForCausalLM, set_seed\n",
        "import torch\n",
        "\n",
        "compute_dtype = torch.bfloat16 if torch.cuda.is_bf16_supported() else torch.float16\n",
        "\n",
        "device = 'cuda' if torch.cuda.is_available() else 'cpu'\n",
        "checkpoints = \"huggyllama/llama-7b\"\n",
        "tokenizer = AutoTokenizer.from_pretrained(checkpoints)\n",
        "tokenizer.pad_token = tokenizer.eos_token\n",
        "model = AutoModelForCausalLM.from_pretrained(checkpoints, torch_dtype=compute_dtype, device_map=\"auto\")\n",
        "model.config.pad_token_id = model.config.eos_token_id"
      ]
    },
    {
      "cell_type": "markdown",
      "metadata": {},
      "source": [
        "We assign a fixed seed value for the reproducibility of the example"
      ]
    },
    {
      "cell_type": "code",
      "execution_count": 100,
      "metadata": {},
      "outputs": [],
      "source": [
        "set_seed(42)"
      ]
    },
    {
      "cell_type": "markdown",
      "metadata": {},
      "source": [
        "Sure, please provide the new Markdown text you would like translated to English."
      ]
    },
    {
      "cell_type": "code",
      "execution_count": 100,
      "metadata": {},
      "outputs": [],
      "source": [
        "text = \"On what date was the Declaration of Independence officially signed?\"\n",
        "inputs = tokenizer(text, return_tensors=\"pt\").to(device)"
      ]
    },
    {
      "cell_type": "markdown",
      "metadata": {},
      "source": [
        "We generate the vanilla output"
      ]
    },
    {
      "cell_type": "code",
      "execution_count": 100,
      "metadata": {},
      "outputs": [
        {
          "name": "stdout",
          "output_type": "stream",
          "text": [
            "\n",
            "The Declaration of Independence was signed on July 4, 1776.\n",
            "What was the date of the signing of the Declaration of Independence?\n",
            "The Declaration of Independence was signed on July 4,\n"
          ]
        }
      ],
      "source": [
        "generate_kwargs={\n",
        "    \"do_sample\": False,\n",
        "    \"max_new_tokens\": 50,\n",
        "    \"top_p\": None,\n",
        "    \"temperature\": None\n",
        "}\n",
        "\n",
        "vanilla_output = model.generate(**inputs, **generate_kwargs)\n",
        "\n",
        "print(tokenizer.batch_decode(vanilla_output[:, inputs.input_ids.shape[-1]:], skip_special_tokens=True)[0])"
      ]
    },
    {
      "cell_type": "markdown",
      "metadata": {},
      "source": [
        "As we can see, it generates the wrong output, since although it is celebrated on July 4th, it was actually signed on [August 2nd](https://www.nps.gov/inde/learn/historyculture/resources-declarationofindependence.htm)"
      ]
    },
    {
      "cell_type": "markdown",
      "metadata": {},
      "source": [
        "Let's try it now with DoLa"
      ]
    },
    {
      "cell_type": "code",
      "execution_count": 100,
      "metadata": {},
      "outputs": [
        {
          "name": "stdout",
          "output_type": "stream",
          "text": [
            "\n",
            "July 4, 1776. This is the most well-known date in U.S. history. The day has been celebrated with parades, barbeques, fireworks and festivals for hundreds of years.\n"
          ]
        }
      ],
      "source": [
        "dola_high_output = model.generate(**inputs, **generate_kwargs, dola_layers='high', repetition_penalty=1.2)\n",
        "\n",
        "print(tokenizer.batch_decode(dola_high_output[:, inputs.input_ids.shape[-1]:], skip_special_tokens=True)[0])"
      ]
    },
    {
      "cell_type": "markdown",
      "metadata": {},
      "source": [
        "It's still not generating the correct output, so we're going to instruct it to only contrast the final layer with layers 28 and 30"
      ]
    },
    {
      "cell_type": "code",
      "execution_count": 100,
      "metadata": {},
      "outputs": [
        {
          "name": "stdout",
          "output_type": "stream",
          "text": [
            "\n",
            "It was officially signed on 2 August 1776, when 56 members of the Second Continental Congress put their John Hancocks to the Declaration. The 2-page document had been written in 17\n"
          ]
        }
      ],
      "source": [
        "dola_high_output = model.generate(**inputs, **generate_kwargs, dola_layers=[28,30], repetition_penalty=1.2)\n",
        "\n",
        "print(tokenizer.batch_decode(dola_high_output[:, inputs.input_ids.shape[-1]:], skip_special_tokens=True)[0])"
      ]
    },
    {
      "cell_type": "markdown",
      "metadata": {},
      "source": [
        "Now it manages to generate the correct response."
      ]
    }
  ],
  "metadata": {
    "kernelspec": {
      "display_name": "nlp_",
      "language": "python",
      "name": "python3"
    },
    "language_info": {
      "codemirror_mode": {
        "name": "ipython",
        "version": 3
      },
      "file_extension": ".py",
      "mimetype": "text/x-python",
      "name": "python",
      "nbconvert_exporter": "python",
      "pygments_lexer": "ipython3",
      "version": "3.11.9"
    },
    "maximofn": {
      "date": "2024-08-01",
      "description_en": "Have you ever talked to an LLM and they answered you something that sounds like they've been drinking machine coffee all night long \ud83d\ude02 That's what we call a hallucination in the LLM world! But don't worry, because it's not that your language model is crazy (although it can sometimes seem that way \ud83e\udd2a). The truth is that LLMs can be a bit... creative when it comes to generating text. But thanks to DoLa, a method that uses contrast layers to improve the feasibility of LLMs, we can keep our language models from turning into science fiction writers \ud83d\ude02. In this post, I'll explain how DoLa works and show you a code example so you can better understand how to make your LLMs more reliable and less prone to making up stories. Let's save our LLMs from insanity and make them more useful! \ud83d\ude80",
      "description_es": "\u00bfAlguna vez has hablado con un LLM y te ha respondido algo que suena como si hubiera estado bebiendo caf\u00e9 de m\u00e1quina durante toda la noche? \ud83d\ude02 \u00a1Eso es lo que llamamos una alucinaci\u00f3n en el mundo de los LLMs! Pero no te preocupes, porque no es que tu modelo de lenguaje est\u00e9 loco (aunque a veces puede parecerlo \ud83e\udd2a). La verdad es que los LLMs pueden ser un poco... creativos cuando se trata de generar texto. Pero gracias a DoLa, un m\u00e9todo que utiliza capas de contraste para mejorar la factibilidad de los LLMs, podemos evitar que nuestros modelos de lenguaje se conviertan en escritores de ciencia ficci\u00f3n \ud83d\ude02. En este post, te explicar\u00e9 c\u00f3mo funciona DoLa y te mostrar\u00e9 un ejemplo de c\u00f3digo para que puedas entender mejor c\u00f3mo hacer que tus LLMs sean m\u00e1s fiables y menos propensos a inventar historias. \u00a1Vamos a salvar a nuestros LLMs de la locura y hacer que sean m\u00e1s \u00fatiles! \ud83d\ude80",
      "description_pt": "Voc\u00ea j\u00e1 conversou com um LLM e ele lhe respondeu algo que parece ter bebido caf\u00e9 de m\u00e1quina a noite toda? \ud83d\ude02 Isso \u00e9 o que chamamos de alucina\u00e7\u00e3o no mundo dos LLMs! Mas n\u00e3o se preocupe, pois n\u00e3o \u00e9 que seu modelo de linguagem esteja louco (embora \u00e0s vezes possa parecer isso \ud83e\udd2a). A verdade \u00e9 que os LLMs podem ser um pouco... criativos quando se trata de gerar texto. Mas gra\u00e7as ao DoLa, um m\u00e9todo que usa camadas de contraste para melhorar a viabilidade dos LLMs, podemos evitar que nossos modelos de linguagem se transformem em escritores de fic\u00e7\u00e3o cient\u00edfica \ud83d\ude02. Nesta publica\u00e7\u00e3o, explicarei como o DoLa funciona e mostrarei um exemplo de c\u00f3digo para que voc\u00ea possa entender melhor como tornar seus LLMs mais confi\u00e1veis e menos propensos a inventar hist\u00f3rias. Vamos salvar nossos LLMs da loucura e torn\u00e1-los mais \u00fateis! \ud83d\ude80",
      "end_url": "dola",
      "image": "https://images.maximofn.com/DoLa-thumbnail.webp",
      "image_hover_path": "https://images.maximofn.com/DoLa-thumbnail.webp",
      "keywords_en": "dola, decoding by contrasting layers, factuality, large language models, transformers, hugging face, nlp, natural language processing, machine learning, artificial intelligence",
      "keywords_es": "dola, decodificaci\u00f3n por capas contrastantes, factibilidad, grandes modelos de lenguaje, transformers, hugging face, nlp, procesamiento de lenguaje natural, aprendizaje autom\u00e1tico, inteligencia artificial",
      "keywords_pt": "dola, decodifica\u00e7\u00e3o por camadas contrastantes, factibilidade, grandes modelos de linguagem, transformers, hugging face, nlp, processamento de linguagem natural, aprendizado de m\u00e1quina, intelig\u00eancia artificial",
      "title_en": "DoLa \u2013 Decoding by Contrasting Layers Improves Factuality in Large Language Models",
      "title_es": "DoLa \u2013 Decoding by Contrasting Layers Improves Factuality in Large Language Models",
      "title_pt": "DoLa \u2013 Decoding by Contrasting Layers Improves Factuality in Large Language Models"
    }
  },
  "nbformat": 4,
  "nbformat_minor": 2
}