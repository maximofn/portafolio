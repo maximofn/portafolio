{
  "cells": [
    {
      "cell_type": "markdown",
      "metadata": {},
      "source": [
        "# Conventional commits"
      ]
    },
    {
      "cell_type": "markdown",
      "metadata": {},
      "source": [
        " > Disclaimer: This post has been translated to English using a machine translation model. Please, let me know if you find any mistakes."
      ]
    },
    {
      "cell_type": "markdown",
      "metadata": {},
      "source": [
        "This post has been created based on the [video](https://www.youtube.com/watch?v=SigVVJmUGv8) by [Carlos Azaustre](https://x.com/carlosazaustre), only that since he explains how to do everything with JavaScript tools, there are many Python developers who don't have Node.js installed, so I've made a version of the same but using all Python tools."
      ]
    },
    {
      "cell_type": "markdown",
      "metadata": {},
      "source": [
        "## What are conventional commits?"
      ]
    },
    {
      "cell_type": "markdown",
      "metadata": {},
      "source": [
        "The integration with change and release management tools."
      ]
    },
    {
      "cell_type": "markdown",
      "metadata": {},
      "source": [
        "### Format of Commit Messages"
      ]
    },
    {
      "cell_type": "markdown",
      "metadata": {},
      "source": [
        "A Conventional Commits message follows a specific format:",
        "\n",
        "``` git\n",
        "<type>[optional scope]: <description>",
        "\n",
        "[optional body]",
        "\n",
        "[optional footer(s)]",
        "```"
      ]
    },
    {
      "cell_type": "markdown",
      "metadata": {},
      "source": [
        "Let's look at it in more detail."
      ]
    },
    {
      "cell_type": "markdown",
      "metadata": {},
      "source": [
        "#### Type `type`"
      ]
    },
    {
      "cell_type": "markdown",
      "metadata": {},
      "source": [
        "The type of commit indicates the nature of the change. Some common types are:",
        "\n",
        "* **fix**: It is used for bug fixes.",
        "* **feat**: It is used for new features.",
        "* **docs**: It is used for changes in the documentation.",
        "* **style**: It is used for changes that do not affect the meaning of the code (for example, formatting, removal of white spaces).",
        "* **refactor**: It is used for code changes that neither improve nor degrade functionality, such as reorganizing the code.",
        "* **perf**: It is used for changes that improve performance.",
        "* **test**: It is used to add or update tests.",
        "* **chore**: It is used for changes in the process or development tools.",
        "* **ci**: It is used for changes in the continuous integration configuration files.",
        "* **build**: Used for changes that affect the build system or external dependencies.",
        "* **revert**: It is used to reverse a previous commit."
      ]
    },
    {
      "cell_type": "markdown",
      "metadata": {},
      "source": [
        "#### Scope `scope`"
      ]
    },
    {
      "cell_type": "markdown",
      "metadata": {},
      "source": [
        "The scope is optional and is used to specify the part of the project that was modified. For example, if you are working on a specific component of a web application, the scope could be the name of the component.",
        "\n",
        "Example:",
        "\n",
        "``` git\n",
        "fix(auth): fix authentication issue",
        "```"
      ]
    },
    {
      "cell_type": "markdown",
      "metadata": {},
      "source": [
        "#### Description `description`"
      ]
    },
    {
      "cell_type": "markdown",
      "metadata": {},
      "source": [
        "The description is a brief explanation of the change. It should be concise and clear, and provide enough context to understand the purpose of the commit.",
        "\n",
        "Example:",
        "\n",
        "``` git\n",
        "fix(auth): fix authentication error on login page",
        "```"
      ]
    },
    {
      "cell_type": "markdown",
      "metadata": {},
      "source": [
        "#### Body `body`"
      ]
    },
    {
      "cell_type": "markdown",
      "metadata": {},
      "source": [
        "The body is optional and is used to provide more details about the change. Here you can include motivations for the change and contrasts with the previous implementation.",
        "\n",
        "Example:",
        "\n",
        "``` git\n",
        "fix(auth): fix authentication error on login page",
        "\n",
        "El token de acceso estaba expirando antes de lo esperado debido a un error en el c\u00e1lculo de la fecha de expiraci\u00f3n. Se ha corregido ajustando la l\u00f3gica de c\u00e1lculo.",
        "```"
      ]
    },
    {
      "cell_type": "markdown",
      "metadata": {},
      "source": [
        "#### Footer `footer`"
      ]
    },
    {
      "cell_type": "markdown",
      "metadata": {},
      "source": [
        "The footer is optional and is used for additional references, such as closed issue numbers or related commits.",
        "\n",
        "Example:",
        "\n",
        "``` git\n",
        "fix(auth): fix authentication error on login page",
        "\n",
        "El token de acceso estaba expirando antes de lo esperado debido a un error en el c\u00e1lculo de la fecha de expiraci\u00f3n. Se ha corregido ajustando la l\u00f3gica de c\u00e1lculo.",
        "\n",
        "Closes #123",
        "```"
      ]
    },
    {
      "cell_type": "markdown",
      "metadata": {},
      "source": [
        "### Benefits of Conventional Commits"
      ]
    },
    {
      "cell_type": "markdown",
      "metadata": {},
      "source": [
        "* **Clarity and Consistency**: Standardized commit messages are easier to understand and follow, which improves collaboration in development teams.",
        "* **Automatic Generation of Release Notes**: Tools can be used to automatically generate release notes based on commit messages.",
        "* **Integration with Change Management Tools**: Many development and project management tools can integrate with Conventional Commits to automate tasks such as generating changelogs and managing releases.",
        "* **Structured Change History**: The change history becomes more structured and easier to navigate, making it simpler to review changes and debug issues."
      ]
    },
    {
      "cell_type": "markdown",
      "metadata": {},
      "source": [
        "### Practical Examples"
      ]
    },
    {
      "cell_type": "markdown",
      "metadata": {},
      "source": [
        "Example 1: Bug Fix",
        "\n",
        "``` git\n",
        "fix(api): fix error in user validation",
        "\n",
        "The user registration endpoint was allowing registrations with invalid email addresses. An additional validation has been added to ensure that email addresses are valid.",
        "\n",
        "Closes #456",
        "```"
      ]
    },
    {
      "cell_type": "markdown",
      "metadata": {},
      "source": [
        "Example 2: Add a new feature",
        "\n",
        "``` git\n",
        "feat(api): add password recovery endpoint",
        "\n",
        "Implementado un nuevo punto de conexi\u00f3n que permite a los usuarios solicitar un enlace para recuperar su contrase\u00f1a. El enlace se env\u00eda a su direcci\u00f3n de correo electr\u00f3nico registrada.",
        "\n",
        "Closes #789",
        "```"
      ]
    },
    {
      "cell_type": "markdown",
      "metadata": {},
      "source": [
        "Example 3: Improving Documentation",
        "\n",
        "``` git\n",
        "docs: update contribution guide",
        "\n",
        "Actualizadas las instrucciones de configuraci\u00f3n para el entorno de desarrollo y se agreg\u00f3 una secci\u00f3n sobre ejecutar pruebas.",
        "\n",
        "Closes #101",
        "```"
      ]
    },
    {
      "cell_type": "markdown",
      "metadata": {},
      "source": [
        "## Tools for building messages that meet conventional commits"
      ]
    },
    {
      "cell_type": "markdown",
      "metadata": {},
      "source": [
        "Although we have seen how to create commit messages using conventional commits, it is quite possible that we might make mistakes, so we can use tools that guide us in the creation of these messages. We are going to look at two: `commitizen` and the `Conventional Commits` plugin for vscode."
      ]
    },
    {
      "cell_type": "markdown",
      "metadata": {},
      "source": [
        "### Commitizen"
      ]
    },
    {
      "cell_type": "markdown",
      "metadata": {},
      "source": [
        "To use it, I will first create a new folder in which I will initialize a Git repository."
      ]
    },
    {
      "cell_type": "markdown",
      "metadata": {},
      "source": []
    },
    {
      "cell_type": "code",
      "execution_count": 1,
      "metadata": {},
      "outputs": [
        {
          "name": "stdout",
          "output_type": "stream",
          "text": [
            "\u001b[33mhint: Using 'master' as the name for the initial branch. This default branch name\u001b[m\n",
            "\u001b[33mhint: is subject to change. To configure the initial branch name to use in all\u001b[m\n",
            "\u001b[33mhint: of your new repositories, which will suppress this warning, call:\u001b[m\n",
            "\u001b[33mhint: \u001b[m\n",
            "\u001b[33mhint: \tgit config --global init.defaultBranch <name>\u001b[m\n",
            "\u001b[33mhint: \u001b[m\n",
            "\u001b[33mhint: Names commonly chosen instead of 'master' are 'main', 'trunk' and\u001b[m\n",
            "\u001b[33mhint: 'development'. The just-created branch can be renamed via this command:\u001b[m\n",
            "\u001b[33mhint: \u001b[m\n",
            "\u001b[33mhint: \tgit branch -m <name>\u001b[m\n",
            "Initialized empty Git repository in /home/maximofernandez/comitizen_folder/.git/\n"
          ]
        }
      ],
      "source": [
        "!mkdir ~/comitizen_folder && cd ~/comitizen_folder && git init"
      ]
    },
    {
      "cell_type": "markdown",
      "metadata": {},
      "source": [
        "Now I install `commitizen`"
      ]
    },
    {
      "cell_type": "code",
      "execution_count": 1,
      "metadata": {},
      "outputs": [
        {
          "name": "stdout",
          "output_type": "stream",
          "text": [
            "Collecting commitizen\n",
            "  Downloading commitizen-3.29.1-py3-none-any.whl.metadata (7.6 kB)\n",
            "Collecting argcomplete<3.6,>=1.12.1 (from commitizen)\n",
            "  Downloading argcomplete-3.5.1-py3-none-any.whl.metadata (16 kB)\n",
            "Requirement already satisfied: charset-normalizer<4,>=2.1.0 in /home/maximofernandez/miniforge3/lib/python3.12/site-packages (from commitizen) (3.3.2)\n",
            "Requirement already satisfied: colorama<0.5.0,>=0.4.1 in /home/maximofernandez/miniforge3/lib/python3.12/site-packages (from commitizen) (0.4.6)\n",
            "Collecting decli<0.7.0,>=0.6.0 (from commitizen)\n",
            "  Downloading decli-0.6.2-py3-none-any.whl.metadata (17 kB)\n",
            "Requirement already satisfied: jinja2>=2.10.3 in /home/maximofernandez/miniforge3/lib/python3.12/site-packages (from commitizen) (3.1.4)\n",
            "Requirement already satisfied: packaging>=19 in /home/maximofernandez/.local/lib/python3.12/site-packages (from commitizen) (24.1)\n",
            "Requirement already satisfied: pyyaml>=3.08 in /home/maximofernandez/miniforge3/lib/python3.12/site-packages (from commitizen) (6.0.2)\n",
            "Collecting questionary<3.0,>=2.0 (from commitizen)\n",
            "  Downloading questionary-2.0.1-py3-none-any.whl.metadata (5.4 kB)\n",
            "Collecting termcolor<3,>=1.1 (from commitizen)\n",
            "  Downloading termcolor-2.5.0-py3-none-any.whl.metadata (6.1 kB)\n",
            "Collecting tomlkit<1.0.0,>=0.5.3 (from commitizen)\n",
            "  Downloading tomlkit-0.13.2-py3-none-any.whl.metadata (2.7 kB)\n",
            "Requirement already satisfied: MarkupSafe>=2.0 in /home/maximofernandez/miniforge3/lib/python3.12/site-packages (from jinja2>=2.10.3->commitizen) (2.1.5)\n",
            "Collecting prompt_toolkit<=3.0.36,>=2.0 (from questionary<3.0,>=2.0->commitizen)\n",
            "  Downloading prompt_toolkit-3.0.36-py3-none-any.whl.metadata (7.0 kB)\n",
            "Requirement already satisfied: wcwidth in /home/maximofernandez/miniforge3/lib/python3.12/site-packages (from prompt_toolkit<=3.0.36,>=2.0->questionary<3.0,>=2.0->commitizen) (0.2.13)\n",
            "Downloading commitizen-3.29.1-py3-none-any.whl (71 kB)\n",
            "Downloading argcomplete-3.5.1-py3-none-any.whl (43 kB)\n",
            "Downloading decli-0.6.2-py3-none-any.whl (7.9 kB)\n",
            "Downloading questionary-2.0.1-py3-none-any.whl (34 kB)\n",
            "Downloading termcolor-2.5.0-py3-none-any.whl (7.8 kB)\n",
            "Downloading tomlkit-0.13.2-py3-none-any.whl (37 kB)\n",
            "Downloading prompt_toolkit-3.0.36-py3-none-any.whl (386 kB)\n",
            "Installing collected packages: tomlkit, termcolor, prompt_toolkit, decli, argcomplete, questionary, commitizen\n",
            "\u001b[31mERROR: pip's dependency resolver does not currently take into account all the packages that are installed. This behaviour is the source of the following dependency conflicts.\n",
            "ipython 8.27.0 requires prompt-toolkit<3.1.0,>=3.0.41, but you have prompt-toolkit 3.0.36 which is incompatible.\u001b[0m\u001b[31m\n",
            "\u001b[0mSuccessfully installed argcomplete-3.5.1 commitizen-3.29.1 decli-0.6.2 prompt_toolkit-3.0.36 questionary-2.0.1 termcolor-2.5.0 tomlkit-0.13.2\n",
            "Note: you may need to restart the kernel to use updated packages.\n"
          ]
        }
      ],
      "source": [
        "%pip install --user -U commitizen"
      ]
    },
    {
      "cell_type": "markdown",
      "metadata": {},
      "source": [
        "We check the installation"
      ]
    },
    {
      "cell_type": "code",
      "execution_count": 6,
      "metadata": {},
      "outputs": [
        {
          "name": "stdout",
          "output_type": "stream",
          "text": [
            "3.29.1\n",
            "\u001b[0m"
          ]
        }
      ],
      "source": [
        "!cz version"
      ]
    },
    {
      "cell_type": "markdown",
      "metadata": {},
      "source": [
        "I create a new file in the folder where I have initialized the Git repository and add it to the staging area."
      ]
    },
    {
      "cell_type": "code",
      "execution_count": 7,
      "metadata": {},
      "outputs": [],
      "source": [
        "!cd ~/comitizen_folder && touch README.md && git add README.md"
      ]
    },
    {
      "cell_type": "markdown",
      "metadata": {},
      "source": [
        "If I do `git status` I will see that the file is in the staging area and that I should now make a commit."
      ]
    },
    {
      "cell_type": "code",
      "execution_count": 8,
      "metadata": {},
      "outputs": [
        {
          "name": "stdout",
          "output_type": "stream",
          "text": [
            "On branch master\n",
            "\n",
            "No commits yet\n",
            "\n",
            "Changes to be committed:\n",
            "  (use \"git rm --cached <file>...\" to unstage)\n",
            "\t\u001b[32mnew file:   README.md\u001b[m\n",
            "\n"
          ]
        }
      ],
      "source": [
        "!cd ~/comitizen_folder && git status"
      ]
    },
    {
      "cell_type": "markdown",
      "metadata": {},
      "source": [
        "It's time to create a commit with `commitizen`. To do this, run `cz commit` and an assistant will appear to help you create the commit."
      ]
    },
    {
      "cell_type": "code",
      "execution_count": 9,
      "metadata": {},
      "outputs": [
        {
          "name": "stdout",
          "output_type": "stream",
          "text": [
            "? Select the type of change you are committing docs: Documentation only changes\n",
            "? What is the scope of this change? (class or file name): (press [enter] to skip)\n",
            " readme\n",
            "? Write a short and imperative summary of the code changes: (lower case and no period)\n",
            " First innit, create readme\n",
            "? Provide additional contextual information about the code changes: (press [enter] to skip)\n",
            " This is the first commit, I create a empty readme\n",
            "? Is this a BREAKING CHANGE? Correlates with MAJOR in SemVer No\n",
            "? Footer. Information about Breaking Changes and reference issues that this commit closes: (press [enter] to skip)\n",
            "\n",
            "\n",
            "docs(readme): First innit, create readme\n",
            "\n",
            "This is the first commit, I create a empty readme\n",
            "\n",
            "\n",
            "[master (root-commit) 4f646d4] docs(readme): First innit, create readme\n",
            " 1 file changed, 0 insertions(+), 0 deletions(-)\n",
            " create mode 100644 README.md\n",
            "\n",
            "Commit successful!"
          ]
        }
      ],
      "source": [
        "!cd ~/comitizen_folder && cz commit"
      ]
    },
    {
      "cell_type": "markdown",
      "metadata": {},
      "source": [
        "We have successfully created our first commit with `commitizen` that follows the rules of `Conventional Commits`."
      ]
    },
    {
      "cell_type": "markdown",
      "metadata": {},
      "source": [
        "### Conventional Commit Plugin for vscode"
      ]
    },
    {
      "cell_type": "markdown",
      "metadata": {},
      "source": [
        "Now we are going to do the same thing but with the [Conventional Commit](https://marketplace.visualstudio.com/items?itemName=vivaxy.vscode-conventional-commits) vscode plugin."
      ]
    },
    {
      "cell_type": "markdown",
      "metadata": {},
      "source": [
        "First, you need to install the plugin and once it is installed, press `Ctrl + Shift + P` and type `Conventional Commit`, hit `Enter` and an assistant will appear to create the commit."
      ]
    },
    {
      "cell_type": "markdown",
      "metadata": {},
      "source": [
        "For me, using this plugin has two advantages over `commitizen`",
        "\n",
        "* The first is that it allows us to add emojis from [gitmoji](https://gitmoji.dev/). This, if emojis are not overused and only a few are used, makes it easier to identify the type of commit when viewing the commit history.",
        "* The second is that it keeps track of the `scope`s you have used, so it prevents new scopes from being created and instead reuses the ones you have already used."
      ]
    },
    {
      "cell_type": "markdown",
      "metadata": {},
      "source": [
        "## Tools to check that the conventional commits convention is followed"
      ]
    },
    {
      "cell_type": "markdown",
      "metadata": {},
      "source": [
        "We have seen how to create commit messages that follow the `conventional commits` convention, but a good practice is to create a tool to check that the created commit follows the convention, especially when working in a team.",
        "\n",
        "There are tools that allow us to do this, such as `pre-commit`, but what they do is modify the git hooks, so we're going to do it ourselves and use `commitizen` to help us validate the commit message."
      ]
    },
    {
      "cell_type": "markdown",
      "metadata": {},
      "source": [
        "We have already installed `commitizen`, so let's see how it can be used to check a commit message."
      ]
    },
    {
      "cell_type": "markdown",
      "metadata": {},
      "source": [
        "First we create a file called `commit-msg` in the `.git/hooks` folder and give it execution permissions. Inside Git hooks there are [various types of files](https://git-scm.com/docs/githooks#_hooks) that can be used for different tasks, in this case we will use `commit-msg` which runs just before the commit is created."
      ]
    },
    {
      "cell_type": "code",
      "execution_count": 11,
      "metadata": {},
      "outputs": [],
      "source": [
        "!cd ~/comitizen_folder/.git/hooks && touch commit-msg && chmod +x commit-msg"
      ]
    },
    {
      "cell_type": "markdown",
      "metadata": {},
      "source": [
        "Now we add the following code to the `commit-msg` file",
        "\n",
        "``` bash\n",
        "#!/bin/sh",
        "This script validates the commit message using commitizen",
        "\n",
        "COMMIT_MSG_FILE=$1",
        "cz check --commit-msg-file $COMMIT_MSG_FILE",
        "```"
      ]
    },
    {
      "cell_type": "code",
      "execution_count": 16,
      "metadata": {},
      "outputs": [],
      "source": [
        "!cd ~/comitizen_folder/.git/hooks && \\\n",
        "echo '#!/bin/sh' > commit-msg && \\\n",
        "echo '# Este script valida el mensaje del commit usando commitizen' >> commit-msg && \\\n",
        "echo ' ' >> commit-msg && \\\n",
        "echo 'COMMIT_MSG_FILE=$1' >> commit-msg && \\\n",
        "echo 'cz check --commit-msg-file $COMMIT_MSG_FILE' >> commit-msg"
      ]
    },
    {
      "cell_type": "markdown",
      "metadata": {},
      "source": [
        "Once done, we try to make a commit with an incorrect message. First, we modify the README and add it to the staging area."
      ]
    },
    {
      "cell_type": "code",
      "execution_count": 18,
      "metadata": {},
      "outputs": [],
      "source": [
        "!cd ~/comitizen_folder && echo '.' >> README.md && git add README.md"
      ]
    },
    {
      "cell_type": "markdown",
      "metadata": {},
      "source": [
        "Now we make a commit with an incorrect message"
      ]
    },
    {
      "cell_type": "code",
      "execution_count": 20,
      "metadata": {},
      "outputs": [
        {
          "name": "stdout",
          "output_type": "stream",
          "text": [
            "\u001b[31mcommit validation: failed!\n",
            "please enter a commit message in the commitizen format.\n",
            "commit \"\": \"Add dot to README\"\n",
            "pattern: (?s)(build|ci|docs|feat|fix|perf|refactor|style|test|chore|revert|bump)(\\(\\S+\\))?!?:( [^\\n\\r]+)((\\n\\n.*)|(\\s*))?$\u001b[0m\n",
            "\u001b[0m"
          ]
        }
      ],
      "source": [
        "!cd ~/comitizen_folder && git commit -m \"Add dot to README\""
      ]
    },
    {
      "cell_type": "markdown",
      "metadata": {},
      "source": [
        "Now we make a commit with a correct message"
      ]
    },
    {
      "cell_type": "code",
      "execution_count": 21,
      "metadata": {},
      "outputs": [
        {
          "name": "stdout",
          "output_type": "stream",
          "text": [
            "\u001b[32mCommit validation: successful!\u001b[0m\n",
            "\u001b[0m[master d488656] docs(readme): :memo: Add dot to README\n",
            " 1 file changed, 1 insertion(+), 1 deletion(-)\n"
          ]
        }
      ],
      "source": [
        "!cd ~/comitizen_folder && git commit -m \"docs(readme): :memo: Add dot to README\""
      ]
    },
    {
      "cell_type": "markdown",
      "metadata": {},
      "source": [
        "It has validated the commit correctly, so if we look at the commit history, we will see that the commit with the incorrect message was not created and the commit with the correct message was."
      ]
    },
    {
      "cell_type": "code",
      "execution_count": 22,
      "metadata": {},
      "outputs": [
        {
          "name": "stdout",
          "output_type": "stream",
          "text": [
            "\u001b[33mcommit d488656297c7cb448a25dd33a008cb5ce1e14e83\u001b[m\u001b[33m (\u001b[m\u001b[1;36mHEAD\u001b[m\u001b[33m -> \u001b[m\u001b[1;32mmaster\u001b[m\u001b[33m)\u001b[m\n",
            "Author: MaximoFN <maximofn@gmail.com>\n",
            "Date:   Tue Oct 8 11:22:19 2024 +0200\n",
            "\n",
            "    docs(readme): :memo: Add dot to README\n",
            "\n",
            "\u001b[33mcommit fb518c2b903a259b2e44972e88aabf5656f97be9\u001b[m\n",
            "Author: MaximoFN <maximofn@gmail.com>\n",
            "Date:   Tue Oct 8 10:57:41 2024 +0200\n",
            "\n",
            "    docs(readme): :memo: Update readme\n",
            "    \n",
            "    Update readme with text conventional commits\n",
            "\n",
            "\u001b[33mcommit 4f646d45047a45b549243efbfde9e331d45e23f1\u001b[m\n",
            "Author: MaximoFN <maximofn@gmail.com>\n",
            "Date:   Tue Oct 8 10:48:07 2024 +0200\n",
            "\n",
            "    docs(readme): First innit, create readme\n",
            "    \n",
            "    This is the first commit, I create a empty readme\n"
          ]
        }
      ],
      "source": [
        "!cd ~/comitizen_folder && git log"
      ]
    },
    {
      "cell_type": "markdown",
      "metadata": {},
      "source": [
        "## Tools for generating changelogs from conventional commits"
      ]
    },
    {
      "cell_type": "markdown",
      "metadata": {},
      "source": [
        "Since we have the commits written using the same convention, we can automatically create a changelog with `git-changelog`. We install the dependencies."
      ]
    },
    {
      "cell_type": "code",
      "execution_count": 25,
      "metadata": {},
      "outputs": [
        {
          "name": "stdout",
          "output_type": "stream",
          "text": [
            "Collecting git-changelog\n",
            "  Downloading git_changelog-2.5.2-py3-none-any.whl.metadata (5.4 kB)\n",
            "Collecting appdirs>=1.4 (from git-changelog)\n",
            "  Downloading appdirs-1.4.4-py2.py3-none-any.whl.metadata (9.0 kB)\n",
            "Requirement already satisfied: Jinja2>=2.10 in /home/maximofernandez/miniforge3/lib/python3.12/site-packages (from git-changelog) (3.1.4)\n",
            "Requirement already satisfied: packaging>=24.0 in /home/maximofernandez/.local/lib/python3.12/site-packages (from git-changelog) (24.1)\n",
            "Collecting semver>=2.13 (from git-changelog)\n",
            "  Downloading semver-3.0.2-py3-none-any.whl.metadata (5.0 kB)\n",
            "Requirement already satisfied: MarkupSafe>=2.0 in /home/maximofernandez/miniforge3/lib/python3.12/site-packages (from Jinja2>=2.10->git-changelog) (2.1.5)\n",
            "Downloading git_changelog-2.5.2-py3-none-any.whl (32 kB)\n",
            "Downloading appdirs-1.4.4-py2.py3-none-any.whl (9.6 kB)\n",
            "Downloading semver-3.0.2-py3-none-any.whl (17 kB)\n",
            "Installing collected packages: appdirs, semver, git-changelog\n",
            "Successfully installed appdirs-1.4.4 git-changelog-2.5.2 semver-3.0.2\n",
            "Note: you may need to restart the kernel to use updated packages.\n"
          ]
        }
      ],
      "source": [
        "%pip install git-changelog"
      ]
    },
    {
      "cell_type": "markdown",
      "metadata": {},
      "source": [
        "Now we can create a changelog with `git-changelog`. Since we created very simple commits, the changelog will be very simple."
      ]
    },
    {
      "cell_type": "code",
      "execution_count": 26,
      "metadata": {},
      "outputs": [
        {
          "name": "stdout",
          "output_type": "stream",
          "text": [
            "# Changelog\n",
            "\n",
            "All notable changes to this project will be documented in this file.\n",
            "\n",
            "The format is based on [Keep a Changelog](http://keepachangelog.com/en/1.0.0/)\n",
            "and this project adheres to [Semantic Versioning](http://semver.org/spec/v2.0.0.html).\n",
            "\n",
            "<!-- insertion marker -->\n",
            "## Unreleased\n",
            "\n",
            "<small>[Compare with latest]()</small>\n",
            "\n",
            "<!-- insertion marker -->\n"
          ]
        }
      ],
      "source": [
        "!cd ~/comitizen_folder && git-changelog"
      ]
    },
    {
      "cell_type": "markdown",
      "metadata": {},
      "source": [
        "We can also ask him to write it to a file and many more options"
      ]
    },
    {
      "cell_type": "code",
      "execution_count": 27,
      "metadata": {},
      "outputs": [
        {
          "name": "stdout",
          "output_type": "stream",
          "text": [
            "usage: git-changelog [--config-file [PATH ...]] [-b] [-B VERSION] [-n SCHEME]\n",
            "                     [-h] [-i] [-g REGEX] [-m MARKER] [-o FILE] [-p PROVIDER]\n",
            "                     [-r] [-R] [-I FILE] [-c CONVENTION] [-s SECTIONS]\n",
            "                     [-t TEMPLATE] [-T] [-E] [-Z] [-F RANGE] [-j KEY=VALUE]\n",
            "                     [-V] [--debug-info]\n",
            "                     [REPOSITORY]\n",
            "\n",
            "Automatic Changelog generator using Jinja2 templates.\n",
            "\n",
            "This tool parses your commit messages to extract useful data\n",
            "that is then rendered using Jinja2 templates, for example to\n",
            "a changelog file formatted in Markdown.\n",
            "\n",
            "Each Git tag will be treated as a version of your project.\n",
            "Each version contains a set of commits, and will be an entry\n",
            "in your changelog. Commits in each version will be grouped\n",
            "by sections, depending on the commit convention you follow.\n",
            "\n",
            "### Conventions\n",
            "\n",
            "#### Basic\n",
            "\n",
            "*Default sections:*\n",
            "\n",
            "- add: Added\n",
            "- fix: Fixed\n",
            "- change: Changed\n",
            "- remove: Removed\n",
            "\n",
            "*Additional sections:*\n",
            "\n",
            "- merge: Merged\n",
            "- doc: Documented\n",
            "\n",
            "#### Angular\n",
            "\n",
            "*Default sections:*\n",
            "\n",
            "- feat: Features\n",
            "- fix: Bug Fixes\n",
            "- revert: Reverts\n",
            "- ref, refactor: Code Refactoring\n",
            "- perf: Performance Improvements\n",
            "\n",
            "*Additional sections:*\n",
            "\n",
            "- build: Build\n",
            "- chore: Chore\n",
            "- ci: Continuous Integration\n",
            "- deps: Dependencies\n",
            "- doc, docs: Docs\n",
            "- style: Style\n",
            "- test, tests: Tests\n",
            "\n",
            "#### ConventionalCommit\n",
            "\n",
            "*Default sections:*\n",
            "\n",
            "- feat: Features\n",
            "- fix: Bug Fixes\n",
            "- revert: Reverts\n",
            "- ref, refactor: Code Refactoring\n",
            "- perf: Performance Improvements\n",
            "\n",
            "*Additional sections:*\n",
            "\n",
            "- build: Build\n",
            "- chore: Chore\n",
            "- ci: Continuous Integration\n",
            "- deps: Dependencies\n",
            "- doc, docs: Docs\n",
            "- style: Style\n",
            "- test, tests: Tests\n",
            "\n",
            "positional arguments:\n",
            "  REPOSITORY            The repository path, relative or absolute. Default:\n",
            "                        current working directory.\n",
            "\n",
            "options:\n",
            "  --config-file [PATH ...]\n",
            "                        Configuration file(s).\n",
            "  -b, --bump-latest     Deprecated, use --bump=auto instead. Guess the new\n",
            "                        latest version by bumping the previous one based on\n",
            "                        the set of unreleased commits. For example, if a\n",
            "                        commit contains breaking changes, bump the major\n",
            "                        number (or the minor number for 0.x versions). Else if\n",
            "                        there are new features, bump the minor number. Else\n",
            "                        just bump the patch number. Default: unset (false).\n",
            "  -B VERSION, --bump VERSION\n",
            "                        Specify the bump from latest version for the set of\n",
            "                        unreleased commits. Can be one of `auto`, `major`,\n",
            "                        `minor`, `patch` or a valid SemVer version (eg.\n",
            "                        1.2.3). For both SemVer and PEP 440 versioning schemes\n",
            "                        (see -n), `auto` will bump the major number if a\n",
            "                        commit contains breaking changes (or the minor number\n",
            "                        for 0.x versions, see -Z), else the minor number if\n",
            "                        there are new features, else the patch number.\n",
            "                        Default: unset (false).\n",
            "  -n SCHEME, --versioning SCHEME\n",
            "                        Versioning scheme to use when bumping and comparing\n",
            "                        versions. The selected scheme will impact the values\n",
            "                        accepted by the `--bump` option. Supported: `pep440`,\n",
            "                        `semver`. PEP 440 provides the following bump\n",
            "                        strategies: `auto`, `epoch`, `release`, `major`,\n",
            "                        `minor`, `micro`, `patch`, `pre`, `alpha`, `beta`,\n",
            "                        `candidate`, `post`, `dev`. Values `auto`, `major`,\n",
            "                        `minor`, `micro` can be suffixed with one of `+alpha`,\n",
            "                        `+beta`, `+candidate`, and/or `+dev`. Values `alpha`,\n",
            "                        `beta` and `candidate` can be suffixed with `+dev`.\n",
            "                        Examples: `auto+alpha`, `major+beta+dev`, `micro+dev`,\n",
            "                        `candidate+dev`, etc.. SemVer provides the following\n",
            "                        bump strategies: `auto`, `major`, `minor`, `patch`,\n",
            "                        `release`. See the docs for more information. Default:\n",
            "                        unset (`semver`).\n",
            "  -h, --help            Show this help message and exit.\n",
            "  -i, --in-place        Insert new entries (versions missing from changelog)\n",
            "                        in-place. An output file must be specified. With\n",
            "                        custom templates, you can pass two additional\n",
            "                        arguments: `--version-regex` and `--marker-line`. When\n",
            "                        writing in-place, an `in_place` variable will be\n",
            "                        injected in the Jinja context, allowing to adapt the\n",
            "                        generated contents (for example to skip changelog\n",
            "                        headers or footers). Default: unset (false).\n",
            "  -g REGEX, --version-regex REGEX\n",
            "                        A regular expression to match versions in the existing\n",
            "                        changelog (used to find the latest release) when\n",
            "                        writing in-place. The regular expression must be a\n",
            "                        Python regex with a `version` named group. Default:\n",
            "                        `^## \\[(?P<version>v?[^\\]]+)`.\n",
            "  -m MARKER, --marker-line MARKER\n",
            "                        A marker line at which to insert new entries (versions\n",
            "                        missing from changelog). If two marker lines are\n",
            "                        present in the changelog, the contents between those\n",
            "                        two lines will be overwritten (useful to update an\n",
            "                        'Unreleased' entry for example). Default: `<!--\n",
            "                        insertion marker -->`.\n",
            "  -o FILE, --output FILE\n",
            "                        Output to given file. Default: standard output.\n",
            "  -p PROVIDER, --provider PROVIDER\n",
            "                        Explicitly specify the repository provider. Default:\n",
            "                        unset.\n",
            "  -r, --parse-refs      Parse provider-specific references in commit messages\n",
            "                        (GitHub/GitLab/Bitbucket issues, PRs, etc.). Default:\n",
            "                        unset (false).\n",
            "  -R, --release-notes   Output release notes to stdout based on the last entry\n",
            "                        in the changelog. Default: unset (false).\n",
            "  -I FILE, --input FILE\n",
            "                        Read from given file when creating release notes.\n",
            "                        Default: `CHANGELOG.md`.\n",
            "  -c CONVENTION, --convention CONVENTION, --commit-style CONVENTION, --style CONVENTION\n",
            "                        The commit convention to match against. Default:\n",
            "                        `basic`.\n",
            "  -s SECTIONS, --sections SECTIONS\n",
            "                        A comma-separated list of sections to render. See the\n",
            "                        available sections for each supported convention in\n",
            "                        the description. Default: unset (None).\n",
            "  -t TEMPLATE, --template TEMPLATE\n",
            "                        The Jinja2 template to use. Prefix it with `path:` to\n",
            "                        specify the path to a Jinja templated file. Default:\n",
            "                        `keepachangelog`.\n",
            "  -T, --trailers, --git-trailers\n",
            "                        Parse Git trailers in the commit message. See\n",
            "                        https://git-scm.com/docs/git-interpret-trailers.\n",
            "                        Default: unset (false).\n",
            "  -E, --omit-empty-versions\n",
            "                        Omit empty versions from the output. Default: unset\n",
            "                        (false).\n",
            "  -Z, --no-zerover      By default, breaking changes on a 0.x don't bump the\n",
            "                        major version, maintaining it at 0. With this option,\n",
            "                        a breaking change will bump a 0.x version to 1.0.\n",
            "  -F RANGE, --filter-commits RANGE\n",
            "                        The Git revision-range filter to use (e.g.\n",
            "                        `v1.2.0..`). Default: no filter.\n",
            "  -j KEY=VALUE, --jinja-context KEY=VALUE\n",
            "                        Pass additional key/value pairs to the template.\n",
            "                        Option can be used multiple times. The key/value pairs\n",
            "                        are accessible as 'jinja_context' in the template.\n",
            "  -V, --version         Show the current version of the program and exit.\n",
            "  --debug-info          Print debug information.\n"
          ]
        }
      ],
      "source": [
        "!git-changelog -h"
      ]
    },
    {
      "cell_type": "markdown",
      "metadata": {},
      "source": [
        "We could already generate changelogs easily from the commits that follow the `conventional commits` convention. Additionally, we can add it to a CI/CD pipeline so that it is generated automatically with each release."
      ]
    }
  ],
  "metadata": {
    "kernelspec": {
      "display_name": "base",
      "language": "python",
      "name": "python3"
    },
    "language_info": {
      "codemirror_mode": {
        "name": "ipython",
        "version": 3
      },
      "file_extension": ".py",
      "mimetype": "text/x-python",
      "name": "python",
      "nbconvert_exporter": "python",
      "pygments_lexer": "ipython3",
      "version": "3.12.5"
    },
    "maximofn": {
      "date": "2024-10-16",
      "description_en": "\ud83d\ude20 Are your commits written in alien language? \ud83d\udc7d Join the club! \ud83d\ude05 Learn Conventional Commits in Python and stop torturing your team with cryptic messages. git-changelog and commitizen will be your new best friends. \ud83e\udd1d",
      "description_es": "\ud83d\ude20 \u00bfTus commits parecen escritos en lenguaje alien\u00edgena? \ud83d\udc7d \u00a1\u00danete al club! \ud83d\ude05 Aprende Conventional Commits en Python y deja de torturar a tu equipo con mensajes cr\u00edpticos. git-changelog y commitizen ser\u00e1n tus nuevos mejores amigos. \ud83e\udd1d",
      "description_pt": "\ud83d\ude20 Seus commits parecem escritos em uma l\u00edngua alien\u00edgena? \ud83d\udc7d Junte-se ao clube! \ud83d\ude05 Aprenda Conventional Commits em Python e pare de tortura sua equipe com mensagens enigm\u00e1ticas. git-changelog e commitizen ser\u00e3o seus novos melhores amigos. \ud83e\udd1d",
      "end_url": "conventional-commits",
      "image": "https://images.maximofn.com/conventional-commits.webp",
      "image_hover_path": "https://images.maximofn.com/conventional-commits.webp",
      "keywords_en": "conventional commits, commitizen, git-changelog, changelog, git, gitmoji, vscode, plugin, conventional commit",
      "keywords_es": "conventional commits, commitizen, git-changelog, changelog, git, gitmoji, vscode, plugin, conventional commit",
      "keywords_pt": "conventional commits, commitizen, git-changelog, changelog, git, gitmoji, vscode, plugin, conventional commit",
      "title_en": "Conventional commits",
      "title_es": "Conventional commits",
      "title_pt": "Conventional commits"
    }
  },
  "nbformat": 4,
  "nbformat_minor": 2
}