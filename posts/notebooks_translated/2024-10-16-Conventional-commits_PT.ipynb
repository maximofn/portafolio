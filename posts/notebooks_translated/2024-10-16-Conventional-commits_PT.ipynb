{
  "cells": [
    {
      "cell_type": "markdown",
      "metadata": {},
      "source": [
        "# Commits convencionais"
      ]
    },
    {
      "cell_type": "markdown",
      "metadata": {},
      "source": [
        " > Aviso: Este post foi traduzido para o portugu\u00eas usando um modelo de tradu\u00e7\u00e3o autom\u00e1tica. Por favor, me avise se encontrar algum erro."
      ]
    },
    {
      "cell_type": "markdown",
      "metadata": {},
      "source": [
        "Este post foi criado a partir do [v\u00eddeo](https://www.youtube.com/watch?v=SigVVJmUGv8) de [Carlos Azaustre](https://x.com/carlosazaustre), s\u00f3 que como ele explica como fazer tudo com ferramentas de JavaScript, h\u00e1 muita gente desenvolvedora de Python que n\u00e3o tem instalado Node.js, portanto fiz uma vers\u00e3o do mesmo mas tudo com ferramentas de Python."
      ]
    },
    {
      "cell_type": "markdown",
      "metadata": {},
      "source": [
        "## O que s\u00e3o os conventional commits?"
      ]
    },
    {
      "cell_type": "markdown",
      "metadata": {},
      "source": [
        "a integra\u00e7\u00e3o com ferramentas de gest\u00e3o de mudan\u00e7as e releases."
      ]
    },
    {
      "cell_type": "markdown",
      "metadata": {},
      "source": [
        "### Formato das Mensagens de Commit"
      ]
    },
    {
      "cell_type": "markdown",
      "metadata": {},
      "source": [
        "Uma mensagem de commit em Conventional Commits segue um formato espec\u00edfico:",
        "\n",
        "``` git",
        "<tipo>[escopo opcional]: <descri\u00e7\u00e3o>",
        "\n",
        "[corpo opcional]",
        "\n",
        "[rodap\u00e9(s) opcional(is)]",
        ""
      ]
    },
    {
      "cell_type": "markdown",
      "metadata": {},
      "source": [
        "Vamos v\u00ea-lo mais detalhadamente"
      ]
    },
    {
      "cell_type": "markdown",
      "metadata": {},
      "source": [
        "#### Tipo `type`"
      ]
    },
    {
      "cell_type": "markdown",
      "metadata": {},
      "source": [
        "O tipo de commit indica a natureza da mudan\u00e7a. Alguns tipos comuns s\u00e3o:\n",
        "\n",
        "* **fix**: \u00c9 usado para corre\u00e7\u00e3o de bugs.",
        "* **feat**: \u00c9 usado para novas funcionalidades.",
        " * **docs**: \u00c9 usado para mudan\u00e7as na documenta\u00e7\u00e3o.",
        "* **style**: Utiliza-se para altera\u00e7\u00f5es que n\u00e3o afetam o significado do c\u00f3digo (por exemplo, formata\u00e7\u00e3o, remo\u00e7\u00e3o de espa\u00e7os em branco).",
        " * **refactor**: \u00c9 usado para mudan\u00e7as de c\u00f3digo que nem melhoram nem pioram a funcionalidade, como reorganizar o c\u00f3digo.",
        " * **perf**: Usado para mudan\u00e7as que melhoram o desempenho.",
        "* **test**: Utiliza-se para adicionar ou atualizar testes.",
        " * **chore**: Utiliza-se para mudan\u00e7as no processo ou nas ferramentas de desenvolvimento.",
        "* **ci**: \u00c9 usado para altera\u00e7\u00f5es nos arquivos de configura\u00e7\u00e3o de integra\u00e7\u00e3o cont\u00ednua.",
        " * **build**: Usado para altera\u00e7\u00f5es que afetam o sistema de constru\u00e7\u00e3o ou depend\u00eancias externas.",
        " * **revert**: Utiliza-se para reverter um commit anterior."
      ]
    },
    {
      "cell_type": "markdown",
      "metadata": {},
      "source": [
        "#### Escopo `scope`"
      ]
    },
    {
      "cell_type": "markdown",
      "metadata": {},
      "source": [
        "O escopo \u00e9 opcional e \u00e9 utilizado para especificar a parte do projeto que foi modificada. Por exemplo, se voc\u00ea est\u00e1 trabalhando em um componente espec\u00edfico de um aplicativo web, o escopo pode ser o nome do componente.",
        "\n",
        "Exemplo:",
        "\n",
        "``` git\n",
        "fix(auth): corrigir problema de autentica\u00e7\u00e3o",
        ""
      ]
    },
    {
      "cell_type": "markdown",
      "metadata": {},
      "source": [
        "#### Descri\u00e7\u00e3o `description`"
      ]
    },
    {
      "cell_type": "markdown",
      "metadata": {},
      "source": [
        "A descri\u00e7\u00e3o \u00e9 uma breve explica\u00e7\u00e3o da mudan\u00e7a. Deve ser concisa e clara, e fornecer contexto suficiente para entender o prop\u00f3sito do commit.",
        "\n",
        "Exemplo:",
        "\n",
        "``` git",
        "fix(auth): corrigir erro de autentica\u00e7\u00e3o na p\u00e1gina de login",
        ""
      ]
    },
    {
      "cell_type": "markdown",
      "metadata": {},
      "source": [
        "#### Corpo `body`"
      ]
    },
    {
      "cell_type": "markdown",
      "metadata": {},
      "source": [
        "O corpo \u00e9 opcional e \u00e9 utilizado para fornecer mais detalhes sobre a mudan\u00e7a. Aqui voc\u00ea pode incluir motiva\u00e7\u00f5es para a mudan\u00e7a e contrastes com a implementa\u00e7\u00e3o anterior.",
        "\n",
        "Exemplo:",
        "\n",
        "``` git\n",
        "fix(auth): corrigir erro de autentica\u00e7\u00e3o na p\u00e1gina de login",
        "\n",
        "O token de acesso estava expirando mais cedo do que o esperado devido a um erro no c\u00e1lculo da data de expira\u00e7\u00e3o. Isso foi corrigido ajustando a l\u00f3gica de c\u00e1lculo.",
        ""
      ]
    },
    {
      "cell_type": "markdown",
      "metadata": {},
      "source": [
        "#### Rodap\u00e9 `footer`"
      ]
    },
    {
      "cell_type": "markdown",
      "metadata": {},
      "source": [
        "O rodap\u00e9 \u00e9 opcional e \u00e9 utilizado para refer\u00eancias adicionais, como n\u00fameros de issues fechados ou commits relacionados.",
        "\n",
        "Exemplo:\n",
        "\n",
        "``` git",
        "fix(auth): corrigir erro de autentica\u00e7\u00e3o na p\u00e1gina de login",
        "\n",
        "O token de acesso estava expirando antes do esperado devido a um erro no c\u00e1lculo da data de expira\u00e7\u00e3o. Ele foi corrigido ajustando a l\u00f3gica de c\u00e1lculo.",
        "\n",
        "Fecha #123",
        ""
      ]
    },
    {
      "cell_type": "markdown",
      "metadata": {},
      "source": [
        "### Benef\u00edcios dos Conventional Commits"
      ]
    },
    {
      "cell_type": "markdown",
      "metadata": {},
      "source": [
        "* **Clareza e Consist\u00eancia**: As mensagens de commit padronizadas s\u00e3o mais f\u00e1ceis de entender e seguir, o que melhora a colabora\u00e7\u00e3o em equipes de desenvolvimento.",
        " * **Gera\u00e7\u00e3o Autom\u00e1tica de Notas de Vers\u00e3o**: Podem ser usadas ferramentas para gerar notas de vers\u00e3o automaticamente com base nas mensagens de commit.",
        "* **Integra\u00e7\u00e3o com Ferramentas de Gerenciamento de Mudan\u00e7as**: Muitas ferramentas de desenvolvimento e gerenciamento de projetos podem se integrar com Conventional Commits para automatizar tarefas como a gera\u00e7\u00e3o de changelogs e o gerenciamento de releases.",
        " * **Hist\u00f3rico de Mudan\u00e7as Estruturado**: O hist\u00f3rico de mudan\u00e7as torna-se mais estruturado e f\u00e1cil de navegar, o que facilita a revis\u00e3o de mudan\u00e7as e a depura\u00e7\u00e3o de problemas."
      ]
    },
    {
      "cell_type": "markdown",
      "metadata": {},
      "source": [
        "### Exemplos pr\u00e1ticos"
      ]
    },
    {
      "cell_type": "markdown",
      "metadata": {},
      "source": [
        "Exemplo 1: Corre\u00e7\u00e3o de um Bug",
        "\n",
        "``` git\n```",
        "fix(api): corrigir erro na valida\u00e7\u00e3o do usu\u00e1rio",
        "\n",
        "O endpoint de registro de usu\u00e1rio estava permitindo registros com endere\u00e7os de e-mail inv\u00e1lidos. Uma valida\u00e7\u00e3o adicional foi adicionada para garantir que os endere\u00e7os de e-mail sejam v\u00e1lidos.",
        "\n",
        "Fecha #456",
        "```"
      ]
    },
    {
      "cell_type": "markdown",
      "metadata": {},
      "source": [
        "Exemplo 2: Adicionar uma Nova Funcionalidade",
        "\n",
        "``` git\n",
        "feat(api): adicionar endpoint de recupera\u00e7\u00e3o de senha",
        "\n",
        "Implementado um novo endpoint que permite aos usu\u00e1rios solicitar um link de recupera\u00e7\u00e3o de senha. O link \u00e9 enviado para o endere\u00e7o de e-mail registrado.",
        "\n",
        "Fecha #789",
        ""
      ]
    },
    {
      "cell_type": "markdown",
      "metadata": {},
      "source": [
        "Exemplo 3: Melhoria da documenta\u00e7\u00e3o",
        "\n",
        "``` git\n",
        "docs: atualizar guia de contribui\u00e7\u00e3o",
        "\n",
        "Atualizou as instru\u00e7\u00f5es de configura\u00e7\u00e3o para o ambiente de desenvolvimento e adicionou uma se\u00e7\u00e3o sobre como executar os testes.",
        "\n",
        "Fecha #101",
        "```"
      ]
    },
    {
      "cell_type": "markdown",
      "metadata": {},
      "source": [
        "## Ferramentas para construir mensagens que atendam aos conventional commits"
      ]
    },
    {
      "cell_type": "markdown",
      "metadata": {},
      "source": [
        "Embora tenhamos visto como criar mensagens de commit atrav\u00e9s de conventional commits, \u00e9 bastante poss\u00edvel que cometamos erros, por isso podemos usar ferramentas que nos guiem na cria\u00e7\u00e3o dessas mensagens. Vamos ver duas: `commitizen` e o plugin `Conventional Commit` do vscode."
      ]
    },
    {
      "cell_type": "markdown",
      "metadata": {},
      "source": [
        "### Commitizen"
      ]
    },
    {
      "cell_type": "markdown",
      "metadata": {},
      "source": [
        "Para us\u00e1-la, primeiro vou criar uma nova pasta na qual vou iniciar um reposit\u00f3rio do Git"
      ]
    },
    {
      "cell_type": "markdown",
      "metadata": {},
      "source": []
    },
    {
      "cell_type": "code",
      "execution_count": 1,
      "metadata": {},
      "outputs": [
        {
          "name": "stdout",
          "output_type": "stream",
          "text": [
            "\u001b[33mhint: Using 'master' as the name for the initial branch. This default branch name\u001b[m\n",
            "\u001b[33mhint: is subject to change. To configure the initial branch name to use in all\u001b[m\n",
            "\u001b[33mhint: of your new repositories, which will suppress this warning, call:\u001b[m\n",
            "\u001b[33mhint: \u001b[m\n",
            "\u001b[33mhint: \tgit config --global init.defaultBranch <name>\u001b[m\n",
            "\u001b[33mhint: \u001b[m\n",
            "\u001b[33mhint: Names commonly chosen instead of 'master' are 'main', 'trunk' and\u001b[m\n",
            "\u001b[33mhint: 'development'. The just-created branch can be renamed via this command:\u001b[m\n",
            "\u001b[33mhint: \u001b[m\n",
            "\u001b[33mhint: \tgit branch -m <name>\u001b[m\n",
            "Initialized empty Git repository in /home/maximofernandez/comitizen_folder/.git/\n"
          ]
        }
      ],
      "source": [
        "!mkdir ~/comitizen_folder && cd ~/comitizen_folder && git init"
      ]
    },
    {
      "cell_type": "markdown",
      "metadata": {},
      "source": [
        "Agora instalo `commitizen`"
      ]
    },
    {
      "cell_type": "code",
      "execution_count": 1,
      "metadata": {},
      "outputs": [
        {
          "name": "stdout",
          "output_type": "stream",
          "text": [
            "Collecting commitizen\n",
            "  Downloading commitizen-3.29.1-py3-none-any.whl.metadata (7.6 kB)\n",
            "Collecting argcomplete<3.6,>=1.12.1 (from commitizen)\n",
            "  Downloading argcomplete-3.5.1-py3-none-any.whl.metadata (16 kB)\n",
            "Requirement already satisfied: charset-normalizer<4,>=2.1.0 in /home/maximofernandez/miniforge3/lib/python3.12/site-packages (from commitizen) (3.3.2)\n",
            "Requirement already satisfied: colorama<0.5.0,>=0.4.1 in /home/maximofernandez/miniforge3/lib/python3.12/site-packages (from commitizen) (0.4.6)\n",
            "Collecting decli<0.7.0,>=0.6.0 (from commitizen)\n",
            "  Downloading decli-0.6.2-py3-none-any.whl.metadata (17 kB)\n",
            "Requirement already satisfied: jinja2>=2.10.3 in /home/maximofernandez/miniforge3/lib/python3.12/site-packages (from commitizen) (3.1.4)\n",
            "Requirement already satisfied: packaging>=19 in /home/maximofernandez/.local/lib/python3.12/site-packages (from commitizen) (24.1)\n",
            "Requirement already satisfied: pyyaml>=3.08 in /home/maximofernandez/miniforge3/lib/python3.12/site-packages (from commitizen) (6.0.2)\n",
            "Collecting questionary<3.0,>=2.0 (from commitizen)\n",
            "  Downloading questionary-2.0.1-py3-none-any.whl.metadata (5.4 kB)\n",
            "Collecting termcolor<3,>=1.1 (from commitizen)\n",
            "  Downloading termcolor-2.5.0-py3-none-any.whl.metadata (6.1 kB)\n",
            "Collecting tomlkit<1.0.0,>=0.5.3 (from commitizen)\n",
            "  Downloading tomlkit-0.13.2-py3-none-any.whl.metadata (2.7 kB)\n",
            "Requirement already satisfied: MarkupSafe>=2.0 in /home/maximofernandez/miniforge3/lib/python3.12/site-packages (from jinja2>=2.10.3->commitizen) (2.1.5)\n",
            "Collecting prompt_toolkit<=3.0.36,>=2.0 (from questionary<3.0,>=2.0->commitizen)\n",
            "  Downloading prompt_toolkit-3.0.36-py3-none-any.whl.metadata (7.0 kB)\n",
            "Requirement already satisfied: wcwidth in /home/maximofernandez/miniforge3/lib/python3.12/site-packages (from prompt_toolkit<=3.0.36,>=2.0->questionary<3.0,>=2.0->commitizen) (0.2.13)\n",
            "Downloading commitizen-3.29.1-py3-none-any.whl (71 kB)\n",
            "Downloading argcomplete-3.5.1-py3-none-any.whl (43 kB)\n",
            "Downloading decli-0.6.2-py3-none-any.whl (7.9 kB)\n",
            "Downloading questionary-2.0.1-py3-none-any.whl (34 kB)\n",
            "Downloading termcolor-2.5.0-py3-none-any.whl (7.8 kB)\n",
            "Downloading tomlkit-0.13.2-py3-none-any.whl (37 kB)\n",
            "Downloading prompt_toolkit-3.0.36-py3-none-any.whl (386 kB)\n",
            "Installing collected packages: tomlkit, termcolor, prompt_toolkit, decli, argcomplete, questionary, commitizen\n",
            "\u001b[31mERROR: pip's dependency resolver does not currently take into account all the packages that are installed. This behaviour is the source of the following dependency conflicts.\n",
            "ipython 8.27.0 requires prompt-toolkit<3.1.0,>=3.0.41, but you have prompt-toolkit 3.0.36 which is incompatible.\u001b[0m\u001b[31m\n",
            "\u001b[0mSuccessfully installed argcomplete-3.5.1 commitizen-3.29.1 decli-0.6.2 prompt_toolkit-3.0.36 questionary-2.0.1 termcolor-2.5.0 tomlkit-0.13.2\n",
            "Note: you may need to restart the kernel to use updated packages.\n"
          ]
        }
      ],
      "source": [
        "%pip install --user -U commitizen"
      ]
    },
    {
      "cell_type": "markdown",
      "metadata": {},
      "source": [
        "Verificamos a instala\u00e7\u00e3o"
      ]
    },
    {
      "cell_type": "code",
      "execution_count": 6,
      "metadata": {},
      "outputs": [
        {
          "name": "stdout",
          "output_type": "stream",
          "text": [
            "3.29.1\n",
            "\u001b[0m"
          ]
        }
      ],
      "source": [
        "!cz version"
      ]
    },
    {
      "cell_type": "markdown",
      "metadata": {},
      "source": [
        "Crio um novo arquivo na pasta na qual eu inicializei o reposit\u00f3rio de git e o adiciono \u00e0 \u00e1rea de staging"
      ]
    },
    {
      "cell_type": "code",
      "execution_count": 7,
      "metadata": {},
      "outputs": [],
      "source": [
        "!cd ~/comitizen_folder && touch README.md && git add README.md"
      ]
    },
    {
      "cell_type": "markdown",
      "metadata": {},
      "source": [
        "Se eu fizer `git status`, verei que o arquivo est\u00e1 na \u00e1rea de staging e que agora devo fazer um commit."
      ]
    },
    {
      "cell_type": "code",
      "execution_count": 8,
      "metadata": {},
      "outputs": [
        {
          "name": "stdout",
          "output_type": "stream",
          "text": [
            "On branch master\n",
            "\n",
            "No commits yet\n",
            "\n",
            "Changes to be committed:\n",
            "  (use \"git rm --cached <file>...\" to unstage)\n",
            "\t\u001b[32mnew file:   README.md\u001b[m\n",
            "\n"
          ]
        }
      ],
      "source": [
        "!cd ~/comitizen_folder && git status"
      ]
    },
    {
      "cell_type": "markdown",
      "metadata": {},
      "source": [
        "\u00c9 hora de criar um commit com `commitizen`, para isso executamos `cz commit` e aparecer\u00e1 um assistente para criar o commit"
      ]
    },
    {
      "cell_type": "code",
      "execution_count": 9,
      "metadata": {},
      "outputs": [
        {
          "name": "stdout",
          "output_type": "stream",
          "text": [
            "? Select the type of change you are committing docs: Documentation only changes\n",
            "? What is the scope of this change? (class or file name): (press [enter] to skip)\n",
            " readme\n",
            "? Write a short and imperative summary of the code changes: (lower case and no period)\n",
            " First innit, create readme\n",
            "? Provide additional contextual information about the code changes: (press [enter] to skip)\n",
            " This is the first commit, I create a empty readme\n",
            "? Is this a BREAKING CHANGE? Correlates with MAJOR in SemVer No\n",
            "? Footer. Information about Breaking Changes and reference issues that this commit closes: (press [enter] to skip)\n",
            "\n",
            "\n",
            "docs(readme): First innit, create readme\n",
            "\n",
            "This is the first commit, I create a empty readme\n",
            "\n",
            "\n",
            "[master (root-commit) 4f646d4] docs(readme): First innit, create readme\n",
            " 1 file changed, 0 insertions(+), 0 deletions(-)\n",
            " create mode 100644 README.md\n",
            "\n",
            "Commit successful!"
          ]
        }
      ],
      "source": [
        "!cd ~/comitizen_folder && cz commit"
      ]
    },
    {
      "cell_type": "markdown",
      "metadata": {},
      "source": [
        "Pronto, j\u00e1 temos nosso primeiro commit criado com `commitizen` que segue as regras de `Conventional Commits`"
      ]
    },
    {
      "cell_type": "markdown",
      "metadata": {},
      "source": [
        "### Plugin Conventional Commit de vscode"
      ]
    },
    {
      "cell_type": "markdown",
      "metadata": {},
      "source": [
        "Agora vamos fazer o mesmo, s\u00f3 que com o plugin do vscode [Conventional Commit](https://marketplace.visualstudio.com/items?itemName=vivaxy.vscode-conventional-commits)"
      ]
    },
    {
      "cell_type": "markdown",
      "metadata": {},
      "source": [
        "Primeiro, \u00e9 preciso instalar o plugin e, uma vez instalado, pressionamos `Ctrl + Shift + P` e escrevemos `Conventional Commit`, pressionamos `enter` e aparecer\u00e1 um assistente para criar o commit."
      ]
    },
    {
      "cell_type": "markdown",
      "metadata": {},
      "source": [
        "Para mim, o uso deste plugin tem duas vantagens sobre o `commitizen`",
        "\n",
        "* A primeira \u00e9 que nos permite adicionar emojis do [gitmoji](https://gitmoji.dev/). O que, se n\u00e3o se abusa dos emojis e se usar apenas alguns, torna mais f\u00e1cil identificar o tipo de commit ao ver o hist\u00f3rico de commits.",
        "* A segunda \u00e9 que guarda os \u00e2mbitos `scope`s que voc\u00ea usou, portanto n\u00e3o cria novos \u00e2mbitos, mas reutiliza os que voc\u00ea j\u00e1 usou."
      ]
    },
    {
      "cell_type": "markdown",
      "metadata": {},
      "source": [
        "## Ferramentas para verificar a conformidade com a conven\u00e7\u00e3o de conventional commits"
      ]
    },
    {
      "cell_type": "markdown",
      "metadata": {},
      "source": [
        "Vimos como criar mensagens de commit que seguem a conven\u00e7\u00e3o de `conventional commits`, mas uma boa pr\u00e1tica \u00e9 criar uma ferramenta para verificar se o commit criado segue a conven\u00e7\u00e3o, especialmente quando se trabalha em equipe.",
        "\n",
        "H\u00e1 ferramentas que nos permitem fazer isso como `pre-commit`, mas o que fazem \u00e9 modificar os hooks do git, ent\u00e3o vamos fazer isso n\u00f3s mesmos e usar o `commitizen` para nos ajudar a validar a mensagem de commit."
      ]
    },
    {
      "cell_type": "markdown",
      "metadata": {},
      "source": [
        "J\u00e1 instalamos o `commitizen`, ent\u00e3o vamos ver como podemos us\u00e1-lo para verificar uma mensagem de commit"
      ]
    },
    {
      "cell_type": "markdown",
      "metadata": {},
      "source": [
        "Primeiro, criamos um arquivo chamado `commit-msg` na pasta `.git/hooks` e damos permiss\u00f5es de execu\u00e7\u00e3o. Dentro dos hooks do Git, h\u00e1 [v\u00e1rios tipos de arquivos](https://git-scm.com/docs/githooks#_hooks) que podem ser usados para diferentes tarefas. Neste caso, vamos usar `commit-msg`, que \u00e9 executado justo antes de o commit ser criado."
      ]
    },
    {
      "cell_type": "code",
      "execution_count": 11,
      "metadata": {},
      "outputs": [],
      "source": [
        "!cd ~/comitizen_folder/.git/hooks && touch commit-msg && chmod +x commit-msg"
      ]
    },
    {
      "cell_type": "markdown",
      "metadata": {},
      "source": [
        "Agora adicionamos o seguinte c\u00f3digo ao arquivo `commit-msg`",
        "\n",
        "``` bash\n",
        "#!/bin/sh",
        "Este script valida a mensagem do commit usando commitizen",
        "\n",
        "COMMIT_MSG_FILE=$1",
        "cz check --commit-msg-file $COMMIT_MSG_FILE",
        "```"
      ]
    },
    {
      "cell_type": "code",
      "execution_count": 16,
      "metadata": {},
      "outputs": [],
      "source": [
        "!cd ~/comitizen_folder/.git/hooks && \\\n",
        "echo '#!/bin/sh' > commit-msg && \\\n",
        "echo '# Este script valida el mensaje del commit usando commitizen' >> commit-msg && \\\n",
        "echo ' ' >> commit-msg && \\\n",
        "echo 'COMMIT_MSG_FILE=$1' >> commit-msg && \\\n",
        "echo 'cz check --commit-msg-file $COMMIT_MSG_FILE' >> commit-msg"
      ]
    },
    {
      "cell_type": "markdown",
      "metadata": {},
      "source": [
        "Uma vez feito, tentamos fazer um commit com uma mensagem incorreta. Primeiro modificamos o readme e o adicionamos \u00e0 \u00e1rea de staging."
      ]
    },
    {
      "cell_type": "code",
      "execution_count": 18,
      "metadata": {},
      "outputs": [],
      "source": [
        "!cd ~/comitizen_folder && echo '.' >> README.md && git add README.md"
      ]
    },
    {
      "cell_type": "markdown",
      "metadata": {},
      "source": [
        "Agora fazemos um commit com uma mensagem incorreta"
      ]
    },
    {
      "cell_type": "code",
      "execution_count": 20,
      "metadata": {},
      "outputs": [
        {
          "name": "stdout",
          "output_type": "stream",
          "text": [
            "\u001b[31mcommit validation: failed!\n",
            "please enter a commit message in the commitizen format.\n",
            "commit \"\": \"Add dot to README\"\n",
            "pattern: (?s)(build|ci|docs|feat|fix|perf|refactor|style|test|chore|revert|bump)(\\(\\S+\\))?!?:( [^\\n\\r]+)((\\n\\n.*)|(\\s*))?$\u001b[0m\n",
            "\u001b[0m"
          ]
        }
      ],
      "source": [
        "!cd ~/comitizen_folder && git commit -m \"Add dot to README\""
      ]
    },
    {
      "cell_type": "markdown",
      "metadata": {},
      "source": [
        "Agora fazemos um commit com uma mensagem correta"
      ]
    },
    {
      "cell_type": "code",
      "execution_count": 21,
      "metadata": {},
      "outputs": [
        {
          "name": "stdout",
          "output_type": "stream",
          "text": [
            "\u001b[32mCommit validation: successful!\u001b[0m\n",
            "\u001b[0m[master d488656] docs(readme): :memo: Add dot to README\n",
            " 1 file changed, 1 insertion(+), 1 deletion(-)\n"
          ]
        }
      ],
      "source": [
        "!cd ~/comitizen_folder && git commit -m \"docs(readme): :memo: Add dot to README\""
      ]
    },
    {
      "cell_type": "markdown",
      "metadata": {},
      "source": [
        "Nos validou o commit corretamente, portanto se olharmos o hist\u00f3rico de commits, veremos que o commit com a mensagem incorreta n\u00e3o foi criado e o commit com a mensagem correta sim."
      ]
    },
    {
      "cell_type": "code",
      "execution_count": 22,
      "metadata": {},
      "outputs": [
        {
          "name": "stdout",
          "output_type": "stream",
          "text": [
            "\u001b[33mcommit d488656297c7cb448a25dd33a008cb5ce1e14e83\u001b[m\u001b[33m (\u001b[m\u001b[1;36mHEAD\u001b[m\u001b[33m -> \u001b[m\u001b[1;32mmaster\u001b[m\u001b[33m)\u001b[m\n",
            "Author: MaximoFN <maximofn@gmail.com>\n",
            "Date:   Tue Oct 8 11:22:19 2024 +0200\n",
            "\n",
            "    docs(readme): :memo: Add dot to README\n",
            "\n",
            "\u001b[33mcommit fb518c2b903a259b2e44972e88aabf5656f97be9\u001b[m\n",
            "Author: MaximoFN <maximofn@gmail.com>\n",
            "Date:   Tue Oct 8 10:57:41 2024 +0200\n",
            "\n",
            "    docs(readme): :memo: Update readme\n",
            "    \n",
            "    Update readme with text conventional commits\n",
            "\n",
            "\u001b[33mcommit 4f646d45047a45b549243efbfde9e331d45e23f1\u001b[m\n",
            "Author: MaximoFN <maximofn@gmail.com>\n",
            "Date:   Tue Oct 8 10:48:07 2024 +0200\n",
            "\n",
            "    docs(readme): First innit, create readme\n",
            "    \n",
            "    This is the first commit, I create a empty readme\n"
          ]
        }
      ],
      "source": [
        "!cd ~/comitizen_folder && git log"
      ]
    },
    {
      "cell_type": "markdown",
      "metadata": {},
      "source": [
        "## Ferramentas para criar changelogs a partir de conventional commits"
      ]
    },
    {
      "cell_type": "markdown",
      "metadata": {},
      "source": [
        "Como temos os commits escritos pelo mesmo conv\u00eanio, podemos criar changelog automaticamente com `git-changelog`. Instalamos as depend\u00eancias"
      ]
    },
    {
      "cell_type": "code",
      "execution_count": 25,
      "metadata": {},
      "outputs": [
        {
          "name": "stdout",
          "output_type": "stream",
          "text": [
            "Collecting git-changelog\n",
            "  Downloading git_changelog-2.5.2-py3-none-any.whl.metadata (5.4 kB)\n",
            "Collecting appdirs>=1.4 (from git-changelog)\n",
            "  Downloading appdirs-1.4.4-py2.py3-none-any.whl.metadata (9.0 kB)\n",
            "Requirement already satisfied: Jinja2>=2.10 in /home/maximofernandez/miniforge3/lib/python3.12/site-packages (from git-changelog) (3.1.4)\n",
            "Requirement already satisfied: packaging>=24.0 in /home/maximofernandez/.local/lib/python3.12/site-packages (from git-changelog) (24.1)\n",
            "Collecting semver>=2.13 (from git-changelog)\n",
            "  Downloading semver-3.0.2-py3-none-any.whl.metadata (5.0 kB)\n",
            "Requirement already satisfied: MarkupSafe>=2.0 in /home/maximofernandez/miniforge3/lib/python3.12/site-packages (from Jinja2>=2.10->git-changelog) (2.1.5)\n",
            "Downloading git_changelog-2.5.2-py3-none-any.whl (32 kB)\n",
            "Downloading appdirs-1.4.4-py2.py3-none-any.whl (9.6 kB)\n",
            "Downloading semver-3.0.2-py3-none-any.whl (17 kB)\n",
            "Installing collected packages: appdirs, semver, git-changelog\n",
            "Successfully installed appdirs-1.4.4 git-changelog-2.5.2 semver-3.0.2\n",
            "Note: you may need to restart the kernel to use updated packages.\n"
          ]
        }
      ],
      "source": [
        "%pip install git-changelog"
      ]
    },
    {
      "cell_type": "markdown",
      "metadata": {},
      "source": [
        "Agora podemos criar um changelog com `git-changelog`. Como criamos alguns commits muito simples, o changelog ser\u00e1 muito simples."
      ]
    },
    {
      "cell_type": "code",
      "execution_count": 26,
      "metadata": {},
      "outputs": [
        {
          "name": "stdout",
          "output_type": "stream",
          "text": [
            "# Changelog\n",
            "\n",
            "All notable changes to this project will be documented in this file.\n",
            "\n",
            "The format is based on [Keep a Changelog](http://keepachangelog.com/en/1.0.0/)\n",
            "and this project adheres to [Semantic Versioning](http://semver.org/spec/v2.0.0.html).\n",
            "\n",
            "<!-- insertion marker -->\n",
            "## Unreleased\n",
            "\n",
            "<small>[Compare with latest]()</small>\n",
            "\n",
            "<!-- insertion marker -->\n"
          ]
        }
      ],
      "source": [
        "!cd ~/comitizen_folder && git-changelog"
      ]
    },
    {
      "cell_type": "markdown",
      "metadata": {},
      "source": [
        "Tamb\u00e9m podemos pedir-lhe que escreva em um arquivo e muitas mais op\u00e7\u00f5es"
      ]
    },
    {
      "cell_type": "code",
      "execution_count": 27,
      "metadata": {},
      "outputs": [
        {
          "name": "stdout",
          "output_type": "stream",
          "text": [
            "usage: git-changelog [--config-file [PATH ...]] [-b] [-B VERSION] [-n SCHEME]\n",
            "                     [-h] [-i] [-g REGEX] [-m MARKER] [-o FILE] [-p PROVIDER]\n",
            "                     [-r] [-R] [-I FILE] [-c CONVENTION] [-s SECTIONS]\n",
            "                     [-t TEMPLATE] [-T] [-E] [-Z] [-F RANGE] [-j KEY=VALUE]\n",
            "                     [-V] [--debug-info]\n",
            "                     [REPOSITORY]\n",
            "\n",
            "Automatic Changelog generator using Jinja2 templates.\n",
            "\n",
            "This tool parses your commit messages to extract useful data\n",
            "that is then rendered using Jinja2 templates, for example to\n",
            "a changelog file formatted in Markdown.\n",
            "\n",
            "Each Git tag will be treated as a version of your project.\n",
            "Each version contains a set of commits, and will be an entry\n",
            "in your changelog. Commits in each version will be grouped\n",
            "by sections, depending on the commit convention you follow.\n",
            "\n",
            "### Conventions\n",
            "\n",
            "#### Basic\n",
            "\n",
            "*Default sections:*\n",
            "\n",
            "- add: Added\n",
            "- fix: Fixed\n",
            "- change: Changed\n",
            "- remove: Removed\n",
            "\n",
            "*Additional sections:*\n",
            "\n",
            "- merge: Merged\n",
            "- doc: Documented\n",
            "\n",
            "#### Angular\n",
            "\n",
            "*Default sections:*\n",
            "\n",
            "- feat: Features\n",
            "- fix: Bug Fixes\n",
            "- revert: Reverts\n",
            "- ref, refactor: Code Refactoring\n",
            "- perf: Performance Improvements\n",
            "\n",
            "*Additional sections:*\n",
            "\n",
            "- build: Build\n",
            "- chore: Chore\n",
            "- ci: Continuous Integration\n",
            "- deps: Dependencies\n",
            "- doc, docs: Docs\n",
            "- style: Style\n",
            "- test, tests: Tests\n",
            "\n",
            "#### ConventionalCommit\n",
            "\n",
            "*Default sections:*\n",
            "\n",
            "- feat: Features\n",
            "- fix: Bug Fixes\n",
            "- revert: Reverts\n",
            "- ref, refactor: Code Refactoring\n",
            "- perf: Performance Improvements\n",
            "\n",
            "*Additional sections:*\n",
            "\n",
            "- build: Build\n",
            "- chore: Chore\n",
            "- ci: Continuous Integration\n",
            "- deps: Dependencies\n",
            "- doc, docs: Docs\n",
            "- style: Style\n",
            "- test, tests: Tests\n",
            "\n",
            "positional arguments:\n",
            "  REPOSITORY            The repository path, relative or absolute. Default:\n",
            "                        current working directory.\n",
            "\n",
            "options:\n",
            "  --config-file [PATH ...]\n",
            "                        Configuration file(s).\n",
            "  -b, --bump-latest     Deprecated, use --bump=auto instead. Guess the new\n",
            "                        latest version by bumping the previous one based on\n",
            "                        the set of unreleased commits. For example, if a\n",
            "                        commit contains breaking changes, bump the major\n",
            "                        number (or the minor number for 0.x versions). Else if\n",
            "                        there are new features, bump the minor number. Else\n",
            "                        just bump the patch number. Default: unset (false).\n",
            "  -B VERSION, --bump VERSION\n",
            "                        Specify the bump from latest version for the set of\n",
            "                        unreleased commits. Can be one of `auto`, `major`,\n",
            "                        `minor`, `patch` or a valid SemVer version (eg.\n",
            "                        1.2.3). For both SemVer and PEP 440 versioning schemes\n",
            "                        (see -n), `auto` will bump the major number if a\n",
            "                        commit contains breaking changes (or the minor number\n",
            "                        for 0.x versions, see -Z), else the minor number if\n",
            "                        there are new features, else the patch number.\n",
            "                        Default: unset (false).\n",
            "  -n SCHEME, --versioning SCHEME\n",
            "                        Versioning scheme to use when bumping and comparing\n",
            "                        versions. The selected scheme will impact the values\n",
            "                        accepted by the `--bump` option. Supported: `pep440`,\n",
            "                        `semver`. PEP 440 provides the following bump\n",
            "                        strategies: `auto`, `epoch`, `release`, `major`,\n",
            "                        `minor`, `micro`, `patch`, `pre`, `alpha`, `beta`,\n",
            "                        `candidate`, `post`, `dev`. Values `auto`, `major`,\n",
            "                        `minor`, `micro` can be suffixed with one of `+alpha`,\n",
            "                        `+beta`, `+candidate`, and/or `+dev`. Values `alpha`,\n",
            "                        `beta` and `candidate` can be suffixed with `+dev`.\n",
            "                        Examples: `auto+alpha`, `major+beta+dev`, `micro+dev`,\n",
            "                        `candidate+dev`, etc.. SemVer provides the following\n",
            "                        bump strategies: `auto`, `major`, `minor`, `patch`,\n",
            "                        `release`. See the docs for more information. Default:\n",
            "                        unset (`semver`).\n",
            "  -h, --help            Show this help message and exit.\n",
            "  -i, --in-place        Insert new entries (versions missing from changelog)\n",
            "                        in-place. An output file must be specified. With\n",
            "                        custom templates, you can pass two additional\n",
            "                        arguments: `--version-regex` and `--marker-line`. When\n",
            "                        writing in-place, an `in_place` variable will be\n",
            "                        injected in the Jinja context, allowing to adapt the\n",
            "                        generated contents (for example to skip changelog\n",
            "                        headers or footers). Default: unset (false).\n",
            "  -g REGEX, --version-regex REGEX\n",
            "                        A regular expression to match versions in the existing\n",
            "                        changelog (used to find the latest release) when\n",
            "                        writing in-place. The regular expression must be a\n",
            "                        Python regex with a `version` named group. Default:\n",
            "                        `^## \\[(?P<version>v?[^\\]]+)`.\n",
            "  -m MARKER, --marker-line MARKER\n",
            "                        A marker line at which to insert new entries (versions\n",
            "                        missing from changelog). If two marker lines are\n",
            "                        present in the changelog, the contents between those\n",
            "                        two lines will be overwritten (useful to update an\n",
            "                        'Unreleased' entry for example). Default: `<!--\n",
            "                        insertion marker -->`.\n",
            "  -o FILE, --output FILE\n",
            "                        Output to given file. Default: standard output.\n",
            "  -p PROVIDER, --provider PROVIDER\n",
            "                        Explicitly specify the repository provider. Default:\n",
            "                        unset.\n",
            "  -r, --parse-refs      Parse provider-specific references in commit messages\n",
            "                        (GitHub/GitLab/Bitbucket issues, PRs, etc.). Default:\n",
            "                        unset (false).\n",
            "  -R, --release-notes   Output release notes to stdout based on the last entry\n",
            "                        in the changelog. Default: unset (false).\n",
            "  -I FILE, --input FILE\n",
            "                        Read from given file when creating release notes.\n",
            "                        Default: `CHANGELOG.md`.\n",
            "  -c CONVENTION, --convention CONVENTION, --commit-style CONVENTION, --style CONVENTION\n",
            "                        The commit convention to match against. Default:\n",
            "                        `basic`.\n",
            "  -s SECTIONS, --sections SECTIONS\n",
            "                        A comma-separated list of sections to render. See the\n",
            "                        available sections for each supported convention in\n",
            "                        the description. Default: unset (None).\n",
            "  -t TEMPLATE, --template TEMPLATE\n",
            "                        The Jinja2 template to use. Prefix it with `path:` to\n",
            "                        specify the path to a Jinja templated file. Default:\n",
            "                        `keepachangelog`.\n",
            "  -T, --trailers, --git-trailers\n",
            "                        Parse Git trailers in the commit message. See\n",
            "                        https://git-scm.com/docs/git-interpret-trailers.\n",
            "                        Default: unset (false).\n",
            "  -E, --omit-empty-versions\n",
            "                        Omit empty versions from the output. Default: unset\n",
            "                        (false).\n",
            "  -Z, --no-zerover      By default, breaking changes on a 0.x don't bump the\n",
            "                        major version, maintaining it at 0. With this option,\n",
            "                        a breaking change will bump a 0.x version to 1.0.\n",
            "  -F RANGE, --filter-commits RANGE\n",
            "                        The Git revision-range filter to use (e.g.\n",
            "                        `v1.2.0..`). Default: no filter.\n",
            "  -j KEY=VALUE, --jinja-context KEY=VALUE\n",
            "                        Pass additional key/value pairs to the template.\n",
            "                        Option can be used multiple times. The key/value pairs\n",
            "                        are accessible as 'jinja_context' in the template.\n",
            "  -V, --version         Show the current version of the program and exit.\n",
            "  --debug-info          Print debug information.\n"
          ]
        }
      ],
      "source": [
        "!git-changelog -h"
      ]
    },
    {
      "cell_type": "markdown",
      "metadata": {},
      "source": [
        "J\u00e1 podemos gerar changelogs facilmente a partir dos commits que seguem a conven\u00e7\u00e3o de `conventional commits`. Al\u00e9m disso, podemos adicion\u00e1-lo a um pipeline de CI/CD para que seja gerado automaticamente em cada release."
      ]
    }
  ],
  "metadata": {
    "kernelspec": {
      "display_name": "base",
      "language": "python",
      "name": "python3"
    },
    "maximofn": {
      "date": "2024-10-16",
      "description_es": "\ud83d\ude20 \u00bfTus commits parecen escritos en lenguaje alien\u00edgena? \ud83d\udc7d \u00a1\u00danete al club! \ud83d\ude05 Aprende Conventional Commits en Python y deja de torturar a tu equipo con mensajes cr\u00edpticos. git-changelog y commitizen ser\u00e1n tus nuevos mejores amigos. \ud83e\udd1d",
      "description_en": "\ud83d\ude20 Are your commits written in alien language? \ud83d\udc7d Join the club! \ud83d\ude05 Learn Conventional Commits in Python and stop torturing your team with cryptic messages. git-changelog and commitizen will be your new best friends. \ud83e\udd1d",
      "description_pt": "\ud83d\ude20 Seus commits parecem escritos em uma l\u00edngua alien\u00edgena? \ud83d\udc7d Junte-se ao clube! \ud83d\ude05 Aprenda Conventional Commits em Python e pare de tortura sua equipe com mensagens enigm\u00e1ticas. git-changelog e commitizen ser\u00e3o seus novos melhores amigos. \ud83e\udd1d",
      "end_url": "conventional-commits",
      "image": "https://pub-fb664c455eca46a2ba762a065ac900f7.r2.dev/conventional-commits.webp",
      "keywords_en": "conventional commits, commitizen, git-changelog, changelog, git, gitmoji, vscode, plugin, conventional commit",
      "keywords_es": "conventional commits, commitizen, git-changelog, changelog, git, gitmoji, vscode, plugin, conventional commit",
      "keywords_pt": "conventional commits, commitizen, git-changelog, changelog, git, gitmoji, vscode, plugin, conventional commit",
      "title_en": "Conventional commits",
      "title_es": "Conventional commits",
      "title_pt": "Conventional commits"
    },
    "language_info": {
      "codemirror_mode": {
        "name": "ipython",
        "version": 3
      },
      "file_extension": ".py",
      "mimetype": "text/x-python",
      "name": "python",
      "nbconvert_exporter": "python",
      "pygments_lexer": "ipython3",
      "version": "3.12.5"
    }
  },
  "nbformat": 4,
  "nbformat_minor": 2
}