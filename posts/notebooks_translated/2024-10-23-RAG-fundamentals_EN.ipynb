{
  "cells": [
    {
      "cell_type": "markdown",
      "metadata": {},
      "source": [
        "# RAG: Fundamentals and Advanced Techniques"
      ]
    },
    {
      "cell_type": "markdown",
      "metadata": {},
      "source": [
        " > Disclaimer: This post has been translated to English using a machine translation model. Please, let me know if you find any mistakes."
      ]
    },
    {
      "cell_type": "markdown",
      "metadata": {},
      "source": [
        "In this post we are going to see what the `RAG` (`Retrieval Augmented Generation`) technique consists of and how it can be implemented in a language model."
      ]
    },
    {
      "cell_type": "markdown",
      "metadata": {},
      "source": [
        "To make it free, instead of using an OpenAI account (as you'll see in most tutorials) we're going to use the `API inference` of Hugging Face, which has a free tier of 1000 requests per day, which is more than enough to make this post."
      ]
    },
    {
      "cell_type": "markdown",
      "metadata": {},
      "source": [
        "## Setting up Hugging Face's `API Inference`"
      ]
    },
    {
      "cell_type": "markdown",
      "metadata": {},
      "source": [
        "To be able to use the `API Inference` of HuggingFace, the first thing you need is to have an account on HuggingFace, once you have it you have to go to [Access tokens](https://huggingface.co/settings/keys) in your profile settings and generate a new token.\n",
        "\n",
        "We need to give it a name, in my case I'm going to name it `rag-fundamentals` and enable the permission `Make calls to serverless Inference API`. A token will be created for us that we need to copy"
      ]
    },
    {
      "cell_type": "markdown",
      "metadata": {},
      "source": [
        "To manage the token we are going to create a file in the same path where we are working called `.env` and we are going to put the token that we have copied in the file in the following way:\n",
        "\n",
        "``` bash\n",
        "RAG_FUNDAMENTALS_ADVANCE_TECHNIQUES_TOKEN=\"hf_....\"\n",
        "```"
      ]
    },
    {
      "cell_type": "markdown",
      "metadata": {},
      "source": [
        "Now to be able to obtain the token we need to have `dotenv` installed, which we install via\n",
        "\n",
        "```bash\n",
        "pip install python-dotenv\n",
        "```\n",
        "\n",
        "And we run the following"
      ]
    },
    {
      "cell_type": "code",
      "execution_count": 1,
      "metadata": {},
      "outputs": [],
      "source": [
        "import os\n",
        "import dotenv\n",
        "\n",
        "dotenv.load_dotenv()\n",
        "\n",
        "RAG_FUNDAMENTALS_ADVANCE_TECHNIQUES_TOKEN = os.getenv(\"RAG_FUNDAMENTALS_ADVANCE_TECHNIQUES_TOKEN\")"
      ]
    },
    {
      "cell_type": "markdown",
      "metadata": {},
      "source": [
        "Now that we have a token, we create a client, for which we need to have the `huggingface_hub` library installed, which we do using conda or pip\n",
        "\n",
        "``` bash\n",
        "conda install -c conda-forge huggingface_hub\n",
        "```\n",
        "\n",
        "or\n",
        "\n",
        "``` bash\n",
        "pip install --upgrade huggingface_hub\n",
        "```"
      ]
    },
    {
      "cell_type": "markdown",
      "metadata": {},
      "source": [
        "Now we have to choose which model we are going to use. You can see the available models on the [Supported models](https://huggingface.co/docs/api-inference/supported-models) page of the `API Inference` documentation of Hugging Face.\n",
        "\n",
        "As at the time of writing the post, the best available is `Qwen2.5-72B-Instruct`, so we will use that model."
      ]
    },
    {
      "cell_type": "code",
      "execution_count": 2,
      "metadata": {},
      "outputs": [],
      "source": [
        "MODEL = \"Qwen/Qwen2.5-72B-Instruct\""
      ]
    },
    {
      "cell_type": "markdown",
      "metadata": {},
      "source": [
        "Now we can create the client"
      ]
    },
    {
      "cell_type": "code",
      "execution_count": 3,
      "metadata": {},
      "outputs": [
        {
          "data": {
            "text/plain": [
              "<InferenceClient(model='Qwen/Qwen2.5-72B-Instruct', timeout=None)>"
            ]
          },
          "execution_count": 3,
          "metadata": {},
          "output_type": "execute_result"
        }
      ],
      "source": [
        "from huggingface_hub import InferenceClient\n",
        "\n",
        "client = InferenceClient(api_key=RAG_FUNDAMENTALS_ADVANCE_TECHNIQUES_TOKEN, model=MODEL)\n",
        "client"
      ]
    },
    {
      "cell_type": "markdown",
      "metadata": {},
      "source": [
        "We make a test to see if it works"
      ]
    },
    {
      "cell_type": "code",
      "execution_count": 4,
      "metadata": {},
      "outputs": [
        {
          "name": "stdout",
          "output_type": "stream",
          "text": [
            "¡Hola! Estoy bien, gracias por preguntar. ¿Cómo estás tú? ¿En qué puedo ayudarte hoy?\n"
          ]
        }
      ],
      "source": [
        "message = [\n",
        "\t{ \"role\": \"user\", \"content\": \"Hola, qué tal?\" }\n",
        "]\n",
        "\n",
        "stream = client.chat.completions.create(\n",
        "\tmessages=message, \n",
        "\ttemperature=0.5,\n",
        "\tmax_tokens=1024,\n",
        "\ttop_p=0.7,\n",
        "\tstream=False\n",
        ")\n",
        "\n",
        "response = stream.choices[0].message.content\n",
        "print(response)"
      ]
    },
    {
      "cell_type": "markdown",
      "metadata": {},
      "source": [
        "## What is `RAG`?"
      ]
    },
    {
      "cell_type": "markdown",
      "metadata": {},
      "source": [
        "`RAG` stands for `Retrieval Augmented Generation`, it's a technique created to obtain information from documents. Although LLMs can be very powerful and have a lot of knowledge, they will never be able to answer you about private documents, such as your company's reports, internal documentation, etc. That's why `RAG` was created, to be able to use these LLMs on that private documentation.\n",
        "\n",
        "![¿Qué es RAG?](https://pub-fb664c455eca46a2ba762a065ac900f7.r2.dev/RAG.webp)"
      ]
    },
    {
      "cell_type": "markdown",
      "metadata": {},
      "source": [
        "The idea is that a user asks a question about that private documentation, the system is able to get the part of the documentation where the answer to that question is, it is passed to an LLM the question and the part of the documentation and the LLM generates the answer for the user"
      ]
    },
    {
      "cell_type": "markdown",
      "metadata": {},
      "source": [
        "### How is information stored?"
      ]
    },
    {
      "cell_type": "markdown",
      "metadata": {},
      "source": [
        "It is known, and if you didn't know, I'll tell you now, that LLMs have a limit of information that can be passed to them, this is called the context window. This is due to the internal architectures of LLMs that are not relevant now. But the important thing is that you can't pass a document and a question without more, because it's likely that the LLM won't be able to process all that information.\n",
        "\n",
        "In cases where more information is usually passed than its context window allows, what usually happens is that the LLM does not pay attention to the end of the input. Imagine you ask the LLM something about your document, that information is at the end of the document and the LLM does not read it.\n",
        "\n",
        "Therefore, what is done is to divide the documentation into blocks called `chunk`s. So that the documentation is stored in a bunch of `chunk`s, which are pieces of that documentation. So when the user asks a question, the `chunk` where the answer to that question is, is passed to the LLM.\n",
        "\n",
        "In addition to dividing the documentation into `chunks`, these are converted to embeddings, which are numerical representations of the `chunks`. This is done because LLMs actually don't understand text, but numbers, and the `chunks` are converted to numbers so that the LLM can understand them. If you want to learn more about embeddings, you can read my post about [transformers](https://www.maximofn.com/transformers) in which I explain how transformers work, which is the architecture behind LLMs. You can also read my post about [ChromaDB](https://www.maximofn.com/chromadb) where I explain how embeddings are stored in a vector database. And it would also be interesting for you to read my post about the [HuggingFace Tokenizers](https://www.maximofn.com/hugging-face-tokenizers) library, which explains how text is tokenized, which is the step prior to generating embeddings.\n",
        "\n",
        "![RAG - embeddings](https://pub-fb664c455eca46a2ba762a065ac900f7.r2.dev/RAG-embeddings.webp)"
      ]
    },
    {
      "cell_type": "markdown",
      "metadata": {},
      "source": [
        "### How to get the correct `chunk`?"
      ]
    },
    {
      "cell_type": "markdown",
      "metadata": {},
      "source": [
        "We've said that the documentation is divided into `chunks` and the `chunk` containing the answer to the user's question is passed to the LLM. But, how do we know which `chunk` contains the answer? To do this, what is done is to convert the user's question into an embedding, and the similarity between the question's embedding and the embeddings of the `chunks` is calculated. So, the `chunk` with the highest similarity is the one that is passed to the LLM.\n",
        "\n",
        "![RAG - embeddings similarity](https://pub-fb664c455eca46a2ba762a065ac900f7.r2.dev/rag-chunk_retreival.webp)"
      ]
    },
    {
      "cell_type": "markdown",
      "metadata": {},
      "source": [
        "### Let's review what `RAG` is"
      ]
    },
    {
      "cell_type": "markdown",
      "metadata": {},
      "source": [
        "On the one hand, we have the `retrieval`, which is obtaining the correct `chunk` of documentation, on the other hand, we have the `augmented`, which is passing the user's question and the `chunk` to the LLM, and finally, we have the `generation`, which is obtaining the response generated by the LLM."
      ]
    },
    {
      "cell_type": "markdown",
      "metadata": {},
      "source": [
        "## Vector Database"
      ]
    },
    {
      "cell_type": "markdown",
      "metadata": {},
      "source": [
        "We have seen that documentation is divided into `chunks` and stored in a vector database, so we need to use one. For this post, I'm going to use [ChromaDB](https://www.trychroma.com/), which is a widely used vector database and I also have a [post](https://www.maximofn.com/chromadb) where I explain how it works."
      ]
    },
    {
      "cell_type": "markdown",
      "metadata": {},
      "source": [
        "To get started, we first need to install the ChromaDB library, to do this we install it with Conda or with pip\n",
        "\n",
        "``` bash\n",
        "conda install conda-forge::chromadb\n",
        "```\n",
        "\n",
        "or\n",
        "\n",
        "``` bash\n",
        "pip install chromadb\n",
        "```"
      ]
    },
    {
      "cell_type": "markdown",
      "metadata": {},
      "source": [
        "### Embedding Function"
      ]
    },
    {
      "cell_type": "markdown",
      "metadata": {},
      "source": [
        "As we've said, everything will be based on embeddings, so the first thing we do is create a function to get embeddings from a text. We're going to use the `sentence-transformers/all-MiniLM-L6-v2` model"
      ]
    },
    {
      "cell_type": "code",
      "execution_count": 5,
      "metadata": {},
      "outputs": [],
      "source": [
        "import chromadb.utils.embedding_functions as embedding_functions\n",
        "\n",
        "EMBEDDING_MODEL = \"sentence-transformers/all-MiniLM-L6-v2\"\n",
        "      \n",
        "huggingface_ef = embedding_functions.HuggingFaceEmbeddingFunction(\n",
        "    api_key=RAG_FUNDAMENTALS_ADVANCE_TECHNIQUES_TOKEN,\n",
        "    model_name=EMBEDDING_MODEL\n",
        ")"
      ]
    },
    {
      "cell_type": "markdown",
      "metadata": {},
      "source": [
        "We test the embedding function"
      ]
    },
    {
      "cell_type": "code",
      "execution_count": 6,
      "metadata": {},
      "outputs": [
        {
          "data": {
            "text/plain": [
              "(384,)"
            ]
          },
          "execution_count": 6,
          "metadata": {},
          "output_type": "execute_result"
        }
      ],
      "source": [
        "embedding = huggingface_ef([\"Hello, how are you?\",])\n",
        "embedding[0].shape"
      ]
    },
    {
      "cell_type": "markdown",
      "metadata": {},
      "source": [
        "We obtain a 384-dimensional embedding. Although the mission of this post is not to explain embeddings, in summary, our embedding function has categorized the phrase `Hello, how are you?` in a 384-dimensional space."
      ]
    },
    {
      "cell_type": "markdown",
      "metadata": {},
      "source": [
        "### Cliente de ChromaDB"
      ]
    },
    {
      "cell_type": "markdown",
      "metadata": {},
      "source": [
        "Now that we have our embedding function we can create a ChromaDB client"
      ]
    },
    {
      "cell_type": "markdown",
      "metadata": {},
      "source": [
        "First, we create a folder where the vector database will be stored"
      ]
    },
    {
      "cell_type": "code",
      "execution_count": 7,
      "metadata": {},
      "outputs": [],
      "source": [
        "from pathlib import Path\n",
        "      \n",
        "chroma_path = Path(\"chromadb_persisten_storage\")\n",
        "chroma_path.mkdir(exist_ok=True)"
      ]
    },
    {
      "cell_type": "markdown",
      "metadata": {},
      "source": [
        "Now we create the client"
      ]
    },
    {
      "cell_type": "code",
      "execution_count": 8,
      "metadata": {},
      "outputs": [],
      "source": [
        "from chromadb import PersistentClient\n",
        "\n",
        "chroma_client = PersistentClient(path = str(chroma_path))"
      ]
    },
    {
      "cell_type": "markdown",
      "metadata": {},
      "source": [
        "### Collection"
      ]
    },
    {
      "cell_type": "markdown",
      "metadata": {},
      "source": [
        "When we have the ChromaDB client, the next thing we need to do is create a collection. A collection is a set of vectors, in our case the `chunks` of the documentation."
      ]
    },
    {
      "cell_type": "markdown",
      "metadata": {},
      "source": [
        "We create it by specifying the embedding function we are going to use"
      ]
    },
    {
      "cell_type": "code",
      "execution_count": 9,
      "metadata": {},
      "outputs": [],
      "source": [
        "collection_name = \"document_qa_collection\"\n",
        "collection = chroma_client.get_or_create_collection(name=collection_name, embedding_function=huggingface_ef)"
      ]
    },
    {
      "cell_type": "markdown",
      "metadata": {},
      "source": [
        "## Document Upload"
      ]
    },
    {
      "cell_type": "markdown",
      "metadata": {},
      "source": [
        "Now that we have created the vector database, we need to split the documentation into `chunk`s and store them in the vector database."
      ]
    },
    {
      "cell_type": "markdown",
      "metadata": {},
      "source": [
        "### Document Loading Function"
      ]
    },
    {
      "cell_type": "markdown",
      "metadata": {},
      "source": [
        "First, we create a function to load all `.txt` documents from a directory"
      ]
    },
    {
      "cell_type": "code",
      "execution_count": 10,
      "metadata": {},
      "outputs": [],
      "source": [
        "def load_one_document_from_directory(directory, file):\n",
        "    with open(os.path.join(directory, file), \"r\") as f:\n",
        "        return {\"id\": file, \"text\": f.read()}\n",
        "\n",
        "def load_documents_from_directory(directory):\n",
        "    documents = []\n",
        "    for file in os.listdir(directory):\n",
        "        if file.endswith(\".txt\"):\n",
        "            documents.append(load_one_document_from_directory(directory, file))\n",
        "    return documents\n"
      ]
    },
    {
      "cell_type": "markdown",
      "metadata": {},
      "source": [
        "### Function to divide documentation into `chunk`s"
      ]
    },
    {
      "cell_type": "markdown",
      "metadata": {},
      "source": [
        "Once we have the documents, we divide them into `chunk`s"
      ]
    },
    {
      "cell_type": "code",
      "execution_count": 11,
      "metadata": {},
      "outputs": [],
      "source": [
        "def split_text(text, chunk_size=1000, chunk_overlap=20):\n",
        "    chunks = []\n",
        "    start = 0\n",
        "    while start < len(text):\n",
        "        end = start + chunk_size\n",
        "        chunks.append(text[start:end])\n",
        "        start = end - chunk_overlap\n",
        "    return chunks\n"
      ]
    },
    {
      "cell_type": "markdown",
      "metadata": {},
      "source": [
        "### Function to generate embeddings from a `chunk`"
      ]
    },
    {
      "cell_type": "markdown",
      "metadata": {},
      "source": [
        "Now that we have the `chunk`s, we generate the `embedding`s for each of them"
      ]
    },
    {
      "cell_type": "markdown",
      "metadata": {},
      "source": [
        "Later we will see why, but to generate the embeddings we are going to do it locally and not through the Hugging Face API. To do this, we need to have [PyTorch](https://pytorch.org) and `sentence-transformers` installed, so we do\n",
        "\n",
        "``` bash\n",
        "pip install -U sentence-transformers\n",
        "```"
      ]
    },
    {
      "cell_type": "code",
      "execution_count": 12,
      "metadata": {},
      "outputs": [],
      "source": [
        "from sentence_transformers import SentenceTransformer\n",
        "import torch\n",
        "\n",
        "device = torch.device(\"cuda\" if torch.cuda.is_available() else \"cpu\")\n",
        "\n",
        "embedding_model = SentenceTransformer(EMBEDDING_MODEL).to(device)\n",
        "\n",
        "def get_embeddings(text):\n",
        "    try:\n",
        "        embedding = embedding_model.encode(text, device=device)\n",
        "        return embedding\n",
        "    except Exception as e:\n",
        "        print(f\"Error: {e}\")\n",
        "        exit(1)"
      ]
    },
    {
      "cell_type": "markdown",
      "metadata": {},
      "source": [
        "Let's try this embedding function locally"
      ]
    },
    {
      "cell_type": "code",
      "execution_count": 13,
      "metadata": {},
      "outputs": [
        {
          "data": {
            "text/plain": [
              "(384,)"
            ]
          },
          "execution_count": 13,
          "metadata": {},
          "output_type": "execute_result"
        }
      ],
      "source": [
        "text = \"Hello, how are you?\"\n",
        "embedding = get_embeddings(text)\n",
        "embedding.shape"
      ]
    },
    {
      "cell_type": "markdown",
      "metadata": {},
      "source": [
        "We see that we get an embedding of the same dimension as when we did it with the Hugging Face API"
      ]
    },
    {
      "cell_type": "markdown",
      "metadata": {},
      "source": [
        "The `sentence-transformers/all-MiniLM-L6-v2` model has only 22M parameters, so you will be able to run it on any GPU. Even if you don't have a GPU, you will be able to run it on a CPU."
      ]
    },
    {
      "cell_type": "markdown",
      "metadata": {},
      "source": [
        "The LLM we are going to use to generate responses, which is `Qwen2.5-72B-Instruct`, as its name suggests, is a 72B parameter model, so this model cannot be run on just any GPU and on a CPU it is unthinkable how slow it would be. That's why we will use this LLM via the API, but when generating the `embedding`s we can do it locally without any issues"
      ]
    },
    {
      "cell_type": "markdown",
      "metadata": {},
      "source": [
        "### Documents we are going to test with"
      ]
    },
    {
      "cell_type": "markdown",
      "metadata": {},
      "source": [
        "To perform all these tests, I have downloaded the dataset [aws-case-studies-and-blogs](https://www.kaggle.com/datasets/harshsinghal/aws-case-studies-and-blogs) and left it in the `rag-txt_dataset` folder, with the following commands I tell you how to download and unzip it"
      ]
    },
    {
      "cell_type": "markdown",
      "metadata": {},
      "source": [
        "We create the folder where we are going to download the documents"
      ]
    },
    {
      "cell_type": "code",
      "execution_count": 30,
      "metadata": {},
      "outputs": [],
      "source": [
        "!mkdir rag_txt_dataset"
      ]
    },
    {
      "cell_type": "markdown",
      "metadata": {},
      "source": [
        "We download the `.zip` with the documents"
      ]
    },
    {
      "cell_type": "code",
      "execution_count": 1,
      "metadata": {},
      "outputs": [
        {
          "name": "stdout",
          "output_type": "stream",
          "text": [
            "  % Total    % Received % Xferd  Average Speed   Time    Time     Time  Current\n",
            "                                 Dload  Upload   Total   Spent    Left  Speed\n",
            "  0     0    0     0    0     0      0      0 --:--:-- --:--:-- --:--:--     0\n",
            "100 1430k  100 1430k    0     0  1082k      0  0:00:01  0:00:01 --:--:-- 2440k\n"
          ]
        }
      ],
      "source": [
        "!curl -L -o ./rag_txt_dataset/archive.zip https://www.kaggle.com/api/v1/datasets/download/harshsinghal/aws-case-studies-and-blogs"
      ]
    },
    {
      "cell_type": "markdown",
      "metadata": {},
      "source": [
        "We unzip the `.zip`"
      ]
    },
    {
      "cell_type": "code",
      "execution_count": 2,
      "metadata": {},
      "outputs": [
        {
          "name": "stdout",
          "output_type": "stream",
          "text": [
            "Archive:  rag_txt_dataset/archive.zip\n",
            "  inflating: rag_txt_dataset/23andMe Case Study _ Life Sciences _ AWS.txt  \n",
            "  inflating: rag_txt_dataset/36 new or updated datasets on the Registry of Open Data_ AI analysis-ready datasets and more _ AWS Public Sector Blog.txt  \n",
            "  inflating: rag_txt_dataset/54gene _ Case Study _ AWS.txt  \n",
            "  inflating: rag_txt_dataset/6sense Case Study.txt  \n",
            "  inflating: rag_txt_dataset/ADP Developed an Innovative and Secure Digital Wallet in a Few Months Using AWS Services _ Case Study _ AWS.txt  \n",
            "  inflating: rag_txt_dataset/AEON Case Study.txt  \n",
            "  inflating: rag_txt_dataset/ALTBalaji _ Amazon Web Services.txt  \n",
            "  inflating: rag_txt_dataset/AWS Case Study - Ineos Team UK.txt  \n",
            "  inflating: rag_txt_dataset/AWS Case Study - StreamAMG.txt  \n",
            "  inflating: rag_txt_dataset/AWS Case Study_ Creditsafe.txt  \n",
            "  inflating: rag_txt_dataset/AWS Case Study_ Immowelt.txt  \n",
            "  inflating: rag_txt_dataset/AWS Customer Case Study _ Kepler Provides Effective Monitoring of Elderly Care Home Residents Using AWS _ AWS.txt  \n",
            "  inflating: rag_txt_dataset/AWS announces 21 startups selected for the AWS generative AI accelerator _ AWS Startups Blog.txt  \n",
            "  inflating: rag_txt_dataset/AWS releases smart meter data analytics _ AWS for Industries.txt  \n",
            "  inflating: rag_txt_dataset/Accelerate Time to Business Value Using Amazon SageMaker at Scale with NatWest Group _ Case Study _ AWS.txt  \n",
            "  inflating: rag_txt_dataset/Accelerate Your Analytics Journey on AWS with DXC Analytics and AI Platform _ AWS Partner Network (APN) Blog.txt  \n",
            "  ...\n",
            "  inflating: rag_txt_dataset/Zomato Saves Big by Using AWS Graviton2 to Power Data-Driven Business Insights.txt  \n",
            "  inflating: rag_txt_dataset/Zoox Case Study _ Automotive _ AWS.txt  \n",
            "  inflating: rag_txt_dataset/e-banner Streamlines Its Contact Center Operations and Facilitates a Fully Remote Workforce with Amazon Connect _ e-banner Case Study _ AWS.txt  \n",
            "  inflating: rag_txt_dataset/iptiQ Case Study.txt  \n",
            "  inflating: rag_txt_dataset/mod.io Provides Low Latency Gamer Experience Globally on AWS _ Case Study _ AWS.txt  \n",
            "  inflating: rag_txt_dataset/myposter Case Study.txt  \n"
          ]
        }
      ],
      "source": [
        "!unzip rag_txt_dataset/archive.zip -d rag_txt_dataset"
      ]
    },
    {
      "cell_type": "markdown",
      "metadata": {},
      "source": [
        "Let's delete the `.zip`"
      ]
    },
    {
      "cell_type": "code",
      "execution_count": 3,
      "metadata": {},
      "outputs": [],
      "source": [
        "!rm rag_txt_dataset/archive.zip"
      ]
    },
    {
      "cell_type": "markdown",
      "metadata": {},
      "source": [
        "We see what's left"
      ]
    },
    {
      "cell_type": "code",
      "execution_count": 4,
      "metadata": {},
      "outputs": [
        {
          "name": "stdout",
          "output_type": "stream",
          "text": [
            "'23andMe Case Study _ Life Sciences _ AWS.txt'\n",
            "'36 new or updated datasets on the Registry of Open Data_ AI analysis-ready datasets and more _ AWS Public Sector Blog.txt'\n",
            "'54gene _ Case Study _ AWS.txt'\n",
            "'6sense Case Study.txt'\n",
            "'Accelerate Time to Business Value Using Amazon SageMaker at Scale with NatWest Group _ Case Study _ AWS.txt'\n",
            "'Accelerate Your Analytics Journey on AWS with DXC Analytics and AI Platform _ AWS Partner Network (APN) Blog.txt'\n",
            "'Accelerating customer onboarding using Amazon Connect _ NCS Case Study _ AWS.txt'\n",
            "'Accelerating Migration at Scale Using AWS Application Migration Service with 3M Company _ Case Study _ AWS.txt'\n",
            "'Accelerating Time to Market Using AWS and AWS Partner AccelByte _ Omeda Studios Case Study _ AWS.txt'\n",
            "'Achieving Burstable Scalability and Consistent Uptime Using AWS Lambda with TiVo _ Case Study _ AWS.txt'\n",
            "'Acrobits Uses Amazon Chime SDK to Easily Create Video Conferencing Application Boosting Collaboration for Global Users _ Acrobits Case Study _ AWS.txt'\n",
            "'Actuate AI Case study.txt'\n",
            "'ADP Developed an Innovative and Secure Digital Wallet in a Few Months Using AWS Services _ Case Study _ AWS.txt'\n",
            "'Adzuna doubles its email open rates using Amazon SES _ Adzuna Case Study _ AWS.txt'\n",
            "'AEON Case Study.txt'\n",
            "'ALTBalaji _ Amazon Web Services.txt'\n",
            "'Amanotes Stays on Beat by Delivering Simple Music Games to Millions Worldwide on AWS.txt'\n",
            "'Amazon OpenSearch Services vector database capabilities explained _ AWS Big Data Blog.txt'\n",
            "'Anghami Case Study.txt'\n",
            "'Announcing enhanced table extractions with Amazon Textract _ AWS Machine Learning Blog.txt'\n",
            "...\n",
            "'What Will Generative AI Mean for Your Business_ _ AWS Cloud Enterprise Strategy Blog.txt'\n",
            "'Which Recurring Business Processes Can Small and Medium Businesses Automate_ _ AWS Smart Business Blog.txt'\n",
            " Windsor.txt\n",
            "'Wireless Car Case Study _ AWS IoT Core _ AWS.txt'\n",
            "'Yamato Logistics (HK) case study.txt'\n",
            "'Zomato Saves Big by Using AWS Graviton2 to Power Data-Driven Business Insights.txt'\n",
            "'Zoox Case Study _ Automotive _ AWS.txt'\n"
          ]
        }
      ],
      "source": [
        "!ls rag_txt_dataset"
      ]
    },
    {
      "cell_type": "markdown",
      "metadata": {},
      "source": [
        "### Creating the `chunk`s!"
      ]
    },
    {
      "cell_type": "markdown",
      "metadata": {},
      "source": [
        "We list the documents with the function we had created"
      ]
    },
    {
      "cell_type": "code",
      "execution_count": 14,
      "metadata": {},
      "outputs": [],
      "source": [
        "dataset_path = \"rag_txt_dataset\"\n",
        "documents = load_documents_from_directory(dataset_path)"
      ]
    },
    {
      "cell_type": "markdown",
      "metadata": {},
      "source": [
        "We check that we have done it well"
      ]
    },
    {
      "cell_type": "code",
      "execution_count": 15,
      "metadata": {},
      "outputs": [
        {
          "name": "stdout",
          "output_type": "stream",
          "text": [
            "Run Jobs at Scale While Optimizing for Cost Using Amazon EC2 Spot Instances with ActionIQ _ ActionIQ Case Study _ AWS.txt\n",
            "Recommend and dynamically filter items based on user context in Amazon Personalize _ AWS Machine Learning Blog.txt\n",
            "Windsor.txt\n",
            "Bank of Montreal Case Study _ AWS.txt\n",
            "The Mill Adventure Case Study.txt\n",
            "Optimize software development with Amazon CodeWhisperer _ AWS DevOps Blog.txt\n",
            "Announcing enhanced table extractions with Amazon Textract _ AWS Machine Learning Blog.txt\n",
            "THREAD _ Life Sciences _ AWS.txt\n",
            "Deep Pool Optimizes Software Quality Control Using Amazon QuickSight _ Deep Pool Case Study _ AWS.txt\n",
            "Upstox Saves 1 Million Annually Using Amazon S3 Storage Lens _ Upstox Case Study _ AWS.txt\n"
          ]
        }
      ],
      "source": [
        "for document in documents[0:10]:\n",
        "    print(document[\"id\"])"
      ]
    },
    {
      "cell_type": "markdown",
      "metadata": {},
      "source": [
        "Now we create the `chunk`s."
      ]
    },
    {
      "cell_type": "code",
      "execution_count": 16,
      "metadata": {},
      "outputs": [],
      "source": [
        "chunked_documents = []\n",
        "for document in documents:\n",
        "    chunks = split_text(document[\"text\"])\n",
        "    for i, chunk in enumerate(chunks):\n",
        "        chunked_documents.append({\"id\": f\"{document['id']}_{i}\", \"text\": chunk})"
      ]
    },
    {
      "cell_type": "code",
      "execution_count": 17,
      "metadata": {},
      "outputs": [
        {
          "data": {
            "text/plain": [
              "3611"
            ]
          },
          "execution_count": 17,
          "metadata": {},
          "output_type": "execute_result"
        }
      ],
      "source": [
        "len(chunked_documents)"
      ]
    },
    {
      "cell_type": "markdown",
      "metadata": {},
      "source": [
        "As we can see, there are 3611 `chunk`s. Since the daily limit of the Hugging Face API is 1000 calls on the free account, if we want to create embeddings of all the `chunk`s, we would run out of available calls and also wouldn't be able to create embeddings of all the `chunk`s"
      ]
    },
    {
      "cell_type": "markdown",
      "metadata": {},
      "source": [
        "We recall again, this embedding model is very small, only 22M parameters, so it can be run on almost any computer, faster or slower, but it can be run."
      ]
    },
    {
      "cell_type": "markdown",
      "metadata": {},
      "source": [
        "As we are only going to create the embeddings of the `chunk`s once, even if we don't have a very powerful computer and it takes a long time, it will only be executed once. Then, when we want to ask questions about the documentation, that's when we will generate the embeddings of the prompt with the Hugging Face API and use the LLM with the API. So, we will only have to go through the process of generating the embeddings of the `chunk`s once."
      ]
    },
    {
      "cell_type": "markdown",
      "metadata": {},
      "source": [
        "We generate the embeddings of the `chunk`s"
      ]
    },
    {
      "cell_type": "markdown",
      "metadata": {},
      "source": [
        "Last library we are going to have to install. Since the process of generating the embeddings of the `chunk`s is going to be slow, we are going to install `tqdm` so that it shows us a progress bar. We install it with conda or with pip, as you prefer\n",
        "\n",
        "``` bash\n",
        "conda install conda-forge::tqdm\n",
        "```\n",
        "\n",
        "or\n",
        "\n",
        "``` bash\n",
        "pip install tqdm\n",
        "```"
      ]
    },
    {
      "cell_type": "markdown",
      "metadata": {},
      "source": [
        "We generate the embeddings of the `chunk`s"
      ]
    },
    {
      "cell_type": "code",
      "execution_count": 19,
      "metadata": {},
      "outputs": [
        {
          "name": "stderr",
          "output_type": "stream",
          "text": [
            "100%|██████████| 3611/3611 [00:16<00:00, 220.75it/s]\n"
          ]
        }
      ],
      "source": [
        "import tqdm\n",
        "\n",
        "progress_bar = tqdm.tqdm(chunked_documents)\n",
        "\n",
        "for chunk in progress_bar:\n",
        "    embedding = get_embeddings(chunk[\"text\"])\n",
        "    if embedding is not None:\n",
        "        chunk[\"embedding\"] = embedding\n",
        "    else:\n",
        "        print(f\"Error with document {chunk['id']}\")"
      ]
    },
    {
      "cell_type": "markdown",
      "metadata": {},
      "source": [
        "We see an example"
      ]
    },
    {
      "cell_type": "code",
      "execution_count": 60,
      "metadata": {},
      "outputs": [
        {
          "name": "stdout",
          "output_type": "stream",
          "text": [
            "Chunk id: BNS Group Case Study _ Amazon Web Services.txt_0,\n",
            "\n",
            "text: Reducing Virtual Machines from 40 to 12\n",
            "The founders of BNS had been contemplating a migration from the company’s on-premises data center to the public cloud and observed a growing demand for cloud-based operations among current and potential BNS customers.\n",
            "Français\n",
            "Configures security according to cloud best practices\n",
            "Clive Pereira, R&D director at BNS Group, explains, “The database that records Praisal’s SMS traffic resides in Praisal’s AWS environment. Praisal can now run complete analytics across its data and gain insights into what’s happening with its SMS traffic, which is a real game-changer for the organization.”  \n",
            "Español\n",
            " AWS ISV Accelerate Program\n",
            " Receiving Strategic, Foundational Support from ISV Specialists\n",
            " Learn More\n",
            "The value that AWS places on the ISV stream sealed the deal in our choice of cloud provider.” \n",
            "日本語\n",
            "  Contact Sales \n",
            "BNS is an Australian software provider focused on secure enterprise SMS and fax messaging. Its software runs on the Windows platform and is l,\n",
            "\n",
            "embedding shape: (384,)\n"
          ]
        }
      ],
      "source": [
        "from random import randint\n",
        "\n",
        "idx = randint(0, len(chunked_documents))\n",
        "print(f\"Chunk id: {chunked_documents[idx]['id']},\\n\\ntext: {chunked_documents[idx]['text']},\\n\\nembedding shape: {chunked_documents[idx]['embedding'].shape}\")"
      ]
    },
    {
      "cell_type": "markdown",
      "metadata": {},
      "source": [
        "### Loading the `chunk`s into the vector database"
      ]
    },
    {
      "cell_type": "markdown",
      "metadata": {},
      "source": [
        "Once we have all the chunks generated, we load them into the vector database. We use `tqdm` again to show us a progress bar, because this is also going to be slow"
      ]
    },
    {
      "cell_type": "code",
      "execution_count": 22,
      "metadata": {},
      "outputs": [
        {
          "name": "stderr",
          "output_type": "stream",
          "text": [
            "100%|██████████| 3611/3611 [00:59<00:00, 60.77it/s]\n"
          ]
        }
      ],
      "source": [
        "import tqdm\n",
        "\n",
        "progress_bar = tqdm.tqdm(chunked_documents)\n",
        "\n",
        "for chunk in progress_bar:\n",
        "    collection.upsert(\n",
        "        ids=[chunk[\"id\"]],\n",
        "        documents=chunk[\"text\"],\n",
        "        embeddings=chunk[\"embedding\"],\n",
        "    )"
      ]
    },
    {
      "cell_type": "markdown",
      "metadata": {},
      "source": [
        "## Questions"
      ]
    },
    {
      "cell_type": "markdown",
      "metadata": {},
      "source": [
        "Now that we have the vector database, we can ask questions to the documentation. To do this, we need a function that returns the correct `chunk`"
      ]
    },
    {
      "cell_type": "markdown",
      "metadata": {},
      "source": [
        "### Getting the correct `chunk`"
      ]
    },
    {
      "cell_type": "markdown",
      "metadata": {},
      "source": [
        "Now we need a function that returns the correct `chunk`, let's create it"
      ]
    },
    {
      "cell_type": "code",
      "execution_count": 50,
      "metadata": {},
      "outputs": [],
      "source": [
        "def get_top_k_documents(query, k=5):\n",
        "    results = collection.query(query_texts=query, n_results=k)\n",
        "    return results"
      ]
    },
    {
      "cell_type": "markdown",
      "metadata": {},
      "source": [
        "Finally, we create a `query`.\n",
        "\n",
        "To generate the query, I randomly selected the document `Using Amazon EC2 Spot Instances and Karpenter to Simplify and Optimize Kubernetes Infrastructure _ Neeva Case Study _ AWS.txt`, passed it to an LLM, and asked it to generate a question about the document. The question it generated is\n",
        "\n",
        "```\n",
        "¿Cómo utilizó Neeva Karpenter y Amazon EC2 Spot Instances para mejorar la gestión de su infraestructura y la optimización de costos?\n",
        "```\n",
        "\n",
        "So we get the most relevant `chunk`s for that question"
      ]
    },
    {
      "cell_type": "code",
      "execution_count": 51,
      "metadata": {},
      "outputs": [],
      "source": [
        "query = \"How did Neeva use Karpenter and Amazon EC2 Spot Instances to improve its infrastructure management and cost optimization?\"\n",
        "top_chunks = get_top_k_documents(query=query, k=5)"
      ]
    },
    {
      "cell_type": "markdown",
      "metadata": {},
      "source": [
        "Let's see what `chunk`s it has returned"
      ]
    },
    {
      "cell_type": "code",
      "execution_count": 52,
      "metadata": {},
      "outputs": [
        {
          "name": "stdout",
          "output_type": "stream",
          "text": [
            "Rank 1: Using Amazon EC2 Spot Instances and Karpenter to Simplify and Optimize Kubernetes Infrastructure _ Neeva Case Study _ AWS.txt_0, distance: 0.29233667254447937\n",
            "Rank 2: Using Amazon EC2 Spot Instances and Karpenter to Simplify and Optimize Kubernetes Infrastructure _ Neeva Case Study _ AWS.txt_5, distance: 0.4007825255393982\n",
            "Rank 3: Using Amazon EC2 Spot Instances and Karpenter to Simplify and Optimize Kubernetes Infrastructure _ Neeva Case Study _ AWS.txt_1, distance: 0.4317566752433777\n",
            "Rank 4: Using Amazon EC2 Spot Instances and Karpenter to Simplify and Optimize Kubernetes Infrastructure _ Neeva Case Study _ AWS.txt_6, distance: 0.43832334876060486\n",
            "Rank 5: Using Amazon EC2 Spot Instances and Karpenter to Simplify and Optimize Kubernetes Infrastructure _ Neeva Case Study _ AWS.txt_4, distance: 0.44625571370124817\n"
          ]
        }
      ],
      "source": [
        "for i in range(len(top_chunks[\"ids\"][0])):\n",
        "    print(f\"Rank {i+1}: {top_chunks['ids'][0][i]}, distance: {top_chunks['distances'][0][i]}\")"
      ]
    },
    {
      "cell_type": "markdown",
      "metadata": {},
      "source": [
        "As I said, the document I had chosen at random was `Using Amazon EC2 Spot Instances and Karpenter to Simplify and Optimize Kubernetes Infrastructure _ Neeva Case Study _ AWS.txt` and as can be seen the `chunk`s it has returned are from that document. That is, out of more than 3000 `chunk`s that were in the database, it has been able to return the most relevant `chunk`s to that question, it seems that this works!"
      ]
    },
    {
      "cell_type": "markdown",
      "metadata": {},
      "source": [
        "### Generate the response"
      ]
    },
    {
      "cell_type": "markdown",
      "metadata": {},
      "source": [
        "Now that we have the most relevant `chunk`s, we pass them to the LLM, along with the question, so that it generates a response"
      ]
    },
    {
      "cell_type": "code",
      "execution_count": 58,
      "metadata": {},
      "outputs": [],
      "source": [
        "def generate_response(query, relevant_chunks, temperature=0.5, max_tokens=1024, top_p=0.7, stream=False):\n",
        "    context = \"\\n\\n\".join([chunk for chunk in relevant_chunks])\n",
        "    prompt = f\"You are an assistant for question-answering. You have to answer the following question:\\n\\n{query}\\n\\nAnswer the question with the following information:\\n\\n{context}\"\n",
        "    message = [\n",
        "        { \"role\": \"user\", \"content\": prompt }\n",
        "    ]\n",
        "    stream = client.chat.completions.create(\n",
        "        messages=message, \n",
        "        temperature=temperature,\n",
        "        max_tokens=max_tokens,\n",
        "        top_p=top_p,\n",
        "        stream=stream,\n",
        "    )\n",
        "    response = stream.choices[0].message.content\n",
        "    return response"
      ]
    },
    {
      "cell_type": "markdown",
      "metadata": {},
      "source": [
        "We test the function"
      ]
    },
    {
      "cell_type": "code",
      "execution_count": 59,
      "metadata": {},
      "outputs": [
        {
          "name": "stdout",
          "output_type": "stream",
          "text": [
            "Neeva, a cloud-native, ad-free search engine founded in 2019, has leveraged Karpenter and Amazon EC2 Spot Instances to significantly improve its infrastructure management and cost optimization. Here’s how:\n",
            "\n",
            "### Early Collaboration with Karpenter\n",
            "In late 2021, Neeva began working closely with the Karpenter team, experimenting with and contributing fixes to an early version of Karpenter. This collaboration allowed Neeva to integrate Karpenter with its Kubernetes dashboard, enabling the company to gather valuable metrics on usage and performance.\n",
            "\n",
            "### Combining Spot Instances and On-Demand Instances\n",
            "Neeva runs its jobs on a large scale, which can lead to significant costs. To manage these costs effectively, the company adopted a combination of Amazon EC2 Spot Instances and On-Demand Instances. Spot Instances allow Neeva to bid on unused EC2 capacity, often at a fraction of the On-Demand price, while On-Demand Instances provide the necessary reliability for critical pipelines.\n",
            "\n",
            "### Flexibility and Instance Diversification\n",
            "According to Mohit Agarwal, infrastructure engineering lead at Neeva, Karpenter's adoption of best practices for Spot Instances, including flexibility and instance diversification, has been crucial. This approach ensures that Neeva can dynamically adjust its compute resources to meet varying workloads while minimizing costs.\n",
            "\n",
            "### Improved Scalability and Agility\n",
            "By using Karpenter to provision infrastructure resources for its Amazon EKS clusters, Neeva has achieved several key benefits:\n",
            "- **Scalability**: Neeva can scale its compute resources up or down as needed, ensuring that it always has the necessary capacity to handle its workloads.\n",
            "- **Agility**: The company can iterate quickly and democratize infrastructure changes, reducing the time spent on systems administration by up to 100 hours per week.\n",
            "\n",
            "### Enhanced Development Cycles\n",
            "The integration of Karpenter and Spot Instances has also accelerated Neeva's development cycles. The company can now launch new features and improvements more rapidly, which is essential for maintaining a competitive edge in the search engine market.\n",
            "\n",
            "### Cost Savings and Budget Control\n",
            "Using Spot Instances, Neeva has been able to stay within its budget while meeting its performance requirements. This cost optimization is critical for a company that prioritizes user-first experiences and has no competing incentives from advertising.\n",
            "\n",
            "### Future Plans\n",
            "Neeva is committed to continuing its innovation and expansion. The company plans to launch in new regions and further improve its search engine, all while maintaining cost efficiency. As Mohit Agarwal notes, \"The bulk of our compute is or will be managed using Karpenter going forward.\"\n",
            "\n",
            "### Conclusion\n",
            "By leveraging Karpenter and Amazon EC2 Spot Instances, Neeva has not only optimized its infrastructure costs but also enhanced its scalability, agility, and development speed. This strategic approach has positioned Neeva to deliver high-quality, ad-free search experiences to its users while maintaining a strong focus on cost control and innovation.\n"
          ]
        }
      ],
      "source": [
        "response = generate_response(query, top_chunks[\"documents\"][0])\n",
        "print(response)"
      ]
    },
    {
      "cell_type": "markdown",
      "metadata": {},
      "source": [
        "When I asked the LLM to generate a question about the document, I also asked it to generate the correct answer. This is the answer the LLM gave me\n",
        "\n",
        "``` text\n",
        "Neeva utilizó Karpenter y Amazon EC2 Spot Instances para mejorar su gestión de infraestructura y optimización de costos de varias maneras:\n",
        "\n",
        "Administración de Instancias Simplificada:\n",
        "\n",
        "Karpenter: Al adoptar Karpenter, Neeva simplificó el proceso de aprovisionamiento y administración de recursos de cómputo para sus clústeres Amazon EKS. Karpenter aprovisiona y desaprovisiona instancias automáticamente en función de la carga de trabajo, eliminando la necesidad de configuraciones manuales y reduciendo la complejidad de comprender diferentes instancias de cómputo.\n",
        "Instancias Spot: Neeva aprovechó las instancias Spot de Amazon EC2, que son capacidad de EC2 no utilizada disponible con un descuento significativo (hasta un 90% de ahorro de costos). Esto permitió a la empresa controlar los costos mientras cumplía con sus requisitos de rendimiento.\n",
        "Escalabilidad mejorada:\n",
        "\n",
        "Karpenter: La capacidad de Karpenter para escalar dinámicamente los recursos permitió a Neeva iniciar nuevas instancias rápidamente, lo que permitió a la empresa iterar a una velocidad mayor y realizar más experimentos en menos tiempo.\n",
        "Instancias Spot: El uso de instancias Spot proporcionó flexibilidad y diversificación de instancias, lo que facilitó a Neeva escalar sus recursos de cómputo de manera eficiente.\n",
        "Productividad mejorada:\n",
        "\n",
        "Karpenter: Al democratizar los cambios de infraestructura, Karpenter permitió que cualquier ingeniero modificara configuraciones de Kubernetes, reduciendo la dependencia de la experiencia especializada. Esto ahorró al equipo de Neeva hasta 100 horas a la semana de tiempo de espera en administración de sistemas.\n",
        "Instancias Spot: La capacidad de aprovisionar y desaprovisionar rápidamente instancias Spot redujo los retrasos en la canalización de desarrollo, asegurando que los trabajos no se bloquearan debido a la falta de recursos disponibles.\n",
        "Eficiencia de Costos:\n",
        "\n",
        "Karpenter: Las mejores prácticas de Karpenter para Spot Instances, incluyendo flexibilidad y diversificación de instancias, ayudaron a Neeva a utilizar estas instancias de manera más efectiva, manteniéndose dentro del presupuesto.\n",
        "Instancias Spot: El ahorro de costos al utilizar instancias Spot permitió a Neeva ejecutar trabajos a gran escala, como la indexación, por casi el mismo costo pero en una fracción del tiempo. Por ejemplo, Neeva redujo sus trabajos de indexación de 18 horas a solo 3 horas.\n",
        "Mejora en la Utilización de Recursos:\n",
        "\n",
        "Karpenter: Karpenter proporcionó una mejor visibilidad en el uso de los recursos de cómputo, lo que permitió a Neeva rastrear y optimizar su consumo de recursos de manera más cercana.\n",
        "Instancias Spot: La combinación de Karpenter y Instancias Spot permitió a Neeva ejecutar modelos de lenguaje grandes de manera más eficiente, mejorando la experiencia de búsqueda para sus usuarios.\n",
        "En resumen, la adopción de Karpenter y Amazon EC2 Spot Instances por parte de Neeva mejoró significativamente la gestión de su infraestructura, la optimización de costos y la eficiencia general de desarrollo, lo que permitió a la empresa ofrecer mejores experiencias de búsqueda sin anuncios a sus usuarios.\n",
        "```\n",
        "\n",
        "And this has been the response generated by our `RAG`\n",
        "\n",
        "``` text\n",
        "Neeva, un motor de búsqueda nativo en la nube y sin anuncios fundado en 2019, ha aprovechado Karpenter y Amazon EC2 Spot Instances para mejorar significativamente la gestión de su infraestructura y la optimización de costos. Aquí está cómo:\n",
        "\n",
        "### Colaboración Temprana con Karpenter\n",
        "A fines de 2021, Neeva comenzó a trabajar en estrecha colaboración con el equipo de Karpenter, experimentando y contribuyendo con correcciones a una versión temprana de Karpenter. Esta colaboración permitió a Neeva integrar Karpenter con su panel de Kubernetes, lo que permitió a la empresa recopilar valiosas métricas sobre el uso y el rendimiento.\n",
        "\n",
        "### Combinando Instancias Spot y Instancias a Petición\n",
        "Neeva ejecuta sus trabajos a gran escala, lo que puede generar costos significativos. Para gestionar estos costos de manera efectiva, la empresa adoptó una combinación de instancias Spot de Amazon EC2 y instancias bajo demanda. Las instancias Spot permiten a Neeva ofrecer precios por la capacidad EC2 no utilizada, a menudo a una fracción del precio bajo demanda, mientras que las instancias bajo demanda proporcionan la confiabilidad necesaria para tuberías críticas.\n",
        "\n",
        "### Flexibilidad y Diversificación de Instancias\n",
        "Según Mohit Agarwal, líder de ingeniería de infraestructura en Neeva, la adopción de Karpenter de las mejores prácticas para Spot Instances, incluyendo la flexibilidad y la diversificación de instancias, ha sido crucial. Este enfoque garantiza que Neeva pueda ajustar dinámicamente sus recursos de cómputo para satisfacer las cargas de trabajo variables mientras minimiza los costos.\n",
        "\n",
        "### Mejora de la escalabilidad y la agilidad\n",
        "Al utilizar Karpenter para aprovisionar recursos de infraestructura para sus clústeres de Amazon EKS, Neeva ha logrado varios beneficios clave:\n",
        "- **Escalabilidad**: Neeva puede escalar sus recursos de cómputo hacia arriba o hacia abajo según sea necesario, asegurando que siempre tenga la capacidad necesaria para manejar sus cargas de trabajo.\n",
        "- **Agilidad**: La empresa puede iterar rápidamente y democratizar los cambios de infraestructura, reduciendo el tiempo dedicado a la administración de sistemas hasta 100 horas a la semana.\n",
        "\n",
        "### Ciclos de Desarrollo Mejorados\n",
        "La integración de Karpenter y Spot Instances también ha acelerado los ciclos de desarrollo de Neeva. La empresa ahora puede lanzar nuevas características y mejoras de manera más rápida, lo que es esencial para mantener una ventaja competitiva en el mercado de motores de búsqueda.\n",
        "\n",
        "### Ahorros de Costos y Control de Presupuesto\n",
        "Al utilizar instancias Spot, Neeva ha podido mantenerse dentro de su presupuesto mientras cumple con sus requisitos de rendimiento. Esta optimización de costos es fundamental para una empresa que prioriza las experiencias centradas en el usuario y no tiene incentivos competitivos de publicidad.\n",
        "\n",
        "### Planes Futuros\n",
        "Neeva se compromete a continuar su innovación y expansión. La empresa planea lanzarse en nuevas regiones y mejorar aún más su motor de búsqueda, todo mientras mantiene la eficiencia de costos. Como nota Mohit Agarwal, \"La mayor parte de nuestro cómputo es o será administrado utilizando Karpenter en el futuro\".\n",
        "\n",
        "### Conclusión\n",
        "Al aprovechar Karpenter y Amazon EC2 Spot Instances, Neeva no solo ha optimizado sus costos de infraestructura, sino que también ha mejorado su escalabilidad, agilidad y velocidad de desarrollo. Este enfoque estratégico ha posicionado a Neeva para ofrecer experiencias de búsqueda de alta calidad y sin anuncios a sus usuarios, mientras mantiene un fuerte enfoque en el control de costos y la innovación.\n",
        "```\n",
        "\n",
        "So we can conclude that `RAG` has worked correctly!!!"
      ]
    }
  ],
  "metadata": {
    "kernelspec": {
      "display_name": "rag",
      "language": "python",
      "name": "python3"
    },
    "language_info": {
      "codemirror_mode": {
        "name": "ipython",
        "version": 3
      },
      "file_extension": ".py",
      "mimetype": "text/x-python",
      "name": "python",
      "nbconvert_exporter": "python",
      "pygments_lexer": "ipython3",
      "version": "3.11.10"
    },
    "maximofn": {
      "date": "2024-10-23",
      "description_en": "Forget about Ctrl+F! 🤯 With RAG, your documents will answer your questions directly. 😎 Step-by-step tutorial with Hugging Face and ChromaDB. Unleash the power of AI (and show off to your friends)! 💪",
      "description_es": "¡Olvídate de Ctrl+F! 🤯 Con RAG, tus documentos responderán a tus preguntas directamente. 😎 Tutorial paso a paso con Hugging Face y ChromaDB. ¡Libera el poder de la IA (y presume con tus amigos)! 💪",
      "description_pt": "Esqueça o Ctrl+F! 🤯 Com RAG, seus documentos responderão às suas perguntas diretamente. 😎 Tutorial passo a passo com Hugging Face e ChromaDB. Liberte o poder da IA (e impressione seus amigos)! 💪",
      "end_url": "rag-fundamentals",
      "image": "https://pub-fb664c455eca46a2ba762a065ac900f7.r2.dev/rag-fundamentals.webp",
      "keywords_en": "rag, retriever, reader, hugging face, transformers, chromadb, vector database, question-answering, qa, nlp, natural language processing, machine learning, artificial intelligence, ai",
      "keywords_es": "rag, retriever, reader, hugging face, transformers, chromadb, base de datos vectorial, question-answering, qa, nlp, procesamiento de lenguaje natural, machine learning, inteligencia artificial, ia",
      "keywords_pt": "rag, retriever, reader, hugging face, transformers, chromadb, banco de dados vetorial, question-answering, qa, nlp, processamento de linguagem natural, machine learning, inteligência artificial, ia",
      "title_en": "RAG fundamentals",
      "title_es": "Fundamentos de RAG",
      "title_pt": "Fundamentos de RAG"
    }
  },
  "nbformat": 4,
  "nbformat_minor": 2
}
