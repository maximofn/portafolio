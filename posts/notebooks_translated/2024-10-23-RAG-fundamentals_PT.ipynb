{
  "cells": [
    {
      "cell_type": "markdown",
      "metadata": {},
      "source": [
        "# RAG: Fundamentos e t\u00e9cnicas avan\u00e7adas"
      ]
    },
    {
      "cell_type": "markdown",
      "metadata": {},
      "source": [
        " > Aviso: Este post foi traduzido para o portugu\u00eas usando um modelo de tradu\u00e7\u00e3o autom\u00e1tica. Por favor, me avise se encontrar algum erro."
      ]
    },
    {
      "cell_type": "markdown",
      "metadata": {},
      "source": [
        "Neste post, vamos ver em que consiste a t\u00e9cnica de `RAG` (`Retrieval Augmented Generation`) e como pode ser implementada em um modelo de linguagem."
      ]
    },
    {
      "cell_type": "markdown",
      "metadata": {},
      "source": [
        "Para que seja gratuito, em vez de usar uma conta da OpenAI (como voc\u00ea ver\u00e1 na maioria dos tutoriais), vamos usar a `API inference` da Hugging Face, que tem um free tier de 1000 requisi\u00e7\u00f5es por dia, que para fazer este post \u00e9 mais do que suficiente."
      ]
    },
    {
      "cell_type": "markdown",
      "metadata": {},
      "source": [
        "## Configura\u00e7\u00e3o da `API Inference` de Hugging Face"
      ]
    },
    {
      "cell_type": "markdown",
      "metadata": {},
      "source": [
        "Para poder usar a `API Inference` de HuggingFace, a primeira coisa que voc\u00ea precisa \u00e9 ter uma conta no HuggingFace. Uma vez que voc\u00ea a tenha, precisa ir a [Access tokens](https://huggingface.co/settings/keys) na configura\u00e7\u00e3o do seu perfil e gerar um novo token.",
        "\n",
        "Temos que dar um nome, no meu caso vou chamar `rag-fundamentals` e habilitar a permiss\u00e3o `Make calls to serverless Inference API`. Um token ser\u00e1 criado para n\u00f3s, que precisamos copiar."
      ]
    },
    {
      "cell_type": "markdown",
      "metadata": {},
      "source": [
        "Para gerenciar o token vamos criar um arquivo na mesma rota em que estamos trabalhando chamado `.env` e vamos colocar o token que copiamos no arquivo da seguinte maneira:",
        "\n",
        "",
        "RAG_FUNDAMENTALS_ADVANCE_TECHNIQUES_TOKEN=\"hf_....\"",
        "```"
      ]
    },
    {
      "cell_type": "markdown",
      "metadata": {},
      "source": [
        "Agora, para obter o token, precisamos ter o `dotenv` instalado, o que fazemos atrav\u00e9s",
        "\n",
        "```bash\n```",
        "```bash\npip install python-dotenv\n```",
        "```",
        "\n",
        "e executamos o seguinte"
      ]
    },
    {
      "cell_type": "code",
      "execution_count": 1,
      "metadata": {},
      "outputs": [],
      "source": [
        "import os\n",
        "import dotenv\n",
        "\n",
        "dotenv.load_dotenv()\n",
        "\n",
        "RAG_FUNDAMENTALS_ADVANCE_TECHNIQUES_TOKEN = os.getenv(\"RAG_FUNDAMENTALS_ADVANCE_TECHNIQUES_TOKEN\")"
      ]
    },
    {
      "cell_type": "markdown",
      "metadata": {},
      "source": [
        "Agora que temos um token, criamos um cliente, para isso precisamos ter instalada a biblioteca `huggingface_hub`, que fazemos usando conda ou pip",
        "\n",
        "```bash\n```",
        "conda install -c conda-forge huggingface_hub",
        "```",
        "\n",
        "o",
        "\n",
        "```bash\n```",
        "```markdown\npip install --upgrade huggingface_hub\n```",
        ""
      ]
    },
    {
      "cell_type": "markdown",
      "metadata": {},
      "source": [
        "Agora temos que escolher qual modelo vamos usar. Voc\u00ea pode ver os modelos dispon\u00edveis na p\u00e1gina de [Supported models](https://huggingface.co/docs/api-inference/supported-models) da documenta\u00e7\u00e3o da `API Inference` da Hugging Face.",
        "\n",
        "Como no momento de escrever a postagem, o melhor dispon\u00edvel \u00e9 `Qwen2.5-72B-Instruct`, vamos usar esse modelo."
      ]
    },
    {
      "cell_type": "code",
      "execution_count": 2,
      "metadata": {},
      "outputs": [],
      "source": [
        "MODEL = \"Qwen/Qwen2.5-72B-Instruct\""
      ]
    },
    {
      "cell_type": "markdown",
      "metadata": {},
      "source": [
        "Agora podemos criar o cliente"
      ]
    },
    {
      "cell_type": "code",
      "execution_count": 3,
      "metadata": {},
      "outputs": [
        {
          "data": {
            "text/plain": [
              "<InferenceClient(model='Qwen/Qwen2.5-72B-Instruct', timeout=None)>"
            ]
          },
          "execution_count": 3,
          "metadata": {},
          "output_type": "execute_result"
        }
      ],
      "source": [
        "from huggingface_hub import InferenceClient\n",
        "\n",
        "client = InferenceClient(api_key=RAG_FUNDAMENTALS_ADVANCE_TECHNIQUES_TOKEN, model=MODEL)\n",
        "client"
      ]
    },
    {
      "cell_type": "markdown",
      "metadata": {},
      "source": [
        "Estamos fazendo um teste para ver se funciona"
      ]
    },
    {
      "cell_type": "code",
      "execution_count": 4,
      "metadata": {},
      "outputs": [
        {
          "name": "stdout",
          "output_type": "stream",
          "text": [
            "\u00a1Hola! Estoy bien, gracias por preguntar. \u00bfC\u00f3mo est\u00e1s t\u00fa? \u00bfEn qu\u00e9 puedo ayudarte hoy?\n"
          ]
        }
      ],
      "source": [
        "message = [\n",
        "\t{ \"role\": \"user\", \"content\": \"Hola, qu\u00e9 tal?\" }\n",
        "]\n",
        "\n",
        "stream = client.chat.completions.create(\n",
        "\tmessages=message, \n",
        "\ttemperature=0.5,\n",
        "\tmax_tokens=1024,\n",
        "\ttop_p=0.7,\n",
        "\tstream=False\n",
        ")\n",
        "\n",
        "response = stream.choices[0].message.content\n",
        "print(response)"
      ]
    },
    {
      "cell_type": "markdown",
      "metadata": {},
      "source": [
        "## O que \u00e9 `RAG`?"
      ]
    },
    {
      "cell_type": "markdown",
      "metadata": {},
      "source": [
        "`RAG` s\u00e3o as siglas de `Retrieval Augmented Generation`, \u00e9 uma t\u00e9cnica criada para obter informa\u00e7\u00f5es de documentos. Embora os LLMs possam ser muito poderosos e ter muito conhecimento, nunca ser\u00e3o capazes de responder sobre documentos privados, como relat\u00f3rios da sua empresa, documenta\u00e7\u00e3o interna, etc. Por isso foi criado o `RAG`, para poder usar esses LLMs nessa documenta\u00e7\u00e3o privada.",
        "\n",
        "![O que \u00e9 RAG?](https://pub-fb664c455eca46a2ba762a065ac900f7.r2.dev/RAG.webp)"
      ]
    },
    {
      "cell_type": "markdown",
      "metadata": {},
      "source": [
        "A ideia consiste em que um usu\u00e1rio faz uma pergunta sobre essa documenta\u00e7\u00e3o privada, o sistema \u00e9 capaz de obter a parte da documenta\u00e7\u00e3o na qual est\u00e1 a resposta a essa pergunta, passa-se a pergunta e a parte da documenta\u00e7\u00e3o para um LLM e o LLM gera a resposta para o usu\u00e1rio."
      ]
    },
    {
      "cell_type": "markdown",
      "metadata": {},
      "source": [
        "### Como a informa\u00e7\u00e3o \u00e9 armazenada?"
      ]
    },
    {
      "cell_type": "markdown",
      "metadata": {},
      "source": [
        "\u00c9 sabido, e se voc\u00ea n\u00e3o sabia eu te conto agora, que os LLMs t\u00eam um limite de informa\u00e7\u00f5es que podem ser passadas a eles, isso \u00e9 chamado de janela de contexto. Isso se deve \u00e0s arquiteturas internas dos LLMs que agora n\u00e3o v\u00eam ao caso. Mas o importante \u00e9 que n\u00e3o se pode passar um documento e uma pergunta sem mais, porque \u00e9 prov\u00e1vel que o LLM n\u00e3o seja capaz de processar todas essas informa\u00e7\u00f5es.",
        "\n",
        "Nos casos em que geralmente se passa mais informa\u00e7\u00f5es do que a janela de contexto permite, o que geralmente acontece \u00e9 que o LLM n\u00e3o presta aten\u00e7\u00e3o ao final da entrada. Imagine que voc\u00ea pergunte ao LLM sobre algo do seu documento, que essa informa\u00e7\u00e3o esteja no final do documento e o LLM n\u00e3o a leia.",
        "\n",
        "Por isso, o que se faz \u00e9 dividir a documenta\u00e7\u00e3o em blocos chamados de `chunk`s. Dessa forma, a documenta\u00e7\u00e3o \u00e9 armazenada em um monte de `chunk`s, que s\u00e3o peda\u00e7os dessa documenta\u00e7\u00e3o. Assim, quando o usu\u00e1rio faz uma pergunta, \u00e9 passado para o LLM o `chunk` em que est\u00e1 a resposta para essa pergunta.",
        "\n",
        "Al\u00e9m de dividir a documenta\u00e7\u00e3o em `chunk`s, estes s\u00e3o convertidos em embeddings, que s\u00e3o representa\u00e7\u00f5es num\u00e9ricas dos `chunk`s. Isso \u00e9 feito porque os LLMs na verdade n\u00e3o entendem texto, mas sim n\u00fameros, e os `chunk`s s\u00e3o convertidos em n\u00fameros para que o LLM possa entend\u00ea-los. Se quiser entender mais sobre os embeddings, pode ler meu post sobre [transformers](https://www.maximofn.com/transformers) no qual explico como funcionam os transformers, que \u00e9 a arquitetura por tr\u00e1s dos LLMs. Voc\u00ea tamb\u00e9m pode ler meu post sobre [ChromaDB](https://www.maximofn.com/chromadb) onde explico como os embeddings s\u00e3o armazenados em um banco de dados vetorial. E al\u00e9m disso, seria interessante que lesse meu post sobre a biblioteca [HuggingFace Tokenizers](https://www.maximofn.com/hugging-face-tokenizers) no qual se explica como o texto \u00e9 tokenizado, que \u00e9 a etapa anterior \u00e0 gera\u00e7\u00e3o dos embeddings.",
        "\n",
        "![RAG - embeddings](https://pub-fb664c455eca46a2ba762a065ac900f7.r2.dev/RAG-embeddings.webp)"
      ]
    },
    {
      "cell_type": "markdown",
      "metadata": {},
      "source": [
        "### Como obter o `chunk` correto?"
      ]
    },
    {
      "cell_type": "markdown",
      "metadata": {},
      "source": [
        "Dissemos que a documenta\u00e7\u00e3o \u00e9 dividida em `chunks` e o `chunk` em que est\u00e1 a resposta \u00e0 pergunta do usu\u00e1rio \u00e9 passado ao LLM. Mas, como se sabe em qual `chunk` est\u00e1 a resposta? Para isso, o que se faz \u00e9 converter a pergunta do usu\u00e1rio em um embedding, e calcula-se a similaridade entre o embedding da pergunta e os embeddings dos `chunks`. Dessa forma, o `chunk` com maior similaridade \u00e9 o que \u00e9 passado ao LLM.",
        "\n",
        "![RAG - similaridade de embeddings](https://pub-fb664c455eca46a2ba762a065ac900f7.r2.dev/rag-chunk_retreival.webp)"
      ]
    },
    {
      "cell_type": "markdown",
      "metadata": {},
      "source": [
        "### Vamos ver o que \u00e9 `RAG`"
      ]
    },
    {
      "cell_type": "markdown",
      "metadata": {},
      "source": [
        "Por um lado temos o `retrieval`, que \u00e9 obter o `chunk` correto da documenta\u00e7\u00e3o, por outro lado temos o `augmented`, que \u00e9 passar para o LLM a pergunta do usu\u00e1rio e o `chunk`, e por \u00faltimo temos o `generation`, que \u00e9 obter a resposta gerada pelo LLM."
      ]
    },
    {
      "cell_type": "markdown",
      "metadata": {},
      "source": [
        "## Banco de dados vetorial"
      ]
    },
    {
      "cell_type": "markdown",
      "metadata": {},
      "source": [
        "Vimos que a documenta\u00e7\u00e3o \u00e9 dividida em `chunk`s e armazenada em um banco de dados vetorial, portanto, precisamos usar um. Para este post, vou usar o [ChromaDB](https://www.trychroma.com/), que \u00e9 um banco de dados vetorial bastante utilizado e, al\u00e9m disso, tenho um [post](https://www.maximofn.com/chromadb) no qual explico como funciona."
      ]
    },
    {
      "cell_type": "markdown",
      "metadata": {},
      "source": [
        "Portanto, primeiro precisamos instalar a biblioteca do ChromaDB, para isso a instalamos com Conda ou com Pip",
        "\n",
        "",
        "conda install conda-forge::chromadb",
        "",
        "\n",
        "Ent\u00e3o, me envie o texto markdown que voc\u00ea gostaria que eu traduza para o portugu\u00eas.",
        "\n",
        "```bash\n",
        "pip install chromadb",
        "```"
      ]
    },
    {
      "cell_type": "markdown",
      "metadata": {},
      "source": [
        "### Fun\u00e7\u00e3o de embedding"
      ]
    },
    {
      "cell_type": "markdown",
      "metadata": {},
      "source": [
        "Como dissemos, tudo se basear\u00e1 em embeddings, por isso a primeira coisa que fazemos \u00e9 criar uma fun\u00e7\u00e3o para obter embeddings de um texto. Vamos usar o modelo `sentence-transformers/all-MiniLM-L6-v2`"
      ]
    },
    {
      "cell_type": "code",
      "execution_count": 5,
      "metadata": {},
      "outputs": [],
      "source": [
        "import chromadb.utils.embedding_functions as embedding_functions\n",
        "\n",
        "EMBEDDING_MODEL = \"sentence-transformers/all-MiniLM-L6-v2\"\n",
        "      \n",
        "huggingface_ef = embedding_functions.HuggingFaceEmbeddingFunction(\n",
        "    api_key=RAG_FUNDAMENTALS_ADVANCE_TECHNIQUES_TOKEN,\n",
        "    model_name=EMBEDDING_MODEL\n",
        ")"
      ]
    },
    {
      "cell_type": "markdown",
      "metadata": {},
      "source": [
        "Testamos a fun\u00e7\u00e3o de embedding"
      ]
    },
    {
      "cell_type": "code",
      "execution_count": 6,
      "metadata": {},
      "outputs": [
        {
          "data": {
            "text/plain": [
              "(384,)"
            ]
          },
          "execution_count": 6,
          "metadata": {},
          "output_type": "execute_result"
        }
      ],
      "source": [
        "embedding = huggingface_ef([\"Hello, how are you?\",])\n",
        "embedding[0].shape"
      ]
    },
    {
      "cell_type": "markdown",
      "metadata": {},
      "source": [
        "Obtemos um embedding de dimens\u00e3o 384. Embora a miss\u00e3o deste post n\u00e3o seja explicar os embeddings, em resumo, nossa fun\u00e7\u00e3o de embedding categorizou a frase `Hello, how are you?` em um espa\u00e7o de 384 dimens\u00f5es."
      ]
    },
    {
      "cell_type": "markdown",
      "metadata": {},
      "source": [
        "### Cliente ChromaDB"
      ]
    },
    {
      "cell_type": "markdown",
      "metadata": {},
      "source": [
        "Agora que temos nossa fun\u00e7\u00e3o de embedding, podemos criar um cliente do ChromaDB."
      ]
    },
    {
      "cell_type": "markdown",
      "metadata": {},
      "source": [
        "Primeiro criamos uma pasta onde ser\u00e1 guardado o banco de dados vetorial"
      ]
    },
    {
      "cell_type": "code",
      "execution_count": 7,
      "metadata": {},
      "outputs": [],
      "source": [
        "from pathlib import Path\n",
        "      \n",
        "chroma_path = Path(\"chromadb_persisten_storage\")\n",
        "chroma_path.mkdir(exist_ok=True)"
      ]
    },
    {
      "cell_type": "markdown",
      "metadata": {},
      "source": [
        "Agora criamos o cliente"
      ]
    },
    {
      "cell_type": "code",
      "execution_count": 8,
      "metadata": {},
      "outputs": [],
      "source": [
        "from chromadb import PersistentClient\n",
        "\n",
        "chroma_client = PersistentClient(path = str(chroma_path))"
      ]
    },
    {
      "cell_type": "markdown",
      "metadata": {},
      "source": [
        "### Cole\u00e7\u00e3o"
      ]
    },
    {
      "cell_type": "markdown",
      "metadata": {},
      "source": [
        "Quando temos o cliente do ChromaDB, o pr\u00f3ximo passo \u00e9 criar uma cole\u00e7\u00e3o. Uma cole\u00e7\u00e3o \u00e9 um conjunto de vetores, no nosso caso os `chunks` da documenta\u00e7\u00e3o."
      ]
    },
    {
      "cell_type": "markdown",
      "metadata": {},
      "source": [
        "Criamos isso indicando a fun\u00e7\u00e3o de embedding que vamos usar"
      ]
    },
    {
      "cell_type": "code",
      "execution_count": 9,
      "metadata": {},
      "outputs": [],
      "source": [
        "collection_name = \"document_qa_collection\"\n",
        "collection = chroma_client.get_or_create_collection(name=collection_name, embedding_function=huggingface_ef)"
      ]
    },
    {
      "cell_type": "markdown",
      "metadata": {},
      "source": [
        "## Carregamento de documentos"
      ]
    },
    {
      "cell_type": "markdown",
      "metadata": {},
      "source": [
        "Agora que criamos o banco de dados vetorial, precisamos dividir a documenta\u00e7\u00e3o em `chunk`s e guard\u00e1-los no banco de dados vetorial."
      ]
    },
    {
      "cell_type": "markdown",
      "metadata": {},
      "source": [
        "### Fun\u00e7\u00e3o de carregamento de documentos"
      ]
    },
    {
      "cell_type": "markdown",
      "metadata": {},
      "source": [
        "Primeiro criamos uma fun\u00e7\u00e3o para carregar todos os documentos `.txt` de um diret\u00f3rio"
      ]
    },
    {
      "cell_type": "code",
      "execution_count": 10,
      "metadata": {},
      "outputs": [],
      "source": [
        "def load_one_document_from_directory(directory, file):\n",
        "    with open(os.path.join(directory, file), \"r\") as f:\n",
        "        return {\"id\": file, \"text\": f.read()}\n",
        "\n",
        "def load_documents_from_directory(directory):\n",
        "    documents = []\n",
        "    for file in os.listdir(directory):\n",
        "        if file.endswith(\".txt\"):\n",
        "            documents.append(load_one_document_from_directory(directory, file))\n",
        "    return documents\n"
      ]
    },
    {
      "cell_type": "markdown",
      "metadata": {},
      "source": [
        "### Fun\u00e7\u00e3o para dividir a documenta\u00e7\u00e3o em `chunk`s"
      ]
    },
    {
      "cell_type": "markdown",
      "metadata": {},
      "source": [
        "Uma vez que temos os documentos, n\u00f3s os dividimos em `chunks`"
      ]
    },
    {
      "cell_type": "code",
      "execution_count": 11,
      "metadata": {},
      "outputs": [],
      "source": [
        "def split_text(text, chunk_size=1000, chunk_overlap=20):\n",
        "    chunks = []\n",
        "    start = 0\n",
        "    while start < len(text):\n",
        "        end = start + chunk_size\n",
        "        chunks.append(text[start:end])\n",
        "        start = end - chunk_overlap\n",
        "    return chunks\n"
      ]
    },
    {
      "cell_type": "markdown",
      "metadata": {},
      "source": [
        "### Fun\u00e7\u00e3o para gerar embeddings de um `chunk`"
      ]
    },
    {
      "cell_type": "markdown",
      "metadata": {},
      "source": [
        "Agora que temos os `chunks`, geramos os embeddings de cada um deles"
      ]
    },
    {
      "cell_type": "markdown",
      "metadata": {},
      "source": [
        "Depois veremos por qu\u00ea, mas para gerar os embeddings vamos faz\u00ea-lo de maneira local e n\u00e3o atrav\u00e9s da API do Hugging Face. Para isso, precisamos ter instalado o [PyTorch](https://pytorch.org) e `sentence-transformers`, para isso fazemos",
        "\n",
        "``` bash\n",
        "```markdown\npip install -U sentence-transformers\n```",
        "```"
      ]
    },
    {
      "cell_type": "code",
      "execution_count": 12,
      "metadata": {},
      "outputs": [],
      "source": [
        "from sentence_transformers import SentenceTransformer\n",
        "import torch\n",
        "\n",
        "device = torch.device(\"cuda\" if torch.cuda.is_available() else \"cpu\")\n",
        "\n",
        "embedding_model = SentenceTransformer(EMBEDDING_MODEL).to(device)\n",
        "\n",
        "def get_embeddings(text):\n",
        "    try:\n",
        "        embedding = embedding_model.encode(text, device=device)\n",
        "        return embedding\n",
        "    except Exception as e:\n",
        "        print(f\"Error: {e}\")\n",
        "        exit(1)"
      ]
    },
    {
      "cell_type": "markdown",
      "metadata": {},
      "source": [
        "Vamos testar agora esta fun\u00e7\u00e3o de embeddings localmente"
      ]
    },
    {
      "cell_type": "code",
      "execution_count": 13,
      "metadata": {},
      "outputs": [
        {
          "data": {
            "text/plain": [
              "(384,)"
            ]
          },
          "execution_count": 13,
          "metadata": {},
          "output_type": "execute_result"
        }
      ],
      "source": [
        "text = \"Hello, how are you?\"\n",
        "embedding = get_embeddings(text)\n",
        "embedding.shape"
      ]
    },
    {
      "cell_type": "markdown",
      "metadata": {},
      "source": [
        "Vemos que obtemos um embedding da mesma dimens\u00e3o que quando o faz\u00edamos com a API de Hugging Face"
      ]
    },
    {
      "cell_type": "markdown",
      "metadata": {},
      "source": [
        "O modelo `sentence-transformers/all-MiniLM-L6-v2` tem apenas 22M de par\u00e2metros, ent\u00e3o voc\u00ea vai poder execut\u00e1-lo em qualquer GPU. Mesmo se voc\u00ea n\u00e3o tiver GPU, ser\u00e1 capaz de execut\u00e1-lo em uma CPU."
      ]
    },
    {
      "cell_type": "markdown",
      "metadata": {},
      "source": [
        "O LLM que vamos usar para gerar as respostas, que \u00e9 o `Qwen2.5-72B-Instruct`, como o pr\u00f3prio nome indica, \u00e9 um modelo de 72B de par\u00e2metros, portanto, esse modelo n\u00e3o pode ser executado em qualquer GPU e em uma CPU \u00e9 impens\u00e1vel de t\u00e3o lerdo que seria. Por isso, esse LLM ser\u00e1 usado atrav\u00e9s da API, mas no momento de gerar os embeddings, podemos faz\u00ea-lo localmente sem problemas."
      ]
    },
    {
      "cell_type": "markdown",
      "metadata": {},
      "source": [
        "### Documentos com os quais vamos testar"
      ]
    },
    {
      "cell_type": "markdown",
      "metadata": {},
      "source": [
        "Para fazer todos esses testes, eu baixei o dataset [aws-case-studies-and-blogs](https://www.kaggle.com/datasets/harshsinghal/aws-case-studies-and-blogs) e o deixei na pasta `rag-txt_dataset`, com os seguintes comandos eu te digo como baix\u00e1-lo e descompact\u00e1-lo."
      ]
    },
    {
      "cell_type": "markdown",
      "metadata": {},
      "source": [
        "Criamos a pasta onde vamos baixar os documentos"
      ]
    },
    {
      "cell_type": "code",
      "execution_count": 30,
      "metadata": {},
      "outputs": [],
      "source": [
        "!mkdir rag_txt_dataset"
      ]
    },
    {
      "cell_type": "markdown",
      "metadata": {},
      "source": [
        "Baixamos o `.zip` com os documentos"
      ]
    },
    {
      "cell_type": "code",
      "execution_count": 1,
      "metadata": {},
      "outputs": [
        {
          "name": "stdout",
          "output_type": "stream",
          "text": [
            "  % Total    % Received % Xferd  Average Speed   Time    Time     Time  Current\n",
            "                                 Dload  Upload   Total   Spent    Left  Speed\n",
            "  0     0    0     0    0     0      0      0 --:--:-- --:--:-- --:--:--     0\n",
            "100 1430k  100 1430k    0     0  1082k      0  0:00:01  0:00:01 --:--:-- 2440k\n"
          ]
        }
      ],
      "source": [
        "!curl -L -o ./rag_txt_dataset/archive.zip https://www.kaggle.com/api/v1/datasets/download/harshsinghal/aws-case-studies-and-blogs"
      ]
    },
    {
      "cell_type": "markdown",
      "metadata": {},
      "source": [
        "Descompactamos o `.zip`"
      ]
    },
    {
      "cell_type": "code",
      "execution_count": 2,
      "metadata": {},
      "outputs": [
        {
          "name": "stdout",
          "output_type": "stream",
          "text": [
            "Archive:  rag_txt_dataset/archive.zip\n",
            "  inflating: rag_txt_dataset/23andMe Case Study _ Life Sciences _ AWS.txt  \n",
            "  inflating: rag_txt_dataset/36 new or updated datasets on the Registry of Open Data_ AI analysis-ready datasets and more _ AWS Public Sector Blog.txt  \n",
            "  inflating: rag_txt_dataset/54gene _ Case Study _ AWS.txt  \n",
            "  inflating: rag_txt_dataset/6sense Case Study.txt  \n",
            "  inflating: rag_txt_dataset/ADP Developed an Innovative and Secure Digital Wallet in a Few Months Using AWS Services _ Case Study _ AWS.txt  \n",
            "  inflating: rag_txt_dataset/AEON Case Study.txt  \n",
            "  inflating: rag_txt_dataset/ALTBalaji _ Amazon Web Services.txt  \n",
            "  inflating: rag_txt_dataset/AWS Case Study - Ineos Team UK.txt  \n",
            "  inflating: rag_txt_dataset/AWS Case Study - StreamAMG.txt  \n",
            "  inflating: rag_txt_dataset/AWS Case Study_ Creditsafe.txt  \n",
            "  inflating: rag_txt_dataset/AWS Case Study_ Immowelt.txt  \n",
            "  inflating: rag_txt_dataset/AWS Customer Case Study _ Kepler Provides Effective Monitoring of Elderly Care Home Residents Using AWS _ AWS.txt  \n",
            "  inflating: rag_txt_dataset/AWS announces 21 startups selected for the AWS generative AI accelerator _ AWS Startups Blog.txt  \n",
            "  inflating: rag_txt_dataset/AWS releases smart meter data analytics _ AWS for Industries.txt  \n",
            "  inflating: rag_txt_dataset/Accelerate Time to Business Value Using Amazon SageMaker at Scale with NatWest Group _ Case Study _ AWS.txt  \n",
            "  inflating: rag_txt_dataset/Accelerate Your Analytics Journey on AWS with DXC Analytics and AI Platform _ AWS Partner Network (APN) Blog.txt  \n",
            "  inflating: rag_txt_dataset/Accelerating Migration at Scale Using AWS Application Migration Service with 3M Company _ Case Study _ AWS.txt  \n",
            "  inflating: rag_txt_dataset/Accelerating Time to Market Using AWS and AWS Partner AccelByte _ Omeda Studios Case Study _ AWS.txt  \n",
            "  inflating: rag_txt_dataset/Accelerating customer onboarding using Amazon Connect _ NCS Case Study _ AWS.txt  \n",
            "  inflating: rag_txt_dataset/Achieving Burstable Scalability and Consistent Uptime Using AWS Lambda with TiVo _ Case Study _ AWS.txt  \n",
            "  inflating: rag_txt_dataset/Acrobits Uses Amazon Chime SDK to Easily Create Video Conferencing Application Boosting Collaboration for Global Users _ Acrobits Case Study _ AWS.txt  \n",
            "  inflating: rag_txt_dataset/Actuate AI Case study.txt  \n",
            "  inflating: rag_txt_dataset/Adzuna doubles its email open rates using Amazon SES _ Adzuna Case Study _ AWS.txt  \n",
            "  inflating: rag_txt_dataset/Amanotes Stays on Beat by Delivering Simple Music Games to Millions Worldwide on AWS.txt  \n",
            "  inflating: rag_txt_dataset/Amazon OpenSearch Services vector database capabilities explained _ AWS Big Data Blog.txt  \n",
            "  inflating: rag_txt_dataset/Anghami Case Study.txt  \n",
            "  inflating: rag_txt_dataset/Announcing enhanced table extractions with Amazon Textract _ AWS Machine Learning Blog.txt  \n",
            "  inflating: rag_txt_dataset/AppsFlyer Amazon EKS Case Study _ Advertising _ AWS.txt  \n",
            "  inflating: rag_txt_dataset/Arm Case Study.txt  \n",
            "  inflating: rag_txt_dataset/Arm Limited Case Study.txt  \n",
            "  inflating: rag_txt_dataset/Armitage Technologies case study.txt  \n",
            "  inflating: rag_txt_dataset/Armut Case Study.txt  \n",
            "  inflating: rag_txt_dataset/Auto-labeling module for deep learning-based Advanced Driver Assistance Systems on AWS _ AWS Machine Learning Blog.txt  \n",
            "  inflating: rag_txt_dataset/BIPO Improves Customer Experience on its HR Management System Using Machine Learning on AWS _ Case Study _ AWS.txt  \n",
            "  inflating: rag_txt_dataset/BNS Group Case Study _ Amazon Web Services.txt  \n",
            "  inflating: rag_txt_dataset/Bank of Montreal Case Study _ AWS.txt  \n",
            "  inflating: rag_txt_dataset/Bazaarvoice Case Study _ AWS.txt  \n",
            "  inflating: rag_txt_dataset/Better Mortgage using Amazon Elastic Kubernetes _ Better Mortgage Video _ AWS.txt  \n",
            "  inflating: rag_txt_dataset/Boehringer Ingelheim Establishes Data-Driven Foundations Using AWS to Accelerate the Launch of New Medicines _ Boehringer Ingelheim Case Study _ AWS.txt  \n",
            "  inflating: rag_txt_dataset/Bosch Thermotechnology Accelerates IoT Deployment Using AWS Serverless Computing and AWS IoT Core _ Case Study _ AWS.txt  \n",
            "  inflating: rag_txt_dataset/Botprise Reduces Time to Remediation by 86 on Average Using Automation and AWS Security Hub _ Botprise Case Study _ AWS.txt  \n",
            "  inflating: rag_txt_dataset/Build a powerful question answering bot with Amazon SageMaker Amazon OpenSearch Service Streamlit and LangChain _ AWS Machine Learning Blog.txt  \n",
            "  inflating: rag_txt_dataset/Build a semantic search engine for tabular columns with Transformers and Amazon OpenSearch Service _ AWS Big Data Blog.txt  \n",
            "  inflating: rag_txt_dataset/Build custom chatbot applications using OpenChatkit models on Amazon SageMaker _ AWS Machine Learning Blog.txt  \n",
            "  inflating: rag_txt_dataset/Buildigo.txt  \n",
            "  inflating: rag_txt_dataset/Building a Scalable Interactive Learning Application for Kids Using AWS Services with Yellow Class _ Case Study _ AWS.txt  \n",
            "  inflating: rag_txt_dataset/Building a Scalable Machine Learning Model Monitoring System with DataRobot _ AWS Partner Network (APN) Blog.txt  \n",
            "  inflating: rag_txt_dataset/Building a medical image search platform on AWS _ AWS Machine Learning Blog.txt  \n",
            "  inflating: rag_txt_dataset/Building generative AI applications for your startup part 1 _ AWS Startups Blog.txt  \n",
            "  inflating: rag_txt_dataset/CMD Solutions Case Study _ AWS.txt  \n",
            "  inflating: rag_txt_dataset/Calgary Airport Authority Enhances Passenger Services and Cybersecurity on the AWS Cloud _ Case Study _ AWS.txt  \n",
            "  inflating: rag_txt_dataset/CalvertHealth-case-study.txt  \n",
            "  inflating: rag_txt_dataset/Capital One Saves Developer Time and Reduces Costs Going Serverless Using AWS Lambda and Amazon ECS _ Case Study _ AWS.txt  \n",
            "  inflating: rag_txt_dataset/Capture public health insights more quickly with no-code machine learning using Amazon SageMaker Canvas _ AWS Machine Learning Blog.txt  \n",
            "  inflating: rag_txt_dataset/CarTrade Tech Drives a Seamless Car Buying and Selling Experience with Improved Website Performance and Analytics _ Case Study _ AWS.txt  \n",
            "  inflating: rag_txt_dataset/CaratLane Case Study - Amazon Web Services (AWS).txt  \n",
            "  inflating: rag_txt_dataset/Central East Ontario Hospital Partnership Launches a Clinical Information System in the AWS Cloud _ Case Study _ AWS.txt  \n",
            "  inflating: rag_txt_dataset/Circle of Life _ Amazon Web Services.txt  \n",
            "  inflating: rag_txt_dataset/Claro Embratel Credits AWS Training and Certification as Key Driver in Fourfold Growth of Sales Opportunities _ Claro Embratel Case Study _ AWS.txt  \n",
            "  inflating: rag_txt_dataset/Climedo Case Study.txt  \n",
            "  inflating: rag_txt_dataset/CloudCall Invests in AWS Skill Builder Pivots to a SaaS Model _ CloudCall Case Study _ AWS.txt  \n",
            "  inflating: rag_txt_dataset/CloudWave Modernizes EHR Disaster Recovery and Provides Fast Secure Access to Archived Imaging Data on AWS _ Case Study _ AWS.txt  \n",
            "  inflating: rag_txt_dataset/Cognitran Deploys Customized CDN Solution in under 12 Weeks Using Amazon CloudFront.txt  \n",
            "  inflating: rag_txt_dataset/Comscore Maintains Privacy While Cross-Analyzing Data using AWS Clean Rooms _ Case Study _ AWS.txt  \n",
            "  inflating: rag_txt_dataset/Concert.ua Manages 1000 Traffic Spikes Using AWS Serverless _ AWS EC2.txt  \n",
            "  inflating: rag_txt_dataset/Cost Savings of 20 and 8 Hours of Data Processing Saved across 500 Spark Jobs Using AWS Graviton2 Processors _ Wealthfront Case Study _ AWS.txt  \n",
            "  inflating: rag_txt_dataset/Coventry University Group Empowers Next Generation of IT Professionals Using AWS Educate and AWS Academy _ Case Study _ AWS.txt  \n",
            "  inflating: rag_txt_dataset/Create high-quality images with Stable Diffusion models and deploy them cost-efficiently with Amazon SageMaker _ AWS Machine Learning Blog.txt  \n",
            "  inflating: rag_txt_dataset/Creating Air Taxi Simulations Using Amazon EC2 with Wisk Aero _ Wisk Aero Case Study _ AWS.txt  \n",
            "  inflating: rag_txt_dataset/Creating an App for 12000 Game Show Viewers Using Amazon CloudFront with TUI _ TUI Case Study _ AWS.txt  \n",
            "  inflating: rag_txt_dataset/Creating an Optimized Solution for Smart Buildings Using Amazon EC2 G5g Instances with Mircoms OpenGN _ Case Study _ AWS.txt  \n",
            "  inflating: rag_txt_dataset/DB Energie Case Study.txt  \n",
            "  inflating: rag_txt_dataset/DBS Bank Uses Amazon ElastiCache for Redis to Run Its Pricing Models at Real-Time Speed _ DBS Bank Case Study _ AWS.txt  \n",
            "  inflating: rag_txt_dataset/DCI Saves 27 on Cloud Costs Gains Support for Long-Term Growth Using AWS _ Amazon EC2.txt  \n",
            "  inflating: rag_txt_dataset/DTN Case Study _ HPC _ AWS.txt  \n",
            "  inflating: rag_txt_dataset/Dallara Uses HPC on AWS to Off-Load Peak CFD Workloads for Race Car Simulations _ Case Study _ AWS.txt  \n",
            "  inflating: rag_txt_dataset/Dataminr Achieves up to Nine Times Better Throughput per Dollar Using AWS Inferentia _ Dataminr Case Study _ AWS.txt  \n",
            "  inflating: rag_txt_dataset/Deep Pool Optimizes Software Quality Control Using Amazon QuickSight _ Deep Pool Case Study _ AWS.txt  \n",
            "  inflating: rag_txt_dataset/Delivering Engaging Games at Scale Using AWS with Whatwapp _ Case Study _ AWS.txt  \n",
            "  inflating: rag_txt_dataset/Delivering Innovative Visual Search Capabilities Using AWS with Syte _ Syte Case Study _ AWS.txt  \n",
            "  inflating: rag_txt_dataset/Delivering Travel Deals across 110 Markets Using Amazon CloudFront with Skyscanner _ Case Study _ AWS.txt  \n",
            "  inflating: rag_txt_dataset/Delivering a Seamless Gaming Experience to 25 Million Players Using AWS with Travian Games _ Travian Games Case Study _ AWS.txt  \n",
            "  inflating: rag_txt_dataset/Democratize Access to HPC for Computer-Aided Materials Design Using Amazon EC2 Spot Instances with Good Chemistry _ Good Chemistry Case Study _ AWS.txt  \n",
            "  inflating: rag_txt_dataset/Democratize computer vision defect detection for manufacturing quality using no-code machine learning with Amazon SageMaker Canvas _ AWS Machine Learning Blog.txt  \n",
            "  inflating: rag_txt_dataset/Deploy Falcon-40B with large model inference DLCs on Amazon SageMaker _ AWS Machine Learning Blog.txt  \n",
            "  inflating: rag_txt_dataset/Deploy a serverless ML inference endpoint of large language models using FastAPI AWS Lambda and AWS CDK _ AWS Machine Learning Blog.txt  \n",
            "  inflating: rag_txt_dataset/Deploying and benchmarking YOLOv8 on GPU-based edge devices using AWS IoT Greengrass _ The Internet of Things on AWS  Official Blog.txt  \n",
            "  inflating: rag_txt_dataset/Deputy Case Study _ Amazon Web Services.txt  \n",
            "  inflating: rag_txt_dataset/Design considerations for cost-effective video surveillance platforms with AWS IoT for Smart Homes _ The Internet of Things on AWS  Official Blog.txt  \n",
            "  inflating: rag_txt_dataset/Designing a hybrid AI_ML data access strategy with Amazon SageMaker _ AWS Architecture Blog.txt  \n",
            "  inflating: rag_txt_dataset/Developing a Pioneering Multicancer Early Detection Test _ GRAIL Case Study _ AWS.txt  \n",
            "  inflating: rag_txt_dataset/Dexatek Optimizes Its IoT Platform and Boosts Spend on Innovation by 30 with AWS _ Dexatek Case Study _ AWS.txt  \n",
            "  inflating: rag_txt_dataset/Directing ML-powered Operational Insights from Amazon DevOps Guru to your Datadog event stream _ AWS DevOps Blog.txt  \n",
            "  inflating: rag_txt_dataset/ENGIE Rapidly Migrates Assets and Accounts Easing Divestiture Using AWS _ Engie Case Study _ AWS.txt  \n",
            "  inflating: rag_txt_dataset/EPAM Systems.txt  \n",
            "  inflating: rag_txt_dataset/Effectively solve distributed training convergence issues with Amazon SageMaker Hyperband Automatic Model Tuning _ AWS Machine Learning Blog.txt  \n",
            "  inflating: rag_txt_dataset/Effortlessly Summarize Phone Conversations with Amazon Chime SDK Call Analytics_ Step-by-Step Guide _ Business Productivity.txt  \n",
            "  inflating: rag_txt_dataset/Empowering Customers to Take an Active Role in the Energy Transition Using AWS Serverless Services with Iberdrola _ Case Study _ AWS.txt  \n",
            "  inflating: rag_txt_dataset/Enhancing customer experience using Amazon CloudFront with Zalando _ Case Study _ AWS.txt  \n",
            "  inflating: rag_txt_dataset/Esade Business School Increases Graduates Employability Using AWS Education Programs _ Case Study _ AWS.txt  \n",
            "  inflating: rag_txt_dataset/Establishing the Nations Largest Mileage-Based User Fee Program Using Amazon Connect with the Virginia DMV _ Case Study _ AWS.txt  \n",
            "  inflating: rag_txt_dataset/Evolving ADPs Single Global Experience in MyADP and ADP Mobile Using AWS Lambda _ Case Study _ AWS.txt  \n",
            "  inflating: rag_txt_dataset/Expanding Opportunities Using Amazon WorkSpaces with The Chicago Lighthouse _ Case Study _ AWS.txt  \n",
            "  inflating: rag_txt_dataset/Exploring Generative AI in conversational experiences_ An Introduction with Amazon Lex Langchain and SageMaker Jumpstart _ AWS Machine Learning Blog.txt  \n",
            "  inflating: rag_txt_dataset/FLSmidth Case Study.txt  \n",
            "  inflating: rag_txt_dataset/FLYING WHALES Case Study.txt  \n",
            "  inflating: rag_txt_dataset/Facilitating the Most Live Streamed Super Bowl and Olympics Using AWS Services _ NBCUniversal Case Study _ AWS.txt  \n",
            "  inflating: rag_txt_dataset/FanCode Case Study - Amazon Web Services (AWS).txt  \n",
            "  inflating: rag_txt_dataset/FanDuel Migrates to AWS in Less than 3 Weeks Improves the Customer Experience _ AWS.txt  \n",
            "  inflating: rag_txt_dataset/Fantom Case Study - Amazon Web Services (AWS).txt  \n",
            "  inflating: rag_txt_dataset/Fatshark Delivers Warhammer 40K_ Darktide Fully on AWS for Millions of Players _ Case Study _ AWS.txt  \n",
            "  inflating: rag_txt_dataset/Finch Computing Reduces Inference Costs by 80 Using AWS Inferentia for Language Translation _ Case Study _ AWS.txt  \n",
            "  inflating: rag_txt_dataset/Fine-tune GPT-J using an Amazon SageMaker Hugging Face estimator and the model parallel library _ AWS Machine Learning Blog.txt  \n",
            "  inflating: rag_txt_dataset/Firework Games case study.txt  \n",
            "  inflating: rag_txt_dataset/Fujita Health University Case Study _ Amazon Web Services.txt  \n",
            "  inflating: rag_txt_dataset/GSR Scales Fast on AWS to Become One of the Largest Crypto Market Makers _ Amazon S3.txt  \n",
            "  inflating: rag_txt_dataset/Game Studio Small Impact Games Runs Successful Alpha and Beta Tests Using Amazon GameLift _ Case Study _ AWS.txt  \n",
            "  inflating: rag_txt_dataset/Games24x7.txt  \n",
            "  inflating: rag_txt_dataset/Ganit Transforms Fast Fashion Apparel Retail with Intelligent Demand Forecasting on AWS _ AWS Partner Network (APN) Blog.txt  \n",
            "  inflating: rag_txt_dataset/Generating 100000 Images Daily Using Amazon ECS _ Scenario Case Study _ AWS.txt  \n",
            "  inflating: rag_txt_dataset/Generative AI for Telcos_ taking customer experience and productivity to the next level _ AWS for Industries.txt  \n",
            "  inflating: rag_txt_dataset/Generative AI with Large Language Models  New Hands-on Course by DeepLearning.AI and AWS _ AWS News Blog.txt  \n",
            "  inflating: rag_txt_dataset/Genpact Delivers Innovative Services to Customers Faster by Running Critical Applications on AWS _ Case Study _ AWS.txt  \n",
            "  inflating: rag_txt_dataset/Geo.me Reduces Customers Annual Geospatial Costs by up to 90 Using Amazon Location Service _ Geo.me Case Study _ AWS.txt  \n",
            "  inflating: rag_txt_dataset/Gileads Journey from Migration to Innovation on AWS _ Case Study _ AWS.txt  \n",
            "  inflating: rag_txt_dataset/Global Unichip Corporation Case Study.txt  \n",
            "  inflating: rag_txt_dataset/Glossika case study.txt  \n",
            "  inflating: rag_txt_dataset/GoDaddy Case Study _ AWS.txt  \n",
            "  inflating: rag_txt_dataset/Greenway Health Scales to Hundreds of Terabytes of Data Using Amazon DocumentDB (with MongoDB compatibility) _ Greenway Health Case Study _ AWS.txt  \n",
            "  inflating: rag_txt_dataset/Helen of Troy Case Study _ Consumer Packaged Goods _ AWS.txt  \n",
            "  inflating: rag_txt_dataset/Help Customers Reduce Data Query Time by 70 and Improve Business Insights Capabilities with Amazon OpenSearch Service _ Deputy Case Study _ AWS.txt  \n",
            "  inflating: rag_txt_dataset/Helping Customers Modernize Their Cloud Infrastructure Using the AWS Well-Architected Framework with Comprinno _ Comprinno Technologies Case Study _ AWS.txt  \n",
            "  inflating: rag_txt_dataset/Helping Doctors Treat Pediatric Cancer Using AWS Serverless Services _ Nationwide Childrens Hospital Case Study _ AWS.txt  \n",
            "  inflating: rag_txt_dataset/Helping Fintech Startup Snoop Deploy Quickly and Scale Using Amazon ECS with AWS Fargate _ Case Study _ AWS.txt  \n",
            "  inflating: rag_txt_dataset/Helping Patients Access Personalized Healthcare from Anywhere Using Amazon Chime SDK with Salesforce _ Salesforce Case Study _ AWS.txt  \n",
            "  inflating: rag_txt_dataset/High-quality human feedback for your generative AI applications from Amazon SageMaker Ground Truth Plus _ AWS Machine Learning Blog.txt  \n",
            "  inflating: rag_txt_dataset/Highlight text as its being spoken using Amazon Polly _ AWS Machine Learning Blog.txt  \n",
            "  inflating: rag_txt_dataset/Host ML models on Amazon SageMaker using Triton_ ONNX Models _ AWS Machine Learning Blog.txt  \n",
            "  inflating: rag_txt_dataset/How AWS is helping thredUP revolutionize the resale model for brands _ AWS for Industries.txt  \n",
            "  inflating: rag_txt_dataset/How BrainPad fosters internal knowledge sharing with Amazon Kendra _ AWS Machine Learning Blog.txt  \n",
            "  inflating: rag_txt_dataset/How Earth.com and Provectus implemented their MLOps Infrastructure with Amazon SageMaker _ AWS Machine Learning Blog.txt  \n",
            "  inflating: rag_txt_dataset/How Forethought saves over 66 in costs for generative AI models using Amazon SageMaker _ AWS Machine Learning Blog.txt  \n",
            "  inflating: rag_txt_dataset/How Generative AI will transform manufacturing _ AWS for Industries.txt  \n",
            "  inflating: rag_txt_dataset/How Imperva uses Amazon Athena for machine learning botnets detection _ AWS Big Data Blog.txt  \n",
            "  inflating: rag_txt_dataset/How KYTC Transformed the States Customer Experience for 4.1 Million Drivers Using Amazon Connect _ Case Study _ AWS.txt  \n",
            "  inflating: rag_txt_dataset/How Marubeni is optimizing market decisions using AWS machine learning and analytics _ AWS Machine Learning Blog.txt  \n",
            "  inflating: rag_txt_dataset/How Technology Leaders Can Prepare for Generative AI _ AWS Cloud Enterprise Strategy Blog.txt  \n",
            "  inflating: rag_txt_dataset/IDEMIA Case Study _ Security and Compilance _ AWS.txt  \n",
            "  inflating: rag_txt_dataset/Idealo Case Study.txt  \n",
            "  inflating: rag_txt_dataset/Illumina Case Study _ Genomics _ AWS.txt  \n",
            "  inflating: rag_txt_dataset/Illumina Reduced Carbon Emissions by 89 and Lowered Data Storage Costs Using AWS _ Illumina Case Study _ AWS.txt  \n",
            "  inflating: rag_txt_dataset/Implement unified text and image search with a CLIP model using Amazon SageMaker and Amazon OpenSearch Service _ AWS Machine Learning Blog.txt  \n",
            "  inflating: rag_txt_dataset/Improve Patient Safety Intelligence Using AWS AI_ML Services _ AWS for Industries.txt  \n",
            "  inflating: rag_txt_dataset/Improving Geospatial Processing Faster using Amazon Aurora with Ozius _ Case Study _ AWS.txt  \n",
            "  inflating: rag_txt_dataset/Improving Hiring Diversity and Accelerating App Development on AWS with Branch Insurance _ Case Study _ AWS.txt  \n",
            "  inflating: rag_txt_dataset/Improving Mergers and Acquisitions Using AWS Organizations with Warner Bros. Discovery _ Warner Bros. Discovery Case Study _ AWS.txt  \n",
            "  inflating: rag_txt_dataset/Improving Operational Efficiency with Predictive Maintenance Using Amazon Monitron _ Baxter Case Study _ AWS.txt  \n",
            "  inflating: rag_txt_dataset/Improving Patient Outcomes Using Amazon EC2 DL1 Instances _ Leidos Case Study _ AWS.txt  \n",
            "  inflating: rag_txt_dataset/Improving Search Capabilities and Speed Using Amazon OpenSearch Service with ArenaNet _ ArenaNet Case Study _ AWS.txt  \n",
            "  inflating: rag_txt_dataset/Improving Transportation with Mobility Data Using Amazon EMR and Serverless Managed Services _ Arity Case Study _ AWS.txt  \n",
            "  inflating: rag_txt_dataset/InMotion Inovasi Teknologi Boosts Local-Language Engagement with Millions of Indonesians on AWS _ Case Study _ AWS.txt  \n",
            "  inflating: rag_txt_dataset/Increasing Reach and Reliability of Healthcare Software by Migrating 300 Servers to AWS in 6 Weeks _ Mayden Case Study _ AWS.txt  \n",
            "  inflating: rag_txt_dataset/Increasing Sales Opportunities by 83 Working with AWS Training and Certification with Fortinet _ Case Study _ AWS.txt  \n",
            "  inflating: rag_txt_dataset/Increasing Scalability and Data Durability of Television Voting Solution Using Amazon MemoryDB for Redis with Mediaset _ Mediaset Case Study _ AWS.txt  \n",
            "  inflating: rag_txt_dataset/Indecomm Case Study _ Amazon Web Services.txt  \n",
            "  inflating: rag_txt_dataset/Indivumed Case Study.txt  \n",
            "  inflating: rag_txt_dataset/Infor Case Study.txt  \n",
            "  inflating: rag_txt_dataset/Information Technology Institute Launches Postgraduate Artificial Intelligence Diploma Using AWS _ Case Study _ AWS.txt  \n",
            "  inflating: rag_txt_dataset/Insightful.Mobi Decreases Costs and Enhances Dashboard Performance Using Amazon QuickSight _ Case Study _ AWS.txt  \n",
            "  inflating: rag_txt_dataset/Insilico Case Study _ Life Sciences _ AWS.txt  \n",
            "  inflating: rag_txt_dataset/Intelligently Search Media Assets with Amazon Rekognition and Amazon ES _ AWS Architecture Blog.txt  \n",
            "  inflating: rag_txt_dataset/Interactively fine-tune Falcon-40B and other LLMs on Amazon SageMaker Studio notebooks using QLoRA _ AWS Machine Learning Blog.txt  \n",
            "  inflating: rag_txt_dataset/Introducing popularity tuning for Similar-Items in Amazon Personalize _ AWS Machine Learning Blog.txt  \n",
            "  inflating: rag_txt_dataset/Introducing the latest Machine Learning Lens for the AWS Well-Architected Framework _ AWS Architecture Blog.txt  \n",
            "  inflating: rag_txt_dataset/Isetan Mitsukoshi System Solutions seamlessly migrates databases to Amazon Aurora using Amazon DMA _ Isetan Mitsukoshi System Solutions Case Study _ AWS.txt  \n",
            "  inflating: rag_txt_dataset/Isha Foundation Delivers on its Mission for Millions by Transforming Content Delivery on AWS _ Case Study _ AWS.txt  \n",
            "  inflating: rag_txt_dataset/Jefferies Manages Packaged Applications at Scale in the Cloud through Amazon RDS Custom for Oracle _ Jefferies Case Study _ AWS.txt  \n",
            "  inflating: rag_txt_dataset/KTO Case Study.txt  \n",
            "  inflating: rag_txt_dataset/Kee Wah Bakery Brings Timeless Baked Goods to Modern Shoppers with Eshop on AWS _ Kee Wah Bakery Case Study _ AWS.txt  \n",
            "  inflating: rag_txt_dataset/Kioxia uses AWS for better HPC performance and cost savings in semiconductor memory development and manufacturing _ Case Study _ AWS.txt  \n",
            "  inflating: rag_txt_dataset/Kirana Megatara Reduces Procurement Costs by 10 Percent for Raw Rubber with Speedy Reporting on AWS _ Case Study _ AWS.txt  \n",
            "  inflating: rag_txt_dataset/LG AI Research Develops Foundation Model Using Amazon SageMaker _ LG AI Research Case Study _ AWS.txt  \n",
            "  inflating: rag_txt_dataset/LTIMindtree Drives Digital Transformation for Global Customers with AWS Training and Certification.txt  \n",
            "  inflating: rag_txt_dataset/LambdaTest Improves Software Test Insights and Cuts Dashboard Response Time by 33 Using Amazon Redshift _ Case Study _ AWS.txt  \n",
            "  inflating: rag_txt_dataset/Largest metastatic cancer dataset now available at no cost to researchers worldwide _ AWS Public Sector Blog.txt  \n",
            "  inflating: rag_txt_dataset/Learn how MediSys in healthcare transformed its IT operations using AWS Professional Services _ MediSys Case Study _ AWS.txt  \n",
            "  inflating: rag_txt_dataset/LegalZoom AWS Local Zones Case Study.txt  \n",
            "  inflating: rag_txt_dataset/Lendingkart _ Amazon Web Services.txt  \n",
            "  inflating: rag_txt_dataset/Lenme builds a secure and reliable lending platform with AWS _ Lenme Case Study _ AWS.txt  \n",
            "  inflating: rag_txt_dataset/LetsGetChecked Case Study _ Amazon Connect _ AWS Lex.txt  \n",
            "  inflating: rag_txt_dataset/Leverage pgvector and Amazon Aurora PostgreSQL for Natural Language Processing Chatbots and Sentiment Analysis _ AWS Database Blog.txt  \n",
            "  inflating: rag_txt_dataset/LifeOmic Case Study _ AWS Lambda _ AWS.txt  \n",
            "  inflating: rag_txt_dataset/Lotte Data Communication Company Vietnam Simplifies API Integrations for Online Retailers on AWS _ Case Study _ AWS.txt  \n",
            "  inflating: rag_txt_dataset/Lucid Motors and Zerolight Case Study.txt  \n",
            "  inflating: rag_txt_dataset/Lyell GxP Compliance _ Case Study _ AWS.txt  \n",
            "  inflating: rag_txt_dataset/MARVEL SNAP_ How Second Dinner and Nuverse Built and Scaled the Mobile Game of the Year Using AWS for Games _ Case Study _ AWS.txt  \n",
            "  inflating: rag_txt_dataset/Maxar Case Study.txt  \n",
            "  inflating: rag_txt_dataset/Measurable-AI-case-study.txt  \n",
            "  inflating: rag_txt_dataset/Mediality Leverages Automation to Deliver Racing Data Faster on AWS _ Case Study _ AWS.txt  \n",
            "  inflating: rag_txt_dataset/Mercks Manufacturing Data and Analytics Platform Triples Performance and Reduces Data Costs by 50 on AWS _ Case Study _ AWS.txt  \n",
            "  inflating: rag_txt_dataset/Midtrans Case Study _ Amazon Web Services.txt  \n",
            "  inflating: rag_txt_dataset/Migrating Large-Scale SAP Workloads Seamlessly to AWS with Sony _ Sony Case Study _ AWS.txt  \n",
            "  inflating: rag_txt_dataset/Mobileye Cuts Costs Using Amazon EC2 _ Case Study _ AWS.txt  \n",
            "  inflating: rag_txt_dataset/Mobileye Improves Deep Learning Training Performance and Reduces Costs Using Amazon EC2 DL1 Instances _ Mobileye Case Study _ AWS.txt  \n",
            "  inflating: rag_txt_dataset/Mobiuspace delivers up to 40 improved price-performance using Amazon EMR on EKS and Graviton instance _ Mobiuspace Case Study _ AWS.txt  \n",
            "  inflating: rag_txt_dataset/Modern Electron Case Study.txt  \n",
            "  inflating: rag_txt_dataset/Moderna Drives Commercial Innovation Using Amazon Connect and AI _ Moderna Case Study _ AWS.txt  \n",
            "  inflating: rag_txt_dataset/Modernizing FINRA Data Collection with Amazon DocumentDB _ FINRA Case Study _ AWS.txt  \n",
            "  inflating: rag_txt_dataset/Modernizing Infrastructure to Improve Reliability Using Amazon EC2 with Loacker _ Case Study _ AWS.txt  \n",
            "  inflating: rag_txt_dataset/Money Forward Increases Development Velocity 3x Working with AWS Training and Certification _ Case Study _ AWS.txt  \n",
            "  inflating: rag_txt_dataset/N KID Group Case Study  Amazon Web Services (AWS).txt  \n",
            "  inflating: rag_txt_dataset/NBCUniversal Case Study _ Advertising _ AWS.txt  \n",
            "  inflating: rag_txt_dataset/NTT DOCOMO builds a new data analysis platform for 9000 workers with AWS attracting 13 times more users and invigorating data use _ NTT Docomo Case Study _ AWS.txt  \n",
            "  inflating: rag_txt_dataset/Naranja X Modernizes Financial Services More Efficiently with SaaS Solutions in AWS Marketplace _ Naranja X Case Study _ AWS.txt  \n",
            "  inflating: rag_txt_dataset/NeuroPro Case Study.txt  \n",
            "  inflating: rag_txt_dataset/NodeReal case study.txt  \n",
            "  inflating: rag_txt_dataset/Novo Nordisk Uses ML for Computer Vision to Optimize Pharmaceutical Manufacturing on AWS _ Novo Nordisk Case Study _ AWS.txt  \n",
            "  inflating: rag_txt_dataset/Numerix Scales HPC Workloads for Price and Risk Modeling Using AWS Batch _ Numerix Case Study _ AWS.txt  \n",
            "  inflating: rag_txt_dataset/Oportun Increases the Accuracy of Sensitive-Data Discovery by 95 Using Amazon Macie _ Oportun Case Study _ AWS.txt  \n",
            "  inflating: rag_txt_dataset/Optimize software development with Amazon CodeWhisperer _ AWS DevOps Blog.txt  \n",
            "  inflating: rag_txt_dataset/Optimizing Fast Access to Big Data Using Amazon EMR at Thomson Reuters _ Case Study _ AWS.txt  \n",
            "  inflating: rag_txt_dataset/Optimizing Storage Cost and Performance Using Amazon EBS _ Devo Case Study _ AWS.txt  \n",
            "  inflating: rag_txt_dataset/Optoma-customer-references-case-study.txt  \n",
            "  inflating: rag_txt_dataset/Paige Case Study _ AWS.txt  \n",
            "  inflating: rag_txt_dataset/PayEye Launches POC for Biometric Payments in 5 Months Using AWS _ Amazon EKS.txt  \n",
            "  inflating: rag_txt_dataset/Postis Case Study.txt  \n",
            "  inflating: rag_txt_dataset/Power recommendation and search using an IMDb knowledge graph  Part 1 _ AWS Machine Learning Blog.txt  \n",
            "  inflating: rag_txt_dataset/Power recommendations and search using an IMDb knowledge graph  Part 3 _ AWS Machine Learning Blog.txt  \n",
            "  inflating: rag_txt_dataset/Prima Group Case Study.txt  \n",
            "  inflating: rag_txt_dataset/Processing Data 10x Faster Using Amazon Redshift Serverless with BlocPower _ BlocPower Case Study _ AWS.txt  \n",
            "  inflating: rag_txt_dataset/Purple Technology Case Study _ AWS Step Functions.txt  \n",
            "  inflating: rag_txt_dataset/Queensland University of Technology Advances Global Research on Rare Diseases Using the AWS Cloud.txt  \n",
            "  inflating: rag_txt_dataset/Query Response Time Improved Using Amazon Redshift Serverless _ Playrix Case Study _ AWS.txt  \n",
            "  inflating: rag_txt_dataset/Rackspace Automates Infrastructure Management across Cloud Providers Using AWS Systems Manager _ Rackspace Case Study _ AWS.txt  \n",
            "  inflating: rag_txt_dataset/Razer Deepened Gamer Engagement using Amazon Personalize _ Video Testimonial _ AWS.txt  \n",
            "  inflating: rag_txt_dataset/Reaching Remote Learners Globally Using Amazon CloudFront _ Doping Hafiza Case Study _ AWS.txt  \n",
            "  inflating: rag_txt_dataset/Read Innovates Video Call Transcription Using Amazon EC2 G5 Instances Powered by NVIDIA _ Read Case Study _ AWS.txt  \n",
            "  inflating: rag_txt_dataset/Realizing the Full Value of EHR in a Digital Health Environment on AWS with Tufts Medicine _ Tufts Medicine Case Study _ AWS.txt  \n",
            "  inflating: rag_txt_dataset/Recommend and dynamically filter items based on user context in Amazon Personalize _ AWS Machine Learning Blog.txt  \n",
            "  inflating: rag_txt_dataset/Red Canary Architects for Fault Tolerance and Saves up to 80 Using Amazon EC2 Spot Instances _ Red Canary Case Study _ AWS.txt  \n",
            "  inflating: rag_txt_dataset/Reducing Adverse-Event Reporting Time for Its Clients by 80 _ Indegene Case Study _ AWS.txt  \n",
            "  inflating: rag_txt_dataset/Reducing Costs of Cryo-EM Data Storage and Processing by 50 Using AWS _ Vertex Pharmaceuticals Case Study.txt  \n",
            "  inflating: rag_txt_dataset/Reducing Failover Time from 30 Minutes to 3 Minutes Using Amazon CloudWatch _ Thomson ReutersCase Study _ AWS.txt  \n",
            "  inflating: rag_txt_dataset/Reducing Infrastructure Costs by 66 by Migrating to AWS with SilverBlaze _ SilverBlaze Case Study _ AWS.txt  \n",
            "  inflating: rag_txt_dataset/Reducing Log Data Storage Cost Using Amazon OpenSearch Service with CMS _ Case Study _ AWS.txt  \n",
            "  inflating: rag_txt_dataset/Reducing Time to Results Carbon Footprint and Cost Using AWS HPC _ Baker Hughes Case Study _ AWS.txt  \n",
            "  inflating: rag_txt_dataset/Reinventing the data experience_ Use generative AI and modern data architecture to unlock insights _ AWS Machine Learning Blog.txt  \n",
            "  inflating: rag_txt_dataset/Relay Therapeutics Case Study.txt  \n",
            "  inflating: rag_txt_dataset/ResMed Case Study _ AWS AppSync _ AWS.txt  \n",
            "  inflating: rag_txt_dataset/Resilience Builds a Global Data Mesh for Lab Connectivity on AWS _ Case Study _ AWS.txt  \n",
            "  inflating: rag_txt_dataset/Respond.io Scales Its Messaging Platform and Connects 10000 Companies with Customers on AWS _ Respond.io Case Study _ AWS.txt  \n",
            "  inflating: rag_txt_dataset/Retain original PDF formatting to view translated documents with Amazon Textract Amazon Translate and PDFBox _ AWS Machine Learning Blog.txt  \n",
            "  inflating: rag_txt_dataset/Return Entertainment Case Study.txt  \n",
            "  inflating: rag_txt_dataset/Revive lost revenue from bad ecommerce search using Natural Language Processing _ AWS for Industries.txt  \n",
            "  inflating: rag_txt_dataset/Revolutionizing Manufacturing with Sphere and Amazon Lookout for Visions XR and AI Integration _ AWS Partner Network (APN) Blog.txt  \n",
            "  inflating: rag_txt_dataset/Rivian Case Study _ Automotive _ AWS.txt  \n",
            "  inflating: rag_txt_dataset/Rumah Siap Kerja (RSK) Case Study - Amazon Web Services (AWS).txt  \n",
            "  inflating: rag_txt_dataset/Run Jobs at Scale While Optimizing for Cost Using Amazon EC2 Spot Instances with ActionIQ _ ActionIQ Case Study _ AWS.txt  \n",
            "  inflating: rag_txt_dataset/Rush University System for Health Creates a Population Health Analytics Platform on AWS _ Rush Case Study _ AWS.txt  \n",
            "  inflating: rag_txt_dataset/SKODA Uses AWS to Predict and Prevent Production Line Breakdowns.txt  \n",
            "  inflating: rag_txt_dataset/SUPINFO Creates 5-Year Master of Engineering Degree Implementing AWS Education Programs _ Case Study _ AWS.txt  \n",
            "  inflating: rag_txt_dataset/SURF Drives Ground-Breaking Research Accelerates Time to Insight Using AWS.txt  \n",
            "  inflating: rag_txt_dataset/Safe image generation and diffusion models with Amazon AI content moderation services _ AWS Machine Learning Blog.txt  \n",
            "  inflating: rag_txt_dataset/Samsung Electronics Improves Demand Forecasting Using Amazon SageMaker Canvas _ Samsung Electronics Case Study _ AWS.txt  \n",
            "  inflating: rag_txt_dataset/Samsung Electronics Uses Amazon Chime SDK to Deliver a More Engaging Television Experience for Millions of Viewers _ Samsung Case Study _ AWS.txt  \n",
            "  inflating: rag_txt_dataset/Saving 80 on Costs While Improving Reliability and Performance Using Amazon Aurora with Panasonic Avionics _ Panasonic Avionics Case Study _ AWS.txt  \n",
            "  inflating: rag_txt_dataset/Saving time with personalized videos using AWS machine learning _ AWS Machine Learning Blog.txt  \n",
            "  inflating: rag_txt_dataset/Scaling Authentic Educational Games Using Amazon GameLift with Immersed Games _ Case Study _ AWS.txt  \n",
            "  inflating: rag_txt_dataset/Scaling Data Pipeline from One to Five Satellites Seamlessly on AWS _ Axelspace Case Study _ AWS.txt  \n",
            "  inflating: rag_txt_dataset/Scaling Sustainability Solutions for Buildings Using AWS with BrainBox AI _ Case Study _ AWS.txt  \n",
            "  inflating: rag_txt_dataset/Scaling Text to Image to 100 Million Users Quickly Using Amazon SageMaker _ Canva Case Study _ AWS.txt  \n",
            "  inflating: rag_txt_dataset/Scaling Up to 30 While Reducing Costs by 20 Using AWS Graviton3 Processors with Instructure _ Case Study _ AWS.txt  \n",
            "  inflating: rag_txt_dataset/Scaling to Ingest 250 TB from 1 TB Daily Using Amazon Kinesis Data Streams with LaunchDarkly _ LaunchDarkly Case Study _ AWS.txt  \n",
            "  inflating: rag_txt_dataset/Securing Workforce Access at Scale Using AWS IAM Identity Center with Xylem _ Xylem Case Study _ AWS.txt  \n",
            "  inflating: rag_txt_dataset/SecurionPay _ Amazon Redshift _ Amazon Quicksight _ Amazon Kinesis _ AWS.txt  \n",
            "  inflating: rag_txt_dataset/Security Posture Strengthened Using AWS Shield Advanced with OutSystems _ Case Study _ AWS.txt  \n",
            "  inflating: rag_txt_dataset/Selecting the right foundation model for your startup _ AWS Startups Blog.txt  \n",
            "  inflating: rag_txt_dataset/Shgardi Case Study.txt  \n",
            "  inflating: rag_txt_dataset/Showpad Accelerates Data Maturity to Unlock Innovation Using Amazon QuickSight _ Case Study _ AWS.txt  \n",
            "  inflating: rag_txt_dataset/Sixth Force Solutions _ Amazon Web Services.txt  \n",
            "  inflating: rag_txt_dataset/SmartSearch-case-study.txt  \n",
            "  inflating: rag_txt_dataset/Snap optimizes cost savings with Amazon S3 Glacier Instant Retrieval _ Snap Case Study _ AWS.txt  \n",
            "  inflating: rag_txt_dataset/Software Colombia and AWS Team Up to Create Powerful Identity Verification Solution _ Software Colombia Case Study _ AWS.txt  \n",
            "  inflating: rag_txt_dataset/Spacelift Case Study.txt  \n",
            "  inflating: rag_txt_dataset/Sprout Social Reduces Costs and Improves Performance Using Amazon EMR _ Case Study _ AWS.txt  \n",
            "  inflating: rag_txt_dataset/Spryker Case Study _ Amazon Elastic Compute Cloud _ AWS.txt  \n",
            "  inflating: rag_txt_dataset/Staffordshire University Uses AWS Academy to Help Students Meet Business Demand for Cloud Skills _ Case Study _ AWS.txt  \n",
            "  inflating: rag_txt_dataset/Stanford Multimodal Data Case Study _ Life Sciences _ AWS.txt  \n",
            "  inflating: rag_txt_dataset/Sterling Auxiliaries Case Study _ Amazon Web Services.txt  \n",
            "  inflating: rag_txt_dataset/Storengy Case Study.txt  \n",
            "  inflating: rag_txt_dataset/Streamline Workflows Using the AWS Support App in Slack with Okta _ Okta Case Study _ AWS.txt  \n",
            "  inflating: rag_txt_dataset/Streamline and Standardize the Complete ML Lifecycle Using Amazon SageMaker with Thomson Reuters _ Thomson Reuters Case Study _ AWS.txt  \n",
            "  inflating: rag_txt_dataset/Syngenta Case Study _ Amazon Web Services.txt  \n",
            "  inflating: rag_txt_dataset/TC Energy Builds an Operations Data Platform for 60000 Miles of Pipeline Using AWS Data Analytics _ TC Energy Case Study _ AWS.txt  \n",
            "  inflating: rag_txt_dataset/TCSG Works with AWS Academy to Offer Digital Cloud Computing Credential to 22 Colleges _ Case Study _ AWS.txt  \n",
            "  inflating: rag_txt_dataset/TEG on using Machine Learning and Amazon Personalize to boost user engagement and ticket sales _ Ticketek Video _ AWS.txt  \n",
            "  inflating: rag_txt_dataset/THREAD _ Life Sciences _ AWS.txt  \n",
            "  inflating: rag_txt_dataset/Taggle Systems Case Study _ Amazon Web Services.txt  \n",
            "  inflating: rag_txt_dataset/Takeda Accelerates Digital Transformation by Migrating to AWS _ Takeda Case Study _ AWS.txt  \n",
            "  inflating: rag_txt_dataset/Tally Solutions _ Amazon Web Services.txt  \n",
            "  inflating: rag_txt_dataset/Tangent Works Case Study.txt  \n",
            "  inflating: rag_txt_dataset/Technology that delivers_ iFood and Appoena gain agility with AWS Marketplace _ iFood Case Study _ AWS.txt  \n",
            "  inflating: rag_txt_dataset/Tempus Ex Case Study _ Amazon ECS _ AWS.txt  \n",
            "  inflating: rag_txt_dataset/Teva Case Study _ Biopharma _ AWS.txt  \n",
            "  inflating: rag_txt_dataset/The Mill Adventure Case Study.txt  \n",
            "  inflating: rag_txt_dataset/The Next Frontier_ Generative AI for Financial Services _ AWS for Industries.txt  \n",
            "  inflating: rag_txt_dataset/The Retail Race_ A Roadmap for Implementing a Smart Store Strategy _ AWS for Industries.txt  \n",
            "  inflating: rag_txt_dataset/The positive impact Generative AI could have for Retail _ AWS for Industries.txt  \n",
            "  inflating: rag_txt_dataset/Thomson Reuters Uses Amazon DMA to Accelerate Database Modernization _ Thomson Reuters Case Study _ AWS.txt  \n",
            "  inflating: rag_txt_dataset/Tokenize Builds A Scalable Cost-Effective Digital Exchange Platform On AWS _ Case Study _ AWS.txt  \n",
            "  inflating: rag_txt_dataset/Toppan Case Study.txt  \n",
            "  inflating: rag_txt_dataset/Toyota Motor North America Case Study _ AWS.txt  \n",
            "  inflating: rag_txt_dataset/Track customer traffic in aisles and cash counters using Computer Vision _ AWS for Industries.txt  \n",
            "  inflating: rag_txt_dataset/Train a Large Language Model on a single Amazon SageMaker GPU with Hugging Face and LoRA _ AWS Machine Learning Blog.txt  \n",
            "  inflating: rag_txt_dataset/Transform analyze and discover insights from unstructured healthcare data using Amazon HealthLake _ AWS Machine Learning Blog.txt  \n",
            "  inflating: rag_txt_dataset/Transforming fleet telematics into predictive analytics with Capgeminis Trusted Vehicle and AWS IoT FleetWise _ The Internet of Things on AWS  Official Blog.txt  \n",
            "  inflating: rag_txt_dataset/Translate redact and analyze text using SQL functions with Amazon Athena Amazon Translate and Amazon Comprehend _ AWS Machine Learning Blog.txt  \n",
            "  inflating: rag_txt_dataset/Tyler Technologies Recovers Mission-Critical Workloads 12x Faster Using AWS Elastic Disaster Recovery _ Tyler Technologies Case Study _ AWS.txt  \n",
            "  inflating: rag_txt_dataset/Ultra Commerce Case Study.txt  \n",
            "  inflating: rag_txt_dataset/Ultrasound Business Area Improves Customer Experience Using AWS Systems Manager _ Siemens Healthineers Case Study _ AWS.txt  \n",
            "  inflating: rag_txt_dataset/Upskilling Over 2K Employees with AWS Training and Certification and Creating a Culture of Innovation _ Techcombank Case Study _ AWS.txt  \n",
            "  inflating: rag_txt_dataset/Upstox Saves 1 Million Annually Using Amazon S3 Storage Lens _ Upstox Case Study _ AWS.txt  \n",
            "  inflating: rag_txt_dataset/Use proprietary foundation models from Amazon SageMaker JumpStart in Amazon SageMaker Studio _ AWS Machine Learning Blog.txt  \n",
            "  inflating: rag_txt_dataset/Using Amazon EC2 Spot Instances and Karpenter to Simplify and Optimize Kubernetes Infrastructure _ Neeva Case Study _ AWS.txt  \n",
            "  inflating: rag_txt_dataset/Using Amazon SageMaker to Personalize Sleep Therapy for Millions of Patients _ ResMed Case Study _ AWS.txt  \n",
            "  inflating: rag_txt_dataset/Using Amazon SageMaker to accelerate and deploy predictive editorial analytics solutions _ Smartocto Case Study _ AWS.txt  \n",
            "  inflating: rag_txt_dataset/Using Amazon SageMaker to improve response time of its demand forecast service by 200 percent _ Visualfabriq Case Study _ AWS.txt  \n",
            "  inflating: rag_txt_dataset/Using Computer Vision to Enable Digital Building Twins with NavVis and AWS _ AWS Partner Network (APN) Blog.txt  \n",
            "  inflating: rag_txt_dataset/Valant Uses AWS Communication Developer Services to Help Behavioral Health Practices Drive Better Patient Engagement _ Valant Case Study _ AWS.txt  \n",
            "  inflating: rag_txt_dataset/Veolia Australia and New Zealand Case Study - Amazon Web Services (AWS).txt  \n",
            "  inflating: rag_txt_dataset/Vocareum Offers Amazon Lightsail to Help over 50000 Cloud Learners Build Cloud Skills _ Vocareum Case Study _ AWS.txt  \n",
            "  inflating: rag_txt_dataset/Volkswagen Passenger Cars Case Study.txt  \n",
            "  inflating: rag_txt_dataset/Voucherify Case Study.txt  \n",
            "  inflating: rag_txt_dataset/WaFd Bank Transforms Contact Centers Using Conversational AI on AWS _ Case Study _ AWS.txt  \n",
            "  inflating: rag_txt_dataset/Wave Commerce case study.txt  \n",
            "  inflating: rag_txt_dataset/WebBeds uses Amazon EC2 Spot Instances to save its business amid a reduction in travel worldwide and reduce costs up to 64 percent. _ WebBeds Case Study _ AWS.txt  \n",
            "  inflating: rag_txt_dataset/What Will Generative AI Mean for Your Business_ _ AWS Cloud Enterprise Strategy Blog.txt  \n",
            "  inflating: rag_txt_dataset/Which Recurring Business Processes Can Small and Medium Businesses Automate_ _ AWS Smart Business Blog.txt  \n",
            "  inflating: rag_txt_dataset/Windsor.txt  \n",
            "  inflating: rag_txt_dataset/Wireless Car Case Study _ AWS IoT Core _ AWS.txt  \n",
            "  inflating: rag_txt_dataset/Yamato Logistics (HK) case study.txt  \n",
            "  inflating: rag_txt_dataset/Zomato Saves Big by Using AWS Graviton2 to Power Data-Driven Business Insights.txt  \n",
            "  inflating: rag_txt_dataset/Zoox Case Study _ Automotive _ AWS.txt  \n",
            "  inflating: rag_txt_dataset/e-banner Streamlines Its Contact Center Operations and Facilitates a Fully Remote Workforce with Amazon Connect _ e-banner Case Study _ AWS.txt  \n",
            "  inflating: rag_txt_dataset/iptiQ Case Study.txt  \n",
            "  inflating: rag_txt_dataset/mod.io Provides Low Latency Gamer Experience Globally on AWS _ Case Study _ AWS.txt  \n",
            "  inflating: rag_txt_dataset/myposter Case Study.txt  \n"
          ]
        }
      ],
      "source": [
        "!unzip rag_txt_dataset/archive.zip -d rag_txt_dataset"
      ]
    },
    {
      "cell_type": "markdown",
      "metadata": {},
      "source": [
        "Apagamos o `.zip`"
      ]
    },
    {
      "cell_type": "code",
      "execution_count": 3,
      "metadata": {},
      "outputs": [],
      "source": [
        "!rm rag_txt_dataset/archive.zip"
      ]
    },
    {
      "cell_type": "markdown",
      "metadata": {},
      "source": [
        "Vemos o que nos sobrou"
      ]
    },
    {
      "cell_type": "code",
      "execution_count": 4,
      "metadata": {},
      "outputs": [
        {
          "name": "stdout",
          "output_type": "stream",
          "text": [
            "'23andMe Case Study _ Life Sciences _ AWS.txt'\n",
            "'36 new or updated datasets on the Registry of Open Data_ AI analysis-ready datasets and more _ AWS Public Sector Blog.txt'\n",
            "'54gene _ Case Study _ AWS.txt'\n",
            "'6sense Case Study.txt'\n",
            "'Accelerate Time to Business Value Using Amazon SageMaker at Scale with NatWest Group _ Case Study _ AWS.txt'\n",
            "'Accelerate Your Analytics Journey on AWS with DXC Analytics and AI Platform _ AWS Partner Network (APN) Blog.txt'\n",
            "'Accelerating customer onboarding using Amazon Connect _ NCS Case Study _ AWS.txt'\n",
            "'Accelerating Migration at Scale Using AWS Application Migration Service with 3M Company _ Case Study _ AWS.txt'\n",
            "'Accelerating Time to Market Using AWS and AWS Partner AccelByte _ Omeda Studios Case Study _ AWS.txt'\n",
            "'Achieving Burstable Scalability and Consistent Uptime Using AWS Lambda with TiVo _ Case Study _ AWS.txt'\n",
            "'Acrobits Uses Amazon Chime SDK to Easily Create Video Conferencing Application Boosting Collaboration for Global Users _ Acrobits Case Study _ AWS.txt'\n",
            "'Actuate AI Case study.txt'\n",
            "'ADP Developed an Innovative and Secure Digital Wallet in a Few Months Using AWS Services _ Case Study _ AWS.txt'\n",
            "'Adzuna doubles its email open rates using Amazon SES _ Adzuna Case Study _ AWS.txt'\n",
            "'AEON Case Study.txt'\n",
            "'ALTBalaji _ Amazon Web Services.txt'\n",
            "'Amanotes Stays on Beat by Delivering Simple Music Games to Millions Worldwide on AWS.txt'\n",
            "'Amazon OpenSearch Services vector database capabilities explained _ AWS Big Data Blog.txt'\n",
            "'Anghami Case Study.txt'\n",
            "'Announcing enhanced table extractions with Amazon Textract _ AWS Machine Learning Blog.txt'\n",
            "'AppsFlyer Amazon EKS Case Study _ Advertising _ AWS.txt'\n",
            "'Arm Case Study.txt'\n",
            "'Arm Limited Case Study.txt'\n",
            "'Armitage Technologies case study.txt'\n",
            "'Armut Case Study.txt'\n",
            "'Auto-labeling module for deep learning-based Advanced Driver Assistance Systems on AWS _ AWS Machine Learning Blog.txt'\n",
            "'AWS announces 21 startups selected for the AWS generative AI accelerator _ AWS Startups Blog.txt'\n",
            "'AWS Case Study - Ineos Team UK.txt'\n",
            "'AWS Case Study - StreamAMG.txt'\n",
            "'AWS Case Study_ Creditsafe.txt'\n",
            "'AWS Case Study_ Immowelt.txt'\n",
            "'AWS Customer Case Study _ Kepler Provides Effective Monitoring of Elderly Care Home Residents Using AWS _ AWS.txt'\n",
            "'AWS releases smart meter data analytics _ AWS for Industries.txt'\n",
            "'Bank of Montreal Case Study _ AWS.txt'\n",
            "'Bazaarvoice Case Study _ AWS.txt'\n",
            "'Better Mortgage using Amazon Elastic Kubernetes _ Better Mortgage Video _ AWS.txt'\n",
            "'BIPO Improves Customer Experience on its HR Management System Using Machine Learning on AWS _ Case Study _ AWS.txt'\n",
            "'BNS Group Case Study _ Amazon Web Services.txt'\n",
            "'Boehringer Ingelheim Establishes Data-Driven Foundations Using AWS to Accelerate the Launch of New Medicines _ Boehringer Ingelheim Case Study _ AWS.txt'\n",
            "'Bosch Thermotechnology Accelerates IoT Deployment Using AWS Serverless Computing and AWS IoT Core _ Case Study _ AWS.txt'\n",
            "'Botprise Reduces Time to Remediation by 86 on Average Using Automation and AWS Security Hub _ Botprise Case Study _ AWS.txt'\n",
            "'Build a powerful question answering bot with Amazon SageMaker Amazon OpenSearch Service Streamlit and LangChain _ AWS Machine Learning Blog.txt'\n",
            "'Build a semantic search engine for tabular columns with Transformers and Amazon OpenSearch Service _ AWS Big Data Blog.txt'\n",
            "'Build custom chatbot applications using OpenChatkit models on Amazon SageMaker _ AWS Machine Learning Blog.txt'\n",
            " Buildigo.txt\n",
            "'Building a medical image search platform on AWS _ AWS Machine Learning Blog.txt'\n",
            "'Building a Scalable Interactive Learning Application for Kids Using AWS Services with Yellow Class _ Case Study _ AWS.txt'\n",
            "'Building a Scalable Machine Learning Model Monitoring System with DataRobot _ AWS Partner Network (APN) Blog.txt'\n",
            "'Building generative AI applications for your startup part 1 _ AWS Startups Blog.txt'\n",
            "'Calgary Airport Authority Enhances Passenger Services and Cybersecurity on the AWS Cloud _ Case Study _ AWS.txt'\n",
            " CalvertHealth-case-study.txt\n",
            "'Capital One Saves Developer Time and Reduces Costs Going Serverless Using AWS Lambda and Amazon ECS _ Case Study _ AWS.txt'\n",
            "'Capture public health insights more quickly with no-code machine learning using Amazon SageMaker Canvas _ AWS Machine Learning Blog.txt'\n",
            "'CaratLane Case Study - Amazon Web Services (AWS).txt'\n",
            "'CarTrade Tech Drives a Seamless Car Buying and Selling Experience with Improved Website Performance and Analytics _ Case Study _ AWS.txt'\n",
            "'Central East Ontario Hospital Partnership Launches a Clinical Information System in the AWS Cloud _ Case Study _ AWS.txt'\n",
            "'Circle of Life _ Amazon Web Services.txt'\n",
            "'Claro Embratel Credits AWS Training and Certification as Key Driver in Fourfold Growth of Sales Opportunities _ Claro Embratel Case Study _ AWS.txt'\n",
            "'Climedo Case Study.txt'\n",
            "'CloudCall Invests in AWS Skill Builder Pivots to a SaaS Model _ CloudCall Case Study _ AWS.txt'\n",
            "'CloudWave Modernizes EHR Disaster Recovery and Provides Fast Secure Access to Archived Imaging Data on AWS _ Case Study _ AWS.txt'\n",
            "'CMD Solutions Case Study _ AWS.txt'\n",
            "'Cognitran Deploys Customized CDN Solution in under 12 Weeks Using Amazon CloudFront.txt'\n",
            "'Comscore Maintains Privacy While Cross-Analyzing Data using AWS Clean Rooms _ Case Study _ AWS.txt'\n",
            "'Concert.ua Manages 1000 Traffic Spikes Using AWS Serverless _ AWS EC2.txt'\n",
            "'Cost Savings of 20 and 8 Hours of Data Processing Saved across 500 Spark Jobs Using AWS Graviton2 Processors _ Wealthfront Case Study _ AWS.txt'\n",
            "'Coventry University Group Empowers Next Generation of IT Professionals Using AWS Educate and AWS Academy _ Case Study _ AWS.txt'\n",
            "'Create high-quality images with Stable Diffusion models and deploy them cost-efficiently with Amazon SageMaker _ AWS Machine Learning Blog.txt'\n",
            "'Creating Air Taxi Simulations Using Amazon EC2 with Wisk Aero _ Wisk Aero Case Study _ AWS.txt'\n",
            "'Creating an App for 12000 Game Show Viewers Using Amazon CloudFront with TUI _ TUI Case Study _ AWS.txt'\n",
            "'Creating an Optimized Solution for Smart Buildings Using Amazon EC2 G5g Instances with Mircoms OpenGN _ Case Study _ AWS.txt'\n",
            "'Dallara Uses HPC on AWS to Off-Load Peak CFD Workloads for Race Car Simulations _ Case Study _ AWS.txt'\n",
            "'Dataminr Achieves up to Nine Times Better Throughput per Dollar Using AWS Inferentia _ Dataminr Case Study _ AWS.txt'\n",
            "'DB Energie Case Study.txt'\n",
            "'DBS Bank Uses Amazon ElastiCache for Redis to Run Its Pricing Models at Real-Time Speed _ DBS Bank Case Study _ AWS.txt'\n",
            "'DCI Saves 27 on Cloud Costs Gains Support for Long-Term Growth Using AWS _ Amazon EC2.txt'\n",
            "'Deep Pool Optimizes Software Quality Control Using Amazon QuickSight _ Deep Pool Case Study _ AWS.txt'\n",
            "'Delivering a Seamless Gaming Experience to 25 Million Players Using AWS with Travian Games _ Travian Games Case Study _ AWS.txt'\n",
            "'Delivering Engaging Games at Scale Using AWS with Whatwapp _ Case Study _ AWS.txt'\n",
            "'Delivering Innovative Visual Search Capabilities Using AWS with Syte _ Syte Case Study _ AWS.txt'\n",
            "'Delivering Travel Deals across 110 Markets Using Amazon CloudFront with Skyscanner _ Case Study _ AWS.txt'\n",
            "'Democratize Access to HPC for Computer-Aided Materials Design Using Amazon EC2 Spot Instances with Good Chemistry _ Good Chemistry Case Study _ AWS.txt'\n",
            "'Democratize computer vision defect detection for manufacturing quality using no-code machine learning with Amazon SageMaker Canvas _ AWS Machine Learning Blog.txt'\n",
            "'Deploy a serverless ML inference endpoint of large language models using FastAPI AWS Lambda and AWS CDK _ AWS Machine Learning Blog.txt'\n",
            "'Deploy Falcon-40B with large model inference DLCs on Amazon SageMaker _ AWS Machine Learning Blog.txt'\n",
            "'Deploying and benchmarking YOLOv8 on GPU-based edge devices using AWS IoT Greengrass _ The Internet of Things on AWS  Official Blog.txt'\n",
            "'Deputy Case Study _ Amazon Web Services.txt'\n",
            "'Design considerations for cost-effective video surveillance platforms with AWS IoT for Smart Homes _ The Internet of Things on AWS  Official Blog.txt'\n",
            "'Designing a hybrid AI_ML data access strategy with Amazon SageMaker _ AWS Architecture Blog.txt'\n",
            "'Developing a Pioneering Multicancer Early Detection Test _ GRAIL Case Study _ AWS.txt'\n",
            "'Dexatek Optimizes Its IoT Platform and Boosts Spend on Innovation by 30 with AWS _ Dexatek Case Study _ AWS.txt'\n",
            "'Directing ML-powered Operational Insights from Amazon DevOps Guru to your Datadog event stream _ AWS DevOps Blog.txt'\n",
            "'DTN Case Study _ HPC _ AWS.txt'\n",
            "'e-banner Streamlines Its Contact Center Operations and Facilitates a Fully Remote Workforce with Amazon Connect _ e-banner Case Study _ AWS.txt'\n",
            "'Effectively solve distributed training convergence issues with Amazon SageMaker Hyperband Automatic Model Tuning _ AWS Machine Learning Blog.txt'\n",
            "'Effortlessly Summarize Phone Conversations with Amazon Chime SDK Call Analytics_ Step-by-Step Guide _ Business Productivity.txt'\n",
            "'Empowering Customers to Take an Active Role in the Energy Transition Using AWS Serverless Services with Iberdrola _ Case Study _ AWS.txt'\n",
            "'ENGIE Rapidly Migrates Assets and Accounts Easing Divestiture Using AWS _ Engie Case Study _ AWS.txt'\n",
            "'Enhancing customer experience using Amazon CloudFront with Zalando _ Case Study _ AWS.txt'\n",
            "'EPAM Systems.txt'\n",
            "'Esade Business School Increases Graduates Employability Using AWS Education Programs _ Case Study _ AWS.txt'\n",
            "'Establishing the Nations Largest Mileage-Based User Fee Program Using Amazon Connect with the Virginia DMV _ Case Study _ AWS.txt'\n",
            "'Evolving ADPs Single Global Experience in MyADP and ADP Mobile Using AWS Lambda _ Case Study _ AWS.txt'\n",
            "'Expanding Opportunities Using Amazon WorkSpaces with The Chicago Lighthouse _ Case Study _ AWS.txt'\n",
            "'Exploring Generative AI in conversational experiences_ An Introduction with Amazon Lex Langchain and SageMaker Jumpstart _ AWS Machine Learning Blog.txt'\n",
            "'Facilitating the Most Live Streamed Super Bowl and Olympics Using AWS Services _ NBCUniversal Case Study _ AWS.txt'\n",
            "'FanCode Case Study - Amazon Web Services (AWS).txt'\n",
            "'FanDuel Migrates to AWS in Less than 3 Weeks Improves the Customer Experience _ AWS.txt'\n",
            "'Fantom Case Study - Amazon Web Services (AWS).txt'\n",
            "'Fatshark Delivers Warhammer 40K_ Darktide Fully on AWS for Millions of Players _ Case Study _ AWS.txt'\n",
            "'Finch Computing Reduces Inference Costs by 80 Using AWS Inferentia for Language Translation _ Case Study _ AWS.txt'\n",
            "'Fine-tune GPT-J using an Amazon SageMaker Hugging Face estimator and the model parallel library _ AWS Machine Learning Blog.txt'\n",
            "'Firework Games case study.txt'\n",
            "'FLSmidth Case Study.txt'\n",
            "'FLYING WHALES Case Study.txt'\n",
            "'Fujita Health University Case Study _ Amazon Web Services.txt'\n",
            "'Game Studio Small Impact Games Runs Successful Alpha and Beta Tests Using Amazon GameLift _ Case Study _ AWS.txt'\n",
            " Games24x7.txt\n",
            "'Ganit Transforms Fast Fashion Apparel Retail with Intelligent Demand Forecasting on AWS _ AWS Partner Network (APN) Blog.txt'\n",
            "'Generating 100000 Images Daily Using Amazon ECS _ Scenario Case Study _ AWS.txt'\n",
            "'Generative AI for Telcos_ taking customer experience and productivity to the next level _ AWS for Industries.txt'\n",
            "'Generative AI with Large Language Models  New Hands-on Course by DeepLearning.AI and AWS _ AWS News Blog.txt'\n",
            "'Genpact Delivers Innovative Services to Customers Faster by Running Critical Applications on AWS _ Case Study _ AWS.txt'\n",
            "'Geo.me Reduces Customers Annual Geospatial Costs by up to 90 Using Amazon Location Service _ Geo.me Case Study _ AWS.txt'\n",
            "'Gileads Journey from Migration to Innovation on AWS _ Case Study _ AWS.txt'\n",
            "'Global Unichip Corporation Case Study.txt'\n",
            "'Glossika case study.txt'\n",
            "'GoDaddy Case Study _ AWS.txt'\n",
            "'Greenway Health Scales to Hundreds of Terabytes of Data Using Amazon DocumentDB (with MongoDB compatibility) _ Greenway Health Case Study _ AWS.txt'\n",
            "'GSR Scales Fast on AWS to Become One of the Largest Crypto Market Makers _ Amazon S3.txt'\n",
            "'Helen of Troy Case Study _ Consumer Packaged Goods _ AWS.txt'\n",
            "'Help Customers Reduce Data Query Time by 70 and Improve Business Insights Capabilities with Amazon OpenSearch Service _ Deputy Case Study _ AWS.txt'\n",
            "'Helping Customers Modernize Their Cloud Infrastructure Using the AWS Well-Architected Framework with Comprinno _ Comprinno Technologies Case Study _ AWS.txt'\n",
            "'Helping Doctors Treat Pediatric Cancer Using AWS Serverless Services _ Nationwide Childrens Hospital Case Study _ AWS.txt'\n",
            "'Helping Fintech Startup Snoop Deploy Quickly and Scale Using Amazon ECS with AWS Fargate _ Case Study _ AWS.txt'\n",
            "'Helping Patients Access Personalized Healthcare from Anywhere Using Amazon Chime SDK with Salesforce _ Salesforce Case Study _ AWS.txt'\n",
            "'Highlight text as its being spoken using Amazon Polly _ AWS Machine Learning Blog.txt'\n",
            "'High-quality human feedback for your generative AI applications from Amazon SageMaker Ground Truth Plus _ AWS Machine Learning Blog.txt'\n",
            "'Host ML models on Amazon SageMaker using Triton_ ONNX Models _ AWS Machine Learning Blog.txt'\n",
            "'How AWS is helping thredUP revolutionize the resale model for brands _ AWS for Industries.txt'\n",
            "'How BrainPad fosters internal knowledge sharing with Amazon Kendra _ AWS Machine Learning Blog.txt'\n",
            "'How Earth.com and Provectus implemented their MLOps Infrastructure with Amazon SageMaker _ AWS Machine Learning Blog.txt'\n",
            "'How Forethought saves over 66 in costs for generative AI models using Amazon SageMaker _ AWS Machine Learning Blog.txt'\n",
            "'How Generative AI will transform manufacturing _ AWS for Industries.txt'\n",
            "'How Imperva uses Amazon Athena for machine learning botnets detection _ AWS Big Data Blog.txt'\n",
            "'How KYTC Transformed the States Customer Experience for 4.1 Million Drivers Using Amazon Connect _ Case Study _ AWS.txt'\n",
            "'How Marubeni is optimizing market decisions using AWS machine learning and analytics _ AWS Machine Learning Blog.txt'\n",
            "'How Technology Leaders Can Prepare for Generative AI _ AWS Cloud Enterprise Strategy Blog.txt'\n",
            "'Idealo Case Study.txt'\n",
            "'IDEMIA Case Study _ Security and Compilance _ AWS.txt'\n",
            "'Illumina Case Study _ Genomics _ AWS.txt'\n",
            "'Illumina Reduced Carbon Emissions by 89 and Lowered Data Storage Costs Using AWS _ Illumina Case Study _ AWS.txt'\n",
            "'Implement unified text and image search with a CLIP model using Amazon SageMaker and Amazon OpenSearch Service _ AWS Machine Learning Blog.txt'\n",
            "'Improve Patient Safety Intelligence Using AWS AI_ML Services _ AWS for Industries.txt'\n",
            "'Improving Geospatial Processing Faster using Amazon Aurora with Ozius _ Case Study _ AWS.txt'\n",
            "'Improving Hiring Diversity and Accelerating App Development on AWS with Branch Insurance _ Case Study _ AWS.txt'\n",
            "'Improving Mergers and Acquisitions Using AWS Organizations with Warner Bros. Discovery _ Warner Bros. Discovery Case Study _ AWS.txt'\n",
            "'Improving Operational Efficiency with Predictive Maintenance Using Amazon Monitron _ Baxter Case Study _ AWS.txt'\n",
            "'Improving Patient Outcomes Using Amazon EC2 DL1 Instances _ Leidos Case Study _ AWS.txt'\n",
            "'Improving Search Capabilities and Speed Using Amazon OpenSearch Service with ArenaNet _ ArenaNet Case Study _ AWS.txt'\n",
            "'Improving Transportation with Mobility Data Using Amazon EMR and Serverless Managed Services _ Arity Case Study _ AWS.txt'\n",
            "'Increasing Reach and Reliability of Healthcare Software by Migrating 300 Servers to AWS in 6 Weeks _ Mayden Case Study _ AWS.txt'\n",
            "'Increasing Sales Opportunities by 83 Working with AWS Training and Certification with Fortinet _ Case Study _ AWS.txt'\n",
            "'Increasing Scalability and Data Durability of Television Voting Solution Using Amazon MemoryDB for Redis with Mediaset _ Mediaset Case Study _ AWS.txt'\n",
            "'Indecomm Case Study _ Amazon Web Services.txt'\n",
            "'Indivumed Case Study.txt'\n",
            "'Infor Case Study.txt'\n",
            "'Information Technology Institute Launches Postgraduate Artificial Intelligence Diploma Using AWS _ Case Study _ AWS.txt'\n",
            "'InMotion Inovasi Teknologi Boosts Local-Language Engagement with Millions of Indonesians on AWS _ Case Study _ AWS.txt'\n",
            "'Insightful.Mobi Decreases Costs and Enhances Dashboard Performance Using Amazon QuickSight _ Case Study _ AWS.txt'\n",
            "'Insilico Case Study _ Life Sciences _ AWS.txt'\n",
            "'Intelligently Search Media Assets with Amazon Rekognition and Amazon ES _ AWS Architecture Blog.txt'\n",
            "'Interactively fine-tune Falcon-40B and other LLMs on Amazon SageMaker Studio notebooks using QLoRA _ AWS Machine Learning Blog.txt'\n",
            "'Introducing popularity tuning for Similar-Items in Amazon Personalize _ AWS Machine Learning Blog.txt'\n",
            "'Introducing the latest Machine Learning Lens for the AWS Well-Architected Framework _ AWS Architecture Blog.txt'\n",
            "'iptiQ Case Study.txt'\n",
            "'Isetan Mitsukoshi System Solutions seamlessly migrates databases to Amazon Aurora using Amazon DMA _ Isetan Mitsukoshi System Solutions Case Study _ AWS.txt'\n",
            "'Isha Foundation Delivers on its Mission for Millions by Transforming Content Delivery on AWS _ Case Study _ AWS.txt'\n",
            "'Jefferies Manages Packaged Applications at Scale in the Cloud through Amazon RDS Custom for Oracle _ Jefferies Case Study _ AWS.txt'\n",
            "'Kee Wah Bakery Brings Timeless Baked Goods to Modern Shoppers with Eshop on AWS _ Kee Wah Bakery Case Study _ AWS.txt'\n",
            "'Kioxia uses AWS for better HPC performance and cost savings in semiconductor memory development and manufacturing _ Case Study _ AWS.txt'\n",
            "'Kirana Megatara Reduces Procurement Costs by 10 Percent for Raw Rubber with Speedy Reporting on AWS _ Case Study _ AWS.txt'\n",
            "'KTO Case Study.txt'\n",
            "'LambdaTest Improves Software Test Insights and Cuts Dashboard Response Time by 33 Using Amazon Redshift _ Case Study _ AWS.txt'\n",
            "'Largest metastatic cancer dataset now available at no cost to researchers worldwide _ AWS Public Sector Blog.txt'\n",
            "'Learn how MediSys in healthcare transformed its IT operations using AWS Professional Services _ MediSys Case Study _ AWS.txt'\n",
            "'LegalZoom AWS Local Zones Case Study.txt'\n",
            "'Lendingkart _ Amazon Web Services.txt'\n",
            "'Lenme builds a secure and reliable lending platform with AWS _ Lenme Case Study _ AWS.txt'\n",
            "'LetsGetChecked Case Study _ Amazon Connect _ AWS Lex.txt'\n",
            "'Leverage pgvector and Amazon Aurora PostgreSQL for Natural Language Processing Chatbots and Sentiment Analysis _ AWS Database Blog.txt'\n",
            "'LG AI Research Develops Foundation Model Using Amazon SageMaker _ LG AI Research Case Study _ AWS.txt'\n",
            "'LifeOmic Case Study _ AWS Lambda _ AWS.txt'\n",
            "'Lotte Data Communication Company Vietnam Simplifies API Integrations for Online Retailers on AWS _ Case Study _ AWS.txt'\n",
            "'LTIMindtree Drives Digital Transformation for Global Customers with AWS Training and Certification.txt'\n",
            "'Lucid Motors and Zerolight Case Study.txt'\n",
            "'Lyell GxP Compliance _ Case Study _ AWS.txt'\n",
            "'MARVEL SNAP_ How Second Dinner and Nuverse Built and Scaled the Mobile Game of the Year Using AWS for Games _ Case Study _ AWS.txt'\n",
            "'Maxar Case Study.txt'\n",
            " Measurable-AI-case-study.txt\n",
            "'Mediality Leverages Automation to Deliver Racing Data Faster on AWS _ Case Study _ AWS.txt'\n",
            "'Mercks Manufacturing Data and Analytics Platform Triples Performance and Reduces Data Costs by 50 on AWS _ Case Study _ AWS.txt'\n",
            "'Midtrans Case Study _ Amazon Web Services.txt'\n",
            "'Migrating Large-Scale SAP Workloads Seamlessly to AWS with Sony _ Sony Case Study _ AWS.txt'\n",
            "'Mobileye Cuts Costs Using Amazon EC2 _ Case Study _ AWS.txt'\n",
            "'Mobileye Improves Deep Learning Training Performance and Reduces Costs Using Amazon EC2 DL1 Instances _ Mobileye Case Study _ AWS.txt'\n",
            "'Mobiuspace delivers up to 40 improved price-performance using Amazon EMR on EKS and Graviton instance _ Mobiuspace Case Study _ AWS.txt'\n",
            "'Modern Electron Case Study.txt'\n",
            "'Moderna Drives Commercial Innovation Using Amazon Connect and AI _ Moderna Case Study _ AWS.txt'\n",
            "'Modernizing FINRA Data Collection with Amazon DocumentDB _ FINRA Case Study _ AWS.txt'\n",
            "'Modernizing Infrastructure to Improve Reliability Using Amazon EC2 with Loacker _ Case Study _ AWS.txt'\n",
            "'mod.io Provides Low Latency Gamer Experience Globally on AWS _ Case Study _ AWS.txt'\n",
            "'Money Forward Increases Development Velocity 3x Working with AWS Training and Certification _ Case Study _ AWS.txt'\n",
            "'myposter Case Study.txt'\n",
            "'N KID Group Case Study  Amazon Web Services (AWS).txt'\n",
            "'Naranja X Modernizes Financial Services More Efficiently with SaaS Solutions in AWS Marketplace _ Naranja X Case Study _ AWS.txt'\n",
            "'NBCUniversal Case Study _ Advertising _ AWS.txt'\n",
            "'NeuroPro Case Study.txt'\n",
            "'NodeReal case study.txt'\n",
            "'Novo Nordisk Uses ML for Computer Vision to Optimize Pharmaceutical Manufacturing on AWS _ Novo Nordisk Case Study _ AWS.txt'\n",
            "'NTT DOCOMO builds a new data analysis platform for 9000 workers with AWS attracting 13 times more users and invigorating data use _ NTT Docomo Case Study _ AWS.txt'\n",
            "'Numerix Scales HPC Workloads for Price and Risk Modeling Using AWS Batch _ Numerix Case Study _ AWS.txt'\n",
            "'Oportun Increases the Accuracy of Sensitive-Data Discovery by 95 Using Amazon Macie _ Oportun Case Study _ AWS.txt'\n",
            "'Optimize software development with Amazon CodeWhisperer _ AWS DevOps Blog.txt'\n",
            "'Optimizing Fast Access to Big Data Using Amazon EMR at Thomson Reuters _ Case Study _ AWS.txt'\n",
            "'Optimizing Storage Cost and Performance Using Amazon EBS _ Devo Case Study _ AWS.txt'\n",
            " Optoma-customer-references-case-study.txt\n",
            "'Paige Case Study _ AWS.txt'\n",
            "'PayEye Launches POC for Biometric Payments in 5 Months Using AWS _ Amazon EKS.txt'\n",
            "'Postis Case Study.txt'\n",
            "'Power recommendation and search using an IMDb knowledge graph  Part 1 _ AWS Machine Learning Blog.txt'\n",
            "'Power recommendations and search using an IMDb knowledge graph  Part 3 _ AWS Machine Learning Blog.txt'\n",
            "'Prima Group Case Study.txt'\n",
            "'Processing Data 10x Faster Using Amazon Redshift Serverless with BlocPower _ BlocPower Case Study _ AWS.txt'\n",
            "'Purple Technology Case Study _ AWS Step Functions.txt'\n",
            "'Queensland University of Technology Advances Global Research on Rare Diseases Using the AWS Cloud.txt'\n",
            "'Query Response Time Improved Using Amazon Redshift Serverless _ Playrix Case Study _ AWS.txt'\n",
            "'Rackspace Automates Infrastructure Management across Cloud Providers Using AWS Systems Manager _ Rackspace Case Study _ AWS.txt'\n",
            "'Razer Deepened Gamer Engagement using Amazon Personalize _ Video Testimonial _ AWS.txt'\n",
            "'Reaching Remote Learners Globally Using Amazon CloudFront _ Doping Hafiza Case Study _ AWS.txt'\n",
            "'Read Innovates Video Call Transcription Using Amazon EC2 G5 Instances Powered by NVIDIA _ Read Case Study _ AWS.txt'\n",
            "'Realizing the Full Value of EHR in a Digital Health Environment on AWS with Tufts Medicine _ Tufts Medicine Case Study _ AWS.txt'\n",
            "'Recommend and dynamically filter items based on user context in Amazon Personalize _ AWS Machine Learning Blog.txt'\n",
            "'Red Canary Architects for Fault Tolerance and Saves up to 80 Using Amazon EC2 Spot Instances _ Red Canary Case Study _ AWS.txt'\n",
            "'Reducing Adverse-Event Reporting Time for Its Clients by 80 _ Indegene Case Study _ AWS.txt'\n",
            "'Reducing Costs of Cryo-EM Data Storage and Processing by 50 Using AWS _ Vertex Pharmaceuticals Case Study.txt'\n",
            "'Reducing Failover Time from 30 Minutes to 3 Minutes Using Amazon CloudWatch _ Thomson ReutersCase Study _ AWS.txt'\n",
            "'Reducing Infrastructure Costs by 66 by Migrating to AWS with SilverBlaze _ SilverBlaze Case Study _ AWS.txt'\n",
            "'Reducing Log Data Storage Cost Using Amazon OpenSearch Service with CMS _ Case Study _ AWS.txt'\n",
            "'Reducing Time to Results Carbon Footprint and Cost Using AWS HPC _ Baker Hughes Case Study _ AWS.txt'\n",
            "'Reinventing the data experience_ Use generative AI and modern data architecture to unlock insights _ AWS Machine Learning Blog.txt'\n",
            "'Relay Therapeutics Case Study.txt'\n",
            "'Resilience Builds a Global Data Mesh for Lab Connectivity on AWS _ Case Study _ AWS.txt'\n",
            "'ResMed Case Study _ AWS AppSync _ AWS.txt'\n",
            "'Respond.io Scales Its Messaging Platform and Connects 10000 Companies with Customers on AWS _ Respond.io Case Study _ AWS.txt'\n",
            "'Retain original PDF formatting to view translated documents with Amazon Textract Amazon Translate and PDFBox _ AWS Machine Learning Blog.txt'\n",
            "'Return Entertainment Case Study.txt'\n",
            "'Revive lost revenue from bad ecommerce search using Natural Language Processing _ AWS for Industries.txt'\n",
            "'Revolutionizing Manufacturing with Sphere and Amazon Lookout for Visions XR and AI Integration _ AWS Partner Network (APN) Blog.txt'\n",
            "'Rivian Case Study _ Automotive _ AWS.txt'\n",
            "'Rumah Siap Kerja (RSK) Case Study - Amazon Web Services (AWS).txt'\n",
            "'Run Jobs at Scale While Optimizing for Cost Using Amazon EC2 Spot Instances with ActionIQ _ ActionIQ Case Study _ AWS.txt'\n",
            "'Rush University System for Health Creates a Population Health Analytics Platform on AWS _ Rush Case Study _ AWS.txt'\n",
            "'Safe image generation and diffusion models with Amazon AI content moderation services _ AWS Machine Learning Blog.txt'\n",
            "'Samsung Electronics Improves Demand Forecasting Using Amazon SageMaker Canvas _ Samsung Electronics Case Study _ AWS.txt'\n",
            "'Samsung Electronics Uses Amazon Chime SDK to Deliver a More Engaging Television Experience for Millions of Viewers _ Samsung Case Study _ AWS.txt'\n",
            "'Saving 80 on Costs While Improving Reliability and Performance Using Amazon Aurora with Panasonic Avionics _ Panasonic Avionics Case Study _ AWS.txt'\n",
            "'Saving time with personalized videos using AWS machine learning _ AWS Machine Learning Blog.txt'\n",
            "'Scaling Authentic Educational Games Using Amazon GameLift with Immersed Games _ Case Study _ AWS.txt'\n",
            "'Scaling Data Pipeline from One to Five Satellites Seamlessly on AWS _ Axelspace Case Study _ AWS.txt'\n",
            "'Scaling Sustainability Solutions for Buildings Using AWS with BrainBox AI _ Case Study _ AWS.txt'\n",
            "'Scaling Text to Image to 100 Million Users Quickly Using Amazon SageMaker _ Canva Case Study _ AWS.txt'\n",
            "'Scaling to Ingest 250 TB from 1 TB Daily Using Amazon Kinesis Data Streams with LaunchDarkly _ LaunchDarkly Case Study _ AWS.txt'\n",
            "'Scaling Up to 30 While Reducing Costs by 20 Using AWS Graviton3 Processors with Instructure _ Case Study _ AWS.txt'\n",
            "'Securing Workforce Access at Scale Using AWS IAM Identity Center with Xylem _ Xylem Case Study _ AWS.txt'\n",
            "'SecurionPay _ Amazon Redshift _ Amazon Quicksight _ Amazon Kinesis _ AWS.txt'\n",
            "'Security Posture Strengthened Using AWS Shield Advanced with OutSystems _ Case Study _ AWS.txt'\n",
            "'Selecting the right foundation model for your startup _ AWS Startups Blog.txt'\n",
            "'Shgardi Case Study.txt'\n",
            "'Showpad Accelerates Data Maturity to Unlock Innovation Using Amazon QuickSight _ Case Study _ AWS.txt'\n",
            "'Sixth Force Solutions _ Amazon Web Services.txt'\n",
            "'SKODA Uses AWS to Predict and Prevent Production Line Breakdowns.txt'\n",
            " SmartSearch-case-study.txt\n",
            "'Snap optimizes cost savings with Amazon S3 Glacier Instant Retrieval _ Snap Case Study _ AWS.txt'\n",
            "'Software Colombia and AWS Team Up to Create Powerful Identity Verification Solution _ Software Colombia Case Study _ AWS.txt'\n",
            "'Spacelift Case Study.txt'\n",
            "'Sprout Social Reduces Costs and Improves Performance Using Amazon EMR _ Case Study _ AWS.txt'\n",
            "'Spryker Case Study _ Amazon Elastic Compute Cloud _ AWS.txt'\n",
            "'Staffordshire University Uses AWS Academy to Help Students Meet Business Demand for Cloud Skills _ Case Study _ AWS.txt'\n",
            "'Stanford Multimodal Data Case Study _ Life Sciences _ AWS.txt'\n",
            "'Sterling Auxiliaries Case Study _ Amazon Web Services.txt'\n",
            "'Storengy Case Study.txt'\n",
            "'Streamline and Standardize the Complete ML Lifecycle Using Amazon SageMaker with Thomson Reuters _ Thomson Reuters Case Study _ AWS.txt'\n",
            "'Streamline Workflows Using the AWS Support App in Slack with Okta _ Okta Case Study _ AWS.txt'\n",
            "'SUPINFO Creates 5-Year Master of Engineering Degree Implementing AWS Education Programs _ Case Study _ AWS.txt'\n",
            "'SURF Drives Ground-Breaking Research Accelerates Time to Insight Using AWS.txt'\n",
            "'Syngenta Case Study _ Amazon Web Services.txt'\n",
            "'Taggle Systems Case Study _ Amazon Web Services.txt'\n",
            "'Takeda Accelerates Digital Transformation by Migrating to AWS _ Takeda Case Study _ AWS.txt'\n",
            "'Tally Solutions _ Amazon Web Services.txt'\n",
            "'Tangent Works Case Study.txt'\n",
            "'TC Energy Builds an Operations Data Platform for 60000 Miles of Pipeline Using AWS Data Analytics _ TC Energy Case Study _ AWS.txt'\n",
            "'TCSG Works with AWS Academy to Offer Digital Cloud Computing Credential to 22 Colleges _ Case Study _ AWS.txt'\n",
            "'Technology that delivers_ iFood and Appoena gain agility with AWS Marketplace _ iFood Case Study _ AWS.txt'\n",
            "'TEG on using Machine Learning and Amazon Personalize to boost user engagement and ticket sales _ Ticketek Video _ AWS.txt'\n",
            "'Tempus Ex Case Study _ Amazon ECS _ AWS.txt'\n",
            "'Teva Case Study _ Biopharma _ AWS.txt'\n",
            "'The Mill Adventure Case Study.txt'\n",
            "'The Next Frontier_ Generative AI for Financial Services _ AWS for Industries.txt'\n",
            "'The positive impact Generative AI could have for Retail _ AWS for Industries.txt'\n",
            "'The Retail Race_ A Roadmap for Implementing a Smart Store Strategy _ AWS for Industries.txt'\n",
            "'Thomson Reuters Uses Amazon DMA to Accelerate Database Modernization _ Thomson Reuters Case Study _ AWS.txt'\n",
            "'THREAD _ Life Sciences _ AWS.txt'\n",
            "'Tokenize Builds A Scalable Cost-Effective Digital Exchange Platform On AWS _ Case Study _ AWS.txt'\n",
            "'Toppan Case Study.txt'\n",
            "'Toyota Motor North America Case Study _ AWS.txt'\n",
            "'Track customer traffic in aisles and cash counters using Computer Vision _ AWS for Industries.txt'\n",
            "'Train a Large Language Model on a single Amazon SageMaker GPU with Hugging Face and LoRA _ AWS Machine Learning Blog.txt'\n",
            "'Transform analyze and discover insights from unstructured healthcare data using Amazon HealthLake _ AWS Machine Learning Blog.txt'\n",
            "'Transforming fleet telematics into predictive analytics with Capgeminis Trusted Vehicle and AWS IoT FleetWise _ The Internet of Things on AWS  Official Blog.txt'\n",
            "'Translate redact and analyze text using SQL functions with Amazon Athena Amazon Translate and Amazon Comprehend _ AWS Machine Learning Blog.txt'\n",
            "'Tyler Technologies Recovers Mission-Critical Workloads 12x Faster Using AWS Elastic Disaster Recovery _ Tyler Technologies Case Study _ AWS.txt'\n",
            "'Ultra Commerce Case Study.txt'\n",
            "'Ultrasound Business Area Improves Customer Experience Using AWS Systems Manager _ Siemens Healthineers Case Study _ AWS.txt'\n",
            "'Upskilling Over 2K Employees with AWS Training and Certification and Creating a Culture of Innovation _ Techcombank Case Study _ AWS.txt'\n",
            "'Upstox Saves 1 Million Annually Using Amazon S3 Storage Lens _ Upstox Case Study _ AWS.txt'\n",
            "'Use proprietary foundation models from Amazon SageMaker JumpStart in Amazon SageMaker Studio _ AWS Machine Learning Blog.txt'\n",
            "'Using Amazon EC2 Spot Instances and Karpenter to Simplify and Optimize Kubernetes Infrastructure _ Neeva Case Study _ AWS.txt'\n",
            "'Using Amazon SageMaker to accelerate and deploy predictive editorial analytics solutions _ Smartocto Case Study _ AWS.txt'\n",
            "'Using Amazon SageMaker to improve response time of its demand forecast service by 200 percent _ Visualfabriq Case Study _ AWS.txt'\n",
            "'Using Amazon SageMaker to Personalize Sleep Therapy for Millions of Patients _ ResMed Case Study _ AWS.txt'\n",
            "'Using Computer Vision to Enable Digital Building Twins with NavVis and AWS _ AWS Partner Network (APN) Blog.txt'\n",
            "'Valant Uses AWS Communication Developer Services to Help Behavioral Health Practices Drive Better Patient Engagement _ Valant Case Study _ AWS.txt'\n",
            "'Veolia Australia and New Zealand Case Study - Amazon Web Services (AWS).txt'\n",
            "'Vocareum Offers Amazon Lightsail to Help over 50000 Cloud Learners Build Cloud Skills _ Vocareum Case Study _ AWS.txt'\n",
            "'Volkswagen Passenger Cars Case Study.txt'\n",
            "'Voucherify Case Study.txt'\n",
            "'WaFd Bank Transforms Contact Centers Using Conversational AI on AWS _ Case Study _ AWS.txt'\n",
            "'Wave Commerce case study.txt'\n",
            "'WebBeds uses Amazon EC2 Spot Instances to save its business amid a reduction in travel worldwide and reduce costs up to 64 percent. _ WebBeds Case Study _ AWS.txt'\n",
            "'What Will Generative AI Mean for Your Business_ _ AWS Cloud Enterprise Strategy Blog.txt'\n",
            "'Which Recurring Business Processes Can Small and Medium Businesses Automate_ _ AWS Smart Business Blog.txt'\n",
            " Windsor.txt\n",
            "'Wireless Car Case Study _ AWS IoT Core _ AWS.txt'\n",
            "'Yamato Logistics (HK) case study.txt'\n",
            "'Zomato Saves Big by Using AWS Graviton2 to Power Data-Driven Business Insights.txt'\n",
            "'Zoox Case Study _ Automotive _ AWS.txt'\n"
          ]
        }
      ],
      "source": [
        "!ls rag_txt_dataset"
      ]
    },
    {
      "cell_type": "markdown",
      "metadata": {},
      "source": [
        "### Criando os `chunk`s!"
      ]
    },
    {
      "cell_type": "markdown",
      "metadata": {},
      "source": [
        "Listamos os documentos com a fun\u00e7\u00e3o que hav\u00edamos criado"
      ]
    },
    {
      "cell_type": "code",
      "execution_count": 14,
      "metadata": {},
      "outputs": [],
      "source": [
        "dataset_path = \"rag_txt_dataset\"\n",
        "documents = load_documents_from_directory(dataset_path)"
      ]
    },
    {
      "cell_type": "markdown",
      "metadata": {},
      "source": [
        "Comprovamos que o fizemos bem"
      ]
    },
    {
      "cell_type": "code",
      "execution_count": 15,
      "metadata": {},
      "outputs": [
        {
          "name": "stdout",
          "output_type": "stream",
          "text": [
            "Run Jobs at Scale While Optimizing for Cost Using Amazon EC2 Spot Instances with ActionIQ _ ActionIQ Case Study _ AWS.txt\n",
            "Recommend and dynamically filter items based on user context in Amazon Personalize _ AWS Machine Learning Blog.txt\n",
            "Windsor.txt\n",
            "Bank of Montreal Case Study _ AWS.txt\n",
            "The Mill Adventure Case Study.txt\n",
            "Optimize software development with Amazon CodeWhisperer _ AWS DevOps Blog.txt\n",
            "Announcing enhanced table extractions with Amazon Textract _ AWS Machine Learning Blog.txt\n",
            "THREAD _ Life Sciences _ AWS.txt\n",
            "Deep Pool Optimizes Software Quality Control Using Amazon QuickSight _ Deep Pool Case Study _ AWS.txt\n",
            "Upstox Saves 1 Million Annually Using Amazon S3 Storage Lens _ Upstox Case Study _ AWS.txt\n"
          ]
        }
      ],
      "source": [
        "for document in documents[0:10]:\n",
        "    print(document[\"id\"])"
      ]
    },
    {
      "cell_type": "markdown",
      "metadata": {},
      "source": [
        "Agora criamos os `chunk`s."
      ]
    },
    {
      "cell_type": "code",
      "execution_count": 16,
      "metadata": {},
      "outputs": [],
      "source": [
        "chunked_documents = []\n",
        "for document in documents:\n",
        "    chunks = split_text(document[\"text\"])\n",
        "    for i, chunk in enumerate(chunks):\n",
        "        chunked_documents.append({\"id\": f\"{document['id']}_{i}\", \"text\": chunk})"
      ]
    },
    {
      "cell_type": "code",
      "execution_count": 17,
      "metadata": {},
      "outputs": [
        {
          "data": {
            "text/plain": [
              "3611"
            ]
          },
          "execution_count": 17,
          "metadata": {},
          "output_type": "execute_result"
        }
      ],
      "source": [
        "len(chunked_documents)"
      ]
    },
    {
      "cell_type": "markdown",
      "metadata": {},
      "source": [
        "Como vemos, existem 3611 `chunk`s. Como o limite di\u00e1rio da API da Hugging Face s\u00e3o 1000 chamadas na conta gratuita, se quisermos criar embeddings de todos os `chunk`s, acabar\u00edamos com as chamadas dispon\u00edveis e al\u00e9m disso n\u00e3o poder\u00edamos criar embeddings de todos os `chunk`s."
      ]
    },
    {
      "cell_type": "markdown",
      "metadata": {},
      "source": [
        "Voltamos a lembrar, este modelo de embeddings \u00e9 muito pequeno, apenas 22M de par\u00e2metros, por isso pode ser executado em quase qualquer computador, mais r\u00e1pido ou mais devagar, mas pode."
      ]
    },
    {
      "cell_type": "markdown",
      "metadata": {},
      "source": [
        "Como s\u00f3 vamos criar os embeddings dos `chunk`s uma vez, mesmo que n\u00e3o tenhamos um computador muito potente e demore muito tempo, isso s\u00f3 ser\u00e1 executado uma vez. Ent\u00e3o, quando quisermos fazer perguntas sobre a documenta\u00e7\u00e3o, a\u00ed sim geraremos os embeddings do prompt com a API do Hugging Face e usaremos o LLM com a API. Portanto, s\u00f3 teremos que passar pelo processo de gerar os embeddings dos `chunk`s uma vez."
      ]
    },
    {
      "cell_type": "markdown",
      "metadata": {},
      "source": [
        "Geramos os embeddings dos `chunk`s"
      ]
    },
    {
      "cell_type": "markdown",
      "metadata": {},
      "source": [
        "\u00daltima biblioteca que vamos ter que instalar. Como o processo de gerar os embeddings dos `chunk`s vai ser lento, vamos instalar `tqdm` para que nos mostre uma barra de progresso. Instalamos com conda ou com pip, como preferir.",
        "\n",
        "```bash\n```",
        "conda install conda-forge::tqdm",
        "```\n```",
        "\n",
        "o",
        "\n",
        "```bash\n```",
        "pip install tqdm",
        "```"
      ]
    },
    {
      "cell_type": "markdown",
      "metadata": {},
      "source": [
        "Geramos os embeddings dos `chunk`s"
      ]
    },
    {
      "cell_type": "code",
      "execution_count": 19,
      "metadata": {},
      "outputs": [
        {
          "name": "stderr",
          "output_type": "stream",
          "text": [
            "100%|\u2588\u2588\u2588\u2588\u2588\u2588\u2588\u2588\u2588\u2588| 3611/3611 [00:16<00:00, 220.75it/s]\n"
          ]
        }
      ],
      "source": [
        "import tqdm\n",
        "\n",
        "progress_bar = tqdm.tqdm(chunked_documents)\n",
        "\n",
        "for chunk in progress_bar:\n",
        "    embedding = get_embeddings(chunk[\"text\"])\n",
        "    if embedding is not None:\n",
        "        chunk[\"embedding\"] = embedding\n",
        "    else:\n",
        "        print(f\"Error with document {chunk['id']}\")"
      ]
    },
    {
      "cell_type": "markdown",
      "metadata": {},
      "source": [
        "Vemos um exemplo"
      ]
    },
    {
      "cell_type": "code",
      "execution_count": 60,
      "metadata": {},
      "outputs": [
        {
          "name": "stdout",
          "output_type": "stream",
          "text": [
            "Chunk id: BNS Group Case Study _ Amazon Web Services.txt_0,\n",
            "\n",
            "text: Reducing Virtual Machines from 40 to 12\n",
            "The founders of BNS had been contemplating a migration from the company\u2019s on-premises data center to the public cloud and observed a growing demand for cloud-based operations among current and potential BNS customers.\n",
            "Fran\u00e7ais\n",
            "Configures security according to cloud best practices\n",
            "Clive Pereira, R&D director at BNS Group, explains, \u201cThe database that records Praisal\u2019s SMS traffic resides in Praisal\u2019s AWS environment. Praisal can now run complete analytics across its data and gain insights into what\u2019s happening with its SMS traffic, which is a real game-changer for the organization.\u201d\u00a0 \n",
            "Espa\u00f1ol\n",
            " AWS ISV Accelerate Program\n",
            " Receiving Strategic, Foundational Support from ISV Specialists\n",
            " Learn More\n",
            "The value that AWS places on the ISV stream sealed the deal in our choice of cloud provider.\u201d \n",
            "\u65e5\u672c\u8a9e\n",
            "  Contact Sales \n",
            "BNS is an Australian software provider focused on secure enterprise SMS and fax messaging. Its software runs on the Windows platform and is l,\n",
            "\n",
            "embedding shape: (384,)\n"
          ]
        }
      ],
      "source": [
        "from random import randint\n",
        "\n",
        "idx = randint(0, len(chunked_documents))\n",
        "print(f\"Chunk id: {chunked_documents[idx]['id']},\\n\\ntext: {chunked_documents[idx]['text']},\\n\\nembedding shape: {chunked_documents[idx]['embedding'].shape}\")"
      ]
    },
    {
      "cell_type": "markdown",
      "metadata": {},
      "source": [
        "### Carregar os `chunk`s no banco de dados vetorial"
      ]
    },
    {
      "cell_type": "markdown",
      "metadata": {},
      "source": [
        "Uma vez que temos todos os chunks gerados, os carregamos no banco de dados vetorial. Usamos novamente `tqdm` para que nos mostre uma barra de progresso, porque isso tamb\u00e9m ser\u00e1 lento"
      ]
    },
    {
      "cell_type": "code",
      "execution_count": 22,
      "metadata": {},
      "outputs": [
        {
          "name": "stderr",
          "output_type": "stream",
          "text": [
            "100%|\u2588\u2588\u2588\u2588\u2588\u2588\u2588\u2588\u2588\u2588| 3611/3611 [00:59<00:00, 60.77it/s]\n"
          ]
        }
      ],
      "source": [
        "import tqdm\n",
        "\n",
        "progress_bar = tqdm.tqdm(chunked_documents)\n",
        "\n",
        "for chunk in progress_bar:\n",
        "    collection.upsert(\n",
        "        ids=[chunk[\"id\"]],\n",
        "        documents=chunk[\"text\"],\n",
        "        embeddings=chunk[\"embedding\"],\n",
        "    )"
      ]
    },
    {
      "cell_type": "markdown",
      "metadata": {},
      "source": [
        "## Perguntas"
      ]
    },
    {
      "cell_type": "markdown",
      "metadata": {},
      "source": [
        "Agora que temos o banco de dados vetorial, podemos fazer perguntas \u00e0 documenta\u00e7\u00e3o. Para isso, precisamos de uma fun\u00e7\u00e3o que nos devolva o `chunk` correto."
      ]
    },
    {
      "cell_type": "markdown",
      "metadata": {},
      "source": [
        "### Obter o `chunk` correto"
      ]
    },
    {
      "cell_type": "markdown",
      "metadata": {},
      "source": [
        "Agora precisamos de uma fun\u00e7\u00e3o que nos devolva o `chunk` correto, vamos cri\u00e1-la"
      ]
    },
    {
      "cell_type": "code",
      "execution_count": 50,
      "metadata": {},
      "outputs": [],
      "source": [
        "def get_top_k_documents(query, k=5):\n",
        "    results = collection.query(query_texts=query, n_results=k)\n",
        "    return results"
      ]
    },
    {
      "cell_type": "markdown",
      "metadata": {},
      "source": [
        "Por \u00faltimo, criamos uma `query`.",
        "\n",
        "Para gerar a query, escolhi aleatoriamente o documento `Using Amazon EC2 Spot Instances and Karpenter to Simplify and Optimize Kubernetes Infrastructure _ Neeva Case Study _ AWS.txt`, passei-o a um LLM e pedi-lhe que gerasse uma pergunta sobre o documento. A pergunta que ele gerou \u00e9",
        "\n",
        "",
        "Como a Neeva usou Karpenter e as Inst\u00e2ncias Spot do Amazon EC2 para melhorar o gerenciamento de sua infraestrutura e a otimiza\u00e7\u00e3o de custos?",
        "",
        "\n",
        "Assim, obtemos os `chunk`s mais relevantes para essa pergunta"
      ]
    },
    {
      "cell_type": "code",
      "execution_count": 51,
      "metadata": {},
      "outputs": [],
      "source": [
        "query = \"How did Neeva use Karpenter and Amazon EC2 Spot Instances to improve its infrastructure management and cost optimization?\"\n",
        "top_chunks = get_top_k_documents(query=query, k=5)"
      ]
    },
    {
      "cell_type": "markdown",
      "metadata": {},
      "source": [
        "Vamos ver quais `chunk`s nos devolveu"
      ]
    },
    {
      "cell_type": "code",
      "execution_count": 52,
      "metadata": {},
      "outputs": [
        {
          "name": "stdout",
          "output_type": "stream",
          "text": [
            "Rank 1: Using Amazon EC2 Spot Instances and Karpenter to Simplify and Optimize Kubernetes Infrastructure _ Neeva Case Study _ AWS.txt_0, distance: 0.29233667254447937\n",
            "Rank 2: Using Amazon EC2 Spot Instances and Karpenter to Simplify and Optimize Kubernetes Infrastructure _ Neeva Case Study _ AWS.txt_5, distance: 0.4007825255393982\n",
            "Rank 3: Using Amazon EC2 Spot Instances and Karpenter to Simplify and Optimize Kubernetes Infrastructure _ Neeva Case Study _ AWS.txt_1, distance: 0.4317566752433777\n",
            "Rank 4: Using Amazon EC2 Spot Instances and Karpenter to Simplify and Optimize Kubernetes Infrastructure _ Neeva Case Study _ AWS.txt_6, distance: 0.43832334876060486\n",
            "Rank 5: Using Amazon EC2 Spot Instances and Karpenter to Simplify and Optimize Kubernetes Infrastructure _ Neeva Case Study _ AWS.txt_4, distance: 0.44625571370124817\n"
          ]
        }
      ],
      "source": [
        "for i in range(len(top_chunks[\"ids\"][0])):\n",
        "    print(f\"Rank {i+1}: {top_chunks['ids'][0][i]}, distance: {top_chunks['distances'][0][i]}\")"
      ]
    },
    {
      "cell_type": "markdown",
      "metadata": {},
      "source": [
        "Como havia dito, o documento que tinha escolhido ao acaso era `Using Amazon EC2 Spot Instances and Karpenter to Simplify and Optimize Kubernetes Infrastructure _ Neeva Case Study _ AWS.txt` e como pode ver os `chunk`s que nos devolveu s\u00e3o desse documento. Ou seja, de mais de 3000 `chunk`s existentes na base de dados, foi capaz de devolver os `chunk`s mais relevantes para essa pergunta, parece que isto funciona!"
      ]
    },
    {
      "cell_type": "markdown",
      "metadata": {},
      "source": [
        "### Gerar a resposta"
      ]
    },
    {
      "cell_type": "markdown",
      "metadata": {},
      "source": [
        "Como j\u00e1 temos os `chunk`s mais relevantes, passamos eles ao LLM, junto com a pergunta, para que este gere uma resposta"
      ]
    },
    {
      "cell_type": "code",
      "execution_count": 58,
      "metadata": {},
      "outputs": [],
      "source": [
        "def generate_response(query, relevant_chunks, temperature=0.5, max_tokens=1024, top_p=0.7, stream=False):\n",
        "    context = \"\\n\\n\".join([chunk for chunk in relevant_chunks])\n",
        "    prompt = f\"You are an assistant for question-answering. You have to answer the following question:\\n\\n{query}\\n\\nAnswer the question with the following information:\\n\\n{context}\"\n",
        "    message = [\n",
        "        { \"role\": \"user\", \"content\": prompt }\n",
        "    ]\n",
        "    stream = client.chat.completions.create(\n",
        "        messages=message, \n",
        "        temperature=temperature,\n",
        "        max_tokens=max_tokens,\n",
        "        top_p=top_p,\n",
        "        stream=stream,\n",
        "    )\n",
        "    response = stream.choices[0].message.content\n",
        "    return response"
      ]
    },
    {
      "cell_type": "markdown",
      "metadata": {},
      "source": [
        "Testamos a fun\u00e7\u00e3o"
      ]
    },
    {
      "cell_type": "code",
      "execution_count": 59,
      "metadata": {},
      "outputs": [
        {
          "name": "stdout",
          "output_type": "stream",
          "text": [
            "Neeva, a cloud-native, ad-free search engine founded in 2019, has leveraged Karpenter and Amazon EC2 Spot Instances to significantly improve its infrastructure management and cost optimization. Here\u2019s how:\n",
            "\n",
            "### Early Collaboration with Karpenter\n",
            "In late 2021, Neeva began working closely with the Karpenter team, experimenting with and contributing fixes to an early version of Karpenter. This collaboration allowed Neeva to integrate Karpenter with its Kubernetes dashboard, enabling the company to gather valuable metrics on usage and performance.\n",
            "\n",
            "### Combining Spot Instances and On-Demand Instances\n",
            "Neeva runs its jobs on a large scale, which can lead to significant costs. To manage these costs effectively, the company adopted a combination of Amazon EC2 Spot Instances and On-Demand Instances. Spot Instances allow Neeva to bid on unused EC2 capacity, often at a fraction of the On-Demand price, while On-Demand Instances provide the necessary reliability for critical pipelines.\n",
            "\n",
            "### Flexibility and Instance Diversification\n",
            "According to Mohit Agarwal, infrastructure engineering lead at Neeva, Karpenter's adoption of best practices for Spot Instances, including flexibility and instance diversification, has been crucial. This approach ensures that Neeva can dynamically adjust its compute resources to meet varying workloads while minimizing costs.\n",
            "\n",
            "### Improved Scalability and Agility\n",
            "By using Karpenter to provision infrastructure resources for its Amazon EKS clusters, Neeva has achieved several key benefits:\n",
            "- **Scalability**: Neeva can scale its compute resources up or down as needed, ensuring that it always has the necessary capacity to handle its workloads.\n",
            "- **Agility**: The company can iterate quickly and democratize infrastructure changes, reducing the time spent on systems administration by up to 100 hours per week.\n",
            "\n",
            "### Enhanced Development Cycles\n",
            "The integration of Karpenter and Spot Instances has also accelerated Neeva's development cycles. The company can now launch new features and improvements more rapidly, which is essential for maintaining a competitive edge in the search engine market.\n",
            "\n",
            "### Cost Savings and Budget Control\n",
            "Using Spot Instances, Neeva has been able to stay within its budget while meeting its performance requirements. This cost optimization is critical for a company that prioritizes user-first experiences and has no competing incentives from advertising.\n",
            "\n",
            "### Future Plans\n",
            "Neeva is committed to continuing its innovation and expansion. The company plans to launch in new regions and further improve its search engine, all while maintaining cost efficiency. As Mohit Agarwal notes, \"The bulk of our compute is or will be managed using Karpenter going forward.\"\n",
            "\n",
            "### Conclusion\n",
            "By leveraging Karpenter and Amazon EC2 Spot Instances, Neeva has not only optimized its infrastructure costs but also enhanced its scalability, agility, and development speed. This strategic approach has positioned Neeva to deliver high-quality, ad-free search experiences to its users while maintaining a strong focus on cost control and innovation.\n"
          ]
        }
      ],
      "source": [
        "response = generate_response(query, top_chunks[\"documents\"][0])\n",
        "print(response)"
      ]
    },
    {
      "cell_type": "markdown",
      "metadata": {},
      "source": [
        "Quando pedi ao LLM para gerar uma pergunta sobre o documento, tamb\u00e9m pedi para gerar a resposta correta. Esta \u00e9 a resposta que o LLM me deu",
        "\n",
        "```",
        "Neeva usou Karpenter e Amazon EC2 Spot Instances para melhorar sua gest\u00e3o de infraestrutura e otimiza\u00e7\u00e3o de custos de v\u00e1rias maneiras:",
        "\n",
        "Gest\u00e3o Simplificada de Inst\u00e2ncias:",
        "\n",
        "Karpenter: Ao adotar o Karpenter, Neeva simplificou o processo de provisionamento e gerenciamento de recursos de computa\u00e7\u00e3o para seus clusters Amazon EKS. O Karpenter provisiona e desprovisiona automaticamente inst\u00e2ncias com base na carga de trabalho, eliminando a necessidade de configura\u00e7\u00f5es manuais e reduzindo a complexidade de entender diferentes inst\u00e2ncias de computa\u00e7\u00e3o.",
        "Inst\u00e2ncias Spot: A Neeva aproveitou as Inst\u00e2ncias Spot do Amazon EC2, que s\u00e3o capacidade ociosa do EC2 dispon\u00edvel com um desconto significativo (economia de at\u00e9 90% no custo). Isso permitiu \u00e0 empresa controlar os custos enquanto atendia aos seus requisitos de desempenho.",
        "Escalabilidade Aprimorada:",
        "\n",
        "Karpenter: A habilidade do Karpenter de escalar recursos dinamicamente permitiu que a Neeva ativasse novas inst\u00e2ncias rapidamente, permitindo que a empresa iterasse com maior rapidez e realizasse mais experimentos em menos tempo.",
        "Inst\u00e2ncias Spot: O uso de Inst\u00e2ncias Spot proporcionou flexibilidade e diversifica\u00e7\u00e3o de inst\u00e2ncias, facilitando para a Neeva escalar seus recursos de computa\u00e7\u00e3o de maneira eficiente.",
        "Produtividade Melhorada:",
        "\n",
        "Karpenter: Ao democratizar as mudan\u00e7as de infraestrutura, o Karpenter permitiu que qualquer engenheiro modificasse as configura\u00e7\u00f5es do Kubernetes, reduzindo a depend\u00eancia de conhecimentos especializados. Isso salvou a equipe da Neeva de at\u00e9 100 horas por semana de tempo de espera na administra\u00e7\u00e3o de sistemas.",
        "Inst\u00e2ncias Spot: A capacidade de provisionar e desprovisionar rapidamente Inst\u00e2ncias Spot reduziu atrasos na pipeline de desenvolvimento, garantindo que os trabalhos n\u00e3o ficassem presos devido \u00e0 falta de recursos dispon\u00edveis.",
        "Efici\u00eancia de Custo:",
        "\n",
        "Karpenter: As melhores pr\u00e1ticas do Karpenter para Inst\u00e2ncias Spot, incluindo flexibilidade e diversifica\u00e7\u00e3o de inst\u00e2ncias, ajudaram a Neeva a usar essas inst\u00e2ncias de forma mais eficaz, mantendo-se dentro do or\u00e7amento.",
        "Inst\u00e2ncias Spot: As economias de custos ao usar Inst\u00e2ncias Spot permitiram que Neeva executasse trabalhos em larga escala, como indexa\u00e7\u00e3o, por quase o mesmo custo, mas em uma fra\u00e7\u00e3o do tempo. Por exemplo, Neeva reduziu seus trabalhos de indexa\u00e7\u00e3o de 18 horas para apenas 3 horas.",
        "Melhor Utiliza\u00e7\u00e3o de Recursos:\n",
        "\n",
        "Karpenter: Karpenter forneceu melhor visibilidade do uso de recursos de computa\u00e7\u00e3o, permitindo que Neeva monitorasse e otimizasse mais de perto seu consumo de recursos.",
        "Inst\u00e2ncias Spot: A combina\u00e7\u00e3o de Karpenter e Inst\u00e2ncias Spot permitiu que a Neeva operasse grandes modelos de linguagem de forma mais eficiente, aprimorando a experi\u00eancia de busca para seus usu\u00e1rios.",
        "Em resumo, a ado\u00e7\u00e3o do Karpenter e das Amazon EC2 Spot Instances pela Neeva melhorou significativamente a gest\u00e3o da infraestrutura, a otimiza\u00e7\u00e3o de custos e a efici\u00eancia geral do desenvolvimento, permitindo \u00e0 empresa oferecer melhores experi\u00eancias de pesquisa sem an\u00fancios aos seus usu\u00e1rios.",
        "```\n```",
        "\n",
        "E esta foi a resposta gerada pelo nosso `RAG`",
        "\n",
        "",
        "Neeva, um motor de busca nativo da nuvem e sem an\u00fancios fundado em 2019, utilizou Karpenter e Amazon EC2 Spot Instances para melhorar significativamente o gerenciamento de sua infraestrutura e a otimiza\u00e7\u00e3o de custos. Veja como:",
        "\n",
        "### Colabora\u00e7\u00e3o Precoce com o Karpenter",
        "No final de 2021, a Neeva come\u00e7ou a trabalhar de perto com a equipe do Karpenter, experimentando e contribuindo com corre\u00e7\u00f5es para uma vers\u00e3o inicial do Karpenter. Essa colabora\u00e7\u00e3o permitiu que a Neeva integrasse o Karpenter com seu painel do Kubernetes, permitindo que a empresa coletasse m\u00e9tricas valiosas sobre uso e desempenho.",
        "\n",
        "### Combinando Inst\u00e2ncias Spot e Inst\u00e2ncias Sob Demanda",
        "Neeva executa seus trabalhos em grande escala, o que pode levar a custos significativos. Para gerenciar esses custos de forma eficaz, a empresa adotou uma combina\u00e7\u00e3o de Inst\u00e2ncias Spot do Amazon EC2 e Inst\u00e2ncias Sob Demanda. As Inst\u00e2ncias Spot permitem que a Neeva fa\u00e7a lances em capacidade n\u00e3o utilizada do EC2, muitas vezes a uma fra\u00e7\u00e3o do pre\u00e7o Sob Demanda, enquanto as Inst\u00e2ncias Sob Demanda fornecem a confiabilidade necess\u00e1ria para pipelines cr\u00edticos.",
        "\n",
        "### Flexibilidade e Diversifica\u00e7\u00e3o de Inst\u00e2ncias",
        "De acordo com Mohit Agarwal, l\u00edder de engenharia de infraestrutura na Neeva, a ado\u00e7\u00e3o das melhores pr\u00e1ticas do Karpenter para Spot Instances, incluindo flexibilidade e diversifica\u00e7\u00e3o de inst\u00e2ncias, tem sido crucial. Esta abordagem garante que a Neeva possa ajustar dinamicamente seus recursos de computa\u00e7\u00e3o para atender a cargas de trabalho vari\u00e1veis enquanto minimiza os custos.",
        "\n",
        "### Melhor Escalabilidade e Agilidade",
        "Ao usar o Karpenter para provisionar recursos de infraestrutura para seus clusters Amazon EKS, Neeva alcan\u00e7ou v\u00e1rios benef\u00edcios importantes:",
        "- **Escalabilidade**: Neeva pode escalar seus recursos computacionais para cima ou para baixo conforme necess\u00e1rio, garantindo que sempre tenha a capacidade necess\u00e1ria para lidar com suas cargas de trabalho.",
        "- **Agilidade**: A empresa pode iterar rapidamente e democratizar as mudan\u00e7as de infraestrutura, reduzindo o tempo gasto na administra\u00e7\u00e3o de sistemas em at\u00e9 100 horas por semana.",
        "\n",
        "### Ciclos de Desenvolvimento Aprimorados",
        "A integra\u00e7\u00e3o do Karpenter e das Spot Instances tamb\u00e9m acelerou os ciclos de desenvolvimento da Neeva. A empresa agora pode lan\u00e7ar novos recursos e melhorias mais rapidamente, o que \u00e9 essencial para manter uma vantagem competitiva no mercado de mecanismos de busca.",
        "\n",
        "### Economia de Custos e Controle Or\u00e7ament\u00e1rio",
        "Usando Inst\u00e2ncias Spot, a Neeva conseguiu permanecer dentro do seu or\u00e7amento enquanto atendia aos seus requisitos de desempenho. Esta otimiza\u00e7\u00e3o de custos \u00e9 crucial para uma empresa que prioriza experi\u00eancias voltadas para o usu\u00e1rio e n\u00e3o tem incentivos concorrentes de publicidade.",
        "\n",
        "### Planos Futuros",
        "Neeva est\u00e1 comprometida com a continua\u00e7\u00e3o de sua inova\u00e7\u00e3o e expans\u00e3o. A empresa planeja lan\u00e7ar-se em novas regi\u00f5es e melhorar ainda mais seu motor de busca, enquanto mant\u00e9m a efici\u00eancia de custos. Como observa Mohit Agarwal, \"A maior parte do nosso processamento \u00e9 ou ser\u00e1 gerenciada usando Karpenter daqui para frente.\"",
        "\n",
        "### Conclus\u00e3o",
        "Ao aproveitar o Karpenter e as Inst\u00e2ncias Spot do Amazon EC2, a Neeva n\u00e3o apenas otimizou seus custos de infraestrutura, mas tamb\u00e9m aprimorou sua escalabilidade, agilidade e velocidade de desenvolvimento. Essa abordagem estrat\u00e9gica posicionou a Neeva para oferecer experi\u00eancias de busca de alta qualidade, sem an\u00fancios, aos seus usu\u00e1rios, enquanto mant\u00e9m um forte foco no controle de custos e na inova\u00e7\u00e3o.",
        "",
        "\n",
        "Por isso podemos concluir que o `RAG` funcionou corretamente!!!"
      ]
    }
  ],
  "metadata": {
    "kernelspec": {
      "display_name": "rag",
      "language": "python",
      "name": "python3"
    },
    "maximofn": {
      "date": "2024-10-23",
      "description_es": "\u00a1Olv\u00eddate de Ctrl+F! \ud83e\udd2f Con RAG, tus documentos responder\u00e1n a tus preguntas directamente. \ud83d\ude0e Tutorial paso a paso con Hugging Face y ChromaDB. \u00a1Libera el poder de la IA (y presume con tus amigos)! \ud83d\udcaa",
      "description_en": "Forget about Ctrl+F! \ud83e\udd2f With RAG, your documents will answer your questions directly. \ud83d\ude0e Step-by-step tutorial with Hugging Face and ChromaDB. Unleash the power of AI (and show off to your friends)! \ud83d\udcaa",
      "description_pt": "Esque\u00e7a o Ctrl+F! \ud83e\udd2f Com RAG, seus documentos responder\u00e3o \u00e0s suas perguntas diretamente. \ud83d\ude0e Tutorial passo a passo com Hugging Face e ChromaDB. Liberte o poder da IA (e impressione seus amigos)! \ud83d\udcaa",
      "end_url": "RA-fundamentals",
      "image": "https://pub-fb664c455eca46a2ba762a065ac900f7.r2.dev/rag-fundamentals.webp",
      "keywords_en": "rag, retriever, reader, hugging face, transformers, chromadb, vector database, question-answering, qa, nlp, natural language processing, machine learning, artificial intelligence, ai",
      "keywords_es": "rag, retriever, reader, hugging face, transformers, chromadb, base de datos vectorial, question-answering, qa, nlp, procesamiento de lenguaje natural, machine learning, inteligencia artificial, ia",
      "keywords_pt": "rag, retriever, reader, hugging face, transformers, chromadb, banco de dados vetorial, question-answering, qa, nlp, processamento de linguagem natural, machine learning, intelig\u00eancia artificial, ia",
      "title_en": "RAG fundamentals",
      "title_es": "Fundamentos de RAG",
      "title_pt": "Fundamentos de RAG"
    },
    "language_info": {
      "codemirror_mode": {
        "name": "ipython",
        "version": 3
      },
      "file_extension": ".py",
      "mimetype": "text/x-python",
      "name": "python",
      "nbconvert_exporter": "python",
      "pygments_lexer": "ipython3",
      "version": "3.11.10"
    }
  },
  "nbformat": 4,
  "nbformat_minor": 2
}