{
  "cells": [
    {
      "cell_type": "markdown",
      "metadata": {},
      "source": [
        "# RAG: Fundamentos e técnicas avançadas"
      ]
    },
    {
      "cell_type": "markdown",
      "metadata": {},
      "source": [
        " > Aviso: Este post foi traduzido para o português usando um modelo de tradução automática. Por favor, me avise se encontrar algum erro."
      ]
    },
    {
      "cell_type": "markdown",
      "metadata": {},
      "source": [
        "Neste post vamos a ver em que consiste a técnica de `RAG` (`Retrieval Augmented Generation`) e como se pode implementar em um modelo de linguagem."
      ]
    },
    {
      "cell_type": "markdown",
      "metadata": {},
      "source": [
        "Para que saia de graça, em vez de usar uma conta do OpenAI (como você verá na maioria dos tutoriais) vamos usar o `API inference` do Hugging Face, que tem um plano gratuito de 1000 requisições por dia, que para fazer este post é mais do que suficiente."
      ]
    },
    {
      "cell_type": "markdown",
      "metadata": {},
      "source": [
        "## Configuração da `API Inference` da Hugging Face"
      ]
    },
    {
      "cell_type": "markdown",
      "metadata": {},
      "source": [
        "Para poder usar a `API Inference` da HuggingFace, o primeiro que você precisa é ter uma conta na HuggingFace, uma vez que a tenha, é necessário ir para [Access tokens](https://huggingface.co/settings/keys) nas configurações do seu perfil e gerar um novo token.\n",
        "\n",
        "Temos que colocar um nome, no meu caso vou colocá-lo como `rag-fundamentals` e habilitar a permissão `Make calls to serverless Inference API`. Será criado um token que temos que copiar"
      ]
    },
    {
      "cell_type": "markdown",
      "metadata": {},
      "source": [
        "Para gerenciar o token vamos a criar um arquivo na mesma rota em que estivermos trabalhando chamado `.env` e vamos a colocar o token que copiamos no arquivo da seguinte maneira:\n",
        "\n",
        "``` bash\n",
        "RAG_FUNDAMENTALS_ADVANCE_TECHNIQUES_TOKEN=\"hf_....\"\n",
        "```"
      ]
    },
    {
      "cell_type": "markdown",
      "metadata": {},
      "source": [
        "Agora para poder obter o token precisamos ter instalado `dotenv`, que o instalamos mediante\n",
        "\n",
        "```bash\n",
        "pip install python-dotenv\n",
        "```\n",
        "\n",
        "E executamos o seguinte"
      ]
    },
    {
      "cell_type": "code",
      "execution_count": 1,
      "metadata": {},
      "outputs": [],
      "source": [
        "import os\n",
        "import dotenv\n",
        "\n",
        "dotenv.load_dotenv()\n",
        "\n",
        "RAG_FUNDAMENTALS_ADVANCE_TECHNIQUES_TOKEN = os.getenv(\"RAG_FUNDAMENTALS_ADVANCE_TECHNIQUES_TOKEN\")"
      ]
    },
    {
      "cell_type": "markdown",
      "metadata": {},
      "source": [
        "Agora que temos um token, criamos um cliente, para isso precisamos ter instalada a biblioteca `huggingface_hub`, que fazemos mediante conda ou pip\n",
        "\n",
        "``` bash\n",
        "conda install -c conda-forge huggingface_hub\n",
        "```\n",
        "\n",
        "o\n",
        "\n",
        "``` bash\n",
        "pip install --upgrade huggingface_hub\n",
        "```"
      ]
    },
    {
      "cell_type": "markdown",
      "metadata": {},
      "source": [
        "Agora temos que escolher qual modelo vamos usar. Você pode ver os modelos disponíveis na página de [Supported models](https://huggingface.co/docs/api-inference/supported-models) da documentação da `API Inference` da Hugging Face.\n",
        "\n",
        "Como na hora de escrever o post, o melhor disponível é `Qwen2.5-72B-Instruct`, vamos usar esse modelo."
      ]
    },
    {
      "cell_type": "code",
      "execution_count": 2,
      "metadata": {},
      "outputs": [],
      "source": [
        "MODEL = \"Qwen/Qwen2.5-72B-Instruct\""
      ]
    },
    {
      "cell_type": "markdown",
      "metadata": {},
      "source": [
        "Agora podemos criar o cliente"
      ]
    },
    {
      "cell_type": "code",
      "execution_count": 3,
      "metadata": {},
      "outputs": [
        {
          "data": {
            "text/plain": [
              "<InferenceClient(model='Qwen/Qwen2.5-72B-Instruct', timeout=None)>"
            ]
          },
          "execution_count": 3,
          "metadata": {},
          "output_type": "execute_result"
        }
      ],
      "source": [
        "from huggingface_hub import InferenceClient\n",
        "\n",
        "client = InferenceClient(api_key=RAG_FUNDAMENTALS_ADVANCE_TECHNIQUES_TOKEN, model=MODEL)\n",
        "client"
      ]
    },
    {
      "cell_type": "markdown",
      "metadata": {},
      "source": [
        "Fazemos uma prova para ver se funciona"
      ]
    },
    {
      "cell_type": "code",
      "execution_count": 4,
      "metadata": {},
      "outputs": [
        {
          "name": "stdout",
          "output_type": "stream",
          "text": [
            "¡Hola! Estoy bien, gracias por preguntar. ¿Cómo estás tú? ¿En qué puedo ayudarte hoy?\n"
          ]
        }
      ],
      "source": [
        "message = [\n",
        "\t{ \"role\": \"user\", \"content\": \"Hola, qué tal?\" }\n",
        "]\n",
        "\n",
        "stream = client.chat.completions.create(\n",
        "\tmessages=message, \n",
        "\ttemperature=0.5,\n",
        "\tmax_tokens=1024,\n",
        "\ttop_p=0.7,\n",
        "\tstream=False\n",
        ")\n",
        "\n",
        "response = stream.choices[0].message.content\n",
        "print(response)"
      ]
    },
    {
      "cell_type": "markdown",
      "metadata": {},
      "source": [
        "## O que é `RAG`?"
      ]
    },
    {
      "cell_type": "markdown",
      "metadata": {},
      "source": [
        "`RAG` são as siglas de `Retrieval Augmented Generation`, é uma técnica criada para obter informações de documentos. Embora os LLMs possam chegar a ser muito poderosos e ter muito conhecimento, nunca vão ser capazes de responder sobre alguns documentos privados, como relatórios da sua empresa, documentação interna, etc. Por isso foi criado o `RAG`, para poder usar esses LLMs nessa documentação privada.\n",
        "\n",
        "![O que é RAG?](https://pub-fb664c455eca46a2ba762a065ac900f7.r2.dev/RAG.webp)"
      ]
    },
    {
      "cell_type": "markdown",
      "metadata": {},
      "source": [
        "A ideia consiste em que um usuário faz uma pergunta sobre essa documentação privada, o sistema é capaz de obter a parte da documentação na qual está a resposta para essa pergunta, passa-se a pergunta e a parte da documentação para um LLM e o LLM gera a resposta para o usuário"
      ]
    },
    {
      "cell_type": "markdown",
      "metadata": {},
      "source": [
        "### Como a informação é armazenada?"
      ]
    },
    {
      "cell_type": "markdown",
      "metadata": {},
      "source": [
        "É sabido, e se não sabia, agora estou te contando, que os LLMs têm um limite de informação que pode ser passada para eles, isso é chamado de janela de contexto. Isso ocorre devido às arquiteturas internas dos LLMs, que agora não vêm ao caso. Mas o importante é que não se pode passar um documento e uma pergunta sem mais, porque é provável que o LLM não seja capaz de processar toda essa informação.\n",
        "\n",
        "Nos casos em que se costuma passar mais informações do que a janela de contexto permite, o que geralmente acontece é que o LLM não presta atenção ao final da entrada. Imagine que você pergunte ao LLM algo sobre o seu documento, que essa informação esteja no final do documento e o LLM não a leia.\n",
        "\n",
        "Por isso, o que se faz é dividir a documentação em blocos chamados `chunk`s. De modo que a documentação é armazenada em um monte de `chunk`s, que são pedaços daquela documentação. Assim, quando o usuário faz uma pergunta, passa-se ao LLM o `chunk` em que está a resposta para aquela pergunta.\n",
        "\n",
        "Além de dividir a documentação em `chunk`s, esses são convertidos em embeddings, que são representações numéricas dos `chunk`s. Isso é feito porque os LLMs na verdade não entendem texto, mas números, e os `chunk`s são convertidos em números para que o LLM possa entendê-los. Se você quiser entender mais sobre os embeddings, pode ler meu post sobre [transformers](https://www.maximofn.com/transformers) no qual explico como funcionam os transformers, que é a arquitetura por trás dos LLMs. Você também pode ler meu post sobre [ChromaDB](https://www.maximofn.com/chromadb) onde explico como os embeddings são armazenados em um banco de dados vetorial. E além disso, seria interessante que lesse meu post sobre a biblioteca [HuggingFace Tokenizers](https://www.maximofn.com/hugging-face-tokenizers) na qual se explica como o texto é tokenizado, que é o passo anterior à geração dos embeddings\n",
        "\n",
        "![RAG - embeddings](https://pub-fb664c455eca46a2ba762a065ac900f7.r2.dev/RAG-embeddings.webp)"
      ]
    },
    {
      "cell_type": "markdown",
      "metadata": {},
      "source": [
        "### Como se obtém o `chunk` correto?"
      ]
    },
    {
      "cell_type": "markdown",
      "metadata": {},
      "source": [
        "Dissemos que a documentação se divide em `chunk`s e se passa ao LLM o `chunk` no qual está a resposta à pergunta do usuário. Mas, como se sabe em qual `chunk` está a resposta? Para isso, o que se faz é converter a pergunta do usuário em um embedding, e se calcula a similaridade entre o embedding da pergunta e os embeddings dos `chunk`s. De modo que o `chunk` com maior similaridade é o que se passa ao LLM.\n",
        "\n",
        "![RAG - semelhança de embeddings](https://pub-fb664c455eca46a2ba762a065ac900f7.r2.dev/rag-chunk_retreival.webp)"
      ]
    },
    {
      "cell_type": "markdown",
      "metadata": {},
      "source": [
        "### Vamos rever o que é `RAG`"
      ]
    },
    {
      "cell_type": "markdown",
      "metadata": {},
      "source": [
        "Por um lado, temos o `retrieval`, que é obter o `chunk` correto da documentação, por outro lado, temos o `augmented`, que é passar ao LLM a pergunta do usuário e o `chunk` e, por último, temos o `generation`, que é obter a resposta gerada pelo LLM."
      ]
    },
    {
      "cell_type": "markdown",
      "metadata": {},
      "source": [
        "## Base de dados vetorial"
      ]
    },
    {
      "cell_type": "markdown",
      "metadata": {},
      "source": [
        "Vimos que a documentação se divide em `chunk`s e é salva em um banco de dados vetorial, por isso precisamos usar um. Para este post vou usar [ChromaDB](https://www.trychroma.com/), que é um banco de dados vetorial bastante usado e sobre o qual também tenho um [post](https://www.maximofn.com/chromadb) em que explico como funciona."
      ]
    },
    {
      "cell_type": "markdown",
      "metadata": {},
      "source": [
        "Para isso, primeiro precisamos instalar a biblioteca do ChromaDB, para isso a instalamos com Conda ou com pip\n",
        "\n",
        "``` bash\n",
        "conda install conda-forge::chromadb\n",
        "```\n",
        "\n",
        "o\n",
        "\n",
        "``` bash\n",
        "pip install chromadb\n",
        "```"
      ]
    },
    {
      "cell_type": "markdown",
      "metadata": {},
      "source": [
        "### Função de embedding"
      ]
    },
    {
      "cell_type": "markdown",
      "metadata": {},
      "source": [
        "Como dissemos, tudo se baseará em embeddings, por isso o primeiro que fazemos é criar uma função para obter embeddings de um texto. Vamos usar o modelo `sentence-transformers/all-MiniLM-L6-v2`"
      ]
    },
    {
      "cell_type": "code",
      "execution_count": 5,
      "metadata": {},
      "outputs": [],
      "source": [
        "import chromadb.utils.embedding_functions as embedding_functions\n",
        "\n",
        "EMBEDDING_MODEL = \"sentence-transformers/all-MiniLM-L6-v2\"\n",
        "      \n",
        "huggingface_ef = embedding_functions.HuggingFaceEmbeddingFunction(\n",
        "    api_key=RAG_FUNDAMENTALS_ADVANCE_TECHNIQUES_TOKEN,\n",
        "    model_name=EMBEDDING_MODEL\n",
        ")"
      ]
    },
    {
      "cell_type": "markdown",
      "metadata": {},
      "source": [
        "Testamos a função de embedding"
      ]
    },
    {
      "cell_type": "code",
      "execution_count": 6,
      "metadata": {},
      "outputs": [
        {
          "data": {
            "text/plain": [
              "(384,)"
            ]
          },
          "execution_count": 6,
          "metadata": {},
          "output_type": "execute_result"
        }
      ],
      "source": [
        "embedding = huggingface_ef([\"Hello, how are you?\",])\n",
        "embedding[0].shape"
      ]
    },
    {
      "cell_type": "markdown",
      "metadata": {},
      "source": [
        "Obtemos um embedding de dimensão 384. Embora a missão deste post não seja explicar os embeddings, em resumo, nossa função de embedding categorizou a frase `Hello, how are you?` em um espaço de 384 dimensões."
      ]
    },
    {
      "cell_type": "markdown",
      "metadata": {},
      "source": [
        "### Cliente ChromaDB"
      ]
    },
    {
      "cell_type": "markdown",
      "metadata": {},
      "source": [
        "Agora que temos nossa função de embedding podemos criar um cliente de ChromaDB"
      ]
    },
    {
      "cell_type": "markdown",
      "metadata": {},
      "source": [
        "Primeiro criamos uma pasta onde será guardado o banco de dados vetorial"
      ]
    },
    {
      "cell_type": "code",
      "execution_count": 7,
      "metadata": {},
      "outputs": [],
      "source": [
        "from pathlib import Path\n",
        "      \n",
        "chroma_path = Path(\"chromadb_persisten_storage\")\n",
        "chroma_path.mkdir(exist_ok=True)"
      ]
    },
    {
      "cell_type": "markdown",
      "metadata": {},
      "source": [
        "Agora criamos o cliente"
      ]
    },
    {
      "cell_type": "code",
      "execution_count": 8,
      "metadata": {},
      "outputs": [],
      "source": [
        "from chromadb import PersistentClient\n",
        "\n",
        "chroma_client = PersistentClient(path = str(chroma_path))"
      ]
    },
    {
      "cell_type": "markdown",
      "metadata": {},
      "source": [
        "### Coleção"
      ]
    },
    {
      "cell_type": "markdown",
      "metadata": {},
      "source": [
        "Quando temos o cliente do ChromaDB, o seguinte que precisamos é criar uma coleção. Uma coleção é um conjunto de vetores, no nosso caso os `chunks` da documentação."
      ]
    },
    {
      "cell_type": "markdown",
      "metadata": {},
      "source": [
        "Criamos indicando-lhe a função de embedding que vamos a usar"
      ]
    },
    {
      "cell_type": "code",
      "execution_count": 9,
      "metadata": {},
      "outputs": [],
      "source": [
        "collection_name = \"document_qa_collection\"\n",
        "collection = chroma_client.get_or_create_collection(name=collection_name, embedding_function=huggingface_ef)"
      ]
    },
    {
      "cell_type": "markdown",
      "metadata": {},
      "source": [
        "## Carga de documentos"
      ]
    },
    {
      "cell_type": "markdown",
      "metadata": {},
      "source": [
        "Agora que criamos a base de dados vetorial, temos que dividir a documentação em `chunk`s e salvá-los na base de dados vetorial."
      ]
    },
    {
      "cell_type": "markdown",
      "metadata": {},
      "source": [
        "### Função de carregamento de documentos"
      ]
    },
    {
      "cell_type": "markdown",
      "metadata": {},
      "source": [
        "Primeiro criamos uma função para carregar todos os documentos `.txt` de um diretório"
      ]
    },
    {
      "cell_type": "code",
      "execution_count": 10,
      "metadata": {},
      "outputs": [],
      "source": [
        "def load_one_document_from_directory(directory, file):\n",
        "    with open(os.path.join(directory, file), \"r\") as f:\n",
        "        return {\"id\": file, \"text\": f.read()}\n",
        "\n",
        "def load_documents_from_directory(directory):\n",
        "    documents = []\n",
        "    for file in os.listdir(directory):\n",
        "        if file.endswith(\".txt\"):\n",
        "            documents.append(load_one_document_from_directory(directory, file))\n",
        "    return documents\n"
      ]
    },
    {
      "cell_type": "markdown",
      "metadata": {},
      "source": [
        "### Função para dividir a documentação em `chunk`s"
      ]
    },
    {
      "cell_type": "markdown",
      "metadata": {},
      "source": [
        "Uma vez que temos os documentos, os dividimos em `chunk`s"
      ]
    },
    {
      "cell_type": "code",
      "execution_count": 11,
      "metadata": {},
      "outputs": [],
      "source": [
        "def split_text(text, chunk_size=1000, chunk_overlap=20):\n",
        "    chunks = []\n",
        "    start = 0\n",
        "    while start < len(text):\n",
        "        end = start + chunk_size\n",
        "        chunks.append(text[start:end])\n",
        "        start = end - chunk_overlap\n",
        "    return chunks\n"
      ]
    },
    {
      "cell_type": "markdown",
      "metadata": {},
      "source": [
        "### Função para gerar embeddings de um `chunk`"
      ]
    },
    {
      "cell_type": "markdown",
      "metadata": {},
      "source": [
        "Agora que temos os `chunk`s, geramos os `embedding`s de cada um deles"
      ]
    },
    {
      "cell_type": "markdown",
      "metadata": {},
      "source": [
        "Depois veremos por quê, mas para gerar os embeddings vamos a fazê-lo de maneira local e não por meio da API da Hugging Face. Para isso, precisamos ter instalado o [PyTorch](https://pytorch.org) e `sentence-transformers`, para isso fazemos\n",
        "\n",
        "``` bash\n",
        "pip install -U sentence-transformers\n",
        "```"
      ]
    },
    {
      "cell_type": "code",
      "execution_count": 12,
      "metadata": {},
      "outputs": [],
      "source": [
        "from sentence_transformers import SentenceTransformer\n",
        "import torch\n",
        "\n",
        "device = torch.device(\"cuda\" if torch.cuda.is_available() else \"cpu\")\n",
        "\n",
        "embedding_model = SentenceTransformer(EMBEDDING_MODEL).to(device)\n",
        "\n",
        "def get_embeddings(text):\n",
        "    try:\n",
        "        embedding = embedding_model.encode(text, device=device)\n",
        "        return embedding\n",
        "    except Exception as e:\n",
        "        print(f\"Error: {e}\")\n",
        "        exit(1)"
      ]
    },
    {
      "cell_type": "markdown",
      "metadata": {},
      "source": [
        "Vamos a testar agora esta função de embeddings localmente"
      ]
    },
    {
      "cell_type": "code",
      "execution_count": 13,
      "metadata": {},
      "outputs": [
        {
          "data": {
            "text/plain": [
              "(384,)"
            ]
          },
          "execution_count": 13,
          "metadata": {},
          "output_type": "execute_result"
        }
      ],
      "source": [
        "text = \"Hello, how are you?\"\n",
        "embedding = get_embeddings(text)\n",
        "embedding.shape"
      ]
    },
    {
      "cell_type": "markdown",
      "metadata": {},
      "source": [
        "Vemos que obtemos um embedding da mesma dimensão que quando o fazíamos com a API da Hugging Face"
      ]
    },
    {
      "cell_type": "markdown",
      "metadata": {},
      "source": [
        "O modelo `sentence-transformers/all-MiniLM-L6-v2` tem apenas 22M de parâmetros, por isso você poderá executá-lo em qualquer GPU. Mesmo que você não tenha uma GPU, poderá executá-lo em uma CPU."
      ]
    },
    {
      "cell_type": "markdown",
      "metadata": {},
      "source": [
        "O LLM que vamos a usar para gerar as respostas, que é o `Qwen2.5-72B-Instruct`, como o seu nome indica, é um modelo de 72B de parâmetros, por isso este modelo não pode ser executado em qualquer GPU e em uma CPU é impensável devido à lentidão. Por isso, este LLM sim o usaremos por meio da API, mas na hora de gerar os `embedding`s podemos fazer localmente sem problemas"
      ]
    },
    {
      "cell_type": "markdown",
      "metadata": {},
      "source": [
        "### Documentos com os quais vamos testar"
      ]
    },
    {
      "cell_type": "markdown",
      "metadata": {},
      "source": [
        "Para fazer todas estas provas, eu baixei o conjunto de dados [aws-case-studies-and-blogs](https://www.kaggle.com/datasets/harshsinghal/aws-case-studies-and-blogs) e o coloquei na pasta `rag-txt_dataset`, com os seguintes comandos eu digo como baixá-lo e descomprimi-lo"
      ]
    },
    {
      "cell_type": "markdown",
      "metadata": {},
      "source": [
        "Criamos a pasta onde vamos baixar os documentos"
      ]
    },
    {
      "cell_type": "code",
      "execution_count": 30,
      "metadata": {},
      "outputs": [],
      "source": [
        "!mkdir rag_txt_dataset"
      ]
    },
    {
      "cell_type": "markdown",
      "metadata": {},
      "source": [
        "Descarregamos o `.zip` com os documentos"
      ]
    },
    {
      "cell_type": "code",
      "execution_count": 1,
      "metadata": {},
      "outputs": [
        {
          "name": "stdout",
          "output_type": "stream",
          "text": [
            "  % Total    % Received % Xferd  Average Speed   Time    Time     Time  Current\n",
            "                                 Dload  Upload   Total   Spent    Left  Speed\n",
            "  0     0    0     0    0     0      0      0 --:--:-- --:--:-- --:--:--     0\n",
            "100 1430k  100 1430k    0     0  1082k      0  0:00:01  0:00:01 --:--:-- 2440k\n"
          ]
        }
      ],
      "source": [
        "!curl -L -o ./rag_txt_dataset/archive.zip https://www.kaggle.com/api/v1/datasets/download/harshsinghal/aws-case-studies-and-blogs"
      ]
    },
    {
      "cell_type": "markdown",
      "metadata": {},
      "source": [
        "Descomprimimos o `.zip`"
      ]
    },
    {
      "cell_type": "code",
      "execution_count": 2,
      "metadata": {},
      "outputs": [
        {
          "name": "stdout",
          "output_type": "stream",
          "text": [
            "Archive:  rag_txt_dataset/archive.zip\n",
            "  inflating: rag_txt_dataset/23andMe Case Study _ Life Sciences _ AWS.txt  \n",
            "  inflating: rag_txt_dataset/36 new or updated datasets on the Registry of Open Data_ AI analysis-ready datasets and more _ AWS Public Sector Blog.txt  \n",
            "  inflating: rag_txt_dataset/54gene _ Case Study _ AWS.txt  \n",
            "  inflating: rag_txt_dataset/6sense Case Study.txt  \n",
            "  inflating: rag_txt_dataset/ADP Developed an Innovative and Secure Digital Wallet in a Few Months Using AWS Services _ Case Study _ AWS.txt  \n",
            "  inflating: rag_txt_dataset/AEON Case Study.txt  \n",
            "  inflating: rag_txt_dataset/ALTBalaji _ Amazon Web Services.txt  \n",
            "  inflating: rag_txt_dataset/AWS Case Study - Ineos Team UK.txt  \n",
            "  inflating: rag_txt_dataset/AWS Case Study - StreamAMG.txt  \n",
            "  inflating: rag_txt_dataset/AWS Case Study_ Creditsafe.txt  \n",
            "  inflating: rag_txt_dataset/AWS Case Study_ Immowelt.txt  \n",
            "  inflating: rag_txt_dataset/AWS Customer Case Study _ Kepler Provides Effective Monitoring of Elderly Care Home Residents Using AWS _ AWS.txt  \n",
            "  inflating: rag_txt_dataset/AWS announces 21 startups selected for the AWS generative AI accelerator _ AWS Startups Blog.txt  \n",
            "  inflating: rag_txt_dataset/AWS releases smart meter data analytics _ AWS for Industries.txt  \n",
            "  inflating: rag_txt_dataset/Accelerate Time to Business Value Using Amazon SageMaker at Scale with NatWest Group _ Case Study _ AWS.txt  \n",
            "  inflating: rag_txt_dataset/Accelerate Your Analytics Journey on AWS with DXC Analytics and AI Platform _ AWS Partner Network (APN) Blog.txt  \n",
            "  ...\n",
            "  inflating: rag_txt_dataset/Zomato Saves Big by Using AWS Graviton2 to Power Data-Driven Business Insights.txt  \n",
            "  inflating: rag_txt_dataset/Zoox Case Study _ Automotive _ AWS.txt  \n",
            "  inflating: rag_txt_dataset/e-banner Streamlines Its Contact Center Operations and Facilitates a Fully Remote Workforce with Amazon Connect _ e-banner Case Study _ AWS.txt  \n",
            "  inflating: rag_txt_dataset/iptiQ Case Study.txt  \n",
            "  inflating: rag_txt_dataset/mod.io Provides Low Latency Gamer Experience Globally on AWS _ Case Study _ AWS.txt  \n",
            "  inflating: rag_txt_dataset/myposter Case Study.txt  \n"
          ]
        }
      ],
      "source": [
        "!unzip rag_txt_dataset/archive.zip -d rag_txt_dataset"
      ]
    },
    {
      "cell_type": "markdown",
      "metadata": {},
      "source": [
        "Removamos o `.zip`"
      ]
    },
    {
      "cell_type": "code",
      "execution_count": 3,
      "metadata": {},
      "outputs": [],
      "source": [
        "!rm rag_txt_dataset/archive.zip"
      ]
    },
    {
      "cell_type": "markdown",
      "metadata": {},
      "source": [
        "Vemos o que nos quedou"
      ]
    },
    {
      "cell_type": "code",
      "execution_count": 4,
      "metadata": {},
      "outputs": [
        {
          "name": "stdout",
          "output_type": "stream",
          "text": [
            "'23andMe Case Study _ Life Sciences _ AWS.txt'\n",
            "'36 new or updated datasets on the Registry of Open Data_ AI analysis-ready datasets and more _ AWS Public Sector Blog.txt'\n",
            "'54gene _ Case Study _ AWS.txt'\n",
            "'6sense Case Study.txt'\n",
            "'Accelerate Time to Business Value Using Amazon SageMaker at Scale with NatWest Group _ Case Study _ AWS.txt'\n",
            "'Accelerate Your Analytics Journey on AWS with DXC Analytics and AI Platform _ AWS Partner Network (APN) Blog.txt'\n",
            "'Accelerating customer onboarding using Amazon Connect _ NCS Case Study _ AWS.txt'\n",
            "'Accelerating Migration at Scale Using AWS Application Migration Service with 3M Company _ Case Study _ AWS.txt'\n",
            "'Accelerating Time to Market Using AWS and AWS Partner AccelByte _ Omeda Studios Case Study _ AWS.txt'\n",
            "'Achieving Burstable Scalability and Consistent Uptime Using AWS Lambda with TiVo _ Case Study _ AWS.txt'\n",
            "'Acrobits Uses Amazon Chime SDK to Easily Create Video Conferencing Application Boosting Collaboration for Global Users _ Acrobits Case Study _ AWS.txt'\n",
            "'Actuate AI Case study.txt'\n",
            "'ADP Developed an Innovative and Secure Digital Wallet in a Few Months Using AWS Services _ Case Study _ AWS.txt'\n",
            "'Adzuna doubles its email open rates using Amazon SES _ Adzuna Case Study _ AWS.txt'\n",
            "'AEON Case Study.txt'\n",
            "'ALTBalaji _ Amazon Web Services.txt'\n",
            "'Amanotes Stays on Beat by Delivering Simple Music Games to Millions Worldwide on AWS.txt'\n",
            "'Amazon OpenSearch Services vector database capabilities explained _ AWS Big Data Blog.txt'\n",
            "'Anghami Case Study.txt'\n",
            "'Announcing enhanced table extractions with Amazon Textract _ AWS Machine Learning Blog.txt'\n",
            "...\n",
            "'What Will Generative AI Mean for Your Business_ _ AWS Cloud Enterprise Strategy Blog.txt'\n",
            "'Which Recurring Business Processes Can Small and Medium Businesses Automate_ _ AWS Smart Business Blog.txt'\n",
            " Windsor.txt\n",
            "'Wireless Car Case Study _ AWS IoT Core _ AWS.txt'\n",
            "'Yamato Logistics (HK) case study.txt'\n",
            "'Zomato Saves Big by Using AWS Graviton2 to Power Data-Driven Business Insights.txt'\n",
            "'Zoox Case Study _ Automotive _ AWS.txt'\n"
          ]
        }
      ],
      "source": [
        "!ls rag_txt_dataset"
      ]
    },
    {
      "cell_type": "markdown",
      "metadata": {},
      "source": [
        "### A criar os `chunk`s!"
      ]
    },
    {
      "cell_type": "markdown",
      "metadata": {},
      "source": [
        "Listamos os documentos com a função que havíamos criado"
      ]
    },
    {
      "cell_type": "code",
      "execution_count": 14,
      "metadata": {},
      "outputs": [],
      "source": [
        "dataset_path = \"rag_txt_dataset\"\n",
        "documents = load_documents_from_directory(dataset_path)"
      ]
    },
    {
      "cell_type": "markdown",
      "metadata": {},
      "source": [
        "Verificamos que o fizemos bem"
      ]
    },
    {
      "cell_type": "code",
      "execution_count": 15,
      "metadata": {},
      "outputs": [
        {
          "name": "stdout",
          "output_type": "stream",
          "text": [
            "Run Jobs at Scale While Optimizing for Cost Using Amazon EC2 Spot Instances with ActionIQ _ ActionIQ Case Study _ AWS.txt\n",
            "Recommend and dynamically filter items based on user context in Amazon Personalize _ AWS Machine Learning Blog.txt\n",
            "Windsor.txt\n",
            "Bank of Montreal Case Study _ AWS.txt\n",
            "The Mill Adventure Case Study.txt\n",
            "Optimize software development with Amazon CodeWhisperer _ AWS DevOps Blog.txt\n",
            "Announcing enhanced table extractions with Amazon Textract _ AWS Machine Learning Blog.txt\n",
            "THREAD _ Life Sciences _ AWS.txt\n",
            "Deep Pool Optimizes Software Quality Control Using Amazon QuickSight _ Deep Pool Case Study _ AWS.txt\n",
            "Upstox Saves 1 Million Annually Using Amazon S3 Storage Lens _ Upstox Case Study _ AWS.txt\n"
          ]
        }
      ],
      "source": [
        "for document in documents[0:10]:\n",
        "    print(document[\"id\"])"
      ]
    },
    {
      "cell_type": "markdown",
      "metadata": {},
      "source": [
        "Agora criamos os `chunk`s."
      ]
    },
    {
      "cell_type": "code",
      "execution_count": 16,
      "metadata": {},
      "outputs": [],
      "source": [
        "chunked_documents = []\n",
        "for document in documents:\n",
        "    chunks = split_text(document[\"text\"])\n",
        "    for i, chunk in enumerate(chunks):\n",
        "        chunked_documents.append({\"id\": f\"{document['id']}_{i}\", \"text\": chunk})"
      ]
    },
    {
      "cell_type": "code",
      "execution_count": 17,
      "metadata": {},
      "outputs": [
        {
          "data": {
            "text/plain": [
              "3611"
            ]
          },
          "execution_count": 17,
          "metadata": {},
          "output_type": "execute_result"
        }
      ],
      "source": [
        "len(chunked_documents)"
      ]
    },
    {
      "cell_type": "markdown",
      "metadata": {},
      "source": [
        "Como vemos, há 3611 `chunk`s. Como o limite diário da API da Hugging Face são 1000 chamadas na conta gratuita, se quisermos criar embeddings de todos os `chunk`s, acabaríamos as chamadas disponíveis e, além disso, não poderíamos criar embeddings de todos os `chunk`s"
      ]
    },
    {
      "cell_type": "markdown",
      "metadata": {},
      "source": [
        "Lembramos que este modelo de embeddings é muito pequeno, somente 22M de parâmetros, por isso quase em qualquer computador pode ser executado, mais rápido ou mais lento, mas é possível."
      ]
    },
    {
      "cell_type": "markdown",
      "metadata": {},
      "source": [
        "Como só vamos a criar os embeddings dos `chunk`s uma vez, embora não tenhamos um computador muito potente e leve muito tempo, só será executado uma vez. Depois, quando quisermos fazer perguntas sobre a documentação, aí sim geraremos os embeddings do prompt com a API da Hugging Face e usaremos o LLM com a API. Portanto, só vamos ter que passar pelo processo de gerar os embeddings dos `chunk`s uma vez"
      ]
    },
    {
      "cell_type": "markdown",
      "metadata": {},
      "source": [
        "Geramos os embeddings dos `chunk`s"
      ]
    },
    {
      "cell_type": "markdown",
      "metadata": {},
      "source": [
        "Última biblioteca que vamos a ter que instalar. Como o processo de gerar os embeddings dos `chunk`s vai ser lento, vamos a instalar `tqdm` para que nos mostre uma barra de progresso. A instalamos com conda ou com pip, como preferir.\n",
        "\n",
        "``` bash\n",
        "conda install conda-forge::tqdm\n",
        "```\n",
        "\n",
        "o\n",
        "\n",
        "``` bash\n",
        "pip install tqdm\n",
        "```"
      ]
    },
    {
      "cell_type": "markdown",
      "metadata": {},
      "source": [
        "Geramos os embeddings dos `chunk`s"
      ]
    },
    {
      "cell_type": "code",
      "execution_count": 19,
      "metadata": {},
      "outputs": [
        {
          "name": "stderr",
          "output_type": "stream",
          "text": [
            "100%|██████████| 3611/3611 [00:16<00:00, 220.75it/s]\n"
          ]
        }
      ],
      "source": [
        "import tqdm\n",
        "\n",
        "progress_bar = tqdm.tqdm(chunked_documents)\n",
        "\n",
        "for chunk in progress_bar:\n",
        "    embedding = get_embeddings(chunk[\"text\"])\n",
        "    if embedding is not None:\n",
        "        chunk[\"embedding\"] = embedding\n",
        "    else:\n",
        "        print(f\"Error with document {chunk['id']}\")"
      ]
    },
    {
      "cell_type": "markdown",
      "metadata": {},
      "source": [
        "Vejamos um exemplo"
      ]
    },
    {
      "cell_type": "code",
      "execution_count": 60,
      "metadata": {},
      "outputs": [
        {
          "name": "stdout",
          "output_type": "stream",
          "text": [
            "Chunk id: BNS Group Case Study _ Amazon Web Services.txt_0,\n",
            "\n",
            "text: Reducing Virtual Machines from 40 to 12\n",
            "The founders of BNS had been contemplating a migration from the company’s on-premises data center to the public cloud and observed a growing demand for cloud-based operations among current and potential BNS customers.\n",
            "Français\n",
            "Configures security according to cloud best practices\n",
            "Clive Pereira, R&D director at BNS Group, explains, “The database that records Praisal’s SMS traffic resides in Praisal’s AWS environment. Praisal can now run complete analytics across its data and gain insights into what’s happening with its SMS traffic, which is a real game-changer for the organization.”  \n",
            "Español\n",
            " AWS ISV Accelerate Program\n",
            " Receiving Strategic, Foundational Support from ISV Specialists\n",
            " Learn More\n",
            "The value that AWS places on the ISV stream sealed the deal in our choice of cloud provider.” \n",
            "日本語\n",
            "  Contact Sales \n",
            "BNS is an Australian software provider focused on secure enterprise SMS and fax messaging. Its software runs on the Windows platform and is l,\n",
            "\n",
            "embedding shape: (384,)\n"
          ]
        }
      ],
      "source": [
        "from random import randint\n",
        "\n",
        "idx = randint(0, len(chunked_documents))\n",
        "print(f\"Chunk id: {chunked_documents[idx]['id']},\\n\\ntext: {chunked_documents[idx]['text']},\\n\\nembedding shape: {chunked_documents[idx]['embedding'].shape}\")"
      ]
    },
    {
      "cell_type": "markdown",
      "metadata": {},
      "source": [
        "### Carregar os `chunk`s no banco de dados vetorial"
      ]
    },
    {
      "cell_type": "markdown",
      "metadata": {},
      "source": [
        "Uma vez que temos todos os chunks gerados, os carregamos na base de dados vetorial. Voltamos a usar `tqdm` para que nos mostre uma barra de progresso, porque isso também vai ser lento"
      ]
    },
    {
      "cell_type": "code",
      "execution_count": 22,
      "metadata": {},
      "outputs": [
        {
          "name": "stderr",
          "output_type": "stream",
          "text": [
            "100%|██████████| 3611/3611 [00:59<00:00, 60.77it/s]\n"
          ]
        }
      ],
      "source": [
        "import tqdm\n",
        "\n",
        "progress_bar = tqdm.tqdm(chunked_documents)\n",
        "\n",
        "for chunk in progress_bar:\n",
        "    collection.upsert(\n",
        "        ids=[chunk[\"id\"]],\n",
        "        documents=chunk[\"text\"],\n",
        "        embeddings=chunk[\"embedding\"],\n",
        "    )"
      ]
    },
    {
      "cell_type": "markdown",
      "metadata": {},
      "source": [
        "## Perguntas"
      ]
    },
    {
      "cell_type": "markdown",
      "metadata": {},
      "source": [
        "Agora que temos a base de dados vetorial, podemos fazer perguntas à documentação. Para isso, precisamos de uma função que nos devolva o `chunk` correto"
      ]
    },
    {
      "cell_type": "markdown",
      "metadata": {},
      "source": [
        "### Obter o `chunk` correto"
      ]
    },
    {
      "cell_type": "markdown",
      "metadata": {},
      "source": [
        "Agora precisamos de uma função que nos devolva o `chunk` correto, vamos criá-la"
      ]
    },
    {
      "cell_type": "code",
      "execution_count": 50,
      "metadata": {},
      "outputs": [],
      "source": [
        "def get_top_k_documents(query, k=5):\n",
        "    results = collection.query(query_texts=query, n_results=k)\n",
        "    return results"
      ]
    },
    {
      "cell_type": "markdown",
      "metadata": {},
      "source": [
        "Por último, criamos uma `query`.\n",
        "\n",
        "Para gerar a consulta, peguei aleatoriamente o documento `Using Amazon EC2 Spot Instances and Karpenter to Simplify and Optimize Kubernetes Infrastructure _ Neeva Case Study _ AWS.txt`, passei-o para um LLM e pedi que gerasse uma pergunta sobre o documento. A pergunta que gerou é\n",
        "\n",
        "```\n",
        "Como a Neeva utilizou o Karpenter e as Instâncias Spot da Amazon EC2 para melhorar a gestão de infraestrutura e a otimização de custos?\n",
        "```\n",
        "\n",
        "Então obtemos os `chunk`s mais relevantes para essa pergunta"
      ]
    },
    {
      "cell_type": "code",
      "execution_count": 51,
      "metadata": {},
      "outputs": [],
      "source": [
        "query = \"How did Neeva use Karpenter and Amazon EC2 Spot Instances to improve its infrastructure management and cost optimization?\"\n",
        "top_chunks = get_top_k_documents(query=query, k=5)"
      ]
    },
    {
      "cell_type": "markdown",
      "metadata": {},
      "source": [
        "Vamos a ver qué `chunk`s nos devolveu"
      ]
    },
    {
      "cell_type": "code",
      "execution_count": 52,
      "metadata": {},
      "outputs": [
        {
          "name": "stdout",
          "output_type": "stream",
          "text": [
            "Rank 1: Using Amazon EC2 Spot Instances and Karpenter to Simplify and Optimize Kubernetes Infrastructure _ Neeva Case Study _ AWS.txt_0, distance: 0.29233667254447937\n",
            "Rank 2: Using Amazon EC2 Spot Instances and Karpenter to Simplify and Optimize Kubernetes Infrastructure _ Neeva Case Study _ AWS.txt_5, distance: 0.4007825255393982\n",
            "Rank 3: Using Amazon EC2 Spot Instances and Karpenter to Simplify and Optimize Kubernetes Infrastructure _ Neeva Case Study _ AWS.txt_1, distance: 0.4317566752433777\n",
            "Rank 4: Using Amazon EC2 Spot Instances and Karpenter to Simplify and Optimize Kubernetes Infrastructure _ Neeva Case Study _ AWS.txt_6, distance: 0.43832334876060486\n",
            "Rank 5: Using Amazon EC2 Spot Instances and Karpenter to Simplify and Optimize Kubernetes Infrastructure _ Neeva Case Study _ AWS.txt_4, distance: 0.44625571370124817\n"
          ]
        }
      ],
      "source": [
        "for i in range(len(top_chunks[\"ids\"][0])):\n",
        "    print(f\"Rank {i+1}: {top_chunks['ids'][0][i]}, distance: {top_chunks['distances'][0][i]}\")"
      ]
    },
    {
      "cell_type": "markdown",
      "metadata": {},
      "source": [
        "Como eu havia dito, o documento que eu havia escolhido ao acaso era `Using Amazon EC2 Spot Instances and Karpenter to Simplify and Optimize Kubernetes Infrastructure _ Neeva Case Study _ AWS.txt` e como se pode ver os `chunk`s que nos devolveu são desse documento. Ou seja, de mais de 3000 `chunk`s que havia no banco de dados, foi capaz de devolver os `chunk`s mais relevantes diante disso, parece que isso funciona!"
      ]
    },
    {
      "cell_type": "markdown",
      "metadata": {},
      "source": [
        "### Gerar a resposta"
      ]
    },
    {
      "cell_type": "markdown",
      "metadata": {},
      "source": [
        "Como já temos os `chunk`s mais relevantes, passamos para o LLM, juntamente com a pergunta, para que este gere uma resposta"
      ]
    },
    {
      "cell_type": "code",
      "execution_count": 58,
      "metadata": {},
      "outputs": [],
      "source": [
        "def generate_response(query, relevant_chunks, temperature=0.5, max_tokens=1024, top_p=0.7, stream=False):\n",
        "    context = \"\\n\\n\".join([chunk for chunk in relevant_chunks])\n",
        "    prompt = f\"You are an assistant for question-answering. You have to answer the following question:\\n\\n{query}\\n\\nAnswer the question with the following information:\\n\\n{context}\"\n",
        "    message = [\n",
        "        { \"role\": \"user\", \"content\": prompt }\n",
        "    ]\n",
        "    stream = client.chat.completions.create(\n",
        "        messages=message, \n",
        "        temperature=temperature,\n",
        "        max_tokens=max_tokens,\n",
        "        top_p=top_p,\n",
        "        stream=stream,\n",
        "    )\n",
        "    response = stream.choices[0].message.content\n",
        "    return response"
      ]
    },
    {
      "cell_type": "markdown",
      "metadata": {},
      "source": [
        "Testamos a função"
      ]
    },
    {
      "cell_type": "code",
      "execution_count": 59,
      "metadata": {},
      "outputs": [
        {
          "name": "stdout",
          "output_type": "stream",
          "text": [
            "Neeva, a cloud-native, ad-free search engine founded in 2019, has leveraged Karpenter and Amazon EC2 Spot Instances to significantly improve its infrastructure management and cost optimization. Here’s how:\n",
            "\n",
            "### Early Collaboration with Karpenter\n",
            "In late 2021, Neeva began working closely with the Karpenter team, experimenting with and contributing fixes to an early version of Karpenter. This collaboration allowed Neeva to integrate Karpenter with its Kubernetes dashboard, enabling the company to gather valuable metrics on usage and performance.\n",
            "\n",
            "### Combining Spot Instances and On-Demand Instances\n",
            "Neeva runs its jobs on a large scale, which can lead to significant costs. To manage these costs effectively, the company adopted a combination of Amazon EC2 Spot Instances and On-Demand Instances. Spot Instances allow Neeva to bid on unused EC2 capacity, often at a fraction of the On-Demand price, while On-Demand Instances provide the necessary reliability for critical pipelines.\n",
            "\n",
            "### Flexibility and Instance Diversification\n",
            "According to Mohit Agarwal, infrastructure engineering lead at Neeva, Karpenter's adoption of best practices for Spot Instances, including flexibility and instance diversification, has been crucial. This approach ensures that Neeva can dynamically adjust its compute resources to meet varying workloads while minimizing costs.\n",
            "\n",
            "### Improved Scalability and Agility\n",
            "By using Karpenter to provision infrastructure resources for its Amazon EKS clusters, Neeva has achieved several key benefits:\n",
            "- **Scalability**: Neeva can scale its compute resources up or down as needed, ensuring that it always has the necessary capacity to handle its workloads.\n",
            "- **Agility**: The company can iterate quickly and democratize infrastructure changes, reducing the time spent on systems administration by up to 100 hours per week.\n",
            "\n",
            "### Enhanced Development Cycles\n",
            "The integration of Karpenter and Spot Instances has also accelerated Neeva's development cycles. The company can now launch new features and improvements more rapidly, which is essential for maintaining a competitive edge in the search engine market.\n",
            "\n",
            "### Cost Savings and Budget Control\n",
            "Using Spot Instances, Neeva has been able to stay within its budget while meeting its performance requirements. This cost optimization is critical for a company that prioritizes user-first experiences and has no competing incentives from advertising.\n",
            "\n",
            "### Future Plans\n",
            "Neeva is committed to continuing its innovation and expansion. The company plans to launch in new regions and further improve its search engine, all while maintaining cost efficiency. As Mohit Agarwal notes, \"The bulk of our compute is or will be managed using Karpenter going forward.\"\n",
            "\n",
            "### Conclusion\n",
            "By leveraging Karpenter and Amazon EC2 Spot Instances, Neeva has not only optimized its infrastructure costs but also enhanced its scalability, agility, and development speed. This strategic approach has positioned Neeva to deliver high-quality, ad-free search experiences to its users while maintaining a strong focus on cost control and innovation.\n"
          ]
        }
      ],
      "source": [
        "response = generate_response(query, top_chunks[\"documents\"][0])\n",
        "print(response)"
      ]
    },
    {
      "cell_type": "markdown",
      "metadata": {},
      "source": [
        "Quando pedi ao LLM que me gerasse uma pergunta sobre o documento, também pedi que me gerasse a resposta correta. Esta é a resposta que o LLM me deu\n",
        "\n",
        "``` text\n",
        "A Neeva utilizou o Karpenter e as Instâncias Spot da Amazon EC2 para melhorar o gerenciamento de infraestrutura e a otimização de custos de várias maneiras:\n",
        "\n",
        "Gerenciamento de Instâncias Simplificado:\n",
        "\n",
        "Karpenter: Ao adotar o Karpenter, a Neeva simplificou o processo de provisionamento e gerenciamento de recursos de computação para seus clusters Amazon EKS. O Karpenter provisiona e desprovisiona instâncias automaticamente com base na carga de trabalho, eliminando a necessidade de configurações manuais e reduzindo a complexidade de entender diferentes instâncias de computação.\n",
        "Instâncias Spot: A Neeva aproveitou as Instâncias Spot da Amazon EC2, que são capacidades EC2 não utilizadas disponíveis com um desconto significativo (até 90% de economia de custos). Isso permitiu que a empresa controlasse os custos ao mesmo tempo em que atendia aos seus requisitos de desempenho.\n",
        "Escalabilidade Aprimorada:\n",
        "\n",
        "Karpenter: A capacidade do Karpenter de dimensionar dinamicamente os recursos permitiu que a Neeva iniciasse novas instâncias rapidamente, permitindo que a empresa iterasse com uma velocidade maior e executasse mais experimentos em menos tempo.\n",
        "Instâncias Spot: O uso de Instâncias Spot forneceu flexibilidade e diversificação de instâncias, tornando mais fácil para a Neeva dimensionar seus recursos de computação de forma eficiente.\n",
        "Melhoria da Produtividade:\n",
        "\n",
        "Karpenter: Ao democratizar as alterações de infraestrutura, o Karpenter permitiu que qualquer engenheiro modificasse as configurações do Kubernetes, reduzindo a dependência de especialidades. Isso economizou para a equipe da Neeva até 100 horas por semana de tempo de espera na administração de sistemas.\n",
        "Instâncias Spot: A capacidade de provisionar e desprovisionar rapidamente instâncias Spot reduziu os atrasos no pipeline de desenvolvimento, garantindo que os trabalhos não ficassem presos devido à falta de recursos disponíveis.\n",
        "Eficiência de Custo:\n",
        "\n",
        "Karpenter: As melhores práticas do Karpenter para Instâncias Spot, incluindo flexibilidade e diversificação de instâncias, ajudaram a Neeva a usar essas instâncias de forma mais eficaz, permanecendo dentro do orçamento.\n",
        "Instâncias Spot: As economias de custo decorrentes do uso de Instâncias Spot permitiram que a Neeva executasse trabalhos em larga escala, como indexação, por quase o mesmo custo, mas em uma fração do tempo. Por exemplo, a Neeva reduziu seus trabalhos de indexação de 18 horas para apenas 3 horas.\n",
        "Melhor Utilização de Recursos:\n",
        "\n",
        "Karpenter: O Karpenter forneceu uma visibilidade melhor sobre o uso de recursos de computação, permitindo que a Neeva acompanhasse e otimizasse seu consumo de recursos de forma mais próxima.\n",
        "Instâncias Spot: A combinação de Karpenter e Instâncias Spot permitiu que a Neeva executasse grandes modelos de linguagem de forma mais eficiente, aprimorando a experiência de pesquisa para seus usuários.\n",
        "Em resumo, a adoção do Karpenter e das Instâncias Spot da Amazon EC2 pela Neeva melhorou significativamente a gestão de infraestrutura, a otimização de custos e a eficiência geral de desenvolvimento, permitindo que a empresa forneça melhores experiências de busca sem anúncios aos seus usuários.\n",
        "```\n",
        "\n",
        "E esta foi a resposta gerada pelo nosso `RAG`\n",
        "\n",
        "``` text\n",
        "Neeva, um mecanismo de busca nativo em nuvem e sem anúncios, fundado em 2019, aproveitou o Karpenter e as Instâncias Spot da Amazon EC2 para melhorar significativamente a gestão de sua infraestrutura e a otimização de custos. Veja como:\n",
        "\n",
        "### Colaboração Inicial com Karpenter\n",
        "No es necesario traducir a portugues, el texto dice que se debe traducir al portugues texto markdown, pero el texto proporcionado ya está en español, sin embargo, si se refiere a traducir al portugues, aquí está la traducción:\n",
        "\n",
        "Fim de 2021, a Neeva começou a trabalhar em estreita colaboração com a equipe do Karpenter, experimentando e contribuindo com correções para uma versão inicial do Karpenter. Essa colaboração permitiu que a Neeva integrasse o Karpenter com o painel do Kubernetes, habilitando a empresa a coletar métricas valiosas sobre uso e desempenho.\n",
        "\n",
        "### Combinando Instâncias Spot e Instâncias On-Demand\n",
        "A Neeva executa seus trabalhos em larga escala, o que pode levar a custos significativos. Para gerenciar esses custos de forma eficaz, a empresa adotou uma combinação de Instâncias Spot da Amazon EC2 e Instâncias On-Demand. As Instâncias Spot permitem que a Neeva faça ofertas sobre a capacidade não utilizada da EC2, frequentemente por uma fração do preço On-Demand, enquanto as Instâncias On-Demand fornecem a confiabilidade necessária para pipelines críticos.\n",
        "\n",
        "### Flexibilidade e Diversificação de Instâncias\n",
        "De acordo com Mohit Agarwal, líder de engenharia de infraestrutura da Neeva, a adoção de Karpenter das melhores práticas para Instâncias Spot, incluindo flexibilidade e diversificação de instâncias, foi crucial. Essa abordagem garante que a Neeva possa ajustar dinamicamente seus recursos de computação para atender a cargas de trabalho variadas, minimizando os custos.\n",
        "\n",
        "### Melhorada Escalabilidade e Agilidade\n",
        "Ao utilizar o Karpenter para provisionar recursos de infraestrutura para seus clusters Amazon EKS, a Neeva alcançou vários benefícios importantes:\n",
        "- **Escalabilidade**: Neeva pode dimensionar seus recursos de computação para cima ou para baixo conforme necessário, garantindo que sempre tenha a capacidade necessária para lidar com suas cargas de trabalho.\n",
        "- **Agilidade**: A empresa pode iterar rapidamente e democratizar as alterações de infraestrutura, reduzindo o tempo gasto em administração de sistemas em até 100 horas por semana.\n",
        "\n",
        "### Ciclos de Desenvolvimento Aprimorados\n",
        "A integração do Karpenter e das Instâncias Spot também acelerou os ciclos de desenvolvimento da Neeva. A empresa agora pode lançar novos recursos e melhorias mais rapidamente, o que é essencial para manter uma vantagem competitiva no mercado de mecanismos de busca.\n",
        "\n",
        "### Economia de Custo e Controle Orçamentário\n",
        "Usando Instâncias Spot, a Neeva conseguiu permanecer dentro do seu orçamento ao mesmo tempo em que atende aos seus requisitos de desempenho. Essa otimização de custos é fundamental para uma empresa que prioriza experiências centradas no usuário e não tem incentivos concorrentes de publicidade.\n",
        "\n",
        "### Planos Futuros\n",
        "A Neeva está comprometida em continuar sua inovação e expansão. A empresa planeja lançar em novas regiões e melhorar ainda mais seu mecanismo de busca, mantendo ao mesmo tempo a eficiência de custos. Como Mohit Agarwal observa, \"A maior parte de nosso processamento é ou será gerenciada usando Karpenter em frente.\"\n",
        "\n",
        "### Conclusão\n",
        "Aproveitando Karpenter e Instâncias Spot da Amazon EC2, a Neeva não apenas otimizou seus custos de infraestrutura, mas também melhorou sua escalabilidade, agilidade e velocidade de desenvolvimento. Essa abordagem estratégica posicionou a Neeva para oferecer experiências de busca de alta qualidade e sem anúncios aos seus usuários, mantendo um forte foco no controle de custos e inovação.\n",
        "```\n",
        "\n",
        "Por lo que podemos concluir que el `RAG` ha funcionado correctamente!!! \n",
        "\n",
        "Debería ser:\n",
        " \n",
        "Por lo que podemos concluir que o `RAG` funcionou corretamente!!!"
      ]
    }
  ],
  "metadata": {
    "kernelspec": {
      "display_name": "rag",
      "language": "python",
      "name": "python3"
    },
    "language_info": {
      "codemirror_mode": {
        "name": "ipython",
        "version": 3
      },
      "file_extension": ".py",
      "mimetype": "text/x-python",
      "name": "python",
      "nbconvert_exporter": "python",
      "pygments_lexer": "ipython3",
      "version": "3.11.10"
    },
    "maximofn": {
      "date": "2024-10-23",
      "description_en": "Forget about Ctrl+F! 🤯 With RAG, your documents will answer your questions directly. 😎 Step-by-step tutorial with Hugging Face and ChromaDB. Unleash the power of AI (and show off to your friends)! 💪",
      "description_es": "¡Olvídate de Ctrl+F! 🤯 Con RAG, tus documentos responderán a tus preguntas directamente. 😎 Tutorial paso a paso con Hugging Face y ChromaDB. ¡Libera el poder de la IA (y presume con tus amigos)! 💪",
      "description_pt": "Esqueça o Ctrl+F! 🤯 Com RAG, seus documentos responderão às suas perguntas diretamente. 😎 Tutorial passo a passo com Hugging Face e ChromaDB. Liberte o poder da IA (e impressione seus amigos)! 💪",
      "end_url": "rag-fundamentals",
      "image": "https://pub-fb664c455eca46a2ba762a065ac900f7.r2.dev/rag-fundamentals.webp",
      "keywords_en": "rag, retriever, reader, hugging face, transformers, chromadb, vector database, question-answering, qa, nlp, natural language processing, machine learning, artificial intelligence, ai",
      "keywords_es": "rag, retriever, reader, hugging face, transformers, chromadb, base de datos vectorial, question-answering, qa, nlp, procesamiento de lenguaje natural, machine learning, inteligencia artificial, ia",
      "keywords_pt": "rag, retriever, reader, hugging face, transformers, chromadb, banco de dados vetorial, question-answering, qa, nlp, processamento de linguagem natural, machine learning, inteligência artificial, ia",
      "title_en": "RAG fundamentals",
      "title_es": "Fundamentos de RAG",
      "title_pt": "Fundamentos de RAG"
    }
  },
  "nbformat": 4,
  "nbformat_minor": 2
}
