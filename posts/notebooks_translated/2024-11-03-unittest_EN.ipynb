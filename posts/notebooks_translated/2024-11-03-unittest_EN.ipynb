{
  "cells": [
    {
      "cell_type": "markdown",
      "metadata": {},
      "source": [
        "# unittest Python"
      ]
    },
    {
      "cell_type": "markdown",
      "metadata": {},
      "source": [
        " > Disclaimer: This post has been translated to English using a machine translation model. Please, let me know if you find any mistakes."
      ]
    },
    {
      "cell_type": "markdown",
      "metadata": {},
      "source": [
        "To create this post, we are going to create a folder called `testing_python` where we will create all the code."
      ]
    },
    {
      "cell_type": "code",
      "execution_count": 1,
      "metadata": {},
      "outputs": [],
      "source": [
        "!mkdir testing_python"
      ]
    },
    {
      "cell_type": "markdown",
      "metadata": {},
      "source": [
        "Inside that folder we are going to create the `src` and `tests` folders where we will put the source code and the respective tests."
      ]
    },
    {
      "cell_type": "code",
      "execution_count": 3,
      "metadata": {},
      "outputs": [],
      "source": [
        "!mkdir testing_python/src\n",
        "!mkdir testing_python/tests"
      ]
    },
    {
      "cell_type": "markdown",
      "metadata": {},
      "source": [
        "## Necessary Libraries"
      ]
    },
    {
      "cell_type": "markdown",
      "metadata": {},
      "source": [
        "To run the tests we are going to use the `unittest` library that comes by default with Python, but we will also install `coverage` to see the test coverage. We install it with Conda",
        "\n",
        "```bash\n",
        "conda install conda-forge::coverage",
        "```\n",
        "\n",
        "Or with pip",
        "\n",
        "```bash\n",
        "pip install coverage",
        "```"
      ]
    },
    {
      "cell_type": "markdown",
      "metadata": {},
      "source": [
        "## First tests"
      ]
    },
    {
      "cell_type": "markdown",
      "metadata": {},
      "source": [
        "Let's create a first file called `calculator.py` in the `src` folder"
      ]
    },
    {
      "cell_type": "code",
      "execution_count": null,
      "metadata": {},
      "outputs": [],
      "source": [
        "!echo \"def sum(a, b):\"           > testing_python/src/calculator.py\n",
        "!echo \"    return a + b\"        >> testing_python/src/calculator.py\n",
        "!echo \"\"                        >> testing_python/src/calculator.py\n",
        "!echo \"def substract(a, b):\"    >> testing_python/src/calculator.py\n",
        "!echo \"    return a - b\"        >> testing_python/src/calculator.py\n",
        "!echo \"\"                        >> testing_python/src/calculator.py\n",
        "!echo \"def multiply(a, b):\"     >> testing_python/src/calculator.py\n",
        "!echo \"    return a * b\"        >> testing_python/src/calculator.py\n",
        "!echo \"\"                        >> testing_python/src/calculator.py\n",
        "!echo \"def divide(a, b):\"       >> testing_python/src/calculator.py\n",
        "!echo \"    return a / b\"        >> testing_python/src/calculator.py"
      ]
    },
    {
      "cell_type": "markdown",
      "metadata": {},
      "source": [
        "Now we create a file called `test_calculator.py` in the `tests` folder"
      ]
    },
    {
      "cell_type": "code",
      "execution_count": null,
      "metadata": {},
      "outputs": [],
      "source": [
        "!echo \"import unittest\"                                                  >  testing_python/tests/test_calculator.py\n",
        "!echo \"from src.calculator import sum, substract, multiply, divide\"     >> testing_python/tests/test_calculator.py\n",
        "!echo \"\"                                                                >> testing_python/tests/test_calculator.py\n",
        "!echo \"class TestCalculator(unittest.TestCase):\"                        >> testing_python/tests/test_calculator.py\n",
        "!echo \"    def test_sum(self):\"                                         >> testing_python/tests/test_calculator.py\n",
        "!echo \"        self.assertEqual(sum(2, 2), 4)\"                          >> testing_python/tests/test_calculator.py\n",
        "!echo \"\"                                                                >> testing_python/tests/test_calculator.py\n",
        "!echo \"    def test_substract(self):\"                                   >> testing_python/tests/test_calculator.py\n",
        "!echo \"        self.assertEqual(substract(2, 1), 1)\"                    >> testing_python/tests/test_calculator.py\n",
        "!echo \"\"                                                                >> testing_python/tests/test_calculator.py\n",
        "!echo \"    def test_multiply(self):\"                                    >> testing_python/tests/test_calculator.py\n",
        "!echo \"        self.assertEqual(multiply(2, 3), 6)\"                     >> testing_python/tests/test_calculator.py\n",
        "!echo \"\"                                                                >> testing_python/tests/test_calculator.py\n",
        "!echo \"    def test_divide(self):\"                                      >> testing_python/tests/test_calculator.py\n",
        "!echo \"        self.assertEqual(divide(6, 3), 2)\"                       >> testing_python/tests/test_calculator.py"
      ]
    },
    {
      "cell_type": "markdown",
      "metadata": {},
      "source": [
        "Now to run it we do `python -m unittest tests/test_calculator.py discover -s tests`"
      ]
    },
    {
      "cell_type": "code",
      "execution_count": 38,
      "metadata": {},
      "outputs": [
        {
          "name": "stdout",
          "output_type": "stream",
          "text": [
            "....\n",
            "----------------------------------------------------------------------\n",
            "Ran 4 tests in 0.000s\n",
            "\n",
            "OK\n"
          ]
        }
      ],
      "source": [
        "!cd testing_python && python -m unittest tests/test_calculator.py"
      ]
    },
    {
      "cell_type": "markdown",
      "metadata": {},
      "source": [
        "As we can see, four dots appear for the two tests that have been passed and were correct."
      ]
    },
    {
      "cell_type": "markdown",
      "metadata": {},
      "source": [
        "Let's modify the test file to cause an error, we're going to make it so that adding 2 and 2 gives us 5."
      ]
    },
    {
      "cell_type": "code",
      "execution_count": null,
      "metadata": {},
      "outputs": [],
      "source": [
        "!echo \"import unittest\"                                                  >  testing_python/tests/test_calculator.py\n",
        "!echo \"from src.calculator import sum, substract, multiply, divide\"     >> testing_python/tests/test_calculator.py\n",
        "!echo \"\"                                                                >> testing_python/tests/test_calculator.py\n",
        "!echo \"class TestCalculator(unittest.TestCase):\"                        >> testing_python/tests/test_calculator.py\n",
        "!echo \"    def test_sum(self):\"                                         >> testing_python/tests/test_calculator.py\n",
        "!echo \"        self.assertEqual(sum(2, 2), 5)\"                          >> testing_python/tests/test_calculator.py\n",
        "!echo \"\"                                                                >> testing_python/tests/test_calculator.py\n",
        "!echo \"    def test_substract(self):\"                                   >> testing_python/tests/test_calculator.py\n",
        "!echo \"        self.assertEqual(substract(2, 1), 1)\"                    >> testing_python/tests/test_calculator.py\n",
        "!echo \"\"                                                                >> testing_python/tests/test_calculator.py\n",
        "!echo \"    def test_multiply(self):\"                                    >> testing_python/tests/test_calculator.py\n",
        "!echo \"        self.assertEqual(multiply(2, 3), 6)\"                     >> testing_python/tests/test_calculator.py\n",
        "!echo \"\"                                                                >> testing_python/tests/test_calculator.py\n",
        "!echo \"    def test_divide(self):\"                                      >> testing_python/tests/test_calculator.py\n",
        "!echo \"        self.assertEqual(divide(6, 3), 2)\"                       >> testing_python/tests/test_calculator.py"
      ]
    },
    {
      "cell_type": "markdown",
      "metadata": {},
      "source": [
        "Now we run the tests"
      ]
    },
    {
      "cell_type": "code",
      "execution_count": 40,
      "metadata": {},
      "outputs": [
        {
          "name": "stdout",
          "output_type": "stream",
          "text": [
            "...F\n",
            "======================================================================\n",
            "FAIL: test_sum (tests.test_calculator.TestCalculator)\n",
            "----------------------------------------------------------------------\n",
            "Traceback (most recent call last):\n",
            "  File \"/home/wallabot/Documentos/web/portafolio/posts/testing_python/tests/test_calculator.py\", line 6, in test_sum\n",
            "    self.assertEqual(sum(2, 2), 5)\n",
            "AssertionError: 4 != 5\n",
            "\n",
            "----------------------------------------------------------------------\n",
            "Ran 4 tests in 0.000s\n",
            "\n",
            "FAILED (failures=1)\n"
          ]
        }
      ],
      "source": [
        "!cd testing_python && python -m unittest tests/test_calculator.py"
      ]
    },
    {
      "cell_type": "markdown",
      "metadata": {},
      "source": [
        "As we can see, now we get an `F` which means that a test has failed, in addition, it provides us with the following information",
        "\n",
        "```\n",
        "FAIL: test_sum (tests.test_calculator.TestCalculator)",
        "----------------------------------------------------------------------",
        "Traceback (most recent call last):",
        "File \"/home/wallabot/Documents/web/portfolio/posts/testing_python/tests/test_calculator.py\", line 6, in test_sum",
        "self.assertEqual(sum(2, 2), 5)",
        "AssertionError: 4 != 5",
        "```\n",
        "\n",
        "It's telling us that the test `test_sum` has failed on line 6, which is the one we modified, and that the expected result was 5 but the obtained result was 4."
      ]
    },
    {
      "cell_type": "markdown",
      "metadata": {},
      "source": [
        "One thing we haven't mentioned and is important is that we didn't call the methods `test_sum` and `test_subtract` directly; they were executed automatically. This is because methods that start with `test_` are the ones that get executed automatically."
      ]
    },
    {
      "cell_type": "markdown",
      "metadata": {},
      "source": [
        "A simpler way to run the tests is to use the `discover` command, which looks for all files starting with `test_` in the folder passed through the `-s` parameter."
      ]
    },
    {
      "cell_type": "markdown",
      "metadata": {},
      "source": [
        "First, we rewrite the tests properly."
      ]
    },
    {
      "cell_type": "code",
      "execution_count": null,
      "metadata": {},
      "outputs": [],
      "source": [
        "!echo \"import unittest\"                                                  >  testing_python/tests/test_calculator.py\n",
        "!echo \"from src.calculator import sum, substract, multiply, divide\"     >> testing_python/tests/test_calculator.py\n",
        "!echo \"\"                                                                >> testing_python/tests/test_calculator.py\n",
        "!echo \"class TestCalculator(unittest.TestCase):\"                        >> testing_python/tests/test_calculator.py\n",
        "!echo \"    def test_sum(self):\"                                         >> testing_python/tests/test_calculator.py\n",
        "!echo \"        self.assertEqual(sum(2, 2), 4)\"                          >> testing_python/tests/test_calculator.py\n",
        "!echo \"\"                                                                >> testing_python/tests/test_calculator.py\n",
        "!echo \"    def test_substract(self):\"                                   >> testing_python/tests/test_calculator.py\n",
        "!echo \"        self.assertEqual(substract(2, 1), 1)\"                    >> testing_python/tests/test_calculator.py\n",
        "!echo \"\"                                                                >> testing_python/tests/test_calculator.py\n",
        "!echo \"    def test_multiply(self):\"                                    >> testing_python/tests/test_calculator.py\n",
        "!echo \"        self.assertEqual(multiply(2, 3), 6)\"                     >> testing_python/tests/test_calculator.py\n",
        "!echo \"\"                                                                >> testing_python/tests/test_calculator.py\n",
        "!echo \"    def test_divide(self):\"                                      >> testing_python/tests/test_calculator.py\n",
        "!echo \"        self.assertEqual(divide(6, 3), 2)\"                       >> testing_python/tests/test_calculator.py"
      ]
    },
    {
      "cell_type": "markdown",
      "metadata": {},
      "source": [
        "And now we run the tests using `discover`"
      ]
    },
    {
      "cell_type": "code",
      "execution_count": 42,
      "metadata": {},
      "outputs": [
        {
          "name": "stdout",
          "output_type": "stream",
          "text": [
            "....\n",
            "----------------------------------------------------------------------\n",
            "Ran 4 tests in 0.000s\n",
            "\n",
            "OK\n"
          ]
        }
      ],
      "source": [
        "!cd testing_python && python -m unittest discover -s tests"
      ]
    },
    {
      "cell_type": "markdown",
      "metadata": {},
      "source": [
        "He found the tests and passed them successfully"
      ]
    },
    {
      "cell_type": "markdown",
      "metadata": {},
      "source": [
        "## Setting up the tests"
      ]
    },
    {
      "cell_type": "markdown",
      "metadata": {},
      "source": [
        "### `setUp`"
      ]
    },
    {
      "cell_type": "markdown",
      "metadata": {},
      "source": [
        "With the `unittest` library we can configure the tests, but to see it, first we are going to create a new code file called `bank_account.py` in the `src` folder."
      ]
    },
    {
      "cell_type": "code",
      "execution_count": 43,
      "metadata": {},
      "outputs": [],
      "source": [
        "!echo \"class BankAccount:\"                           > testing_python/src/bank_account.py\n",
        "!echo \"    def __init__(self, balance=0):\"          >> testing_python/src/bank_account.py\n",
        "!echo \"        self.balance = balance\"              >> testing_python/src/bank_account.py\n",
        "!echo \"\"                                            >> testing_python/src/bank_account.py\n",
        "!echo \"    def deposit(self, amount):\"              >> testing_python/src/bank_account.py\n",
        "!echo \"        if amount > 0:\"                      >> testing_python/src/bank_account.py\n",
        "!echo \"            self.balance += amount\"          >> testing_python/src/bank_account.py\n",
        "!echo \"        return self.balance\"                 >> testing_python/src/bank_account.py\n",
        "!echo \"\"                                            >> testing_python/src/bank_account.py\n",
        "!echo \"    def withdraw(self, amount):\"             >> testing_python/src/bank_account.py\n",
        "!echo \"        if amount > 0:\"                      >> testing_python/src/bank_account.py\n",
        "!echo \"            self.balance -= amount\"          >> testing_python/src/bank_account.py\n",
        "!echo \"        return self.balance\"                 >> testing_python/src/bank_account.py\n",
        "!echo \"\"                                            >> testing_python/src/bank_account.py\n",
        "!echo \"    def get_balance(self):\"                  >> testing_python/src/bank_account.py\n",
        "!echo \"        return self.balance\"                 >> testing_python/src/bank_account.py"
      ]
    },
    {
      "cell_type": "markdown",
      "metadata": {},
      "source": [
        "Now we add tests to the new code, creating a file called `test_bank_account.py` in the `tests` folder."
      ]
    },
    {
      "cell_type": "markdown",
      "metadata": {},
      "source": [
        "Let's create the test for adding a deposit first, that is, the `deposit` method."
      ]
    },
    {
      "cell_type": "code",
      "execution_count": null,
      "metadata": {},
      "outputs": [],
      "source": [
        "!echo \"import unittest\"                              > testing_python/tests/test_bank_account.py\n",
        "!echo \"from src.bank_account import BankAccount\"    >> testing_python/tests/test_bank_account.py\n",
        "!echo \"\"                                            >> testing_python/tests/test_bank_account.py\n",
        "!echo \"class TestBankAccount(unittest.TestCase):\"   >> testing_python/tests/test_bank_account.py\n",
        "!echo \"    def test_deposit(self):\"                 >> testing_python/tests/test_bank_account.py\n",
        "!echo \"        account = BankAccount()\"             >> testing_python/tests/test_bank_account.py\n",
        "!echo \"        new_balace = account.deposit(1500)\"  >> testing_python/tests/test_bank_account.py\n",
        "!echo \"        self.assertEqual(new_balace, 1500)\"  >> testing_python/tests/test_bank_account.py"
      ]
    },
    {
      "cell_type": "markdown",
      "metadata": {},
      "source": [
        "We pass the tests"
      ]
    },
    {
      "cell_type": "code",
      "execution_count": 45,
      "metadata": {},
      "outputs": [
        {
          "name": "stdout",
          "output_type": "stream",
          "text": [
            ".....\n",
            "----------------------------------------------------------------------\n",
            "Ran 5 tests in 0.000s\n",
            "\n",
            "OK\n"
          ]
        }
      ],
      "source": [
        "!cd testing_python && python -m unittest discover -s tests"
      ]
    },
    {
      "cell_type": "markdown",
      "metadata": {},
      "source": [
        "We see that there are five points, but we have only written one test, so we use the flag `-v` to get more information."
      ]
    },
    {
      "cell_type": "code",
      "execution_count": 46,
      "metadata": {},
      "outputs": [
        {
          "name": "stdout",
          "output_type": "stream",
          "text": [
            "test_deposit (test_bank_account.TestBankAccount) ... ok\n",
            "test_divide (test_calculator.TestCalculator) ... ok\n",
            "test_multiply (test_calculator.TestCalculator) ... ok\n",
            "test_substract (test_calculator.TestCalculator) ... ok\n",
            "test_sum (test_calculator.TestCalculator) ... ok\n",
            "\n",
            "----------------------------------------------------------------------\n",
            "Ran 5 tests in 0.000s\n",
            "\n",
            "OK\n"
          ]
        }
      ],
      "source": [
        "!cd testing_python && python -m unittest discover -s tests -v"
      ]
    },
    {
      "cell_type": "markdown",
      "metadata": {},
      "source": [
        "We see that `discover` has found the tests `test_calculator` and `test_bank_account` and both have passed."
      ]
    },
    {
      "cell_type": "markdown",
      "metadata": {},
      "source": [
        "Let's create the tests for the rest of the methods"
      ]
    },
    {
      "cell_type": "code",
      "execution_count": null,
      "metadata": {},
      "outputs": [],
      "source": [
        "!echo \"import unittest\"                              > testing_python/tests/test_bank_account.py\n",
        "!echo \"from src.bank_account import BankAccount\"    >> testing_python/tests/test_bank_account.py\n",
        "!echo \"\"                                            >> testing_python/tests/test_bank_account.py\n",
        "!echo \"class TestBankAccount(unittest.TestCase):\"   >> testing_python/tests/test_bank_account.py\n",
        "!echo \"    def test_deposit(self):\"                 >> testing_python/tests/test_bank_account.py\n",
        "!echo \"        account = BankAccount(balance=1000)\" >> testing_python/tests/test_bank_account.py\n",
        "!echo \"        new_balace = account.deposit(500)\"   >> testing_python/tests/test_bank_account.py\n",
        "!echo \"        self.assertEqual(new_balace, 1500)\"  >> testing_python/tests/test_bank_account.py\n",
        "!echo \"\"                                            >> testing_python/tests/test_bank_account.py\n",
        "!echo \"    def test_withdraw(self):\"                >> testing_python/tests/test_bank_account.py\n",
        "!echo \"        account = BankAccount(balance=1000)\" >> testing_python/tests/test_bank_account.py\n",
        "!echo \"        new_balace = account.withdraw(200)\"  >> testing_python/tests/test_bank_account.py\n",
        "!echo \"        self.assertEqual(new_balace, 800)\"   >> testing_python/tests/test_bank_account.py\n",
        "!echo \"\"                                            >> testing_python/tests/test_bank_account.py\n",
        "!echo \"    def test_get_balance(self):\"             >> testing_python/tests/test_bank_account.py\n",
        "!echo \"        account = BankAccount(balance=1000)\" >> testing_python/tests/test_bank_account.py\n",
        "!echo \"        balance = account.get_balance()\"     >> testing_python/tests/test_bank_account.py\n",
        "!echo \"        self.assertEqual(balance, 1000)\"     >> testing_python/tests/test_bank_account.py"
      ]
    },
    {
      "cell_type": "markdown",
      "metadata": {},
      "source": [
        "We pass the tests"
      ]
    },
    {
      "cell_type": "code",
      "execution_count": 48,
      "metadata": {},
      "outputs": [
        {
          "name": "stdout",
          "output_type": "stream",
          "text": [
            "test_deposit (test_bank_account.TestBankAccount) ... ok\n",
            "test_get_balance (test_bank_account.TestBankAccount) ... ok\n",
            "test_withdraw (test_bank_account.TestBankAccount) ... ok\n",
            "test_divide (test_calculator.TestCalculator) ... ok\n",
            "test_multiply (test_calculator.TestCalculator) ... ok\n",
            "test_substract (test_calculator.TestCalculator) ... ok\n",
            "test_sum (test_calculator.TestCalculator) ... ok\n",
            "\n",
            "----------------------------------------------------------------------\n",
            "Ran 7 tests in 0.000s\n",
            "\n",
            "OK\n"
          ]
        }
      ],
      "source": [
        "!cd testing_python && python -m unittest discover -s tests -v"
      ]
    },
    {
      "cell_type": "markdown",
      "metadata": {},
      "source": [
        "We see that they have passed successfully. Now let's look at one thing: in all the tests we did `account = BankAccount(balance=1000)` and then called the methods. This is because each test runs on a new object, meaning objects are not shared between tests.",
        "\n",
        "So we can use the `setUp` method to create an object that is shared among all tests."
      ]
    },
    {
      "cell_type": "code",
      "execution_count": null,
      "metadata": {},
      "outputs": [],
      "source": [
        "!echo \"import unittest\"                                      > testing_python/tests/test_bank_account.py\n",
        "!echo \"from src.bank_account import BankAccount\"            >> testing_python/tests/test_bank_account.py\n",
        "!echo \"\"                                                    >> testing_python/tests/test_bank_account.py\n",
        "!echo \"class TestBankAccount(unittest.TestCase):\"           >> testing_python/tests/test_bank_account.py\n",
        "!echo \"    def setUp(self):\"                                >> testing_python/tests/test_bank_account.py\n",
        "!echo \"        self.account = BankAccount(balance=1000)\"    >> testing_python/tests/test_bank_account.py\n",
        "!echo \"\"                                                    >> testing_python/tests/test_bank_account.py\n",
        "!echo \"    def test_deposit(self):\"                         >> testing_python/tests/test_bank_account.py\n",
        "!echo \"        new_balace = self.account.deposit(500)\"      >> testing_python/tests/test_bank_account.py\n",
        "!echo \"        self.assertEqual(new_balace, 1500)\"          >> testing_python/tests/test_bank_account.py\n",
        "!echo \"\"                                                    >> testing_python/tests/test_bank_account.py\n",
        "!echo \"    def test_withdraw(self):\"                        >> testing_python/tests/test_bank_account.py\n",
        "!echo \"        new_balace = self.account.withdraw(200)\"     >> testing_python/tests/test_bank_account.py\n",
        "!echo \"        self.assertEqual(new_balace, 800)\"           >> testing_python/tests/test_bank_account.py\n",
        "!echo \"\"                                                    >> testing_python/tests/test_bank_account.py\n",
        "!echo \"    def test_get_balance(self):\"                     >> testing_python/tests/test_bank_account.py\n",
        "!echo \"        balance = self.account.get_balance()\"        >> testing_python/tests/test_bank_account.py\n",
        "!echo \"        self.assertEqual(balance, 1000)\"             >> testing_python/tests/test_bank_account.py"
      ]
    },
    {
      "cell_type": "markdown",
      "metadata": {},
      "source": [
        "As we can see, we have created the account in the `setUp` method and removed the account creation in the tests. Let's run the tests."
      ]
    },
    {
      "cell_type": "code",
      "execution_count": 50,
      "metadata": {},
      "outputs": [
        {
          "name": "stdout",
          "output_type": "stream",
          "text": [
            "test_deposit (test_bank_account.TestBankAccount) ... ok\n",
            "test_get_balance (test_bank_account.TestBankAccount) ... ok\n",
            "test_withdraw (test_bank_account.TestBankAccount) ... ok\n",
            "test_divide (test_calculator.TestCalculator) ... ok\n",
            "test_multiply (test_calculator.TestCalculator) ... ok\n",
            "test_substract (test_calculator.TestCalculator) ... ok\n",
            "test_sum (test_calculator.TestCalculator) ... ok\n",
            "\n",
            "----------------------------------------------------------------------\n",
            "Ran 7 tests in 0.000s\n",
            "\n",
            "OK\n"
          ]
        }
      ],
      "source": [
        "!cd testing_python && python -m unittest discover -s tests -v"
      ]
    },
    {
      "cell_type": "markdown",
      "metadata": {},
      "source": [
        "### `tearDown`"
      ]
    },
    {
      "cell_type": "markdown",
      "metadata": {},
      "source": [
        "Just like with the `setUp` method we configure the environment before running the tests, with the `tearDown` method we can clean up the environment after running the tests. To test this, let's add to the code of `bank_account.py` that operations are written to a log file."
      ]
    },
    {
      "cell_type": "code",
      "execution_count": null,
      "metadata": {},
      "outputs": [],
      "source": [
        "!echo \"class BankAccount:\"                                                                   > testing_python/src/bank_account.py\n",
        "!echo \"    def __init__(self, balance=0, log_file=None):\"                                   >> testing_python/src/bank_account.py\n",
        "!echo \"        self.balance = balance\"                                                      >> testing_python/src/bank_account.py\n",
        "!echo \"        self.log_file = log_file\"                                                    >> testing_python/src/bank_account.py\n",
        "!echo \"        self._log_transaction('Account created')\"                                    >> testing_python/src/bank_account.py\n",
        "!echo \"\"                                                                                    >> testing_python/src/bank_account.py\n",
        "!echo \"    def _log_transaction(self, message):\"                                            >> testing_python/src/bank_account.py\n",
        "!echo \"        if self.log_file:\"                                                           >> testing_python/src/bank_account.py\n",
        "!echo \"            with open(self.log_file, 'a') as file:\"                                  >> testing_python/src/bank_account.py\n",
        "!echo \"                file.write(f'{message}\\\\\\\\n')\"                                       >> testing_python/src/bank_account.py\n",
        "!echo \"\"                                                                                    >> testing_python/src/bank_account.py\n",
        "!echo \"    def deposit(self, amount):\"                                                      >> testing_python/src/bank_account.py\n",
        "!echo \"        if amount > 0:\"                                                              >> testing_python/src/bank_account.py\n",
        "!echo \"            self.balance += amount\"                                                  >> testing_python/src/bank_account.py\n",
        "!echo \"            self._log_transaction(f'Deposit {amount}, new balance {self.balance}')\"  >> testing_python/src/bank_account.py\n",
        "!echo \"        return self.balance\"                                                         >> testing_python/src/bank_account.py\n",
        "!echo \"\"                                                                                    >> testing_python/src/bank_account.py\n",
        "!echo \"    def withdraw(self, amount):\"                                                     >> testing_python/src/bank_account.py\n",
        "!echo \"        if amount > 0:\"                                                              >> testing_python/src/bank_account.py\n",
        "!echo \"            self.balance -= amount\"                                                  >> testing_python/src/bank_account.py\n",
        "!echo \"            self._log_transaction(f'Withdraw {amount}, new balance {self.balance}')\" >> testing_python/src/bank_account.py\n",
        "!echo \"        return self.balance\"                                                         >> testing_python/src/bank_account.py\n",
        "!echo \"\"                                                                                    >> testing_python/src/bank_account.py\n",
        "!echo \"    def get_balance(self):\"                                                          >> testing_python/src/bank_account.py\n",
        "!echo \"        self._log_transaction(f'Balance check, balance {self.balance}')\"             >> testing_python/src/bank_account.py\n",
        "!echo \"        return self.balance\"                                                         >> testing_python/src/bank_account.py"
      ]
    },
    {
      "cell_type": "markdown",
      "metadata": {},
      "source": [
        "Now we add a test to the new method `_log_transaction`"
      ]
    },
    {
      "cell_type": "code",
      "execution_count": null,
      "metadata": {},
      "outputs": [],
      "source": [
        "!echo \"import unittest\"                                                                      > testing_python/tests/test_bank_account.py\n",
        "!echo \"import os\"                                                                           >> testing_python/tests/test_bank_account.py\n",
        "!echo \"from src.bank_account import BankAccount\"                                            >> testing_python/tests/test_bank_account.py\n",
        "!echo \"\"                                                                                    >> testing_python/tests/test_bank_account.py\n",
        "!echo \"class TestBankAccount(unittest.TestCase):\"                                           >> testing_python/tests/test_bank_account.py\n",
        "!echo \"    def setUp(self):\"                                                                >> testing_python/tests/test_bank_account.py\n",
        "!echo \"        self.account = BankAccount(balance=1000, log_file='test_log.txt')\"           >> testing_python/tests/test_bank_account.py\n",
        "!echo \"\"                                                                                    >> testing_python/tests/test_bank_account.py\n",
        "!echo \"    def test_deposit(self):\"                                                         >> testing_python/tests/test_bank_account.py\n",
        "!echo \"        new_balace = self.account.deposit(500)\"                                      >> testing_python/tests/test_bank_account.py\n",
        "!echo \"        self.assertEqual(new_balace, 1500)\"                                          >> testing_python/tests/test_bank_account.py\n",
        "!echo \"\"                                                                                    >> testing_python/tests/test_bank_account.py\n",
        "!echo \"    def test_withdraw(self):\"                                                        >> testing_python/tests/test_bank_account.py\n",
        "!echo \"        new_balace = self.account.withdraw(200)\"                                     >> testing_python/tests/test_bank_account.py\n",
        "!echo \"        self.assertEqual(new_balace, 800)\"                                           >> testing_python/tests/test_bank_account.py\n",
        "!echo \"\"                                                                                    >> testing_python/tests/test_bank_account.py\n",
        "!echo \"    def test_get_balance(self):\"                                                     >> testing_python/tests/test_bank_account.py\n",
        "!echo \"        balance = self.account.get_balance()\"                                        >> testing_python/tests/test_bank_account.py\n",
        "!echo \"        self.assertEqual(balance, 1000)\"                                             >> testing_python/tests/test_bank_account.py\n",
        "!echo \"\"                                                                                    >> testing_python/tests/test_bank_account.py\n",
        "!echo \"    def test_transaction_log(self):\"                                                 >> testing_python/tests/test_bank_account.py\n",
        "!echo \"        self.account.deposit(500)\"                                                   >> testing_python/tests/test_bank_account.py\n",
        "!echo \"        self.account.withdraw(200)\"                                                  >> testing_python/tests/test_bank_account.py\n",
        "!echo \"        self.account.get_balance()\"                                                  >> testing_python/tests/test_bank_account.py\n",
        "!echo \"        assert os.path.exists('test_log.txt')\"                                       >> testing_python/tests/test_bank_account.py\n",
        "!echo \"        with open('test_log.txt', 'r') as file:\"                                     >> testing_python/tests/test_bank_account.py\n",
        "!echo \"            content = file.readlines()\"                                              >> testing_python/tests/test_bank_account.py\n",
        "!echo \"        self.assertEqual(content, [\"                                                 >> testing_python/tests/test_bank_account.py\n",
        "!echo \"            'Account created\\\\\\n', \"                                                 >> testing_python/tests/test_bank_account.py\n",
        "!echo \"            'Deposit 500, new balance 1500\\\\\\n', \"                                   >> testing_python/tests/test_bank_account.py\n",
        "!echo \"            'Account created\\\\\\n', \"                                                 >> testing_python/tests/test_bank_account.py\n",
        "!echo \"            'Balance check, balance 1000\\\\\\n', \"                                     >> testing_python/tests/test_bank_account.py\n",
        "!echo \"            'Account created\\\\\\n', \"                                                 >> testing_python/tests/test_bank_account.py\n",
        "!echo \"            'Deposit 500, new balance 1500\\\\\\n', \"                                   >> testing_python/tests/test_bank_account.py\n",
        "!echo \"            'Withdraw 200, new balance 1300\\\\\\n', \"                                  >> testing_python/tests/test_bank_account.py\n",
        "!echo \"            'Balance check, balance 1300\\\\\\n'])\"                                     >> testing_python/tests/test_bank_account.py"
      ]
    },
    {
      "cell_type": "markdown",
      "metadata": {},
      "source": [
        "We pass the tests"
      ]
    },
    {
      "cell_type": "code",
      "execution_count": 93,
      "metadata": {},
      "outputs": [
        {
          "name": "stdout",
          "output_type": "stream",
          "text": [
            "test_deposit (test_bank_account.TestBankAccount) ... ok\n",
            "test_get_balance (test_bank_account.TestBankAccount) ... ok\n",
            "test_transaction_log (test_bank_account.TestBankAccount) ... FAIL\n",
            "test_withdraw (test_bank_account.TestBankAccount) ... ok\n",
            "test_divide (test_calculator.TestCalculator) ... ok\n",
            "test_multiply (test_calculator.TestCalculator) ... ok\n",
            "test_substract (test_calculator.TestCalculator) ... ok\n",
            "test_sum (test_calculator.TestCalculator) ... ok\n",
            "\n",
            "======================================================================\n",
            "FAIL: test_transaction_log (test_bank_account.TestBankAccount)\n",
            "----------------------------------------------------------------------\n",
            "Traceback (most recent call last):\n",
            "  File \"/home/wallabot/Documentos/web/portafolio/posts/testing_python/tests/test_bank_account.py\", line 28, in test_transaction_log\n",
            "    self.assertEqual(content, [\n",
            "AssertionError: Lists differ: ['Acc[224 chars]00\\n', 'Account created\\n', 'Withdraw 200, new[246 chars]0\\n'] != ['Acc[224 chars]00\\n']\n",
            "\n",
            "First list contains 10 additional elements.\n",
            "First extra element 8:\n",
            "'Account created\\n'\n",
            "\n",
            "  ['Account created\\n',\n",
            "   'Deposit 500, new balance 1500\\n',\n",
            "   'Account created\\n',\n",
            "   'Balance check, balance 1000\\n',\n",
            "   'Account created\\n',\n",
            "   'Deposit 500, new balance 1500\\n',\n",
            "   'Withdraw 200, new balance 1300\\n',\n",
            "-  'Balance check, balance 1300\\n',\n",
            "-  'Account created\\n',\n",
            "-  'Withdraw 200, new balance 800\\n',\n",
            "-  'Account created\\n',\n",
            "-  'Deposit 500, new balance 1500\\n',\n",
            "-  'Account created\\n',\n",
            "-  'Balance check, balance 1000\\n',\n",
            "-  'Account created\\n',\n",
            "-  'Deposit 500, new balance 1500\\n',\n",
            "-  'Withdraw 200, new balance 1300\\n',\n",
            "   'Balance check, balance 1300\\n']\n",
            "\n",
            "----------------------------------------------------------------------\n",
            "Ran 8 tests in 0.001s\n",
            "\n",
            "FAILED (failures=1)\n"
          ]
        }
      ],
      "source": [
        "!cd testing_python && python -m unittest discover -s tests -v"
      ]
    },
    {
      "cell_type": "markdown",
      "metadata": {},
      "source": [
        "The tests have gone well, but we see that in the log file there are many lines with the text `Account created`, this is because at the beginning of each test the `setUp` method is executed which creates an account, so we need to create the `tearDown` method to delete the log file after each test."
      ]
    },
    {
      "cell_type": "markdown",
      "metadata": {},
      "source": [
        "Since this is a file generated for the test, it should not exist after running the tests, so let's add the `tearDown` method to delete the file."
      ]
    },
    {
      "cell_type": "code",
      "execution_count": null,
      "metadata": {},
      "outputs": [],
      "source": [
        "!echo \"import unittest\"                                                                      > testing_python/tests/test_bank_account.py\n",
        "!echo \"import os\"                                                                           >> testing_python/tests/test_bank_account.py\n",
        "!echo \"from src.bank_account import BankAccount\"                                            >> testing_python/tests/test_bank_account.py\n",
        "!echo \"\"                                                                                    >> testing_python/tests/test_bank_account.py\n",
        "!echo \"class TestBankAccount(unittest.TestCase):\"                                           >> testing_python/tests/test_bank_account.py\n",
        "!echo \"    def setUp(self):\"                                                                >> testing_python/tests/test_bank_account.py\n",
        "!echo \"        self.account = BankAccount(balance=1000, log_file='test_log.txt')\"           >> testing_python/tests/test_bank_account.py\n",
        "!echo \"\"                                                                                    >> testing_python/tests/test_bank_account.py\n",
        "!echo \"    def tearDown(self):\"                                                             >> testing_python/tests/test_bank_account.py\n",
        "!echo \"        if os.path.exists('test_log.txt'):\"                                          >> testing_python/tests/test_bank_account.py\n",
        "!echo \"            os.remove('test_log.txt')\"                                               >> testing_python/tests/test_bank_account.py\n",
        "!echo \"\"                                                                                    >> testing_python/tests/test_bank_account.py\n",
        "!echo \"    def test_deposit(self):\"                                                         >> testing_python/tests/test_bank_account.py\n",
        "!echo \"        new_balace = self.account.deposit(500)\"                                      >> testing_python/tests/test_bank_account.py\n",
        "!echo \"        self.assertEqual(new_balace, 1500)\"                                          >> testing_python/tests/test_bank_account.py\n",
        "!echo \"\"                                                                                    >> testing_python/tests/test_bank_account.py\n",
        "!echo \"    def test_withdraw(self):\"                                                        >> testing_python/tests/test_bank_account.py\n",
        "!echo \"        new_balace = self.account.withdraw(200)\"                                     >> testing_python/tests/test_bank_account.py\n",
        "!echo \"        self.assertEqual(new_balace, 800)\"                                           >> testing_python/tests/test_bank_account.py\n",
        "!echo \"\"                                                                                    >> testing_python/tests/test_bank_account.py\n",
        "!echo \"    def test_get_balance(self):\"                                                     >> testing_python/tests/test_bank_account.py\n",
        "!echo \"        balance = self.account.get_balance()\"                                        >> testing_python/tests/test_bank_account.py\n",
        "!echo \"        self.assertEqual(balance, 1000)\"                                             >> testing_python/tests/test_bank_account.py\n",
        "!echo \"\"                                                                                    >> testing_python/tests/test_bank_account.py\n",
        "!echo \"    def test_transaction_log(self):\"                                                 >> testing_python/tests/test_bank_account.py\n",
        "!echo \"        self.account.deposit(500)\"                                                   >> testing_python/tests/test_bank_account.py\n",
        "!echo \"        self.account.withdraw(200)\"                                                  >> testing_python/tests/test_bank_account.py\n",
        "!echo \"        self.account.get_balance()\"                                                  >> testing_python/tests/test_bank_account.py\n",
        "!echo \"        assert os.path.exists('test_log.txt')\"                                       >> testing_python/tests/test_bank_account.py\n",
        "!echo \"        with open('test_log.txt', 'r') as file:\"                                     >> testing_python/tests/test_bank_account.py\n",
        "!echo \"            content = file.readlines()\"                                              >> testing_python/tests/test_bank_account.py\n",
        "!echo \"        self.assertEqual(content, [\"                                                 >> testing_python/tests/test_bank_account.py\n",
        "!echo \"            'Account created\\\\\\n', \"                                                 >> testing_python/tests/test_bank_account.py\n",
        "!echo \"            'Deposit 500, new balance 1500\\\\\\n', \"                                   >> testing_python/tests/test_bank_account.py\n",
        "!echo \"            'Account created\\\\\\n', \"                                                 >> testing_python/tests/test_bank_account.py\n",
        "!echo \"            'Balance check, balance 1000\\\\\\n', \"                                     >> testing_python/tests/test_bank_account.py\n",
        "!echo \"            'Account created\\\\\\n', \"                                                 >> testing_python/tests/test_bank_account.py\n",
        "!echo \"            'Deposit 500, new balance 1500\\\\\\n', \"                                   >> testing_python/tests/test_bank_account.py\n",
        "!echo \"            'Withdraw 200, new balance 1300\\\\\\n', \"                                  >> testing_python/tests/test_bank_account.py\n",
        "!echo \"            'Balance check, balance 1300\\\\\\n'\"                                       >> testing_python/tests/test_bank_account.py\n",
        "!echo \"            ])\"                                                                      >> testing_python/tests/test_bank_account.py"
      ]
    },
    {
      "cell_type": "markdown",
      "metadata": {},
      "source": [
        "We run the tests again"
      ]
    },
    {
      "cell_type": "code",
      "execution_count": 99,
      "metadata": {},
      "outputs": [
        {
          "name": "stdout",
          "output_type": "stream",
          "text": [
            "test_deposit (test_bank_account.TestBankAccount) ... ok\n",
            "test_get_balance (test_bank_account.TestBankAccount) ... ok\n",
            "test_transaction_log (test_bank_account.TestBankAccount) ... FAIL\n",
            "test_withdraw (test_bank_account.TestBankAccount) ... ok\n",
            "test_divide (test_calculator.TestCalculator) ... ok\n",
            "test_multiply (test_calculator.TestCalculator) ... ok\n",
            "test_substract (test_calculator.TestCalculator) ... ok\n",
            "test_sum (test_calculator.TestCalculator) ... ok\n",
            "\n",
            "======================================================================\n",
            "FAIL: test_transaction_log (test_bank_account.TestBankAccount)\n",
            "----------------------------------------------------------------------\n",
            "Traceback (most recent call last):\n",
            "  File \"/home/wallabot/Documentos/web/portafolio/posts/testing_python/tests/test_bank_account.py\", line 32, in test_transaction_log\n",
            "    self.assertEqual(content, [\n",
            "AssertionError: Lists differ: ['Acc[48 chars]n', 'Withdraw 200, new balance 1300\\n', 'Balan[21 chars]0\\n'] != ['Acc[48 chars]n', 'Account created\\n', 'Balance check, balan[131 chars]0\\n']\n",
            "\n",
            "First differing element 2:\n",
            "'Withdraw 200, new balance 1300\\n'\n",
            "'Account created\\n'\n",
            "\n",
            "Second list contains 4 additional elements.\n",
            "First extra element 4:\n",
            "'Account created\\n'\n",
            "\n",
            "  ['Account created\\n',\n",
            "+  'Deposit 500, new balance 1500\\n',\n",
            "+  'Account created\\n',\n",
            "+  'Balance check, balance 1000\\n',\n",
            "+  'Account created\\n',\n",
            "   'Deposit 500, new balance 1500\\n',\n",
            "   'Withdraw 200, new balance 1300\\n',\n",
            "   'Balance check, balance 1300\\n']\n",
            "\n",
            "----------------------------------------------------------------------\n",
            "Ran 8 tests in 0.001s\n",
            "\n",
            "FAILED (failures=1)\n"
          ]
        }
      ],
      "source": [
        "!cd testing_python && python -m unittest discover -s tests -v"
      ]
    },
    {
      "cell_type": "markdown",
      "metadata": {},
      "source": [
        "But now we get an error, because since at the end of each test we have deleted the log file, we don't need to check that so much text has been written, but only the text from the test we are running. So let's modify the test to only check that the text from the test has been written."
      ]
    },
    {
      "cell_type": "code",
      "execution_count": null,
      "metadata": {},
      "outputs": [],
      "source": [
        "!echo \"import unittest\"                                                                      > testing_python/tests/test_bank_account.py\n",
        "!echo \"import os\"                                                                           >> testing_python/tests/test_bank_account.py\n",
        "!echo \"from src.bank_account import BankAccount\"                                            >> testing_python/tests/test_bank_account.py\n",
        "!echo \"\"                                                                                    >> testing_python/tests/test_bank_account.py\n",
        "!echo \"class TestBankAccount(unittest.TestCase):\"                                           >> testing_python/tests/test_bank_account.py\n",
        "!echo \"    def setUp(self):\"                                                                >> testing_python/tests/test_bank_account.py\n",
        "!echo \"        self.account = BankAccount(balance=1000, log_file='test_log.txt')\"           >> testing_python/tests/test_bank_account.py\n",
        "!echo \"\"                                                                                    >> testing_python/tests/test_bank_account.py\n",
        "!echo \"    def tearDown(self):\"                                                             >> testing_python/tests/test_bank_account.py\n",
        "!echo \"        if os.path.exists('test_log.txt'):\"                                          >> testing_python/tests/test_bank_account.py\n",
        "!echo \"            os.remove('test_log.txt')\"                                               >> testing_python/tests/test_bank_account.py\n",
        "!echo \"\"                                                                                    >> testing_python/tests/test_bank_account.py\n",
        "!echo \"    def test_deposit(self):\"                                                         >> testing_python/tests/test_bank_account.py\n",
        "!echo \"        new_balace = self.account.deposit(500)\"                                      >> testing_python/tests/test_bank_account.py\n",
        "!echo \"        self.assertEqual(new_balace, 1500)\"                                          >> testing_python/tests/test_bank_account.py\n",
        "!echo \"\"                                                                                    >> testing_python/tests/test_bank_account.py\n",
        "!echo \"    def test_withdraw(self):\"                                                        >> testing_python/tests/test_bank_account.py\n",
        "!echo \"        new_balace = self.account.withdraw(200)\"                                     >> testing_python/tests/test_bank_account.py\n",
        "!echo \"        self.assertEqual(new_balace, 800)\"                                           >> testing_python/tests/test_bank_account.py\n",
        "!echo \"\"                                                                                    >> testing_python/tests/test_bank_account.py\n",
        "!echo \"    def test_get_balance(self):\"                                                     >> testing_python/tests/test_bank_account.py\n",
        "!echo \"        balance = self.account.get_balance()\"                                        >> testing_python/tests/test_bank_account.py\n",
        "!echo \"        self.assertEqual(balance, 1000)\"                                             >> testing_python/tests/test_bank_account.py\n",
        "!echo \"\"                                                                                    >> testing_python/tests/test_bank_account.py\n",
        "!echo \"    def test_transaction_log(self):\"                                                 >> testing_python/tests/test_bank_account.py\n",
        "!echo \"        self.account.deposit(500)\"                                                   >> testing_python/tests/test_bank_account.py\n",
        "!echo \"        self.account.withdraw(200)\"                                                  >> testing_python/tests/test_bank_account.py\n",
        "!echo \"        self.account.get_balance()\"                                                  >> testing_python/tests/test_bank_account.py\n",
        "!echo \"        assert os.path.exists('test_log.txt')\"                                       >> testing_python/tests/test_bank_account.py\n",
        "!echo \"        with open('test_log.txt', 'r') as file:\"                                     >> testing_python/tests/test_bank_account.py\n",
        "!echo \"            content = file.readlines()\"                                              >> testing_python/tests/test_bank_account.py\n",
        "!echo \"        self.assertEqual(content, [\"                                                 >> testing_python/tests/test_bank_account.py\n",
        "!echo \"            'Account created\\\\\\n', \"                                                 >> testing_python/tests/test_bank_account.py\n",
        "!echo \"            'Deposit 500, new balance 1500\\\\\\n', \"                                   >> testing_python/tests/test_bank_account.py\n",
        "!echo \"            'Withdraw 200, new balance 1300\\\\\\n', \"                                  >> testing_python/tests/test_bank_account.py\n",
        "!echo \"            'Balance check, balance 1300\\\\\\n'\"                                       >> testing_python/tests/test_bank_account.py\n",
        "!echo \"            ])\"                                                                      >> testing_python/tests/test_bank_account.py"
      ]
    },
    {
      "cell_type": "markdown",
      "metadata": {},
      "source": [
        "And we pass the tests"
      ]
    },
    {
      "cell_type": "code",
      "execution_count": 101,
      "metadata": {},
      "outputs": [
        {
          "name": "stdout",
          "output_type": "stream",
          "text": [
            "test_deposit (test_bank_account.TestBankAccount) ... ok\n",
            "test_get_balance (test_bank_account.TestBankAccount) ... ok\n",
            "test_transaction_log (test_bank_account.TestBankAccount) ... ok\n",
            "test_withdraw (test_bank_account.TestBankAccount) ... ok\n",
            "test_divide (test_calculator.TestCalculator) ... ok\n",
            "test_multiply (test_calculator.TestCalculator) ... ok\n",
            "test_substract (test_calculator.TestCalculator) ... ok\n",
            "test_sum (test_calculator.TestCalculator) ... ok\n",
            "\n",
            "----------------------------------------------------------------------\n",
            "Ran 8 tests in 0.001s\n",
            "\n",
            "OK\n"
          ]
        }
      ],
      "source": [
        "!cd testing_python && python -m unittest discover -s tests -v"
      ]
    },
    {
      "cell_type": "markdown",
      "metadata": {},
      "source": [
        "### Error Documentation"
      ]
    },
    {
      "cell_type": "markdown",
      "metadata": {},
      "source": [
        "If you've noticed, so far in the tests we have been using `assertEqual`. This method gives us the option to write an error message when the condition is not met. Let's modify a test to make it fail and see the error message."
      ]
    },
    {
      "cell_type": "code",
      "execution_count": null,
      "metadata": {},
      "outputs": [],
      "source": [
        "!echo \"import unittest\"                                                                      > testing_python/tests/test_bank_account.py\n",
        "!echo \"import os\"                                                                           >> testing_python/tests/test_bank_account.py\n",
        "!echo \"from src.bank_account import BankAccount\"                                            >> testing_python/tests/test_bank_account.py\n",
        "!echo \"\"                                                                                    >> testing_python/tests/test_bank_account.py\n",
        "!echo \"class TestBankAccount(unittest.TestCase):\"                                           >> testing_python/tests/test_bank_account.py\n",
        "!echo \"    def setUp(self):\"                                                                >> testing_python/tests/test_bank_account.py\n",
        "!echo \"        self.account = BankAccount(balance=1000, log_file='test_log.txt')\"           >> testing_python/tests/test_bank_account.py\n",
        "!echo \"\"                                                                                    >> testing_python/tests/test_bank_account.py\n",
        "!echo \"    def tearDown(self):\"                                                             >> testing_python/tests/test_bank_account.py\n",
        "!echo \"        if os.path.exists('test_log.txt'):\"                                          >> testing_python/tests/test_bank_account.py\n",
        "!echo \"            os.remove('test_log.txt')\"                                               >> testing_python/tests/test_bank_account.py\n",
        "!echo \"\"                                                                                    >> testing_python/tests/test_bank_account.py\n",
        "!echo \"    def test_deposit(self):\"                                                         >> testing_python/tests/test_bank_account.py\n",
        "!echo \"        new_balace = self.account.deposit(500)\"                                      >> testing_python/tests/test_bank_account.py\n",
        "!echo \"        self.assertEqual(new_balace, 1500)\"                                          >> testing_python/tests/test_bank_account.py\n",
        "!echo \"\"                                                                                    >> testing_python/tests/test_bank_account.py\n",
        "!echo \"    def test_withdraw(self):\"                                                        >> testing_python/tests/test_bank_account.py\n",
        "!echo \"        new_balace = self.account.withdraw(200)\"                                     >> testing_python/tests/test_bank_account.py\n",
        "!echo \"        self.assertEqual(new_balace, 500, 'Balance is not correct')\"                 >> testing_python/tests/test_bank_account.py\n",
        "!echo \"\"                                                                                    >> testing_python/tests/test_bank_account.py\n",
        "!echo \"    def test_get_balance(self):\"                                                     >> testing_python/tests/test_bank_account.py\n",
        "!echo \"        balance = self.account.get_balance()\"                                        >> testing_python/tests/test_bank_account.py\n",
        "!echo \"        self.assertEqual(balance, 1000)\"                                             >> testing_python/tests/test_bank_account.py\n",
        "!echo \"\"                                                                                    >> testing_python/tests/test_bank_account.py\n",
        "!echo \"    def test_transaction_log(self):\"                                                 >> testing_python/tests/test_bank_account.py\n",
        "!echo \"        self.account.deposit(500)\"                                                   >> testing_python/tests/test_bank_account.py\n",
        "!echo \"        self.account.withdraw(200)\"                                                  >> testing_python/tests/test_bank_account.py\n",
        "!echo \"        self.account.get_balance()\"                                                  >> testing_python/tests/test_bank_account.py\n",
        "!echo \"        assert os.path.exists('test_log.txt')\"                                       >> testing_python/tests/test_bank_account.py\n",
        "!echo \"        with open('test_log.txt', 'r') as file:\"                                     >> testing_python/tests/test_bank_account.py\n",
        "!echo \"            content = file.readlines()\"                                              >> testing_python/tests/test_bank_account.py\n",
        "!echo \"        self.assertEqual(content, [\"                                                 >> testing_python/tests/test_bank_account.py\n",
        "!echo \"            'Account created\\\\\\n', \"                                                 >> testing_python/tests/test_bank_account.py\n",
        "!echo \"            'Deposit 500, new balance 1500\\\\\\n', \"                                   >> testing_python/tests/test_bank_account.py\n",
        "!echo \"            'Withdraw 200, new balance 1300\\\\\\n', \"                                  >> testing_python/tests/test_bank_account.py\n",
        "!echo \"            'Balance check, balance 1300\\\\\\n'\"                                       >> testing_python/tests/test_bank_account.py\n",
        "!echo \"            ])\"                                                                      >> testing_python/tests/test_bank_account.py"
      ]
    },
    {
      "cell_type": "markdown",
      "metadata": {},
      "source": [
        "We pass the tests"
      ]
    },
    {
      "cell_type": "code",
      "execution_count": 2,
      "metadata": {},
      "outputs": [
        {
          "name": "stdout",
          "output_type": "stream",
          "text": [
            "test_deposit (test_bank_account.TestBankAccount) ... ok\n",
            "test_get_balance (test_bank_account.TestBankAccount) ... ok\n",
            "test_transaction_log (test_bank_account.TestBankAccount) ... ok\n",
            "test_withdraw (test_bank_account.TestBankAccount) ... FAIL\n",
            "test_divide (test_calculator.TestCalculator) ... ok\n",
            "test_multiply (test_calculator.TestCalculator) ... ok\n",
            "test_substract (test_calculator.TestCalculator) ... ok\n",
            "test_sum (test_calculator.TestCalculator) ... ok\n",
            "\n",
            "======================================================================\n",
            "FAIL: test_withdraw (test_bank_account.TestBankAccount)\n",
            "----------------------------------------------------------------------\n",
            "Traceback (most recent call last):\n",
            "  File \"/home/wallabot/Documentos/web/portafolio/posts/testing_python/tests/test_bank_account.py\", line 19, in test_withdraw\n",
            "    self.assertEqual(new_balace, 500, 'Balance is not correct')\n",
            "AssertionError: 800 != 500 : Balance is not correct\n",
            "\n",
            "----------------------------------------------------------------------\n",
            "Ran 8 tests in 0.001s\n",
            "\n",
            "FAILED (failures=1)\n"
          ]
        }
      ],
      "source": [
        "!cd testing_python && python -m unittest discover -s tests -v"
      ]
    },
    {
      "cell_type": "markdown",
      "metadata": {},
      "source": [
        "As we can see, we have the message we wrote in the test `AssertionError: 800 != 500 : Balance is not correct`"
      ]
    },
    {
      "cell_type": "markdown",
      "metadata": {},
      "source": [
        "### `assert`s"
      ]
    },
    {
      "cell_type": "markdown",
      "metadata": {},
      "source": [
        "So far we have used `assertEqual`, but there are more, such as `assertTrue`. Let's modify the line `assert os.path.exists('test_log.txt')` to `self.assertTrue(os.path.exists('test_log.txt'))`"
      ]
    },
    {
      "cell_type": "code",
      "execution_count": null,
      "metadata": {},
      "outputs": [],
      "source": [
        "!echo \"import unittest\"                                                                     > testing_python/tests/test_bank_account.py\n",
        "!echo \"import os\"                                                                           >> testing_python/tests/test_bank_account.py\n",
        "!echo \"from src.bank_account import BankAccount\"                                            >> testing_python/tests/test_bank_account.py\n",
        "!echo \"\"                                                                                    >> testing_python/tests/test_bank_account.py\n",
        "!echo \"class TestBankAccount(unittest.TestCase):\"                                           >> testing_python/tests/test_bank_account.py\n",
        "!echo \"    def setUp(self):\"                                                                >> testing_python/tests/test_bank_account.py\n",
        "!echo \"        self.account = BankAccount(balance=1000, log_file='test_log.txt')\"           >> testing_python/tests/test_bank_account.py\n",
        "!echo \"\"                                                                                    >> testing_python/tests/test_bank_account.py\n",
        "!echo \"    def tearDown(self):\"                                                             >> testing_python/tests/test_bank_account.py\n",
        "!echo \"        if os.path.exists('test_log.txt'):\"                                          >> testing_python/tests/test_bank_account.py\n",
        "!echo \"            os.remove('test_log.txt')\"                                               >> testing_python/tests/test_bank_account.py\n",
        "!echo \"\"                                                                                    >> testing_python/tests/test_bank_account.py\n",
        "!echo \"    def test_deposit(self):\"                                                         >> testing_python/tests/test_bank_account.py\n",
        "!echo \"        new_balace = self.account.deposit(500)\"                                      >> testing_python/tests/test_bank_account.py\n",
        "!echo \"        self.assertEqual(new_balace, 1500)\"                                          >> testing_python/tests/test_bank_account.py\n",
        "!echo \"\"                                                                                    >> testing_python/tests/test_bank_account.py\n",
        "!echo \"    def test_withdraw(self):\"                                                        >> testing_python/tests/test_bank_account.py\n",
        "!echo \"        new_balace = self.account.withdraw(200)\"                                     >> testing_python/tests/test_bank_account.py\n",
        "!echo \"        self.assertEqual(new_balace, 800, 'Balance is not correct')\"                 >> testing_python/tests/test_bank_account.py\n",
        "!echo \"\"                                                                                    >> testing_python/tests/test_bank_account.py\n",
        "!echo \"    def test_get_balance(self):\"                                                     >> testing_python/tests/test_bank_account.py\n",
        "!echo \"        balance = self.account.get_balance()\"                                        >> testing_python/tests/test_bank_account.py\n",
        "!echo \"        self.assertEqual(balance, 1000)\"                                             >> testing_python/tests/test_bank_account.py\n",
        "!echo \"\"                                                                                    >> testing_python/tests/test_bank_account.py\n",
        "!echo \"    def test_transaction_log(self):\"                                                 >> testing_python/tests/test_bank_account.py\n",
        "!echo \"        self.account.deposit(500)\"                                                   >> testing_python/tests/test_bank_account.py\n",
        "!echo \"        self.account.withdraw(200)\"                                                  >> testing_python/tests/test_bank_account.py\n",
        "!echo \"        self.account.get_balance()\"                                                  >> testing_python/tests/test_bank_account.py\n",
        "!echo \"        self.assertTrue(os.path.exists('test_log.txt'))\"                             >> testing_python/tests/test_bank_account.py\n",
        "!echo \"        with open('test_log.txt', 'r') as file:\"                                     >> testing_python/tests/test_bank_account.py\n",
        "!echo \"            content = file.readlines()\"                                              >> testing_python/tests/test_bank_account.py\n",
        "!echo \"        self.assertEqual(content, [\"                                                 >> testing_python/tests/test_bank_account.py\n",
        "!echo \"            'Account created\\\\\\n', \"                                                 >> testing_python/tests/test_bank_account.py\n",
        "!echo \"            'Deposit 500, new balance 1500\\\\\\n', \"                                   >> testing_python/tests/test_bank_account.py\n",
        "!echo \"            'Withdraw 200, new balance 1300\\\\\\n', \"                                  >> testing_python/tests/test_bank_account.py\n",
        "!echo \"            'Balance check, balance 1300\\\\\\n'\"                                       >> testing_python/tests/test_bank_account.py\n",
        "!echo \"            ])\"                                                                      >> testing_python/tests/test_bank_account.py"
      ]
    },
    {
      "cell_type": "markdown",
      "metadata": {},
      "source": [
        "And we pass the tests"
      ]
    },
    {
      "cell_type": "code",
      "execution_count": 5,
      "metadata": {},
      "outputs": [
        {
          "name": "stdout",
          "output_type": "stream",
          "text": [
            "test_deposit (test_bank_account.TestBankAccount) ... ok\n",
            "test_get_balance (test_bank_account.TestBankAccount) ... ok\n",
            "test_transaction_log (test_bank_account.TestBankAccount) ... ok\n",
            "test_withdraw (test_bank_account.TestBankAccount) ... ok\n",
            "test_divide (test_calculator.TestCalculator) ... ok\n",
            "test_multiply (test_calculator.TestCalculator) ... ok\n",
            "test_substract (test_calculator.TestCalculator) ... ok\n",
            "test_sum (test_calculator.TestCalculator) ... ok\n",
            "\n",
            "----------------------------------------------------------------------\n",
            "Ran 8 tests in 0.001s\n",
            "\n",
            "OK\n"
          ]
        }
      ],
      "source": [
        "!cd testing_python && python -m unittest discover -s tests -v"
      ]
    },
    {
      "cell_type": "markdown",
      "metadata": {},
      "source": [
        "Some other `assert`s we can use are:",
        "* `assertEqual`",
        "* `assertNotEqual`",
        "* `assertTrue`",
        "* `assertFalse`",
        "* `assertRaises`"
      ]
    },
    {
      "cell_type": "markdown",
      "metadata": {},
      "source": [
        "### `skip`"
      ]
    },
    {
      "cell_type": "markdown",
      "metadata": {},
      "source": [
        "Just like in Python we can use `pass` to do nothing, in tests we can use `skip` to skip a test. This can be useful when we know we want to pass some tests, but the code to pass them is not yet ready."
      ]
    },
    {
      "cell_type": "markdown",
      "metadata": {},
      "source": [
        "I'm going to add a test that checks if the user has a loan, but since there is no code related to loans yet, I will skip the test."
      ]
    },
    {
      "cell_type": "code",
      "execution_count": 6,
      "metadata": {},
      "outputs": [],
      "source": [
        "!echo \"import unittest\"                                                                      > testing_python/tests/test_bank_account.py\n",
        "!echo \"import os\"                                                                           >> testing_python/tests/test_bank_account.py\n",
        "!echo \"from src.bank_account import BankAccount\"                                            >> testing_python/tests/test_bank_account.py\n",
        "!echo \"\"                                                                                    >> testing_python/tests/test_bank_account.py\n",
        "!echo \"class TestBankAccount(unittest.TestCase):\"                                           >> testing_python/tests/test_bank_account.py\n",
        "!echo \"    def setUp(self):\"                                                                >> testing_python/tests/test_bank_account.py\n",
        "!echo \"        self.account = BankAccount(balance=1000, log_file='test_log.txt')\"           >> testing_python/tests/test_bank_account.py\n",
        "!echo \"\"                                                                                    >> testing_python/tests/test_bank_account.py\n",
        "!echo \"    def tearDown(self):\"                                                             >> testing_python/tests/test_bank_account.py\n",
        "!echo \"        if os.path.exists('test_log.txt'):\"                                          >> testing_python/tests/test_bank_account.py\n",
        "!echo \"            os.remove('test_log.txt')\"                                               >> testing_python/tests/test_bank_account.py\n",
        "!echo \"\"                                                                                    >> testing_python/tests/test_bank_account.py\n",
        "!echo \"    def test_deposit(self):\"                                                         >> testing_python/tests/test_bank_account.py\n",
        "!echo \"        new_balace = self.account.deposit(500)\"                                      >> testing_python/tests/test_bank_account.py\n",
        "!echo \"        self.assertEqual(new_balace, 1500)\"                                          >> testing_python/tests/test_bank_account.py\n",
        "!echo \"\"                                                                                    >> testing_python/tests/test_bank_account.py\n",
        "!echo \"    def test_withdraw(self):\"                                                        >> testing_python/tests/test_bank_account.py\n",
        "!echo \"        new_balace = self.account.withdraw(200)\"                                     >> testing_python/tests/test_bank_account.py\n",
        "!echo \"        self.assertEqual(new_balace, 800, 'Balance is not correct')\"                 >> testing_python/tests/test_bank_account.py\n",
        "!echo \"\"                                                                                    >> testing_python/tests/test_bank_account.py\n",
        "!echo \"    def test_get_balance(self):\"                                                     >> testing_python/tests/test_bank_account.py\n",
        "!echo \"        balance = self.account.get_balance()\"                                        >> testing_python/tests/test_bank_account.py\n",
        "!echo \"        self.assertEqual(balance, 1000)\"                                             >> testing_python/tests/test_bank_account.py\n",
        "!echo \"\"                                                                                    >> testing_python/tests/test_bank_account.py\n",
        "!echo \"    def test_transaction_log(self):\"                                                 >> testing_python/tests/test_bank_account.py\n",
        "!echo \"        self.account.deposit(500)\"                                                   >> testing_python/tests/test_bank_account.py\n",
        "!echo \"        self.account.withdraw(200)\"                                                  >> testing_python/tests/test_bank_account.py\n",
        "!echo \"        self.account.get_balance()\"                                                  >> testing_python/tests/test_bank_account.py\n",
        "!echo \"        self.assertTrue(os.path.exists('test_log.txt'))\"                             >> testing_python/tests/test_bank_account.py\n",
        "!echo \"        with open('test_log.txt', 'r') as file:\"                                     >> testing_python/tests/test_bank_account.py\n",
        "!echo \"            content = file.readlines()\"                                              >> testing_python/tests/test_bank_account.py\n",
        "!echo \"        self.assertEqual(content, [\"                                                 >> testing_python/tests/test_bank_account.py\n",
        "!echo \"            'Account created\\\\\\n', \"                                                 >> testing_python/tests/test_bank_account.py\n",
        "!echo \"            'Deposit 500, new balance 1500\\\\\\n', \"                                   >> testing_python/tests/test_bank_account.py\n",
        "!echo \"            'Withdraw 200, new balance 1300\\\\\\n', \"                                  >> testing_python/tests/test_bank_account.py\n",
        "!echo \"            'Balance check, balance 1300\\\\\\n'\"                                       >> testing_python/tests/test_bank_account.py\n",
        "!echo \"            ])\"                                                                      >> testing_python/tests/test_bank_account.py\n",
        "!echo \"\"                                                                                    >> testing_python/tests/test_bank_account.py\n",
        "!echo \"    @unittest.skip('Not implemented yet')\"                                           >> testing_python/tests/test_bank_account.py\n",
        "!echo \"    def test_has_loan(self):\"                                                        >> testing_python/tests/test_bank_account.py\n",
        "!echo \"        self.assertFalse(self.account.has_loan())\"                                   >> testing_python/tests/test_bank_account.py"
      ]
    },
    {
      "cell_type": "markdown",
      "metadata": {},
      "source": [
        "Let's see what happens when we run it"
      ]
    },
    {
      "cell_type": "code",
      "execution_count": 7,
      "metadata": {},
      "outputs": [
        {
          "name": "stdout",
          "output_type": "stream",
          "text": [
            "test_deposit (test_bank_account.TestBankAccount) ... ok\n",
            "test_get_balance (test_bank_account.TestBankAccount) ... ok\n",
            "test_has_loan (test_bank_account.TestBankAccount) ... skipped 'Not implemented yet'\n",
            "test_transaction_log (test_bank_account.TestBankAccount) ... ok\n",
            "test_withdraw (test_bank_account.TestBankAccount) ... ok\n",
            "test_divide (test_calculator.TestCalculator) ... ok\n",
            "test_multiply (test_calculator.TestCalculator) ... ok\n",
            "test_substract (test_calculator.TestCalculator) ... ok\n",
            "test_sum (test_calculator.TestCalculator) ... ok\n",
            "\n",
            "----------------------------------------------------------------------\n",
            "Ran 9 tests in 0.001s\n",
            "\n",
            "OK (skipped=1)\n"
          ]
        }
      ],
      "source": [
        "!cd testing_python && python -m unittest discover -s tests -v"
      ]
    },
    {
      "cell_type": "markdown",
      "metadata": {},
      "source": [
        "We can see `test_has_loan (test_bank_account.TestBankAccount) ... skipped 'Not implemented yet'` that test has been skipped as we wanted."
      ]
    },
    {
      "cell_type": "markdown",
      "metadata": {},
      "source": [
        "### `skipIf`"
      ]
    },
    {
      "cell_type": "markdown",
      "metadata": {},
      "source": [
        "Another option is to use `skipIf` to skip a test if a condition is met. I'm going to add a variable at the beginning called `server` to know whether we are in a local environment or on the server, and the test will check this variable so that if we are on the server, it will skip the test."
      ]
    },
    {
      "cell_type": "code",
      "execution_count": null,
      "metadata": {},
      "outputs": [],
      "source": [
        "!echo \"import unittest\"                                                                      > testing_python/tests/test_bank_account.py\n",
        "!echo \"import os\"                                                                           >> testing_python/tests/test_bank_account.py\n",
        "!echo \"from src.bank_account import BankAccount\"                                            >> testing_python/tests/test_bank_account.py\n",
        "!echo \"\"                                                                                    >> testing_python/tests/test_bank_account.py\n",
        "!echo \"SERVER = True\"                                                                       >> testing_python/tests/test_bank_account.py\n",
        "!echo \"\"                                                                                    >> testing_python/tests/test_bank_account.py\n",
        "!echo \"class TestBankAccount(unittest.TestCase):\"                                           >> testing_python/tests/test_bank_account.py\n",
        "!echo \"    def setUp(self):\"                                                                >> testing_python/tests/test_bank_account.py\n",
        "!echo \"        self.account = BankAccount(balance=1000, log_file='test_log.txt')\"           >> testing_python/tests/test_bank_account.py\n",
        "!echo \"\"                                                                                    >> testing_python/tests/test_bank_account.py\n",
        "!echo \"    def tearDown(self):\"                                                             >> testing_python/tests/test_bank_account.py\n",
        "!echo \"        if os.path.exists('test_log.txt'):\"                                          >> testing_python/tests/test_bank_account.py\n",
        "!echo \"            os.remove('test_log.txt')\"                                               >> testing_python/tests/test_bank_account.py\n",
        "!echo \"\"                                                                                    >> testing_python/tests/test_bank_account.py\n",
        "!echo \"    def test_deposit(self):\"                                                         >> testing_python/tests/test_bank_account.py\n",
        "!echo \"        new_balace = self.account.deposit(500)\"                                      >> testing_python/tests/test_bank_account.py\n",
        "!echo \"        self.assertEqual(new_balace, 1500)\"                                          >> testing_python/tests/test_bank_account.py\n",
        "!echo \"\"                                                                                    >> testing_python/tests/test_bank_account.py\n",
        "!echo \"    def test_withdraw(self):\"                                                        >> testing_python/tests/test_bank_account.py\n",
        "!echo \"        new_balace = self.account.withdraw(200)\"                                     >> testing_python/tests/test_bank_account.py\n",
        "!echo \"        self.assertEqual(new_balace, 800, 'Balance is not correct')\"                 >> testing_python/tests/test_bank_account.py\n",
        "!echo \"\"                                                                                    >> testing_python/tests/test_bank_account.py\n",
        "!echo \"    def test_get_balance(self):\"                                                     >> testing_python/tests/test_bank_account.py\n",
        "!echo \"        balance = self.account.get_balance()\"                                        >> testing_python/tests/test_bank_account.py\n",
        "!echo \"        self.assertEqual(balance, 1000)\"                                             >> testing_python/tests/test_bank_account.py\n",
        "!echo \"\"                                                                                    >> testing_python/tests/test_bank_account.py\n",
        "!echo \"    def test_transaction_log(self):\"                                                 >> testing_python/tests/test_bank_account.py\n",
        "!echo \"        self.account.deposit(500)\"                                                   >> testing_python/tests/test_bank_account.py\n",
        "!echo \"        self.account.withdraw(200)\"                                                  >> testing_python/tests/test_bank_account.py\n",
        "!echo \"        self.account.get_balance()\"                                                  >> testing_python/tests/test_bank_account.py\n",
        "!echo \"        self.assertTrue(os.path.exists('test_log.txt'))\"                             >> testing_python/tests/test_bank_account.py\n",
        "!echo \"        with open('test_log.txt', 'r') as file:\"                                     >> testing_python/tests/test_bank_account.py\n",
        "!echo \"            content = file.readlines()\"                                              >> testing_python/tests/test_bank_account.py\n",
        "!echo \"        self.assertEqual(content, [\"                                                 >> testing_python/tests/test_bank_account.py\n",
        "!echo \"            'Account created\\\\\\n', \"                                                 >> testing_python/tests/test_bank_account.py\n",
        "!echo \"            'Deposit 500, new balance 1500\\\\\\n', \"                                   >> testing_python/tests/test_bank_account.py\n",
        "!echo \"            'Withdraw 200, new balance 1300\\\\\\n', \"                                  >> testing_python/tests/test_bank_account.py\n",
        "!echo \"            'Balance check, balance 1300\\\\\\n'\"                                       >> testing_python/tests/test_bank_account.py\n",
        "!echo \"            ])\"                                                                      >> testing_python/tests/test_bank_account.py\n",
        "!echo \"\"                                                                                    >> testing_python/tests/test_bank_account.py\n",
        "!echo \"    @unittest.skip('Not implemented yet')\"                                           >> testing_python/tests/test_bank_account.py\n",
        "!echo \"    def test_has_loan(self):\"                                                        >> testing_python/tests/test_bank_account.py\n",
        "!echo \"        self.assertFalse(self.account.has_loan())\"                                   >> testing_python/tests/test_bank_account.py\n",
        "!echo \"\"                                                                                    >> testing_python/tests/test_bank_account.py\n",
        "!echo \"    @unittest.skipIf(SERVER, 'Only for local testing')\"                              >> testing_python/tests/test_bank_account.py\n",
        "!echo \"    def test_server(self):\"                                                          >> testing_python/tests/test_bank_account.py\n",
        "!echo \"        self.assertTrue(SERVER)\"                                                     >> testing_python/tests/test_bank_account.py"
      ]
    },
    {
      "cell_type": "markdown",
      "metadata": {},
      "source": [
        "If we pass the tests"
      ]
    },
    {
      "cell_type": "code",
      "execution_count": 9,
      "metadata": {},
      "outputs": [
        {
          "name": "stdout",
          "output_type": "stream",
          "text": [
            "test_deposit (test_bank_account.TestBankAccount) ... ok\n",
            "test_get_balance (test_bank_account.TestBankAccount) ... ok\n",
            "test_has_loan (test_bank_account.TestBankAccount) ... skipped 'Not implemented yet'\n",
            "test_server (test_bank_account.TestBankAccount) ... skipped 'Only for local testing'\n",
            "test_transaction_log (test_bank_account.TestBankAccount) ... ok\n",
            "test_withdraw (test_bank_account.TestBankAccount) ... ok\n",
            "test_divide (test_calculator.TestCalculator) ... ok\n",
            "test_multiply (test_calculator.TestCalculator) ... ok\n",
            "test_substract (test_calculator.TestCalculator) ... ok\n",
            "test_sum (test_calculator.TestCalculator) ... ok\n",
            "\n",
            "----------------------------------------------------------------------\n",
            "Ran 10 tests in 0.001s\n",
            "\n",
            "OK (skipped=2)\n"
          ]
        }
      ],
      "source": [
        "!cd testing_python && python -m unittest discover -s tests -v"
      ]
    },
    {
      "cell_type": "markdown",
      "metadata": {},
      "source": [
        "We see `test_server (test_bank_account.TestBankAccount) ... skipped 'Only for local testing'` since, as `SERVER = True`, the test has been skipped."
      ]
    },
    {
      "cell_type": "markdown",
      "metadata": {},
      "source": [
        "### `expectedFailure`"
      ]
    },
    {
      "cell_type": "markdown",
      "metadata": {},
      "source": [
        "An error should be produced when a user tries to withdraw more money than they have, so with the `expectedFailure` method we can state that we expect the test to fail."
      ]
    },
    {
      "cell_type": "code",
      "execution_count": 12,
      "metadata": {},
      "outputs": [],
      "source": [
        "!echo \"import unittest\"                                                                      > testing_python/tests/test_bank_account.py\n",
        "!echo \"import os\"                                                                           >> testing_python/tests/test_bank_account.py\n",
        "!echo \"from src.bank_account import BankAccount\"                                            >> testing_python/tests/test_bank_account.py\n",
        "!echo \"\"                                                                                    >> testing_python/tests/test_bank_account.py\n",
        "!echo \"SERVER = True\"                                                                       >> testing_python/tests/test_bank_account.py\n",
        "!echo \"\"                                                                                    >> testing_python/tests/test_bank_account.py\n",
        "!echo \"class TestBankAccount(unittest.TestCase):\"                                           >> testing_python/tests/test_bank_account.py\n",
        "!echo \"    def setUp(self):\"                                                                >> testing_python/tests/test_bank_account.py\n",
        "!echo \"        self.account = BankAccount(balance=1000, log_file='test_log.txt')\"           >> testing_python/tests/test_bank_account.py\n",
        "!echo \"\"                                                                                    >> testing_python/tests/test_bank_account.py\n",
        "!echo \"    def tearDown(self):\"                                                             >> testing_python/tests/test_bank_account.py\n",
        "!echo \"        if os.path.exists('test_log.txt'):\"                                          >> testing_python/tests/test_bank_account.py\n",
        "!echo \"            os.remove('test_log.txt')\"                                               >> testing_python/tests/test_bank_account.py\n",
        "!echo \"\"                                                                                    >> testing_python/tests/test_bank_account.py\n",
        "!echo \"    def test_deposit(self):\"                                                         >> testing_python/tests/test_bank_account.py\n",
        "!echo \"        new_balace = self.account.deposit(500)\"                                      >> testing_python/tests/test_bank_account.py\n",
        "!echo \"        self.assertEqual(new_balace, 1500)\"                                          >> testing_python/tests/test_bank_account.py\n",
        "!echo \"\"                                                                                    >> testing_python/tests/test_bank_account.py\n",
        "!echo \"    def test_withdraw(self):\"                                                        >> testing_python/tests/test_bank_account.py\n",
        "!echo \"        new_balace = self.account.withdraw(200)\"                                     >> testing_python/tests/test_bank_account.py\n",
        "!echo \"        self.assertEqual(new_balace, 800, 'Balance is not correct')\"                 >> testing_python/tests/test_bank_account.py\n",
        "!echo \"\"                                                                                    >> testing_python/tests/test_bank_account.py\n",
        "!echo \"    def test_get_balance(self):\"                                                     >> testing_python/tests/test_bank_account.py\n",
        "!echo \"        balance = self.account.get_balance()\"                                        >> testing_python/tests/test_bank_account.py\n",
        "!echo \"        self.assertEqual(balance, 1000)\"                                             >> testing_python/tests/test_bank_account.py\n",
        "!echo \"\"                                                                                    >> testing_python/tests/test_bank_account.py\n",
        "!echo \"    def test_transaction_log(self):\"                                                 >> testing_python/tests/test_bank_account.py\n",
        "!echo \"        self.account.deposit(500)\"                                                   >> testing_python/tests/test_bank_account.py\n",
        "!echo \"        self.account.withdraw(200)\"                                                  >> testing_python/tests/test_bank_account.py\n",
        "!echo \"        self.account.get_balance()\"                                                  >> testing_python/tests/test_bank_account.py\n",
        "!echo \"        self.assertTrue(os.path.exists('test_log.txt'))\"                             >> testing_python/tests/test_bank_account.py\n",
        "!echo \"        with open('test_log.txt', 'r') as file:\"                                     >> testing_python/tests/test_bank_account.py\n",
        "!echo \"            content = file.readlines()\"                                              >> testing_python/tests/test_bank_account.py\n",
        "!echo \"        self.assertEqual(content, [\"                                                 >> testing_python/tests/test_bank_account.py\n",
        "!echo \"            'Account created\\\\\\n', \"                                                 >> testing_python/tests/test_bank_account.py\n",
        "!echo \"            'Deposit 500, new balance 1500\\\\\\n', \"                                   >> testing_python/tests/test_bank_account.py\n",
        "!echo \"            'Withdraw 200, new balance 1300\\\\\\n', \"                                  >> testing_python/tests/test_bank_account.py\n",
        "!echo \"            'Balance check, balance 1300\\\\\\n'\"                                       >> testing_python/tests/test_bank_account.py\n",
        "!echo \"            ])\"                                                                      >> testing_python/tests/test_bank_account.py\n",
        "!echo \"\"                                                                                    >> testing_python/tests/test_bank_account.py\n",
        "!echo \"    @unittest.skip('Not implemented yet')\"                                           >> testing_python/tests/test_bank_account.py\n",
        "!echo \"    def test_has_loan(self):\"                                                        >> testing_python/tests/test_bank_account.py\n",
        "!echo \"        self.assertFalse(self.account.has_loan())\"                                   >> testing_python/tests/test_bank_account.py\n",
        "!echo \"\"                                                                                    >> testing_python/tests/test_bank_account.py\n",
        "!echo \"    @unittest.skipIf(SERVER, 'Only for local testing')\"                              >> testing_python/tests/test_bank_account.py\n",
        "!echo \"    def test_server(self):\"                                                          >> testing_python/tests/test_bank_account.py\n",
        "!echo \"        self.assertTrue(SERVER)\"                                                     >> testing_python/tests/test_bank_account.py\n",
        "!echo \"\"                                                                                    >> testing_python/tests/test_bank_account.py\n",
        "!echo \"    @unittest.expectedFailure\"                                                       >> testing_python/tests/test_bank_account.py\n",
        "!echo \"    def test_fail(self):\"                                                            >> testing_python/tests/test_bank_account.py\n",
        "!echo \"        new_balace = self.account.withdraw(1200)\"                                    >> testing_python/tests/test_bank_account.py\n",
        "!echo \"        self.assertEqual(new_balace, 800, 'Not enough money')\"                       >> testing_python/tests/test_bank_account.py"
      ]
    },
    {
      "cell_type": "markdown",
      "metadata": {},
      "source": [
        "We pass the tests"
      ]
    },
    {
      "cell_type": "code",
      "execution_count": 13,
      "metadata": {},
      "outputs": [
        {
          "name": "stdout",
          "output_type": "stream",
          "text": [
            "test_deposit (test_bank_account.TestBankAccount) ... ok\n",
            "test_fail (test_bank_account.TestBankAccount) ... expected failure\n",
            "test_get_balance (test_bank_account.TestBankAccount) ... ok\n",
            "test_has_loan (test_bank_account.TestBankAccount) ... skipped 'Not implemented yet'\n",
            "test_server (test_bank_account.TestBankAccount) ... skipped 'Only for local testing'\n",
            "test_transaction_log (test_bank_account.TestBankAccount) ... ok\n",
            "test_withdraw (test_bank_account.TestBankAccount) ... ok\n",
            "test_divide (test_calculator.TestCalculator) ... ok\n",
            "test_multiply (test_calculator.TestCalculator) ... ok\n",
            "test_substract (test_calculator.TestCalculator) ... ok\n",
            "test_sum (test_calculator.TestCalculator) ... ok\n",
            "\n",
            "----------------------------------------------------------------------\n",
            "Ran 11 tests in 0.001s\n",
            "\n",
            "OK (skipped=2, expected failures=1)\n"
          ]
        }
      ],
      "source": [
        "!cd testing_python && python -m unittest discover -s tests -v"
      ]
    },
    {
      "cell_type": "markdown",
      "metadata": {},
      "source": [
        "As we can see, we get `test_fail (test_bank_account.TestBankAccount) ... expected failure` because it is an error we expected."
      ]
    },
    {
      "cell_type": "markdown",
      "metadata": {},
      "source": [
        "### `skipUnless`"
      ]
    },
    {
      "cell_type": "markdown",
      "metadata": {},
      "source": [
        "Just like before, there may be tests that we only want to run in the development environment, but never on the server, or in staging, or in production. For this, we can use `skipUnless`"
      ]
    },
    {
      "cell_type": "code",
      "execution_count": null,
      "metadata": {},
      "outputs": [],
      "source": [
        "!echo \"import unittest\"                                                                      > testing_python/tests/test_bank_account.py\n",
        "!echo \"import os\"                                                                           >> testing_python/tests/test_bank_account.py\n",
        "!echo \"from src.bank_account import BankAccount\"                                            >> testing_python/tests/test_bank_account.py\n",
        "!echo \"\"                                                                                    >> testing_python/tests/test_bank_account.py\n",
        "!echo \"SERVER = True\"                                                                       >> testing_python/tests/test_bank_account.py\n",
        "!echo \"ENVIRONMENT = 'server'\"                                                              >> testing_python/tests/test_bank_account.py\n",
        "!echo \"\"                                                                                    >> testing_python/tests/test_bank_account.py\n",
        "!echo \"class TestBankAccount(unittest.TestCase):\"                                           >> testing_python/tests/test_bank_account.py\n",
        "!echo \"    def setUp(self):\"                                                                >> testing_python/tests/test_bank_account.py\n",
        "!echo \"        self.account = BankAccount(balance=1000, log_file='test_log.txt')\"           >> testing_python/tests/test_bank_account.py\n",
        "!echo \"\"                                                                                    >> testing_python/tests/test_bank_account.py\n",
        "!echo \"    def tearDown(self):\"                                                             >> testing_python/tests/test_bank_account.py\n",
        "!echo \"        if os.path.exists('test_log.txt'):\"                                          >> testing_python/tests/test_bank_account.py\n",
        "!echo \"            os.remove('test_log.txt')\"                                               >> testing_python/tests/test_bank_account.py\n",
        "!echo \"\"                                                                                    >> testing_python/tests/test_bank_account.py\n",
        "!echo \"    def test_deposit(self):\"                                                         >> testing_python/tests/test_bank_account.py\n",
        "!echo \"        new_balace = self.account.deposit(500)\"                                      >> testing_python/tests/test_bank_account.py\n",
        "!echo \"        self.assertEqual(new_balace, 1500)\"                                          >> testing_python/tests/test_bank_account.py\n",
        "!echo \"\"                                                                                    >> testing_python/tests/test_bank_account.py\n",
        "!echo \"    def test_withdraw(self):\"                                                        >> testing_python/tests/test_bank_account.py\n",
        "!echo \"        new_balace = self.account.withdraw(200)\"                                     >> testing_python/tests/test_bank_account.py\n",
        "!echo \"        self.assertEqual(new_balace, 800, 'Balance is not correct')\"                 >> testing_python/tests/test_bank_account.py\n",
        "!echo \"\"                                                                                    >> testing_python/tests/test_bank_account.py\n",
        "!echo \"    def test_get_balance(self):\"                                                     >> testing_python/tests/test_bank_account.py\n",
        "!echo \"        balance = self.account.get_balance()\"                                        >> testing_python/tests/test_bank_account.py\n",
        "!echo \"        self.assertEqual(balance, 1000)\"                                             >> testing_python/tests/test_bank_account.py\n",
        "!echo \"\"                                                                                    >> testing_python/tests/test_bank_account.py\n",
        "!echo \"    def test_transaction_log(self):\"                                                 >> testing_python/tests/test_bank_account.py\n",
        "!echo \"        self.account.deposit(500)\"                                                   >> testing_python/tests/test_bank_account.py\n",
        "!echo \"        self.account.withdraw(200)\"                                                  >> testing_python/tests/test_bank_account.py\n",
        "!echo \"        self.account.get_balance()\"                                                  >> testing_python/tests/test_bank_account.py\n",
        "!echo \"        self.assertTrue(os.path.exists('test_log.txt'))\"                             >> testing_python/tests/test_bank_account.py\n",
        "!echo \"        with open('test_log.txt', 'r') as file:\"                                     >> testing_python/tests/test_bank_account.py\n",
        "!echo \"            content = file.readlines()\"                                              >> testing_python/tests/test_bank_account.py\n",
        "!echo \"        self.assertEqual(content, [\"                                                 >> testing_python/tests/test_bank_account.py\n",
        "!echo \"            'Account created\\\\\\n', \"                                                 >> testing_python/tests/test_bank_account.py\n",
        "!echo \"            'Deposit 500, new balance 1500\\\\\\n', \"                                   >> testing_python/tests/test_bank_account.py\n",
        "!echo \"            'Withdraw 200, new balance 1300\\\\\\n', \"                                  >> testing_python/tests/test_bank_account.py\n",
        "!echo \"            'Balance check, balance 1300\\\\\\n'\"                                       >> testing_python/tests/test_bank_account.py\n",
        "!echo \"            ])\"                                                                      >> testing_python/tests/test_bank_account.py\n",
        "!echo \"\"                                                                                    >> testing_python/tests/test_bank_account.py\n",
        "!echo \"    @unittest.skip('Not implemented yet')\"                                           >> testing_python/tests/test_bank_account.py\n",
        "!echo \"    def test_has_loan(self):\"                                                        >> testing_python/tests/test_bank_account.py\n",
        "!echo \"        self.assertFalse(self.account.has_loan())\"                                   >> testing_python/tests/test_bank_account.py\n",
        "!echo \"\"                                                                                    >> testing_python/tests/test_bank_account.py\n",
        "!echo \"    @unittest.skipIf(SERVER, 'Only for local testing')\"                              >> testing_python/tests/test_bank_account.py\n",
        "!echo \"    def test_server(self):\"                                                          >> testing_python/tests/test_bank_account.py\n",
        "!echo \"        self.assertTrue(SERVER)\"                                                     >> testing_python/tests/test_bank_account.py\n",
        "!echo \"\"                                                                                    >> testing_python/tests/test_bank_account.py\n",
        "!echo \"    @unittest.expectedFailure\"                                                       >> testing_python/tests/test_bank_account.py\n",
        "!echo \"    def test_fail(self):\"                                                            >> testing_python/tests/test_bank_account.py\n",
        "!echo \"        new_balace = self.account.withdraw(1200)\"                                    >> testing_python/tests/test_bank_account.py\n",
        "!echo \"        self.assertEqual(new_balace, 800, 'Not enough money')\"                       >> testing_python/tests/test_bank_account.py\n",
        "!echo \"\"                                                                                    >> testing_python/tests/test_bank_account.py\n",
        "!echo \"    @unittest.skipUnless(ENVIRONMENT == 'dev', 'Only for dev environment')\"          >> testing_python/tests/test_bank_account.py\n",
        "!echo \"    def test_environment(self):\"                                                     >> testing_python/tests/test_bank_account.py\n",
        "!echo \"        self.assertEqual(ENVIRONMENT, 'dev')\"                                        >> testing_python/tests/test_bank_account.py"
      ]
    },
    {
      "cell_type": "markdown",
      "metadata": {},
      "source": [
        "We pass the tests"
      ]
    },
    {
      "cell_type": "code",
      "execution_count": 15,
      "metadata": {},
      "outputs": [
        {
          "name": "stdout",
          "output_type": "stream",
          "text": [
            "test_deposit (test_bank_account.TestBankAccount) ... ok\n",
            "test_environment (test_bank_account.TestBankAccount) ... skipped 'Only for dev environment'\n",
            "test_fail (test_bank_account.TestBankAccount) ... expected failure\n",
            "test_get_balance (test_bank_account.TestBankAccount) ... ok\n",
            "test_has_loan (test_bank_account.TestBankAccount) ... skipped 'Not implemented yet'\n",
            "test_server (test_bank_account.TestBankAccount) ... skipped 'Only for local testing'\n",
            "test_transaction_log (test_bank_account.TestBankAccount) ... ok\n",
            "test_withdraw (test_bank_account.TestBankAccount) ... ok\n",
            "test_divide (test_calculator.TestCalculator) ... ok\n",
            "test_multiply (test_calculator.TestCalculator) ... ok\n",
            "test_substract (test_calculator.TestCalculator) ... ok\n",
            "test_sum (test_calculator.TestCalculator) ... ok\n",
            "\n",
            "----------------------------------------------------------------------\n",
            "Ran 12 tests in 0.001s\n",
            "\n",
            "OK (skipped=3, expected failures=1)\n"
          ]
        }
      ],
      "source": [
        "!cd testing_python && python -m unittest discover -s tests -v"
      ]
    },
    {
      "cell_type": "markdown",
      "metadata": {},
      "source": [
        "We get `test_environment (test_bank_account.TestBankAccount) ... skipped 'Only for dev environment'` because that test is only going to pass in the development environment and we are supposed to be on the server."
      ]
    },
    {
      "cell_type": "markdown",
      "metadata": {},
      "source": [
        "## Organize the tests"
      ]
    },
    {
      "cell_type": "markdown",
      "metadata": {},
      "source": [
        "We can organize the tests by creating what are called `test suites`. To do this, we will create a file called `test_suites.py` in the `tests` folder."
      ]
    },
    {
      "cell_type": "code",
      "execution_count": 17,
      "metadata": {},
      "outputs": [],
      "source": [
        "!cd testing_python && cd tests && touch test_suites.py"
      ]
    },
    {
      "cell_type": "markdown",
      "metadata": {},
      "source": [
        "And now we generate two test suites with the tests from `test_calculator` and `test_bank_account`"
      ]
    },
    {
      "cell_type": "code",
      "execution_count": 32,
      "metadata": {},
      "outputs": [],
      "source": [
        "!echo \"import unittest\"                                              > testing_python/tests/test_suite_calculator.py\n",
        "!echo \"\"                                                            >> testing_python/tests/test_suite_calculator.py\n",
        "!echo \"from test_calculator import TestCalculator\"                  >> testing_python/tests/test_suite_calculator.py\n",
        "!echo \"\"                                                            >> testing_python/tests/test_suite_calculator.py\n",
        "!echo \"def calculator_suite():\"                                     >> testing_python/tests/test_suite_calculator.py\n",
        "!echo \"    suite = unittest.TestSuite()\"                            >> testing_python/tests/test_suite_calculator.py\n",
        "!echo \"    suite.addTest(TestCalculator('test_sum'))\"               >> testing_python/tests/test_suite_calculator.py\n",
        "!echo \"    suite.addTest(TestCalculator('test_substract'))\"          >> testing_python/tests/test_suite_calculator.py\n",
        "!echo \"    suite.addTest(TestCalculator('test_multiply'))\"          >> testing_python/tests/test_suite_calculator.py\n",
        "!echo \"    suite.addTest(TestCalculator('test_divide'))\"          >> testing_python/tests/test_suite_calculator.py\n",
        "!echo \"    return suite\"                                            >> testing_python/tests/test_suite_calculator.py\n",
        "!echo \"\"                                                            >> testing_python/tests/test_suite_calculator.py\n",
        "!echo \"if __name__ == '__main__':\"                                  >> testing_python/tests/test_suite_calculator.py\n",
        "!echo \"    runner = unittest.TextTestRunner()\"                      >> testing_python/tests/test_suite_calculator.py\n",
        "!echo \"    runner.run(calculator_suite())\"                          >> testing_python/tests/test_suite_calculator.py"
      ]
    },
    {
      "cell_type": "markdown",
      "metadata": {},
      "source": [
        "Now the one for `test_bank_account`"
      ]
    },
    {
      "cell_type": "code",
      "execution_count": 35,
      "metadata": {},
      "outputs": [],
      "source": [
        "!echo \"import unittest\"                                              > testing_python/tests/test_suite_bank_account.py\n",
        "!echo \"\"                                                            >> testing_python/tests/test_suite_bank_account.py\n",
        "!echo \"from test_bank_account import TestBankAccount\"               >> testing_python/tests/test_suite_bank_account.py\n",
        "!echo \"\"                                                            >> testing_python/tests/test_suite_bank_account.py\n",
        "!echo \"def bank_account_suite():\"                                   >> testing_python/tests/test_suite_bank_account.py\n",
        "!echo \"    suite = unittest.TestSuite()\"                            >> testing_python/tests/test_suite_bank_account.py\n",
        "!echo \"    suite.addTest(TestBankAccount('test_deposit'))\"          >> testing_python/tests/test_suite_bank_account.py\n",
        "!echo \"    suite.addTest(TestBankAccount('test_withdraw'))\"         >> testing_python/tests/test_suite_bank_account.py\n",
        "!echo \"    suite.addTest(TestBankAccount('test_get_balance'))\"      >> testing_python/tests/test_suite_bank_account.py\n",
        "!echo \"    suite.addTest(TestBankAccount('test_transaction_log'))\"  >> testing_python/tests/test_suite_bank_account.py\n",
        "!echo \"    suite.addTest(TestBankAccount('test_has_loan'))\"         >> testing_python/tests/test_suite_bank_account.py\n",
        "!echo \"    suite.addTest(TestBankAccount('test_server'))\"           >> testing_python/tests/test_suite_bank_account.py\n",
        "!echo \"    suite.addTest(TestBankAccount('test_fail'))\"             >> testing_python/tests/test_suite_bank_account.py\n",
        "!echo \"    suite.addTest(TestBankAccount('test_environment'))\"      >> testing_python/tests/test_suite_bank_account.py\n",
        "!echo \"    return suite\"                                            >> testing_python/tests/test_suite_bank_account.py\n",
        "!echo \"\"                                                            >> testing_python/tests/test_suite_bank_account.py\n",
        "!echo \"if __name__ == '__main__':\"                                  >> testing_python/tests/test_suite_bank_account.py\n",
        "!echo \"    runner = unittest.TextTestRunner()\"                      >> testing_python/tests/test_suite_bank_account.py\n",
        "!echo \"    runner.run(bank_account_suite())\"                        >> testing_python/tests/test_suite_bank_account.py"
      ]
    },
    {
      "cell_type": "markdown",
      "metadata": {},
      "source": [
        "We can run only the `test_calculator` tests with the command `python tests/test_suite_calculator.py`"
      ]
    },
    {
      "cell_type": "code",
      "execution_count": null,
      "metadata": {},
      "outputs": [
        {
          "name": "stdout",
          "output_type": "stream",
          "text": [
            "Traceback (most recent call last):\n",
            "  File \"/home/wallabot/Documentos/web/portafolio/posts/testing_python/tests/test_suite_calculator.py\", line 3, in <module>\n",
            "    from test_calculator import TestCalculator\n",
            "  File \"/home/wallabot/Documentos/web/portafolio/posts/testing_python/tests/test_calculator.py\", line 2, in <module>\n",
            "    from src.calculator import sum, substract, multiply, divide\n",
            "ModuleNotFoundError: No module named 'src'\n"
          ]
        }
      ],
      "source": [
        "!cd testing_python && python tests/test_suite_calculator.py"
      ]
    },
    {
      "cell_type": "markdown",
      "metadata": {},
      "source": [
        "We see that it cannot find the `src` module from `test_calculator.py`, this is because it is not in the path, so let's add it."
      ]
    },
    {
      "cell_type": "code",
      "execution_count": null,
      "metadata": {},
      "outputs": [
        {
          "name": "stdout",
          "output_type": "stream",
          "text": [
            "....\n",
            "----------------------------------------------------------------------\n",
            "Ran 4 tests in 0.000s\n",
            "\n",
            "OK\n"
          ]
        }
      ],
      "source": [
        "!cd testing_python && PYTHONPATH=. python tests/test_suite_calculator.py"
      ]
    },
    {
      "cell_type": "markdown",
      "metadata": {},
      "source": [
        "We see that only the `test_calculator` tests have passed."
      ]
    },
    {
      "cell_type": "markdown",
      "metadata": {},
      "source": [
        "Let's move on to the ones in `test_bank_account.py`"
      ]
    },
    {
      "cell_type": "code",
      "execution_count": null,
      "metadata": {},
      "outputs": [
        {
          "name": "stdout",
          "output_type": "stream",
          "text": [
            "....ssxs\n",
            "----------------------------------------------------------------------\n",
            "Ran 8 tests in 0.001s\n",
            "\n",
            "OK (skipped=3, expected failures=1)\n"
          ]
        }
      ],
      "source": [
        "!cd testing_python && PYTHONPATH=. python tests/test_suite_bank_account.py"
      ]
    },
    {
      "cell_type": "markdown",
      "metadata": {},
      "source": [
        "And here we see that it passes the `test_bank_account` tests."
      ]
    },
    {
      "cell_type": "markdown",
      "metadata": {},
      "source": [
        "We need to differentiate from what we did at the beginning, before using `discover`, when we did `!cd testing_python && python -m unittest tests/test_calculator.py`. Because in `test_calculator.py` we can write all possible tests for `calculator.py`, but with `suite`s we run the tests we want. We could have several `suite`s to run the tests we want from `test_calculator.py` and `test_bank_account.py`."
      ]
    },
    {
      "cell_type": "markdown",
      "metadata": {},
      "source": [
        "## Best practices when naming tests"
      ]
    },
    {
      "cell_type": "markdown",
      "metadata": {},
      "source": [
        "When naming tests, it's a good idea to follow these guidelines:",
        "* One test class for each code class",
        "* All tests must start with `test_` to know that it is a code",
        "* The name of the function or method being tested should follow below",
        "* The test scenario should follow, as a method or function can have several test scenarios. For example, with all possible input values, with boundary values, with incorrect values, etc.",
        "* Finally, the expected result should be added",
        "\n",
        "So a test should have the following format `test_<function_name>_<scenario>_<expected_result>`"
      ]
    },
    {
      "cell_type": "markdown",
      "metadata": {},
      "source": [
        "## API Mocking"
      ]
    },
    {
      "cell_type": "markdown",
      "metadata": {},
      "source": [
        "Let's assume our code calls an external API and we want to test our code without depending on the external API. For this, we can use `unittest.mock`, which comes by default in Python."
      ]
    },
    {
      "cell_type": "markdown",
      "metadata": {},
      "source": [
        "First, let's create a file called `api.py` in the `src` folder"
      ]
    },
    {
      "cell_type": "code",
      "execution_count": 44,
      "metadata": {},
      "outputs": [],
      "source": [
        "!echo \"import requests\"                                              > testing_python/src/api.py\n",
        "!echo \"\"                                                            >> testing_python/src/api.py\n",
        "!echo \"def get_api():\"                                              >> testing_python/src/api.py\n",
        "!echo \"    url = 'https://jsonplaceholder.typicode.com/posts/1'\"    >> testing_python/src/api.py\n",
        "!echo \"    try:\"                                                    >> testing_python/src/api.py\n",
        "!echo \"        response = requests.get(url)\"                        >> testing_python/src/api.py\n",
        "!echo \"        response.raise_for_status()\"                         >> testing_python/src/api.py\n",
        "!echo \"        data = response.json()\"                              >> testing_python/src/api.py\n",
        "!echo \"        print(data)\"                                         >> testing_python/src/api.py\n",
        "!echo \"        return data\"                                         >> testing_python/src/api.py\n",
        "!echo \"    except requests.exceptions.RequestException as e:\"       >> testing_python/src/api.py\n",
        "!echo \"        print(f'error: {e}')\"                                >> testing_python/src/api.py\n",
        "!echo \"        return None\"                                         >> testing_python/src/api.py\n",
        "!echo \"\"                                                            >> testing_python/src/api.py\n",
        "!echo \"if __name__ == '__main__':\"                                  >> testing_python/src/api.py\n",
        "!echo \"    get_api()\"                                               >> testing_python/src/api.py"
      ]
    },
    {
      "cell_type": "markdown",
      "metadata": {},
      "source": [
        "Let's run the file to see what it returns"
      ]
    },
    {
      "cell_type": "code",
      "execution_count": 45,
      "metadata": {},
      "outputs": [
        {
          "name": "stdout",
          "output_type": "stream",
          "text": [
            "{'userId': 1, 'id': 1, 'title': 'sunt aut facere repellat provident occaecati excepturi optio reprehenderit', 'body': 'quia et suscipit\\nsuscipit recusandae consequuntur expedita et cum\\nreprehenderit molestiae ut ut quas totam\\nnostrum rerum est autem sunt rem eveniet architecto'}\n"
          ]
        }
      ],
      "source": [
        "!cd testing_python/src && python api.py"
      ]
    },
    {
      "cell_type": "markdown",
      "metadata": {},
      "source": [
        "Now we create the test"
      ]
    },
    {
      "cell_type": "code",
      "execution_count": null,
      "metadata": {},
      "outputs": [],
      "source": [
        "!echo \"import unittest\"                                              > testing_python/tests/test_api.py\n",
        "!echo \"from src.api import get_api\"                                 >> testing_python/tests/test_api.py\n",
        "!echo \"\"                                                            >> testing_python/tests/test_api.py\n",
        "!echo \"class TestApi(unittest.TestCase):\"                           >> testing_python/tests/test_api.py\n",
        "!echo \"    def test_get_api(self):\"                                 >> testing_python/tests/test_api.py\n",
        "!echo \"        data = get_api()\"                                    >> testing_python/tests/test_api.py\n",
        "!echo \"        self.assertIsNotNone(data)\"                          >> testing_python/tests/test_api.py\n",
        "!echo \"        self.assertIsInstance(data, dict)\"                   >> testing_python/tests/test_api.py\n",
        "!echo \"        self.assertIn('userId', data)\"                       >> testing_python/tests/test_api.py\n",
        "!echo \"        self.assertIn('id', data)\"                           >> testing_python/tests/test_api.py\n",
        "!echo \"        self.assertIn('title', data)\"                        >> testing_python/tests/test_api.py\n",
        "!echo \"        self.assertIn('body', data)\"                         >> testing_python/tests/test_api.py\n",
        "!echo \"        self.assertEqual(data['userId'], 1)\"                 >> testing_python/tests/test_api.py\n",
        "!echo \"        self.assertEqual(data['id'], 1)\"                     >> testing_python/tests/test_api.py"
      ]
    },
    {
      "cell_type": "markdown",
      "metadata": {},
      "source": [
        "We pass the tests"
      ]
    },
    {
      "cell_type": "code",
      "execution_count": 47,
      "metadata": {},
      "outputs": [
        {
          "name": "stdout",
          "output_type": "stream",
          "text": [
            "{'userId': 1, 'id': 1, 'title': 'sunt aut facere repellat provident occaecati excepturi optio reprehenderit', 'body': 'quia et suscipit\\nsuscipit recusandae consequuntur expedita et cum\\nreprehenderit molestiae ut ut quas totam\\nnostrum rerum est autem sunt rem eveniet architecto'}\n",
            ".\n",
            "----------------------------------------------------------------------\n",
            "Ran 1 test in 0.074s\n",
            "\n",
            "OK\n"
          ]
        }
      ],
      "source": [
        "!cd testing_python && python -m unittest tests/test_api.py"
      ]
    },
    {
      "cell_type": "markdown",
      "metadata": {},
      "source": [
        "Let's run the tests for `bank_account` to see how long it takes"
      ]
    },
    {
      "cell_type": "code",
      "execution_count": 48,
      "metadata": {},
      "outputs": [
        {
          "name": "stdout",
          "output_type": "stream",
          "text": [
            "....ssxs\n",
            "----------------------------------------------------------------------\n",
            "Ran 8 tests in 0.001s\n",
            "\n",
            "OK (skipped=3, expected failures=1)\n"
          ]
        }
      ],
      "source": [
        "!cd testing_python && PYTHONPATH=. python tests/test_suite_bank_account.py"
      ]
    },
    {
      "cell_type": "markdown",
      "metadata": {},
      "source": [
        "As we can see, 8 tests took 0.001 seconds, while a single API test took 0.074 seconds. This can make a code with many calls to an API take a long time to run the tests. Additionally, there's a risk that if the API changes and doesn't return what we expect, the tests will fail even though our code is correct. That's why APIs are mocked."
      ]
    },
    {
      "cell_type": "markdown",
      "metadata": {},
      "source": [
        "Let's see how to do it"
      ]
    },
    {
      "cell_type": "code",
      "execution_count": null,
      "metadata": {},
      "outputs": [],
      "source": [
        "!echo \"import unittest\"                                              > testing_python/tests/test_api.py\n",
        "!echo \"from src.api import get_api\"                                 >> testing_python/tests/test_api.py\n",
        "!echo \"from unittest.mock import patch\"                             >> testing_python/tests/test_api.py\n",
        "!echo \"\"                                                            >> testing_python/tests/test_api.py\n",
        "!echo \"class TestApi(unittest.TestCase):\"                           >> testing_python/tests/test_api.py\n",
        "!echo \"    @patch('src.api.requests.get')\"                          >> testing_python/tests/test_api.py\n",
        "!echo \"    def test_get_api(self, mock_get):\"                       >> testing_python/tests/test_api.py\n",
        "!echo \"        mock_get.return_value.status_code = 200\"             >> testing_python/tests/test_api.py\n",
        "!echo \"        mock_get.return_value.json.return_value = {\"         >> testing_python/tests/test_api.py\n",
        "!echo \"            'userId': 1,\"                                    >> testing_python/tests/test_api.py\n",
        "!echo \"            'id': 1,\"                                        >> testing_python/tests/test_api.py\n",
        "!echo \"            'title': 'title',\"                               >> testing_python/tests/test_api.py\n",
        "!echo \"            'body': 'body'\"                                  >> testing_python/tests/test_api.py\n",
        "!echo \"        }\"                                                   >> testing_python/tests/test_api.py\n",
        "!echo \"        data = get_api()\"                                    >> testing_python/tests/test_api.py\n",
        "!echo \"        self.assertIsNotNone(data)\"                          >> testing_python/tests/test_api.py\n",
        "!echo \"        self.assertIsInstance(data, dict)\"                   >> testing_python/tests/test_api.py\n",
        "!echo \"        self.assertIn('userId', data)\"                       >> testing_python/tests/test_api.py\n",
        "!echo \"        self.assertIn('id', data)\"                           >> testing_python/tests/test_api.py\n",
        "!echo \"        self.assertIn('title', data)\"                        >> testing_python/tests/test_api.py\n",
        "!echo \"        self.assertIn('body', data)\"                         >> testing_python/tests/test_api.py\n",
        "!echo \"        self.assertEqual(data['userId'], 1)\"                 >> testing_python/tests/test_api.py\n",
        "!echo \"        self.assertEqual(data['id'], 1)\"                     >> testing_python/tests/test_api.py\n",
        "!echo \"        \"                                                    >> testing_python/tests/test_api.py\n",
        "!echo \"        mock_get.assert_called_once_with('https://jsonplaceholder.typicode.com/posts/1')\" >> testing_python/tests/test_api.py"
      ]
    },
    {
      "cell_type": "markdown",
      "metadata": {},
      "source": [
        "What we have done is",
        "* Import `patch` from `unittest.mock`.",
        "* We have added a decorator to the function `test_get_data` and passed as a parameter to the decorator the function we want to mock.",
        "* We have created a `mock_get` object that will replace the original function with the `return_value` method, which is the value that the mocked function will return.",
        "* When `get_api()` is called, instead of executing the original function, `data` will contain the value we have mocked in `return_value`",
        "* Finally, we added the check that the `URL` of the API can be called."
      ]
    },
    {
      "cell_type": "code",
      "execution_count": 57,
      "metadata": {},
      "outputs": [
        {
          "name": "stdout",
          "output_type": "stream",
          "text": [
            "{'userId': 1, 'id': 1, 'title': 'title', 'body': 'body'}\n",
            ".\n",
            "----------------------------------------------------------------------\n",
            "Ran 1 test in 0.001s\n",
            "\n",
            "OK\n"
          ]
        }
      ],
      "source": [
        "!cd testing_python && python -m unittest tests/test_api.py"
      ]
    },
    {
      "cell_type": "markdown",
      "metadata": {},
      "source": [
        "As we can see, it now only takes 0.002 seconds."
      ]
    },
    {
      "cell_type": "markdown",
      "metadata": {},
      "source": [
        "## Modify the result of objects using `patch`"
      ]
    },
    {
      "cell_type": "markdown",
      "metadata": {},
      "source": [
        "Suppose we want to modify the method of withdrawing money so that it can only be done within a specific range of hours.",
        "\n",
        "First we modify the withdraw function",
        "\n",
        "```python\n",
        "def withdraw(self, amount):",
        "now = datetime.now()",
        "if now.hour < 7 or now.hour > 18:",
        "print('Out of hours')",
        "return None",
        "if amount > 0:",
        "self.balance -= amount",
        "self._log_transaction(f'Withdraw {amount}, new balance {self.balance}')",
        "return self.balance",
        "```"
      ]
    },
    {
      "cell_type": "code",
      "execution_count": 5,
      "metadata": {},
      "outputs": [],
      "source": [
        "!echo \"from datetime import datetime\"                                                        > testing_python/src/bank_account.py\n",
        "!echo \"\"                                                                                    >> testing_python/src/bank_account.py\n",
        "!echo \"class BankAccount:\"                                                                  >> testing_python/src/bank_account.py\n",
        "!echo \"    def __init__(self, balance=0, log_file=None):\"                                   >> testing_python/src/bank_account.py\n",
        "!echo \"        self.balance = balance\"                                                      >> testing_python/src/bank_account.py\n",
        "!echo \"        self.log_file = log_file\"                                                    >> testing_python/src/bank_account.py\n",
        "!echo \"        self._log_transaction('Account created')\"                                    >> testing_python/src/bank_account.py\n",
        "!echo \"\"                                                                                    >> testing_python/src/bank_account.py\n",
        "!echo \"    def _log_transaction(self, message):\"                                            >> testing_python/src/bank_account.py\n",
        "!echo \"        if self.log_file:\"                                                           >> testing_python/src/bank_account.py\n",
        "!echo \"            with open(self.log_file, 'a') as file:\"                                  >> testing_python/src/bank_account.py\n",
        "!echo \"                file.write(f'{message}\\\\\\\\n')\"                                       >> testing_python/src/bank_account.py\n",
        "!echo \"\"                                                                                    >> testing_python/src/bank_account.py\n",
        "!echo \"    def deposit(self, amount):\"                                                      >> testing_python/src/bank_account.py\n",
        "!echo \"        if amount > 0:\"                                                              >> testing_python/src/bank_account.py\n",
        "!echo \"            self.balance += amount\"                                                  >> testing_python/src/bank_account.py\n",
        "!echo \"            self._log_transaction(f'Deposit {amount}, new balance {self.balance}')\"  >> testing_python/src/bank_account.py\n",
        "!echo \"        return self.balance\"                                                         >> testing_python/src/bank_account.py\n",
        "!echo \"\"                                                                                    >> testing_python/src/bank_account.py\n",
        "!echo \"    def withdraw(self, amount):\"                                                     >> testing_python/src/bank_account.py\n",
        "!echo \"        now = datetime.now()\"                                                        >> testing_python/src/bank_account.py\n",
        "!echo \"        if now.hour < 7 or now.hour > 18:\"                                           >> testing_python/src/bank_account.py\n",
        "!echo \"            print('Out of hours')\"                                                   >> testing_python/src/bank_account.py\n",
        "!echo \"            return None\"                                                             >> testing_python/src/bank_account.py\n",
        "!echo \"        if amount > 0:\"                                                              >> testing_python/src/bank_account.py\n",
        "!echo \"            self.balance -= amount\"                                                  >> testing_python/src/bank_account.py\n",
        "!echo \"            self._log_transaction(f'Withdraw {amount}, new balance {self.balance}')\" >> testing_python/src/bank_account.py\n",
        "!echo \"        return self.balance\"                                                         >> testing_python/src/bank_account.py\n",
        "!echo \"\"                                                                                    >> testing_python/src/bank_account.py\n",
        "!echo \"    def get_balance(self):\"                                                          >> testing_python/src/bank_account.py\n",
        "!echo \"        self._log_transaction(f'Balance check, balance {self.balance}')\"             >> testing_python/src/bank_account.py\n",
        "!echo \"        return self.balance\"                                                         >> testing_python/src/bank_account.py"
      ]
    },
    {
      "cell_type": "markdown",
      "metadata": {},
      "source": [
        "Now we need to be able to test the withdrawal of money at different times, but we can't keep changing the system time, nor can we wait for it to be a specific time to run the test. For this, we can use `patch` to modify the result of `datetime.now()`",
        "\n",
        "```python\n",
        "@patch('src.bank_account.datetime.now')",
        "def test_withdraw_during_working_hours(self, mock_now):",
        "mock_now.return_value.hour = 10",
        "new_balance = self.account.withdraw(200)",
        "self.assertEqual(new_balance, 800, 'Balance is not correct')",
        "\n",
        "@patch('src.bank_account.datetime.now')",
        "def test_withdraw_during_non_working_hours(self, mock_now):",
        "mock_now.return_value.hour = 20",
        "new_balance = self.account.withdraw(200)",
        "self.assertIsNone(new_balance, 'Balance is not correct')",
        "```"
      ]
    },
    {
      "cell_type": "code",
      "execution_count": 10,
      "metadata": {},
      "outputs": [],
      "source": [
        "!echo \"import unittest\"                                                                      > testing_python/tests/test_bank_account.py\n",
        "!echo \"from unittest.mock import patch\"                                                     >> testing_python/tests/test_bank_account.py\n",
        "!echo \"import os\"                                                                           >> testing_python/tests/test_bank_account.py\n",
        "!echo \"from src.bank_account import BankAccount\"                                            >> testing_python/tests/test_bank_account.py\n",
        "!echo \"\"                                                                                    >> testing_python/tests/test_bank_account.py\n",
        "!echo \"SERVER = True\"                                                                       >> testing_python/tests/test_bank_account.py\n",
        "!echo \"ENVIRONMENT = 'server'\"                                                              >> testing_python/tests/test_bank_account.py\n",
        "!echo \"\"                                                                                    >> testing_python/tests/test_bank_account.py\n",
        "!echo \"class TestBankAccount(unittest.TestCase):\"                                           >> testing_python/tests/test_bank_account.py\n",
        "!echo \"    def setUp(self):\"                                                                >> testing_python/tests/test_bank_account.py\n",
        "!echo \"        self.account = BankAccount(balance=1000, log_file='test_log.txt')\"           >> testing_python/tests/test_bank_account.py\n",
        "!echo \"\"                                                                                    >> testing_python/tests/test_bank_account.py\n",
        "!echo \"    def tearDown(self):\"                                                             >> testing_python/tests/test_bank_account.py\n",
        "!echo \"        if os.path.exists('test_log.txt'):\"                                          >> testing_python/tests/test_bank_account.py\n",
        "!echo \"            os.remove('test_log.txt')\"                                               >> testing_python/tests/test_bank_account.py\n",
        "!echo \"\"                                                                                    >> testing_python/tests/test_bank_account.py\n",
        "!echo \"    def test_deposit(self):\"                                                         >> testing_python/tests/test_bank_account.py\n",
        "!echo \"        new_balace = self.account.deposit(500)\"                                      >> testing_python/tests/test_bank_account.py\n",
        "!echo \"        self.assertEqual(new_balace, 1500)\"                                          >> testing_python/tests/test_bank_account.py\n",
        "!echo \"\"                                                                                    >> testing_python/tests/test_bank_account.py\n",
        "!echo \"    def test_withdraw(self):\"                                                        >> testing_python/tests/test_bank_account.py\n",
        "!echo \"        new_balace = self.account.withdraw(200)\"                                     >> testing_python/tests/test_bank_account.py\n",
        "!echo \"        self.assertEqual(new_balace, 800, 'Balance is not correct')\"                 >> testing_python/tests/test_bank_account.py\n",
        "!echo \"\"                                                                                    >> testing_python/tests/test_bank_account.py\n",
        "!echo \"    @patch('src.bank_account.datetime.now')\"                                         >> testing_python/tests/test_bank_account.py\n",
        "!echo \"    def test_withdraw_during_working_hours(self, mock_now):\"                         >> testing_python/tests/test_bank_account.py\n",
        "!echo \"        mock_now.return_value.hour = 10\"                                             >> testing_python/tests/test_bank_account.py\n",
        "!echo \"        new_balace = self.account.withdraw(200)\"                                     >> testing_python/tests/test_bank_account.py\n",
        "!echo \"        self.assertEqual(new_balace, 800, 'Balance is not correct')\"                 >> testing_python/tests/test_bank_account.py\n",
        "!echo \"\"                                                                                    >> testing_python/tests/test_bank_account.py\n",
        "!echo \"    @patch('src.bank_account.datetime.now')\"                                         >> testing_python/tests/test_bank_account.py\n",
        "!echo \"    def test_withdraw_during_non_working_hours(self, mock_now):\"                     >> testing_python/tests/test_bank_account.py\n",
        "!echo \"        mock_now.return_value.hour = 20\"                                             >> testing_python/tests/test_bank_account.py\n",
        "!echo \"        new_balace = self.account.withdraw(200)\"                                     >> testing_python/tests/test_bank_account.py\n",
        "!echo \"        self.assertIsNone(new_balace, 'Balance is not correct')\"                     >> testing_python/tests/test_bank_account.py\n",
        "!echo \"\"                                                                                    >> testing_python/tests/test_bank_account.py\n",
        "!echo \"    def test_get_balance(self):\"                                                     >> testing_python/tests/test_bank_account.py\n",
        "!echo \"        balance = self.account.get_balance()\"                                        >> testing_python/tests/test_bank_account.py\n",
        "!echo \"        self.assertEqual(balance, 1000)\"                                             >> testing_python/tests/test_bank_account.py\n",
        "!echo \"\"                                                                                    >> testing_python/tests/test_bank_account.py\n",
        "!echo \"    def test_transaction_log(self):\"                                                 >> testing_python/tests/test_bank_account.py\n",
        "!echo \"        self.account.deposit(500)\"                                                   >> testing_python/tests/test_bank_account.py\n",
        "!echo \"        self.account.withdraw(200)\"                                                  >> testing_python/tests/test_bank_account.py\n",
        "!echo \"        self.account.get_balance()\"                                                  >> testing_python/tests/test_bank_account.py\n",
        "!echo \"        self.assertTrue(os.path.exists('test_log.txt'))\"                             >> testing_python/tests/test_bank_account.py\n",
        "!echo \"        with open('test_log.txt', 'r') as file:\"                                     >> testing_python/tests/test_bank_account.py\n",
        "!echo \"            content = file.readlines()\"                                              >> testing_python/tests/test_bank_account.py\n",
        "!echo \"        self.assertEqual(content, [\"                                                 >> testing_python/tests/test_bank_account.py\n",
        "!echo \"            'Account created\\\\\\n', \"                                                 >> testing_python/tests/test_bank_account.py\n",
        "!echo \"            'Deposit 500, new balance 1500\\\\\\n', \"                                   >> testing_python/tests/test_bank_account.py\n",
        "!echo \"            'Withdraw 200, new balance 1300\\\\\\n', \"                                  >> testing_python/tests/test_bank_account.py\n",
        "!echo \"            'Balance check, balance 1300\\\\\\n'\"                                       >> testing_python/tests/test_bank_account.py\n",
        "!echo \"            ])\"                                                                      >> testing_python/tests/test_bank_account.py\n",
        "!echo \"\"                                                                                    >> testing_python/tests/test_bank_account.py\n",
        "!echo \"    @unittest.skip('Not implemented yet')\"                                           >> testing_python/tests/test_bank_account.py\n",
        "!echo \"    def test_has_loan(self):\"                                                        >> testing_python/tests/test_bank_account.py\n",
        "!echo \"        self.assertFalse(self.account.has_loan())\"                                   >> testing_python/tests/test_bank_account.py\n",
        "!echo \"\"                                                                                    >> testing_python/tests/test_bank_account.py\n",
        "!echo \"    @unittest.skipIf(SERVER, 'Only for local testing')\"                              >> testing_python/tests/test_bank_account.py\n",
        "!echo \"    def test_server(self):\"                                                          >> testing_python/tests/test_bank_account.py\n",
        "!echo \"        self.assertTrue(SERVER)\"                                                     >> testing_python/tests/test_bank_account.py\n",
        "!echo \"\"                                                                                    >> testing_python/tests/test_bank_account.py\n",
        "!echo \"    @unittest.expectedFailure\"                                                       >> testing_python/tests/test_bank_account.py\n",
        "!echo \"    def test_fail(self):\"                                                            >> testing_python/tests/test_bank_account.py\n",
        "!echo \"        new_balace = self.account.withdraw(1200)\"                                    >> testing_python/tests/test_bank_account.py\n",
        "!echo \"        self.assertEqual(new_balace, 800, 'Not enough money')\"                       >> testing_python/tests/test_bank_account.py\n",
        "!echo \"\"                                                                                    >> testing_python/tests/test_bank_account.py\n",
        "!echo \"    @unittest.skipUnless(ENVIRONMENT == 'dev', 'Only for dev environment')\"          >> testing_python/tests/test_bank_account.py\n",
        "!echo \"    def test_environment(self):\"                                                     >> testing_python/tests/test_bank_account.py\n",
        "!echo \"        self.assertEqual(ENVIRONMENT, 'dev')\"                                        >> testing_python/tests/test_bank_account.py"
      ]
    },
    {
      "cell_type": "markdown",
      "metadata": {},
      "source": [
        "We pass the tests"
      ]
    },
    {
      "cell_type": "code",
      "execution_count": 11,
      "metadata": {},
      "outputs": [
        {
          "name": "stdout",
          "output_type": "stream",
          "text": [
            "....ssxs\n",
            "----------------------------------------------------------------------\n",
            "Ran 8 tests in 0.001s\n",
            "\n",
            "OK (skipped=3, expected failures=1)\n"
          ]
        }
      ],
      "source": [
        "!cd testing_python && PYTHONPATH=. python tests/test_suite_bank_account.py"
      ]
    },
    {
      "cell_type": "markdown",
      "metadata": {},
      "source": [
        "## Parameterizing tests with `subTest`"
      ]
    },
    {
      "cell_type": "markdown",
      "metadata": {},
      "source": [
        "Suppose we want to run several tests for withdrawing money with different values. We could write a test for each value of money we want to test, but that would be repetitive code. For this, we can use `subTest`, which allows us to perform multiple tests with a single test case.",
        "\n",
        "What we do is create a dictionary with the different values we want to test and the expected result, and then with a `for` loop and `subTest` we perform the tests. This is how the test for the `withdraw` method would look:",
        "\n",
        "```python\n",
        "def test_withdraw(self):",
        "test_cases = {",
        "test_200: {",
        "'amount': 200,",
        "'expected': 800",
        "},",
        "test_400: {",
        "'amount': 400,",
        "'expected': 600",
        "},",
        "test_600: {",
        "'amount': 600,",
        "'expected': 400",
        "},",
        "test_800: {",
        "'amount': 800,",
        "'expected': 200",
        "},",
        "test_1000: {",
        "'amount': 1000,",
        "'expected': 0",
        "}",
        "It seems like you might have accidentally sent an incomplete request. If you have a Markdown text to translate, please provide it and I'll be happy to help!",
        "\n",
        "for test_name, test_case in test_cases.items():",
        "with self.subTest(test_name):",
        "self.account = BankAccount(balance=1000, log_file='test_log.txt')",
        "new_balance = self.account.withdraw(test_case['amount'])",
        "self.assertEqual(new_balance, test_case['expected'], 'Balance is not correct')",
        "```"
      ]
    },
    {
      "cell_type": "code",
      "execution_count": 14,
      "metadata": {},
      "outputs": [],
      "source": [
        "!echo \"import unittest\"                                                                      > testing_python/tests/test_bank_account.py\n",
        "!echo \"from unittest.mock import patch\"                                                     >> testing_python/tests/test_bank_account.py\n",
        "!echo \"import os\"                                                                           >> testing_python/tests/test_bank_account.py\n",
        "!echo \"from src.bank_account import BankAccount\"                                            >> testing_python/tests/test_bank_account.py\n",
        "!echo \"\"                                                                                    >> testing_python/tests/test_bank_account.py\n",
        "!echo \"SERVER = True\"                                                                       >> testing_python/tests/test_bank_account.py\n",
        "!echo \"ENVIRONMENT = 'server'\"                                                              >> testing_python/tests/test_bank_account.py\n",
        "!echo \"\"                                                                                    >> testing_python/tests/test_bank_account.py\n",
        "!echo \"class TestBankAccount(unittest.TestCase):\"                                           >> testing_python/tests/test_bank_account.py\n",
        "!echo \"    def setUp(self):\"                                                                >> testing_python/tests/test_bank_account.py\n",
        "!echo \"        self.account = BankAccount(balance=1000, log_file='test_log.txt')\"           >> testing_python/tests/test_bank_account.py\n",
        "!echo \"\"                                                                                    >> testing_python/tests/test_bank_account.py\n",
        "!echo \"    def tearDown(self):\"                                                             >> testing_python/tests/test_bank_account.py\n",
        "!echo \"        if os.path.exists('test_log.txt'):\"                                          >> testing_python/tests/test_bank_account.py\n",
        "!echo \"            os.remove('test_log.txt')\"                                               >> testing_python/tests/test_bank_account.py\n",
        "!echo \"\"                                                                                    >> testing_python/tests/test_bank_account.py\n",
        "!echo \"    def test_deposit(self):\"                                                         >> testing_python/tests/test_bank_account.py\n",
        "!echo \"        new_balace = self.account.deposit(500)\"                                      >> testing_python/tests/test_bank_account.py\n",
        "!echo \"        self.assertEqual(new_balace, 1500)\"                                          >> testing_python/tests/test_bank_account.py\n",
        "!echo \"\"                                                                                    >> testing_python/tests/test_bank_account.py\n",
        "!echo \"    def test_withdraw(self):\"                                                        >> testing_python/tests/test_bank_account.py\n",
        "!echo \"        test_cases = {\"                                                              >> testing_python/tests/test_bank_account.py\n",
        "!echo \"            'test_200': {\"                                                           >> testing_python/tests/test_bank_account.py\n",
        "!echo \"                'amount': 200,\"                                                      >> testing_python/tests/test_bank_account.py\n",
        "!echo \"                'expected': 800\"                                                     >> testing_python/tests/test_bank_account.py\n",
        "!echo \"            },\"                                                                      >> testing_python/tests/test_bank_account.py\n",
        "!echo \"            'test_400': {\"                                                           >> testing_python/tests/test_bank_account.py\n",
        "!echo \"                'amount': 400,\"                                                      >> testing_python/tests/test_bank_account.py\n",
        "!echo \"                'expected': 600\"                                                     >> testing_python/tests/test_bank_account.py\n",
        "!echo \"            },\"                                                                      >> testing_python/tests/test_bank_account.py\n",
        "!echo \"            'test_600': {\"                                                           >> testing_python/tests/test_bank_account.py\n",
        "!echo \"                'amount': 600,\"                                                      >> testing_python/tests/test_bank_account.py\n",
        "!echo \"                'expected': 400\"                                                     >> testing_python/tests/test_bank_account.py\n",
        "!echo \"            },\"                                                                      >> testing_python/tests/test_bank_account.py\n",
        "!echo \"            'test_800': {\"                                                           >> testing_python/tests/test_bank_account.py\n",
        "!echo \"                'amount': 800,\"                                                      >> testing_python/tests/test_bank_account.py\n",
        "!echo \"                'expected': 200\"                                                     >> testing_python/tests/test_bank_account.py\n",
        "!echo \"            },\"                                                                      >> testing_python/tests/test_bank_account.py\n",
        "!echo \"            'test_1000': {\"                                                          >> testing_python/tests/test_bank_account.py\n",
        "!echo \"                'amount': 1000,\"                                                     >> testing_python/tests/test_bank_account.py\n",
        "!echo \"                'expected': 0\"                                                       >> testing_python/tests/test_bank_account.py\n",
        "!echo \"            }\"                                                                       >> testing_python/tests/test_bank_account.py\n",
        "!echo \"        }\"                                                                           >> testing_python/tests/test_bank_account.py\n",
        "!echo \"        for test_case, values in test_cases.items():\"                                >> testing_python/tests/test_bank_account.py\n",
        "!echo \"            with self.subTest(test_case=test_case):\"                                 >> testing_python/tests/test_bank_account.py\n",
        "!echo \"                self.account = BankAccount(balance=1000, log_file='test_log.txt')\"   >> testing_python/tests/test_bank_account.py\n",
        "!echo \"                new_balace = self.account.withdraw(values['amount'])\"                >> testing_python/tests/test_bank_account.py\n",
        "!echo \"                self.assertEqual(new_balace, values['expected'], 'Balance is not correct')\" >> testing_python/tests/test_bank_account.py\n",
        "!echo \"\"                                                                                    >> testing_python/tests/test_bank_account.py\n",
        "!echo \"    @patch('src.bank_account.datetime.now')\"                                         >> testing_python/tests/test_bank_account.py\n",
        "!echo \"    def test_withdraw_during_working_hours(self, mock_now):\"                         >> testing_python/tests/test_bank_account.py\n",
        "!echo \"        mock_now.return_value.hour = 10\"                                             >> testing_python/tests/test_bank_account.py\n",
        "!echo \"        new_balace = self.account.withdraw(200)\"                                     >> testing_python/tests/test_bank_account.py\n",
        "!echo \"        self.assertEqual(new_balace, 800, 'Balance is not correct')\"                 >> testing_python/tests/test_bank_account.py\n",
        "!echo \"\"                                                                                    >> testing_python/tests/test_bank_account.py\n",
        "!echo \"    @patch('src.bank_account.datetime.now')\"                                         >> testing_python/tests/test_bank_account.py\n",
        "!echo \"    def test_withdraw_during_non_working_hours(self, mock_now):\"                     >> testing_python/tests/test_bank_account.py\n",
        "!echo \"        mock_now.return_value.hour = 20\"                                             >> testing_python/tests/test_bank_account.py\n",
        "!echo \"        new_balace = self.account.withdraw(200)\"                                     >> testing_python/tests/test_bank_account.py\n",
        "!echo \"        self.assertIsNone(new_balace, 'Balance is not correct')\"                     >> testing_python/tests/test_bank_account.py\n",
        "!echo \"\"                                                                                    >> testing_python/tests/test_bank_account.py\n",
        "!echo \"    def test_get_balance(self):\"                                                     >> testing_python/tests/test_bank_account.py\n",
        "!echo \"        balance = self.account.get_balance()\"                                        >> testing_python/tests/test_bank_account.py\n",
        "!echo \"        self.assertEqual(balance, 1000)\"                                             >> testing_python/tests/test_bank_account.py\n",
        "!echo \"\"                                                                                    >> testing_python/tests/test_bank_account.py\n",
        "!echo \"    def test_transaction_log(self):\"                                                 >> testing_python/tests/test_bank_account.py\n",
        "!echo \"        self.account.deposit(500)\"                                                   >> testing_python/tests/test_bank_account.py\n",
        "!echo \"        self.account.withdraw(200)\"                                                  >> testing_python/tests/test_bank_account.py\n",
        "!echo \"        self.account.get_balance()\"                                                  >> testing_python/tests/test_bank_account.py\n",
        "!echo \"        self.assertTrue(os.path.exists('test_log.txt'))\"                             >> testing_python/tests/test_bank_account.py\n",
        "!echo \"        with open('test_log.txt', 'r') as file:\"                                     >> testing_python/tests/test_bank_account.py\n",
        "!echo \"            content = file.readlines()\"                                              >> testing_python/tests/test_bank_account.py\n",
        "!echo \"        self.assertEqual(content, [\"                                                 >> testing_python/tests/test_bank_account.py\n",
        "!echo \"            'Account created\\\\\\n', \"                                                 >> testing_python/tests/test_bank_account.py\n",
        "!echo \"            'Deposit 500, new balance 1500\\\\\\n', \"                                   >> testing_python/tests/test_bank_account.py\n",
        "!echo \"            'Withdraw 200, new balance 1300\\\\\\n', \"                                  >> testing_python/tests/test_bank_account.py\n",
        "!echo \"            'Balance check, balance 1300\\\\\\n'\"                                       >> testing_python/tests/test_bank_account.py\n",
        "!echo \"            ])\"                                                                      >> testing_python/tests/test_bank_account.py\n",
        "!echo \"\"                                                                                    >> testing_python/tests/test_bank_account.py\n",
        "!echo \"    @unittest.skip('Not implemented yet')\"                                           >> testing_python/tests/test_bank_account.py\n",
        "!echo \"    def test_has_loan(self):\"                                                        >> testing_python/tests/test_bank_account.py\n",
        "!echo \"        self.assertFalse(self.account.has_loan())\"                                   >> testing_python/tests/test_bank_account.py\n",
        "!echo \"\"                                                                                    >> testing_python/tests/test_bank_account.py\n",
        "!echo \"    @unittest.skipIf(SERVER, 'Only for local testing')\"                              >> testing_python/tests/test_bank_account.py\n",
        "!echo \"    def test_server(self):\"                                                          >> testing_python/tests/test_bank_account.py\n",
        "!echo \"        self.assertTrue(SERVER)\"                                                     >> testing_python/tests/test_bank_account.py\n",
        "!echo \"\"                                                                                    >> testing_python/tests/test_bank_account.py\n",
        "!echo \"    @unittest.expectedFailure\"                                                       >> testing_python/tests/test_bank_account.py\n",
        "!echo \"    def test_fail(self):\"                                                            >> testing_python/tests/test_bank_account.py\n",
        "!echo \"        new_balace = self.account.withdraw(1200)\"                                    >> testing_python/tests/test_bank_account.py\n",
        "!echo \"        self.assertEqual(new_balace, 800, 'Not enough money')\"                       >> testing_python/tests/test_bank_account.py\n",
        "!echo \"\"                                                                                    >> testing_python/tests/test_bank_account.py\n",
        "!echo \"    @unittest.skipUnless(ENVIRONMENT == 'dev', 'Only for dev environment')\"          >> testing_python/tests/test_bank_account.py\n",
        "!echo \"    def test_environment(self):\"                                                     >> testing_python/tests/test_bank_account.py\n",
        "!echo \"        self.assertEqual(ENVIRONMENT, 'dev')\"                                        >> testing_python/tests/test_bank_account.py"
      ]
    },
    {
      "cell_type": "markdown",
      "metadata": {},
      "source": [
        "We pass the tests"
      ]
    },
    {
      "cell_type": "code",
      "execution_count": 15,
      "metadata": {},
      "outputs": [
        {
          "name": "stdout",
          "output_type": "stream",
          "text": [
            "....ssxs\n",
            "----------------------------------------------------------------------\n",
            "Ran 8 tests in 0.001s\n",
            "\n",
            "OK (skipped=3, expected failures=1)\n"
          ]
        }
      ],
      "source": [
        "!cd testing_python && PYTHONPATH=. python tests/test_suite_bank_account.py"
      ]
    },
    {
      "cell_type": "markdown",
      "metadata": {},
      "source": [
        "## Test Coverage"
      ]
    },
    {
      "cell_type": "markdown",
      "metadata": {},
      "source": [
        "We can see the test coverage we have, as even though we may think we have tested everything, there might be parts of the code that we haven't tested. For this, we are going to use the `coverage` library."
      ]
    },
    {
      "cell_type": "code",
      "execution_count": 32,
      "metadata": {},
      "outputs": [
        {
          "name": "stdout",
          "output_type": "stream",
          "text": [
            "....\n",
            "----------------------------------------------------------------------\n",
            "Ran 4 tests in 0.000s\n",
            "\n",
            "OK\n"
          ]
        }
      ],
      "source": [
        "!cd testing_python && coverage run -m unittest tests/test_calculator.py"
      ]
    },
    {
      "cell_type": "markdown",
      "metadata": {},
      "source": [
        "As we can see, we have only passed the `test_calculator` tests, but we still don't know the coverage."
      ]
    },
    {
      "cell_type": "markdown",
      "metadata": {},
      "source": [
        "### Coverage Report"
      ]
    },
    {
      "cell_type": "markdown",
      "metadata": {},
      "source": [
        "After running `coverage`, we can request a test coverage report with the command `coverage report`"
      ]
    },
    {
      "cell_type": "code",
      "execution_count": 34,
      "metadata": {},
      "outputs": [
        {
          "name": "stdout",
          "output_type": "stream",
          "text": [
            "Name                       Stmts   Miss  Cover\n",
            "----------------------------------------------\n",
            "src/calculator.py              8      0   100%\n",
            "tests/test_calculator.py      11      0   100%\n",
            "----------------------------------------------\n",
            "TOTAL                         19      0   100% \n"
          ]
        }
      ],
      "source": [
        "!cd testing_python && coverage report"
      ]
    },
    {
      "cell_type": "markdown",
      "metadata": {},
      "source": [
        "Or request it through an HTML file with the command `coverage html`"
      ]
    },
    {
      "cell_type": "code",
      "execution_count": 35,
      "metadata": {},
      "outputs": [
        {
          "name": "stdout",
          "output_type": "stream",
          "text": [
            "Wrote HTML report to \u001b]8;;file:///home/wallabot/Documentos/web/portafolio/posts/testing_python/htmlcov/index.html\u0007htmlcov/index.html\u001b]8;;\u0007\n"
          ]
        }
      ],
      "source": [
        "!cd testing_python && coverage html"
      ]
    },
    {
      "cell_type": "markdown",
      "metadata": {},
      "source": [
        "An `index.html` file is created in the `htmlcov` folder that we can open in the browser to view the test coverage."
      ]
    }
  ],
  "metadata": {
    "kernelspec": {
      "display_name": "base",
      "language": "python",
      "name": "python3"
    },
    "language_info": {
      "codemirror_mode": {
        "name": "ipython",
        "version": 3
      },
      "file_extension": ".py",
      "mimetype": "text/x-python",
      "name": "python",
      "nbconvert_exporter": "python",
      "pygments_lexer": "ipython3",
      "version": "3.10.9"
    },
    "maximofn": {
      "date": "2024-11-03",
      "description_en": "Refactor without fear \ud83d\udee0\ufe0f thanks to unit tests. In this post you will learn how to do unit tests in Python with the unittest library \ud83d\udc0d\u2705 and measure test coverage \ud83d\udcca so you can make all the modifications you want without fear of breaking anything \ud83d\udcaa",
      "description_es": "Refactoriza sin miedo \ud83d\udee0\ufe0f gracias a los test unitarios. En este post vas a aprender a hacer test unitarios en Python con la librer\u00eda unittest \ud83d\udc0d\u2705 y a medir la cobertura de test \ud83d\udcca para que puedas hacer todas las modificaciones que quieras sin miedo a romper nada \ud83d\udcaa",
      "description_pt": "Refatore sem medo \ud83d\udee0\ufe0f gra\u00e7as aos testes unit\u00e1rios. Neste post voc\u00ea aprender\u00e1 a fazer testes unit\u00e1rios em Python com a biblioteca unittest \ud83d\udc0d\u2705 e medir a cobertura de testes \ud83d\udcca para que voc\u00ea possa fazer todas as modifica\u00e7\u00f5es que desejar sem medo de quebrar nada \ud83d\udcaa",
      "end_url": "unittest",
      "image": "https://images.maximofn.com/unittest.webp",
      "image_hover_path": "https://images.maximofn.com/unittest.webp",
      "keywords_en": "unnittest, python, unit tests, test coverage, unittest library, test suite, test case, test fixture, test runner, test result, test discovery, test loader, test suite, test",
      "keywords_es": "unnittest, python, test unitarios, cobertura de test, librer\u00eda unittest, suite de test, caso de test, fixture de test, corredor de test, resultado de test, descubrimiento de test, cargador de test, suite de test, test",
      "keywords_pt": "unnittest, python, testes unit\u00e1rios, cobertura de testes, biblioteca de testes unittest, conjunto de testes, caso de teste, fixture de teste, executor de teste, resultado de teste, descoberta de teste, carregador de teste, conjunto de testes, teste",
      "title_en": "unittest",
      "title_es": "unittest",
      "title_pt": "unittest"
    }
  },
  "nbformat": 4,
  "nbformat_minor": 2
}