{
  "cells": [
    {
      "cell_type": "markdown",
      "metadata": {},
      "source": [
        "# unittest Python"
      ]
    },
    {
      "cell_type": "markdown",
      "metadata": {},
      "source": [
        " > Aviso: Este post foi traduzido para o português usando um modelo de tradução automática. Por favor, me avise se encontrar algum erro."
      ]
    },
    {
      "cell_type": "markdown",
      "metadata": {},
      "source": [
        "Para realizar este post vamos a criar uma pasta chamada `testing_python` onde vamos criar todo o código"
      ]
    },
    {
      "cell_type": "code",
      "execution_count": 1,
      "metadata": {},
      "outputs": [],
      "source": [
        "!mkdir testing_python"
      ]
    },
    {
      "cell_type": "markdown",
      "metadata": {},
      "source": [
        "Dentro dessa pasta vamos criar as pastas `src` e `tests` onde vamos colocar o código fonte e os testes respectivamente."
      ]
    },
    {
      "cell_type": "code",
      "execution_count": 3,
      "metadata": {},
      "outputs": [],
      "source": [
        "!mkdir testing_python/src\n",
        "!mkdir testing_python/tests"
      ]
    },
    {
      "cell_type": "markdown",
      "metadata": {},
      "source": [
        "## Bibliotecas necessárias"
      ]
    },
    {
      "cell_type": "markdown",
      "metadata": {},
      "source": [
        "Para fazer os testes vamos usar a biblioteca `unittest` que vem por padrão no Python, mas além disso vamos instalar o `coverage` para poder ver a cobertura dos testes. A instalamos com Conda\n",
        "\n",
        "```bash\n",
        "conda install conda-forge::coverage\n",
        "```\n",
        "\n",
        "O com pip\n",
        "\n",
        "```bash\n",
        "pip install coverage\n",
        "```"
      ]
    },
    {
      "cell_type": "markdown",
      "metadata": {},
      "source": [
        "## Primeiros testes"
      ]
    },
    {
      "cell_type": "markdown",
      "metadata": {},
      "source": [
        "Vamos a criar um primeiro arquivo chamado `calculator.py` na pasta `src`"
      ]
    },
    {
      "cell_type": "code",
      "execution_count": null,
      "metadata": {},
      "outputs": [],
      "source": [
        "!echo \"def sum(a, b):\"           > testing_python/src/calculator.py\n",
        "!echo \"    return a + b\"        >> testing_python/src/calculator.py\n",
        "!echo \"\"                        >> testing_python/src/calculator.py\n",
        "!echo \"def substract(a, b):\"    >> testing_python/src/calculator.py\n",
        "!echo \"    return a - b\"        >> testing_python/src/calculator.py\n",
        "!echo \"\"                        >> testing_python/src/calculator.py\n",
        "!echo \"def multiply(a, b):\"     >> testing_python/src/calculator.py\n",
        "!echo \"    return a * b\"        >> testing_python/src/calculator.py\n",
        "!echo \"\"                        >> testing_python/src/calculator.py\n",
        "!echo \"def divide(a, b):\"       >> testing_python/src/calculator.py\n",
        "!echo \"    return a / b\"        >> testing_python/src/calculator.py"
      ]
    },
    {
      "cell_type": "markdown",
      "metadata": {},
      "source": [
        "Agora criamos um arquivo chamado `test_calculator.py` na pasta `tests`"
      ]
    },
    {
      "cell_type": "code",
      "execution_count": null,
      "metadata": {},
      "outputs": [],
      "source": [
        "!echo \"import unittest\"                                                  >  testing_python/tests/test_calculator.py\n",
        "!echo \"from src.calculator import sum, substract, multiply, divide\"     >> testing_python/tests/test_calculator.py\n",
        "!echo \"\"                                                                >> testing_python/tests/test_calculator.py\n",
        "!echo \"class TestCalculator(unittest.TestCase):\"                        >> testing_python/tests/test_calculator.py\n",
        "!echo \"    def test_sum(self):\"                                         >> testing_python/tests/test_calculator.py\n",
        "!echo \"        self.assertEqual(sum(2, 2), 4)\"                          >> testing_python/tests/test_calculator.py\n",
        "!echo \"\"                                                                >> testing_python/tests/test_calculator.py\n",
        "!echo \"    def test_substract(self):\"                                   >> testing_python/tests/test_calculator.py\n",
        "!echo \"        self.assertEqual(substract(2, 1), 1)\"                    >> testing_python/tests/test_calculator.py\n",
        "!echo \"\"                                                                >> testing_python/tests/test_calculator.py\n",
        "!echo \"    def test_multiply(self):\"                                    >> testing_python/tests/test_calculator.py\n",
        "!echo \"        self.assertEqual(multiply(2, 3), 6)\"                     >> testing_python/tests/test_calculator.py\n",
        "!echo \"\"                                                                >> testing_python/tests/test_calculator.py\n",
        "!echo \"    def test_divide(self):\"                                      >> testing_python/tests/test_calculator.py\n",
        "!echo \"        self.assertEqual(divide(6, 3), 2)\"                       >> testing_python/tests/test_calculator.py"
      ]
    },
    {
      "cell_type": "markdown",
      "metadata": {},
      "source": [
        "Agora para executá-lo fazemos `python -m unittest tests/test_calculator.py discover -s tests`"
      ]
    },
    {
      "cell_type": "code",
      "execution_count": 38,
      "metadata": {},
      "outputs": [
        {
          "name": "stdout",
          "output_type": "stream",
          "text": [
            "....\n",
            "----------------------------------------------------------------------\n",
            "Ran 4 tests in 0.000s\n",
            "\n",
            "OK\n"
          ]
        }
      ],
      "source": [
        "!cd testing_python && python -m unittest tests/test_calculator.py"
      ]
    },
    {
      "cell_type": "markdown",
      "metadata": {},
      "source": [
        "Como podemos ver, aparecem quatro pontos pelos dois testes que foram executados e que foram corretos."
      ]
    },
    {
      "cell_type": "markdown",
      "metadata": {},
      "source": [
        "Vamos a modificar o arquivo de teste para provocar um erro, vamos fazer com que ao somar 2 e 2 nos dê 5"
      ]
    },
    {
      "cell_type": "code",
      "execution_count": null,
      "metadata": {},
      "outputs": [],
      "source": [
        "!echo \"import unittest\"                                                  >  testing_python/tests/test_calculator.py\n",
        "!echo \"from src.calculator import sum, substract, multiply, divide\"     >> testing_python/tests/test_calculator.py\n",
        "!echo \"\"                                                                >> testing_python/tests/test_calculator.py\n",
        "!echo \"class TestCalculator(unittest.TestCase):\"                        >> testing_python/tests/test_calculator.py\n",
        "!echo \"    def test_sum(self):\"                                         >> testing_python/tests/test_calculator.py\n",
        "!echo \"        self.assertEqual(sum(2, 2), 5)\"                          >> testing_python/tests/test_calculator.py\n",
        "!echo \"\"                                                                >> testing_python/tests/test_calculator.py\n",
        "!echo \"    def test_substract(self):\"                                   >> testing_python/tests/test_calculator.py\n",
        "!echo \"        self.assertEqual(substract(2, 1), 1)\"                    >> testing_python/tests/test_calculator.py\n",
        "!echo \"\"                                                                >> testing_python/tests/test_calculator.py\n",
        "!echo \"    def test_multiply(self):\"                                    >> testing_python/tests/test_calculator.py\n",
        "!echo \"        self.assertEqual(multiply(2, 3), 6)\"                     >> testing_python/tests/test_calculator.py\n",
        "!echo \"\"                                                                >> testing_python/tests/test_calculator.py\n",
        "!echo \"    def test_divide(self):\"                                      >> testing_python/tests/test_calculator.py\n",
        "!echo \"        self.assertEqual(divide(6, 3), 2)\"                       >> testing_python/tests/test_calculator.py"
      ]
    },
    {
      "cell_type": "markdown",
      "metadata": {},
      "source": [
        "Agora rodamos os testes"
      ]
    },
    {
      "cell_type": "code",
      "execution_count": 40,
      "metadata": {},
      "outputs": [
        {
          "name": "stdout",
          "output_type": "stream",
          "text": [
            "...F\n",
            "======================================================================\n",
            "FAIL: test_sum (tests.test_calculator.TestCalculator)\n",
            "----------------------------------------------------------------------\n",
            "Traceback (most recent call last):\n",
            "  File \"/home/wallabot/Documentos/web/portafolio/posts/testing_python/tests/test_calculator.py\", line 6, in test_sum\n",
            "    self.assertEqual(sum(2, 2), 5)\n",
            "AssertionError: 4 != 5\n",
            "\n",
            "----------------------------------------------------------------------\n",
            "Ran 4 tests in 0.000s\n",
            "\n",
            "FAILED (failures=1)\n"
          ]
        }
      ],
      "source": [
        "!cd testing_python && python -m unittest tests/test_calculator.py"
      ]
    },
    {
      "cell_type": "markdown",
      "metadata": {},
      "source": [
        "Como podemos ver, agora aparece uma `F` que significa que um teste falhou, além disso, fornecemos a seguinte informação\n",
        "\n",
        "```\n",
        "FALHA: test_soma (tests.test_calculadora.TestCalculadora)\n",
        "---------------------------------------------------------------------------\n",
        "Rastreio de chamada (mais recente por último):\n",
        "Arquivo \"/home/wallabot/Documentos/web/portafolio/posts/testing_python/tests/test_calculator.py\", linha 6, em test_sum\n",
        "self.assertEqual(sum(2, 2), 5)\n",
        "AssertionError: 4 != 5\n",
        "```\n",
        "\n",
        "Ele nos diz que o teste `test_sum` falhou na linha 6, que é a que modificamos, e que o resultado esperado era 5 e o obtido foi 4."
      ]
    },
    {
      "cell_type": "markdown",
      "metadata": {},
      "source": [
        "Uma coisa que não dissemos e que é importante, é que não chamamos os métodos `test_sum` e `test_subtract` diretamente, eles foram executados automaticamente. Isso se deve ao fato de que os métodos que começam com `test_` são os que são executados automaticamente."
      ]
    },
    {
      "cell_type": "markdown",
      "metadata": {},
      "source": [
        "Uma forma mais simples de executar os testes é usar o comando `discover` que procura todos os arquivos que começam com `test_` na pasta que passarmos pelo parâmetro `-s`"
      ]
    },
    {
      "cell_type": "markdown",
      "metadata": {},
      "source": [
        "Primeiro reescrevemos bem os testes"
      ]
    },
    {
      "cell_type": "code",
      "execution_count": null,
      "metadata": {},
      "outputs": [],
      "source": [
        "!echo \"import unittest\"                                                  >  testing_python/tests/test_calculator.py\n",
        "!echo \"from src.calculator import sum, substract, multiply, divide\"     >> testing_python/tests/test_calculator.py\n",
        "!echo \"\"                                                                >> testing_python/tests/test_calculator.py\n",
        "!echo \"class TestCalculator(unittest.TestCase):\"                        >> testing_python/tests/test_calculator.py\n",
        "!echo \"    def test_sum(self):\"                                         >> testing_python/tests/test_calculator.py\n",
        "!echo \"        self.assertEqual(sum(2, 2), 4)\"                          >> testing_python/tests/test_calculator.py\n",
        "!echo \"\"                                                                >> testing_python/tests/test_calculator.py\n",
        "!echo \"    def test_substract(self):\"                                   >> testing_python/tests/test_calculator.py\n",
        "!echo \"        self.assertEqual(substract(2, 1), 1)\"                    >> testing_python/tests/test_calculator.py\n",
        "!echo \"\"                                                                >> testing_python/tests/test_calculator.py\n",
        "!echo \"    def test_multiply(self):\"                                    >> testing_python/tests/test_calculator.py\n",
        "!echo \"        self.assertEqual(multiply(2, 3), 6)\"                     >> testing_python/tests/test_calculator.py\n",
        "!echo \"\"                                                                >> testing_python/tests/test_calculator.py\n",
        "!echo \"    def test_divide(self):\"                                      >> testing_python/tests/test_calculator.py\n",
        "!echo \"        self.assertEqual(divide(6, 3), 2)\"                       >> testing_python/tests/test_calculator.py"
      ]
    },
    {
      "cell_type": "markdown",
      "metadata": {},
      "source": [
        "E agora passamos os testes através de `discover`"
      ]
    },
    {
      "cell_type": "code",
      "execution_count": 42,
      "metadata": {},
      "outputs": [
        {
          "name": "stdout",
          "output_type": "stream",
          "text": [
            "....\n",
            "----------------------------------------------------------------------\n",
            "Ran 4 tests in 0.000s\n",
            "\n",
            "OK\n"
          ]
        }
      ],
      "source": [
        "!cd testing_python && python -m unittest discover -s tests"
      ]
    },
    {
      "cell_type": "markdown",
      "metadata": {},
      "source": [
        "Ele encontrou os testes e os passou corretamente"
      ]
    },
    {
      "cell_type": "markdown",
      "metadata": {},
      "source": [
        "## Configuração dos testes"
      ]
    },
    {
      "cell_type": "markdown",
      "metadata": {},
      "source": [
        "### `setUp`"
      ]
    },
    {
      "cell_type": "markdown",
      "metadata": {},
      "source": [
        "Com a biblioteca `unittest` podemos configurar os testes, mas para vê-los, primeiro vamos criar um novo arquivo de código chamado `bank_account.py` na pasta `src`"
      ]
    },
    {
      "cell_type": "code",
      "execution_count": 43,
      "metadata": {},
      "outputs": [],
      "source": [
        "!echo \"class BankAccount:\"                           > testing_python/src/bank_account.py\n",
        "!echo \"    def __init__(self, balance=0):\"          >> testing_python/src/bank_account.py\n",
        "!echo \"        self.balance = balance\"              >> testing_python/src/bank_account.py\n",
        "!echo \"\"                                            >> testing_python/src/bank_account.py\n",
        "!echo \"    def deposit(self, amount):\"              >> testing_python/src/bank_account.py\n",
        "!echo \"        if amount > 0:\"                      >> testing_python/src/bank_account.py\n",
        "!echo \"            self.balance += amount\"          >> testing_python/src/bank_account.py\n",
        "!echo \"        return self.balance\"                 >> testing_python/src/bank_account.py\n",
        "!echo \"\"                                            >> testing_python/src/bank_account.py\n",
        "!echo \"    def withdraw(self, amount):\"             >> testing_python/src/bank_account.py\n",
        "!echo \"        if amount > 0:\"                      >> testing_python/src/bank_account.py\n",
        "!echo \"            self.balance -= amount\"          >> testing_python/src/bank_account.py\n",
        "!echo \"        return self.balance\"                 >> testing_python/src/bank_account.py\n",
        "!echo \"\"                                            >> testing_python/src/bank_account.py\n",
        "!echo \"    def get_balance(self):\"                  >> testing_python/src/bank_account.py\n",
        "!echo \"        return self.balance\"                 >> testing_python/src/bank_account.py"
      ]
    },
    {
      "cell_type": "markdown",
      "metadata": {},
      "source": [
        "Agora adicionamos testes ao novo código, criando um arquivo chamado `test_bank_account.py` na pasta `tests`"
      ]
    },
    {
      "cell_type": "markdown",
      "metadata": {},
      "source": [
        "Vamos a criar primeiro o teste para adicionar depósito, ou seja, o método `deposit`"
      ]
    },
    {
      "cell_type": "code",
      "execution_count": null,
      "metadata": {},
      "outputs": [],
      "source": [
        "!echo \"import unittest\"                              > testing_python/tests/test_bank_account.py\n",
        "!echo \"from src.bank_account import BankAccount\"    >> testing_python/tests/test_bank_account.py\n",
        "!echo \"\"                                            >> testing_python/tests/test_bank_account.py\n",
        "!echo \"class TestBankAccount(unittest.TestCase):\"   >> testing_python/tests/test_bank_account.py\n",
        "!echo \"    def test_deposit(self):\"                 >> testing_python/tests/test_bank_account.py\n",
        "!echo \"        account = BankAccount()\"             >> testing_python/tests/test_bank_account.py\n",
        "!echo \"        new_balace = account.deposit(1500)\"  >> testing_python/tests/test_bank_account.py\n",
        "!echo \"        self.assertEqual(new_balace, 1500)\"  >> testing_python/tests/test_bank_account.py"
      ]
    },
    {
      "cell_type": "markdown",
      "metadata": {},
      "source": [
        "Passamos os testes"
      ]
    },
    {
      "cell_type": "code",
      "execution_count": 45,
      "metadata": {},
      "outputs": [
        {
          "name": "stdout",
          "output_type": "stream",
          "text": [
            ".....\n",
            "----------------------------------------------------------------------\n",
            "Ran 5 tests in 0.000s\n",
            "\n",
            "OK\n"
          ]
        }
      ],
      "source": [
        "!cd testing_python && python -m unittest discover -s tests"
      ]
    },
    {
      "cell_type": "markdown",
      "metadata": {},
      "source": [
        "Vemos que há cinco pontos, mas nós só escrevemos um teste, então usamos a flag `-v` para ver mais informações."
      ]
    },
    {
      "cell_type": "code",
      "execution_count": 46,
      "metadata": {},
      "outputs": [
        {
          "name": "stdout",
          "output_type": "stream",
          "text": [
            "test_deposit (test_bank_account.TestBankAccount) ... ok\n",
            "test_divide (test_calculator.TestCalculator) ... ok\n",
            "test_multiply (test_calculator.TestCalculator) ... ok\n",
            "test_substract (test_calculator.TestCalculator) ... ok\n",
            "test_sum (test_calculator.TestCalculator) ... ok\n",
            "\n",
            "----------------------------------------------------------------------\n",
            "Ran 5 tests in 0.000s\n",
            "\n",
            "OK\n"
          ]
        }
      ],
      "source": [
        "!cd testing_python && python -m unittest discover -s tests -v"
      ]
    },
    {
      "cell_type": "markdown",
      "metadata": {},
      "source": [
        "Vemos que `discover` encontrou os testes `test_calculator` e `test_bank_account` e ambos passaram."
      ]
    },
    {
      "cell_type": "markdown",
      "metadata": {},
      "source": [
        "Vamos a criar os testes para o resto dos métodos"
      ]
    },
    {
      "cell_type": "code",
      "execution_count": null,
      "metadata": {},
      "outputs": [],
      "source": [
        "!echo \"import unittest\"                              > testing_python/tests/test_bank_account.py\n",
        "!echo \"from src.bank_account import BankAccount\"    >> testing_python/tests/test_bank_account.py\n",
        "!echo \"\"                                            >> testing_python/tests/test_bank_account.py\n",
        "!echo \"class TestBankAccount(unittest.TestCase):\"   >> testing_python/tests/test_bank_account.py\n",
        "!echo \"    def test_deposit(self):\"                 >> testing_python/tests/test_bank_account.py\n",
        "!echo \"        account = BankAccount(balance=1000)\" >> testing_python/tests/test_bank_account.py\n",
        "!echo \"        new_balace = account.deposit(500)\"   >> testing_python/tests/test_bank_account.py\n",
        "!echo \"        self.assertEqual(new_balace, 1500)\"  >> testing_python/tests/test_bank_account.py\n",
        "!echo \"\"                                            >> testing_python/tests/test_bank_account.py\n",
        "!echo \"    def test_withdraw(self):\"                >> testing_python/tests/test_bank_account.py\n",
        "!echo \"        account = BankAccount(balance=1000)\" >> testing_python/tests/test_bank_account.py\n",
        "!echo \"        new_balace = account.withdraw(200)\"  >> testing_python/tests/test_bank_account.py\n",
        "!echo \"        self.assertEqual(new_balace, 800)\"   >> testing_python/tests/test_bank_account.py\n",
        "!echo \"\"                                            >> testing_python/tests/test_bank_account.py\n",
        "!echo \"    def test_get_balance(self):\"             >> testing_python/tests/test_bank_account.py\n",
        "!echo \"        account = BankAccount(balance=1000)\" >> testing_python/tests/test_bank_account.py\n",
        "!echo \"        balance = account.get_balance()\"     >> testing_python/tests/test_bank_account.py\n",
        "!echo \"        self.assertEqual(balance, 1000)\"     >> testing_python/tests/test_bank_account.py"
      ]
    },
    {
      "cell_type": "markdown",
      "metadata": {},
      "source": [
        "Passamos os testes"
      ]
    },
    {
      "cell_type": "code",
      "execution_count": 48,
      "metadata": {},
      "outputs": [
        {
          "name": "stdout",
          "output_type": "stream",
          "text": [
            "test_deposit (test_bank_account.TestBankAccount) ... ok\n",
            "test_get_balance (test_bank_account.TestBankAccount) ... ok\n",
            "test_withdraw (test_bank_account.TestBankAccount) ... ok\n",
            "test_divide (test_calculator.TestCalculator) ... ok\n",
            "test_multiply (test_calculator.TestCalculator) ... ok\n",
            "test_substract (test_calculator.TestCalculator) ... ok\n",
            "test_sum (test_calculator.TestCalculator) ... ok\n",
            "\n",
            "----------------------------------------------------------------------\n",
            "Ran 7 tests in 0.000s\n",
            "\n",
            "OK\n"
          ]
        }
      ],
      "source": [
        "!cd testing_python && python -m unittest discover -s tests -v"
      ]
    },
    {
      "cell_type": "markdown",
      "metadata": {},
      "source": [
        "Vemos que passaram satisfatoriamente. Agora vejamos uma coisa, em todos os testes fizemos `account = BankAccount(balance=1000)` e depois chamamos os métodos, isso é porque cada teste é executado em um novo objeto, ou seja, os objetos não são compartilhados entre os testes.\n",
        "\n",
        "Então podemos usar o método `setUp` para criar um objeto que seja compartilhado entre todos os testes."
      ]
    },
    {
      "cell_type": "code",
      "execution_count": null,
      "metadata": {},
      "outputs": [],
      "source": [
        "!echo \"import unittest\"                                      > testing_python/tests/test_bank_account.py\n",
        "!echo \"from src.bank_account import BankAccount\"            >> testing_python/tests/test_bank_account.py\n",
        "!echo \"\"                                                    >> testing_python/tests/test_bank_account.py\n",
        "!echo \"class TestBankAccount(unittest.TestCase):\"           >> testing_python/tests/test_bank_account.py\n",
        "!echo \"    def setUp(self):\"                                >> testing_python/tests/test_bank_account.py\n",
        "!echo \"        self.account = BankAccount(balance=1000)\"    >> testing_python/tests/test_bank_account.py\n",
        "!echo \"\"                                                    >> testing_python/tests/test_bank_account.py\n",
        "!echo \"    def test_deposit(self):\"                         >> testing_python/tests/test_bank_account.py\n",
        "!echo \"        new_balace = self.account.deposit(500)\"      >> testing_python/tests/test_bank_account.py\n",
        "!echo \"        self.assertEqual(new_balace, 1500)\"          >> testing_python/tests/test_bank_account.py\n",
        "!echo \"\"                                                    >> testing_python/tests/test_bank_account.py\n",
        "!echo \"    def test_withdraw(self):\"                        >> testing_python/tests/test_bank_account.py\n",
        "!echo \"        new_balace = self.account.withdraw(200)\"     >> testing_python/tests/test_bank_account.py\n",
        "!echo \"        self.assertEqual(new_balace, 800)\"           >> testing_python/tests/test_bank_account.py\n",
        "!echo \"\"                                                    >> testing_python/tests/test_bank_account.py\n",
        "!echo \"    def test_get_balance(self):\"                     >> testing_python/tests/test_bank_account.py\n",
        "!echo \"        balance = self.account.get_balance()\"        >> testing_python/tests/test_bank_account.py\n",
        "!echo \"        self.assertEqual(balance, 1000)\"             >> testing_python/tests/test_bank_account.py"
      ]
    },
    {
      "cell_type": "markdown",
      "metadata": {},
      "source": [
        "Como podemos ver, criamos a conta no método `setUp` e removemos a criação da conta nos testes. Vamos rodar os testes."
      ]
    },
    {
      "cell_type": "code",
      "execution_count": 50,
      "metadata": {},
      "outputs": [
        {
          "name": "stdout",
          "output_type": "stream",
          "text": [
            "test_deposit (test_bank_account.TestBankAccount) ... ok\n",
            "test_get_balance (test_bank_account.TestBankAccount) ... ok\n",
            "test_withdraw (test_bank_account.TestBankAccount) ... ok\n",
            "test_divide (test_calculator.TestCalculator) ... ok\n",
            "test_multiply (test_calculator.TestCalculator) ... ok\n",
            "test_substract (test_calculator.TestCalculator) ... ok\n",
            "test_sum (test_calculator.TestCalculator) ... ok\n",
            "\n",
            "----------------------------------------------------------------------\n",
            "Ran 7 tests in 0.000s\n",
            "\n",
            "OK\n"
          ]
        }
      ],
      "source": [
        "!cd testing_python && python -m unittest discover -s tests -v"
      ]
    },
    {
      "cell_type": "markdown",
      "metadata": {},
      "source": [
        "### `tearDown`"
      ]
    },
    {
      "cell_type": "markdown",
      "metadata": {},
      "source": [
        "Assim como com o método `setUp` configuramos o ambiente antes de executar os testes, com o método `tearDown` podemos limpar o ambiente após executar os testes. Para testá-lo vamos adicionar ao código de `bank_account.py` que as operações sejam escritas em um arquivo de log."
      ]
    },
    {
      "cell_type": "code",
      "execution_count": null,
      "metadata": {},
      "outputs": [],
      "source": [
        "!echo \"class BankAccount:\"                                                                   > testing_python/src/bank_account.py\n",
        "!echo \"    def __init__(self, balance=0, log_file=None):\"                                   >> testing_python/src/bank_account.py\n",
        "!echo \"        self.balance = balance\"                                                      >> testing_python/src/bank_account.py\n",
        "!echo \"        self.log_file = log_file\"                                                    >> testing_python/src/bank_account.py\n",
        "!echo \"        self._log_transaction('Account created')\"                                    >> testing_python/src/bank_account.py\n",
        "!echo \"\"                                                                                    >> testing_python/src/bank_account.py\n",
        "!echo \"    def _log_transaction(self, message):\"                                            >> testing_python/src/bank_account.py\n",
        "!echo \"        if self.log_file:\"                                                           >> testing_python/src/bank_account.py\n",
        "!echo \"            with open(self.log_file, 'a') as file:\"                                  >> testing_python/src/bank_account.py\n",
        "!echo \"                file.write(f'{message}\\\\\\\\n')\"                                       >> testing_python/src/bank_account.py\n",
        "!echo \"\"                                                                                    >> testing_python/src/bank_account.py\n",
        "!echo \"    def deposit(self, amount):\"                                                      >> testing_python/src/bank_account.py\n",
        "!echo \"        if amount > 0:\"                                                              >> testing_python/src/bank_account.py\n",
        "!echo \"            self.balance += amount\"                                                  >> testing_python/src/bank_account.py\n",
        "!echo \"            self._log_transaction(f'Deposit {amount}, new balance {self.balance}')\"  >> testing_python/src/bank_account.py\n",
        "!echo \"        return self.balance\"                                                         >> testing_python/src/bank_account.py\n",
        "!echo \"\"                                                                                    >> testing_python/src/bank_account.py\n",
        "!echo \"    def withdraw(self, amount):\"                                                     >> testing_python/src/bank_account.py\n",
        "!echo \"        if amount > 0:\"                                                              >> testing_python/src/bank_account.py\n",
        "!echo \"            self.balance -= amount\"                                                  >> testing_python/src/bank_account.py\n",
        "!echo \"            self._log_transaction(f'Withdraw {amount}, new balance {self.balance}')\" >> testing_python/src/bank_account.py\n",
        "!echo \"        return self.balance\"                                                         >> testing_python/src/bank_account.py\n",
        "!echo \"\"                                                                                    >> testing_python/src/bank_account.py\n",
        "!echo \"    def get_balance(self):\"                                                          >> testing_python/src/bank_account.py\n",
        "!echo \"        self._log_transaction(f'Balance check, balance {self.balance}')\"             >> testing_python/src/bank_account.py\n",
        "!echo \"        return self.balance\"                                                         >> testing_python/src/bank_account.py"
      ]
    },
    {
      "cell_type": "markdown",
      "metadata": {},
      "source": [
        "Agora adicionamos um teste ao novo método `_log_transaction`"
      ]
    },
    {
      "cell_type": "code",
      "execution_count": null,
      "metadata": {},
      "outputs": [],
      "source": [
        "!echo \"import unittest\"                                                                      > testing_python/tests/test_bank_account.py\n",
        "!echo \"import os\"                                                                           >> testing_python/tests/test_bank_account.py\n",
        "!echo \"from src.bank_account import BankAccount\"                                            >> testing_python/tests/test_bank_account.py\n",
        "!echo \"\"                                                                                    >> testing_python/tests/test_bank_account.py\n",
        "!echo \"class TestBankAccount(unittest.TestCase):\"                                           >> testing_python/tests/test_bank_account.py\n",
        "!echo \"    def setUp(self):\"                                                                >> testing_python/tests/test_bank_account.py\n",
        "!echo \"        self.account = BankAccount(balance=1000, log_file='test_log.txt')\"           >> testing_python/tests/test_bank_account.py\n",
        "!echo \"\"                                                                                    >> testing_python/tests/test_bank_account.py\n",
        "!echo \"    def test_deposit(self):\"                                                         >> testing_python/tests/test_bank_account.py\n",
        "!echo \"        new_balace = self.account.deposit(500)\"                                      >> testing_python/tests/test_bank_account.py\n",
        "!echo \"        self.assertEqual(new_balace, 1500)\"                                          >> testing_python/tests/test_bank_account.py\n",
        "!echo \"\"                                                                                    >> testing_python/tests/test_bank_account.py\n",
        "!echo \"    def test_withdraw(self):\"                                                        >> testing_python/tests/test_bank_account.py\n",
        "!echo \"        new_balace = self.account.withdraw(200)\"                                     >> testing_python/tests/test_bank_account.py\n",
        "!echo \"        self.assertEqual(new_balace, 800)\"                                           >> testing_python/tests/test_bank_account.py\n",
        "!echo \"\"                                                                                    >> testing_python/tests/test_bank_account.py\n",
        "!echo \"    def test_get_balance(self):\"                                                     >> testing_python/tests/test_bank_account.py\n",
        "!echo \"        balance = self.account.get_balance()\"                                        >> testing_python/tests/test_bank_account.py\n",
        "!echo \"        self.assertEqual(balance, 1000)\"                                             >> testing_python/tests/test_bank_account.py\n",
        "!echo \"\"                                                                                    >> testing_python/tests/test_bank_account.py\n",
        "!echo \"    def test_transaction_log(self):\"                                                 >> testing_python/tests/test_bank_account.py\n",
        "!echo \"        self.account.deposit(500)\"                                                   >> testing_python/tests/test_bank_account.py\n",
        "!echo \"        self.account.withdraw(200)\"                                                  >> testing_python/tests/test_bank_account.py\n",
        "!echo \"        self.account.get_balance()\"                                                  >> testing_python/tests/test_bank_account.py\n",
        "!echo \"        assert os.path.exists('test_log.txt')\"                                       >> testing_python/tests/test_bank_account.py\n",
        "!echo \"        with open('test_log.txt', 'r') as file:\"                                     >> testing_python/tests/test_bank_account.py\n",
        "!echo \"            content = file.readlines()\"                                              >> testing_python/tests/test_bank_account.py\n",
        "!echo \"        self.assertEqual(content, [\"                                                 >> testing_python/tests/test_bank_account.py\n",
        "!echo \"            'Account created\\\\\\n', \"                                                 >> testing_python/tests/test_bank_account.py\n",
        "!echo \"            'Deposit 500, new balance 1500\\\\\\n', \"                                   >> testing_python/tests/test_bank_account.py\n",
        "!echo \"            'Account created\\\\\\n', \"                                                 >> testing_python/tests/test_bank_account.py\n",
        "!echo \"            'Balance check, balance 1000\\\\\\n', \"                                     >> testing_python/tests/test_bank_account.py\n",
        "!echo \"            'Account created\\\\\\n', \"                                                 >> testing_python/tests/test_bank_account.py\n",
        "!echo \"            'Deposit 500, new balance 1500\\\\\\n', \"                                   >> testing_python/tests/test_bank_account.py\n",
        "!echo \"            'Withdraw 200, new balance 1300\\\\\\n', \"                                  >> testing_python/tests/test_bank_account.py\n",
        "!echo \"            'Balance check, balance 1300\\\\\\n'])\"                                     >> testing_python/tests/test_bank_account.py"
      ]
    },
    {
      "cell_type": "markdown",
      "metadata": {},
      "source": [
        "Passamos os testes"
      ]
    },
    {
      "cell_type": "code",
      "execution_count": 93,
      "metadata": {},
      "outputs": [
        {
          "name": "stdout",
          "output_type": "stream",
          "text": [
            "test_deposit (test_bank_account.TestBankAccount) ... ok\n",
            "test_get_balance (test_bank_account.TestBankAccount) ... ok\n",
            "test_transaction_log (test_bank_account.TestBankAccount) ... FAIL\n",
            "test_withdraw (test_bank_account.TestBankAccount) ... ok\n",
            "test_divide (test_calculator.TestCalculator) ... ok\n",
            "test_multiply (test_calculator.TestCalculator) ... ok\n",
            "test_substract (test_calculator.TestCalculator) ... ok\n",
            "test_sum (test_calculator.TestCalculator) ... ok\n",
            "\n",
            "======================================================================\n",
            "FAIL: test_transaction_log (test_bank_account.TestBankAccount)\n",
            "----------------------------------------------------------------------\n",
            "Traceback (most recent call last):\n",
            "  File \"/home/wallabot/Documentos/web/portafolio/posts/testing_python/tests/test_bank_account.py\", line 28, in test_transaction_log\n",
            "    self.assertEqual(content, [\n",
            "AssertionError: Lists differ: ['Acc[224 chars]00\\n', 'Account created\\n', 'Withdraw 200, new[246 chars]0\\n'] != ['Acc[224 chars]00\\n']\n",
            "\n",
            "First list contains 10 additional elements.\n",
            "First extra element 8:\n",
            "'Account created\\n'\n",
            "\n",
            "  ['Account created\\n',\n",
            "   'Deposit 500, new balance 1500\\n',\n",
            "   'Account created\\n',\n",
            "   'Balance check, balance 1000\\n',\n",
            "   'Account created\\n',\n",
            "   'Deposit 500, new balance 1500\\n',\n",
            "   'Withdraw 200, new balance 1300\\n',\n",
            "-  'Balance check, balance 1300\\n',\n",
            "-  'Account created\\n',\n",
            "-  'Withdraw 200, new balance 800\\n',\n",
            "-  'Account created\\n',\n",
            "-  'Deposit 500, new balance 1500\\n',\n",
            "-  'Account created\\n',\n",
            "-  'Balance check, balance 1000\\n',\n",
            "-  'Account created\\n',\n",
            "-  'Deposit 500, new balance 1500\\n',\n",
            "-  'Withdraw 200, new balance 1300\\n',\n",
            "   'Balance check, balance 1300\\n']\n",
            "\n",
            "----------------------------------------------------------------------\n",
            "Ran 8 tests in 0.001s\n",
            "\n",
            "FAILED (failures=1)\n"
          ]
        }
      ],
      "source": [
        "!cd testing_python && python -m unittest discover -s tests -v"
      ]
    },
    {
      "cell_type": "markdown",
      "metadata": {},
      "source": [
        "Os testes saíram bem, mas vemos que no arquivo de log há muitas linhas com o texto `Account created`, isso é porque no início de cada teste é executado o método `setUp` que cria uma conta, por isso precisamos criar o método `tearDown` para eliminar o arquivo de log após cada teste."
      ]
    },
    {
      "cell_type": "markdown",
      "metadata": {},
      "source": [
        "Como é um arquivo gerado para o teste, não deveria existir após executar os testes, então vamos adicionar o método `tearDown` para apagar o arquivo"
      ]
    },
    {
      "cell_type": "code",
      "execution_count": null,
      "metadata": {},
      "outputs": [],
      "source": [
        "!echo \"import unittest\"                                                                      > testing_python/tests/test_bank_account.py\n",
        "!echo \"import os\"                                                                           >> testing_python/tests/test_bank_account.py\n",
        "!echo \"from src.bank_account import BankAccount\"                                            >> testing_python/tests/test_bank_account.py\n",
        "!echo \"\"                                                                                    >> testing_python/tests/test_bank_account.py\n",
        "!echo \"class TestBankAccount(unittest.TestCase):\"                                           >> testing_python/tests/test_bank_account.py\n",
        "!echo \"    def setUp(self):\"                                                                >> testing_python/tests/test_bank_account.py\n",
        "!echo \"        self.account = BankAccount(balance=1000, log_file='test_log.txt')\"           >> testing_python/tests/test_bank_account.py\n",
        "!echo \"\"                                                                                    >> testing_python/tests/test_bank_account.py\n",
        "!echo \"    def tearDown(self):\"                                                             >> testing_python/tests/test_bank_account.py\n",
        "!echo \"        if os.path.exists('test_log.txt'):\"                                          >> testing_python/tests/test_bank_account.py\n",
        "!echo \"            os.remove('test_log.txt')\"                                               >> testing_python/tests/test_bank_account.py\n",
        "!echo \"\"                                                                                    >> testing_python/tests/test_bank_account.py\n",
        "!echo \"    def test_deposit(self):\"                                                         >> testing_python/tests/test_bank_account.py\n",
        "!echo \"        new_balace = self.account.deposit(500)\"                                      >> testing_python/tests/test_bank_account.py\n",
        "!echo \"        self.assertEqual(new_balace, 1500)\"                                          >> testing_python/tests/test_bank_account.py\n",
        "!echo \"\"                                                                                    >> testing_python/tests/test_bank_account.py\n",
        "!echo \"    def test_withdraw(self):\"                                                        >> testing_python/tests/test_bank_account.py\n",
        "!echo \"        new_balace = self.account.withdraw(200)\"                                     >> testing_python/tests/test_bank_account.py\n",
        "!echo \"        self.assertEqual(new_balace, 800)\"                                           >> testing_python/tests/test_bank_account.py\n",
        "!echo \"\"                                                                                    >> testing_python/tests/test_bank_account.py\n",
        "!echo \"    def test_get_balance(self):\"                                                     >> testing_python/tests/test_bank_account.py\n",
        "!echo \"        balance = self.account.get_balance()\"                                        >> testing_python/tests/test_bank_account.py\n",
        "!echo \"        self.assertEqual(balance, 1000)\"                                             >> testing_python/tests/test_bank_account.py\n",
        "!echo \"\"                                                                                    >> testing_python/tests/test_bank_account.py\n",
        "!echo \"    def test_transaction_log(self):\"                                                 >> testing_python/tests/test_bank_account.py\n",
        "!echo \"        self.account.deposit(500)\"                                                   >> testing_python/tests/test_bank_account.py\n",
        "!echo \"        self.account.withdraw(200)\"                                                  >> testing_python/tests/test_bank_account.py\n",
        "!echo \"        self.account.get_balance()\"                                                  >> testing_python/tests/test_bank_account.py\n",
        "!echo \"        assert os.path.exists('test_log.txt')\"                                       >> testing_python/tests/test_bank_account.py\n",
        "!echo \"        with open('test_log.txt', 'r') as file:\"                                     >> testing_python/tests/test_bank_account.py\n",
        "!echo \"            content = file.readlines()\"                                              >> testing_python/tests/test_bank_account.py\n",
        "!echo \"        self.assertEqual(content, [\"                                                 >> testing_python/tests/test_bank_account.py\n",
        "!echo \"            'Account created\\\\\\n', \"                                                 >> testing_python/tests/test_bank_account.py\n",
        "!echo \"            'Deposit 500, new balance 1500\\\\\\n', \"                                   >> testing_python/tests/test_bank_account.py\n",
        "!echo \"            'Account created\\\\\\n', \"                                                 >> testing_python/tests/test_bank_account.py\n",
        "!echo \"            'Balance check, balance 1000\\\\\\n', \"                                     >> testing_python/tests/test_bank_account.py\n",
        "!echo \"            'Account created\\\\\\n', \"                                                 >> testing_python/tests/test_bank_account.py\n",
        "!echo \"            'Deposit 500, new balance 1500\\\\\\n', \"                                   >> testing_python/tests/test_bank_account.py\n",
        "!echo \"            'Withdraw 200, new balance 1300\\\\\\n', \"                                  >> testing_python/tests/test_bank_account.py\n",
        "!echo \"            'Balance check, balance 1300\\\\\\n'\"                                       >> testing_python/tests/test_bank_account.py\n",
        "!echo \"            ])\"                                                                      >> testing_python/tests/test_bank_account.py"
      ]
    },
    {
      "cell_type": "markdown",
      "metadata": {},
      "source": [
        "Voltamos a passar os testes"
      ]
    },
    {
      "cell_type": "code",
      "execution_count": 99,
      "metadata": {},
      "outputs": [
        {
          "name": "stdout",
          "output_type": "stream",
          "text": [
            "test_deposit (test_bank_account.TestBankAccount) ... ok\n",
            "test_get_balance (test_bank_account.TestBankAccount) ... ok\n",
            "test_transaction_log (test_bank_account.TestBankAccount) ... FAIL\n",
            "test_withdraw (test_bank_account.TestBankAccount) ... ok\n",
            "test_divide (test_calculator.TestCalculator) ... ok\n",
            "test_multiply (test_calculator.TestCalculator) ... ok\n",
            "test_substract (test_calculator.TestCalculator) ... ok\n",
            "test_sum (test_calculator.TestCalculator) ... ok\n",
            "\n",
            "======================================================================\n",
            "FAIL: test_transaction_log (test_bank_account.TestBankAccount)\n",
            "----------------------------------------------------------------------\n",
            "Traceback (most recent call last):\n",
            "  File \"/home/wallabot/Documentos/web/portafolio/posts/testing_python/tests/test_bank_account.py\", line 32, in test_transaction_log\n",
            "    self.assertEqual(content, [\n",
            "AssertionError: Lists differ: ['Acc[48 chars]n', 'Withdraw 200, new balance 1300\\n', 'Balan[21 chars]0\\n'] != ['Acc[48 chars]n', 'Account created\\n', 'Balance check, balan[131 chars]0\\n']\n",
            "\n",
            "First differing element 2:\n",
            "'Withdraw 200, new balance 1300\\n'\n",
            "'Account created\\n'\n",
            "\n",
            "Second list contains 4 additional elements.\n",
            "First extra element 4:\n",
            "'Account created\\n'\n",
            "\n",
            "  ['Account created\\n',\n",
            "+  'Deposit 500, new balance 1500\\n',\n",
            "+  'Account created\\n',\n",
            "+  'Balance check, balance 1000\\n',\n",
            "+  'Account created\\n',\n",
            "   'Deposit 500, new balance 1500\\n',\n",
            "   'Withdraw 200, new balance 1300\\n',\n",
            "   'Balance check, balance 1300\\n']\n",
            "\n",
            "----------------------------------------------------------------------\n",
            "Ran 8 tests in 0.001s\n",
            "\n",
            "FAILED (failures=1)\n"
          ]
        }
      ],
      "source": [
        "!cd testing_python && python -m unittest discover -s tests -v"
      ]
    },
    {
      "cell_type": "markdown",
      "metadata": {},
      "source": [
        "Mas agora estamos recebendo um erro, porque, ao final de cada teste, temos excluído o arquivo de log, então não precisamos verificar se foi escrito tanto texto, mas apenas o do teste que estamos realizando. Então vamos modificar o teste para que verifique apenas se foi escrito o texto do teste."
      ]
    },
    {
      "cell_type": "code",
      "execution_count": null,
      "metadata": {},
      "outputs": [],
      "source": [
        "!echo \"import unittest\"                                                                      > testing_python/tests/test_bank_account.py\n",
        "!echo \"import os\"                                                                           >> testing_python/tests/test_bank_account.py\n",
        "!echo \"from src.bank_account import BankAccount\"                                            >> testing_python/tests/test_bank_account.py\n",
        "!echo \"\"                                                                                    >> testing_python/tests/test_bank_account.py\n",
        "!echo \"class TestBankAccount(unittest.TestCase):\"                                           >> testing_python/tests/test_bank_account.py\n",
        "!echo \"    def setUp(self):\"                                                                >> testing_python/tests/test_bank_account.py\n",
        "!echo \"        self.account = BankAccount(balance=1000, log_file='test_log.txt')\"           >> testing_python/tests/test_bank_account.py\n",
        "!echo \"\"                                                                                    >> testing_python/tests/test_bank_account.py\n",
        "!echo \"    def tearDown(self):\"                                                             >> testing_python/tests/test_bank_account.py\n",
        "!echo \"        if os.path.exists('test_log.txt'):\"                                          >> testing_python/tests/test_bank_account.py\n",
        "!echo \"            os.remove('test_log.txt')\"                                               >> testing_python/tests/test_bank_account.py\n",
        "!echo \"\"                                                                                    >> testing_python/tests/test_bank_account.py\n",
        "!echo \"    def test_deposit(self):\"                                                         >> testing_python/tests/test_bank_account.py\n",
        "!echo \"        new_balace = self.account.deposit(500)\"                                      >> testing_python/tests/test_bank_account.py\n",
        "!echo \"        self.assertEqual(new_balace, 1500)\"                                          >> testing_python/tests/test_bank_account.py\n",
        "!echo \"\"                                                                                    >> testing_python/tests/test_bank_account.py\n",
        "!echo \"    def test_withdraw(self):\"                                                        >> testing_python/tests/test_bank_account.py\n",
        "!echo \"        new_balace = self.account.withdraw(200)\"                                     >> testing_python/tests/test_bank_account.py\n",
        "!echo \"        self.assertEqual(new_balace, 800)\"                                           >> testing_python/tests/test_bank_account.py\n",
        "!echo \"\"                                                                                    >> testing_python/tests/test_bank_account.py\n",
        "!echo \"    def test_get_balance(self):\"                                                     >> testing_python/tests/test_bank_account.py\n",
        "!echo \"        balance = self.account.get_balance()\"                                        >> testing_python/tests/test_bank_account.py\n",
        "!echo \"        self.assertEqual(balance, 1000)\"                                             >> testing_python/tests/test_bank_account.py\n",
        "!echo \"\"                                                                                    >> testing_python/tests/test_bank_account.py\n",
        "!echo \"    def test_transaction_log(self):\"                                                 >> testing_python/tests/test_bank_account.py\n",
        "!echo \"        self.account.deposit(500)\"                                                   >> testing_python/tests/test_bank_account.py\n",
        "!echo \"        self.account.withdraw(200)\"                                                  >> testing_python/tests/test_bank_account.py\n",
        "!echo \"        self.account.get_balance()\"                                                  >> testing_python/tests/test_bank_account.py\n",
        "!echo \"        assert os.path.exists('test_log.txt')\"                                       >> testing_python/tests/test_bank_account.py\n",
        "!echo \"        with open('test_log.txt', 'r') as file:\"                                     >> testing_python/tests/test_bank_account.py\n",
        "!echo \"            content = file.readlines()\"                                              >> testing_python/tests/test_bank_account.py\n",
        "!echo \"        self.assertEqual(content, [\"                                                 >> testing_python/tests/test_bank_account.py\n",
        "!echo \"            'Account created\\\\\\n', \"                                                 >> testing_python/tests/test_bank_account.py\n",
        "!echo \"            'Deposit 500, new balance 1500\\\\\\n', \"                                   >> testing_python/tests/test_bank_account.py\n",
        "!echo \"            'Withdraw 200, new balance 1300\\\\\\n', \"                                  >> testing_python/tests/test_bank_account.py\n",
        "!echo \"            'Balance check, balance 1300\\\\\\n'\"                                       >> testing_python/tests/test_bank_account.py\n",
        "!echo \"            ])\"                                                                      >> testing_python/tests/test_bank_account.py"
      ]
    },
    {
      "cell_type": "markdown",
      "metadata": {},
      "source": [
        "E passamos os testes"
      ]
    },
    {
      "cell_type": "code",
      "execution_count": 101,
      "metadata": {},
      "outputs": [
        {
          "name": "stdout",
          "output_type": "stream",
          "text": [
            "test_deposit (test_bank_account.TestBankAccount) ... ok\n",
            "test_get_balance (test_bank_account.TestBankAccount) ... ok\n",
            "test_transaction_log (test_bank_account.TestBankAccount) ... ok\n",
            "test_withdraw (test_bank_account.TestBankAccount) ... ok\n",
            "test_divide (test_calculator.TestCalculator) ... ok\n",
            "test_multiply (test_calculator.TestCalculator) ... ok\n",
            "test_substract (test_calculator.TestCalculator) ... ok\n",
            "test_sum (test_calculator.TestCalculator) ... ok\n",
            "\n",
            "----------------------------------------------------------------------\n",
            "Ran 8 tests in 0.001s\n",
            "\n",
            "OK\n"
          ]
        }
      ],
      "source": [
        "!cd testing_python && python -m unittest discover -s tests -v"
      ]
    },
    {
      "cell_type": "markdown",
      "metadata": {},
      "source": [
        "### Documentação de erros"
      ]
    },
    {
      "cell_type": "markdown",
      "metadata": {},
      "source": [
        "Se você notou, até agora nos testes estávamos usando `assertEqual`. Este método nos dá a opção de escrever uma mensagem de erro quando a condição não é atendida. Vamos modificar um teste para que ele falhe e ver a mensagem de erro."
      ]
    },
    {
      "cell_type": "code",
      "execution_count": null,
      "metadata": {},
      "outputs": [],
      "source": [
        "!echo \"import unittest\"                                                                      > testing_python/tests/test_bank_account.py\n",
        "!echo \"import os\"                                                                           >> testing_python/tests/test_bank_account.py\n",
        "!echo \"from src.bank_account import BankAccount\"                                            >> testing_python/tests/test_bank_account.py\n",
        "!echo \"\"                                                                                    >> testing_python/tests/test_bank_account.py\n",
        "!echo \"class TestBankAccount(unittest.TestCase):\"                                           >> testing_python/tests/test_bank_account.py\n",
        "!echo \"    def setUp(self):\"                                                                >> testing_python/tests/test_bank_account.py\n",
        "!echo \"        self.account = BankAccount(balance=1000, log_file='test_log.txt')\"           >> testing_python/tests/test_bank_account.py\n",
        "!echo \"\"                                                                                    >> testing_python/tests/test_bank_account.py\n",
        "!echo \"    def tearDown(self):\"                                                             >> testing_python/tests/test_bank_account.py\n",
        "!echo \"        if os.path.exists('test_log.txt'):\"                                          >> testing_python/tests/test_bank_account.py\n",
        "!echo \"            os.remove('test_log.txt')\"                                               >> testing_python/tests/test_bank_account.py\n",
        "!echo \"\"                                                                                    >> testing_python/tests/test_bank_account.py\n",
        "!echo \"    def test_deposit(self):\"                                                         >> testing_python/tests/test_bank_account.py\n",
        "!echo \"        new_balace = self.account.deposit(500)\"                                      >> testing_python/tests/test_bank_account.py\n",
        "!echo \"        self.assertEqual(new_balace, 1500)\"                                          >> testing_python/tests/test_bank_account.py\n",
        "!echo \"\"                                                                                    >> testing_python/tests/test_bank_account.py\n",
        "!echo \"    def test_withdraw(self):\"                                                        >> testing_python/tests/test_bank_account.py\n",
        "!echo \"        new_balace = self.account.withdraw(200)\"                                     >> testing_python/tests/test_bank_account.py\n",
        "!echo \"        self.assertEqual(new_balace, 500, 'Balance is not correct')\"                 >> testing_python/tests/test_bank_account.py\n",
        "!echo \"\"                                                                                    >> testing_python/tests/test_bank_account.py\n",
        "!echo \"    def test_get_balance(self):\"                                                     >> testing_python/tests/test_bank_account.py\n",
        "!echo \"        balance = self.account.get_balance()\"                                        >> testing_python/tests/test_bank_account.py\n",
        "!echo \"        self.assertEqual(balance, 1000)\"                                             >> testing_python/tests/test_bank_account.py\n",
        "!echo \"\"                                                                                    >> testing_python/tests/test_bank_account.py\n",
        "!echo \"    def test_transaction_log(self):\"                                                 >> testing_python/tests/test_bank_account.py\n",
        "!echo \"        self.account.deposit(500)\"                                                   >> testing_python/tests/test_bank_account.py\n",
        "!echo \"        self.account.withdraw(200)\"                                                  >> testing_python/tests/test_bank_account.py\n",
        "!echo \"        self.account.get_balance()\"                                                  >> testing_python/tests/test_bank_account.py\n",
        "!echo \"        assert os.path.exists('test_log.txt')\"                                       >> testing_python/tests/test_bank_account.py\n",
        "!echo \"        with open('test_log.txt', 'r') as file:\"                                     >> testing_python/tests/test_bank_account.py\n",
        "!echo \"            content = file.readlines()\"                                              >> testing_python/tests/test_bank_account.py\n",
        "!echo \"        self.assertEqual(content, [\"                                                 >> testing_python/tests/test_bank_account.py\n",
        "!echo \"            'Account created\\\\\\n', \"                                                 >> testing_python/tests/test_bank_account.py\n",
        "!echo \"            'Deposit 500, new balance 1500\\\\\\n', \"                                   >> testing_python/tests/test_bank_account.py\n",
        "!echo \"            'Withdraw 200, new balance 1300\\\\\\n', \"                                  >> testing_python/tests/test_bank_account.py\n",
        "!echo \"            'Balance check, balance 1300\\\\\\n'\"                                       >> testing_python/tests/test_bank_account.py\n",
        "!echo \"            ])\"                                                                      >> testing_python/tests/test_bank_account.py"
      ]
    },
    {
      "cell_type": "markdown",
      "metadata": {},
      "source": [
        "Passamos os testes"
      ]
    },
    {
      "cell_type": "code",
      "execution_count": 2,
      "metadata": {},
      "outputs": [
        {
          "name": "stdout",
          "output_type": "stream",
          "text": [
            "test_deposit (test_bank_account.TestBankAccount) ... ok\n",
            "test_get_balance (test_bank_account.TestBankAccount) ... ok\n",
            "test_transaction_log (test_bank_account.TestBankAccount) ... ok\n",
            "test_withdraw (test_bank_account.TestBankAccount) ... FAIL\n",
            "test_divide (test_calculator.TestCalculator) ... ok\n",
            "test_multiply (test_calculator.TestCalculator) ... ok\n",
            "test_substract (test_calculator.TestCalculator) ... ok\n",
            "test_sum (test_calculator.TestCalculator) ... ok\n",
            "\n",
            "======================================================================\n",
            "FAIL: test_withdraw (test_bank_account.TestBankAccount)\n",
            "----------------------------------------------------------------------\n",
            "Traceback (most recent call last):\n",
            "  File \"/home/wallabot/Documentos/web/portafolio/posts/testing_python/tests/test_bank_account.py\", line 19, in test_withdraw\n",
            "    self.assertEqual(new_balace, 500, 'Balance is not correct')\n",
            "AssertionError: 800 != 500 : Balance is not correct\n",
            "\n",
            "----------------------------------------------------------------------\n",
            "Ran 8 tests in 0.001s\n",
            "\n",
            "FAILED (failures=1)\n"
          ]
        }
      ],
      "source": [
        "!cd testing_python && python -m unittest discover -s tests -v"
      ]
    },
    {
      "cell_type": "markdown",
      "metadata": {},
      "source": [
        "Como podemos ver, temos a mensagem que escrevemos no teste `AssertionError: 800 != 500 : Balance is not correct`"
      ]
    },
    {
      "cell_type": "markdown",
      "metadata": {},
      "source": [
        "### `assert`s"
      ]
    },
    {
      "cell_type": "markdown",
      "metadata": {},
      "source": [
        "Até agora usamos os `assertEqual`, mas há mais, como por exemplo o `assertTrue`. Vamos modificar a linha `assert os.path.exists('test_log.txt')` para `self.assertTrue(os.path.exists('test_log.txt'))`."
      ]
    },
    {
      "cell_type": "code",
      "execution_count": null,
      "metadata": {},
      "outputs": [],
      "source": [
        "!echo \"import unittest\"                                                                     > testing_python/tests/test_bank_account.py\n",
        "!echo \"import os\"                                                                           >> testing_python/tests/test_bank_account.py\n",
        "!echo \"from src.bank_account import BankAccount\"                                            >> testing_python/tests/test_bank_account.py\n",
        "!echo \"\"                                                                                    >> testing_python/tests/test_bank_account.py\n",
        "!echo \"class TestBankAccount(unittest.TestCase):\"                                           >> testing_python/tests/test_bank_account.py\n",
        "!echo \"    def setUp(self):\"                                                                >> testing_python/tests/test_bank_account.py\n",
        "!echo \"        self.account = BankAccount(balance=1000, log_file='test_log.txt')\"           >> testing_python/tests/test_bank_account.py\n",
        "!echo \"\"                                                                                    >> testing_python/tests/test_bank_account.py\n",
        "!echo \"    def tearDown(self):\"                                                             >> testing_python/tests/test_bank_account.py\n",
        "!echo \"        if os.path.exists('test_log.txt'):\"                                          >> testing_python/tests/test_bank_account.py\n",
        "!echo \"            os.remove('test_log.txt')\"                                               >> testing_python/tests/test_bank_account.py\n",
        "!echo \"\"                                                                                    >> testing_python/tests/test_bank_account.py\n",
        "!echo \"    def test_deposit(self):\"                                                         >> testing_python/tests/test_bank_account.py\n",
        "!echo \"        new_balace = self.account.deposit(500)\"                                      >> testing_python/tests/test_bank_account.py\n",
        "!echo \"        self.assertEqual(new_balace, 1500)\"                                          >> testing_python/tests/test_bank_account.py\n",
        "!echo \"\"                                                                                    >> testing_python/tests/test_bank_account.py\n",
        "!echo \"    def test_withdraw(self):\"                                                        >> testing_python/tests/test_bank_account.py\n",
        "!echo \"        new_balace = self.account.withdraw(200)\"                                     >> testing_python/tests/test_bank_account.py\n",
        "!echo \"        self.assertEqual(new_balace, 800, 'Balance is not correct')\"                 >> testing_python/tests/test_bank_account.py\n",
        "!echo \"\"                                                                                    >> testing_python/tests/test_bank_account.py\n",
        "!echo \"    def test_get_balance(self):\"                                                     >> testing_python/tests/test_bank_account.py\n",
        "!echo \"        balance = self.account.get_balance()\"                                        >> testing_python/tests/test_bank_account.py\n",
        "!echo \"        self.assertEqual(balance, 1000)\"                                             >> testing_python/tests/test_bank_account.py\n",
        "!echo \"\"                                                                                    >> testing_python/tests/test_bank_account.py\n",
        "!echo \"    def test_transaction_log(self):\"                                                 >> testing_python/tests/test_bank_account.py\n",
        "!echo \"        self.account.deposit(500)\"                                                   >> testing_python/tests/test_bank_account.py\n",
        "!echo \"        self.account.withdraw(200)\"                                                  >> testing_python/tests/test_bank_account.py\n",
        "!echo \"        self.account.get_balance()\"                                                  >> testing_python/tests/test_bank_account.py\n",
        "!echo \"        self.assertTrue(os.path.exists('test_log.txt'))\"                             >> testing_python/tests/test_bank_account.py\n",
        "!echo \"        with open('test_log.txt', 'r') as file:\"                                     >> testing_python/tests/test_bank_account.py\n",
        "!echo \"            content = file.readlines()\"                                              >> testing_python/tests/test_bank_account.py\n",
        "!echo \"        self.assertEqual(content, [\"                                                 >> testing_python/tests/test_bank_account.py\n",
        "!echo \"            'Account created\\\\\\n', \"                                                 >> testing_python/tests/test_bank_account.py\n",
        "!echo \"            'Deposit 500, new balance 1500\\\\\\n', \"                                   >> testing_python/tests/test_bank_account.py\n",
        "!echo \"            'Withdraw 200, new balance 1300\\\\\\n', \"                                  >> testing_python/tests/test_bank_account.py\n",
        "!echo \"            'Balance check, balance 1300\\\\\\n'\"                                       >> testing_python/tests/test_bank_account.py\n",
        "!echo \"            ])\"                                                                      >> testing_python/tests/test_bank_account.py"
      ]
    },
    {
      "cell_type": "markdown",
      "metadata": {},
      "source": [
        "E passamos os testes"
      ]
    },
    {
      "cell_type": "code",
      "execution_count": 5,
      "metadata": {},
      "outputs": [
        {
          "name": "stdout",
          "output_type": "stream",
          "text": [
            "test_deposit (test_bank_account.TestBankAccount) ... ok\n",
            "test_get_balance (test_bank_account.TestBankAccount) ... ok\n",
            "test_transaction_log (test_bank_account.TestBankAccount) ... ok\n",
            "test_withdraw (test_bank_account.TestBankAccount) ... ok\n",
            "test_divide (test_calculator.TestCalculator) ... ok\n",
            "test_multiply (test_calculator.TestCalculator) ... ok\n",
            "test_substract (test_calculator.TestCalculator) ... ok\n",
            "test_sum (test_calculator.TestCalculator) ... ok\n",
            "\n",
            "----------------------------------------------------------------------\n",
            "Ran 8 tests in 0.001s\n",
            "\n",
            "OK\n"
          ]
        }
      ],
      "source": [
        "!cd testing_python && python -m unittest discover -s tests -v"
      ]
    },
    {
      "cell_type": "markdown",
      "metadata": {},
      "source": [
        "Alguns outros `assert`s que podemos usar são:\n",
        "* `assertEqual`\n",
        "* `assertNotEqual`\n",
        "* `assertTrue`\n",
        "* `assertFalse`\n",
        "* `assertRaises`"
      ]
    },
    {
      "cell_type": "markdown",
      "metadata": {},
      "source": [
        "### `skip`"
      ]
    },
    {
      "cell_type": "markdown",
      "metadata": {},
      "source": [
        "Assim como em Python podemos usar `pass` para não fazer nada, em testes podemos usar `skip` para saltar um teste. Isso pode ser útil quando sabemos que queremos passar algumas provas, mas ainda não temos o código para isso."
      ]
    },
    {
      "cell_type": "markdown",
      "metadata": {},
      "source": [
        "Vou adicionar um teste para verificar se o usuário tem um empréstimo, mas como ainda não há código relacionado aos empréstimos, vou pular o teste."
      ]
    },
    {
      "cell_type": "code",
      "execution_count": 6,
      "metadata": {},
      "outputs": [],
      "source": [
        "!echo \"import unittest\"                                                                      > testing_python/tests/test_bank_account.py\n",
        "!echo \"import os\"                                                                           >> testing_python/tests/test_bank_account.py\n",
        "!echo \"from src.bank_account import BankAccount\"                                            >> testing_python/tests/test_bank_account.py\n",
        "!echo \"\"                                                                                    >> testing_python/tests/test_bank_account.py\n",
        "!echo \"class TestBankAccount(unittest.TestCase):\"                                           >> testing_python/tests/test_bank_account.py\n",
        "!echo \"    def setUp(self):\"                                                                >> testing_python/tests/test_bank_account.py\n",
        "!echo \"        self.account = BankAccount(balance=1000, log_file='test_log.txt')\"           >> testing_python/tests/test_bank_account.py\n",
        "!echo \"\"                                                                                    >> testing_python/tests/test_bank_account.py\n",
        "!echo \"    def tearDown(self):\"                                                             >> testing_python/tests/test_bank_account.py\n",
        "!echo \"        if os.path.exists('test_log.txt'):\"                                          >> testing_python/tests/test_bank_account.py\n",
        "!echo \"            os.remove('test_log.txt')\"                                               >> testing_python/tests/test_bank_account.py\n",
        "!echo \"\"                                                                                    >> testing_python/tests/test_bank_account.py\n",
        "!echo \"    def test_deposit(self):\"                                                         >> testing_python/tests/test_bank_account.py\n",
        "!echo \"        new_balace = self.account.deposit(500)\"                                      >> testing_python/tests/test_bank_account.py\n",
        "!echo \"        self.assertEqual(new_balace, 1500)\"                                          >> testing_python/tests/test_bank_account.py\n",
        "!echo \"\"                                                                                    >> testing_python/tests/test_bank_account.py\n",
        "!echo \"    def test_withdraw(self):\"                                                        >> testing_python/tests/test_bank_account.py\n",
        "!echo \"        new_balace = self.account.withdraw(200)\"                                     >> testing_python/tests/test_bank_account.py\n",
        "!echo \"        self.assertEqual(new_balace, 800, 'Balance is not correct')\"                 >> testing_python/tests/test_bank_account.py\n",
        "!echo \"\"                                                                                    >> testing_python/tests/test_bank_account.py\n",
        "!echo \"    def test_get_balance(self):\"                                                     >> testing_python/tests/test_bank_account.py\n",
        "!echo \"        balance = self.account.get_balance()\"                                        >> testing_python/tests/test_bank_account.py\n",
        "!echo \"        self.assertEqual(balance, 1000)\"                                             >> testing_python/tests/test_bank_account.py\n",
        "!echo \"\"                                                                                    >> testing_python/tests/test_bank_account.py\n",
        "!echo \"    def test_transaction_log(self):\"                                                 >> testing_python/tests/test_bank_account.py\n",
        "!echo \"        self.account.deposit(500)\"                                                   >> testing_python/tests/test_bank_account.py\n",
        "!echo \"        self.account.withdraw(200)\"                                                  >> testing_python/tests/test_bank_account.py\n",
        "!echo \"        self.account.get_balance()\"                                                  >> testing_python/tests/test_bank_account.py\n",
        "!echo \"        self.assertTrue(os.path.exists('test_log.txt'))\"                             >> testing_python/tests/test_bank_account.py\n",
        "!echo \"        with open('test_log.txt', 'r') as file:\"                                     >> testing_python/tests/test_bank_account.py\n",
        "!echo \"            content = file.readlines()\"                                              >> testing_python/tests/test_bank_account.py\n",
        "!echo \"        self.assertEqual(content, [\"                                                 >> testing_python/tests/test_bank_account.py\n",
        "!echo \"            'Account created\\\\\\n', \"                                                 >> testing_python/tests/test_bank_account.py\n",
        "!echo \"            'Deposit 500, new balance 1500\\\\\\n', \"                                   >> testing_python/tests/test_bank_account.py\n",
        "!echo \"            'Withdraw 200, new balance 1300\\\\\\n', \"                                  >> testing_python/tests/test_bank_account.py\n",
        "!echo \"            'Balance check, balance 1300\\\\\\n'\"                                       >> testing_python/tests/test_bank_account.py\n",
        "!echo \"            ])\"                                                                      >> testing_python/tests/test_bank_account.py\n",
        "!echo \"\"                                                                                    >> testing_python/tests/test_bank_account.py\n",
        "!echo \"    @unittest.skip('Not implemented yet')\"                                           >> testing_python/tests/test_bank_account.py\n",
        "!echo \"    def test_has_loan(self):\"                                                        >> testing_python/tests/test_bank_account.py\n",
        "!echo \"        self.assertFalse(self.account.has_loan())\"                                   >> testing_python/tests/test_bank_account.py"
      ]
    },
    {
      "cell_type": "markdown",
      "metadata": {},
      "source": [
        "Vamos ver o que acontece ao executá-lo"
      ]
    },
    {
      "cell_type": "code",
      "execution_count": 7,
      "metadata": {},
      "outputs": [
        {
          "name": "stdout",
          "output_type": "stream",
          "text": [
            "test_deposit (test_bank_account.TestBankAccount) ... ok\n",
            "test_get_balance (test_bank_account.TestBankAccount) ... ok\n",
            "test_has_loan (test_bank_account.TestBankAccount) ... skipped 'Not implemented yet'\n",
            "test_transaction_log (test_bank_account.TestBankAccount) ... ok\n",
            "test_withdraw (test_bank_account.TestBankAccount) ... ok\n",
            "test_divide (test_calculator.TestCalculator) ... ok\n",
            "test_multiply (test_calculator.TestCalculator) ... ok\n",
            "test_substract (test_calculator.TestCalculator) ... ok\n",
            "test_sum (test_calculator.TestCalculator) ... ok\n",
            "\n",
            "----------------------------------------------------------------------\n",
            "Ran 9 tests in 0.001s\n",
            "\n",
            "OK (skipped=1)\n"
          ]
        }
      ],
      "source": [
        "!cd testing_python && python -m unittest discover -s tests -v"
      ]
    },
    {
      "cell_type": "markdown",
      "metadata": {},
      "source": [
        "Podemos ver `test_has_loan (test_bank_account.TestBankAccount) ... skipped 'Not implemented yet'` que esse teste foi pulado como queríamos."
      ]
    },
    {
      "cell_type": "markdown",
      "metadata": {},
      "source": [
        "### `skipIf`"
      ]
    },
    {
      "cell_type": "markdown",
      "metadata": {},
      "source": [
        "Outra opção é usar `skipIf` para pular um teste se uma condição for atendida. Vou adicionar uma variável no início chamada `server` para saber se estamos em um ambiente local ou no servidor, e o teste verificará essa variável, de modo que, se estivermos no servidor, o teste será pulado."
      ]
    },
    {
      "cell_type": "code",
      "execution_count": null,
      "metadata": {},
      "outputs": [],
      "source": [
        "!echo \"import unittest\"                                                                      > testing_python/tests/test_bank_account.py\n",
        "!echo \"import os\"                                                                           >> testing_python/tests/test_bank_account.py\n",
        "!echo \"from src.bank_account import BankAccount\"                                            >> testing_python/tests/test_bank_account.py\n",
        "!echo \"\"                                                                                    >> testing_python/tests/test_bank_account.py\n",
        "!echo \"SERVER = True\"                                                                       >> testing_python/tests/test_bank_account.py\n",
        "!echo \"\"                                                                                    >> testing_python/tests/test_bank_account.py\n",
        "!echo \"class TestBankAccount(unittest.TestCase):\"                                           >> testing_python/tests/test_bank_account.py\n",
        "!echo \"    def setUp(self):\"                                                                >> testing_python/tests/test_bank_account.py\n",
        "!echo \"        self.account = BankAccount(balance=1000, log_file='test_log.txt')\"           >> testing_python/tests/test_bank_account.py\n",
        "!echo \"\"                                                                                    >> testing_python/tests/test_bank_account.py\n",
        "!echo \"    def tearDown(self):\"                                                             >> testing_python/tests/test_bank_account.py\n",
        "!echo \"        if os.path.exists('test_log.txt'):\"                                          >> testing_python/tests/test_bank_account.py\n",
        "!echo \"            os.remove('test_log.txt')\"                                               >> testing_python/tests/test_bank_account.py\n",
        "!echo \"\"                                                                                    >> testing_python/tests/test_bank_account.py\n",
        "!echo \"    def test_deposit(self):\"                                                         >> testing_python/tests/test_bank_account.py\n",
        "!echo \"        new_balace = self.account.deposit(500)\"                                      >> testing_python/tests/test_bank_account.py\n",
        "!echo \"        self.assertEqual(new_balace, 1500)\"                                          >> testing_python/tests/test_bank_account.py\n",
        "!echo \"\"                                                                                    >> testing_python/tests/test_bank_account.py\n",
        "!echo \"    def test_withdraw(self):\"                                                        >> testing_python/tests/test_bank_account.py\n",
        "!echo \"        new_balace = self.account.withdraw(200)\"                                     >> testing_python/tests/test_bank_account.py\n",
        "!echo \"        self.assertEqual(new_balace, 800, 'Balance is not correct')\"                 >> testing_python/tests/test_bank_account.py\n",
        "!echo \"\"                                                                                    >> testing_python/tests/test_bank_account.py\n",
        "!echo \"    def test_get_balance(self):\"                                                     >> testing_python/tests/test_bank_account.py\n",
        "!echo \"        balance = self.account.get_balance()\"                                        >> testing_python/tests/test_bank_account.py\n",
        "!echo \"        self.assertEqual(balance, 1000)\"                                             >> testing_python/tests/test_bank_account.py\n",
        "!echo \"\"                                                                                    >> testing_python/tests/test_bank_account.py\n",
        "!echo \"    def test_transaction_log(self):\"                                                 >> testing_python/tests/test_bank_account.py\n",
        "!echo \"        self.account.deposit(500)\"                                                   >> testing_python/tests/test_bank_account.py\n",
        "!echo \"        self.account.withdraw(200)\"                                                  >> testing_python/tests/test_bank_account.py\n",
        "!echo \"        self.account.get_balance()\"                                                  >> testing_python/tests/test_bank_account.py\n",
        "!echo \"        self.assertTrue(os.path.exists('test_log.txt'))\"                             >> testing_python/tests/test_bank_account.py\n",
        "!echo \"        with open('test_log.txt', 'r') as file:\"                                     >> testing_python/tests/test_bank_account.py\n",
        "!echo \"            content = file.readlines()\"                                              >> testing_python/tests/test_bank_account.py\n",
        "!echo \"        self.assertEqual(content, [\"                                                 >> testing_python/tests/test_bank_account.py\n",
        "!echo \"            'Account created\\\\\\n', \"                                                 >> testing_python/tests/test_bank_account.py\n",
        "!echo \"            'Deposit 500, new balance 1500\\\\\\n', \"                                   >> testing_python/tests/test_bank_account.py\n",
        "!echo \"            'Withdraw 200, new balance 1300\\\\\\n', \"                                  >> testing_python/tests/test_bank_account.py\n",
        "!echo \"            'Balance check, balance 1300\\\\\\n'\"                                       >> testing_python/tests/test_bank_account.py\n",
        "!echo \"            ])\"                                                                      >> testing_python/tests/test_bank_account.py\n",
        "!echo \"\"                                                                                    >> testing_python/tests/test_bank_account.py\n",
        "!echo \"    @unittest.skip('Not implemented yet')\"                                           >> testing_python/tests/test_bank_account.py\n",
        "!echo \"    def test_has_loan(self):\"                                                        >> testing_python/tests/test_bank_account.py\n",
        "!echo \"        self.assertFalse(self.account.has_loan())\"                                   >> testing_python/tests/test_bank_account.py\n",
        "!echo \"\"                                                                                    >> testing_python/tests/test_bank_account.py\n",
        "!echo \"    @unittest.skipIf(SERVER, 'Only for local testing')\"                              >> testing_python/tests/test_bank_account.py\n",
        "!echo \"    def test_server(self):\"                                                          >> testing_python/tests/test_bank_account.py\n",
        "!echo \"        self.assertTrue(SERVER)\"                                                     >> testing_python/tests/test_bank_account.py"
      ]
    },
    {
      "cell_type": "markdown",
      "metadata": {},
      "source": [
        "Se passarmos nos testes"
      ]
    },
    {
      "cell_type": "code",
      "execution_count": 9,
      "metadata": {},
      "outputs": [
        {
          "name": "stdout",
          "output_type": "stream",
          "text": [
            "test_deposit (test_bank_account.TestBankAccount) ... ok\n",
            "test_get_balance (test_bank_account.TestBankAccount) ... ok\n",
            "test_has_loan (test_bank_account.TestBankAccount) ... skipped 'Not implemented yet'\n",
            "test_server (test_bank_account.TestBankAccount) ... skipped 'Only for local testing'\n",
            "test_transaction_log (test_bank_account.TestBankAccount) ... ok\n",
            "test_withdraw (test_bank_account.TestBankAccount) ... ok\n",
            "test_divide (test_calculator.TestCalculator) ... ok\n",
            "test_multiply (test_calculator.TestCalculator) ... ok\n",
            "test_substract (test_calculator.TestCalculator) ... ok\n",
            "test_sum (test_calculator.TestCalculator) ... ok\n",
            "\n",
            "----------------------------------------------------------------------\n",
            "Ran 10 tests in 0.001s\n",
            "\n",
            "OK (skipped=2)\n"
          ]
        }
      ],
      "source": [
        "!cd testing_python && python -m unittest discover -s tests -v"
      ]
    },
    {
      "cell_type": "markdown",
      "metadata": {},
      "source": [
        "Vemos `test_server (test_bank_account.TestBankAccount) ... skipped 'Only for local testing'` já que, como `SERVER = True`, o teste foi pulado."
      ]
    },
    {
      "cell_type": "markdown",
      "metadata": {},
      "source": [
        "### `falhaEsperada`"
      ]
    },
    {
      "cell_type": "markdown",
      "metadata": {},
      "source": [
        "Deve ocorrer um erro quando um usuário tenta sacar mais dinheiro do que possui, de modo que com o método `expectedFailure` podemos indicar que esperamos que o teste falhe."
      ]
    },
    {
      "cell_type": "code",
      "execution_count": 12,
      "metadata": {},
      "outputs": [],
      "source": [
        "!echo \"import unittest\"                                                                      > testing_python/tests/test_bank_account.py\n",
        "!echo \"import os\"                                                                           >> testing_python/tests/test_bank_account.py\n",
        "!echo \"from src.bank_account import BankAccount\"                                            >> testing_python/tests/test_bank_account.py\n",
        "!echo \"\"                                                                                    >> testing_python/tests/test_bank_account.py\n",
        "!echo \"SERVER = True\"                                                                       >> testing_python/tests/test_bank_account.py\n",
        "!echo \"\"                                                                                    >> testing_python/tests/test_bank_account.py\n",
        "!echo \"class TestBankAccount(unittest.TestCase):\"                                           >> testing_python/tests/test_bank_account.py\n",
        "!echo \"    def setUp(self):\"                                                                >> testing_python/tests/test_bank_account.py\n",
        "!echo \"        self.account = BankAccount(balance=1000, log_file='test_log.txt')\"           >> testing_python/tests/test_bank_account.py\n",
        "!echo \"\"                                                                                    >> testing_python/tests/test_bank_account.py\n",
        "!echo \"    def tearDown(self):\"                                                             >> testing_python/tests/test_bank_account.py\n",
        "!echo \"        if os.path.exists('test_log.txt'):\"                                          >> testing_python/tests/test_bank_account.py\n",
        "!echo \"            os.remove('test_log.txt')\"                                               >> testing_python/tests/test_bank_account.py\n",
        "!echo \"\"                                                                                    >> testing_python/tests/test_bank_account.py\n",
        "!echo \"    def test_deposit(self):\"                                                         >> testing_python/tests/test_bank_account.py\n",
        "!echo \"        new_balace = self.account.deposit(500)\"                                      >> testing_python/tests/test_bank_account.py\n",
        "!echo \"        self.assertEqual(new_balace, 1500)\"                                          >> testing_python/tests/test_bank_account.py\n",
        "!echo \"\"                                                                                    >> testing_python/tests/test_bank_account.py\n",
        "!echo \"    def test_withdraw(self):\"                                                        >> testing_python/tests/test_bank_account.py\n",
        "!echo \"        new_balace = self.account.withdraw(200)\"                                     >> testing_python/tests/test_bank_account.py\n",
        "!echo \"        self.assertEqual(new_balace, 800, 'Balance is not correct')\"                 >> testing_python/tests/test_bank_account.py\n",
        "!echo \"\"                                                                                    >> testing_python/tests/test_bank_account.py\n",
        "!echo \"    def test_get_balance(self):\"                                                     >> testing_python/tests/test_bank_account.py\n",
        "!echo \"        balance = self.account.get_balance()\"                                        >> testing_python/tests/test_bank_account.py\n",
        "!echo \"        self.assertEqual(balance, 1000)\"                                             >> testing_python/tests/test_bank_account.py\n",
        "!echo \"\"                                                                                    >> testing_python/tests/test_bank_account.py\n",
        "!echo \"    def test_transaction_log(self):\"                                                 >> testing_python/tests/test_bank_account.py\n",
        "!echo \"        self.account.deposit(500)\"                                                   >> testing_python/tests/test_bank_account.py\n",
        "!echo \"        self.account.withdraw(200)\"                                                  >> testing_python/tests/test_bank_account.py\n",
        "!echo \"        self.account.get_balance()\"                                                  >> testing_python/tests/test_bank_account.py\n",
        "!echo \"        self.assertTrue(os.path.exists('test_log.txt'))\"                             >> testing_python/tests/test_bank_account.py\n",
        "!echo \"        with open('test_log.txt', 'r') as file:\"                                     >> testing_python/tests/test_bank_account.py\n",
        "!echo \"            content = file.readlines()\"                                              >> testing_python/tests/test_bank_account.py\n",
        "!echo \"        self.assertEqual(content, [\"                                                 >> testing_python/tests/test_bank_account.py\n",
        "!echo \"            'Account created\\\\\\n', \"                                                 >> testing_python/tests/test_bank_account.py\n",
        "!echo \"            'Deposit 500, new balance 1500\\\\\\n', \"                                   >> testing_python/tests/test_bank_account.py\n",
        "!echo \"            'Withdraw 200, new balance 1300\\\\\\n', \"                                  >> testing_python/tests/test_bank_account.py\n",
        "!echo \"            'Balance check, balance 1300\\\\\\n'\"                                       >> testing_python/tests/test_bank_account.py\n",
        "!echo \"            ])\"                                                                      >> testing_python/tests/test_bank_account.py\n",
        "!echo \"\"                                                                                    >> testing_python/tests/test_bank_account.py\n",
        "!echo \"    @unittest.skip('Not implemented yet')\"                                           >> testing_python/tests/test_bank_account.py\n",
        "!echo \"    def test_has_loan(self):\"                                                        >> testing_python/tests/test_bank_account.py\n",
        "!echo \"        self.assertFalse(self.account.has_loan())\"                                   >> testing_python/tests/test_bank_account.py\n",
        "!echo \"\"                                                                                    >> testing_python/tests/test_bank_account.py\n",
        "!echo \"    @unittest.skipIf(SERVER, 'Only for local testing')\"                              >> testing_python/tests/test_bank_account.py\n",
        "!echo \"    def test_server(self):\"                                                          >> testing_python/tests/test_bank_account.py\n",
        "!echo \"        self.assertTrue(SERVER)\"                                                     >> testing_python/tests/test_bank_account.py\n",
        "!echo \"\"                                                                                    >> testing_python/tests/test_bank_account.py\n",
        "!echo \"    @unittest.expectedFailure\"                                                       >> testing_python/tests/test_bank_account.py\n",
        "!echo \"    def test_fail(self):\"                                                            >> testing_python/tests/test_bank_account.py\n",
        "!echo \"        new_balace = self.account.withdraw(1200)\"                                    >> testing_python/tests/test_bank_account.py\n",
        "!echo \"        self.assertEqual(new_balace, 800, 'Not enough money')\"                       >> testing_python/tests/test_bank_account.py"
      ]
    },
    {
      "cell_type": "markdown",
      "metadata": {},
      "source": [
        "Passamos os testes"
      ]
    },
    {
      "cell_type": "code",
      "execution_count": 13,
      "metadata": {},
      "outputs": [
        {
          "name": "stdout",
          "output_type": "stream",
          "text": [
            "test_deposit (test_bank_account.TestBankAccount) ... ok\n",
            "test_fail (test_bank_account.TestBankAccount) ... expected failure\n",
            "test_get_balance (test_bank_account.TestBankAccount) ... ok\n",
            "test_has_loan (test_bank_account.TestBankAccount) ... skipped 'Not implemented yet'\n",
            "test_server (test_bank_account.TestBankAccount) ... skipped 'Only for local testing'\n",
            "test_transaction_log (test_bank_account.TestBankAccount) ... ok\n",
            "test_withdraw (test_bank_account.TestBankAccount) ... ok\n",
            "test_divide (test_calculator.TestCalculator) ... ok\n",
            "test_multiply (test_calculator.TestCalculator) ... ok\n",
            "test_substract (test_calculator.TestCalculator) ... ok\n",
            "test_sum (test_calculator.TestCalculator) ... ok\n",
            "\n",
            "----------------------------------------------------------------------\n",
            "Ran 11 tests in 0.001s\n",
            "\n",
            "OK (skipped=2, expected failures=1)\n"
          ]
        }
      ],
      "source": [
        "!cd testing_python && python -m unittest discover -s tests -v"
      ]
    },
    {
      "cell_type": "markdown",
      "metadata": {},
      "source": [
        "Como vemos, obtemos `test_fail (test_bank_account.TestBankAccount) ... expected failure` porque é um erro que esperávamos"
      ]
    },
    {
      "cell_type": "markdown",
      "metadata": {},
      "source": [
        "### `skipUnless`"
      ]
    },
    {
      "cell_type": "markdown",
      "metadata": {},
      "source": [
        "Assim como antes, pode haver testes que queiramos fazer apenas no ambiente de desenvolvimento, mas nunca no servidor, ou em staging, ou em produção. Para isso, podemos usar `skipUnless`"
      ]
    },
    {
      "cell_type": "code",
      "execution_count": null,
      "metadata": {},
      "outputs": [],
      "source": [
        "!echo \"import unittest\"                                                                      > testing_python/tests/test_bank_account.py\n",
        "!echo \"import os\"                                                                           >> testing_python/tests/test_bank_account.py\n",
        "!echo \"from src.bank_account import BankAccount\"                                            >> testing_python/tests/test_bank_account.py\n",
        "!echo \"\"                                                                                    >> testing_python/tests/test_bank_account.py\n",
        "!echo \"SERVER = True\"                                                                       >> testing_python/tests/test_bank_account.py\n",
        "!echo \"ENVIRONMENT = 'server'\"                                                              >> testing_python/tests/test_bank_account.py\n",
        "!echo \"\"                                                                                    >> testing_python/tests/test_bank_account.py\n",
        "!echo \"class TestBankAccount(unittest.TestCase):\"                                           >> testing_python/tests/test_bank_account.py\n",
        "!echo \"    def setUp(self):\"                                                                >> testing_python/tests/test_bank_account.py\n",
        "!echo \"        self.account = BankAccount(balance=1000, log_file='test_log.txt')\"           >> testing_python/tests/test_bank_account.py\n",
        "!echo \"\"                                                                                    >> testing_python/tests/test_bank_account.py\n",
        "!echo \"    def tearDown(self):\"                                                             >> testing_python/tests/test_bank_account.py\n",
        "!echo \"        if os.path.exists('test_log.txt'):\"                                          >> testing_python/tests/test_bank_account.py\n",
        "!echo \"            os.remove('test_log.txt')\"                                               >> testing_python/tests/test_bank_account.py\n",
        "!echo \"\"                                                                                    >> testing_python/tests/test_bank_account.py\n",
        "!echo \"    def test_deposit(self):\"                                                         >> testing_python/tests/test_bank_account.py\n",
        "!echo \"        new_balace = self.account.deposit(500)\"                                      >> testing_python/tests/test_bank_account.py\n",
        "!echo \"        self.assertEqual(new_balace, 1500)\"                                          >> testing_python/tests/test_bank_account.py\n",
        "!echo \"\"                                                                                    >> testing_python/tests/test_bank_account.py\n",
        "!echo \"    def test_withdraw(self):\"                                                        >> testing_python/tests/test_bank_account.py\n",
        "!echo \"        new_balace = self.account.withdraw(200)\"                                     >> testing_python/tests/test_bank_account.py\n",
        "!echo \"        self.assertEqual(new_balace, 800, 'Balance is not correct')\"                 >> testing_python/tests/test_bank_account.py\n",
        "!echo \"\"                                                                                    >> testing_python/tests/test_bank_account.py\n",
        "!echo \"    def test_get_balance(self):\"                                                     >> testing_python/tests/test_bank_account.py\n",
        "!echo \"        balance = self.account.get_balance()\"                                        >> testing_python/tests/test_bank_account.py\n",
        "!echo \"        self.assertEqual(balance, 1000)\"                                             >> testing_python/tests/test_bank_account.py\n",
        "!echo \"\"                                                                                    >> testing_python/tests/test_bank_account.py\n",
        "!echo \"    def test_transaction_log(self):\"                                                 >> testing_python/tests/test_bank_account.py\n",
        "!echo \"        self.account.deposit(500)\"                                                   >> testing_python/tests/test_bank_account.py\n",
        "!echo \"        self.account.withdraw(200)\"                                                  >> testing_python/tests/test_bank_account.py\n",
        "!echo \"        self.account.get_balance()\"                                                  >> testing_python/tests/test_bank_account.py\n",
        "!echo \"        self.assertTrue(os.path.exists('test_log.txt'))\"                             >> testing_python/tests/test_bank_account.py\n",
        "!echo \"        with open('test_log.txt', 'r') as file:\"                                     >> testing_python/tests/test_bank_account.py\n",
        "!echo \"            content = file.readlines()\"                                              >> testing_python/tests/test_bank_account.py\n",
        "!echo \"        self.assertEqual(content, [\"                                                 >> testing_python/tests/test_bank_account.py\n",
        "!echo \"            'Account created\\\\\\n', \"                                                 >> testing_python/tests/test_bank_account.py\n",
        "!echo \"            'Deposit 500, new balance 1500\\\\\\n', \"                                   >> testing_python/tests/test_bank_account.py\n",
        "!echo \"            'Withdraw 200, new balance 1300\\\\\\n', \"                                  >> testing_python/tests/test_bank_account.py\n",
        "!echo \"            'Balance check, balance 1300\\\\\\n'\"                                       >> testing_python/tests/test_bank_account.py\n",
        "!echo \"            ])\"                                                                      >> testing_python/tests/test_bank_account.py\n",
        "!echo \"\"                                                                                    >> testing_python/tests/test_bank_account.py\n",
        "!echo \"    @unittest.skip('Not implemented yet')\"                                           >> testing_python/tests/test_bank_account.py\n",
        "!echo \"    def test_has_loan(self):\"                                                        >> testing_python/tests/test_bank_account.py\n",
        "!echo \"        self.assertFalse(self.account.has_loan())\"                                   >> testing_python/tests/test_bank_account.py\n",
        "!echo \"\"                                                                                    >> testing_python/tests/test_bank_account.py\n",
        "!echo \"    @unittest.skipIf(SERVER, 'Only for local testing')\"                              >> testing_python/tests/test_bank_account.py\n",
        "!echo \"    def test_server(self):\"                                                          >> testing_python/tests/test_bank_account.py\n",
        "!echo \"        self.assertTrue(SERVER)\"                                                     >> testing_python/tests/test_bank_account.py\n",
        "!echo \"\"                                                                                    >> testing_python/tests/test_bank_account.py\n",
        "!echo \"    @unittest.expectedFailure\"                                                       >> testing_python/tests/test_bank_account.py\n",
        "!echo \"    def test_fail(self):\"                                                            >> testing_python/tests/test_bank_account.py\n",
        "!echo \"        new_balace = self.account.withdraw(1200)\"                                    >> testing_python/tests/test_bank_account.py\n",
        "!echo \"        self.assertEqual(new_balace, 800, 'Not enough money')\"                       >> testing_python/tests/test_bank_account.py\n",
        "!echo \"\"                                                                                    >> testing_python/tests/test_bank_account.py\n",
        "!echo \"    @unittest.skipUnless(ENVIRONMENT == 'dev', 'Only for dev environment')\"          >> testing_python/tests/test_bank_account.py\n",
        "!echo \"    def test_environment(self):\"                                                     >> testing_python/tests/test_bank_account.py\n",
        "!echo \"        self.assertEqual(ENVIRONMENT, 'dev')\"                                        >> testing_python/tests/test_bank_account.py"
      ]
    },
    {
      "cell_type": "markdown",
      "metadata": {},
      "source": [
        "Passamos os testes"
      ]
    },
    {
      "cell_type": "code",
      "execution_count": 15,
      "metadata": {},
      "outputs": [
        {
          "name": "stdout",
          "output_type": "stream",
          "text": [
            "test_deposit (test_bank_account.TestBankAccount) ... ok\n",
            "test_environment (test_bank_account.TestBankAccount) ... skipped 'Only for dev environment'\n",
            "test_fail (test_bank_account.TestBankAccount) ... expected failure\n",
            "test_get_balance (test_bank_account.TestBankAccount) ... ok\n",
            "test_has_loan (test_bank_account.TestBankAccount) ... skipped 'Not implemented yet'\n",
            "test_server (test_bank_account.TestBankAccount) ... skipped 'Only for local testing'\n",
            "test_transaction_log (test_bank_account.TestBankAccount) ... ok\n",
            "test_withdraw (test_bank_account.TestBankAccount) ... ok\n",
            "test_divide (test_calculator.TestCalculator) ... ok\n",
            "test_multiply (test_calculator.TestCalculator) ... ok\n",
            "test_substract (test_calculator.TestCalculator) ... ok\n",
            "test_sum (test_calculator.TestCalculator) ... ok\n",
            "\n",
            "----------------------------------------------------------------------\n",
            "Ran 12 tests in 0.001s\n",
            "\n",
            "OK (skipped=3, expected failures=1)\n"
          ]
        }
      ],
      "source": [
        "!cd testing_python && python -m unittest discover -s tests -v"
      ]
    },
    {
      "cell_type": "markdown",
      "metadata": {},
      "source": [
        "Obtemos `test_environment (test_bank_account.TestBankAccount) ... skipped 'Only for dev environment'` porque esse teste só será executado no ambiente de desenvolvimento e assume-se que estamos no servidor."
      ]
    },
    {
      "cell_type": "markdown",
      "metadata": {},
      "source": [
        "## Organizar os testes"
      ]
    },
    {
      "cell_type": "markdown",
      "metadata": {},
      "source": [
        "Podemos organizar os testes organizando o que são chamados de `test suites`. Para isso, vamos criar um arquivo chamado `test_suites.py` na pasta `tests`."
      ]
    },
    {
      "cell_type": "code",
      "execution_count": 17,
      "metadata": {},
      "outputs": [],
      "source": [
        "!cd testing_python && cd tests && touch test_suites.py"
      ]
    },
    {
      "cell_type": "markdown",
      "metadata": {},
      "source": [
        "E agora geramos duas suites de teste com os testes de `test_calculator` e `test_bank_account`"
      ]
    },
    {
      "cell_type": "code",
      "execution_count": 32,
      "metadata": {},
      "outputs": [],
      "source": [
        "!echo \"import unittest\"                                              > testing_python/tests/test_suite_calculator.py\n",
        "!echo \"\"                                                            >> testing_python/tests/test_suite_calculator.py\n",
        "!echo \"from test_calculator import TestCalculator\"                  >> testing_python/tests/test_suite_calculator.py\n",
        "!echo \"\"                                                            >> testing_python/tests/test_suite_calculator.py\n",
        "!echo \"def calculator_suite():\"                                     >> testing_python/tests/test_suite_calculator.py\n",
        "!echo \"    suite = unittest.TestSuite()\"                            >> testing_python/tests/test_suite_calculator.py\n",
        "!echo \"    suite.addTest(TestCalculator('test_sum'))\"               >> testing_python/tests/test_suite_calculator.py\n",
        "!echo \"    suite.addTest(TestCalculator('test_substract'))\"          >> testing_python/tests/test_suite_calculator.py\n",
        "!echo \"    suite.addTest(TestCalculator('test_multiply'))\"          >> testing_python/tests/test_suite_calculator.py\n",
        "!echo \"    suite.addTest(TestCalculator('test_divide'))\"          >> testing_python/tests/test_suite_calculator.py\n",
        "!echo \"    return suite\"                                            >> testing_python/tests/test_suite_calculator.py\n",
        "!echo \"\"                                                            >> testing_python/tests/test_suite_calculator.py\n",
        "!echo \"if __name__ == '__main__':\"                                  >> testing_python/tests/test_suite_calculator.py\n",
        "!echo \"    runner = unittest.TextTestRunner()\"                      >> testing_python/tests/test_suite_calculator.py\n",
        "!echo \"    runner.run(calculator_suite())\"                          >> testing_python/tests/test_suite_calculator.py"
      ]
    },
    {
      "cell_type": "markdown",
      "metadata": {},
      "source": [
        "Agora o de `test_bank_account`"
      ]
    },
    {
      "cell_type": "code",
      "execution_count": 35,
      "metadata": {},
      "outputs": [],
      "source": [
        "!echo \"import unittest\"                                              > testing_python/tests/test_suite_bank_account.py\n",
        "!echo \"\"                                                            >> testing_python/tests/test_suite_bank_account.py\n",
        "!echo \"from test_bank_account import TestBankAccount\"               >> testing_python/tests/test_suite_bank_account.py\n",
        "!echo \"\"                                                            >> testing_python/tests/test_suite_bank_account.py\n",
        "!echo \"def bank_account_suite():\"                                   >> testing_python/tests/test_suite_bank_account.py\n",
        "!echo \"    suite = unittest.TestSuite()\"                            >> testing_python/tests/test_suite_bank_account.py\n",
        "!echo \"    suite.addTest(TestBankAccount('test_deposit'))\"          >> testing_python/tests/test_suite_bank_account.py\n",
        "!echo \"    suite.addTest(TestBankAccount('test_withdraw'))\"         >> testing_python/tests/test_suite_bank_account.py\n",
        "!echo \"    suite.addTest(TestBankAccount('test_get_balance'))\"      >> testing_python/tests/test_suite_bank_account.py\n",
        "!echo \"    suite.addTest(TestBankAccount('test_transaction_log'))\"  >> testing_python/tests/test_suite_bank_account.py\n",
        "!echo \"    suite.addTest(TestBankAccount('test_has_loan'))\"         >> testing_python/tests/test_suite_bank_account.py\n",
        "!echo \"    suite.addTest(TestBankAccount('test_server'))\"           >> testing_python/tests/test_suite_bank_account.py\n",
        "!echo \"    suite.addTest(TestBankAccount('test_fail'))\"             >> testing_python/tests/test_suite_bank_account.py\n",
        "!echo \"    suite.addTest(TestBankAccount('test_environment'))\"      >> testing_python/tests/test_suite_bank_account.py\n",
        "!echo \"    return suite\"                                            >> testing_python/tests/test_suite_bank_account.py\n",
        "!echo \"\"                                                            >> testing_python/tests/test_suite_bank_account.py\n",
        "!echo \"if __name__ == '__main__':\"                                  >> testing_python/tests/test_suite_bank_account.py\n",
        "!echo \"    runner = unittest.TextTestRunner()\"                      >> testing_python/tests/test_suite_bank_account.py\n",
        "!echo \"    runner.run(bank_account_suite())\"                        >> testing_python/tests/test_suite_bank_account.py"
      ]
    },
    {
      "cell_type": "markdown",
      "metadata": {},
      "source": [
        "Podemos executar apenas os testes de `test_calculator` com o comando `python tests/test_suite_calculator.py`"
      ]
    },
    {
      "cell_type": "code",
      "execution_count": null,
      "metadata": {},
      "outputs": [
        {
          "name": "stdout",
          "output_type": "stream",
          "text": [
            "Traceback (most recent call last):\n",
            "  File \"/home/wallabot/Documentos/web/portafolio/posts/testing_python/tests/test_suite_calculator.py\", line 3, in <module>\n",
            "    from test_calculator import TestCalculator\n",
            "  File \"/home/wallabot/Documentos/web/portafolio/posts/testing_python/tests/test_calculator.py\", line 2, in <module>\n",
            "    from src.calculator import sum, substract, multiply, divide\n",
            "ModuleNotFoundError: No module named 'src'\n"
          ]
        }
      ],
      "source": [
        "!cd testing_python && python tests/test_suite_calculator.py"
      ]
    },
    {
      "cell_type": "markdown",
      "metadata": {},
      "source": [
        "Vemos que não encontra o módulo `src` de `test_calculator.py`, isso é porque ele não está no caminho, então vamos adicioná-lo."
      ]
    },
    {
      "cell_type": "code",
      "execution_count": null,
      "metadata": {},
      "outputs": [
        {
          "name": "stdout",
          "output_type": "stream",
          "text": [
            "....\n",
            "----------------------------------------------------------------------\n",
            "Ran 4 tests in 0.000s\n",
            "\n",
            "OK\n"
          ]
        }
      ],
      "source": [
        "!cd testing_python && PYTHONPATH=. python tests/test_suite_calculator.py"
      ]
    },
    {
      "cell_type": "markdown",
      "metadata": {},
      "source": [
        "Vemos que só passou os testes de `test_calculator`"
      ]
    },
    {
      "cell_type": "markdown",
      "metadata": {},
      "source": [
        "Vamos passar agora os de `test_bank_account.py`"
      ]
    },
    {
      "cell_type": "code",
      "execution_count": null,
      "metadata": {},
      "outputs": [
        {
          "name": "stdout",
          "output_type": "stream",
          "text": [
            "....ssxs\n",
            "----------------------------------------------------------------------\n",
            "Ran 8 tests in 0.001s\n",
            "\n",
            "OK (skipped=3, expected failures=1)\n"
          ]
        }
      ],
      "source": [
        "!cd testing_python && PYTHONPATH=. python tests/test_suite_bank_account.py"
      ]
    },
    {
      "cell_type": "markdown",
      "metadata": {},
      "source": [
        "E aqui vemos que passa os testes de `test_bank_account`"
      ]
    },
    {
      "cell_type": "markdown",
      "metadata": {},
      "source": [
        "É preciso diferenciar do que fazíamos no início, antes de usar `discover`, quando executávamos `!cd testing_python && python -m unittest tests/test_calculator.py`. Porque em `test_calculator.py` podemos escrever todos os possíveis testes para `calculator.py`, mas com as `suite`s executamos os testes que quisermos. Podemos ter várias `suite`s para executar os testes que quisermos de `test_calculator.py` e `test_bank_account.py`."
      ]
    },
    {
      "cell_type": "markdown",
      "metadata": {},
      "source": [
        "## Melhores práticas ao nomear os testes"
      ]
    },
    {
      "cell_type": "markdown",
      "metadata": {},
      "source": [
        "Na hora de nomear os testes, é bom seguir as seguintes diretrizes:\n",
        "* Uma classe de teste para cada classe de código\n",
        "* Todos os testes devem começar com `test_` para saber que é um código\n",
        "* A seguir deve estar o nome da função ou método que está sendo testado\n",
        "* A seguir deve vir o cenário do teste, pois um método ou função pode ter vários cenários de teste. Por exemplo, com todos os possíveis valores de entrada, com valores limite, com valores incorretos, etc.\n",
        "* Por último, deve-se adicionar o resultado esperado\n",
        "\n",
        "Portanto, um teste deve ter o seguinte formato `test_<nome_função>_<cenário>_<resultado_esperado>`"
      ]
    },
    {
      "cell_type": "markdown",
      "metadata": {},
      "source": [
        "## Mocking de APIs"
      ]
    },
    {
      "cell_type": "markdown",
      "metadata": {},
      "source": [
        "Suponhamos que nosso código chama uma API externa e queremos fazer testes do nosso código sem depender da API externa. Para isso, podemos usar `unittest.mock`, que vem por padrão no Python."
      ]
    },
    {
      "cell_type": "markdown",
      "metadata": {},
      "source": [
        "Primeiro vamos a criar um arquivo chamado `api.py` na pasta `src`"
      ]
    },
    {
      "cell_type": "code",
      "execution_count": 44,
      "metadata": {},
      "outputs": [],
      "source": [
        "!echo \"import requests\"                                              > testing_python/src/api.py\n",
        "!echo \"\"                                                            >> testing_python/src/api.py\n",
        "!echo \"def get_api():\"                                              >> testing_python/src/api.py\n",
        "!echo \"    url = 'https://jsonplaceholder.typicode.com/posts/1'\"    >> testing_python/src/api.py\n",
        "!echo \"    try:\"                                                    >> testing_python/src/api.py\n",
        "!echo \"        response = requests.get(url)\"                        >> testing_python/src/api.py\n",
        "!echo \"        response.raise_for_status()\"                         >> testing_python/src/api.py\n",
        "!echo \"        data = response.json()\"                              >> testing_python/src/api.py\n",
        "!echo \"        print(data)\"                                         >> testing_python/src/api.py\n",
        "!echo \"        return data\"                                         >> testing_python/src/api.py\n",
        "!echo \"    except requests.exceptions.RequestException as e:\"       >> testing_python/src/api.py\n",
        "!echo \"        print(f'error: {e}')\"                                >> testing_python/src/api.py\n",
        "!echo \"        return None\"                                         >> testing_python/src/api.py\n",
        "!echo \"\"                                                            >> testing_python/src/api.py\n",
        "!echo \"if __name__ == '__main__':\"                                  >> testing_python/src/api.py\n",
        "!echo \"    get_api()\"                                               >> testing_python/src/api.py"
      ]
    },
    {
      "cell_type": "markdown",
      "metadata": {},
      "source": [
        "Vamos a executar o arquivo para ver o que ele retorna."
      ]
    },
    {
      "cell_type": "code",
      "execution_count": 45,
      "metadata": {},
      "outputs": [
        {
          "name": "stdout",
          "output_type": "stream",
          "text": [
            "{'userId': 1, 'id': 1, 'title': 'sunt aut facere repellat provident occaecati excepturi optio reprehenderit', 'body': 'quia et suscipit\\nsuscipit recusandae consequuntur expedita et cum\\nreprehenderit molestiae ut ut quas totam\\nnostrum rerum est autem sunt rem eveniet architecto'}\n"
          ]
        }
      ],
      "source": [
        "!cd testing_python/src && python api.py"
      ]
    },
    {
      "cell_type": "markdown",
      "metadata": {},
      "source": [
        "Agora criamos o teste"
      ]
    },
    {
      "cell_type": "code",
      "execution_count": null,
      "metadata": {},
      "outputs": [],
      "source": [
        "!echo \"import unittest\"                                              > testing_python/tests/test_api.py\n",
        "!echo \"from src.api import get_api\"                                 >> testing_python/tests/test_api.py\n",
        "!echo \"\"                                                            >> testing_python/tests/test_api.py\n",
        "!echo \"class TestApi(unittest.TestCase):\"                           >> testing_python/tests/test_api.py\n",
        "!echo \"    def test_get_api(self):\"                                 >> testing_python/tests/test_api.py\n",
        "!echo \"        data = get_api()\"                                    >> testing_python/tests/test_api.py\n",
        "!echo \"        self.assertIsNotNone(data)\"                          >> testing_python/tests/test_api.py\n",
        "!echo \"        self.assertIsInstance(data, dict)\"                   >> testing_python/tests/test_api.py\n",
        "!echo \"        self.assertIn('userId', data)\"                       >> testing_python/tests/test_api.py\n",
        "!echo \"        self.assertIn('id', data)\"                           >> testing_python/tests/test_api.py\n",
        "!echo \"        self.assertIn('title', data)\"                        >> testing_python/tests/test_api.py\n",
        "!echo \"        self.assertIn('body', data)\"                         >> testing_python/tests/test_api.py\n",
        "!echo \"        self.assertEqual(data['userId'], 1)\"                 >> testing_python/tests/test_api.py\n",
        "!echo \"        self.assertEqual(data['id'], 1)\"                     >> testing_python/tests/test_api.py"
      ]
    },
    {
      "cell_type": "markdown",
      "metadata": {},
      "source": [
        "Passamos os testes"
      ]
    },
    {
      "cell_type": "code",
      "execution_count": 47,
      "metadata": {},
      "outputs": [
        {
          "name": "stdout",
          "output_type": "stream",
          "text": [
            "{'userId': 1, 'id': 1, 'title': 'sunt aut facere repellat provident occaecati excepturi optio reprehenderit', 'body': 'quia et suscipit\\nsuscipit recusandae consequuntur expedita et cum\\nreprehenderit molestiae ut ut quas totam\\nnostrum rerum est autem sunt rem eveniet architecto'}\n",
            ".\n",
            "----------------------------------------------------------------------\n",
            "Ran 1 test in 0.074s\n",
            "\n",
            "OK\n"
          ]
        }
      ],
      "source": [
        "!cd testing_python && python -m unittest tests/test_api.py"
      ]
    },
    {
      "cell_type": "markdown",
      "metadata": {},
      "source": [
        "Vamos a passar os testes de `bank_account` para ver quanto demora"
      ]
    },
    {
      "cell_type": "code",
      "execution_count": 48,
      "metadata": {},
      "outputs": [
        {
          "name": "stdout",
          "output_type": "stream",
          "text": [
            "....ssxs\n",
            "----------------------------------------------------------------------\n",
            "Ran 8 tests in 0.001s\n",
            "\n",
            "OK (skipped=3, expected failures=1)\n"
          ]
        }
      ],
      "source": [
        "!cd testing_python && PYTHONPATH=. python tests/test_suite_bank_account.py"
      ]
    },
    {
      "cell_type": "markdown",
      "metadata": {},
      "source": [
        "Como vemos 8 testes demoraram 0.001 segundos, enquanto 1 único teste da API demorou 0.074 segundos. Isso pode fazer com que um código com muitas chamadas a uma API demore muito para executar os testes. Além disso, corremos o risco de que se a API mudar e não retornar o que esperamos, os testes falharão, mesmo que nosso código esteja correto. Então, para isso, as APIs são mockadas."
      ]
    },
    {
      "cell_type": "markdown",
      "metadata": {},
      "source": [
        "Vamos a ver como fazer isso."
      ]
    },
    {
      "cell_type": "code",
      "execution_count": null,
      "metadata": {},
      "outputs": [],
      "source": [
        "!echo \"import unittest\"                                              > testing_python/tests/test_api.py\n",
        "!echo \"from src.api import get_api\"                                 >> testing_python/tests/test_api.py\n",
        "!echo \"from unittest.mock import patch\"                             >> testing_python/tests/test_api.py\n",
        "!echo \"\"                                                            >> testing_python/tests/test_api.py\n",
        "!echo \"class TestApi(unittest.TestCase):\"                           >> testing_python/tests/test_api.py\n",
        "!echo \"    @patch('src.api.requests.get')\"                          >> testing_python/tests/test_api.py\n",
        "!echo \"    def test_get_api(self, mock_get):\"                       >> testing_python/tests/test_api.py\n",
        "!echo \"        mock_get.return_value.status_code = 200\"             >> testing_python/tests/test_api.py\n",
        "!echo \"        mock_get.return_value.json.return_value = {\"         >> testing_python/tests/test_api.py\n",
        "!echo \"            'userId': 1,\"                                    >> testing_python/tests/test_api.py\n",
        "!echo \"            'id': 1,\"                                        >> testing_python/tests/test_api.py\n",
        "!echo \"            'title': 'title',\"                               >> testing_python/tests/test_api.py\n",
        "!echo \"            'body': 'body'\"                                  >> testing_python/tests/test_api.py\n",
        "!echo \"        }\"                                                   >> testing_python/tests/test_api.py\n",
        "!echo \"        data = get_api()\"                                    >> testing_python/tests/test_api.py\n",
        "!echo \"        self.assertIsNotNone(data)\"                          >> testing_python/tests/test_api.py\n",
        "!echo \"        self.assertIsInstance(data, dict)\"                   >> testing_python/tests/test_api.py\n",
        "!echo \"        self.assertIn('userId', data)\"                       >> testing_python/tests/test_api.py\n",
        "!echo \"        self.assertIn('id', data)\"                           >> testing_python/tests/test_api.py\n",
        "!echo \"        self.assertIn('title', data)\"                        >> testing_python/tests/test_api.py\n",
        "!echo \"        self.assertIn('body', data)\"                         >> testing_python/tests/test_api.py\n",
        "!echo \"        self.assertEqual(data['userId'], 1)\"                 >> testing_python/tests/test_api.py\n",
        "!echo \"        self.assertEqual(data['id'], 1)\"                     >> testing_python/tests/test_api.py\n",
        "!echo \"        \"                                                    >> testing_python/tests/test_api.py\n",
        "!echo \"        mock_get.assert_called_once_with('https://jsonplaceholder.typicode.com/posts/1')\" >> testing_python/tests/test_api.py"
      ]
    },
    {
      "cell_type": "markdown",
      "metadata": {},
      "source": [
        "O que fizemos foi\n",
        "* Importar `patch` de `unittest.mock`.\n",
        "* Nós colocamos um decorador na função `test_get_data` e passamos como parâmetro ao decorador a função que queremos mockar.\n",
        "* Criamos um objeto `mock_get` que vai substituir a função original com o método `return_value`, que é o valor que a função mockeada vai retornar.\n",
        "* Quando `get_api()` for chamada, em vez de executar a função original, será obtido em `data` o valor que foi mockeado em `return_value`\n",
        "* Por último, adicionamos a verificação de que é possível chamar a `URL` da API"
      ]
    },
    {
      "cell_type": "code",
      "execution_count": 57,
      "metadata": {},
      "outputs": [
        {
          "name": "stdout",
          "output_type": "stream",
          "text": [
            "{'userId': 1, 'id': 1, 'title': 'title', 'body': 'body'}\n",
            ".\n",
            "----------------------------------------------------------------------\n",
            "Ran 1 test in 0.001s\n",
            "\n",
            "OK\n"
          ]
        }
      ],
      "source": [
        "!cd testing_python && python -m unittest tests/test_api.py"
      ]
    },
    {
      "cell_type": "markdown",
      "metadata": {},
      "source": [
        "Como vemos, agora leva apenas 0,002 segundos."
      ]
    },
    {
      "cell_type": "markdown",
      "metadata": {},
      "source": [
        "## Modificar o resultado de objetos através do `patch`"
      ]
    },
    {
      "cell_type": "markdown",
      "metadata": {},
      "source": [
        "Suponhamos que queremos modificar o método de sacar dinheiro para que só possa ser feito em um intervalo de horários.\n",
        "\n",
        "Primeiro modificamos a função de retirar dinheiro\n",
        "\n",
        "```python\n",
        "def sacar(self, amount):\n",
        "agora = datetime.now()\n",
        "se now.hour < 7 ou now.hour > 18:\n",
        "print('Fora do horário comercial')\n",
        "retorne None\n",
        "if amount > 0:\n",
        "self.balance -= amount\n",
        "self._log_transaction(f'Saque {amount}, novo saldo {self.balance}')\n",
        "return self.balance\n",
        "```"
      ]
    },
    {
      "cell_type": "code",
      "execution_count": 5,
      "metadata": {},
      "outputs": [],
      "source": [
        "!echo \"from datetime import datetime\"                                                        > testing_python/src/bank_account.py\n",
        "!echo \"\"                                                                                    >> testing_python/src/bank_account.py\n",
        "!echo \"class BankAccount:\"                                                                  >> testing_python/src/bank_account.py\n",
        "!echo \"    def __init__(self, balance=0, log_file=None):\"                                   >> testing_python/src/bank_account.py\n",
        "!echo \"        self.balance = balance\"                                                      >> testing_python/src/bank_account.py\n",
        "!echo \"        self.log_file = log_file\"                                                    >> testing_python/src/bank_account.py\n",
        "!echo \"        self._log_transaction('Account created')\"                                    >> testing_python/src/bank_account.py\n",
        "!echo \"\"                                                                                    >> testing_python/src/bank_account.py\n",
        "!echo \"    def _log_transaction(self, message):\"                                            >> testing_python/src/bank_account.py\n",
        "!echo \"        if self.log_file:\"                                                           >> testing_python/src/bank_account.py\n",
        "!echo \"            with open(self.log_file, 'a') as file:\"                                  >> testing_python/src/bank_account.py\n",
        "!echo \"                file.write(f'{message}\\\\\\\\n')\"                                       >> testing_python/src/bank_account.py\n",
        "!echo \"\"                                                                                    >> testing_python/src/bank_account.py\n",
        "!echo \"    def deposit(self, amount):\"                                                      >> testing_python/src/bank_account.py\n",
        "!echo \"        if amount > 0:\"                                                              >> testing_python/src/bank_account.py\n",
        "!echo \"            self.balance += amount\"                                                  >> testing_python/src/bank_account.py\n",
        "!echo \"            self._log_transaction(f'Deposit {amount}, new balance {self.balance}')\"  >> testing_python/src/bank_account.py\n",
        "!echo \"        return self.balance\"                                                         >> testing_python/src/bank_account.py\n",
        "!echo \"\"                                                                                    >> testing_python/src/bank_account.py\n",
        "!echo \"    def withdraw(self, amount):\"                                                     >> testing_python/src/bank_account.py\n",
        "!echo \"        now = datetime.now()\"                                                        >> testing_python/src/bank_account.py\n",
        "!echo \"        if now.hour < 7 or now.hour > 18:\"                                           >> testing_python/src/bank_account.py\n",
        "!echo \"            print('Out of hours')\"                                                   >> testing_python/src/bank_account.py\n",
        "!echo \"            return None\"                                                             >> testing_python/src/bank_account.py\n",
        "!echo \"        if amount > 0:\"                                                              >> testing_python/src/bank_account.py\n",
        "!echo \"            self.balance -= amount\"                                                  >> testing_python/src/bank_account.py\n",
        "!echo \"            self._log_transaction(f'Withdraw {amount}, new balance {self.balance}')\" >> testing_python/src/bank_account.py\n",
        "!echo \"        return self.balance\"                                                         >> testing_python/src/bank_account.py\n",
        "!echo \"\"                                                                                    >> testing_python/src/bank_account.py\n",
        "!echo \"    def get_balance(self):\"                                                          >> testing_python/src/bank_account.py\n",
        "!echo \"        self._log_transaction(f'Balance check, balance {self.balance}')\"             >> testing_python/src/bank_account.py\n",
        "!echo \"        return self.balance\"                                                         >> testing_python/src/bank_account.py"
      ]
    },
    {
      "cell_type": "markdown",
      "metadata": {},
      "source": [
        "Agora precisamos poder testar o saque de dinheiro em diferentes horários, mas não podemos estar mudando a hora do sistema, nem podemos esperar até que seja uma hora específica para realizar o teste. Para isso, podemos usar `patch` para modificar o resultado de `datetime.now()`\n",
        "\n",
        "```python\n",
        "@patch('src.bank_account.datetime.now')\n",
        "def test_retirada_durante_horas_de_trabalho(self, mock_now):\n",
        "mock_now.return_value.hour = 10\n",
        "new_balance = self.account.withdraw(200)\n",
        "self.assertEqual(new_balance, 800, 'O saldo não está correto')\n",
        "\n",
        "@patch('src.bank_account.datetime.now')\n",
        "def testar_retirada_fora_do_horário_de_trabalho(self, mock_agora):\n",
        "mock_now.return_value.hour = 20\n",
        "new_balance = self.account.withdraw(200)\n",
        "self.assertIsNone(new_balance, 'O saldo não está correto')\n",
        "```"
      ]
    },
    {
      "cell_type": "code",
      "execution_count": 10,
      "metadata": {},
      "outputs": [],
      "source": [
        "!echo \"import unittest\"                                                                      > testing_python/tests/test_bank_account.py\n",
        "!echo \"from unittest.mock import patch\"                                                     >> testing_python/tests/test_bank_account.py\n",
        "!echo \"import os\"                                                                           >> testing_python/tests/test_bank_account.py\n",
        "!echo \"from src.bank_account import BankAccount\"                                            >> testing_python/tests/test_bank_account.py\n",
        "!echo \"\"                                                                                    >> testing_python/tests/test_bank_account.py\n",
        "!echo \"SERVER = True\"                                                                       >> testing_python/tests/test_bank_account.py\n",
        "!echo \"ENVIRONMENT = 'server'\"                                                              >> testing_python/tests/test_bank_account.py\n",
        "!echo \"\"                                                                                    >> testing_python/tests/test_bank_account.py\n",
        "!echo \"class TestBankAccount(unittest.TestCase):\"                                           >> testing_python/tests/test_bank_account.py\n",
        "!echo \"    def setUp(self):\"                                                                >> testing_python/tests/test_bank_account.py\n",
        "!echo \"        self.account = BankAccount(balance=1000, log_file='test_log.txt')\"           >> testing_python/tests/test_bank_account.py\n",
        "!echo \"\"                                                                                    >> testing_python/tests/test_bank_account.py\n",
        "!echo \"    def tearDown(self):\"                                                             >> testing_python/tests/test_bank_account.py\n",
        "!echo \"        if os.path.exists('test_log.txt'):\"                                          >> testing_python/tests/test_bank_account.py\n",
        "!echo \"            os.remove('test_log.txt')\"                                               >> testing_python/tests/test_bank_account.py\n",
        "!echo \"\"                                                                                    >> testing_python/tests/test_bank_account.py\n",
        "!echo \"    def test_deposit(self):\"                                                         >> testing_python/tests/test_bank_account.py\n",
        "!echo \"        new_balace = self.account.deposit(500)\"                                      >> testing_python/tests/test_bank_account.py\n",
        "!echo \"        self.assertEqual(new_balace, 1500)\"                                          >> testing_python/tests/test_bank_account.py\n",
        "!echo \"\"                                                                                    >> testing_python/tests/test_bank_account.py\n",
        "!echo \"    def test_withdraw(self):\"                                                        >> testing_python/tests/test_bank_account.py\n",
        "!echo \"        new_balace = self.account.withdraw(200)\"                                     >> testing_python/tests/test_bank_account.py\n",
        "!echo \"        self.assertEqual(new_balace, 800, 'Balance is not correct')\"                 >> testing_python/tests/test_bank_account.py\n",
        "!echo \"\"                                                                                    >> testing_python/tests/test_bank_account.py\n",
        "!echo \"    @patch('src.bank_account.datetime.now')\"                                         >> testing_python/tests/test_bank_account.py\n",
        "!echo \"    def test_withdraw_during_working_hours(self, mock_now):\"                         >> testing_python/tests/test_bank_account.py\n",
        "!echo \"        mock_now.return_value.hour = 10\"                                             >> testing_python/tests/test_bank_account.py\n",
        "!echo \"        new_balace = self.account.withdraw(200)\"                                     >> testing_python/tests/test_bank_account.py\n",
        "!echo \"        self.assertEqual(new_balace, 800, 'Balance is not correct')\"                 >> testing_python/tests/test_bank_account.py\n",
        "!echo \"\"                                                                                    >> testing_python/tests/test_bank_account.py\n",
        "!echo \"    @patch('src.bank_account.datetime.now')\"                                         >> testing_python/tests/test_bank_account.py\n",
        "!echo \"    def test_withdraw_during_non_working_hours(self, mock_now):\"                     >> testing_python/tests/test_bank_account.py\n",
        "!echo \"        mock_now.return_value.hour = 20\"                                             >> testing_python/tests/test_bank_account.py\n",
        "!echo \"        new_balace = self.account.withdraw(200)\"                                     >> testing_python/tests/test_bank_account.py\n",
        "!echo \"        self.assertIsNone(new_balace, 'Balance is not correct')\"                     >> testing_python/tests/test_bank_account.py\n",
        "!echo \"\"                                                                                    >> testing_python/tests/test_bank_account.py\n",
        "!echo \"    def test_get_balance(self):\"                                                     >> testing_python/tests/test_bank_account.py\n",
        "!echo \"        balance = self.account.get_balance()\"                                        >> testing_python/tests/test_bank_account.py\n",
        "!echo \"        self.assertEqual(balance, 1000)\"                                             >> testing_python/tests/test_bank_account.py\n",
        "!echo \"\"                                                                                    >> testing_python/tests/test_bank_account.py\n",
        "!echo \"    def test_transaction_log(self):\"                                                 >> testing_python/tests/test_bank_account.py\n",
        "!echo \"        self.account.deposit(500)\"                                                   >> testing_python/tests/test_bank_account.py\n",
        "!echo \"        self.account.withdraw(200)\"                                                  >> testing_python/tests/test_bank_account.py\n",
        "!echo \"        self.account.get_balance()\"                                                  >> testing_python/tests/test_bank_account.py\n",
        "!echo \"        self.assertTrue(os.path.exists('test_log.txt'))\"                             >> testing_python/tests/test_bank_account.py\n",
        "!echo \"        with open('test_log.txt', 'r') as file:\"                                     >> testing_python/tests/test_bank_account.py\n",
        "!echo \"            content = file.readlines()\"                                              >> testing_python/tests/test_bank_account.py\n",
        "!echo \"        self.assertEqual(content, [\"                                                 >> testing_python/tests/test_bank_account.py\n",
        "!echo \"            'Account created\\\\\\n', \"                                                 >> testing_python/tests/test_bank_account.py\n",
        "!echo \"            'Deposit 500, new balance 1500\\\\\\n', \"                                   >> testing_python/tests/test_bank_account.py\n",
        "!echo \"            'Withdraw 200, new balance 1300\\\\\\n', \"                                  >> testing_python/tests/test_bank_account.py\n",
        "!echo \"            'Balance check, balance 1300\\\\\\n'\"                                       >> testing_python/tests/test_bank_account.py\n",
        "!echo \"            ])\"                                                                      >> testing_python/tests/test_bank_account.py\n",
        "!echo \"\"                                                                                    >> testing_python/tests/test_bank_account.py\n",
        "!echo \"    @unittest.skip('Not implemented yet')\"                                           >> testing_python/tests/test_bank_account.py\n",
        "!echo \"    def test_has_loan(self):\"                                                        >> testing_python/tests/test_bank_account.py\n",
        "!echo \"        self.assertFalse(self.account.has_loan())\"                                   >> testing_python/tests/test_bank_account.py\n",
        "!echo \"\"                                                                                    >> testing_python/tests/test_bank_account.py\n",
        "!echo \"    @unittest.skipIf(SERVER, 'Only for local testing')\"                              >> testing_python/tests/test_bank_account.py\n",
        "!echo \"    def test_server(self):\"                                                          >> testing_python/tests/test_bank_account.py\n",
        "!echo \"        self.assertTrue(SERVER)\"                                                     >> testing_python/tests/test_bank_account.py\n",
        "!echo \"\"                                                                                    >> testing_python/tests/test_bank_account.py\n",
        "!echo \"    @unittest.expectedFailure\"                                                       >> testing_python/tests/test_bank_account.py\n",
        "!echo \"    def test_fail(self):\"                                                            >> testing_python/tests/test_bank_account.py\n",
        "!echo \"        new_balace = self.account.withdraw(1200)\"                                    >> testing_python/tests/test_bank_account.py\n",
        "!echo \"        self.assertEqual(new_balace, 800, 'Not enough money')\"                       >> testing_python/tests/test_bank_account.py\n",
        "!echo \"\"                                                                                    >> testing_python/tests/test_bank_account.py\n",
        "!echo \"    @unittest.skipUnless(ENVIRONMENT == 'dev', 'Only for dev environment')\"          >> testing_python/tests/test_bank_account.py\n",
        "!echo \"    def test_environment(self):\"                                                     >> testing_python/tests/test_bank_account.py\n",
        "!echo \"        self.assertEqual(ENVIRONMENT, 'dev')\"                                        >> testing_python/tests/test_bank_account.py"
      ]
    },
    {
      "cell_type": "markdown",
      "metadata": {},
      "source": [
        "Passamos os testes"
      ]
    },
    {
      "cell_type": "code",
      "execution_count": 11,
      "metadata": {},
      "outputs": [
        {
          "name": "stdout",
          "output_type": "stream",
          "text": [
            "....ssxs\n",
            "----------------------------------------------------------------------\n",
            "Ran 8 tests in 0.001s\n",
            "\n",
            "OK (skipped=3, expected failures=1)\n"
          ]
        }
      ],
      "source": [
        "!cd testing_python && PYTHONPATH=. python tests/test_suite_bank_account.py"
      ]
    },
    {
      "cell_type": "markdown",
      "metadata": {},
      "source": [
        "## Parametrizar testes com `subTest`"
      ]
    },
    {
      "cell_type": "markdown",
      "metadata": {},
      "source": [
        "Suponhamos que queremos fazer várias testes de sacar dinheiro para diferentes valores, poderíamos escrever um teste para cada valor de dinheiro que queremos testar, mas seria repetir código. Para isso podemos usar `subTest` que nos permite fazer várias testes com um único teste.\n",
        "\n",
        "O que fazemos é criar um dicionário com os diferentes valores que queremos testar e o resultado esperado, e depois com um loop `for` e `subTest` realizamos os testes. Assim ficaria o teste do método `withdraw`\n",
        "\n",
        "```python\n",
        "def test_withdraw(self):\n",
        "```markdown\n",
        "test_cases = {\n",
        "```\n",
        "test_200: {\n",
        "'amount': 200,\n",
        "'esperado': 800\n",
        "},\n",
        "test_400: {\n",
        "'amount': 400,\n",
        "'esperado': 600\n",
        "},\n",
        "test_600: {\n",
        "'amount': 600,\n",
        "'esperado': 400\n",
        "},\n",
        "test_800: {\n",
        "'amount': 800,\n",
        "'esperado': 200\n",
        "},\n",
        "test_1000: {\n",
        "'amount': 1000,\n",
        "'esperado': 0\n",
        "}\n",
        "}\n",
        "\n",
        "para nome_do_teste, caso_de_teste in casos_de_teste.items():\n",
        "com self.subTest(test_name):\n",
        "self.account = BankAccount(balance=1000, log_file='test_log.txt')\n",
        "new_balance = self.account.withdraw(test_case['amount'])\n",
        "self.assertEqual(new_balance, test_case['expected'], 'O saldo não está correto')\n",
        "```"
      ]
    },
    {
      "cell_type": "code",
      "execution_count": 14,
      "metadata": {},
      "outputs": [],
      "source": [
        "!echo \"import unittest\"                                                                      > testing_python/tests/test_bank_account.py\n",
        "!echo \"from unittest.mock import patch\"                                                     >> testing_python/tests/test_bank_account.py\n",
        "!echo \"import os\"                                                                           >> testing_python/tests/test_bank_account.py\n",
        "!echo \"from src.bank_account import BankAccount\"                                            >> testing_python/tests/test_bank_account.py\n",
        "!echo \"\"                                                                                    >> testing_python/tests/test_bank_account.py\n",
        "!echo \"SERVER = True\"                                                                       >> testing_python/tests/test_bank_account.py\n",
        "!echo \"ENVIRONMENT = 'server'\"                                                              >> testing_python/tests/test_bank_account.py\n",
        "!echo \"\"                                                                                    >> testing_python/tests/test_bank_account.py\n",
        "!echo \"class TestBankAccount(unittest.TestCase):\"                                           >> testing_python/tests/test_bank_account.py\n",
        "!echo \"    def setUp(self):\"                                                                >> testing_python/tests/test_bank_account.py\n",
        "!echo \"        self.account = BankAccount(balance=1000, log_file='test_log.txt')\"           >> testing_python/tests/test_bank_account.py\n",
        "!echo \"\"                                                                                    >> testing_python/tests/test_bank_account.py\n",
        "!echo \"    def tearDown(self):\"                                                             >> testing_python/tests/test_bank_account.py\n",
        "!echo \"        if os.path.exists('test_log.txt'):\"                                          >> testing_python/tests/test_bank_account.py\n",
        "!echo \"            os.remove('test_log.txt')\"                                               >> testing_python/tests/test_bank_account.py\n",
        "!echo \"\"                                                                                    >> testing_python/tests/test_bank_account.py\n",
        "!echo \"    def test_deposit(self):\"                                                         >> testing_python/tests/test_bank_account.py\n",
        "!echo \"        new_balace = self.account.deposit(500)\"                                      >> testing_python/tests/test_bank_account.py\n",
        "!echo \"        self.assertEqual(new_balace, 1500)\"                                          >> testing_python/tests/test_bank_account.py\n",
        "!echo \"\"                                                                                    >> testing_python/tests/test_bank_account.py\n",
        "!echo \"    def test_withdraw(self):\"                                                        >> testing_python/tests/test_bank_account.py\n",
        "!echo \"        test_cases = {\"                                                              >> testing_python/tests/test_bank_account.py\n",
        "!echo \"            'test_200': {\"                                                           >> testing_python/tests/test_bank_account.py\n",
        "!echo \"                'amount': 200,\"                                                      >> testing_python/tests/test_bank_account.py\n",
        "!echo \"                'expected': 800\"                                                     >> testing_python/tests/test_bank_account.py\n",
        "!echo \"            },\"                                                                      >> testing_python/tests/test_bank_account.py\n",
        "!echo \"            'test_400': {\"                                                           >> testing_python/tests/test_bank_account.py\n",
        "!echo \"                'amount': 400,\"                                                      >> testing_python/tests/test_bank_account.py\n",
        "!echo \"                'expected': 600\"                                                     >> testing_python/tests/test_bank_account.py\n",
        "!echo \"            },\"                                                                      >> testing_python/tests/test_bank_account.py\n",
        "!echo \"            'test_600': {\"                                                           >> testing_python/tests/test_bank_account.py\n",
        "!echo \"                'amount': 600,\"                                                      >> testing_python/tests/test_bank_account.py\n",
        "!echo \"                'expected': 400\"                                                     >> testing_python/tests/test_bank_account.py\n",
        "!echo \"            },\"                                                                      >> testing_python/tests/test_bank_account.py\n",
        "!echo \"            'test_800': {\"                                                           >> testing_python/tests/test_bank_account.py\n",
        "!echo \"                'amount': 800,\"                                                      >> testing_python/tests/test_bank_account.py\n",
        "!echo \"                'expected': 200\"                                                     >> testing_python/tests/test_bank_account.py\n",
        "!echo \"            },\"                                                                      >> testing_python/tests/test_bank_account.py\n",
        "!echo \"            'test_1000': {\"                                                          >> testing_python/tests/test_bank_account.py\n",
        "!echo \"                'amount': 1000,\"                                                     >> testing_python/tests/test_bank_account.py\n",
        "!echo \"                'expected': 0\"                                                       >> testing_python/tests/test_bank_account.py\n",
        "!echo \"            }\"                                                                       >> testing_python/tests/test_bank_account.py\n",
        "!echo \"        }\"                                                                           >> testing_python/tests/test_bank_account.py\n",
        "!echo \"        for test_case, values in test_cases.items():\"                                >> testing_python/tests/test_bank_account.py\n",
        "!echo \"            with self.subTest(test_case=test_case):\"                                 >> testing_python/tests/test_bank_account.py\n",
        "!echo \"                self.account = BankAccount(balance=1000, log_file='test_log.txt')\"   >> testing_python/tests/test_bank_account.py\n",
        "!echo \"                new_balace = self.account.withdraw(values['amount'])\"                >> testing_python/tests/test_bank_account.py\n",
        "!echo \"                self.assertEqual(new_balace, values['expected'], 'Balance is not correct')\" >> testing_python/tests/test_bank_account.py\n",
        "!echo \"\"                                                                                    >> testing_python/tests/test_bank_account.py\n",
        "!echo \"    @patch('src.bank_account.datetime.now')\"                                         >> testing_python/tests/test_bank_account.py\n",
        "!echo \"    def test_withdraw_during_working_hours(self, mock_now):\"                         >> testing_python/tests/test_bank_account.py\n",
        "!echo \"        mock_now.return_value.hour = 10\"                                             >> testing_python/tests/test_bank_account.py\n",
        "!echo \"        new_balace = self.account.withdraw(200)\"                                     >> testing_python/tests/test_bank_account.py\n",
        "!echo \"        self.assertEqual(new_balace, 800, 'Balance is not correct')\"                 >> testing_python/tests/test_bank_account.py\n",
        "!echo \"\"                                                                                    >> testing_python/tests/test_bank_account.py\n",
        "!echo \"    @patch('src.bank_account.datetime.now')\"                                         >> testing_python/tests/test_bank_account.py\n",
        "!echo \"    def test_withdraw_during_non_working_hours(self, mock_now):\"                     >> testing_python/tests/test_bank_account.py\n",
        "!echo \"        mock_now.return_value.hour = 20\"                                             >> testing_python/tests/test_bank_account.py\n",
        "!echo \"        new_balace = self.account.withdraw(200)\"                                     >> testing_python/tests/test_bank_account.py\n",
        "!echo \"        self.assertIsNone(new_balace, 'Balance is not correct')\"                     >> testing_python/tests/test_bank_account.py\n",
        "!echo \"\"                                                                                    >> testing_python/tests/test_bank_account.py\n",
        "!echo \"    def test_get_balance(self):\"                                                     >> testing_python/tests/test_bank_account.py\n",
        "!echo \"        balance = self.account.get_balance()\"                                        >> testing_python/tests/test_bank_account.py\n",
        "!echo \"        self.assertEqual(balance, 1000)\"                                             >> testing_python/tests/test_bank_account.py\n",
        "!echo \"\"                                                                                    >> testing_python/tests/test_bank_account.py\n",
        "!echo \"    def test_transaction_log(self):\"                                                 >> testing_python/tests/test_bank_account.py\n",
        "!echo \"        self.account.deposit(500)\"                                                   >> testing_python/tests/test_bank_account.py\n",
        "!echo \"        self.account.withdraw(200)\"                                                  >> testing_python/tests/test_bank_account.py\n",
        "!echo \"        self.account.get_balance()\"                                                  >> testing_python/tests/test_bank_account.py\n",
        "!echo \"        self.assertTrue(os.path.exists('test_log.txt'))\"                             >> testing_python/tests/test_bank_account.py\n",
        "!echo \"        with open('test_log.txt', 'r') as file:\"                                     >> testing_python/tests/test_bank_account.py\n",
        "!echo \"            content = file.readlines()\"                                              >> testing_python/tests/test_bank_account.py\n",
        "!echo \"        self.assertEqual(content, [\"                                                 >> testing_python/tests/test_bank_account.py\n",
        "!echo \"            'Account created\\\\\\n', \"                                                 >> testing_python/tests/test_bank_account.py\n",
        "!echo \"            'Deposit 500, new balance 1500\\\\\\n', \"                                   >> testing_python/tests/test_bank_account.py\n",
        "!echo \"            'Withdraw 200, new balance 1300\\\\\\n', \"                                  >> testing_python/tests/test_bank_account.py\n",
        "!echo \"            'Balance check, balance 1300\\\\\\n'\"                                       >> testing_python/tests/test_bank_account.py\n",
        "!echo \"            ])\"                                                                      >> testing_python/tests/test_bank_account.py\n",
        "!echo \"\"                                                                                    >> testing_python/tests/test_bank_account.py\n",
        "!echo \"    @unittest.skip('Not implemented yet')\"                                           >> testing_python/tests/test_bank_account.py\n",
        "!echo \"    def test_has_loan(self):\"                                                        >> testing_python/tests/test_bank_account.py\n",
        "!echo \"        self.assertFalse(self.account.has_loan())\"                                   >> testing_python/tests/test_bank_account.py\n",
        "!echo \"\"                                                                                    >> testing_python/tests/test_bank_account.py\n",
        "!echo \"    @unittest.skipIf(SERVER, 'Only for local testing')\"                              >> testing_python/tests/test_bank_account.py\n",
        "!echo \"    def test_server(self):\"                                                          >> testing_python/tests/test_bank_account.py\n",
        "!echo \"        self.assertTrue(SERVER)\"                                                     >> testing_python/tests/test_bank_account.py\n",
        "!echo \"\"                                                                                    >> testing_python/tests/test_bank_account.py\n",
        "!echo \"    @unittest.expectedFailure\"                                                       >> testing_python/tests/test_bank_account.py\n",
        "!echo \"    def test_fail(self):\"                                                            >> testing_python/tests/test_bank_account.py\n",
        "!echo \"        new_balace = self.account.withdraw(1200)\"                                    >> testing_python/tests/test_bank_account.py\n",
        "!echo \"        self.assertEqual(new_balace, 800, 'Not enough money')\"                       >> testing_python/tests/test_bank_account.py\n",
        "!echo \"\"                                                                                    >> testing_python/tests/test_bank_account.py\n",
        "!echo \"    @unittest.skipUnless(ENVIRONMENT == 'dev', 'Only for dev environment')\"          >> testing_python/tests/test_bank_account.py\n",
        "!echo \"    def test_environment(self):\"                                                     >> testing_python/tests/test_bank_account.py\n",
        "!echo \"        self.assertEqual(ENVIRONMENT, 'dev')\"                                        >> testing_python/tests/test_bank_account.py"
      ]
    },
    {
      "cell_type": "markdown",
      "metadata": {},
      "source": [
        "Passamos os testes"
      ]
    },
    {
      "cell_type": "code",
      "execution_count": 15,
      "metadata": {},
      "outputs": [
        {
          "name": "stdout",
          "output_type": "stream",
          "text": [
            "....ssxs\n",
            "----------------------------------------------------------------------\n",
            "Ran 8 tests in 0.001s\n",
            "\n",
            "OK (skipped=3, expected failures=1)\n"
          ]
        }
      ],
      "source": [
        "!cd testing_python && PYTHONPATH=. python tests/test_suite_bank_account.py"
      ]
    },
    {
      "cell_type": "markdown",
      "metadata": {},
      "source": [
        "## Cobertura de teste"
      ]
    },
    {
      "cell_type": "markdown",
      "metadata": {},
      "source": [
        "Podemos ver a cobertura dos testes que temos, pois mesmo pensando que testamos tudo, pode haver partes do código que não foram testadas. Para isso, vamos usar a biblioteca `coverage`"
      ]
    },
    {
      "cell_type": "code",
      "execution_count": 32,
      "metadata": {},
      "outputs": [
        {
          "name": "stdout",
          "output_type": "stream",
          "text": [
            "....\n",
            "----------------------------------------------------------------------\n",
            "Ran 4 tests in 0.000s\n",
            "\n",
            "OK\n"
          ]
        }
      ],
      "source": [
        "!cd testing_python && coverage run -m unittest tests/test_calculator.py"
      ]
    },
    {
      "cell_type": "markdown",
      "metadata": {},
      "source": [
        "Como podemos ver, apenas passamos os testes de `test_calculator`, mas ainda não sabemos a cobertura."
      ]
    },
    {
      "cell_type": "markdown",
      "metadata": {},
      "source": [
        "### Relatório de cobertura"
      ]
    },
    {
      "cell_type": "markdown",
      "metadata": {},
      "source": [
        "Depois de executar `coverage`, podemos solicitar um relatório da cobertura dos testes com o comando `coverage report`."
      ]
    },
    {
      "cell_type": "code",
      "execution_count": 34,
      "metadata": {},
      "outputs": [
        {
          "name": "stdout",
          "output_type": "stream",
          "text": [
            "Name                       Stmts   Miss  Cover\n",
            "----------------------------------------------\n",
            "src/calculator.py              8      0   100%\n",
            "tests/test_calculator.py      11      0   100%\n",
            "----------------------------------------------\n",
            "TOTAL                         19      0   100% \n"
          ]
        }
      ],
      "source": [
        "!cd testing_python && coverage report"
      ]
    },
    {
      "cell_type": "markdown",
      "metadata": {},
      "source": [
        "O pedi-lo por meio de um arquivo HTML com o comando `coverage html`"
      ]
    },
    {
      "cell_type": "code",
      "execution_count": 35,
      "metadata": {},
      "outputs": [
        {
          "name": "stdout",
          "output_type": "stream",
          "text": [
            "Wrote HTML report to \u001b]8;;file:///home/wallabot/Documentos/web/portafolio/posts/testing_python/htmlcov/index.html\u0007htmlcov/index.html\u001b]8;;\u0007\n"
          ]
        }
      ],
      "source": [
        "!cd testing_python && coverage html"
      ]
    },
    {
      "cell_type": "markdown",
      "metadata": {},
      "source": [
        "Cria-se um arquivo `index.html` na pasta `htmlcov` que podemos abrir no navegador e ver a cobertura dos testes."
      ]
    }
  ],
  "metadata": {
    "kernelspec": {
      "display_name": "base",
      "language": "python",
      "name": "python3"
    },
    "language_info": {
      "codemirror_mode": {
        "name": "ipython",
        "version": 3
      },
      "file_extension": ".py",
      "mimetype": "text/x-python",
      "name": "python",
      "nbconvert_exporter": "python",
      "pygments_lexer": "ipython3",
      "version": "3.10.9"
    },
    "maximofn": {
      "date": "2024-11-03",
      "description_en": "Refactor without fear 🛠️ thanks to unit tests. In this post you will learn how to do unit tests in Python with the unittest library 🐍✅ and measure test coverage 📊 so you can make all the modifications you want without fear of breaking anything 💪",
      "description_es": "Refactoriza sin miedo 🛠️ gracias a los test unitarios. En este post vas a aprender a hacer test unitarios en Python con la librería unittest 🐍✅ y a medir la cobertura de test 📊 para que puedas hacer todas las modificaciones que quieras sin miedo a romper nada 💪",
      "description_pt": "Refatore sem medo 🛠️ graças aos testes unitários. Neste post você aprenderá a fazer testes unitários em Python com a biblioteca unittest 🐍✅ e medir a cobertura de testes 📊 para que você possa fazer todas as modificações que desejar sem medo de quebrar nada 💪",
      "end_url": "unittest",
      "image": "https://pub-fb664c455eca46a2ba762a065ac900f7.r2.dev/unittest.webp",
      "image_hover_path": "https://pub-fb664c455eca46a2ba762a065ac900f7.r2.dev/unittest.webp",
      "keywords_en": "unnittest, python, unit tests, test coverage, unittest library, test suite, test case, test fixture, test runner, test result, test discovery, test loader, test suite, test",
      "keywords_es": "unnittest, python, test unitarios, cobertura de test, librería unittest, suite de test, caso de test, fixture de test, corredor de test, resultado de test, descubrimiento de test, cargador de test, suite de test, test",
      "keywords_pt": "unnittest, python, testes unitários, cobertura de testes, biblioteca de testes unittest, conjunto de testes, caso de teste, fixture de teste, executor de teste, resultado de teste, descoberta de teste, carregador de teste, conjunto de testes, teste",
      "title_en": "unittest",
      "title_es": "unittest",
      "title_pt": "unittest"
    }
  },
  "nbformat": 4,
  "nbformat_minor": 2
}
