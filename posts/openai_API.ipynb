{
 "cells": [
  {
   "cell_type": "markdown",
   "metadata": {},
   "source": [
    "# OpenAI API"
   ]
  },
  {
   "cell_type": "markdown",
   "metadata": {},
   "source": [
    "## Instalar la librería de OpenAI"
   ]
  },
  {
   "cell_type": "markdown",
   "metadata": {},
   "source": [
    "En primer lugar, para poder usar la API de OpenAI, es necesario instalar la librería de OpenAI. Para ello, ejecutamos el siguiente comando"
   ]
  },
  {
   "cell_type": "code",
   "execution_count": null,
   "metadata": {},
   "outputs": [],
   "source": [
    "%pip install --upgrade openai"
   ]
  },
  {
   "cell_type": "markdown",
   "metadata": {},
   "source": [
    "## Importar la librería de OpenAI"
   ]
  },
  {
   "cell_type": "markdown",
   "metadata": {},
   "source": [
    "Una vez está instalada la librería, la importamos para poder usarla en nuestro código."
   ]
  },
  {
   "cell_type": "code",
   "execution_count": 1,
   "metadata": {},
   "outputs": [],
   "source": [
    "import openai"
   ]
  },
  {
   "cell_type": "markdown",
   "metadata": {},
   "source": [
    "## Obtener una API Key"
   ]
  },
  {
   "cell_type": "markdown",
   "metadata": {},
   "source": [
    "Para poder usar la API de OpenAI, es necesario obtener una API Key. Para ello, nos dirigimos a la página de [OpenAI](https://openai.com/), y nos registramos. Una vez registrados, nos dirigimos a la sección de [API Keys](https://platform.openai.com/api-keys), y creamos una nueva API Key.\n",
    "\n",
    "![open ai api key](https://raw.githubusercontent.com/maximofn/alfred/main/gifs/openaix2.gif)"
   ]
  },
  {
   "cell_type": "markdown",
   "metadata": {},
   "source": [
    "Una vez la tenemos le decimoa a la API de openai cúal es nuestra API Key."
   ]
  },
  {
   "cell_type": "code",
   "execution_count": null,
   "metadata": {},
   "outputs": [],
   "source": [
    "api_key = \"Pon aquí tu API key\""
   ]
  },
  {
   "cell_type": "code",
   "execution_count": 5,
   "metadata": {},
   "outputs": [],
   "source": [
    "api_key = \"...\""
   ]
  },
  {
   "cell_type": "markdown",
   "metadata": {},
   "source": [
    "## Creamos nuestro primer chatbot"
   ]
  },
  {
   "cell_type": "markdown",
   "metadata": {},
   "source": [
    "Con la API de OpenAI es muy sencillo crear un simple chatbot, al que le vamos a pasar un prompt, y nos va a devolver una respuesta"
   ]
  },
  {
   "cell_type": "markdown",
   "metadata": {},
   "source": [
    "En primer lugar tenemos que elgir qué modelo vamos a usar, en mi caso voy a usar el modelo `gpt-3.5-turbo-1106` que a día de hoy es un buen modelo para este post, ya que para lo que vamos a hacer no necesitamos usar el mejor modelo. OpenAI tiene una lista con todos sus [modelos](https://platform.openai.com/docs/models) y una página con los [precios](https://openai.com/pricing)"
   ]
  },
  {
   "cell_type": "code",
   "execution_count": 104,
   "metadata": {},
   "outputs": [],
   "source": [
    "model = \"gpt-3.5-turbo-1106\""
   ]
  },
  {
   "cell_type": "markdown",
   "metadata": {},
   "source": [
    "Ahora tenemos que crear un cliente que será el que se comunique con la API de OpenAI."
   ]
  },
  {
   "cell_type": "code",
   "execution_count": 6,
   "metadata": {},
   "outputs": [],
   "source": [
    "client = openai.OpenAI(api_key=api_key, organization=None)"
   ]
  },
  {
   "cell_type": "markdown",
   "metadata": {},
   "source": [
    "Como vemos le hemos pasado nuestra API Key. Además se le puede pasar la organización, pero en nuestro caso no es necesario."
   ]
  },
  {
   "cell_type": "markdown",
   "metadata": {},
   "source": [
    "Creamos el prompt"
   ]
  },
  {
   "cell_type": "code",
   "execution_count": 105,
   "metadata": {},
   "outputs": [],
   "source": [
    "promtp = \"Cuál es el mejor lenguaje de programación para aprender?\""
   ]
  },
  {
   "cell_type": "markdown",
   "metadata": {},
   "source": [
    "Y ya podemos pedirle una respuesta a OpenAI"
   ]
  },
  {
   "cell_type": "code",
   "execution_count": 106,
   "metadata": {},
   "outputs": [],
   "source": [
    "response = client.chat.completions.create(\n",
    "  model=model,\n",
    "  messages=[{\"role\": \"user\", \"content\": f\"{promtp}\"}],\n",
    ")"
   ]
  },
  {
   "cell_type": "markdown",
   "metadata": {},
   "source": [
    "Veamos cómo es la respuesta"
   ]
  },
  {
   "cell_type": "code",
   "execution_count": 107,
   "metadata": {},
   "outputs": [
    {
     "data": {
      "text/plain": [
       "(openai.types.chat.chat_completion.ChatCompletion,\n",
       " ChatCompletion(id='chatcmpl-8OhC6yRcFXQI7yqx0oOSHc6sGaaP4', choices=[Choice(finish_reason='stop', index=0, message=ChatCompletionMessage(content='No hay un \"mejor\" lenguaje de programación para aprender, ya que depende de tus objetivos y de qué tipo de desarrollo te interesa. Algunos lenguajes populares para principiantes incluyen Python, JavaScript, Java, C# y Ruby. Sin embargo, es importante tener en cuenta qué tipo de proyectos quieres realizar en el futuro, ya que cada lenguaje tiene sus propias ventajas y desventajas. Lo mejor es investigar un poco sobre cada lenguaje y decidir cuál se adapta mejor a tus intereses y objetivos.', role='assistant', function_call=None, tool_calls=None))], created=1700896602, model='gpt-3.5-turbo-1106', object='chat.completion', system_fingerprint='fp_eeff13170a', usage=CompletionUsage(completion_tokens=124, prompt_tokens=21, total_tokens=145)))"
      ]
     },
     "execution_count": 107,
     "metadata": {},
     "output_type": "execute_result"
    }
   ],
   "source": [
    "type(response), response"
   ]
  },
  {
   "cell_type": "code",
   "execution_count": 108,
   "metadata": {},
   "outputs": [
    {
     "name": "stdout",
     "output_type": "stream",
     "text": [
      "response.id = chatcmpl-8OhC6yRcFXQI7yqx0oOSHc6sGaaP4\n",
      "response.choices = [Choice(finish_reason='stop', index=0, message=ChatCompletionMessage(content='No hay un \"mejor\" lenguaje de programación para aprender, ya que depende de tus objetivos y de qué tipo de desarrollo te interesa. Algunos lenguajes populares para principiantes incluyen Python, JavaScript, Java, C# y Ruby. Sin embargo, es importante tener en cuenta qué tipo de proyectos quieres realizar en el futuro, ya que cada lenguaje tiene sus propias ventajas y desventajas. Lo mejor es investigar un poco sobre cada lenguaje y decidir cuál se adapta mejor a tus intereses y objetivos.', role='assistant', function_call=None, tool_calls=None))]\n",
      "response.choices[0] = Choice(finish_reason='stop', index=0, message=ChatCompletionMessage(content='No hay un \"mejor\" lenguaje de programación para aprender, ya que depende de tus objetivos y de qué tipo de desarrollo te interesa. Algunos lenguajes populares para principiantes incluyen Python, JavaScript, Java, C# y Ruby. Sin embargo, es importante tener en cuenta qué tipo de proyectos quieres realizar en el futuro, ya que cada lenguaje tiene sus propias ventajas y desventajas. Lo mejor es investigar un poco sobre cada lenguaje y decidir cuál se adapta mejor a tus intereses y objetivos.', role='assistant', function_call=None, tool_calls=None))\n",
      "\tresponse.choices[0].finish_reason = stop\n",
      "\tresponse.choices[0].index = 0\n",
      "\tresponse.choices[0].message = ChatCompletionMessage(content='No hay un \"mejor\" lenguaje de programación para aprender, ya que depende de tus objetivos y de qué tipo de desarrollo te interesa. Algunos lenguajes populares para principiantes incluyen Python, JavaScript, Java, C# y Ruby. Sin embargo, es importante tener en cuenta qué tipo de proyectos quieres realizar en el futuro, ya que cada lenguaje tiene sus propias ventajas y desventajas. Lo mejor es investigar un poco sobre cada lenguaje y decidir cuál se adapta mejor a tus intereses y objetivos.', role='assistant', function_call=None, tool_calls=None)\n",
      "\t\tresponse.choices[0].message.content = \n",
      "\t\tNo hay un \"mejor\" lenguaje de programación para aprender, ya que depende de tus objetivos y de qué tipo de desarrollo te interesa. Algunos lenguajes populares para principiantes incluyen Python, JavaScript, Java, C# y Ruby. Sin embargo, es importante tener en cuenta qué tipo de proyectos quieres realizar en el futuro, ya que cada lenguaje tiene sus propias ventajas y desventajas. Lo mejor es investigar un poco sobre cada lenguaje y decidir cuál se adapta mejor a tus intereses y objetivos.\n",
      "\t\tresponse.choices[0].message.role = assistant\n",
      "\t\tresponse.choices[0].message.function_call = None\n",
      "\t\tresponse.choices[0].message.tool_calls = None\n",
      "response.created = 1700896602\n",
      "response.model = gpt-3.5-turbo-1106\n",
      "response.object = chat.completion\n",
      "response.system_fingerprint = fp_eeff13170a\n",
      "response.usage = CompletionUsage(completion_tokens=124, prompt_tokens=21, total_tokens=145)\n",
      "\tresponse.usage.completion_tokens = 124\n",
      "\tresponse.usage.prompt_tokens = 21\n",
      "\tresponse.usage.total_tokens = 145\n"
     ]
    }
   ],
   "source": [
    "print(f\"response.id = {response.id}\")\n",
    "print(f\"response.choices = {response.choices}\")\n",
    "for i in range(len(response.choices)):\n",
    "    print(f\"response.choices[{i}] = {response.choices[i]}\")\n",
    "    print(f\"\\tresponse.choices[{i}].finish_reason = {response.choices[i].finish_reason}\")\n",
    "    print(f\"\\tresponse.choices[{i}].index = {response.choices[i].index}\")\n",
    "    print(f\"\\tresponse.choices[{i}].message = {response.choices[i].message}\")\n",
    "    content = response.choices[i].message.content.replace('\\n\\n', '\\n\\t\\t')\n",
    "    print(f\"\\t\\tresponse.choices[{i}].message.content = \\n\\t\\t{content}\")\n",
    "    print(f\"\\t\\tresponse.choices[{i}].message.role = {response.choices[i].message.role}\")\n",
    "    print(f\"\\t\\tresponse.choices[{i}].message.function_call = {response.choices[i].message.function_call}\")\n",
    "    print(f\"\\t\\tresponse.choices[{i}].message.tool_calls = {response.choices[i].message.tool_calls}\")\n",
    "print(f\"response.created = {response.created}\")\n",
    "print(f\"response.model = {response.model}\")\n",
    "print(f\"response.object = {response.object}\")\n",
    "print(f\"response.system_fingerprint = {response.system_fingerprint}\")\n",
    "print(f\"response.usage = {response.usage}\")\n",
    "print(f\"\\tresponse.usage.completion_tokens = {response.usage.completion_tokens}\")\n",
    "print(f\"\\tresponse.usage.prompt_tokens = {response.usage.prompt_tokens}\")\n",
    "print(f\"\\tresponse.usage.total_tokens = {response.usage.total_tokens}\")"
   ]
  },
  {
   "cell_type": "markdown",
   "metadata": {},
   "source": [
    "Como podemos ver nos devuelve muchísima información\n",
    "\n",
    "Por ejemplo `response.choices[0].finish_reason = stop` significa que el modelo ha parado de generar texto porque ha llegado al final del prompt. Esto nos viene muy bien para depurar, ya que los posibles valores son `stop` que significa que la API devolvió el mensaje completo, `length` que significa que la salida del modelo fue incompleta debido a que era más larga que `max_tokens` o límite de token del modelo, `function_call` el modelo decidió llamar a una función, `content_filter` que significa que el contenido fue omitido por una limitación de contenido de OpenAI y `null` que significa que la respuesta de la API fue incompleta\n",
    "\n",
    "También nos da información de los tokens para poder llevar un control del dinero gastado"
   ]
  },
  {
   "cell_type": "markdown",
   "metadata": {},
   "source": [
    "### Parámetros"
   ]
  },
  {
   "cell_type": "markdown",
   "metadata": {},
   "source": [
    "A la hora de pedir una respuesta a OpenAI, podemos pasarle una serie de parámetros para que nos devuelva una respuesta más acorde a lo que queremos. Vamos a ver cuáles son los parámetros que podemos pasarle\n",
    "\n",
    " * `messages`: Lista de mensajes que se le han enviado al chatbot\n",
    " * `model`: Modelo que queremos usar\n",
    " * `frequency_penalty`: Penalización de frecuencia. Cuanto mayor sea el valor, menos probable será que el modelo repita la misma respuesta\n",
    " * `max_tokens`: Número máximo de tokens que puede devolver el modelo\n",
    " * `n`: Número de respuestas que queremos que nos devuelva el modelo\n",
    " * `presence_penalty`: Penalización de presencia. Cuanto mayor sea el valor, menos probable será que el modelo repita la misma respuesta\n",
    " * `seed`: Semilla para la generación de texto\n",
    " * `stop`: Lista de tokens que indican que el modelo debe parar de generar texto\n",
    " * `stream`: Si es `True` la API devolverá una respuesta cada vez que el modelo genere un token. Si es `False` la API devolverá una respuesta cuando el modelo haya generado todos los tokens\n",
    " * `temperature`: Cuanto mayor sea el valor, más creativo será el modelo\n",
    " * `top_p`: Cuanto mayor sea el valor, más creativo será el modelo\n",
    " * `user`: ID del usuario que está hablando con el chatbot\n",
    " * `timeout`: Tiempo máximo que queremos esperar a que la API nos devuelva una respuesta"
   ]
  },
  {
   "cell_type": "markdown",
   "metadata": {},
   "source": [
    "Veamos algunos"
   ]
  },
  {
   "cell_type": "markdown",
   "metadata": {},
   "source": [
    "#### Messages"
   ]
  },
  {
   "cell_type": "markdown",
   "metadata": {},
   "source": [
    "Podemos pasarle a la API una lista de mensajes que se le han enviado al chatbot. Esto es útil para pasarle el historial de conversaciones al chatbot, y que así pueda generar una respuesta más acorde a la conversación. Y para condicionar la respuesta del chatbot a lo que se le ha dicho anteriormente.\n",
    "\n",
    "Además podemos pasarle un mensaje de sistema para indicarle cómo se tiene que comportar"
   ]
  },
  {
   "cell_type": "markdown",
   "metadata": {},
   "source": [
    "##### Historial de conversaciones"
   ]
  },
  {
   "cell_type": "markdown",
   "metadata": {},
   "source": [
    "Vamos a ver un ejemplo del hisotrial de conversaciones, primero le preguntamos que cómo está"
   ]
  },
  {
   "cell_type": "code",
   "execution_count": 112,
   "metadata": {},
   "outputs": [
    {
     "name": "stdout",
     "output_type": "stream",
     "text": [
      "Hola MaximoFN, soy un modelo de inteligencia artificial diseñado para conversar y ayudar en lo que necesites. ¿En qué puedo ayudarte hoy?\n"
     ]
    }
   ],
   "source": [
    "promtp = \"Hola, soy MaximoFN, ¿Cómo estás?\"\n",
    "\n",
    "response = client.chat.completions.create(\n",
    "  model=model,\n",
    "  messages=[{\"role\": \"user\", \"content\": f\"{promtp}\"}],\n",
    ")\n",
    "content = response.choices[0].message.content.replace('\\n\\n', '\\n\\t\\t')\n",
    "print(content)"
   ]
  },
  {
   "cell_type": "markdown",
   "metadata": {},
   "source": [
    "Nos ha respondido que no tiene sentimientos y que en qué puede ayudarnos. Así que si ahora le pregunto cómo me llamo no va a saber responderme"
   ]
  },
  {
   "cell_type": "code",
   "execution_count": 113,
   "metadata": {},
   "outputs": [
    {
     "name": "stdout",
     "output_type": "stream",
     "text": [
      "Lo siento, no tengo esa información. Pero puedes decírmelo tú.\n"
     ]
    }
   ],
   "source": [
    "promtp = \"¿Me puedes decir cómo me llamo?\"\n",
    "\n",
    "response = client.chat.completions.create(\n",
    "  model=model,\n",
    "  messages=[{\"role\": \"user\", \"content\": f\"{promtp}\"}],\n",
    ")\n",
    "content = response.choices[0].message.content.replace('\\n\\n', '\\n\\t\\t')\n",
    "print(content)"
   ]
  },
  {
   "cell_type": "markdown",
   "metadata": {},
   "source": [
    "Para solucionar esto, le pasamos el historial de conversaciones"
   ]
  },
  {
   "cell_type": "code",
   "execution_count": 117,
   "metadata": {},
   "outputs": [
    {
     "name": "stdout",
     "output_type": "stream",
     "text": [
      "Tu nombre es MaximoFN.\n"
     ]
    }
   ],
   "source": [
    "promtp = \"¿Me puedes decir cómo me llamo?\"\n",
    "\n",
    "response = client.chat.completions.create(\n",
    "  model=model,\n",
    "  messages=[\n",
    "      {\"role\": \"user\", \"content\": \"Hola, soy MaximoFN, ¿Cómo estás?\"},\n",
    "      {\"role\": \"assistant\", \"content\": \"Hola MaximoFN, soy un modelo de inteligencia artificial diseñado para conversar y ayudar en lo que necesites. ¿En qué puedo ayudarte hoy?\"},\n",
    "      {\"role\": \"user\", \"content\": f\"{promtp}\"},\n",
    "  ],\n",
    ")\n",
    "content = response.choices[0].message.content.replace('\\n\\n', '\\n\\t\\t')\n",
    "print(content)"
   ]
  },
  {
   "cell_type": "markdown",
   "metadata": {},
   "source": [
    "##### Condicionamiento mediante ejemplos"
   ]
  },
  {
   "cell_type": "markdown",
   "metadata": {},
   "source": [
    "Ahora veamos un ejemplo de cómo condicionar la respuesta del chatbot a lo que se le ha dicho anteriormente. Ahora le preguntamos cómo obtener la lista de archivos en un directorio en la terminal"
   ]
  },
  {
   "cell_type": "code",
   "execution_count": 121,
   "metadata": {},
   "outputs": [
    {
     "name": "stdout",
     "output_type": "stream",
     "text": [
      "En la terminal de un sistema operativo Unix o Linux, puedes listar los archivos de un directorio utilizando el comando `ls`. Por ejemplo, si quieres listar los archivos del directorio actual, simplemente escribe `ls` y presiona Enter. Si deseas listar los archivos de un directorio específico, puedes proporcionar la ruta del directorio después del comando `ls`, por ejemplo `ls /ruta/del/directorio`. Si deseas ver más detalles sobre los archivos, puedes usar la opción `-l` para obtener una lista detallada o `-a` para mostrar también los archivos ocultos.\n"
     ]
    }
   ],
   "source": [
    "promtp = \"¿Cómo puedo listar los archivos de un directorio en la terminal?\"\n",
    "\n",
    "response = client.chat.completions.create(\n",
    "  model=model,\n",
    "  messages=[{\"role\": \"user\", \"content\": f\"{promtp}\"}],\n",
    ")\n",
    "content = response.choices[0].message.content.replace('\\n\\n', '\\n\\t\\t')\n",
    "print(content)"
   ]
  },
  {
   "cell_type": "markdown",
   "metadata": {},
   "source": [
    "Si ahora le condicionamos con ejemplos de respuestas cortas, veamos qué nos contesta"
   ]
  },
  {
   "cell_type": "code",
   "execution_count": 124,
   "metadata": {},
   "outputs": [
    {
     "name": "stdout",
     "output_type": "stream",
     "text": [
      "Puede usar el comando `ls` en la terminal para listar los archivos de un directorio. Por ejemplo:\n",
      "```\n",
      "ls\n",
      "```\n",
      "Muestra los archivos y directorios en el directorio actual.\n"
     ]
    }
   ],
   "source": [
    "promtp = \"¿Cómo puedo listar los archivos de un directorio en la terminal?\"\n",
    "\n",
    "response = client.chat.completions.create(\n",
    "  model=model,\n",
    "  messages=[\n",
    "      {\"role\": \"user\", \"content\": \"Obtener las 10 primeras líneas de un archivo\"},\n",
    "      {\"role\": \"assistant\", \"content\": \"head -n 10\"},\n",
    "      {\"role\": \"user\", \"content\": \"Encontrar todos los archivos con extensión .txt\"},\n",
    "      {\"role\": \"assistant\", \"content\": \"find . -name '*.txt\"},\n",
    "      {\"role\": \"user\", \"content\": \"Dividir un archivo en varias páginas\"},\n",
    "      {\"role\": \"assistant\", \"content\": \"split -l 1000\"},\n",
    "      {\"role\": \"user\", \"content\": \"Buscar la dirección IP 12.34.56.78\"},\n",
    "      {\"role\": \"assistant\", \"content\": \"nslookup 12.34.56.78\"},\n",
    "      {\"role\": \"user\", \"content\": \"Obtener las 5 últimas líneas de foo.txt\"},\n",
    "      {\"role\": \"assistant\", \"content\": \"tail -n 5 foo.txt\"},\n",
    "      {\"role\": \"user\", \"content\": \"Convertir ejemplo.png en JPEG\"},\n",
    "      {\"role\": \"assistant\", \"content\": \"convert example.png example.jpg\"},\n",
    "      {\"role\": \"user\", \"content\": \"Create a git branch named 'new-feature\"},\n",
    "      {\"role\": \"assistant\", \"content\": \"git branch new-feature\"},\n",
    "      {\"role\": \"user\", \"content\": f\"{promtp}\"},\n",
    "  ],\n",
    ")\n",
    "content = response.choices[0].message.content.replace('\\n\\n', '\\n\\t\\t')\n",
    "print(content)"
   ]
  },
  {
   "cell_type": "markdown",
   "metadata": {},
   "source": [
    "Hemos conseguido que de una respuesta más corta"
   ]
  },
  {
   "cell_type": "markdown",
   "metadata": {},
   "source": [
    "##### Condicionamiento con mensaje de sistema"
   ]
  },
  {
   "cell_type": "markdown",
   "metadata": {},
   "source": [
    "Le podemos pasar un mensaje de sistema para indicarle cómo se tiene que comportar."
   ]
  },
  {
   "cell_type": "code",
   "execution_count": 126,
   "metadata": {},
   "outputs": [
    {
     "name": "stdout",
     "output_type": "stream",
     "text": [
      "Puedes listar los archivos de un directorio en la terminal usando el comando `ls`. Por ejemplo, para listar los archivos del directorio actual, simplemente escribe `ls` y presiona Enter. Si quieres listar los archivos de un directorio específico, puedes utilizar `ls` seguido de la ruta del directorio. Por ejemplo, `ls /ruta/del/directorio`.\n"
     ]
    }
   ],
   "source": [
    "promtp = \"¿Cómo puedo listar los archivos de un directorio en la terminal?\"\n",
    "\n",
    "response = client.chat.completions.create(\n",
    "  model=model,\n",
    "  messages=[\n",
    "      {\"role\": \"system\", \"content\": \"Eres un experto asistente de terminal de ubuntu que responde solo con comandos de terminal\"},\n",
    "      {\"role\": \"user\", \"content\": f\"{promtp}\"},\n",
    "  ],\n",
    ")\n",
    "content = response.choices[0].message.content.replace('\\n\\n', '\\n\\t\\t')\n",
    "print(content)"
   ]
  },
  {
   "cell_type": "code",
   "execution_count": 128,
   "metadata": {},
   "outputs": [
    {
     "name": "stdout",
     "output_type": "stream",
     "text": [
      "Puedes listar los archivos de un directorio en la terminal utilizando el comando \"ls\". Por ejemplo, para listar los archivos en el directorio actual, puedes ejecutar el comando \"ls\". Si deseas listar los archivos de otro directorio, simplemente especifica el directorio después del comando \"ls\", por ejemplo \"ls /ruta/al/directorio\".\n"
     ]
    }
   ],
   "source": [
    "promtp = \"¿Cómo puedo listar los archivos de un directorio en la terminal?\"\n",
    "\n",
    "response = client.chat.completions.create(\n",
    "  model=model,\n",
    "  messages=[\n",
    "      {\"role\": \"system\", \"content\": \"Eres un experto asistente de terminal de ubuntu que responde solo con comandos de terminal\"},\n",
    "      {\"role\": \"user\", \"content\": \"Obtener las 10 primeras líneas de un archivo\"},\n",
    "      {\"role\": \"assistant\", \"content\": \"head -n 10\"},\n",
    "      {\"role\": \"user\", \"content\": \"Encontrar todos los archivos con extensión .txt\"},\n",
    "      {\"role\": \"assistant\", \"content\": \"find . -name '*.txt\"},\n",
    "      {\"role\": \"user\", \"content\": \"Dividir un archivo en varias páginas\"},\n",
    "      {\"role\": \"assistant\", \"content\": \"split -l 1000\"},\n",
    "      {\"role\": \"user\", \"content\": \"Buscar la dirección IP 12.34.56.78\"},\n",
    "      {\"role\": \"assistant\", \"content\": \"nslookup 12.34.56.78\"},\n",
    "      {\"role\": \"user\", \"content\": \"Obtener las 5 últimas líneas de foo.txt\"},\n",
    "      {\"role\": \"assistant\", \"content\": \"tail -n 5 foo.txt\"},\n",
    "      {\"role\": \"user\", \"content\": \"Convertir ejemplo.png en JPEG\"},\n",
    "      {\"role\": \"assistant\", \"content\": \"convert example.png example.jpg\"},\n",
    "      {\"role\": \"user\", \"content\": \"Create a git branch named 'new-feature\"},\n",
    "      {\"role\": \"assistant\", \"content\": \"git branch new-feature\"},\n",
    "      {\"role\": \"user\", \"content\": f\"{promtp}\"},\n",
    "  ],\n",
    ")\n",
    "content = response.choices[0].message.content.replace('\\n\\n', '\\n\\t\\t')\n",
    "print(content)"
   ]
  },
  {
   "cell_type": "markdown",
   "metadata": {},
   "source": [
    "#### Número máximo de tokens de la respuesta"
   ]
  },
  {
   "cell_type": "markdown",
   "metadata": {},
   "source": [
    "Podemos limitar el número de tokens que puede devolver el modelo. Esto es útil para que el modelo no se pase de la respuesta que queremos."
   ]
  },
  {
   "cell_type": "code",
   "execution_count": 136,
   "metadata": {},
   "outputs": [
    {
     "name": "stdout",
     "output_type": "stream",
     "text": [
      "La respuesta a esta pregunta puede variar dependiendo de los intereses y objetivos individuales, ya que cada lenguaje de programación tiene sus propias ventajas y desventajas. Sin embargo, algunos de los lenguajes más\n",
      "\n",
      "response.choices[0].finish_reason = length\n"
     ]
    }
   ],
   "source": [
    "promtp = \"¿Cuál es el mejor lenguaje de programación para aprender?\"\n",
    "\n",
    "response = client.chat.completions.create(\n",
    "  model = model,\n",
    "  messages = [{\"role\": \"user\", \"content\": f\"{promtp}\"}],\n",
    "  max_tokens = 50,\n",
    ")\n",
    "\n",
    "content = response.choices[0].message.content.replace('\\n\\n', '\\n\\t\\t')\n",
    "print(content)\n",
    "print(f\"\\nresponse.choices[{i}].finish_reason = {response.choices[i].finish_reason}\")"
   ]
  },
  {
   "cell_type": "markdown",
   "metadata": {},
   "source": [
    "Como vemos la respuesta se corta a medias porque superaría el límite de tokens. Además ahora el motivo de parada es `length` en vez de `stop`"
   ]
  },
  {
   "cell_type": "markdown",
   "metadata": {},
   "source": [
    "#### Creatividad del modelo mediante la temperatura"
   ]
  },
  {
   "cell_type": "markdown",
   "metadata": {},
   "source": [
    "Podemos hacer que el modelo sea más creativo mediante la temperatura. Cuanto mayor sea el valor, más creativo será el modelo"
   ]
  },
  {
   "cell_type": "code",
   "execution_count": 152,
   "metadata": {},
   "outputs": [
    {
     "name": "stdout",
     "output_type": "stream",
     "text": [
      "No hay un \"mejor\" lenguaje de programación para aprender, ya que la elección depende de los intereses y objetivos individuales. Algunos lenguajes populares para principiantes incluyen Python, JavaScript, Java y C#. Cada uno tiene sus propias ventajas y desventajas, por lo que es importante investigar y considerar qué tipo de desarrollo de software te interesa antes de elegir un lenguaje para aprender.\n"
     ]
    }
   ],
   "source": [
    "promtp = \"¿Cuál es el mejor lenguaje de programación para aprender?\"\n",
    "temperature = 0\n",
    "\n",
    "response = client.chat.completions.create(\n",
    "  model = model,\n",
    "  messages = [{\"role\": \"user\", \"content\": f\"{promtp}\"}],\n",
    "  temperature = temperature,\n",
    ")\n",
    "\n",
    "content_0 = response.choices[0].message.content.replace('\\n\\n', '\\n\\t\\t')\n",
    "print(content_0)"
   ]
  },
  {
   "cell_type": "code",
   "execution_count": 153,
   "metadata": {},
   "outputs": [
    {
     "name": "stdout",
     "output_type": "stream",
     "text": [
      "No hay un \"mejor\" lenguaje de programación para aprender, ya que la elección depende de los objetivos y preferencias individuales del programador. Sin embargo, algunos lenguajes populares para principiantes incluyen Python, JavaScript, Java y C++. Estos lenguajes son relativamente fáciles de aprender y tienen una amplia gama de aplicaciones en la industria de la tecnología. Es importante considerar qué tipo de proyectos o campos de interés te gustaría explorar al momento de elegir un lenguaje de programación para aprender.\n"
     ]
    }
   ],
   "source": [
    "promtp = \"¿Cuál es el mejor lenguaje de programación para aprender?\"\n",
    "temperature = 1\n",
    "\n",
    "response = client.chat.completions.create(\n",
    "  model = model,\n",
    "  messages = [{\"role\": \"user\", \"content\": f\"{promtp}\"}],\n",
    "  temperature = temperature,\n",
    ")\n",
    "\n",
    "content_1 = response.choices[0].message.content.replace('\\n\\n', '\\n\\t\\t')\n",
    "print(content_1)"
   ]
  },
  {
   "cell_type": "code",
   "execution_count": 154,
   "metadata": {},
   "outputs": [
    {
     "name": "stdout",
     "output_type": "stream",
     "text": [
      "No hay un \"mejor\" lenguaje de programación para aprender, ya que la elección depende de los intereses y objetivos individuales. Algunos lenguajes populares para principiantes incluyen Python, JavaScript, Java y C#. Cada uno tiene sus propias ventajas y desventajas, por lo que es importante investigar y considerar qué tipo de desarrollo de software te interesa antes de elegir un lenguaje para aprender.\n",
      "No hay un \"mejor\" lenguaje de programación para aprender, ya que la elección depende de los objetivos y preferencias individuales del programador. Sin embargo, algunos lenguajes populares para principiantes incluyen Python, JavaScript, Java y C++. Estos lenguajes son relativamente fáciles de aprender y tienen una amplia gama de aplicaciones en la industria de la tecnología. Es importante considerar qué tipo de proyectos o campos de interés te gustaría explorar al momento de elegir un lenguaje de programación para aprender.\n"
     ]
    }
   ],
   "source": [
    "print(content_0)\n",
    "print(content_1)"
   ]
  },
  {
   "cell_type": "markdown",
   "metadata": {},
   "source": [
    "#### Creatividad del modelo mediante el top_p"
   ]
  },
  {
   "cell_type": "markdown",
   "metadata": {},
   "source": [
    "Podemos hacer que el modelo sea más creativo mediante el parámetro `top_p`. Cuanto mayor sea el valor, más creativo será el modelo"
   ]
  },
  {
   "cell_type": "code",
   "execution_count": 155,
   "metadata": {},
   "outputs": [
    {
     "name": "stdout",
     "output_type": "stream",
     "text": [
      "No hay un \"mejor\" lenguaje de programación para aprender, ya que la elección depende de los intereses y objetivos individuales. Algunos lenguajes populares para principiantes incluyen Python, JavaScript, Java y C#. Cada uno tiene sus propias ventajas y desventajas, por lo que es importante investigar y considerar qué tipo de desarrollo de software te interesa antes de elegir un lenguaje para aprender.\n"
     ]
    }
   ],
   "source": [
    "promtp = \"¿Cuál es el mejor lenguaje de programación para aprender?\"\n",
    "top_p = 0\n",
    "\n",
    "response = client.chat.completions.create(\n",
    "  model = model,\n",
    "  messages = [{\"role\": \"user\", \"content\": f\"{promtp}\"}],\n",
    "  top_p = top_p,\n",
    ")\n",
    "\n",
    "content_0 = response.choices[0].message.content.replace('\\n\\n', '\\n\\t\\t')\n",
    "print(content_0)"
   ]
  },
  {
   "cell_type": "code",
   "execution_count": 156,
   "metadata": {},
   "outputs": [
    {
     "name": "stdout",
     "output_type": "stream",
     "text": [
      "El mejor lenguaje de programación para aprender depende de los objetivos del aprendizaje y del tipo de programación que se quiera realizar. Algunos lenguajes de programación populares para principiantes incluyen Python, Java, JavaScript y Ruby. Sin embargo, cada lenguaje tiene sus propias ventajas y desventajas, por lo que es importante considerar qué tipo de proyectos o aplicaciones se quieren desarrollar antes de elegir un lenguaje de programación para aprender. Python es a menudo recomendado por su facilidad de uso y versatilidad, mientras que JavaScript es ideal para la programación web.\n"
     ]
    }
   ],
   "source": [
    "promtp = \"¿Cuál es el mejor lenguaje de programación para aprender?\"\n",
    "top_p = 1\n",
    "\n",
    "response = client.chat.completions.create(\n",
    "  model = model,\n",
    "  messages = [{\"role\": \"user\", \"content\": f\"{promtp}\"}],\n",
    "  top_p = top_p,\n",
    ")\n",
    "\n",
    "content_1 = response.choices[0].message.content.replace('\\n\\n', '\\n\\t\\t')\n",
    "print(content_1)"
   ]
  },
  {
   "cell_type": "code",
   "execution_count": 157,
   "metadata": {},
   "outputs": [
    {
     "name": "stdout",
     "output_type": "stream",
     "text": [
      "No hay un \"mejor\" lenguaje de programación para aprender, ya que la elección depende de los intereses y objetivos individuales. Algunos lenguajes populares para principiantes incluyen Python, JavaScript, Java y C#. Cada uno tiene sus propias ventajas y desventajas, por lo que es importante investigar y considerar qué tipo de desarrollo de software te interesa antes de elegir un lenguaje para aprender.\n",
      "El mejor lenguaje de programación para aprender depende de los objetivos del aprendizaje y del tipo de programación que se quiera realizar. Algunos lenguajes de programación populares para principiantes incluyen Python, Java, JavaScript y Ruby. Sin embargo, cada lenguaje tiene sus propias ventajas y desventajas, por lo que es importante considerar qué tipo de proyectos o aplicaciones se quieren desarrollar antes de elegir un lenguaje de programación para aprender. Python es a menudo recomendado por su facilidad de uso y versatilidad, mientras que JavaScript es ideal para la programación web.\n"
     ]
    }
   ],
   "source": [
    "print(content_0)\n",
    "print(content_1)"
   ]
  },
  {
   "cell_type": "markdown",
   "metadata": {},
   "source": [
    "#### Número de respuestas"
   ]
  },
  {
   "cell_type": "markdown",
   "metadata": {},
   "source": [
    "Podemos pedirle a la API que nos devuelva más de una respuesta. Esto es útil para que el modelo nos devuelva varias respuestas y así poder elegir la que más nos guste, para esto vamos a poner los parámetros `temperature` y `top_p` a 1 para que el modelo sea más creativo"
   ]
  },
  {
   "cell_type": "code",
   "execution_count": 151,
   "metadata": {},
   "outputs": [
    {
     "name": "stdout",
     "output_type": "stream",
     "text": [
      "El mejor lenguaje de programación para aprender depende de tus objetivos y del tipo de aplicaciones que te interese desarrollar. Algunos de los lenguajes más populares para aprender son:\n",
      "\t\t1. Python: Es un lenguaje de programación versátil, fácil de aprender y con una amplia comunidad de desarrolladores. Es ideal para principiantes y se utiliza en una gran variedad de aplicaciones, desde desarrollo web hasta inteligencia artificial.\n",
      "\t\t2. JavaScript: Es el lenguaje de programación más utilizado en el desarrollo web. Es imprescindible para aquellos que quieren trabajar en el ámbito del desarrollo frontend y backend.\n",
      "\t\t3. Java: Es un lenguaje de programación muy popular en el ámbito empresarial, por lo que aprender Java puede abrirte muchas puertas laborales. Además, es un lenguaje estructurado que te enseñará conceptos importantes de la programación orientada a objetos.\n",
      "\t\t4. C#: Es un lenguaje de programación desarrollado por Microsoft que se utiliza especialmente en el desarrollo de aplicaciones para Windows. Es ideal para aquellos que quieran enfocarse en el desarrollo de aplicaciones de escritorio.\n",
      "\t\tEn resumen, el mejor lenguaje de programación para aprender depende de tus intereses y objetivos personales. Es importante investigar y considerar qué tipos de aplicaciones te gustaría desarrollar para elegir el lenguaje que más se adapte a tus necesidades.\n",
      "El mejor lenguaje de programación para aprender depende de los objetivos y necesidades individuales. Algunos de los lenguajes de programación más populares y ampliamente utilizados incluyen Python, JavaScript, Java, C++, Ruby y muchos otros. Python es a menudo recomendado para principiantes debido a su sintaxis simple y legible, mientras que JavaScript es esencial para el desarrollo web. Java es ampliamente utilizado en el desarrollo de aplicaciones empresariales y Android, y C++ es comúnmente utilizado en sistemas embebidos y juegos. En última instancia, el mejor lenguaje de programación para aprender dependerá de lo que quiera lograr con su habilidades de programación.\n",
      "El mejor lenguaje de programación para aprender depende de los intereses y objetivos individuales de cada persona. Algunos de los lenguajes más populares y bien documentados para principiantes incluyen Python, JavaScript, Java y C#. Python es conocido por su simplicidad y versatilidad, mientras que JavaScript es esencial para el desarrollo web. Java y C# son lenguajes ampliamente utilizados en la industria y proporcionan una base sólida para aprender otros lenguajes. En última instancia, la elección del lenguaje dependerá de las metas personales y la aplicación deseada.\n",
      "El mejor lenguaje de programación para aprender depende de los intereses y objetivos de cada persona. Algunos lenguajes populares para principiantes incluyen Python, Java, JavaScript, C++ y Ruby. Python es frecuentemente recomendado para aprender a programar debido a su sintaxis sencilla y legible, mientras que Java es utilizado en aplicaciones empresariales y Android. JavaScript es fundamental para el desarrollo web, y C++ es comúnmente utilizado en aplicaciones de alto rendimiento. Ruby es conocido por su facilidad de uso y flexibilidad. En última instancia, la elección del lenguaje dependerá de qué tipo de desarrollo te interesa y qué tipo de proyectos deseas realizar.\n"
     ]
    }
   ],
   "source": [
    "promtp = \"¿Cuál es el mejor lenguaje de programación para aprender?\"\n",
    "temperature = 1\n",
    "top_p = 1\n",
    "\n",
    "response = client.chat.completions.create(\n",
    "  model = model,\n",
    "  messages = [{\"role\": \"user\", \"content\": f\"{promtp}\"}],\n",
    "  temperature = temperature,\n",
    "  top_p = top_p,\n",
    "  n = 4\n",
    ")\n",
    "\n",
    "content_0 = response.choices[0].message.content.replace('\\n\\n', '\\n\\t\\t')\n",
    "content_1 = response.choices[1].message.content.replace('\\n\\n', '\\n\\t\\t')\n",
    "content_2 = response.choices[2].message.content.replace('\\n\\n', '\\n\\t\\t')\n",
    "content_3 = response.choices[3].message.content.replace('\\n\\n', '\\n\\t\\t')\n",
    "print(content_0)\n",
    "print(content_1)\n",
    "print(content_2)\n",
    "print(content_3)"
   ]
  },
  {
   "cell_type": "markdown",
   "metadata": {},
   "source": [
    "## Reentrenar modelo de OpenAI"
   ]
  },
  {
   "cell_type": "markdown",
   "metadata": {},
   "source": [
    "OpenAI ofrece la posibilidad de reentrenar sus modelos de la API para obtener mejores resultados sobre nuestros propios datos. Esto tiene las siguientes ventajas\n",
    "\n",
    " + Se obtienen resultados de mayor calidad para nuestros datos\n",
    " + En un prompt podemos darle ejemplos para que se comporte como queramos, pero solo unos pocos. De esta manera, reentrenándolo podemos darle muchos más.\n",
    " + Ahorro de tokens debido a indicaciones más cortas. Como ya le hemos entrenado para nuestro caso de uso, podemos darle menos indicaciones para que resuelva nuestras tareas\n",
    " + Solicitudes de menor latencia. Al llamar a modelos propios tendremos menos latencia"
   ]
  },
  {
   "cell_type": "markdown",
   "metadata": {},
   "source": [
    "### Preparación de los datos"
   ]
  },
  {
   "cell_type": "markdown",
   "metadata": {},
   "source": [
    "La API de OpenAI nos pide que le demos los datos en el siguiente formato\n",
    "\n",
    "``` python\n",
    "{\"messages\": [{\"role\": \"system\", \"content\": \"Marv is a factual chatbot that is also sarcastic.\"}, {\"role\": \"user\", \"content\": \"What's the capital of France?\"}, {\"role\": \"assistant\", \"content\": \"Paris, as if everyone doesn't know that already.\"}]}\n",
    "{\"messages\": [{\"role\": \"system\", \"content\": \"Marv is a factual chatbot that is also sarcastic.\"}, {\"role\": \"user\", \"content\": \"Who wrote 'Romeo and Juliet'?\"}, {\"role\": \"assistant\", \"content\": \"Oh, just some guy named William Shakespeare. Ever heard of him?\"}]}\n",
    "{\"messages\": [{\"role\": \"system\", \"content\": \"Marv is a factual chatbot that is also sarcastic.\"}, {\"role\": \"user\", \"content\": \"How far is the Moon from Earth?\"}, {\"role\": \"assistant\", \"content\": \"Around 384,400 kilometers. Give or take a few, like that really matters.\"}]}\n",
    "```\n",
    "\n",
    "Con un máximo de 4096 tokens"
   ]
  },
  {
   "cell_type": "markdown",
   "metadata": {},
   "source": [
    "#### Validación de los datos"
   ]
  },
  {
   "cell_type": "markdown",
   "metadata": {},
   "source": [
    "Podemos recolectar nuestros datos en formatos más cómodos, como por ejemplo `CSV`s y mediante un script que nos dan en OpenAI convertirlos a su formato. Por lo que yo he preparado un `CSV` para cada uno de los post de mi blog con el siguiente formato\n",
    "\n",
    "``` csv\n",
    "prompt,completion\n",
    "¿Qué cubre la Introducción a Python en el material proporcionado?,\"La Introducción a Python cubre temas como tipos de datos, operadores, uso de funciones y clases, manejo de objetos iterables y uso de módulos. [Más información](https://maximofn.com/python/)\"\n",
    "¿Cuáles son los tipos de datos básicos en Python?,\"Python tiene 7 tipos de datos básicos: texto (`str`), numéricos (`int`, `float`, `complex`), secuencias (`list`, `tuple`, `range`), mapping (`dict`), sets (`set`, `frozenset`), booleanos (`bool`) y binarios (`bytes`, `bytearray`, `memoryview`). [Más información](https://maximofn.com/python/)\"\n",
    "¿Qué son y cómo se utilizan los operadores en Python?,\"Los operadores en Python son símbolos especiales que se utilizan para realizar operaciones como suma, resta, multiplicación y división entre variables y valores. También incluyen operadores lógicos para comparaciones. [Más información](https://maximofn.com/python/)\"\n",
    "¿Cómo se define y se utiliza una función en Python?,\"En Python, una función se define usando la palabra clave `def`, seguida del nombre de la función y paréntesis. Las funciones pueden tener parámetros y devolver valores. Se utilizan para encapsular lógica que se puede reutilizar a lo largo del código. [Más información](https://maximofn.com/python/)\"\n",
    "¿Qué son las clases en Python y cómo se utilizan?,\"Las clases en Python son la base de la programación orientada a objetos. Permiten crear objetos que encapsulan datos y funcionalidades. Las clases se definen usando la palabra clave `class`, seguida del nombre de la clase. [Más información](https://maximofn.com/python/)\"\n",
    "...\n",
    "```\n",
    "\n",
    "Cada `CSV` tiene 10 `FAQ`s"
   ]
  },
  {
   "cell_type": "markdown",
   "metadata": {},
   "source": [
    "Voy a hacer un código que coja cada `CSV` y genere dos nuevos, uno de entrenamiento y otro de validación"
   ]
  },
  {
   "cell_type": "code",
   "execution_count": null,
   "metadata": {},
   "outputs": [
    {
     "ename": "",
     "evalue": "",
     "output_type": "error",
     "traceback": [
      "\u001b[1;31mRunning cells with 'openai' requires the ipykernel package.\n",
      "\u001b[1;31mRun the following command to install 'ipykernel' into the Python environment. \n",
      "\u001b[1;31mCommand: 'conda install -n openai ipykernel --update-deps --force-reinstall'"
     ]
    }
   ],
   "source": [
    "import os\n",
    "\n",
    "CSVs_path = \"openai\"\n",
    "\n",
    "for file in os.listdir(CSVs_path):\n",
    "    if file.endswith(\".csv\"):\n",
    "        print(os.path.join(CSVs_path, file))"
   ]
  }
 ],
 "metadata": {
  "kernelspec": {
   "display_name": "openai",
   "language": "python",
   "name": "python3"
  },
  "language_info": {
   "codemirror_mode": {
    "name": "ipython",
    "version": 3
   },
   "file_extension": ".py",
   "mimetype": "text/x-python",
   "name": "python",
   "nbconvert_exporter": "python",
   "pygments_lexer": "ipython3",
   "version": "3.11.5"
  }
 },
 "nbformat": 4,
 "nbformat_minor": 2
}
