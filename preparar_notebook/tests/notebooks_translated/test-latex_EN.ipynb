{
  "cells": [
    {
      "cell_type": "markdown",
      "metadata": {},
      "source": [
        "$$\n",
        "d(p,q) = \\sqrt{(p_1 - q_1)^2 + (p_2 - q_2)^2 + \\cdots + (p_n - q_n)^2} = \\sqrt{\\sum_{i=1}^n (p_i - q_i)^2}\n",
        "$$"
      ]
    },
    {
      "cell_type": "markdown",
      "metadata": {},
      "source": [
        "$$\n",
        "similitud(p,q) = d(p,q)^2 = \\sum_{i=1}^n (p_i - q_i)^2\n",
        "$$"
      ]
    },
    {
      "cell_type": "markdown",
      "metadata": {},
      "source": [
        "$$\n",
        "similitud(U,V) = \\frac{U \\cdot V}{\\|U\\| \\|V\\|}\n",
        "$$"
      ]
    },
    {
      "cell_type": "markdown",
      "metadata": {},
      "source": [
        "$$\n",
        "similitud(U,V) = U \\cdot V\n",
        "$$"
      ]
    }
  ],
  "metadata": {
    "language_info": {
      "name": "python"
    },
    "maximofn": {
      "date": "2023-12-18",
      "description_en": "Discover how similarity is measured between embeddings, the basis of the attention mechanism of transformers and RAG algorithms",
      "description_es": "Descubre cómo se mide la similitud entre embeddings, la base del mecanismo de atención de los transformers y de los algoritmos de RAG",
      "description_pt": "Descubra como é medida a similaridade entre embeddings, a base do mecanismo de atenção dos transformers e dos algoritmos de RAG",
      "end_url": "embeddings-similarity",
      "image": "https://pub-fb664c455eca46a2ba762a065ac900f7.r2.dev/embeddings-similarity.webp",
      "image_hover_path": "https://pub-fb664c455eca46a2ba762a065ac900f7.r2.dev/embeddings-similarity.webp",
      "keywords_en": "embeddings, similarity, cosine similarity, L2 similarity, dot product similarity",
      "keywords_es": "embeddings, similitud, similitud por coseno, similitud L2, similitud por producto escalar",
      "keywords_pt": "embeddings, similaridade, similaridade por cosseno, similaridade L2, similaridade por produto escalar",
      "title_en": "Medida de similitud entre embeddings",
      "title_es": "Embeddings similarity measure",
      "title_pt": "Medida de similaridade entre embeddings"
    }
  },
  "nbformat": 4,
  "nbformat_minor": 2
}
