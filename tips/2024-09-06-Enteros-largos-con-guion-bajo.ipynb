{
  "cells": [
    {
      "cell_type": "markdown",
      "metadata": {},
      "source": [
        "# Entereros largos con guión bajo"
      ]
    },
    {
      "cell_type": "markdown",
      "metadata": {},
      "source": [
        "Si tenemos un número entero muy largo, puede costar leerlo"
      ]
    },
    {
      "cell_type": "code",
      "execution_count": 1,
      "metadata": {},
      "outputs": [
        {
          "name": "stdout",
          "output_type": "stream",
          "text": [
            "1000000000000\n"
          ]
        }
      ],
      "source": [
        "num = 1000000000000\n",
        "print(num)"
      ]
    },
    {
      "cell_type": "markdown",
      "metadata": {},
      "source": [
        "Pero Python nos permite poner guiones bajos para separar los dígitos y hacerlo más legible"
      ]
    },
    {
      "cell_type": "code",
      "execution_count": 3,
      "metadata": {},
      "outputs": [
        {
          "name": "stdout",
          "output_type": "stream",
          "text": [
            "1000000000000\n"
          ]
        }
      ],
      "source": [
        "num_ = 1_000_000_000_000\n",
        "print(num_)"
      ]
    },
    {
      "cell_type": "markdown",
      "metadata": {},
      "source": [
        "Vamos a comprobar que ambos números son iguales"
      ]
    },
    {
      "cell_type": "code",
      "execution_count": 4,
      "metadata": {},
      "outputs": [
        {
          "data": {
            "text/plain": [
              "True"
            ]
          },
          "execution_count": 4,
          "metadata": {},
          "output_type": "execute_result"
        }
      ],
      "source": [
        "num == num_"
      ]
    }
  ],
  "metadata": {
    "kernelspec": {
      "display_name": "nlp",
      "language": "python",
      "name": "python3"
    },
    "language_info": {
      "codemirror_mode": {
        "name": "ipython",
        "version": 3
      },
      "file_extension": ".py",
      "mimetype": "text/x-python",
      "name": "python",
      "nbconvert_exporter": "python",
      "pygments_lexer": "ipython3",
      "version": "3.11.7"
    },
    "maximofn": {
      "date": "2024-09-06",
      "description_en": "Tip to write long integers with underscore in Python",
      "description_es": "Tip para escribir números enteros largos con guión bajo en Python",
      "description_pt": "Dica para escrever inteiros longos com sublinhado em Python",
      "end_url": "tips/long-integers-python",
      "image": "https://pub-fb664c455eca46a2ba762a065ac900f7.r2.dev/long_integer_python.webp",
      "image_hover_path": "https://pub-fb664c455eca46a2ba762a065ac900f7.r2.dev/long_integer_python.webp",
      "keywords_en": "long integers, underscore, python",
      "keywords_es": "números enteros largos, guión bajo, python",
      "keywords_pt": "inteiros longos, sublinhado, python",
      "title_en": "Long integers with underscore in Python",
      "title_es": "Enteros largos con guión bajo en Python",
      "title_pt": "Inteiros longos com sublinhado em Python"
    }
  },
  "nbformat": 4,
  "nbformat_minor": 2
}
