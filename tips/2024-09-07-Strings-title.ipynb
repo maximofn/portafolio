{
  "cells": [
    {
      "cell_type": "markdown",
      "metadata": {},
      "source": [
        "# String title"
      ]
    },
    {
      "cell_type": "markdown",
      "metadata": {},
      "source": [
        "Supongamos que tenemos el siguiente string"
      ]
    },
    {
      "cell_type": "code",
      "execution_count": 2,
      "metadata": {},
      "outputs": [
        {
          "name": "stdout",
          "output_type": "stream",
          "text": [
            "This is a string\n"
          ]
        }
      ],
      "source": [
        "string = \"This is a string\"\n",
        "print(string)"
      ]
    },
    {
      "cell_type": "markdown",
      "metadata": {},
      "source": [
        "Python tiene un m\u00e9todo para poder ver la primera letra de cada palabra en may\u00fasculas, el m\u00e9todo se llama `title()`"
      ]
    },
    {
      "cell_type": "code",
      "execution_count": 3,
      "metadata": {},
      "outputs": [
        {
          "name": "stdout",
          "output_type": "stream",
          "text": [
            "This Is A String\n"
          ]
        }
      ],
      "source": [
        "print(string.title())"
      ]
    }
  ],
  "metadata": {
    "kernelspec": {
      "display_name": "nlp",
      "language": "python",
      "name": "python3"
    },
    "maximofn": {
      "date": "2024-09-07",
      "description_es": "Tip para printear strings con la primera letra de cada palabra en may\u00fasculas en Python",
      "description_en": "Tip to print strings with the first letter of each word in uppercase in Python",
      "description_pt": "Dica para imprimir strings com a primeira letra de cada palavra em mai\u00fascula em Python",
      "end_url": "tips/string-title",
      "image": "https://images.maximofn.com/python-string-title.webp",
      "keywords_en": "python, string, title, uppercase",
      "keywords_es": "python, string, t\u00edtulo, may\u00fasculas",
      "keywords_pt": "python, string, t\u00edtulo, mai\u00fasculas",
      "title_en": "Primera letra de cada palabra en may\u00fasculas en Python",
      "title_es": "First letter of each word in uppercase in Python",
      "title_pt": "Primeira letra de cada palavra em mai\u00fasculas em Python"
    },
    "language_info": {
      "codemirror_mode": {
        "name": "ipython",
        "version": 3
      },
      "file_extension": ".py",
      "mimetype": "text/x-python",
      "name": "python",
      "nbconvert_exporter": "python",
      "pygments_lexer": "ipython3",
      "version": "3.11.7"
    }
  },
  "nbformat": 4,
  "nbformat_minor": 2
}