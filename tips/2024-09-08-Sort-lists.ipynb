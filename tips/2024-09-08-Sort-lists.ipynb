{
  "cells": [
    {
      "cell_type": "markdown",
      "metadata": {},
      "source": [
        "# Sort lists"
      ]
    },
    {
      "cell_type": "markdown",
      "metadata": {},
      "source": [
        "Supongamos que tenemos una lista desordenada"
      ]
    },
    {
      "cell_type": "code",
      "execution_count": 7,
      "metadata": {},
      "outputs": [
        {
          "name": "stdout",
          "output_type": "stream",
          "text": [
            "[1, 4, 7, 2, 5, 8, 3, 6, 9]\n"
          ]
        }
      ],
      "source": [
        "list = [1, 4, 7, 2, 5, 8, 3, 6, 9]\n",
        "print(list)"
      ]
    },
    {
      "cell_type": "markdown",
      "metadata": {},
      "source": [
        "Y que la queremos ordenar, as\u00ed que usamos el m\u00e9todo `sort()`"
      ]
    },
    {
      "cell_type": "code",
      "execution_count": 8,
      "metadata": {},
      "outputs": [
        {
          "name": "stdout",
          "output_type": "stream",
          "text": [
            "[1, 2, 3, 4, 5, 6, 7, 8, 9]\n"
          ]
        }
      ],
      "source": [
        "list.sort()\n",
        "print(list)"
      ]
    },
    {
      "cell_type": "markdown",
      "metadata": {},
      "source": [
        "El problema del m\u00e9todo `sort()` es que modifica la lista original, si volvemos a imprimir la lista vemos que la tenemos ordenada, y no tenemos la original"
      ]
    },
    {
      "cell_type": "code",
      "execution_count": 9,
      "metadata": {},
      "outputs": [
        {
          "name": "stdout",
          "output_type": "stream",
          "text": [
            "[1, 2, 3, 4, 5, 6, 7, 8, 9]\n"
          ]
        }
      ],
      "source": [
        "print(list)"
      ]
    },
    {
      "cell_type": "markdown",
      "metadata": {},
      "source": [
        "Volvemos a crear la lista original"
      ]
    },
    {
      "cell_type": "code",
      "execution_count": 10,
      "metadata": {},
      "outputs": [
        {
          "name": "stdout",
          "output_type": "stream",
          "text": [
            "[1, 4, 7, 2, 5, 8, 3, 6, 9]\n"
          ]
        }
      ],
      "source": [
        "list = [1, 4, 7, 2, 5, 8, 3, 6, 9]\n",
        "print(list)"
      ]
    },
    {
      "cell_type": "markdown",
      "metadata": {},
      "source": [
        "Para ordenar una lista sin modificarla podemos usar la funci\u00f3n `sorted()`"
      ]
    },
    {
      "cell_type": "code",
      "execution_count": 11,
      "metadata": {},
      "outputs": [
        {
          "name": "stdout",
          "output_type": "stream",
          "text": [
            "[1, 2, 3, 4, 5, 6, 7, 8, 9]\n"
          ]
        }
      ],
      "source": [
        "print(sorted(list))"
      ]
    },
    {
      "cell_type": "markdown",
      "metadata": {},
      "source": [
        "Si ahora volvemos a imprimir la lista original, vemos que no ha cambiado"
      ]
    },
    {
      "cell_type": "code",
      "execution_count": 12,
      "metadata": {},
      "outputs": [
        {
          "name": "stdout",
          "output_type": "stream",
          "text": [
            "[1, 4, 7, 2, 5, 8, 3, 6, 9]\n"
          ]
        }
      ],
      "source": [
        "print(list)"
      ]
    },
    {
      "cell_type": "markdown",
      "metadata": {},
      "source": [
        "Lo mismo ocurre si la queremos ordenar en orden inverso, podemos usar el m\u00e9todo `.reverse()`"
      ]
    },
    {
      "cell_type": "code",
      "execution_count": 14,
      "metadata": {},
      "outputs": [
        {
          "name": "stdout",
          "output_type": "stream",
          "text": [
            "[9, 6, 3, 8, 5, 2, 7, 4, 1]\n"
          ]
        }
      ],
      "source": [
        "list.reverse()\n",
        "print(list)"
      ]
    },
    {
      "cell_type": "markdown",
      "metadata": {},
      "source": [
        "Si imprimimos la lista vemos que est\u00e1 ordenada en orden inverso y no como la ten\u00edamos al principio."
      ]
    },
    {
      "cell_type": "code",
      "execution_count": 15,
      "metadata": {},
      "outputs": [
        {
          "name": "stdout",
          "output_type": "stream",
          "text": [
            "[9, 6, 3, 8, 5, 2, 7, 4, 1]\n"
          ]
        }
      ],
      "source": [
        "print(list)"
      ]
    },
    {
      "cell_type": "markdown",
      "metadata": {},
      "source": [
        "Volvemos a crear la lista original"
      ]
    },
    {
      "cell_type": "code",
      "execution_count": 16,
      "metadata": {},
      "outputs": [
        {
          "name": "stdout",
          "output_type": "stream",
          "text": [
            "[1, 4, 7, 2, 5, 8, 3, 6, 9]\n"
          ]
        }
      ],
      "source": [
        "list = [1, 4, 7, 2, 5, 8, 3, 6, 9]\n",
        "print(list)"
      ]
    },
    {
      "cell_type": "markdown",
      "metadata": {},
      "source": [
        "Si queremos ordenar una lista sin modificarla, volvemos a usar la funci\u00f3n `sorted()`, pero con el argumento `reverse=True`"
      ]
    },
    {
      "cell_type": "code",
      "execution_count": 13,
      "metadata": {},
      "outputs": [
        {
          "name": "stdout",
          "output_type": "stream",
          "text": [
            "[9, 8, 7, 6, 5, 4, 3, 2, 1]\n"
          ]
        }
      ],
      "source": [
        "print(sorted(list, reverse=True))"
      ]
    },
    {
      "cell_type": "markdown",
      "metadata": {},
      "source": [
        "Si ahora imprimimos la lista original, vemos que no ha cambiado."
      ]
    },
    {
      "cell_type": "code",
      "execution_count": 17,
      "metadata": {},
      "outputs": [
        {
          "name": "stdout",
          "output_type": "stream",
          "text": [
            "[1, 4, 7, 2, 5, 8, 3, 6, 9]\n"
          ]
        }
      ],
      "source": [
        "print(list)"
      ]
    }
  ],
  "metadata": {
    "kernelspec": {
      "display_name": "nlp",
      "language": "python",
      "name": "python3"
    },
    "maximofn": {
      "date": "2024-09-08",
      "description_es": "Tip para ordenar listas en Python sin modificar la original",
      "description_en": "Tip to sort lists in Python without modifying the original",
      "description_pt": "Dica para ordenar listas em Python sem modificar a original",
      "end_url": "tips/sort-lists",
      "image": "https://images.maximofn.com/python_short_list.webp",
      "keywords_en": "python, list, sort, sorted",
      "keywords_es": "python, lista, sort, sorted",
      "keywords_pt": "python, lista, sort, sorted",
      "title_en": "Ordenar listas en Python sin modificar la original",
      "title_es": "Sort lists in Python without modifying the original",
      "title_pt": "Ordenar listas em Python sem modificar a original"
    },
    "language_info": {
      "codemirror_mode": {
        "name": "ipython",
        "version": 3
      },
      "file_extension": ".py",
      "mimetype": "text/x-python",
      "name": "python",
      "nbconvert_exporter": "python",
      "pygments_lexer": "ipython3",
      "version": "3.11.7"
    }
  },
  "nbformat": 4,
  "nbformat_minor": 2
}