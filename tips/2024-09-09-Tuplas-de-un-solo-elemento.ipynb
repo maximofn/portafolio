{
  "cells": [
    {
      "cell_type": "markdown",
      "metadata": {},
      "source": [
        "# Tuplas de un solo elemento"
      ]
    },
    {
      "cell_type": "markdown",
      "metadata": {},
      "source": [
        "Si en Python queremos crear una lista de un solo elemento simplemente escribimos el elemento entre corchetes, por ejemplo:"
      ]
    },
    {
      "cell_type": "code",
      "execution_count": 1,
      "metadata": {},
      "outputs": [
        {
          "data": {
            "text/plain": [
              "list"
            ]
          },
          "execution_count": 1,
          "metadata": {},
          "output_type": "execute_result"
        }
      ],
      "source": [
        "list = [1]\n",
        "type(list)"
      ]
    },
    {
      "cell_type": "markdown",
      "metadata": {},
      "source": [
        "Sin embargo, con las tuplas no podemos escribir un elemento entre par\u00e9ntesis"
      ]
    },
    {
      "cell_type": "code",
      "execution_count": 2,
      "metadata": {},
      "outputs": [
        {
          "data": {
            "text/plain": [
              "int"
            ]
          },
          "execution_count": 2,
          "metadata": {},
          "output_type": "execute_result"
        }
      ],
      "source": [
        "tupla = (1)\n",
        "type(tupla)"
      ]
    },
    {
      "cell_type": "markdown",
      "metadata": {},
      "source": [
        "Como vemos, Python lo interpreta como un entero, no como una tupla. Para solucionar esto, se a\u00f1ade una coma despu\u00e9s del elemento, por ejemplo:"
      ]
    },
    {
      "cell_type": "code",
      "execution_count": 3,
      "metadata": {},
      "outputs": [
        {
          "data": {
            "text/plain": [
              "tuple"
            ]
          },
          "execution_count": 3,
          "metadata": {},
          "output_type": "execute_result"
        }
      ],
      "source": [
        "tupla = (1,)\n",
        "type(tupla)"
      ]
    },
    {
      "cell_type": "markdown",
      "metadata": {},
      "source": [
        "\u00bfY esto para qu\u00e9 sirve? Cuando tenemos una funci\u00f3n que devuelve varios par\u00e1metros, en realidad lo que est\u00e1 devolviendo es una tupla. As\u00ed que se puede dar el caso en el que tengamos un c\u00f3digo que llama a una funci\u00f3n, compruebe la longitud de la tupla que devuelve y procese cada elemento de la tupla. Veamos un ejemplo"
      ]
    },
    {
      "cell_type": "code",
      "execution_count": 4,
      "metadata": {},
      "outputs": [
        {
          "name": "stdout",
          "output_type": "stream",
          "text": [
            "1\n",
            "2\n",
            "3\n"
          ]
        }
      ],
      "source": [
        "def return_tuple():\n",
        "    return 1, 2, 3\n",
        "\n",
        "def process_tuple():\n",
        "    tuple = return_tuple()\n",
        "    for i in tuple:\n",
        "        print(i)\n",
        "\n",
        "process_tuple()"
      ]
    },
    {
      "cell_type": "markdown",
      "metadata": {},
      "source": [
        "Pero, \u00bfqu\u00e9 pasa en este ejemplo si la funci\u00f3n no devuelve una tupla? Obtendr\u00edamos un error"
      ]
    },
    {
      "cell_type": "code",
      "execution_count": 5,
      "metadata": {},
      "outputs": [
        {
          "ename": "TypeError",
          "evalue": "'int' object is not iterable",
          "output_type": "error",
          "traceback": [
            "\u001b[0;31m---------------------------------------------------------------------------\u001b[0m",
            "\u001b[0;31mTypeError\u001b[0m                                 Traceback (most recent call last)",
            "Cell \u001b[0;32mIn[5], line 9\u001b[0m\n\u001b[1;32m      6\u001b[0m     \u001b[38;5;28;01mfor\u001b[39;00m i \u001b[38;5;129;01min\u001b[39;00m \u001b[38;5;28mtuple\u001b[39m:\n\u001b[1;32m      7\u001b[0m         \u001b[38;5;28mprint\u001b[39m(i)\n\u001b[0;32m----> 9\u001b[0m process_tuple()\n",
            "Cell \u001b[0;32mIn[5], line 6\u001b[0m, in \u001b[0;36mprocess_tuple\u001b[0;34m()\u001b[0m\n\u001b[1;32m      4\u001b[0m \u001b[38;5;28;01mdef\u001b[39;00m \u001b[38;5;21mprocess_tuple\u001b[39m():\n\u001b[1;32m      5\u001b[0m     \u001b[38;5;28mtuple\u001b[39m \u001b[38;5;241m=\u001b[39m return_int()\n\u001b[0;32m----> 6\u001b[0m     \u001b[38;5;28;01mfor\u001b[39;00m i \u001b[38;5;129;01min\u001b[39;00m \u001b[38;5;28mtuple\u001b[39m:\n\u001b[1;32m      7\u001b[0m         \u001b[38;5;28mprint\u001b[39m(i)\n",
            "\u001b[0;31mTypeError\u001b[0m: 'int' object is not iterable"
          ]
        }
      ],
      "source": [
        "def return_int():\n",
        "    return 1\n",
        "\n",
        "def process_tuple():\n",
        "    tuple = return_int()\n",
        "    for i in tuple:\n",
        "        print(i)\n",
        "\n",
        "process_tuple()"
      ]
    },
    {
      "cell_type": "markdown",
      "metadata": {},
      "source": [
        "Obtenemos un error porque Python intenta iterar a trav\u00e9s de lo que devuelve la funci\u00f3n, pero como devuelve un entero no puede iterar a trav\u00e9s de \u00e9l. Tenemos dos maneras de solucionar esto, una es que la funci\u00f3n que procesa compruebe si se ha devuelto una tupla y en ese caso la procese, otra es que la funci\u00f3n que devuelve valores, siempre devuelva una tupla, aunque sea de un solo elemento"
      ]
    },
    {
      "cell_type": "code",
      "execution_count": 6,
      "metadata": {},
      "outputs": [
        {
          "name": "stdout",
          "output_type": "stream",
          "text": [
            "1\n"
          ]
        }
      ],
      "source": [
        "def return_int():\n",
        "    return 1,\n",
        "\n",
        "def process_tuple():\n",
        "    tuple = return_int()\n",
        "    for i in tuple:\n",
        "        print(i)\n",
        "\n",
        "process_tuple()"
      ]
    },
    {
      "cell_type": "markdown",
      "metadata": {},
      "source": [
        "Como vemos, en la funci\u00f3n `return_int` se ha puesto una `,` al final del `return`, as\u00ed que est\u00e1 devolviendo una tupla de un solo elemento, por lo que la funci\u00f3n `process_tuple` no dar\u00e1 error."
      ]
    }
  ],
  "metadata": {
    "kernelspec": {
      "display_name": "nlp",
      "language": "python",
      "name": "python3"
    },
    "maximofn": {
      "date": "2024-09-09",
      "description_es": "Tip para crear tuplas de un solo elemento en Python",
      "description_en": "Tip to create single-element tuples in Python",
      "description_pt": "Dica para criar tuplas de um \u00fanico elemento em Python",
      "end_url": "tips/single-element-tuples",
      "image": "https://images.maximofn.com/single-element-tuples.webp",
      "keywords_en": "tuples, python, single-element",
      "keywords_es": "tuplas, python, un solo elemento",
      "keywords_pt": "tuplas, python, \u00fanico elemento",
      "title_es": "Tuplas de un solo elemento en Python",
      "title_en": "Single-element tuples in Python",
      "title_pt": "Tuplas de um \u00fanico elemento em Python"
    },
    "language_info": {
      "codemirror_mode": {
        "name": "ipython",
        "version": 3
      },
      "file_extension": ".py",
      "mimetype": "text/x-python",
      "name": "python",
      "nbconvert_exporter": "python",
      "pygments_lexer": "ipython3",
      "version": "3.11.7"
    }
  },
  "nbformat": 4,
  "nbformat_minor": 2
}