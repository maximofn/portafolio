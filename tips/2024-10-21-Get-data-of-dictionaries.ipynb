{
  "cells": [
    {
      "cell_type": "markdown",
      "metadata": {},
      "source": [
        "# Get data of dictionaries"
      ]
    },
    {
      "cell_type": "markdown",
      "metadata": {},
      "source": [
        "Imaginemos que tenemos el siguiente diccionario"
      ]
    },
    {
      "cell_type": "code",
      "execution_count": 2,
      "metadata": {},
      "outputs": [],
      "source": [
        "dictionary = {\n",
        "    \"id\": 1,\n",
        "    \"name\": \"John\",\n",
        "    \"age\": 30\n",
        "}"
      ]
    },
    {
      "cell_type": "markdown",
      "metadata": {},
      "source": [
        "Si queremos obtener el valor de la edad lo que se suele hacer es `dictionary[\"age\"]`"
      ]
    },
    {
      "cell_type": "code",
      "execution_count": 3,
      "metadata": {},
      "outputs": [
        {
          "data": {
            "text/plain": [
              "30"
            ]
          },
          "execution_count": 3,
          "metadata": {},
          "output_type": "execute_result"
        }
      ],
      "source": [
        "dictionary[\"age\"]"
      ]
    },
    {
      "cell_type": "markdown",
      "metadata": {},
      "source": [
        "Pero, ¿qué pasa si la `key` que ponemos no está en el diccionario? ¿Nos dará un error?"
      ]
    },
    {
      "cell_type": "code",
      "execution_count": 4,
      "metadata": {},
      "outputs": [
        {
          "ename": "KeyError",
          "evalue": "'country'",
          "output_type": "error",
          "traceback": [
            "\u001b[0;31m---------------------------------------------------------------------------\u001b[0m",
            "\u001b[0;31mKeyError\u001b[0m                                  Traceback (most recent call last)",
            "Cell \u001b[0;32mIn[4], line 1\u001b[0m\n\u001b[0;32m----> 1\u001b[0m \u001b[43mdictionary\u001b[49m\u001b[43m[\u001b[49m\u001b[38;5;124;43m\"\u001b[39;49m\u001b[38;5;124;43mcountry\u001b[39;49m\u001b[38;5;124;43m\"\u001b[39;49m\u001b[43m]\u001b[49m\n",
            "\u001b[0;31mKeyError\u001b[0m: 'country'"
          ]
        }
      ],
      "source": [
        "dictionary[\"country\"]"
      ]
    },
    {
      "cell_type": "markdown",
      "metadata": {},
      "source": [
        "Por lo que si esto pasa en producción se caerá el programa"
      ]
    },
    {
      "cell_type": "markdown",
      "metadata": {},
      "source": [
        "Así que para solucionarlo podemos usar un `try except` para manejar el error"
      ]
    },
    {
      "cell_type": "code",
      "execution_count": 5,
      "metadata": {},
      "outputs": [
        {
          "name": "stdout",
          "output_type": "stream",
          "text": [
            "Key not found\n"
          ]
        }
      ],
      "source": [
        "try:\n",
        "    dictionary[\"country\"]\n",
        "except KeyError:\n",
        "    print(\"Key not found\")"
      ]
    },
    {
      "cell_type": "markdown",
      "metadata": {},
      "source": [
        "Pero otra solución para no llenar el código de `try except` es usar el método `get` que nos permite obtener el valor de una `key` y si no existe nos devuelve un valor por defecto"
      ]
    },
    {
      "cell_type": "code",
      "execution_count": 6,
      "metadata": {},
      "outputs": [
        {
          "data": {
            "text/plain": [
              "'Key not found'"
            ]
          },
          "execution_count": 6,
          "metadata": {},
          "output_type": "execute_result"
        }
      ],
      "source": [
        "dictionary.get(\"country\", \"Key not found\")"
      ]
    },
    {
      "cell_type": "markdown",
      "metadata": {},
      "source": [
        "Otra opción es no colocar la segunda opción, en ese caso obtenemos `None` si la `key` no existe"
      ]
    },
    {
      "cell_type": "code",
      "execution_count": 9,
      "metadata": {},
      "outputs": [
        {
          "name": "stdout",
          "output_type": "stream",
          "text": [
            "None\n"
          ]
        }
      ],
      "source": [
        "country = dictionary.get(\"country\")\n",
        "print(country)"
      ]
    }
  ],
  "metadata": {
    "kernelspec": {
      "display_name": "base",
      "language": "python",
      "name": "python3"
    },
    "language_info": {
      "codemirror_mode": {
        "name": "ipython",
        "version": 3
      },
      "file_extension": ".py",
      "mimetype": "text/x-python",
      "name": "python",
      "nbconvert_exporter": "python",
      "pygments_lexer": "ipython3",
      "version": "3.12.5"
    },
    "maximofn": {
      "date": "2024-10-21",
      "description_en": "Get data of dictionaries in Python safely",
      "description_es": "Obtener datos de diccionarios en Python de forma segura",
      "description_pt": "Obter dados de dicionários em Python de forma segura",
      "end_url": "tips/get-data-of-dictionaries",
      "image": "https://images.maximofn.com/get-data-of-dictionaries.webp",
      "keywords_en": "dictionary, get, data",
      "keywords_es": "diccionario, obtener, datos",
      "keywords_pt": "dicionário, obter, dados",
      "title_en": "Get data of dictionaries",
      "title_es": "Obtener datos de diccionarios",
      "title_pt": "Obter dados de dicionários"
    }
  },
  "nbformat": 4,
  "nbformat_minor": 2
}
