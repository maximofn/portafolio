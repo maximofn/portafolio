{
  "cells": [
    {
      "cell_type": "markdown",
      "metadata": {},
      "source": [
        "# Declare neural networks clearly"
      ]
    },
    {
      "cell_type": "markdown",
      "metadata": {},
      "source": [
        "Cuando en PyTorch se crea una red neuronal como una lista de capas"
      ]
    },
    {
      "cell_type": "code",
      "execution_count": 2,
      "metadata": {},
      "outputs": [],
      "source": [
        "import torch\n",
        "import torch.nn as nn\n",
        "\n",
        "class Network(nn.Module):\n",
        "    def __init__(self):\n",
        "        super(Network, self).__init__()\n",
        "        self.layers = nn.ModuleList([\n",
        "            nn.Linear(1, 10),\n",
        "            nn.ReLU(),\n",
        "            nn.Linear(10, 1)\n",
        "        ])"
      ]
    },
    {
      "cell_type": "markdown",
      "metadata": {},
      "source": [
        "Luego iterar por ella en el m\u00e9todo `forward` no es tan claro"
      ]
    },
    {
      "cell_type": "code",
      "execution_count": 3,
      "metadata": {},
      "outputs": [],
      "source": [
        "import torch\n",
        "import torch.nn as nn\n",
        "\n",
        "class Network(nn.Module):\n",
        "    def __init__(self):\n",
        "        super(Network, self).__init__()\n",
        "        self.layers = nn.ModuleList([\n",
        "            nn.Linear(1, 10),\n",
        "            nn.ReLU(),\n",
        "            nn.Linear(10, 1)\n",
        "        ])\n",
        "    \n",
        "    def forward(self, x):\n",
        "        for layer in self.layers:\n",
        "            x = layer(x)\n",
        "        return x"
      ]
    },
    {
      "cell_type": "markdown",
      "metadata": {},
      "source": [
        "Sin embargo, cuando se crea una red neuronal como un diccionario de capas"
      ]
    },
    {
      "cell_type": "code",
      "execution_count": 4,
      "metadata": {},
      "outputs": [],
      "source": [
        "import torch\n",
        "import torch.nn as nn\n",
        "\n",
        "class Network(nn.Module):\n",
        "    def __init__(self):\n",
        "        super(Network, self).__init__()\n",
        "        self.layers = nn.ModuleList({\n",
        "            'linear': nn.Linear(1, 10),\n",
        "            'activation': nn.ReLU(),\n",
        "            'output': nn.Linear(10, 1)\n",
        "        })"
      ]
    },
    {
      "cell_type": "markdown",
      "metadata": {},
      "source": [
        "Luego iterar por ella en el m\u00e9todo `forward` es m\u00e1s claro"
      ]
    },
    {
      "cell_type": "code",
      "execution_count": 5,
      "metadata": {},
      "outputs": [],
      "source": [
        "import torch\n",
        "import torch.nn as nn\n",
        "\n",
        "class Network(nn.Module):\n",
        "    def __init__(self):\n",
        "        super(Network, self).__init__()\n",
        "        self.layers = nn.ModuleList({\n",
        "            'linear': nn.Linear(1, 10),\n",
        "            'activation': nn.ReLU(),\n",
        "            'output': nn.Linear(10, 1)\n",
        "        })\n",
        "    \n",
        "    def forward(self, x):\n",
        "        x = self.layers['linear'](x)\n",
        "        x = self.layers['activation'](x)\n",
        "        x = self.layers['output'](x)\n",
        "        return x"
      ]
    }
  ],
  "metadata": {
    "kernelspec": {
      "display_name": "base",
      "language": "python",
      "name": "python3"
    },
    "language_info": {
      "codemirror_mode": {
        "name": "ipython",
        "version": 3
      },
      "file_extension": ".py",
      "mimetype": "text/x-python",
      "name": "python",
      "nbconvert_exporter": "python",
      "pygments_lexer": "ipython3",
      "version": "3.10.9"
    },
    "maximofn": {
      "date": "2024-10-22",
      "description_en": "Declarar redes neuronales de forma clara en Pytorch",
      "description_es": "Declare neural networks clearly in Pytorch",
      "description_pt": "Declare redes neurais de forma clara no Pytorch",
      "end_url": "tips/declare-neural-networks-clearly",
      "image": "https://pub-fb664c455eca46a2ba762a065ac900f7.r2.dev/declare-neural-networks-cleary.webp",
      "keywords_en": "Pytorch, neural networks, layers, dictionary, clearly",
      "keywords_es": "Pytorch, redes neuronales, capas, diccionario, claramente",
      "keywords_pt": "Pytorch, redes neurais, camadas, dicion\u00e1rio, claramente",
      "title_en": "Declare neural networks clearly",
      "title_es": "Declarar redes neuronales de forma clara",
      "title_pt": "Declare redes neurais de forma clara"
    }
  },
  "nbformat": 4,
  "nbformat_minor": 2
}