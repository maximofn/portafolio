{
  "cells": [
    {
      "cell_type": "markdown",
      "metadata": {},
      "source": [
        "# py-smi"
      ]
    },
    {
      "cell_type": "markdown",
      "metadata": {},
      "source": [
        "\u00bfQuieres poder usar `nvidia-smi` desde Python? Aqu\u00ed tienes una librer\u00eda para hacerlo."
      ]
    },
    {
      "cell_type": "markdown",
      "metadata": {},
      "source": [
        "## Instalaci\u00f3n"
      ]
    },
    {
      "cell_type": "markdown",
      "metadata": {},
      "source": [
        "Para poder instalarla ejecuta:",
        "\n",
        "``` bash\n",
        "pip install python-smi\n",
        "```"
      ]
    },
    {
      "cell_type": "markdown",
      "metadata": {},
      "source": [
        "## Uso"
      ]
    },
    {
      "cell_type": "markdown",
      "metadata": {},
      "source": [
        "Importamos la librer\u00eda"
      ]
    },
    {
      "cell_type": "code",
      "execution_count": 1,
      "metadata": {},
      "outputs": [],
      "source": [
        "from py_smi import NVML"
      ]
    },
    {
      "cell_type": "markdown",
      "metadata": {},
      "source": [
        "Creamos un objeto de `pynvml` (la librer\u00eda detr\u00e1s de `nvidia-smi`)"
      ]
    },
    {
      "cell_type": "code",
      "execution_count": 2,
      "metadata": {},
      "outputs": [],
      "source": [
        "nv = NVML()"
      ]
    },
    {
      "cell_type": "markdown",
      "metadata": {},
      "source": [
        "Obtenemos la versi\u00f3n del driver y de CUDA"
      ]
    },
    {
      "cell_type": "code",
      "execution_count": 3,
      "metadata": {},
      "outputs": [
        {
          "data": {
            "text/plain": [
              "('560.35.03', '12.6')"
            ]
          },
          "execution_count": 3,
          "metadata": {},
          "output_type": "execute_result"
        }
      ],
      "source": [
        "nv.driver_version, nv.cuda_version"
      ]
    },
    {
      "cell_type": "markdown",
      "metadata": {},
      "source": [
        "Como en mi caso tengo dos GPUs creo una variable con el n\u00famero de GPUs"
      ]
    },
    {
      "cell_type": "code",
      "execution_count": 19,
      "metadata": {},
      "outputs": [],
      "source": [
        "num_gpus = 2"
      ]
    },
    {
      "cell_type": "markdown",
      "metadata": {},
      "source": [
        "Obtengo la memoria de cada GPU"
      ]
    },
    {
      "cell_type": "code",
      "execution_count": 20,
      "metadata": {},
      "outputs": [
        {
          "data": {
            "text/plain": [
              "[_Memory(free=24136.6875, total=24576.0, used=439.3125),\n",
              " _Memory(free=23509.0, total=24576.0, used=1067.0)]"
            ]
          },
          "execution_count": 20,
          "metadata": {},
          "output_type": "execute_result"
        }
      ],
      "source": [
        "[nv.mem(i) for i in range(num_gpus)]"
      ]
    },
    {
      "cell_type": "markdown",
      "metadata": {},
      "source": [
        "La utilizaci\u00f3n"
      ]
    },
    {
      "cell_type": "code",
      "execution_count": 24,
      "metadata": {},
      "outputs": [
        {
          "data": {
            "text/plain": [
              "[_Utilization(gpu=0, memory=0, enc=0, dec=0),\n",
              " _Utilization(gpu=0, memory=0, enc=0, dec=0)]"
            ]
          },
          "execution_count": 24,
          "metadata": {},
          "output_type": "execute_result"
        }
      ],
      "source": [
        "[nv.utilization() for i in range(num_gpus)]"
      ]
    },
    {
      "cell_type": "markdown",
      "metadata": {},
      "source": [
        "La potencia usada"
      ]
    },
    {
      "cell_type": "markdown",
      "metadata": {},
      "source": [
        " > Esto me viene muy bien, porque cuando entrenaba un modelo y ten\u00eda las dos GPUs llenas a veces se me apagaba el ordenador, y viendo la potencia, veo que la segunda consume mucho, por lo que puede que sea lo que yo ya sospechaba, que era por alimentaci\u00f3n."
      ]
    },
    {
      "cell_type": "code",
      "execution_count": 25,
      "metadata": {},
      "outputs": [
        {
          "data": {
            "text/plain": [
              "[_Power(usage=15.382, limit=350.0), _Power(usage=40.573, limit=350.0)]"
            ]
          },
          "execution_count": 25,
          "metadata": {},
          "output_type": "execute_result"
        }
      ],
      "source": [
        "[nv.power(i) for i in range(num_gpus)]"
      ]
    },
    {
      "cell_type": "markdown",
      "metadata": {},
      "source": [
        "Los relojes de cada GPU"
      ]
    },
    {
      "cell_type": "code",
      "execution_count": 26,
      "metadata": {},
      "outputs": [
        {
          "data": {
            "text/plain": [
              "[_Clocks(graphics=0, sm=0, mem=405), _Clocks(graphics=540, sm=540, mem=810)]"
            ]
          },
          "execution_count": 26,
          "metadata": {},
          "output_type": "execute_result"
        }
      ],
      "source": [
        "[nv.clocks(i) for i in range(num_gpus)]"
      ]
    },
    {
      "cell_type": "markdown",
      "metadata": {},
      "source": [
        "Datos del PCI"
      ]
    },
    {
      "cell_type": "code",
      "execution_count": 27,
      "metadata": {},
      "outputs": [
        {
          "data": {
            "text/plain": [
              "[_PCIeThroughput(rx=0.0, tx=0.0),\n",
              " _PCIeThroughput(rx=0.1630859375, tx=0.0234375)]"
            ]
          },
          "execution_count": 27,
          "metadata": {},
          "output_type": "execute_result"
        }
      ],
      "source": [
        "[nv.pcie_throughput(i) for i in range(num_gpus)]"
      ]
    },
    {
      "cell_type": "markdown",
      "metadata": {},
      "source": [
        "Y los procesos (ahora no estoy corriendo nada)"
      ]
    },
    {
      "cell_type": "code",
      "execution_count": 28,
      "metadata": {},
      "outputs": [
        {
          "data": {
            "text/plain": [
              "[[], []]"
            ]
          },
          "execution_count": 28,
          "metadata": {},
          "output_type": "execute_result"
        }
      ],
      "source": [
        "[nv.processes(i) for i in range(num_gpus)]"
      ]
    }
  ],
  "metadata": {
    "kernelspec": {
      "display_name": "base",
      "language": "python",
      "name": "python3"
    },
    "maximofn": {
      "date": "2024-12-14",
      "description_es": "Librer\u00eda de Python para obtener datos de la GPU igual que `nvidia-smi`",
      "description_en": "Python library to get GPU data like `nvidia-smi`",
      "description_pt": "Biblioteca Python para obter dados da GPU como `nvidia-smi`",
      "end_url": "tips/py-smi",
      "image": "https://pub-fb664c455eca46a2ba762a065ac900f7.r2.dev/nvidia-smi-mockup.webp",
      "keywords_en": "python, smi, nvidia, gpu",
      "keywords_es": "python, smi, nvidia, gpu",
      "keywords_pt": "python, smi, nvidia, gpu",
      "title_es": "py-smi",
      "title_en": "py-smi",
      "title_pt": "py-smi"
    },
    "language_info": {
      "codemirror_mode": {
        "name": "ipython",
        "version": 3
      },
      "file_extension": ".py",
      "mimetype": "text/x-python",
      "name": "python",
      "nbconvert_exporter": "python",
      "pygments_lexer": "ipython3",
      "version": "3.10.9"
    }
  },
  "nbformat": 4,
  "nbformat_minor": 2
}