{
  "cells": [
    {
      "cell_type": "markdown",
      "metadata": {},
      "source": [
        "# DataLoader + pin_memory"
      ]
    },
    {
      "cell_type": "markdown",
      "metadata": {},
      "source": [
        "En PyTorch, cuando se entrenan redes neuronales, especialmente en grandes conjuntos de datos, aprovechar el `DataLoader` con `pin_memory=True` y establecer `num_workers` en un n\u00famero positivo aumenta significativamente el rendimiento."
      ]
    },
    {
      "cell_type": "markdown",
      "metadata": {},
      "source": [
        "`pin_memory=True` permite una transferencia m\u00e1s r\u00e1pida de los datos a la GPU manteni\u00e9ndolos en memoria `pinned` (bloqueada por p\u00e1gina)."
      ]
    },
    {
      "cell_type": "markdown",
      "metadata": {},
      "source": [
        "Al mismo tiempo, `num_workers` determina el n\u00famero de subprocesos utilizados para la carga de datos, lo que permite la obtenci\u00f3n as\u00edncrona de datos sin bloquear el c\u00e1lculo de la GPU"
      ]
    },
    {
      "cell_type": "markdown",
      "metadata": {},
      "source": [
        "Esta combinaci\u00f3n minimiza el tiempo de inactividad de la GPU, lo que garantiza un uso m\u00e1s eficiente de los recursos de hardware y tiempos de entrenamiento del modelo m\u00e1s r\u00e1pidos."
      ]
    },
    {
      "cell_type": "code",
      "execution_count": null,
      "metadata": {},
      "outputs": [],
      "source": [
        "data_loader = DataLoader(dataset, batch_size=32, shuffle=True, num_workers=4, pin_memory=True)"
      ]
    }
  ],
  "metadata": {
    "kernelspec": {
      "display_name": "base",
      "language": "python",
      "name": "python3"
    },
    "maximofn": {
      "date": "2024-12-16",
      "description_es": "Aumentar el rendimiento de DataLoader con pin_memory y num_workers",
      "description_en": "Increase DataLoader performance with pin_memory and num_workers",
      "description_pt": "Aumentar o desempenho de DataLoader com pin_memory e num_workers",
      "end_url": "tips/DataLoader-pin-memory",
      "image": "https://pub-fb664c455eca46a2ba762a065ac900f7.r2.dev/pytorch_pin_memory.webp",
      "keywords_en": "pytorch, dataloader, pin_memory, num_workers, gpu",
      "keywords_es": "pytorch, dataloader, pin_memory, num_workers, gpu",
      "keywords_pt": "pytorch, dataloader, pin_memory, num_workers, gpu",
      "title_es": "DataLoader con pin_memory y num_workers",
      "title_en": "DataLoader with pin_memory and num_workers",
      "title_pt": "DataLoader com pin_memory e num_workers"
    },
    "language_info": {
      "name": "python",
      "version": "3.12.5"
    }
  },
  "nbformat": 4,
  "nbformat_minor": 2
}