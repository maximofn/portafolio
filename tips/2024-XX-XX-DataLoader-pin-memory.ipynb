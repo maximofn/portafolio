{
 "cells": [
  {
   "cell_type": "markdown",
   "metadata": {},
   "source": [
    "# DataLoader + pin_memory"
   ]
  },
  {
   "cell_type": "markdown",
   "metadata": {},
   "source": [
    "En PyTorch, cuando se entrenan redes neuronales, especialmente en grandes conjuntos de datos, aprovechar el `DataLoader` con `pin_memory=True` y establecer `num_workers` en un número positivo aumenta significativamente el rendimiento."
   ]
  },
  {
   "cell_type": "markdown",
   "metadata": {},
   "source": [
    "`pin_memory=True` permite una transferencia más rápida de los datos a la GPU manteniéndolos en memoria `pinned` (bloqueada por página)."
   ]
  },
  {
   "cell_type": "markdown",
   "metadata": {},
   "source": [
    "Al mismo tiempo, `num_workers` determina el número de subprocesos utilizados para la carga de datos, lo que permite la obtención asíncrona de datos sin bloquear el cálculo de la GPU"
   ]
  },
  {
   "cell_type": "markdown",
   "metadata": {},
   "source": [
    "Esta combinación minimiza el tiempo de inactividad de la GPU, lo que garantiza un uso más eficiente de los recursos de hardware y tiempos de entrenamiento del modelo más rápidos."
   ]
  },
  {
   "cell_type": "code",
   "execution_count": null,
   "metadata": {},
   "outputs": [],
   "source": [
    "data_loader = DataLoader(dataset, batch_size=32, shuffle=True, num_workers=4, pin_memory=True)"
   ]
  }
 ],
 "metadata": {
  "kernelspec": {
   "display_name": "base",
   "language": "python",
   "name": "python3"
  },
  "language_info": {
   "name": "python",
   "version": "3.12.5"
  }
 },
 "nbformat": 4,
 "nbformat_minor": 2
}
