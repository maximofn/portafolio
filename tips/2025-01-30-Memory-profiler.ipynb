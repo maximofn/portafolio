{
  "cells": [
    {
      "cell_type": "markdown",
      "metadata": {},
      "source": [
        "# Ver el uso de memoria de un script"
      ]
    },
    {
      "cell_type": "markdown",
      "metadata": {},
      "source": [
        "Si un script nos consume mucha RAM podemos monitorizarlo para ver qu\u00e9 es lo que est\u00e1 consumiendo."
      ]
    },
    {
      "cell_type": "markdown",
      "metadata": {},
      "source": [
        "## Instalaci\u00f3n"
      ]
    },
    {
      "cell_type": "markdown",
      "metadata": {},
      "source": [
        "Para poder monitorearlo vamos a instalar `memory_profiler`. Lo podemos instalar con Conda",
        "\n",
        "``` bash\n",
        "conda install memory_profiler\n",
        "```\n",
        "\n",
        "o con pip",
        "\n",
        "``` bash\n",
        "pip install memory_profiler\n",
        "```"
      ]
    },
    {
      "cell_type": "markdown",
      "metadata": {},
      "source": [
        "## Uso"
      ]
    },
    {
      "cell_type": "markdown",
      "metadata": {},
      "source": [
        "### Decorador"
      ]
    },
    {
      "cell_type": "markdown",
      "metadata": {},
      "source": [
        "Podemos poner un decorador en la funci\u00f3n que queremos monitorizar.",
        "\n",
        "``` python\n",
        "from memory_profiler import profile\n",
        "\n",
        "@profile\n",
        "def my_function():\n",
        "    pass\n",
        "```\n"
      ]
    },
    {
      "cell_type": "code",
      "execution_count": 5,
      "metadata": {},
      "outputs": [
        {
          "name": "stdout",
          "output_type": "stream",
          "text": [
            "Overwriting memory_profiler_decorator.py\n"
          ]
        }
      ],
      "source": [
        "%%writefile memory_profiler_decorator.py\n",
        "from memory_profiler import profile\n",
        "\n",
        "@profile\n",
        "def my_function():\n",
        "    a = [1] * (10 ** 6)\n",
        "    b = [2] * (2 * 10 ** 7)\n",
        "    del b\n",
        "    return a\n",
        "\n",
        "if __name__ == '__main__':\n",
        "    my_function()"
      ]
    },
    {
      "cell_type": "markdown",
      "metadata": {},
      "source": [
        "Ahora lo ejecutamos usando `-m memory_profiles memory_profiler_decorator.py`"
      ]
    },
    {
      "cell_type": "code",
      "execution_count": 6,
      "metadata": {},
      "outputs": [
        {
          "name": "stdout",
          "output_type": "stream",
          "text": [
            "Filename: memory_profiler_decorator.py\n",
            "\n",
            "Line #    Mem usage    Increment  Occurrences   Line Contents\n",
            "=============================================================\n",
            "     3     49.5 MiB     49.5 MiB           1   @profile\n",
            "     4                                         def my_function():\n",
            "     5     57.0 MiB      7.5 MiB           1       a = [1] * (10 ** 6)\n",
            "     6    209.6 MiB    152.6 MiB           1       b = [2] * (2 * 10 ** 7)\n",
            "     7     57.2 MiB   -152.4 MiB           1       del b\n",
            "     8     57.2 MiB      0.0 MiB           1       return a\n",
            "\n",
            "\n"
          ]
        }
      ],
      "source": [
        "!python -m memory_profiler memory_profiler_decorator.py"
      ]
    },
    {
      "cell_type": "markdown",
      "metadata": {},
      "source": [
        "Como vemos, obtenemos el uso de memoria de cada l\u00ednea del script."
      ]
    },
    {
      "cell_type": "markdown",
      "metadata": {},
      "source": [
        "## Uso de memoria en el tiempo"
      ]
    },
    {
      "cell_type": "markdown",
      "metadata": {},
      "source": [
        "Podemos obtener una gr\u00e1fica del uso de memoria en el tiempo haciendo\n",
        "\n",
        "``` bash\n",
        "mprof run memory_profiler_decorator.py\n",
        "mprof plot\n",
        "```"
      ]
    },
    {
      "cell_type": "code",
      "execution_count": 7,
      "metadata": {},
      "outputs": [
        {
          "name": "stdout",
          "output_type": "stream",
          "text": [
            "mprof: Sampling memory every 0.1s\n",
            "running new process\n",
            "running as a Python program...\n",
            "Filename: memory_profiler_decorator.py\n",
            "\n",
            "Line #    Mem usage    Increment  Occurrences   Line Contents\n",
            "=============================================================\n",
            "     3     49.5 MiB     49.5 MiB           1   @profile\n",
            "     4                                         def my_function():\n",
            "     5     57.0 MiB      7.5 MiB           1       a = [1] * (10 ** 6)\n",
            "     6    209.6 MiB    152.6 MiB           1       b = [2] * (2 * 10 ** 7)\n",
            "     7     57.2 MiB   -152.4 MiB           1       del b\n",
            "     8     57.2 MiB      0.0 MiB           1       return a\n",
            "\n",
            "\n"
          ]
        }
      ],
      "source": [
        "!mprof run memory_profiler_decorator.py"
      ]
    },
    {
      "cell_type": "code",
      "execution_count": 11,
      "metadata": {},
      "outputs": [
        {
          "name": "stdout",
          "output_type": "stream",
          "text": [
            "Using last profile data.\n",
            "Figure(1260x540)\n"
          ]
        }
      ],
      "source": [
        "!mprof plot"
      ]
    },
    {
      "cell_type": "markdown",
      "metadata": {},
      "source": [
        "Al ejecutarlo se crea esta gr\u00e1fica\n",
        "\n",
        "![memory_profiler plot](https://pub-fb664c455eca46a2ba762a065ac900f7.r2.dev/memory_profiler_plot.webp)"
      ]
    }
  ],
  "metadata": {
    "kernelspec": {
      "display_name": "memory_profiler",
      "language": "python",
      "name": "python3"
    },
    "maximofn": {
      "date": "2025-01-30",
      "description_es": "Ver el uso de memoria de un script",
      "description_en": "See the memory usage of a script",
      "description_pt": "Ver o uso de mem\u00f3ria de um script",
      "end_url": "tips/Memory-profiler",
      "image": "https://pub-fb664c455eca46a2ba762a065ac900f7.r2.dev/memory_profiling_thumbnail.webp",
      "image_hover_path": "https://pub-fb664c455eca46a2ba762a065ac900f7.r2.dev/memory_profiling_thumbnail.webp",
      "keywords_en": "python, memory, profiler",
      "keywords_es": "python, memoria, profiler",
      "keywords_pt": "python, mem\u00f3ria, profiler",
      "title_es": "Ver el uso de memoria de un script",
      "title_en": "See the memory usage of a script",
      "title_pt": "Ver o uso de mem\u00f3ria de um script"
    },
    "language_info": {
      "codemirror_mode": {
        "name": "ipython",
        "version": 3
      },
      "file_extension": ".py",
      "mimetype": "text/x-python",
      "name": "python",
      "nbconvert_exporter": "python",
      "pygments_lexer": "ipython3",
      "version": "3.12.8"
    }
  },
  "nbformat": 4,
  "nbformat_minor": 2
}