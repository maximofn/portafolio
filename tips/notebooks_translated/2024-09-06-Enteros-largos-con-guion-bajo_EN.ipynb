{
  "cells": [
    {
      "cell_type": "markdown",
      "metadata": {},
      "source": [
        "# Long Integers with Underscore"
      ]
    },
    {
      "cell_type": "markdown",
      "metadata": {},
      "source": [
        " > Disclaimer: This post has been translated to English using a machine translation model. Please, let me know if you find any mistakes."
      ]
    },
    {
      "cell_type": "markdown",
      "metadata": {},
      "source": [
        "If we have a very long integer, it may be hard to read it"
      ]
    },
    {
      "cell_type": "code",
      "execution_count": 1,
      "metadata": {},
      "outputs": [
        {
          "name": "stdout",
          "output_type": "stream",
          "text": [
            "1000000000000\n"
          ]
        }
      ],
      "source": [
        "num = 1000000000000\n",
        "print(num)"
      ]
    },
    {
      "cell_type": "markdown",
      "metadata": {},
      "source": [
        "But Python allows us to use underscores to separate the digits and make it more readable"
      ]
    },
    {
      "cell_type": "code",
      "execution_count": 3,
      "metadata": {},
      "outputs": [
        {
          "name": "stdout",
          "output_type": "stream",
          "text": [
            "1000000000000\n"
          ]
        }
      ],
      "source": [
        "num_ = 1_000_000_000_000\n",
        "print(num_)"
      ]
    },
    {
      "cell_type": "markdown",
      "metadata": {},
      "source": [
        "Let's check that both numbers are equal"
      ]
    },
    {
      "cell_type": "code",
      "execution_count": 4,
      "metadata": {},
      "outputs": [
        {
          "data": {
            "text/plain": [
              "True"
            ]
          },
          "execution_count": 4,
          "metadata": {},
          "output_type": "execute_result"
        }
      ],
      "source": [
        "num == num_"
      ]
    }
  ],
  "metadata": {
    "kernelspec": {
      "display_name": "nlp",
      "language": "python",
      "name": "python3"
    },
    "maximofn": {
      "date": "2024-09-06",
      "description_es": "Tip para escribir n\u00fameros enteros largos con gui\u00f3n bajo en Python",
      "description_en": "Tip to write long integers with underscore in Python",
      "description_pt": "Dica para escrever inteiros longos com sublinhado em Python",
      "end_url": "tips/long-integers-python",
      "image": "https://images.maximofn.com/long_integer_python.webp",
      "keywords_en": "long integers, underscore, python",
      "keywords_es": "n\u00fameros enteros largos, gui\u00f3n bajo, python",
      "keywords_pt": "inteiros longos, sublinhado, python",
      "title_en": "Long integers with underscore in Python",
      "title_es": "Enteros largos con gui\u00f3n bajo en Python",
      "title_pt": "Inteiros longos com sublinhado em Python"
    },
    "language_info": {
      "codemirror_mode": {
        "name": "ipython",
        "version": 3
      },
      "file_extension": ".py",
      "mimetype": "text/x-python",
      "name": "python",
      "nbconvert_exporter": "python",
      "pygments_lexer": "ipython3",
      "version": "3.11.7"
    }
  },
  "nbformat": 4,
  "nbformat_minor": 2
}