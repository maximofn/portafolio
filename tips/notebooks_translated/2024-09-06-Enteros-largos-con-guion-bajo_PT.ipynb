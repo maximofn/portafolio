{
  "cells": [
    {
      "cell_type": "markdown",
      "metadata": {},
      "source": [
        "# N\u00fameros inteiros longos com sublinhado"
      ]
    },
    {
      "cell_type": "markdown",
      "metadata": {},
      "source": [
        " > Aviso: Este post foi traduzido para o portugu\u00eas usando um modelo de tradu\u00e7\u00e3o autom\u00e1tica. Por favor, me avise se encontrar algum erro."
      ]
    },
    {
      "cell_type": "markdown",
      "metadata": {},
      "source": [
        "Se tivermos um n\u00famero inteiro muito longo, pode ser dif\u00edcil l\u00ea-lo"
      ]
    },
    {
      "cell_type": "code",
      "execution_count": 1,
      "metadata": {},
      "outputs": [
        {
          "name": "stdout",
          "output_type": "stream",
          "text": [
            "1000000000000\n"
          ]
        }
      ],
      "source": [
        "num = 1000000000000\n",
        "print(num)"
      ]
    },
    {
      "cell_type": "markdown",
      "metadata": {},
      "source": [
        "Mas o Python nos permite colocar sublinhados para separar os d\u00edgitos e torn\u00e1-los mais leg\u00edveis."
      ]
    },
    {
      "cell_type": "code",
      "execution_count": 3,
      "metadata": {},
      "outputs": [
        {
          "name": "stdout",
          "output_type": "stream",
          "text": [
            "1000000000000\n"
          ]
        }
      ],
      "source": [
        "num_ = 1_000_000_000_000\n",
        "print(num_)"
      ]
    },
    {
      "cell_type": "markdown",
      "metadata": {},
      "source": [
        "Vamos verificar se ambos n\u00fameros s\u00e3o iguais."
      ]
    },
    {
      "cell_type": "code",
      "execution_count": 4,
      "metadata": {},
      "outputs": [
        {
          "data": {
            "text/plain": [
              "True"
            ]
          },
          "execution_count": 4,
          "metadata": {},
          "output_type": "execute_result"
        }
      ],
      "source": [
        "num == num_"
      ]
    }
  ],
  "metadata": {
    "kernelspec": {
      "display_name": "nlp",
      "language": "python",
      "name": "python3"
    },
    "maximofn": {
      "date": "2024-09-06",
      "description_es": "Tip para escribir n\u00fameros enteros largos con gui\u00f3n bajo en Python",
      "description_en": "Tip to write long integers with underscore in Python",
      "description_pt": "Dica para escrever inteiros longos com sublinhado em Python",
      "end_url": "tips/long-integers-python",
      "image": "https://pub-fb664c455eca46a2ba762a065ac900f7.r2.dev/long_integer_python.webp",
      "keywords_en": "long integers, underscore, python",
      "keywords_es": "n\u00fameros enteros largos, gui\u00f3n bajo, python",
      "keywords_pt": "inteiros longos, sublinhado, python",
      "title_en": "Long integers with underscore in Python",
      "title_es": "Enteros largos con gui\u00f3n bajo en Python",
      "title_pt": "Inteiros longos com sublinhado em Python"
    },
    "language_info": {
      "codemirror_mode": {
        "name": "ipython",
        "version": 3
      },
      "file_extension": ".py",
      "mimetype": "text/x-python",
      "name": "python",
      "nbconvert_exporter": "python",
      "pygments_lexer": "ipython3",
      "version": "3.11.7"
    }
  },
  "nbformat": 4,
  "nbformat_minor": 2
}