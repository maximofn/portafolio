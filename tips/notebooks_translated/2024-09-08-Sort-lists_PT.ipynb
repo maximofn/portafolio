{
  "cells": [
    {
      "cell_type": "markdown",
      "metadata": {},
      "source": [
        "# Ordenar listas"
      ]
    },
    {
      "cell_type": "markdown",
      "metadata": {},
      "source": [
        " > Aviso: Este post foi traduzido para o portugu\u00eas usando um modelo de tradu\u00e7\u00e3o autom\u00e1tica. Por favor, me avise se encontrar algum erro."
      ]
    },
    {
      "cell_type": "markdown",
      "metadata": {},
      "source": [
        "Suponhamos que temos uma lista desordenada"
      ]
    },
    {
      "cell_type": "code",
      "execution_count": 7,
      "metadata": {},
      "outputs": [
        {
          "name": "stdout",
          "output_type": "stream",
          "text": [
            "[1, 4, 7, 2, 5, 8, 3, 6, 9]\n"
          ]
        }
      ],
      "source": [
        "list = [1, 4, 7, 2, 5, 8, 3, 6, 9]\n",
        "print(list)"
      ]
    },
    {
      "cell_type": "markdown",
      "metadata": {},
      "source": [
        "E que queremos orden\u00e1-la, ent\u00e3o usamos o m\u00e9todo `sort()`"
      ]
    },
    {
      "cell_type": "code",
      "execution_count": 8,
      "metadata": {},
      "outputs": [
        {
          "name": "stdout",
          "output_type": "stream",
          "text": [
            "[1, 2, 3, 4, 5, 6, 7, 8, 9]\n"
          ]
        }
      ],
      "source": [
        "list.sort()\n",
        "print(list)"
      ]
    },
    {
      "cell_type": "markdown",
      "metadata": {},
      "source": [
        "O problema do m\u00e9todo `sort()` \u00e9 que ele modifica a lista original, se voltarmos a imprimir a lista vemos que ela est\u00e1 ordenada, e n\u00e3o temos a original."
      ]
    },
    {
      "cell_type": "code",
      "execution_count": 9,
      "metadata": {},
      "outputs": [
        {
          "name": "stdout",
          "output_type": "stream",
          "text": [
            "[1, 2, 3, 4, 5, 6, 7, 8, 9]\n"
          ]
        }
      ],
      "source": [
        "print(list)"
      ]
    },
    {
      "cell_type": "markdown",
      "metadata": {},
      "source": [
        "Voltamos a criar a lista original"
      ]
    },
    {
      "cell_type": "code",
      "execution_count": 10,
      "metadata": {},
      "outputs": [
        {
          "name": "stdout",
          "output_type": "stream",
          "text": [
            "[1, 4, 7, 2, 5, 8, 3, 6, 9]\n"
          ]
        }
      ],
      "source": [
        "list = [1, 4, 7, 2, 5, 8, 3, 6, 9]\n",
        "print(list)"
      ]
    },
    {
      "cell_type": "markdown",
      "metadata": {},
      "source": [
        "Para ordenar uma lista sem modific\u00e1-la, podemos usar a fun\u00e7\u00e3o `sorted()`"
      ]
    },
    {
      "cell_type": "code",
      "execution_count": 11,
      "metadata": {},
      "outputs": [
        {
          "name": "stdout",
          "output_type": "stream",
          "text": [
            "[1, 2, 3, 4, 5, 6, 7, 8, 9]\n"
          ]
        }
      ],
      "source": [
        "print(sorted(list))"
      ]
    },
    {
      "cell_type": "markdown",
      "metadata": {},
      "source": [
        "Se agora voltarmos a imprimir a lista original, veremos que n\u00e3o mudou."
      ]
    },
    {
      "cell_type": "code",
      "execution_count": 12,
      "metadata": {},
      "outputs": [
        {
          "name": "stdout",
          "output_type": "stream",
          "text": [
            "[1, 4, 7, 2, 5, 8, 3, 6, 9]\n"
          ]
        }
      ],
      "source": [
        "print(list)"
      ]
    },
    {
      "cell_type": "markdown",
      "metadata": {},
      "source": [
        "O mesmo ocorre se a quisermos ordenar em ordem inversa, podemos usar o m\u00e9todo `.reverse()`"
      ]
    },
    {
      "cell_type": "code",
      "execution_count": 14,
      "metadata": {},
      "outputs": [
        {
          "name": "stdout",
          "output_type": "stream",
          "text": [
            "[9, 6, 3, 8, 5, 2, 7, 4, 1]\n"
          ]
        }
      ],
      "source": [
        "list.reverse()\n",
        "print(list)"
      ]
    },
    {
      "cell_type": "markdown",
      "metadata": {},
      "source": [
        "Se imprimirmos a lista, vemos que est\u00e1 ordenada em ordem inversa e n\u00e3o como a t\u00ednhamos no in\u00edcio."
      ]
    },
    {
      "cell_type": "code",
      "execution_count": 15,
      "metadata": {},
      "outputs": [
        {
          "name": "stdout",
          "output_type": "stream",
          "text": [
            "[9, 6, 3, 8, 5, 2, 7, 4, 1]\n"
          ]
        }
      ],
      "source": [
        "print(list)"
      ]
    },
    {
      "cell_type": "markdown",
      "metadata": {},
      "source": [
        "Voltamos a criar a lista original"
      ]
    },
    {
      "cell_type": "code",
      "execution_count": 16,
      "metadata": {},
      "outputs": [
        {
          "name": "stdout",
          "output_type": "stream",
          "text": [
            "[1, 4, 7, 2, 5, 8, 3, 6, 9]\n"
          ]
        }
      ],
      "source": [
        "list = [1, 4, 7, 2, 5, 8, 3, 6, 9]\n",
        "print(list)"
      ]
    },
    {
      "cell_type": "markdown",
      "metadata": {},
      "source": [
        "Se queremos ordenar uma lista sem modific\u00e1-la, usamos novamente a fun\u00e7\u00e3o `sorted()`, mas com o argumento `reverse=True`"
      ]
    },
    {
      "cell_type": "code",
      "execution_count": 13,
      "metadata": {},
      "outputs": [
        {
          "name": "stdout",
          "output_type": "stream",
          "text": [
            "[9, 8, 7, 6, 5, 4, 3, 2, 1]\n"
          ]
        }
      ],
      "source": [
        "print(sorted(list, reverse=True))"
      ]
    },
    {
      "cell_type": "markdown",
      "metadata": {},
      "source": [
        "Se agora imprimirmos a lista original, vemos que ela n\u00e3o mudou."
      ]
    },
    {
      "cell_type": "code",
      "execution_count": 17,
      "metadata": {},
      "outputs": [
        {
          "name": "stdout",
          "output_type": "stream",
          "text": [
            "[1, 4, 7, 2, 5, 8, 3, 6, 9]\n"
          ]
        }
      ],
      "source": [
        "print(list)"
      ]
    }
  ],
  "metadata": {
    "kernelspec": {
      "display_name": "nlp",
      "language": "python",
      "name": "python3"
    },
    "maximofn": {
      "date": "2024-09-08",
      "description_es": "Tip para ordenar listas en Python sin modificar la original",
      "description_en": "Tip to sort lists in Python without modifying the original",
      "description_pt": "Dica para ordenar listas em Python sem modificar a original",
      "end_url": "tips/sort-lists",
      "image": "https://images.maximofn.com/python_short_list.webp",
      "keywords_en": "python, list, sort, sorted",
      "keywords_es": "python, lista, sort, sorted",
      "keywords_pt": "python, lista, sort, sorted",
      "title_en": "Ordenar listas en Python sin modificar la original",
      "title_es": "Sort lists in Python without modifying the original",
      "title_pt": "Ordenar listas em Python sem modificar a original"
    },
    "language_info": {
      "codemirror_mode": {
        "name": "ipython",
        "version": 3
      },
      "file_extension": ".py",
      "mimetype": "text/x-python",
      "name": "python",
      "nbconvert_exporter": "python",
      "pygments_lexer": "ipython3",
      "version": "3.11.7"
    }
  },
  "nbformat": 4,
  "nbformat_minor": 2
}