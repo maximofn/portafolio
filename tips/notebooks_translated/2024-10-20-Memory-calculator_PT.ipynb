{
  "cells": [
    {
      "cell_type": "markdown",
      "metadata": {},
      "source": [
        "# C\u00e1lculo de Mem\u00f3ria"
      ]
    },
    {
      "cell_type": "markdown",
      "metadata": {},
      "source": [
        " > Aviso: Este post foi traduzido para o portugu\u00eas usando um modelo de tradu\u00e7\u00e3o autom\u00e1tica. Por favor, me avise se encontrar algum erro."
      ]
    },
    {
      "cell_type": "markdown",
      "metadata": {},
      "source": [
        "Se quiser calcular a mem\u00f3ria que precisa para executar um modelo, use este [space](https://huggingface.co/spaces/derek-thomas/transformer_calculator) do HuggingFace."
      ]
    },
    {
      "cell_type": "code",
      "execution_count": null,
      "metadata": {
        "vscode": {
          "languageId": "plaintext"
        }
      },
      "outputs": [],
      "source": [
        "<iframe\n",
        "\tsrc=\"https://derek-thomas-transformer-calculator.hf.space\"\n",
        "\tframeborder=\"0\"\n",
        "\twidth=\"850\"\n",
        "\theight=\"450\"\n",
        "></iframe>"
      ]
    }
  ],
  "metadata": {
    "maximofn": {
      "date": "2024-10-20",
      "description_es": "Espacio para calcular la memoria necesaria para ejecutar un modelo",
      "description_en": "Space to calculate the memory needed to run a model",
      "description_pt": "Espa\u00e7o para calcular a mem\u00f3ria necess\u00e1ria para executar um modelo",
      "end_url": "tips/memory-calculator",
      "image": "https://images.maximofn.com/Huggies_Diffusor.webp",
      "keywords_en": "memory, calculator, model",
      "keywords_es": "memoria, calculadora, modelo",
      "keywords_pt": "mem\u00f3ria, calculadora, modelo",
      "title_es": "Memory Calculator",
      "title_en": "Memory Calculator",
      "title_pt": "Memory Calculator"
    },
    "language_info": {
      "name": "python"
    }
  },
  "nbformat": 4,
  "nbformat_minor": 2
}