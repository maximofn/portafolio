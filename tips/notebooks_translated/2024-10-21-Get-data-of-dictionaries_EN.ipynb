{
  "cells": [
    {
      "cell_type": "markdown",
      "metadata": {},
      "source": [
        "# Obtener datos de diccionarios"
      ]
    },
    {
      "cell_type": "markdown",
      "metadata": {},
      "source": [
        " > Disclaimer: This post has been translated to English using a machine translation model. Please, let me know if you find any mistakes."
      ]
    },
    {
      "cell_type": "markdown",
      "metadata": {},
      "source": [
        "Let's imagine that we have the following dictionary"
      ]
    },
    {
      "cell_type": "code",
      "execution_count": 2,
      "metadata": {},
      "outputs": [],
      "source": [
        "dictionary = {\n",
        "    \"id\": 1,\n",
        "    \"name\": \"John\",\n",
        "    \"age\": 30\n",
        "}"
      ]
    },
    {
      "cell_type": "markdown",
      "metadata": {},
      "source": [
        "If we want to obtain the value of the age, what is usually done is `dictionary[\"age\"]`"
      ]
    },
    {
      "cell_type": "code",
      "execution_count": 3,
      "metadata": {},
      "outputs": [
        {
          "data": {
            "text/plain": [
              "30"
            ]
          },
          "execution_count": 3,
          "metadata": {},
          "output_type": "execute_result"
        }
      ],
      "source": [
        "dictionary[\"age\"]"
      ]
    },
    {
      "cell_type": "markdown",
      "metadata": {},
      "source": [
        "But, what happens if the `key` we put in is not in the dictionary? Will it give us an error?"
      ]
    },
    {
      "cell_type": "code",
      "execution_count": 4,
      "metadata": {},
      "outputs": [
        {
          "ename": "KeyError",
          "evalue": "'country'",
          "output_type": "error",
          "traceback": [
            "\u001b[0;31m---------------------------------------------------------------------------\u001b[0m",
            "\u001b[0;31mKeyError\u001b[0m                                  Traceback (most recent call last)",
            "Cell \u001b[0;32mIn[4], line 1\u001b[0m\n\u001b[0;32m----> 1\u001b[0m \u001b[43mdictionary\u001b[49m\u001b[43m[\u001b[49m\u001b[38;5;124;43m\"\u001b[39;49m\u001b[38;5;124;43mcountry\u001b[39;49m\u001b[38;5;124;43m\"\u001b[39;49m\u001b[43m]\u001b[49m\n",
            "\u001b[0;31mKeyError\u001b[0m: 'country'"
          ]
        }
      ],
      "source": [
        "dictionary[\"country\"]"
      ]
    },
    {
      "cell_type": "markdown",
      "metadata": {},
      "source": [
        "So if this happens in production, the program will crash"
      ]
    },
    {
      "cell_type": "markdown",
      "metadata": {},
      "source": [
        "So to solve it we can use a `try except` to handle the error"
      ]
    },
    {
      "cell_type": "code",
      "execution_count": 5,
      "metadata": {},
      "outputs": [
        {
          "name": "stdout",
          "output_type": "stream",
          "text": [
            "Key not found\n"
          ]
        }
      ],
      "source": [
        "try:\n",
        "    dictionary[\"country\"]\n",
        "except KeyError:\n",
        "    print(\"Key not found\")"
      ]
    },
    {
      "cell_type": "markdown",
      "metadata": {},
      "source": [
        "But another solution to avoid filling the code with `try except` is to use the `get` method which allows us to obtain the value of a `key` and if it doesn't exist, it returns a default value."
      ]
    },
    {
      "cell_type": "code",
      "execution_count": 6,
      "metadata": {},
      "outputs": [
        {
          "data": {
            "text/plain": [
              "'Key not found'"
            ]
          },
          "execution_count": 6,
          "metadata": {},
          "output_type": "execute_result"
        }
      ],
      "source": [
        "dictionary.get(\"country\", \"Key not found\")"
      ]
    },
    {
      "cell_type": "markdown",
      "metadata": {},
      "source": [
        "Another option is not to include the second option, in which case we get `None` if the `key` does not exist."
      ]
    },
    {
      "cell_type": "code",
      "execution_count": 9,
      "metadata": {},
      "outputs": [
        {
          "name": "stdout",
          "output_type": "stream",
          "text": [
            "None\n"
          ]
        }
      ],
      "source": [
        "country = dictionary.get(\"country\")\n",
        "print(country)"
      ]
    }
  ],
  "metadata": {
    "kernelspec": {
      "display_name": "base",
      "language": "python",
      "name": "python3"
    },
    "language_info": {
      "codemirror_mode": {
        "name": "ipython",
        "version": 3
      },
      "file_extension": ".py",
      "mimetype": "text/x-python",
      "name": "python",
      "nbconvert_exporter": "python",
      "pygments_lexer": "ipython3",
      "version": "3.12.5"
    },
    "maximofn": {
      "date": "2024-10-21",
      "description_en": "Get data of dictionaries in Python safely",
      "description_es": "Obtener datos de diccionarios en Python de forma segura",
      "description_pt": "Obter dados de dicion\u00e1rios em Python de forma segura",
      "end_url": "tips/get-data-of-dictionaries",
      "image": "https://pub-fb664c455eca46a2ba762a065ac900f7.r2.dev/get-data-of-dictionaries.webp",
      "keywords_en": "dictionary, get, data",
      "keywords_es": "diccionario, obtener, datos",
      "keywords_pt": "dicion\u00e1rio, obter, dados",
      "title_en": "Get data of dictionaries",
      "title_es": "Obtener datos de diccionarios",
      "title_pt": "Obter dados de dicion\u00e1rios"
    }
  },
  "nbformat": 4,
  "nbformat_minor": 2
}