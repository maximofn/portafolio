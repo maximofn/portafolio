{
  "cells": [
    {
      "cell_type": "markdown",
      "metadata": {},
      "source": [
        "# Obtenha dados de dicion\u00e1rios"
      ]
    },
    {
      "cell_type": "markdown",
      "metadata": {},
      "source": [
        " > Aviso: Este post foi traduzido para o portugu\u00eas usando um modelo de tradu\u00e7\u00e3o autom\u00e1tica. Por favor, me avise se encontrar algum erro."
      ]
    },
    {
      "cell_type": "markdown",
      "metadata": {},
      "source": [
        "Imaginemos que temos o seguinte dicion\u00e1rio"
      ]
    },
    {
      "cell_type": "code",
      "execution_count": 2,
      "metadata": {},
      "outputs": [],
      "source": [
        "dictionary = {\n",
        "    \"id\": 1,\n",
        "    \"name\": \"John\",\n",
        "    \"age\": 30\n",
        "}"
      ]
    },
    {
      "cell_type": "markdown",
      "metadata": {},
      "source": [
        "Se queremos obter o valor da idade, o que geralmente se faz \u00e9 `dictionary[\"age\"]`"
      ]
    },
    {
      "cell_type": "code",
      "execution_count": 3,
      "metadata": {},
      "outputs": [
        {
          "data": {
            "text/plain": [
              "30"
            ]
          },
          "execution_count": 3,
          "metadata": {},
          "output_type": "execute_result"
        }
      ],
      "source": [
        "dictionary[\"age\"]"
      ]
    },
    {
      "cell_type": "markdown",
      "metadata": {},
      "source": [
        "Mas, o que acontece se a `key` que colocamos n\u00e3o est\u00e1 no dicion\u00e1rio? Vai ocorrer um erro?"
      ]
    },
    {
      "cell_type": "code",
      "execution_count": 4,
      "metadata": {},
      "outputs": [
        {
          "ename": "KeyError",
          "evalue": "'country'",
          "output_type": "error",
          "traceback": [
            "\u001b[0;31m---------------------------------------------------------------------------\u001b[0m",
            "\u001b[0;31mKeyError\u001b[0m                                  Traceback (most recent call last)",
            "Cell \u001b[0;32mIn[4], line 1\u001b[0m\n\u001b[0;32m----> 1\u001b[0m \u001b[43mdictionary\u001b[49m\u001b[43m[\u001b[49m\u001b[38;5;124;43m\"\u001b[39;49m\u001b[38;5;124;43mcountry\u001b[39;49m\u001b[38;5;124;43m\"\u001b[39;49m\u001b[43m]\u001b[49m\n",
            "\u001b[0;31mKeyError\u001b[0m: 'country'"
          ]
        }
      ],
      "source": [
        "dictionary[\"country\"]"
      ]
    },
    {
      "cell_type": "markdown",
      "metadata": {},
      "source": [
        "Portanto, se isso acontecer em produ\u00e7\u00e3o, o programa cair\u00e1"
      ]
    },
    {
      "cell_type": "markdown",
      "metadata": {},
      "source": [
        "Ent\u00e3o, para resolver isso, podemos usar um `try except` para lidar com o erro"
      ]
    },
    {
      "cell_type": "code",
      "execution_count": 5,
      "metadata": {},
      "outputs": [
        {
          "name": "stdout",
          "output_type": "stream",
          "text": [
            "Key not found\n"
          ]
        }
      ],
      "source": [
        "try:\n",
        "    dictionary[\"country\"]\n",
        "except KeyError:\n",
        "    print(\"Key not found\")"
      ]
    },
    {
      "cell_type": "markdown",
      "metadata": {},
      "source": [
        "Mas uma solu\u00e7\u00e3o para n\u00e3o encher o c\u00f3digo de `try except` \u00e9 usar o m\u00e9todo `get` que nos permite obter o valor de uma `key` e, se n\u00e3o existir, nos devolve um valor padr\u00e3o"
      ]
    },
    {
      "cell_type": "code",
      "execution_count": 6,
      "metadata": {},
      "outputs": [
        {
          "data": {
            "text/plain": [
              "'Key not found'"
            ]
          },
          "execution_count": 6,
          "metadata": {},
          "output_type": "execute_result"
        }
      ],
      "source": [
        "dictionary.get(\"country\", \"Key not found\")"
      ]
    },
    {
      "cell_type": "markdown",
      "metadata": {},
      "source": [
        "Outra op\u00e7\u00e3o \u00e9 n\u00e3o colocar a segunda op\u00e7\u00e3o, nesse caso obtemos `None` se a `key` n\u00e3o existir"
      ]
    },
    {
      "cell_type": "code",
      "execution_count": 9,
      "metadata": {},
      "outputs": [
        {
          "name": "stdout",
          "output_type": "stream",
          "text": [
            "None\n"
          ]
        }
      ],
      "source": [
        "country = dictionary.get(\"country\")\n",
        "print(country)"
      ]
    }
  ],
  "metadata": {
    "kernelspec": {
      "display_name": "base",
      "language": "python",
      "name": "python3"
    },
    "language_info": {
      "codemirror_mode": {
        "name": "ipython",
        "version": 3
      },
      "file_extension": ".py",
      "mimetype": "text/x-python",
      "name": "python",
      "nbconvert_exporter": "python",
      "pygments_lexer": "ipython3",
      "version": "3.12.5"
    },
    "maximofn": {
      "date": "2024-10-21",
      "description_en": "Get data of dictionaries in Python safely",
      "description_es": "Obtener datos de diccionarios en Python de forma segura",
      "description_pt": "Obter dados de dicion\u00e1rios em Python de forma segura",
      "end_url": "tips/get-data-of-dictionaries",
      "image": "https://pub-fb664c455eca46a2ba762a065ac900f7.r2.dev/get-data-of-dictionaries.webp",
      "keywords_en": "dictionary, get, data",
      "keywords_es": "diccionario, obtener, datos",
      "keywords_pt": "dicion\u00e1rio, obter, dados",
      "title_en": "Get data of dictionaries",
      "title_es": "Obtener datos de diccionarios",
      "title_pt": "Obter dados de dicion\u00e1rios"
    }
  },
  "nbformat": 4,
  "nbformat_minor": 2
}