{
  "cells": [
    {
      "cell_type": "markdown",
      "metadata": {},
      "source": [
        "# Declare redes neurais de maneira clara"
      ]
    },
    {
      "cell_type": "markdown",
      "metadata": {},
      "source": [
        " > Aviso: Este post foi traduzido para o portugu\u00eas usando um modelo de tradu\u00e7\u00e3o autom\u00e1tica. Por favor, me avise se encontrar algum erro."
      ]
    },
    {
      "cell_type": "markdown",
      "metadata": {},
      "source": [
        "Quando em PyTorch se cria uma rede neural como uma lista de camadas"
      ]
    },
    {
      "cell_type": "code",
      "execution_count": 2,
      "metadata": {},
      "outputs": [],
      "source": [
        "import torch\n",
        "import torch.nn as nn\n",
        "\n",
        "class Network(nn.Module):\n",
        "    def __init__(self):\n",
        "        super(Network, self).__init__()\n",
        "        self.layers = nn.ModuleList([\n",
        "            nn.Linear(1, 10),\n",
        "            nn.ReLU(),\n",
        "            nn.Linear(10, 1)\n",
        "        ])"
      ]
    },
    {
      "cell_type": "markdown",
      "metadata": {},
      "source": [
        "Depois iterar por ela no m\u00e9todo `forward` n\u00e3o \u00e9 t\u00e3o claro"
      ]
    },
    {
      "cell_type": "code",
      "execution_count": 3,
      "metadata": {},
      "outputs": [],
      "source": [
        "import torch\n",
        "import torch.nn as nn\n",
        "\n",
        "class Network(nn.Module):\n",
        "    def __init__(self):\n",
        "        super(Network, self).__init__()\n",
        "        self.layers = nn.ModuleList([\n",
        "            nn.Linear(1, 10),\n",
        "            nn.ReLU(),\n",
        "            nn.Linear(10, 1)\n",
        "        ])\n",
        "    \n",
        "    def forward(self, x):\n",
        "        for layer in self.layers:\n",
        "            x = layer(x)\n",
        "        return x"
      ]
    },
    {
      "cell_type": "markdown",
      "metadata": {},
      "source": [
        "No entanto, quando se cria uma rede neural como um dicion\u00e1rio de camadas"
      ]
    },
    {
      "cell_type": "code",
      "execution_count": 4,
      "metadata": {},
      "outputs": [],
      "source": [
        "import torch\n",
        "import torch.nn as nn\n",
        "\n",
        "class Network(nn.Module):\n",
        "    def __init__(self):\n",
        "        super(Network, self).__init__()\n",
        "        self.layers = nn.ModuleList({\n",
        "            'linear': nn.Linear(1, 10),\n",
        "            'activation': nn.ReLU(),\n",
        "            'output': nn.Linear(10, 1)\n",
        "        })"
      ]
    },
    {
      "cell_type": "markdown",
      "metadata": {},
      "source": [
        "Depois iterar por ela no m\u00e9todo `forward` \u00e9 mais claro"
      ]
    },
    {
      "cell_type": "code",
      "execution_count": 5,
      "metadata": {},
      "outputs": [],
      "source": [
        "import torch\n",
        "import torch.nn as nn\n",
        "\n",
        "class Network(nn.Module):\n",
        "    def __init__(self):\n",
        "        super(Network, self).__init__()\n",
        "        self.layers = nn.ModuleList({\n",
        "            'linear': nn.Linear(1, 10),\n",
        "            'activation': nn.ReLU(),\n",
        "            'output': nn.Linear(10, 1)\n",
        "        })\n",
        "    \n",
        "    def forward(self, x):\n",
        "        x = self.layers['linear'](x)\n",
        "        x = self.layers['activation'](x)\n",
        "        x = self.layers['output'](x)\n",
        "        return x"
      ]
    }
  ],
  "metadata": {
    "kernelspec": {
      "display_name": "base",
      "language": "python",
      "name": "python3"
    },
    "language_info": {
      "codemirror_mode": {
        "name": "ipython",
        "version": 3
      },
      "file_extension": ".py",
      "mimetype": "text/x-python",
      "name": "python",
      "nbconvert_exporter": "python",
      "pygments_lexer": "ipython3",
      "version": "3.10.9"
    },
    "maximofn": {
      "date": "2024-10-22",
      "description_en": "Declarar redes neuronales de forma clara en Pytorch",
      "description_es": "Declare neural networks clearly in Pytorch",
      "description_pt": "Declare redes neurais de forma clara no Pytorch",
      "end_url": "tips/declare-neural-networks-clearly",
      "image": "https://pub-fb664c455eca46a2ba762a065ac900f7.r2.dev/declare-neural-networks-cleary.webp",
      "keywords_en": "Pytorch, neural networks, layers, dictionary, clearly",
      "keywords_es": "Pytorch, redes neuronales, capas, diccionario, claramente",
      "keywords_pt": "Pytorch, redes neurais, camadas, dicion\u00e1rio, claramente",
      "title_en": "Declare neural networks clearly",
      "title_es": "Declarar redes neuronales de forma clara",
      "title_pt": "Declare redes neurais de forma clara"
    }
  },
  "nbformat": 4,
  "nbformat_minor": 2
}