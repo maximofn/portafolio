{
 "cells": [
  {
   "cell_type": "markdown",
   "metadata": {},
   "source": [
    "# Black Code Formatter"
   ]
  },
  {
   "cell_type": "markdown",
   "metadata": {},
   "source": [
    " > Disclaimer: This post has been translated to English using a machine translation model. Please, let me know if you find any mistakes."
   ]
  },
  {
   "cell_type": "markdown",
   "metadata": {},
   "source": [
    "If you have been programming in Python for a while, I suppose you know the [PEP8](https://peps.python.org/pep-0008/), which is a style guide for writing code in Python, [Black](https://black.readthedocs.io/en/stable/)"
   ]
  },
  {
   "cell_type": "markdown",
   "metadata": {},
   "source": [
    "Well, today I bring a Python code formatter that follows `PEP8` so that your codes are more readable and maintainable both by others and by your future self."
   ]
  },
  {
   "cell_type": "markdown",
   "metadata": {},
   "source": [
    "## Installation"
   ]
  },
  {
   "cell_type": "markdown",
   "metadata": {},
   "source": [
    "To install it, we can install it with conda\n",
    "\n",
    "```bash\n",
    "conda install conda-forge::black\n",
    "```\n",
    "\n",
    "or with pip\n",
    "\n",
    "```bash\n",
    "pip install black\n",
    "```"
   ]
  },
  {
   "cell_type": "markdown",
   "metadata": {},
   "source": [
    "## Example Code"
   ]
  },
  {
   "cell_type": "markdown",
   "metadata": {},
   "source": [
    "I am going to create a file called `sample_code.py` with the following code\n",
    "\n",
    "```python\n",
    "class myClass:\n",
    "def display_info(self, name, subname, age, description, address, city, zip_code, country, phone, email, license, departament):\n",
    "return f\"Name : {name}, Subname : {subname}, Age : {age}, Description : {description}, Address : {address}, City : {city}, Zip Code : {zip_code}, Country : {country}, Phone : {phone}, Email : {email}, License : {license}, Departament : {departament}\"\n",
    "    \n",
    "    def add_numbers(num1,\n",
    "                    num2):\n",
    "        return num1 + num2\n",
    "    \n",
    "    text = \"This is some text\"\n",
    "\n",
    "    letters = (\n",
    "        \"alpha\",\n",
    "        \"beta\",\n",
    "        \"gamma\",\n",
    "        \"delta\",\n",
    "        \"epsilon\",\n",
    "        \"zeta\",\n",
    "        \"eta\",\n",
    "        \"theta\",\n",
    "        \"iota\",\n",
    "        \"kappa\",\n",
    "    )\n",
    "```"
   ]
  },
  {
   "cell_type": "markdown",
   "metadata": {},
   "source": [
    "As we can see, it has the first two lines very long, the declaration of the second method in several lines, etc.\n",
    "\n",
    "![eyes](https://images.maximofn.com/eyes.webp)"
   ]
  },
  {
   "cell_type": "markdown",
   "metadata": {},
   "source": [
    "## Formatting the Code"
   ]
  },
  {
   "cell_type": "markdown",
   "metadata": {},
   "source": [
    "To format the code we have two options, do\n",
    "\n",
    "```bash\n",
    "black {source_file_or_directory}\n",
    "```\n",
    "\n",
    "or do\n",
    "\n",
    "```bash\n",
    "python -m black {source_file_or_directory}\n",
    "```"
   ]
  },
  {
   "cell_type": "markdown",
   "metadata": {},
   "source": [
    "So let's format it"
   ]
  },
  {
   "cell_type": "code",
   "execution_count": 3,
   "metadata": {},
   "outputs": [
    {
     "name": "stdout",
     "output_type": "stream",
     "text": [
      "\u001b[1mreformatted sample_code.py\u001b[0m\n",
      "\n",
      "\u001b[1mAll done! ✨ 🍰 ✨\u001b[0m\n",
      "\u001b[34m\u001b[1m1 file \u001b[0m\u001b[1mreformatted\u001b[0m.\n"
     ]
    }
   ],
   "source": [
    "!black sample_code.py"
   ]
  },
  {
   "cell_type": "markdown",
   "metadata": {},
   "source": [
    "After formatting it, the code looks like this\n",
    "\n",
    "```python\n",
    "class myClass:\n",
    "    def display_info(\n",
    "        self,\n",
    "name,\n",
    "subname,\n",
    "        age,\n",
    "description,\n",
    "        address,\n",
    "city,\n",
    "zip_code,\n",
    "country,\n",
    "phone,\n",
    "email,\n",
    "license,\n",
    "departament,\n",
    "    ):\n",
    "return f\"Name : {name}, Subname : {subname}, Age : {age}, Description : {description}, Address : {address}, City : {city}, Zip Code : {zip_code}, Country : {country}, Phone : {phone}, Email : {email}, License : {license}, Departament : {departament}\"\n",
    "\n",
    "    def add_numbers(num1, num2):\n",
    "        return num1 + num2\n",
    "\n",
    "    text = \"This is some text\"\n",
    "\n",
    "    letters = (\n",
    "        \"alpha\",\n",
    "        \"beta\",\n",
    "        \"gamma\",\n",
    "        \"delta\",\n",
    "epsilon\n",
    "        \"zeta\",\n",
    "\"eta\",\n",
    "        \"theta\",\n",
    "        \"iota\",\n",
    "        \"kappa\",\n",
    "    )\n",
    "```\n",
    "\n",
    "Much better, right?"
   ]
  }
 ],
 "metadata": {
  "kernelspec": {
   "display_name": "rag",
   "language": "python",
   "name": "python3"
  },
  "language_info": {
   "codemirror_mode": {
    "name": "ipython",
    "version": 3
   },
   "file_extension": ".py",
   "mimetype": "text/x-python",
   "name": "python",
   "nbconvert_exporter": "python",
   "pygments_lexer": "ipython3",
   "version": "3.11.10"
  },
  "maximofn": {
   "date": "2024-10-29",
   "description_en": "Your colleague Patric is writing code that is hard to read? Share with him this code formatter that I show you in this post! Come in and learn how to format code to make it more understandable. We are not going to solve Patric's problems, but at least you won't suffer when reading it",
   "description_es": "Tu compañero Manolo hace código que cuesta verlo? Pásale este formateador de código que te enseño en este post! Entra y aprende cómo formatear código para dejarlo más entendible. No vamos a solucionar los problemas de Manolo, pero tu al menos no vas a sufrir al leerlo",
   "description_pt": "Seu colega Filipao está escrevendo código que é difícil de ler? Compartilhe com ele este formatador de código que eu mostro neste post! Venha e aprenda a formatar o código para torná-lo mais compreensível. Não vamos resolver os problemas de Filipao, mas pelo menos você não sofrerá ao lê-lo",
   "end_url": "black",
   "image": "https://images.maximofn.com/black_formater_thumbnail.webp",
   "keywords_en": "black, code formatter, pep8, python, code readability, code maintainability, code style, code style guide",
   "keywords_es": "black, formateador de código, pep8, python, legibilidad de código, mantenimiento de código, estilo de código, guía de estilo de código",
   "keywords_pt": "black, formateador de código, pep8, python, legibilidad de código, mantenimiento de código, estilo de código, guía de estilo de código",
   "title_en": "Formateador de código Black",
   "title_es": "Code formatter Black",
   "title_pt": "Formatador de código Black"
  }
 },
 "nbformat": 4,
 "nbformat_minor": 2
}
