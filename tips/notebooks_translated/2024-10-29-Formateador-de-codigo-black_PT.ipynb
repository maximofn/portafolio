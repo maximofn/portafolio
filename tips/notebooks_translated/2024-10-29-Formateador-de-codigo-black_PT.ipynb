{
 "cells": [
  {
   "cell_type": "markdown",
   "metadata": {},
   "source": [
    "# Formatador de código Black"
   ]
  },
  {
   "cell_type": "markdown",
   "metadata": {},
   "source": [
    " > Aviso: Este post foi traduzido para o português usando um modelo de tradução automática. Por favor, me avise se encontrar algum erro."
   ]
  },
  {
   "cell_type": "markdown",
   "metadata": {},
   "source": [
    "Se você já programou em Python por um tempo, suponho que conheça o [PEP8](https://peps.python.org/pep-0008/), que é um guia de estilo para a escrita de código em Python, [Black](https://black.readthedocs.io/en/stable/)"
   ]
  },
  {
   "cell_type": "markdown",
   "metadata": {},
   "source": [
    "Pois hoje trago um formatador de código Python que segue o `PEP8` de maneira que seus códigos sejam mais legíveis e manteníveis tanto por outros como pelo seu eu do futuro."
   ]
  },
  {
   "cell_type": "markdown",
   "metadata": {},
   "source": [
    "## Instalação"
   ]
  },
  {
   "cell_type": "markdown",
   "metadata": {},
   "source": [
    "Para instalá-lo podemos instalá-lo com conda\n",
    "\n",
    "```bash\n",
    "conda install conda-forge::black\n",
    "```\n",
    "\n",
    "o com pip\n",
    "\n",
    "```bash\n",
    "pip install black\n",
    "```\n"
   ]
  },
  {
   "cell_type": "markdown",
   "metadata": {},
   "source": [
    "## Exemplo de código"
   ]
  },
  {
   "cell_type": "markdown",
   "metadata": {},
   "source": [
    "Vou criar um arquivo chamado `sample_code.py` com o seguinte código\n",
    "\n",
    "```python\n",
    "class myClass:\n",
    "def display_info(self, name, subname, age, description, address, city, zip_code, country, phone, email, license, departament):\n",
    "return f\"Name : {name}, Subname : {subname}, Age : {age}, Description : {description}, Address : {address}, City : {city}, Zip Code : {zip_code}, Country : {country}, Phone : {phone}, Email : {email}, License : {license}, Departament : {departament}\"\n",
    "    \n",
    "    def add_numbers(num1,\n",
    "                    num2):\n",
    "        return num1 + num2\n",
    "    \n",
    "    text = \"This is some text\"\n",
    "\n",
    "    letters = (\n",
    "        \"alpha\",\n",
    "        \"beta\",\n",
    "        \"gamma\",\n",
    "        \"delta\",\n",
    "        \"epsilon\",\n",
    "        \"zeta\",\n",
    "        \"eta\",\n",
    "        \"theta\",\n",
    "        \"iota\",\n",
    "        \"kappa\",\n",
    "    )\n",
    "```"
   ]
  },
  {
   "cell_type": "markdown",
   "metadata": {},
   "source": [
    "Como vemos, possui as duas primeiras linhas muito longas, a declaração do segundo método em várias linhas, etc.\n",
    "\n",
    "![olhos](https://pub-fb664c455eca46a2ba762a065ac900f7.r2.dev/eyes.webp)"
   ]
  },
  {
   "cell_type": "markdown",
   "metadata": {},
   "source": [
    "## Formatando o código"
   ]
  },
  {
   "cell_type": "markdown",
   "metadata": {},
   "source": [
    "Para formatar o código temos duas opções, fazer\n",
    "\n",
    "```bash\n",
    "black {source_file_or_directory}\n",
    "```\n",
    "\n",
    "o fazer\n",
    "\n",
    "```bash\n",
    "python -m black {source_file_or_directory}\n",
    "```\n"
   ]
  },
  {
   "cell_type": "markdown",
   "metadata": {},
   "source": [
    "Assim, vamos formatá-lo"
   ]
  },
  {
   "cell_type": "code",
   "execution_count": 3,
   "metadata": {},
   "outputs": [
    {
     "name": "stdout",
     "output_type": "stream",
     "text": [
      "\u001b[1mreformatted sample_code.py\u001b[0m\n",
      "\n",
      "\u001b[1mAll done! ✨ 🍰 ✨\u001b[0m\n",
      "\u001b[34m\u001b[1m1 file \u001b[0m\u001b[1mreformatted\u001b[0m.\n"
     ]
    }
   ],
   "source": [
    "!black sample_code.py"
   ]
  },
  {
   "cell_type": "markdown",
   "metadata": {},
   "source": [
    "Depois de formatá-lo, o código ficou assim\n",
    "\n",
    "```python\n",
    "class myClass:\n",
    "    def display_info(\n",
    "        self,\n",
    "name,\n",
    "subname,\n",
    "        age,\n",
    "description,\n",
    "        address,\n",
    "city,\n",
    "zip_code,\n",
    "country,\n",
    "phone,\n",
    "email,\n",
    "license,\n",
    "departament,\n",
    "    ):\n",
    "return f\"Name : {name}, Subname : {subname}, Age : {age}, Description : {description}, Address : {address}, City : {city}, Zip Code : {zip_code}, Country : {country}, Phone : {phone}, Email : {email}, License : {license}, Departament : {departament}\"\n",
    "\n",
    "    def add_numbers(num1, num2):\n",
    "        return num1 + num2\n",
    "\n",
    "    text = \"This is some text\"\n",
    "\n",
    "    letters = (\n",
    "        \"alpha\",\n",
    "        \"beta\",\n",
    "        \"gamma\",\n",
    "        \"delta\",\n",
    "epsilon\n",
    "        \"zeta\",\n",
    "\"eta\",\n",
    "        \"theta\",\n",
    "        \"iota\",\n",
    "        \"kappa\",\n",
    "    )\n",
    "```\n",
    "\n",
    "Muito melhor, não é?"
   ]
  }
 ],
 "metadata": {
  "kernelspec": {
   "display_name": "rag",
   "language": "python",
   "name": "python3"
  },
  "language_info": {
   "codemirror_mode": {
    "name": "ipython",
    "version": 3
   },
   "file_extension": ".py",
   "mimetype": "text/x-python",
   "name": "python",
   "nbconvert_exporter": "python",
   "pygments_lexer": "ipython3",
   "version": "3.11.10"
  },
  "maximofn": {
   "date": "2024-10-29",
   "description_en": "Your colleague Patric is writing code that is hard to read? Share with him this code formatter that I show you in this post! Come in and learn how to format code to make it more understandable. We are not going to solve Patric's problems, but at least you won't suffer when reading it",
   "description_es": "Tu compañero Manolo hace código que cuesta verlo? Pásale este formateador de código que te enseño en este post! Entra y aprende cómo formatear código para dejarlo más entendible. No vamos a solucionar los problemas de Manolo, pero tu al menos no vas a sufrir al leerlo",
   "description_pt": "Seu colega Filipao está escrevendo código que é difícil de ler? Compartilhe com ele este formatador de código que eu mostro neste post! Venha e aprenda a formatar o código para torná-lo mais compreensível. Não vamos resolver os problemas de Filipao, mas pelo menos você não sofrerá ao lê-lo",
   "end_url": "black",
   "image": "https://pub-fb664c455eca46a2ba762a065ac900f7.r2.dev/black_formater_thumbnail.webp",
   "keywords_en": "black, code formatter, pep8, python, code readability, code maintainability, code style, code style guide",
   "keywords_es": "black, formateador de código, pep8, python, legibilidad de código, mantenimiento de código, estilo de código, guía de estilo de código",
   "keywords_pt": "black, formateador de código, pep8, python, legibilidad de código, mantenimiento de código, estilo de código, guía de estilo de código",
   "title_en": "Formateador de código Black",
   "title_es": "Code formatter Black",
   "title_pt": "Formatador de código Black"
  }
 },
 "nbformat": 4,
 "nbformat_minor": 2
}
