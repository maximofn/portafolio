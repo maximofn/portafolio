{
  "cells": [
    {
      "cell_type": "markdown",
      "metadata": {},
      "source": [
        "# Memory Calculation"
      ]
    },
    {
      "cell_type": "markdown",
      "metadata": {},
      "source": [
        " > Disclaimer: This post has been translated to English using a machine translation model. Please, let me know if you find any mistakes."
      ]
    },
    {
      "cell_type": "markdown",
      "metadata": {},
      "source": [
        "If you want to calculate the memory you need to run a model, use this [space](https://huggingface.co/spaces/derek-thomas/transformer_calculator) from HuggingFace."
      ]
    },
    {
      "cell_type": "code",
      "execution_count": null,
      "metadata": {
        "vscode": {
          "languageId": "plaintext"
        }
      },
      "outputs": [],
      "source": [
        "<iframe\n",
        "\tsrc=\"https://derek-thomas-transformer-calculator.hf.space\"\n",
        "\tframeborder=\"0\"\n",
        "\twidth=\"850\"\n",
        "\theight=\"450\"\n",
        "></iframe>"
      ]
    }
  ],
  "metadata": {
    "maximofn": {
      "date": "2024-11-13",
      "description_es": "Espacio para calcular la memoria necesaria para ejecutar un modelo",
      "description_en": "Space to calculate the memory needed to run a model",
      "description_pt": "Espa\u00e7o para calcular a mem\u00f3ria necess\u00e1ria para executar um modelo",
      "end_url": "tips/memory-calculator",
      "image": "https://pub-fb664c455eca46a2ba762a065ac900f7.r2.dev/Huggies_Diffusor.webp",
      "keywords_en": "memory, calculator, model",
      "keywords_es": "memoria, calculadora, modelo",
      "keywords_pt": "mem\u00f3ria, calculadora, modelo",
      "title_es": "Memory Calculator",
      "title_en": "Memory Calculator",
      "title_pt": "Memory Calculator"
    },
    "language_info": {
      "name": "python"
    }
  },
  "nbformat": 4,
  "nbformat_minor": 2
}