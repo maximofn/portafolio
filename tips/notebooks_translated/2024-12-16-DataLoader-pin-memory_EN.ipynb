{
  "cells": [
    {
      "cell_type": "markdown",
      "metadata": {},
      "source": [
        "# DataLoader + pin_memory"
      ]
    },
    {
      "cell_type": "markdown",
      "metadata": {},
      "source": [
        " > Disclaimer: This post has been translated to English using a machine translation model. Please, let me know if you find any mistakes."
      ]
    },
    {
      "cell_type": "markdown",
      "metadata": {},
      "source": [
        "In PyTorch, when training neural networks, especially on large datasets, leveraging the `DataLoader` with `pin_memory=True` and setting `num_workers` to a positive number significantly increases performance."
      ]
    },
    {
      "cell_type": "markdown",
      "metadata": {},
      "source": [
        "`pin_memory=True` allows for faster transfer of data to the GPU by keeping it in pinned (page-locked) memory."
      ]
    },
    {
      "cell_type": "markdown",
      "metadata": {},
      "source": [
        "At the same time, `num_workers` determines the number of subprocesses used for data loading, allowing for asynchronous data retrieval without blocking the GPU calculation"
      ]
    },
    {
      "cell_type": "markdown",
      "metadata": {},
      "source": [
        "This combination minimizes the GPU downtime, ensuring more efficient use of hardware resources and faster model training times."
      ]
    },
    {
      "cell_type": "code",
      "execution_count": null,
      "metadata": {},
      "outputs": [],
      "source": [
        "data_loader = DataLoader(dataset, batch_size=32, shuffle=True, num_workers=4, pin_memory=True)"
      ]
    }
  ],
  "metadata": {
    "kernelspec": {
      "display_name": "base",
      "language": "python",
      "name": "python3"
    },
    "maximofn": {
      "date": "2024-12-16",
      "description_es": "Aumentar el rendimiento de DataLoader con pin_memory y num_workers",
      "description_en": "Increase DataLoader performance with pin_memory and num_workers",
      "description_pt": "Aumentar o desempenho de DataLoader com pin_memory e num_workers",
      "end_url": "tips/DataLoader-pin-memory",
      "image": "https://pub-fb664c455eca46a2ba762a065ac900f7.r2.dev/pytorch_pin_memory.webp",
      "keywords_en": "pytorch, dataloader, pin_memory, num_workers, gpu",
      "keywords_es": "pytorch, dataloader, pin_memory, num_workers, gpu",
      "keywords_pt": "pytorch, dataloader, pin_memory, num_workers, gpu",
      "title_es": "DataLoader con pin_memory y num_workers",
      "title_en": "DataLoader with pin_memory and num_workers",
      "title_pt": "DataLoader com pin_memory e num_workers"
    },
    "language_info": {
      "name": "python",
      "version": "3.12.5"
    }
  },
  "nbformat": 4,
  "nbformat_minor": 2
}