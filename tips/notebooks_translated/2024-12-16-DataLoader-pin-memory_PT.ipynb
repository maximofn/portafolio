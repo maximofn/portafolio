{
  "cells": [
    {
      "cell_type": "markdown",
      "metadata": {},
      "source": [
        "# DataLoader + pin_memory"
      ]
    },
    {
      "cell_type": "markdown",
      "metadata": {},
      "source": [
        " > Aviso: Este post foi traduzido para o portugu\u00eas usando um modelo de tradu\u00e7\u00e3o autom\u00e1tica. Por favor, me avise se encontrar algum erro."
      ]
    },
    {
      "cell_type": "markdown",
      "metadata": {},
      "source": [
        "Em PyTorch, quando se treinam redes neurais, especialmente em grandes conjuntos de dados, aproveitar o `DataLoader` com `pin_memory=True` e definir `num_workers` em um n\u00famero positivo aumenta significativamente o desempenho."
      ]
    },
    {
      "cell_type": "markdown",
      "metadata": {},
      "source": [
        "`pin_memory=True` permite uma transfer\u00eancia mais r\u00e1pida dos dados para a GPU mantendo-os na mem\u00f3ria `pinned` (bloqueada por p\u00e1gina)."
      ]
    },
    {
      "cell_type": "markdown",
      "metadata": {},
      "source": [
        "Ao mesmo tempo, `num_workers` determina o n\u00famero de subprocessos utilizados para a carga de dados, o que permite a obten\u00e7\u00e3o ass\u00edncrona de dados sem bloquear o c\u00e1lculo da GPU"
      ]
    },
    {
      "cell_type": "markdown",
      "metadata": {},
      "source": [
        "Essa combina\u00e7\u00e3o minimiza o tempo de inatividade da GPU, garantindo um uso mais eficiente dos recursos de hardware e tempos de treinamento do modelo mais r\u00e1pidos."
      ]
    },
    {
      "cell_type": "code",
      "execution_count": null,
      "metadata": {},
      "outputs": [],
      "source": [
        "data_loader = DataLoader(dataset, batch_size=32, shuffle=True, num_workers=4, pin_memory=True)"
      ]
    }
  ],
  "metadata": {
    "kernelspec": {
      "display_name": "base",
      "language": "python",
      "name": "python3"
    },
    "maximofn": {
      "date": "2024-12-16",
      "description_es": "Aumentar el rendimiento de DataLoader con pin_memory y num_workers",
      "description_en": "Increase DataLoader performance with pin_memory and num_workers",
      "description_pt": "Aumentar o desempenho de DataLoader com pin_memory e num_workers",
      "end_url": "tips/DataLoader-pin-memory",
      "image": "https://images.maximofn.com/pytorch_pin_memory.webp",
      "keywords_en": "pytorch, dataloader, pin_memory, num_workers, gpu",
      "keywords_es": "pytorch, dataloader, pin_memory, num_workers, gpu",
      "keywords_pt": "pytorch, dataloader, pin_memory, num_workers, gpu",
      "title_es": "DataLoader con pin_memory y num_workers",
      "title_en": "DataLoader with pin_memory and num_workers",
      "title_pt": "DataLoader com pin_memory e num_workers"
    },
    "language_info": {
      "name": "python",
      "version": "3.12.5"
    }
  },
  "nbformat": 4,
  "nbformat_minor": 2
}