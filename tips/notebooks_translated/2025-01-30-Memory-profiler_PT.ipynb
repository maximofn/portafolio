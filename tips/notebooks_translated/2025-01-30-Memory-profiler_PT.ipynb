{
  "cells": [
    {
      "cell_type": "markdown",
      "metadata": {},
      "source": [
        "# Ver o uso de memória de um script"
      ]
    },
    {
      "cell_type": "markdown",
      "metadata": {},
      "source": [
        " > Aviso: Este post foi traduzido para o português usando um modelo de tradução automática. Por favor, me avise se encontrar algum erro."
      ]
    },
    {
      "cell_type": "markdown",
      "metadata": {},
      "source": [
        "Se um script estiver consumindo muita RAM, podemos monitorizá-lo para ver o que está consumindo."
      ]
    },
    {
      "cell_type": "markdown",
      "metadata": {},
      "source": [
        "## Instalação"
      ]
    },
    {
      "cell_type": "markdown",
      "metadata": {},
      "source": [
        "Para poder monitorizá-lo, vamos a instalar `memory_profiler`. Podemos instalá-lo com Conda\n",
        "\n",
        "``` bash\n",
        "conda install memory_profiler\n",
        "```\n",
        "\n",
        "ou com pip\n",
        "\n",
        "``` bash\n",
        "pip install memory_profiler\n",
        "```"
      ]
    },
    {
      "cell_type": "markdown",
      "metadata": {},
      "source": [
        "## Uso"
      ]
    },
    {
      "cell_type": "markdown",
      "metadata": {},
      "source": [
        "### Decorador"
      ]
    },
    {
      "cell_type": "markdown",
      "metadata": {},
      "source": [
        "Podemos colocar um decorador na função que queremos monitorar.\n",
        "\n",
        "``` python\n",
        "from memory_profiler import profile\n",
        "\n",
        "@profile\n",
        "def minha_funcao():\n",
        "    pass\n",
        "```\n"
      ]
    },
    {
      "cell_type": "code",
      "execution_count": 5,
      "metadata": {},
      "outputs": [
        {
          "name": "stdout",
          "output_type": "stream",
          "text": [
            "Overwriting memory_profiler_decorator.py\n"
          ]
        }
      ],
      "source": [
        "%%writefile memory_profiler_decorator.py\n",
        "from memory_profiler import profile\n",
        "\n",
        "@profile\n",
        "def my_function():\n",
        "    a = [1] * (10 ** 6)\n",
        "    b = [2] * (2 * 10 ** 7)\n",
        "    del b\n",
        "    return a\n",
        "\n",
        "if __name__ == '__main__':\n",
        "    my_function()"
      ]
    },
    {
      "cell_type": "markdown",
      "metadata": {},
      "source": [
        "Agora o executamos usando `-m memory_profiles memory_profiler_decorator.py`"
      ]
    },
    {
      "cell_type": "code",
      "execution_count": 6,
      "metadata": {},
      "outputs": [
        {
          "name": "stdout",
          "output_type": "stream",
          "text": [
            "Filename: memory_profiler_decorator.py\n",
            "\n",
            "Line #    Mem usage    Increment  Occurrences   Line Contents\n",
            "=============================================================\n",
            "     3     49.5 MiB     49.5 MiB           1   @profile\n",
            "     4                                         def my_function():\n",
            "     5     57.0 MiB      7.5 MiB           1       a = [1] * (10 ** 6)\n",
            "     6    209.6 MiB    152.6 MiB           1       b = [2] * (2 * 10 ** 7)\n",
            "     7     57.2 MiB   -152.4 MiB           1       del b\n",
            "     8     57.2 MiB      0.0 MiB           1       return a\n",
            "\n",
            "\n"
          ]
        }
      ],
      "source": [
        "!python -m memory_profiler memory_profiler_decorator.py"
      ]
    },
    {
      "cell_type": "markdown",
      "metadata": {},
      "source": [
        "Como vemos, obtemos o uso de memória de cada linha do script."
      ]
    },
    {
      "cell_type": "markdown",
      "metadata": {},
      "source": [
        "## Uso de memória ao longo do tempo"
      ]
    },
    {
      "cell_type": "markdown",
      "metadata": {},
      "source": [
        "Podemos obter um gráfico do uso de memória ao longo do tempo fazendo\n",
        "\n",
        "``` bash\n",
        "mprof run memory_profiler_decorator.py\n",
        "mprof plot\n",
        "```"
      ]
    },
    {
      "cell_type": "code",
      "execution_count": 7,
      "metadata": {},
      "outputs": [
        {
          "name": "stdout",
          "output_type": "stream",
          "text": [
            "mprof: Sampling memory every 0.1s\n",
            "running new process\n",
            "running as a Python program...\n",
            "Filename: memory_profiler_decorator.py\n",
            "\n",
            "Line #    Mem usage    Increment  Occurrences   Line Contents\n",
            "=============================================================\n",
            "     3     49.5 MiB     49.5 MiB           1   @profile\n",
            "     4                                         def my_function():\n",
            "     5     57.0 MiB      7.5 MiB           1       a = [1] * (10 ** 6)\n",
            "     6    209.6 MiB    152.6 MiB           1       b = [2] * (2 * 10 ** 7)\n",
            "     7     57.2 MiB   -152.4 MiB           1       del b\n",
            "     8     57.2 MiB      0.0 MiB           1       return a\n",
            "\n",
            "\n"
          ]
        }
      ],
      "source": [
        "!mprof run memory_profiler_decorator.py"
      ]
    },
    {
      "cell_type": "code",
      "execution_count": 11,
      "metadata": {},
      "outputs": [
        {
          "name": "stdout",
          "output_type": "stream",
          "text": [
            "Using last profile data.\n",
            "Figure(1260x540)\n"
          ]
        }
      ],
      "source": [
        "!mprof plot"
      ]
    },
    {
      "cell_type": "markdown",
      "metadata": {},
      "source": [
        "Ao executá-lo, é criado este gráfico\n",
        "\n",
        "![memory_profiler plot](https://images.maximofn.com/memory_profiler_plot.webp)"
      ]
    }
  ],
  "metadata": {
    "kernelspec": {
      "display_name": "memory_profiler",
      "language": "python",
      "name": "python3"
    },
    "language_info": {
      "codemirror_mode": {
        "name": "ipython",
        "version": 3
      },
      "file_extension": ".py",
      "mimetype": "text/x-python",
      "name": "python",
      "nbconvert_exporter": "python",
      "pygments_lexer": "ipython3",
      "version": "3.12.8"
    },
    "maximofn": {
      "date": "2025-01-30",
      "description_en": "See the memory usage of a script",
      "description_es": "Ver el uso de memoria de un script",
      "description_pt": "Ver o uso de memória de um script",
      "end_url": "tips/Memory-profiler",
      "image": "https://images.maximofn.com/memory_profiling_thumbnail.webp",
      "image_hover_path": "https://images.maximofn.com/memory_profiling_thumbnail.webp",
      "keywords_en": "python, memory, profiler",
      "keywords_es": "python, memoria, profiler",
      "keywords_pt": "python, memória, profiler",
      "title_en": "See the memory usage of a script",
      "title_es": "Ver el uso de memoria de un script",
      "title_pt": "Ver o uso de memória de um script"
    }
  },
  "nbformat": 4,
  "nbformat_minor": 2
}
